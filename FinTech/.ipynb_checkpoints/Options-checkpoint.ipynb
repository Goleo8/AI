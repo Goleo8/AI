{
 "cells": [
  {
   "cell_type": "markdown",
   "metadata": {},
   "source": [
    "### 债券+期权\n",
    "\n",
    "* 合成可转债  \n",
    "通过组合债券+看涨期权：当股票价格上涨时，期权跟随上涨，股票价格下跌时，期权过期，从而达到可转债的效果\n",
    "\n",
    "* 风险厌恶投资组合   \n",
    "将90%的资金投入到***无风险***固定利率产品，并且将10%的资金买入期权，从而最大亏损是.9*$r$-.1。r是无风险利率   \n",
    "要点：\n",
    "    1. 当10%期权盈利后，要重新调整配比，将一部分资金买入无风险利率产品，从而90%资金用于投资无风险利率产品\n"
   ]
  },
  {
   "cell_type": "code",
   "execution_count": null,
   "metadata": {
    "collapsed": true
   },
   "outputs": [],
   "source": []
  }
 ],
 "metadata": {
  "kernelspec": {
   "display_name": "Python 3",
   "language": "python",
   "name": "python3"
  },
  "language_info": {
   "codemirror_mode": {
    "name": "ipython",
    "version": 3
   },
   "file_extension": ".py",
   "mimetype": "text/x-python",
   "name": "python",
   "nbconvert_exporter": "python",
   "pygments_lexer": "ipython3",
   "version": "3.6.2"
  }
 },
 "nbformat": 4,
 "nbformat_minor": 2
}
