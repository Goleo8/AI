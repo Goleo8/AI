{
 "cells": [
  {
   "cell_type": "code",
   "execution_count": 5,
   "metadata": {},
   "outputs": [
    {
     "name": "stderr",
     "output_type": "stream",
     "text": [
      "/home/ec2-user/anaconda3/envs/tensorflow_p36/lib/python3.6/site-packages/h5py/__init__.py:36: FutureWarning: Conversion of the second argument of issubdtype from `float` to `np.floating` is deprecated. In future, it will be treated as `np.float64 == np.dtype(float).type`.\n",
      "  from ._conv import register_converters as _register_converters\n",
      "Using TensorFlow backend.\n"
     ]
    }
   ],
   "source": [
    "import keras\n",
    "import pandas as pd\n",
    "import numpy as np\n",
    "from sklearn.datasets import load_svmlight_file\n",
    "from sklearn.utils import resample\n",
    "from sklearn.ensemble import RandomForestClassifier\n",
    "from sklearn.model_selection import GridSearchCV\n",
    "from sklearn.model_selection import train_test_split\n",
    "from sklearn.decomposition import PCA\n",
    "from sklearn.metrics import accuracy_score,precision_score, precision_recall_curve, recall_score, roc_curve, auc, confusion_matrix,classification_report\n",
    "import numpy as np\n",
    "import matplotlib.pyplot as plt\n",
    "%matplotlib inline"
   ]
  },
  {
   "cell_type": "code",
   "execution_count": 3,
   "metadata": {},
   "outputs": [
    {
     "name": "stdout",
     "output_type": "stream",
     "text": [
      "totale 362896\r\n",
      "drwxrwxr-x 2 ec2-user ec2-user     4096 16 gen 22.37 .\r\n",
      "drwxrwxr-x 4 ec2-user ec2-user     4096 16 gen 22.37 ..\r\n",
      "-rw-rw-r-- 1 ec2-user ec2-user 93295897 16 gen 22.37 demo-g1.txt\r\n",
      "-rw-rw-r-- 1 ec2-user ec2-user 14890433 16 gen 22.37 demo-g1-v2.txt\r\n",
      "-rw-rw-r-- 1 ec2-user ec2-user 86071971 16 gen 22.37 demo-g3.txt\r\n",
      "-rw-rw-r-- 1 ec2-user ec2-user  5459634 16 gen 22.37 demo-g3-v2-test.txt\r\n",
      "-rw-rw-r-- 1 ec2-user ec2-user 13160539 16 gen 22.37 demo-g3-v2.txt\r\n",
      "-rw-rw-r-- 1 ec2-user ec2-user    50590 16 gen 22.37 em_survey_choice_ids.json\r\n",
      "-rw-rw-r-- 1 ec2-user ec2-user 69299446 16 gen 22.37 spark-demo-g1.json\r\n",
      "-rw-rw-r-- 1 ec2-user ec2-user 44667946 16 gen 22.37 spark-demo-g3.json\r\n",
      "-rw-rw-r-- 1 ec2-user ec2-user 44353740 16 gen 22.37 spark-demo-g3-v2.json\r\n",
      "-rw-rw-r-- 1 ec2-user ec2-user   324420 16 gen 22.37 url_entities.json\r\n"
     ]
    }
   ],
   "source": [
    "!ls -al data/"
   ]
  },
  {
   "cell_type": "code",
   "execution_count": 6,
   "metadata": {},
   "outputs": [],
   "source": [
    "data = load_svmlight_file('data/demo-g3-v2.txt')\n",
    "X,y=data[0],data[1]\n",
    "X_s,y_s=resample(X,y,n_samples=100000,replace=False)\n"
   ]
  },
  {
   "cell_type": "code",
   "execution_count": 7,
   "metadata": {},
   "outputs": [],
   "source": [
    "from sklearn.preprocessing import LabelEncoder\n",
    "le=LabelEncoder()\n",
    "y_e=le.fit_transform(y_s)"
   ]
  },
  {
   "cell_type": "code",
   "execution_count": 8,
   "metadata": {},
   "outputs": [],
   "source": [
    "X_train,X_test,y_train,y_test = train_test_split(X_s,y_e,test_size=.3,random_state=42)"
   ]
  },
  {
   "cell_type": "code",
   "execution_count": 9,
   "metadata": {},
   "outputs": [],
   "source": [
    "model = keras.Sequential()"
   ]
  },
  {
   "cell_type": "code",
   "execution_count": 11,
   "metadata": {},
   "outputs": [],
   "source": [
    "from keras.layers import Dense"
   ]
  },
  {
   "cell_type": "code",
   "execution_count": 12,
   "metadata": {},
   "outputs": [
    {
     "data": {
      "text/plain": [
       "array([ 0,  1,  2,  3,  4,  5,  6,  7,  8,  9, 10])"
      ]
     },
     "execution_count": 12,
     "metadata": {},
     "output_type": "execute_result"
    }
   ],
   "source": [
    "np.unique(y_e)"
   ]
  },
  {
   "cell_type": "code",
   "execution_count": 54,
   "metadata": {},
   "outputs": [],
   "source": [
    "model.add(Dense(128,activation='relu',input_shape=(X_train.shape[1],)))\n",
    "model.add(Dense(128,activation='relu'))\n",
    "model.add(Dense(128,activation='relu'))\n",
    "model.add(Dense(128,activation='relu'))\n",
    "model.add(Dense(128,activation='relu'))\n",
    "model.add(Dense(128,activation='relu'))\n",
    "model.add(Dense(128,activation='relu'))\n",
    "model.add(Dense(11,activation='softmax'))\n",
    "model.compile(optimizer='adam',loss='sparse_categorical_crossentropy',metrics=['accuracy'])"
   ]
  },
  {
   "cell_type": "code",
   "execution_count": 55,
   "metadata": {},
   "outputs": [
    {
     "name": "stdout",
     "output_type": "stream",
     "text": [
      "Train on 70000 samples, validate on 30000 samples\n",
      "Epoch 1/10\n",
      "70000/70000 [==============================] - 21s 297us/step - loss: 1.9650 - acc: 0.2917 - val_loss: 2.3585 - val_acc: 0.2063\n",
      "Epoch 2/10\n",
      "70000/70000 [==============================] - 19s 271us/step - loss: 1.9354 - acc: 0.3062 - val_loss: 2.4163 - val_acc: 0.2032\n",
      "Epoch 3/10\n",
      "70000/70000 [==============================] - 19s 275us/step - loss: 1.9362 - acc: 0.3046 - val_loss: 2.3355 - val_acc: 0.2030\n",
      "Epoch 4/10\n",
      "70000/70000 [==============================] - 19s 275us/step - loss: 1.9305 - acc: 0.3066 - val_loss: 2.3659 - val_acc: 0.2061\n",
      "Epoch 5/10\n",
      "70000/70000 [==============================] - 19s 274us/step - loss: 1.9232 - acc: 0.3094 - val_loss: 2.3565 - val_acc: 0.1979\n",
      "Epoch 6/10\n",
      "70000/70000 [==============================] - 19s 274us/step - loss: 1.9292 - acc: 0.3055 - val_loss: 2.3244 - val_acc: 0.2022\n",
      "Epoch 7/10\n",
      "70000/70000 [==============================] - 19s 274us/step - loss: 1.9252 - acc: 0.3088 - val_loss: 2.2959 - val_acc: 0.2001\n",
      "Epoch 8/10\n",
      "70000/70000 [==============================] - 19s 272us/step - loss: 1.9214 - acc: 0.3101 - val_loss: 2.3183 - val_acc: 0.2034\n",
      "Epoch 9/10\n",
      "70000/70000 [==============================] - 19s 272us/step - loss: 1.9168 - acc: 0.3089 - val_loss: 2.3475 - val_acc: 0.1981\n",
      "Epoch 10/10\n",
      "70000/70000 [==============================] - 19s 276us/step - loss: 1.9149 - acc: 0.3107 - val_loss: 2.3148 - val_acc: 0.2036\n"
     ]
    },
    {
     "data": {
      "text/plain": [
       "<keras.callbacks.History at 0x7f6412224080>"
      ]
     },
     "execution_count": 55,
     "metadata": {},
     "output_type": "execute_result"
    }
   ],
   "source": [
    "model.fit(X_train,y_train,epochs=10,batch_size=64,validation_data=(X_test,y_test))"
   ]
  },
  {
   "cell_type": "code",
   "execution_count": 43,
   "metadata": {},
   "outputs": [
    {
     "name": "stdout",
     "output_type": "stream",
     "text": [
      "30000/30000 [==============================] - 3s 93us/step\n"
     ]
    },
    {
     "data": {
      "text/plain": [
       "[2.3162487575531006, 0.2047]"
      ]
     },
     "execution_count": 43,
     "metadata": {},
     "output_type": "execute_result"
    }
   ],
   "source": [
    "model.evaluate(X_test,y_test)"
   ]
  },
  {
   "cell_type": "code",
   "execution_count": 44,
   "metadata": {},
   "outputs": [],
   "source": [
    "y_pred=model.predict(X_test)\n",
    "y_pred=np.argmax(y_pred,axis=1)"
   ]
  },
  {
   "cell_type": "code",
   "execution_count": 45,
   "metadata": {},
   "outputs": [],
   "source": [
    "def model_eva(model,X_test,y_test):\n",
    "    y_test_pred=model.predict(X_test)\n",
    "    y_test_pred=np.argmax(y_test_pred,axis=1)\n",
    "    print('precision_score:',precision_score(y_test,y_test_pred,average='macro'))\n",
    "    print(confusion_matrix(y_test,y_test_pred).T)\n",
    "    print(np.unique(y_test,return_counts=True))\n",
    "    print(np.unique(y_test_pred,return_counts=True))\n",
    "    print(classification_report(y_test,y_test_pred))\n",
    "    print(\"******************************************************************\")"
   ]
  },
  {
   "cell_type": "code",
   "execution_count": 56,
   "metadata": {
    "scrolled": true
   },
   "outputs": [
    {
     "name": "stdout",
     "output_type": "stream",
     "text": [
      "precision_score: 0.141861912475433\n",
      "[[ 605  388  439  354  333  263  190  148  112   77  163]\n",
      " [   0    0    0    0    0    0    0    0    0    0    0]\n",
      " [ 209  162  255  271  262  214  168  135   84   68   99]\n",
      " [ 101  116  328  368  346  245  153  123   83   64   80]\n",
      " [ 169  144  419  582  565  587  446  291  191  162  181]\n",
      " [ 218  174  556  932 1168 1234  970  781  571  433  643]\n",
      " [  25   19   71  136  200  243  195  165  128  119  175]\n",
      " [  12    8   27   26   59   60   58   70   49   41   63]\n",
      " [   4    0   11   21   14   21   21   20   13   18   26]\n",
      " [  14    6   20   33   43   50   44   51   60   32   94]\n",
      " [ 148  137  338  464  708  844  803  937  936  927 2770]]\n",
      "(array([ 0,  1,  2,  3,  4,  5,  6,  7,  8,  9, 10]), array([1505, 1154, 2464, 3187, 3698, 3761, 3048, 2721, 2227, 1941, 4294]))\n",
      "(array([ 0,  2,  3,  4,  5,  6,  7,  8,  9, 10]), array([3072, 1927, 2007, 3737, 7680, 1476,  473,  169,  447, 9012]))\n",
      "             precision    recall  f1-score   support\n",
      "\n",
      "          0       0.20      0.40      0.26      1505\n",
      "          1       0.00      0.00      0.00      1154\n",
      "          2       0.13      0.10      0.12      2464\n",
      "          3       0.18      0.12      0.14      3187\n",
      "          4       0.15      0.15      0.15      3698\n",
      "          5       0.16      0.33      0.22      3761\n",
      "          6       0.13      0.06      0.09      3048\n",
      "          7       0.15      0.03      0.04      2721\n",
      "          8       0.08      0.01      0.01      2227\n",
      "          9       0.07      0.02      0.03      1941\n",
      "         10       0.31      0.65      0.42      4294\n",
      "\n",
      "avg / total       0.16      0.20      0.16     30000\n",
      "\n",
      "******************************************************************\n"
     ]
    },
    {
     "name": "stderr",
     "output_type": "stream",
     "text": [
      "/home/ec2-user/anaconda3/envs/tensorflow_p36/lib/python3.6/site-packages/sklearn/metrics/classification.py:1135: UndefinedMetricWarning: Precision is ill-defined and being set to 0.0 in labels with no predicted samples.\n",
      "  'precision', 'predicted', average, warn_for)\n",
      "/home/ec2-user/anaconda3/envs/tensorflow_p36/lib/python3.6/site-packages/sklearn/metrics/classification.py:1135: UndefinedMetricWarning: Precision and F-score are ill-defined and being set to 0.0 in labels with no predicted samples.\n",
      "  'precision', 'predicted', average, warn_for)\n"
     ]
    }
   ],
   "source": [
    "model_eva(model,X_test,y_test)"
   ]
  },
  {
   "cell_type": "code",
   "execution_count": 47,
   "metadata": {},
   "outputs": [
    {
     "data": {
      "text/plain": [
       "(array([ 0,  2,  3,  4,  5,  6,  7,  8,  9, 10]),\n",
       " array([3551, 2386, 1161, 3414, 7035, 1960, 1189,  327,  153, 8824]))"
      ]
     },
     "execution_count": 47,
     "metadata": {},
     "output_type": "execute_result"
    }
   ],
   "source": [
    "np.unique(y_pred,return_counts=True)"
   ]
  },
  {
   "cell_type": "code",
   "execution_count": 48,
   "metadata": {},
   "outputs": [
    {
     "data": {
      "text/plain": [
       "(array([ 0,  1,  2,  3,  4,  5,  6,  7,  8,  9, 10]),\n",
       " array([1505, 1154, 2464, 3187, 3698, 3761, 3048, 2721, 2227, 1941, 4294]))"
      ]
     },
     "execution_count": 48,
     "metadata": {},
     "output_type": "execute_result"
    }
   ],
   "source": [
    "np.unique(y_test,return_counts=True)"
   ]
  },
  {
   "cell_type": "code",
   "execution_count": 53,
   "metadata": {},
   "outputs": [
    {
     "name": "stdout",
     "output_type": "stream",
     "text": [
      "precision_score: 0.31771046023522365\n",
      "[[2372 1620 1424  841  777  602  424  292  182  143  270]\n",
      " [   0    0    0    0    0    0    0    0    0    0    0]\n",
      " [ 261  215 1220  966  496  331  193  126   96   67  115]\n",
      " [  33   86  731 1713 1164  406  182  100   74   26   21]\n",
      " [ 396  456 1365 1901 3173 2611 1610 1116  745  536  652]\n",
      " [  69   59  440  920 1491 2569 1337  724  530  349  332]\n",
      " [  39   44  139  308  501  622 1525  997  460  297  291]\n",
      " [  11   12   16   41   54   91  314  841  447  213  128]\n",
      " [   2    1    0    2    2    7   15   56  284  212   49]\n",
      " [   0    0    0    3    2    6    9   21  108  262   93]\n",
      " [ 227  182  537  734 1068 1357 1562 1895 2227 2654 8082]]\n",
      "(array([ 0,  1,  2,  3,  4,  5,  6,  7,  8,  9, 10]), array([ 3410,  2675,  5872,  7429,  8728,  8602,  7171,  6168,  5153,\n",
      "        4759, 10033]))\n",
      "(array([ 0,  2,  3,  4,  5,  6,  7,  8,  9, 10]), array([ 8947,  4086,  4536, 14561,  8820,  5223,  2168,   630,   504,\n",
      "       20525]))\n",
      "             precision    recall  f1-score   support\n",
      "\n",
      "          0       0.27      0.70      0.38      3410\n",
      "          1       0.00      0.00      0.00      2675\n",
      "          2       0.30      0.21      0.25      5872\n",
      "          3       0.38      0.23      0.29      7429\n",
      "          4       0.22      0.36      0.27      8728\n",
      "          5       0.29      0.30      0.29      8602\n",
      "          6       0.29      0.21      0.25      7171\n",
      "          7       0.39      0.14      0.20      6168\n",
      "          8       0.45      0.06      0.10      5153\n",
      "          9       0.52      0.06      0.10      4759\n",
      "         10       0.39      0.81      0.53     10033\n",
      "\n",
      "avg / total       0.33      0.31      0.27     70000\n",
      "\n",
      "******************************************************************\n"
     ]
    },
    {
     "name": "stderr",
     "output_type": "stream",
     "text": [
      "/home/ec2-user/anaconda3/envs/tensorflow_p36/lib/python3.6/site-packages/sklearn/metrics/classification.py:1135: UndefinedMetricWarning: Precision is ill-defined and being set to 0.0 in labels with no predicted samples.\n",
      "  'precision', 'predicted', average, warn_for)\n",
      "/home/ec2-user/anaconda3/envs/tensorflow_p36/lib/python3.6/site-packages/sklearn/metrics/classification.py:1135: UndefinedMetricWarning: Precision and F-score are ill-defined and being set to 0.0 in labels with no predicted samples.\n",
      "  'precision', 'predicted', average, warn_for)\n"
     ]
    }
   ],
   "source": [
    "model_eva(model,X_train,y_train)"
   ]
  },
  {
   "cell_type": "code",
   "execution_count": null,
   "metadata": {},
   "outputs": [],
   "source": []
  }
 ],
 "metadata": {
  "kernelspec": {
   "display_name": "Python [conda env:tensorflow_p36]",
   "language": "python",
   "name": "conda-env-tensorflow_p36-py"
  },
  "language_info": {
   "codemirror_mode": {
    "name": "ipython",
    "version": 3
   },
   "file_extension": ".py",
   "mimetype": "text/x-python",
   "name": "python",
   "nbconvert_exporter": "python",
   "pygments_lexer": "ipython3",
   "version": "3.6.6"
  }
 },
 "nbformat": 4,
 "nbformat_minor": 2
}
