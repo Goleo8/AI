{
 "cells": [
  {
   "cell_type": "code",
   "execution_count": 1,
   "metadata": {},
   "outputs": [],
   "source": [
    "import pandas as pd\n",
    "import numpy as np\n",
    "from sklearn.datasets import load_svmlight_file"
   ]
  },
  {
   "cell_type": "code",
   "execution_count": 2,
   "metadata": {},
   "outputs": [],
   "source": [
    "data = load_svmlight_file('data/train.txt')\n",
    "X,y=data[0],data[1]"
   ]
  },
  {
   "cell_type": "code",
   "execution_count": 3,
   "metadata": {},
   "outputs": [
    {
     "name": "stderr",
     "output_type": "stream",
     "text": [
      "/Users/Goleo8/anaconda3/lib/python3.6/site-packages/sklearn/ensemble/weight_boosting.py:29: DeprecationWarning: numpy.core.umath_tests is an internal NumPy module and should not be imported. It will be removed in a future NumPy release.\n",
      "  from numpy.core.umath_tests import inner1d\n"
     ]
    }
   ],
   "source": [
    "from sklearn.ensemble import RandomForestClassifier\n",
    "from sklearn.model_selection import GridSearchCV\n",
    "from sklearn.model_selection import train_test_split"
   ]
  },
  {
   "cell_type": "code",
   "execution_count": 4,
   "metadata": {},
   "outputs": [],
   "source": [
    "X_train,X_test,y_train,y_test = train_test_split(X,y,test_size=.3,random_state=42)"
   ]
  },
  {
   "cell_type": "code",
   "execution_count": 12,
   "metadata": {},
   "outputs": [],
   "source": [
    "rfc = RandomForestClassifier(n_estimators=100,n_jobs=-1,oob_score=True,verbose=1)"
   ]
  },
  {
   "cell_type": "code",
   "execution_count": 13,
   "metadata": {},
   "outputs": [],
   "source": [
    "params=[{'max_depth':range(10,31,10)},]\n",
    "gscv=GridSearchCV(rfc,param_grid=params,cv=5,scoring='precision',verbose=1)"
   ]
  },
  {
   "cell_type": "code",
   "execution_count": 14,
   "metadata": {},
   "outputs": [
    {
     "name": "stdout",
     "output_type": "stream",
     "text": [
      "Fitting 5 folds for each of 3 candidates, totalling 15 fits\n"
     ]
    },
    {
     "name": "stderr",
     "output_type": "stream",
     "text": [
      "[Parallel(n_jobs=-1)]: Done  42 tasks      | elapsed:   23.1s\n",
      "[Parallel(n_jobs=-1)]: Done 100 out of 100 | elapsed:   51.9s finished\n",
      "[Parallel(n_jobs=4)]: Done  42 tasks      | elapsed:    0.3s\n",
      "[Parallel(n_jobs=4)]: Done 100 out of 100 | elapsed:    0.9s finished\n",
      "[Parallel(n_jobs=4)]: Done  42 tasks      | elapsed:    1.6s\n",
      "[Parallel(n_jobs=4)]: Done 100 out of 100 | elapsed:    3.8s finished\n",
      "[Parallel(n_jobs=-1)]: Done  42 tasks      | elapsed:   23.3s\n",
      "[Parallel(n_jobs=-1)]: Done 100 out of 100 | elapsed:   56.9s finished\n",
      "[Parallel(n_jobs=4)]: Done  42 tasks      | elapsed:    0.3s\n",
      "[Parallel(n_jobs=4)]: Done 100 out of 100 | elapsed:    0.9s finished\n",
      "[Parallel(n_jobs=4)]: Done  42 tasks      | elapsed:    1.5s\n",
      "[Parallel(n_jobs=4)]: Done 100 out of 100 | elapsed:    3.7s finished\n",
      "[Parallel(n_jobs=-1)]: Done  42 tasks      | elapsed:   21.9s\n",
      "[Parallel(n_jobs=-1)]: Done 100 out of 100 | elapsed:   50.4s finished\n",
      "[Parallel(n_jobs=4)]: Done  42 tasks      | elapsed:    0.3s\n",
      "[Parallel(n_jobs=4)]: Done 100 out of 100 | elapsed:    0.8s finished\n",
      "[Parallel(n_jobs=4)]: Done  42 tasks      | elapsed:    1.7s\n",
      "[Parallel(n_jobs=4)]: Done 100 out of 100 | elapsed:    3.9s finished\n",
      "[Parallel(n_jobs=-1)]: Done  42 tasks      | elapsed:   22.0s\n",
      "[Parallel(n_jobs=-1)]: Done 100 out of 100 | elapsed:   50.0s finished\n",
      "[Parallel(n_jobs=4)]: Done  42 tasks      | elapsed:    0.2s\n",
      "[Parallel(n_jobs=4)]: Done 100 out of 100 | elapsed:    0.9s finished\n",
      "[Parallel(n_jobs=4)]: Done  42 tasks      | elapsed:    1.6s\n",
      "[Parallel(n_jobs=4)]: Done 100 out of 100 | elapsed:    4.1s finished\n",
      "[Parallel(n_jobs=-1)]: Done  42 tasks      | elapsed:   23.8s\n",
      "[Parallel(n_jobs=-1)]: Done 100 out of 100 | elapsed:  1.0min finished\n",
      "[Parallel(n_jobs=4)]: Done  42 tasks      | elapsed:    0.2s\n",
      "[Parallel(n_jobs=4)]: Done 100 out of 100 | elapsed:    0.8s finished\n",
      "[Parallel(n_jobs=4)]: Done  42 tasks      | elapsed:    1.8s\n",
      "[Parallel(n_jobs=4)]: Done 100 out of 100 | elapsed:    4.2s finished\n",
      "[Parallel(n_jobs=-1)]: Done  42 tasks      | elapsed:  1.4min\n",
      "[Parallel(n_jobs=-1)]: Done 100 out of 100 | elapsed:  3.2min finished\n",
      "[Parallel(n_jobs=4)]: Done  42 tasks      | elapsed:    0.4s\n",
      "[Parallel(n_jobs=4)]: Done 100 out of 100 | elapsed:    1.3s finished\n",
      "[Parallel(n_jobs=4)]: Done  42 tasks      | elapsed:    2.5s\n",
      "[Parallel(n_jobs=4)]: Done 100 out of 100 | elapsed:    5.8s finished\n",
      "[Parallel(n_jobs=-1)]: Done  42 tasks      | elapsed:  1.4min\n",
      "[Parallel(n_jobs=-1)]: Done 100 out of 100 | elapsed:  3.1min finished\n",
      "[Parallel(n_jobs=4)]: Done  42 tasks      | elapsed:    0.4s\n",
      "[Parallel(n_jobs=4)]: Done 100 out of 100 | elapsed:    1.3s finished\n",
      "[Parallel(n_jobs=4)]: Done  42 tasks      | elapsed:    2.5s\n",
      "[Parallel(n_jobs=4)]: Done 100 out of 100 | elapsed:    6.1s finished\n",
      "[Parallel(n_jobs=-1)]: Done  42 tasks      | elapsed:  1.3min\n",
      "[Parallel(n_jobs=-1)]: Done 100 out of 100 | elapsed:  3.0min finished\n",
      "[Parallel(n_jobs=4)]: Done  42 tasks      | elapsed:    0.4s\n",
      "[Parallel(n_jobs=4)]: Done 100 out of 100 | elapsed:    1.4s finished\n",
      "[Parallel(n_jobs=4)]: Done  42 tasks      | elapsed:    2.4s\n",
      "[Parallel(n_jobs=4)]: Done 100 out of 100 | elapsed:    5.8s finished\n",
      "[Parallel(n_jobs=-1)]: Done  42 tasks      | elapsed:  1.4min\n",
      "[Parallel(n_jobs=-1)]: Done 100 out of 100 | elapsed:  3.4min finished\n",
      "[Parallel(n_jobs=4)]: Done  42 tasks      | elapsed:    0.4s\n",
      "[Parallel(n_jobs=4)]: Done 100 out of 100 | elapsed:    1.4s finished\n",
      "[Parallel(n_jobs=4)]: Done  42 tasks      | elapsed:    3.4s\n",
      "[Parallel(n_jobs=4)]: Done 100 out of 100 | elapsed:    7.2s finished\n",
      "[Parallel(n_jobs=-1)]: Done  42 tasks      | elapsed:  1.4min\n",
      "[Parallel(n_jobs=-1)]: Done 100 out of 100 | elapsed:  3.3min finished\n",
      "[Parallel(n_jobs=4)]: Done  42 tasks      | elapsed:    0.5s\n",
      "[Parallel(n_jobs=4)]: Done 100 out of 100 | elapsed:    1.4s finished\n",
      "[Parallel(n_jobs=4)]: Done  42 tasks      | elapsed:    2.9s\n",
      "[Parallel(n_jobs=4)]: Done 100 out of 100 | elapsed:    6.3s finished\n",
      "[Parallel(n_jobs=-1)]: Done  42 tasks      | elapsed:  2.9min\n",
      "[Parallel(n_jobs=-1)]: Done 100 out of 100 | elapsed:  6.8min finished\n",
      "[Parallel(n_jobs=4)]: Done  42 tasks      | elapsed:    0.8s\n",
      "[Parallel(n_jobs=4)]: Done 100 out of 100 | elapsed:    2.0s finished\n",
      "[Parallel(n_jobs=4)]: Done  42 tasks      | elapsed:    3.6s\n",
      "[Parallel(n_jobs=4)]: Done 100 out of 100 | elapsed:    8.3s finished\n",
      "[Parallel(n_jobs=-1)]: Done  42 tasks      | elapsed:  3.0min\n",
      "[Parallel(n_jobs=-1)]: Done 100 out of 100 | elapsed:  6.6min finished\n",
      "[Parallel(n_jobs=4)]: Done  42 tasks      | elapsed:    0.6s\n",
      "[Parallel(n_jobs=4)]: Done 100 out of 100 | elapsed:    1.7s finished\n",
      "[Parallel(n_jobs=4)]: Done  42 tasks      | elapsed:    3.5s\n",
      "[Parallel(n_jobs=4)]: Done 100 out of 100 | elapsed:    9.9s finished\n",
      "[Parallel(n_jobs=-1)]: Done  42 tasks      | elapsed:  2.9min\n",
      "[Parallel(n_jobs=-1)]: Done 100 out of 100 | elapsed:  6.4min finished\n",
      "[Parallel(n_jobs=4)]: Done  42 tasks      | elapsed:    0.6s\n",
      "[Parallel(n_jobs=4)]: Done 100 out of 100 | elapsed:    1.7s finished\n",
      "[Parallel(n_jobs=4)]: Done  42 tasks      | elapsed:    3.2s\n",
      "[Parallel(n_jobs=4)]: Done 100 out of 100 | elapsed:    7.7s finished\n",
      "[Parallel(n_jobs=-1)]: Done  42 tasks      | elapsed:  2.6min\n",
      "[Parallel(n_jobs=-1)]: Done 100 out of 100 | elapsed:  6.6min finished\n",
      "[Parallel(n_jobs=4)]: Done  42 tasks      | elapsed:    0.7s\n",
      "[Parallel(n_jobs=4)]: Done 100 out of 100 | elapsed:    1.8s finished\n",
      "[Parallel(n_jobs=4)]: Done  42 tasks      | elapsed:    3.3s\n",
      "[Parallel(n_jobs=4)]: Done 100 out of 100 | elapsed:    7.9s finished\n",
      "[Parallel(n_jobs=-1)]: Done  42 tasks      | elapsed:  2.9min\n",
      "[Parallel(n_jobs=-1)]: Done 100 out of 100 | elapsed:  6.5min finished\n",
      "[Parallel(n_jobs=4)]: Done  42 tasks      | elapsed:    0.7s\n",
      "[Parallel(n_jobs=4)]: Done 100 out of 100 | elapsed:    1.7s finished\n",
      "[Parallel(n_jobs=4)]: Done  42 tasks      | elapsed:    2.8s\n",
      "[Parallel(n_jobs=4)]: Done 100 out of 100 | elapsed:    6.6s finished\n",
      "[Parallel(n_jobs=1)]: Done  15 out of  15 | elapsed: 60.0min finished\n",
      "[Parallel(n_jobs=-1)]: Done  42 tasks      | elapsed:  3.2min\n",
      "[Parallel(n_jobs=-1)]: Done 100 out of 100 | elapsed: 20.0min finished\n"
     ]
    },
    {
     "data": {
      "text/plain": [
       "GridSearchCV(cv=5, error_score='raise',\n",
       "       estimator=RandomForestClassifier(bootstrap=True, class_weight=None, criterion='gini',\n",
       "            max_depth=None, max_features='auto', max_leaf_nodes=None,\n",
       "            min_impurity_decrease=0.0, min_impurity_split=None,\n",
       "            min_samples_leaf=1, min_samples_split=2,\n",
       "            min_weight_fraction_leaf=0.0, n_estimators=100, n_jobs=-1,\n",
       "            oob_score=True, random_state=None, verbose=1, warm_start=False),\n",
       "       fit_params=None, iid=True, n_jobs=1,\n",
       "       param_grid=[{'max_depth': range(10, 31, 10)}],\n",
       "       pre_dispatch='2*n_jobs', refit=True, return_train_score='warn',\n",
       "       scoring='precision', verbose=1)"
      ]
     },
     "execution_count": 14,
     "metadata": {},
     "output_type": "execute_result"
    }
   ],
   "source": [
    "gscv.fit(X_train,y_train)"
   ]
  },
  {
   "cell_type": "code",
   "execution_count": 15,
   "metadata": {},
   "outputs": [
    {
     "data": {
      "text/plain": [
       "RandomForestClassifier(bootstrap=True, class_weight=None, criterion='gini',\n",
       "            max_depth=30, max_features='auto', max_leaf_nodes=None,\n",
       "            min_impurity_decrease=0.0, min_impurity_split=None,\n",
       "            min_samples_leaf=1, min_samples_split=2,\n",
       "            min_weight_fraction_leaf=0.0, n_estimators=100, n_jobs=-1,\n",
       "            oob_score=True, random_state=None, verbose=1, warm_start=False)"
      ]
     },
     "execution_count": 15,
     "metadata": {},
     "output_type": "execute_result"
    }
   ],
   "source": [
    "gscv.best_estimator_"
   ]
  },
  {
   "cell_type": "code",
   "execution_count": 16,
   "metadata": {},
   "outputs": [
    {
     "name": "stderr",
     "output_type": "stream",
     "text": [
      "[Parallel(n_jobs=4)]: Done  42 tasks      | elapsed:    5.4s\n",
      "[Parallel(n_jobs=4)]: Done 100 out of 100 | elapsed:   11.5s finished\n"
     ]
    }
   ],
   "source": [
    "y_train_pred=gscv.best_estimator_.predict(X_train)"
   ]
  },
  {
   "cell_type": "code",
   "execution_count": 18,
   "metadata": {},
   "outputs": [],
   "source": [
    "from sklearn.metrics import precision_score\n",
    "from sklearn.metrics import roc_curve\n",
    "from sklearn.metrics import confusion_matrix"
   ]
  },
  {
   "cell_type": "code",
   "execution_count": 19,
   "metadata": {},
   "outputs": [
    {
     "name": "stdout",
     "output_type": "stream",
     "text": [
      "0.7564580858845629\n"
     ]
    },
    {
     "data": {
      "text/plain": [
       "array([[144572,  28939],\n",
       "       [ 46545,  94525]])"
      ]
     },
     "execution_count": 19,
     "metadata": {},
     "output_type": "execute_result"
    }
   ],
   "source": [
    "print(precision_score(y_train,y_train_pred))\n",
    "confusion_matrix(y_train,y_train_pred)"
   ]
  },
  {
   "cell_type": "code",
   "execution_count": 20,
   "metadata": {},
   "outputs": [
    {
     "data": {
      "text/plain": [
       "0.6972417278856637"
      ]
     },
     "execution_count": 20,
     "metadata": {},
     "output_type": "execute_result"
    }
   ],
   "source": [
    "gscv.best_estimator_.oob_score_"
   ]
  },
  {
   "cell_type": "code",
   "execution_count": 21,
   "metadata": {},
   "outputs": [
    {
     "name": "stderr",
     "output_type": "stream",
     "text": [
      "[Parallel(n_jobs=4)]: Done  42 tasks      | elapsed:    1.7s\n",
      "[Parallel(n_jobs=4)]: Done 100 out of 100 | elapsed:    3.9s finished\n"
     ]
    }
   ],
   "source": [
    "y_test_pred=gscv.best_estimator_.predict(X_test)"
   ]
  },
  {
   "cell_type": "code",
   "execution_count": 22,
   "metadata": {},
   "outputs": [
    {
     "name": "stdout",
     "output_type": "stream",
     "text": [
      "0.7074687800192123\n"
     ]
    },
    {
     "data": {
      "text/plain": [
       "array([[58918, 15861],\n",
       "       [24362, 35680]])"
      ]
     },
     "execution_count": 22,
     "metadata": {},
     "output_type": "execute_result"
    }
   ],
   "source": [
    "print(precision_score(y_test,y_test_pred))\n",
    "confusion_matrix(y_test,y_test_pred)"
   ]
  },
  {
   "cell_type": "code",
   "execution_count": 23,
   "metadata": {},
   "outputs": [],
   "source": [
    "rfc = RandomForestClassifier(max_depth=30,n_jobs=-1,oob_score=True,verbose=1)\n",
    "params=[{'n_estimators':range(100,501,100)},]\n",
    "gscv=GridSearchCV(rfc,param_grid=params,cv=5,scoring='precision',verbose=1)"
   ]
  },
  {
   "cell_type": "code",
   "execution_count": 25,
   "metadata": {},
   "outputs": [
    {
     "name": "stdout",
     "output_type": "stream",
     "text": [
      "Fitting 5 folds for each of 5 candidates, totalling 25 fits\n"
     ]
    },
    {
     "name": "stderr",
     "output_type": "stream",
     "text": [
      "[Parallel(n_jobs=-1)]: Done  42 tasks      | elapsed:  3.1min\n",
      "[Parallel(n_jobs=-1)]: Done 100 out of 100 | elapsed:  7.5min finished\n",
      "[Parallel(n_jobs=4)]: Done  42 tasks      | elapsed:    0.8s\n",
      "[Parallel(n_jobs=4)]: Done 100 out of 100 | elapsed:    2.1s finished\n",
      "[Parallel(n_jobs=4)]: Done  42 tasks      | elapsed:    3.7s\n",
      "[Parallel(n_jobs=4)]: Done 100 out of 100 | elapsed:    8.4s finished\n",
      "[Parallel(n_jobs=-1)]: Done  42 tasks      | elapsed:  3.6min\n",
      "[Parallel(n_jobs=-1)]: Done 100 out of 100 | elapsed:  8.6min finished\n",
      "[Parallel(n_jobs=4)]: Done  42 tasks      | elapsed:    0.9s\n",
      "[Parallel(n_jobs=4)]: Done 100 out of 100 | elapsed:    2.2s finished\n",
      "[Parallel(n_jobs=4)]: Done  42 tasks      | elapsed:    4.5s\n",
      "[Parallel(n_jobs=4)]: Done 100 out of 100 | elapsed:   10.0s finished\n",
      "[Parallel(n_jobs=-1)]: Done  42 tasks      | elapsed:  4.2min\n",
      "[Parallel(n_jobs=-1)]: Done 100 out of 100 | elapsed: 10.5min finished\n",
      "[Parallel(n_jobs=4)]: Done  42 tasks      | elapsed:    0.7s\n",
      "[Parallel(n_jobs=4)]: Done 100 out of 100 | elapsed:    2.1s finished\n",
      "[Parallel(n_jobs=4)]: Done  42 tasks      | elapsed:    4.7s\n",
      "[Parallel(n_jobs=4)]: Done 100 out of 100 | elapsed:   10.5s finished\n",
      "[Parallel(n_jobs=-1)]: Done  42 tasks      | elapsed:  4.9min\n",
      "[Parallel(n_jobs=-1)]: Done 100 out of 100 | elapsed:  9.3min finished\n",
      "[Parallel(n_jobs=4)]: Done  42 tasks      | elapsed:    1.1s\n",
      "[Parallel(n_jobs=4)]: Done 100 out of 100 | elapsed:    2.7s finished\n",
      "[Parallel(n_jobs=4)]: Done  42 tasks      | elapsed:    7.0s\n",
      "[Parallel(n_jobs=4)]: Done 100 out of 100 | elapsed:   16.4s finished\n",
      "[Parallel(n_jobs=-1)]: Done  42 tasks      | elapsed:  4.6min\n",
      "[Parallel(n_jobs=-1)]: Done 100 out of 100 | elapsed:  9.2min finished\n",
      "[Parallel(n_jobs=4)]: Done  42 tasks      | elapsed:    0.6s\n",
      "[Parallel(n_jobs=4)]: Done 100 out of 100 | elapsed:    1.8s finished\n",
      "[Parallel(n_jobs=4)]: Done  42 tasks      | elapsed:    3.4s\n",
      "[Parallel(n_jobs=4)]: Done 100 out of 100 | elapsed:    8.2s finished\n",
      "[Parallel(n_jobs=-1)]: Done  42 tasks      | elapsed:  3.4min\n",
      "[Parallel(n_jobs=-1)]: Done 192 tasks      | elapsed: 14.4min\n",
      "[Parallel(n_jobs=-1)]: Done 200 out of 200 | elapsed: 15.0min finished\n",
      "[Parallel(n_jobs=4)]: Done  42 tasks      | elapsed:    0.9s\n",
      "[Parallel(n_jobs=4)]: Done 192 tasks      | elapsed:    3.4s\n",
      "[Parallel(n_jobs=4)]: Done 200 out of 200 | elapsed:    3.5s finished\n",
      "[Parallel(n_jobs=4)]: Done  42 tasks      | elapsed:    3.7s\n",
      "[Parallel(n_jobs=4)]: Done 192 tasks      | elapsed:   17.6s\n",
      "[Parallel(n_jobs=4)]: Done 200 out of 200 | elapsed:   18.3s finished\n",
      "[Parallel(n_jobs=-1)]: Done  42 tasks      | elapsed:  2.9min\n",
      "[Parallel(n_jobs=-1)]: Done 192 tasks      | elapsed: 13.7min\n",
      "[Parallel(n_jobs=-1)]: Done 200 out of 200 | elapsed: 14.2min finished\n",
      "[Parallel(n_jobs=4)]: Done  42 tasks      | elapsed:    0.7s\n",
      "[Parallel(n_jobs=4)]: Done 192 tasks      | elapsed:    3.9s\n",
      "[Parallel(n_jobs=4)]: Done 200 out of 200 | elapsed:    4.0s finished\n",
      "[Parallel(n_jobs=4)]: Done  42 tasks      | elapsed:    3.2s\n",
      "[Parallel(n_jobs=4)]: Done 192 tasks      | elapsed:   15.2s\n",
      "[Parallel(n_jobs=4)]: Done 200 out of 200 | elapsed:   15.8s finished\n",
      "[Parallel(n_jobs=-1)]: Done  42 tasks      | elapsed:  2.9min\n",
      "[Parallel(n_jobs=-1)]: Done 192 tasks      | elapsed: 12.5min\n",
      "[Parallel(n_jobs=-1)]: Done 200 out of 200 | elapsed: 13.0min finished\n",
      "[Parallel(n_jobs=4)]: Done  42 tasks      | elapsed:    0.6s\n",
      "[Parallel(n_jobs=4)]: Done 192 tasks      | elapsed:    3.3s\n",
      "[Parallel(n_jobs=4)]: Done 200 out of 200 | elapsed:    3.5s finished\n",
      "[Parallel(n_jobs=4)]: Done  42 tasks      | elapsed:    3.0s\n",
      "[Parallel(n_jobs=4)]: Done 192 tasks      | elapsed:   13.7s\n",
      "[Parallel(n_jobs=4)]: Done 200 out of 200 | elapsed:   14.3s finished\n",
      "[Parallel(n_jobs=-1)]: Done  42 tasks      | elapsed:  2.5min\n",
      "[Parallel(n_jobs=-1)]: Done 192 tasks      | elapsed: 11.6min\n",
      "[Parallel(n_jobs=-1)]: Done 200 out of 200 | elapsed: 12.0min finished\n",
      "[Parallel(n_jobs=4)]: Done  42 tasks      | elapsed:    0.6s\n",
      "[Parallel(n_jobs=4)]: Done 192 tasks      | elapsed:    3.5s\n",
      "[Parallel(n_jobs=4)]: Done 200 out of 200 | elapsed:    3.7s finished\n",
      "[Parallel(n_jobs=4)]: Done  42 tasks      | elapsed:    3.1s\n",
      "[Parallel(n_jobs=4)]: Done 192 tasks      | elapsed:   13.9s\n",
      "[Parallel(n_jobs=4)]: Done 200 out of 200 | elapsed:   14.4s finished\n",
      "[Parallel(n_jobs=-1)]: Done  42 tasks      | elapsed:  2.3min\n",
      "[Parallel(n_jobs=-1)]: Done 192 tasks      | elapsed: 10.2min\n",
      "[Parallel(n_jobs=-1)]: Done 200 out of 200 | elapsed: 10.6min finished\n",
      "[Parallel(n_jobs=4)]: Done  42 tasks      | elapsed:    0.6s\n",
      "[Parallel(n_jobs=4)]: Done 192 tasks      | elapsed:    3.2s\n",
      "[Parallel(n_jobs=4)]: Done 200 out of 200 | elapsed:    3.3s finished\n",
      "[Parallel(n_jobs=4)]: Done  42 tasks      | elapsed:    2.9s\n",
      "[Parallel(n_jobs=4)]: Done 192 tasks      | elapsed:   13.1s\n",
      "[Parallel(n_jobs=4)]: Done 200 out of 200 | elapsed:   13.7s finished\n",
      "[Parallel(n_jobs=-1)]: Done  42 tasks      | elapsed:  2.4min\n",
      "[Parallel(n_jobs=-1)]: Done 192 tasks      | elapsed: 10.5min\n",
      "[Parallel(n_jobs=-1)]: Done 300 out of 300 | elapsed: 16.3min finished\n",
      "[Parallel(n_jobs=4)]: Done  42 tasks      | elapsed:    0.6s\n",
      "[Parallel(n_jobs=4)]: Done 192 tasks      | elapsed:    3.2s\n",
      "[Parallel(n_jobs=4)]: Done 300 out of 300 | elapsed:    5.1s finished\n",
      "[Parallel(n_jobs=4)]: Done  42 tasks      | elapsed:    2.9s\n",
      "[Parallel(n_jobs=4)]: Done 192 tasks      | elapsed:   13.3s\n",
      "[Parallel(n_jobs=4)]: Done 300 out of 300 | elapsed:   20.8s finished\n",
      "[Parallel(n_jobs=-1)]: Done  42 tasks      | elapsed:  2.3min\n",
      "[Parallel(n_jobs=-1)]: Done 192 tasks      | elapsed: 10.4min\n",
      "[Parallel(n_jobs=-1)]: Done 300 out of 300 | elapsed: 16.0min finished\n",
      "[Parallel(n_jobs=4)]: Done  42 tasks      | elapsed:    0.6s\n",
      "[Parallel(n_jobs=4)]: Done 192 tasks      | elapsed:    3.0s\n",
      "[Parallel(n_jobs=4)]: Done 300 out of 300 | elapsed:    4.8s finished\n",
      "[Parallel(n_jobs=4)]: Done  42 tasks      | elapsed:    2.7s\n",
      "[Parallel(n_jobs=4)]: Done 192 tasks      | elapsed:   12.6s\n",
      "[Parallel(n_jobs=4)]: Done 300 out of 300 | elapsed:   19.7s finished\n",
      "[Parallel(n_jobs=-1)]: Done  42 tasks      | elapsed:  2.1min\n",
      "[Parallel(n_jobs=-1)]: Done 192 tasks      | elapsed: 10.1min\n",
      "[Parallel(n_jobs=-1)]: Done 300 out of 300 | elapsed: 15.8min finished\n",
      "[Parallel(n_jobs=4)]: Done  42 tasks      | elapsed:    0.6s\n",
      "[Parallel(n_jobs=4)]: Done 192 tasks      | elapsed:    3.2s\n",
      "[Parallel(n_jobs=4)]: Done 300 out of 300 | elapsed:    5.0s finished\n",
      "[Parallel(n_jobs=4)]: Done  42 tasks      | elapsed:    2.8s\n",
      "[Parallel(n_jobs=4)]: Done 192 tasks      | elapsed:   13.1s\n",
      "[Parallel(n_jobs=4)]: Done 300 out of 300 | elapsed:   20.5s finished\n",
      "[Parallel(n_jobs=-1)]: Done  42 tasks      | elapsed:  2.3min\n",
      "[Parallel(n_jobs=-1)]: Done 192 tasks      | elapsed: 10.3min\n",
      "[Parallel(n_jobs=-1)]: Done 300 out of 300 | elapsed: 16.0min finished\n",
      "[Parallel(n_jobs=4)]: Done  42 tasks      | elapsed:    0.6s\n",
      "[Parallel(n_jobs=4)]: Done 192 tasks      | elapsed:    3.4s\n",
      "[Parallel(n_jobs=4)]: Done 300 out of 300 | elapsed:    5.4s finished\n",
      "[Parallel(n_jobs=4)]: Done  42 tasks      | elapsed:    2.8s\n",
      "[Parallel(n_jobs=4)]: Done 192 tasks      | elapsed:   13.1s\n",
      "[Parallel(n_jobs=4)]: Done 300 out of 300 | elapsed:   20.6s finished\n",
      "[Parallel(n_jobs=-1)]: Done  42 tasks      | elapsed:  2.3min\n",
      "[Parallel(n_jobs=-1)]: Done 192 tasks      | elapsed: 10.2min\n",
      "[Parallel(n_jobs=-1)]: Done 300 out of 300 | elapsed: 16.0min finished\n",
      "[Parallel(n_jobs=4)]: Done  42 tasks      | elapsed:    0.6s\n",
      "[Parallel(n_jobs=4)]: Done 192 tasks      | elapsed:    3.3s\n",
      "[Parallel(n_jobs=4)]: Done 300 out of 300 | elapsed:    5.2s finished\n",
      "[Parallel(n_jobs=4)]: Done  42 tasks      | elapsed:    2.9s\n",
      "[Parallel(n_jobs=4)]: Done 192 tasks      | elapsed:   13.1s\n",
      "[Parallel(n_jobs=4)]: Done 300 out of 300 | elapsed:   20.6s finished\n",
      "[Parallel(n_jobs=-1)]: Done  42 tasks      | elapsed:  2.4min\n",
      "[Parallel(n_jobs=-1)]: Done 192 tasks      | elapsed: 10.5min\n",
      "[Parallel(n_jobs=-1)]: Done 400 out of 400 | elapsed: 22.3min finished\n",
      "[Parallel(n_jobs=4)]: Done  42 tasks      | elapsed:    0.7s\n",
      "[Parallel(n_jobs=4)]: Done 192 tasks      | elapsed:    4.0s\n",
      "[Parallel(n_jobs=4)]: Done 400 out of 400 | elapsed:    8.7s finished\n",
      "[Parallel(n_jobs=4)]: Done  42 tasks      | elapsed:    4.0s\n"
     ]
    },
    {
     "name": "stderr",
     "output_type": "stream",
     "text": [
      "[Parallel(n_jobs=4)]: Done 192 tasks      | elapsed:   17.4s\n",
      "[Parallel(n_jobs=4)]: Done 400 out of 400 | elapsed:   35.5s finished\n",
      "[Parallel(n_jobs=-1)]: Done  42 tasks      | elapsed:  2.9min\n",
      "[Parallel(n_jobs=-1)]: Done 192 tasks      | elapsed: 11.4min\n",
      "[Parallel(n_jobs=-1)]: Done 400 out of 400 | elapsed: 22.4min finished\n",
      "[Parallel(n_jobs=4)]: Done  42 tasks      | elapsed:    0.6s\n",
      "[Parallel(n_jobs=4)]: Done 192 tasks      | elapsed:    3.3s\n",
      "[Parallel(n_jobs=4)]: Done 400 out of 400 | elapsed:    6.9s finished\n",
      "[Parallel(n_jobs=4)]: Done  42 tasks      | elapsed:    2.8s\n",
      "[Parallel(n_jobs=4)]: Done 192 tasks      | elapsed:   13.1s\n",
      "[Parallel(n_jobs=4)]: Done 400 out of 400 | elapsed:   27.4s finished\n",
      "[Parallel(n_jobs=-1)]: Done  42 tasks      | elapsed:  2.3min\n",
      "[Parallel(n_jobs=-1)]: Done 192 tasks      | elapsed: 10.3min\n",
      "[Parallel(n_jobs=-1)]: Done 400 out of 400 | elapsed: 21.6min finished\n",
      "[Parallel(n_jobs=4)]: Done  42 tasks      | elapsed:    0.6s\n",
      "[Parallel(n_jobs=4)]: Done 192 tasks      | elapsed:    3.2s\n",
      "[Parallel(n_jobs=4)]: Done 400 out of 400 | elapsed:    6.9s finished\n",
      "[Parallel(n_jobs=4)]: Done  42 tasks      | elapsed:    2.9s\n",
      "[Parallel(n_jobs=4)]: Done 192 tasks      | elapsed:   13.9s\n",
      "[Parallel(n_jobs=4)]: Done 400 out of 400 | elapsed:   28.6s finished\n",
      "[Parallel(n_jobs=-1)]: Done  42 tasks      | elapsed:  2.4min\n",
      "[Parallel(n_jobs=-1)]: Done 192 tasks      | elapsed: 10.1min\n",
      "[Parallel(n_jobs=-1)]: Done 400 out of 400 | elapsed: 21.7min finished\n",
      "[Parallel(n_jobs=4)]: Done  42 tasks      | elapsed:    0.6s\n",
      "[Parallel(n_jobs=4)]: Done 192 tasks      | elapsed:    3.2s\n",
      "[Parallel(n_jobs=4)]: Done 400 out of 400 | elapsed:    7.0s finished\n",
      "[Parallel(n_jobs=4)]: Done  42 tasks      | elapsed:    3.0s\n",
      "[Parallel(n_jobs=4)]: Done 192 tasks      | elapsed:   13.4s\n",
      "[Parallel(n_jobs=4)]: Done 400 out of 400 | elapsed:   27.8s finished\n",
      "[Parallel(n_jobs=-1)]: Done  42 tasks      | elapsed:  2.4min\n",
      "[Parallel(n_jobs=-1)]: Done 192 tasks      | elapsed: 10.5min\n",
      "[Parallel(n_jobs=-1)]: Done 400 out of 400 | elapsed: 21.6min finished\n",
      "[Parallel(n_jobs=4)]: Done  42 tasks      | elapsed:    0.6s\n",
      "[Parallel(n_jobs=4)]: Done 192 tasks      | elapsed:    3.2s\n",
      "[Parallel(n_jobs=4)]: Done 400 out of 400 | elapsed:    6.9s finished\n",
      "[Parallel(n_jobs=4)]: Done  42 tasks      | elapsed:    2.9s\n",
      "[Parallel(n_jobs=4)]: Done 192 tasks      | elapsed:   13.3s\n",
      "[Parallel(n_jobs=4)]: Done 400 out of 400 | elapsed:   27.6s finished\n",
      "[Parallel(n_jobs=-1)]: Done  42 tasks      | elapsed:  2.3min\n",
      "[Parallel(n_jobs=-1)]: Done 192 tasks      | elapsed: 10.0min\n",
      "[Parallel(n_jobs=-1)]: Done 442 tasks      | elapsed: 23.3min\n",
      "[Parallel(n_jobs=-1)]: Done 500 out of 500 | elapsed: 26.4min finished\n",
      "[Parallel(n_jobs=4)]: Done  42 tasks      | elapsed:    0.6s\n",
      "[Parallel(n_jobs=4)]: Done 192 tasks      | elapsed:    3.5s\n",
      "[Parallel(n_jobs=4)]: Done 442 tasks      | elapsed:    8.2s\n",
      "[Parallel(n_jobs=4)]: Done 500 out of 500 | elapsed:    9.3s finished\n",
      "[Parallel(n_jobs=4)]: Done  42 tasks      | elapsed:    3.1s\n",
      "[Parallel(n_jobs=4)]: Done 192 tasks      | elapsed:   13.5s\n",
      "[Parallel(n_jobs=4)]: Done 442 tasks      | elapsed:   30.7s\n",
      "[Parallel(n_jobs=4)]: Done 500 out of 500 | elapsed:   34.6s finished\n",
      "[Parallel(n_jobs=-1)]: Done  42 tasks      | elapsed:  2.3min\n",
      "[Parallel(n_jobs=-1)]: Done 192 tasks      | elapsed: 10.3min\n",
      "[Parallel(n_jobs=-1)]: Done 442 tasks      | elapsed: 23.6min\n",
      "[Parallel(n_jobs=-1)]: Done 500 out of 500 | elapsed: 26.5min finished\n",
      "[Parallel(n_jobs=4)]: Done  42 tasks      | elapsed:    0.6s\n",
      "[Parallel(n_jobs=4)]: Done 192 tasks      | elapsed:    3.2s\n",
      "[Parallel(n_jobs=4)]: Done 442 tasks      | elapsed:    7.7s\n",
      "[Parallel(n_jobs=4)]: Done 500 out of 500 | elapsed:    8.7s finished\n",
      "[Parallel(n_jobs=4)]: Done  42 tasks      | elapsed:    2.9s\n",
      "[Parallel(n_jobs=4)]: Done 192 tasks      | elapsed:   13.3s\n",
      "[Parallel(n_jobs=4)]: Done 442 tasks      | elapsed:   30.5s\n",
      "[Parallel(n_jobs=4)]: Done 500 out of 500 | elapsed:   34.5s finished\n",
      "[Parallel(n_jobs=-1)]: Done  42 tasks      | elapsed:  2.3min\n",
      "[Parallel(n_jobs=-1)]: Done 192 tasks      | elapsed: 10.2min\n",
      "[Parallel(n_jobs=-1)]: Done 442 tasks      | elapsed: 23.6min\n",
      "[Parallel(n_jobs=-1)]: Done 500 out of 500 | elapsed: 26.7min finished\n",
      "[Parallel(n_jobs=4)]: Done  42 tasks      | elapsed:    0.6s\n",
      "[Parallel(n_jobs=4)]: Done 192 tasks      | elapsed:    3.2s\n",
      "[Parallel(n_jobs=4)]: Done 442 tasks      | elapsed:    7.7s\n",
      "[Parallel(n_jobs=4)]: Done 500 out of 500 | elapsed:    8.7s finished\n",
      "[Parallel(n_jobs=4)]: Done  42 tasks      | elapsed:    2.9s\n",
      "[Parallel(n_jobs=4)]: Done 192 tasks      | elapsed:   13.1s\n",
      "[Parallel(n_jobs=4)]: Done 442 tasks      | elapsed:   30.3s\n",
      "[Parallel(n_jobs=4)]: Done 500 out of 500 | elapsed:   34.3s finished\n",
      "[Parallel(n_jobs=-1)]: Done  42 tasks      | elapsed:  2.4min\n",
      "[Parallel(n_jobs=-1)]: Done 192 tasks      | elapsed: 10.1min\n",
      "[Parallel(n_jobs=-1)]: Done 442 tasks      | elapsed: 23.5min\n",
      "[Parallel(n_jobs=-1)]: Done 500 out of 500 | elapsed: 26.5min finished\n",
      "[Parallel(n_jobs=4)]: Done  42 tasks      | elapsed:    0.6s\n",
      "[Parallel(n_jobs=4)]: Done 192 tasks      | elapsed:    3.4s\n",
      "[Parallel(n_jobs=4)]: Done 442 tasks      | elapsed:    7.8s\n",
      "[Parallel(n_jobs=4)]: Done 500 out of 500 | elapsed:    8.8s finished\n",
      "[Parallel(n_jobs=4)]: Done  42 tasks      | elapsed:    2.9s\n",
      "[Parallel(n_jobs=4)]: Done 192 tasks      | elapsed:   13.2s\n",
      "[Parallel(n_jobs=4)]: Done 442 tasks      | elapsed:   30.4s\n",
      "[Parallel(n_jobs=4)]: Done 500 out of 500 | elapsed:   34.4s finished\n",
      "[Parallel(n_jobs=-1)]: Done  42 tasks      | elapsed:  2.4min\n",
      "[Parallel(n_jobs=-1)]: Done 192 tasks      | elapsed: 10.5min\n",
      "[Parallel(n_jobs=-1)]: Done 442 tasks      | elapsed: 23.9min\n",
      "[Parallel(n_jobs=-1)]: Done 500 out of 500 | elapsed: 26.9min finished\n",
      "[Parallel(n_jobs=4)]: Done  42 tasks      | elapsed:    0.6s\n",
      "[Parallel(n_jobs=4)]: Done 192 tasks      | elapsed:    3.2s\n",
      "[Parallel(n_jobs=4)]: Done 442 tasks      | elapsed:    7.5s\n",
      "[Parallel(n_jobs=4)]: Done 500 out of 500 | elapsed:    8.6s finished\n",
      "[Parallel(n_jobs=4)]: Done  42 tasks      | elapsed:    2.9s\n",
      "[Parallel(n_jobs=4)]: Done 192 tasks      | elapsed:   13.7s\n",
      "[Parallel(n_jobs=4)]: Done 442 tasks      | elapsed:   31.4s\n",
      "[Parallel(n_jobs=4)]: Done 500 out of 500 | elapsed:   35.4s finished\n",
      "[Parallel(n_jobs=1)]: Done  25 out of  25 | elapsed: 468.1min finished\n",
      "[Parallel(n_jobs=-1)]: Done  42 tasks      | elapsed:  3.2min\n",
      "[Parallel(n_jobs=-1)]: Done 192 tasks      | elapsed: 14.4min\n",
      "[Parallel(n_jobs=-1)]: Done 200 out of 200 | elapsed: 14.9min finished\n"
     ]
    },
    {
     "data": {
      "text/plain": [
       "GridSearchCV(cv=5, error_score='raise',\n",
       "       estimator=RandomForestClassifier(bootstrap=True, class_weight=None, criterion='gini',\n",
       "            max_depth=30, max_features='auto', max_leaf_nodes=None,\n",
       "            min_impurity_decrease=0.0, min_impurity_split=None,\n",
       "            min_samples_leaf=1, min_samples_split=2,\n",
       "            min_weight_fraction_leaf=0.0, n_estimators=10, n_jobs=-1,\n",
       "            oob_score=True, random_state=None, verbose=1, warm_start=False),\n",
       "       fit_params=None, iid=True, n_jobs=1,\n",
       "       param_grid=[{'n_estimators': range(100, 501, 100)}],\n",
       "       pre_dispatch='2*n_jobs', refit=True, return_train_score='warn',\n",
       "       scoring='precision', verbose=1)"
      ]
     },
     "execution_count": 25,
     "metadata": {},
     "output_type": "execute_result"
    }
   ],
   "source": [
    "gscv.fit(X_train,y_train)"
   ]
  },
  {
   "cell_type": "code",
   "execution_count": 26,
   "metadata": {},
   "outputs": [
    {
     "data": {
      "text/plain": [
       "RandomForestClassifier(bootstrap=True, class_weight=None, criterion='gini',\n",
       "            max_depth=30, max_features='auto', max_leaf_nodes=None,\n",
       "            min_impurity_decrease=0.0, min_impurity_split=None,\n",
       "            min_samples_leaf=1, min_samples_split=2,\n",
       "            min_weight_fraction_leaf=0.0, n_estimators=200, n_jobs=-1,\n",
       "            oob_score=True, random_state=None, verbose=1, warm_start=False)"
      ]
     },
     "execution_count": 26,
     "metadata": {},
     "output_type": "execute_result"
    }
   ],
   "source": [
    "gscv.best_estimator_"
   ]
  },
  {
   "cell_type": "code",
   "execution_count": null,
   "metadata": {},
   "outputs": [],
   "source": []
  }
 ],
 "metadata": {
  "kernelspec": {
   "display_name": "Python 3",
   "language": "python",
   "name": "python3"
  },
  "language_info": {
   "codemirror_mode": {
    "name": "ipython",
    "version": 3
   },
   "file_extension": ".py",
   "mimetype": "text/x-python",
   "name": "python",
   "nbconvert_exporter": "python",
   "pygments_lexer": "ipython3",
   "version": "3.6.4"
  }
 },
 "nbformat": 4,
 "nbformat_minor": 2
}
