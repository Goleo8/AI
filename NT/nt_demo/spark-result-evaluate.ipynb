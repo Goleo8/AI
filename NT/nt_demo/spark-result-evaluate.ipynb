{
 "cells": [
  {
   "cell_type": "code",
   "execution_count": 1,
   "metadata": {
    "collapsed": true
   },
   "outputs": [],
   "source": [
    "import pandas as pd\n",
    "import numpy as np\n",
    "from sklearn.datasets import load_svmlight_file\n",
    "from sklearn.utils import resample\n",
    "from sklearn.ensemble import RandomForestClassifier\n",
    "from sklearn.model_selection import GridSearchCV\n",
    "from sklearn.model_selection import train_test_split\n",
    "from sklearn.decomposition import PCA\n",
    "from sklearn.metrics import precision_score, precision_recall_curve, recall_score, roc_curve, auc, confusion_matrix,classification_report\n",
    "import numpy as np\n",
    "import xgboost as xgb"
   ]
  },
  {
   "cell_type": "code",
   "execution_count": 2,
   "metadata": {
    "collapsed": true
   },
   "outputs": [],
   "source": [
    "df=pd.read_json('data/spark-demo-g1.json',lines=True)"
   ]
  },
  {
   "cell_type": "code",
   "execution_count": 3,
   "metadata": {},
   "outputs": [
    {
     "data": {
      "text/html": [
       "<div>\n",
       "<style scoped>\n",
       "    .dataframe tbody tr th:only-of-type {\n",
       "        vertical-align: middle;\n",
       "    }\n",
       "\n",
       "    .dataframe tbody tr th {\n",
       "        vertical-align: top;\n",
       "    }\n",
       "\n",
       "    .dataframe thead th {\n",
       "        text-align: right;\n",
       "    }\n",
       "</style>\n",
       "<table border=\"1\" class=\"dataframe\">\n",
       "  <thead>\n",
       "    <tr style=\"text-align: right;\">\n",
       "      <th></th>\n",
       "      <th>features</th>\n",
       "      <th>indexedLabel</th>\n",
       "      <th>label</th>\n",
       "      <th>pcaFeatures</th>\n",
       "      <th>predictedLabel</th>\n",
       "      <th>prediction</th>\n",
       "      <th>probability</th>\n",
       "      <th>rawPrediction</th>\n",
       "    </tr>\n",
       "  </thead>\n",
       "  <tbody>\n",
       "    <tr>\n",
       "      <th>0</th>\n",
       "      <td>{'type': 0, 'size': 7672, 'indices': [0, 1, 2,...</td>\n",
       "      <td>0</td>\n",
       "      <td>1</td>\n",
       "      <td>{'type': 1, 'values': [-22.772430251608046, -3...</td>\n",
       "      <td>1</td>\n",
       "      <td>0</td>\n",
       "      <td>{'type': 1, 'values': [0.548231843800501, 0.45...</td>\n",
       "      <td>{'type': 1, 'values': [54.82318438005013, 45.1...</td>\n",
       "    </tr>\n",
       "    <tr>\n",
       "      <th>1</th>\n",
       "      <td>{'type': 0, 'size': 7672, 'indices': [0, 1, 2,...</td>\n",
       "      <td>0</td>\n",
       "      <td>1</td>\n",
       "      <td>{'type': 1, 'values': [-204.7509957911829, -27...</td>\n",
       "      <td>1</td>\n",
       "      <td>0</td>\n",
       "      <td>{'type': 1, 'values': [0.687962531136674, 0.31...</td>\n",
       "      <td>{'type': 1, 'values': [68.79625311366748, 31.2...</td>\n",
       "    </tr>\n",
       "    <tr>\n",
       "      <th>2</th>\n",
       "      <td>{'type': 0, 'size': 7672, 'indices': [0, 1, 2,...</td>\n",
       "      <td>0</td>\n",
       "      <td>1</td>\n",
       "      <td>{'type': 1, 'values': [-215.64825449614676, 5....</td>\n",
       "      <td>2</td>\n",
       "      <td>1</td>\n",
       "      <td>{'type': 1, 'values': [0.49775465705571104, 0....</td>\n",
       "      <td>{'type': 1, 'values': [49.77546570557116, 50.2...</td>\n",
       "    </tr>\n",
       "    <tr>\n",
       "      <th>3</th>\n",
       "      <td>{'type': 0, 'size': 7672, 'indices': [0, 1, 2,...</td>\n",
       "      <td>0</td>\n",
       "      <td>1</td>\n",
       "      <td>{'type': 1, 'values': [-29.40938585744219, 4.5...</td>\n",
       "      <td>1</td>\n",
       "      <td>0</td>\n",
       "      <td>{'type': 1, 'values': [0.580030631136608, 0.41...</td>\n",
       "      <td>{'type': 1, 'values': [58.00306311366087, 41.9...</td>\n",
       "    </tr>\n",
       "    <tr>\n",
       "      <th>4</th>\n",
       "      <td>{'type': 0, 'size': 7672, 'indices': [0, 1, 2,...</td>\n",
       "      <td>0</td>\n",
       "      <td>1</td>\n",
       "      <td>{'type': 1, 'values': [-789.5649316512413, 155...</td>\n",
       "      <td>1</td>\n",
       "      <td>0</td>\n",
       "      <td>{'type': 1, 'values': [0.636738256952869, 0.36...</td>\n",
       "      <td>{'type': 1, 'values': [63.67382569528697, 36.3...</td>\n",
       "    </tr>\n",
       "  </tbody>\n",
       "</table>\n",
       "</div>"
      ],
      "text/plain": [
       "                                            features  indexedLabel  label  \\\n",
       "0  {'type': 0, 'size': 7672, 'indices': [0, 1, 2,...             0      1   \n",
       "1  {'type': 0, 'size': 7672, 'indices': [0, 1, 2,...             0      1   \n",
       "2  {'type': 0, 'size': 7672, 'indices': [0, 1, 2,...             0      1   \n",
       "3  {'type': 0, 'size': 7672, 'indices': [0, 1, 2,...             0      1   \n",
       "4  {'type': 0, 'size': 7672, 'indices': [0, 1, 2,...             0      1   \n",
       "\n",
       "                                         pcaFeatures  predictedLabel  \\\n",
       "0  {'type': 1, 'values': [-22.772430251608046, -3...               1   \n",
       "1  {'type': 1, 'values': [-204.7509957911829, -27...               1   \n",
       "2  {'type': 1, 'values': [-215.64825449614676, 5....               2   \n",
       "3  {'type': 1, 'values': [-29.40938585744219, 4.5...               1   \n",
       "4  {'type': 1, 'values': [-789.5649316512413, 155...               1   \n",
       "\n",
       "   prediction                                        probability  \\\n",
       "0           0  {'type': 1, 'values': [0.548231843800501, 0.45...   \n",
       "1           0  {'type': 1, 'values': [0.687962531136674, 0.31...   \n",
       "2           1  {'type': 1, 'values': [0.49775465705571104, 0....   \n",
       "3           0  {'type': 1, 'values': [0.580030631136608, 0.41...   \n",
       "4           0  {'type': 1, 'values': [0.636738256952869, 0.36...   \n",
       "\n",
       "                                       rawPrediction  \n",
       "0  {'type': 1, 'values': [54.82318438005013, 45.1...  \n",
       "1  {'type': 1, 'values': [68.79625311366748, 31.2...  \n",
       "2  {'type': 1, 'values': [49.77546570557116, 50.2...  \n",
       "3  {'type': 1, 'values': [58.00306311366087, 41.9...  \n",
       "4  {'type': 1, 'values': [63.67382569528697, 36.3...  "
      ]
     },
     "execution_count": 3,
     "metadata": {},
     "output_type": "execute_result"
    }
   ],
   "source": [
    "df.head()"
   ]
  },
  {
   "cell_type": "code",
   "execution_count": 4,
   "metadata": {
    "collapsed": true
   },
   "outputs": [],
   "source": [
    "label = df['label']\n",
    "predict=df['predictedLabel']"
   ]
  },
  {
   "cell_type": "code",
   "execution_count": 5,
   "metadata": {},
   "outputs": [
    {
     "data": {
      "text/plain": [
       "array([[13072,  3379],\n",
       "       [ 6345,  5729]])"
      ]
     },
     "execution_count": 5,
     "metadata": {},
     "output_type": "execute_result"
    }
   ],
   "source": [
    "confusion_matrix(label,predict)"
   ]
  },
  {
   "cell_type": "code",
   "execution_count": 6,
   "metadata": {},
   "outputs": [
    {
     "data": {
      "text/plain": [
       "0.673224494000103"
      ]
     },
     "execution_count": 6,
     "metadata": {},
     "output_type": "execute_result"
    }
   ],
   "source": [
    "precision_score(label,predict)"
   ]
  },
  {
   "cell_type": "code",
   "execution_count": 7,
   "metadata": {},
   "outputs": [
    {
     "name": "stdout",
     "output_type": "stream",
     "text": [
      "(array([1, 2]), array([16451, 12074]))\n",
      "(array([1, 2]), array([19417,  9108]))\n"
     ]
    }
   ],
   "source": [
    "print(np.unique(label,return_counts=True))\n",
    "print(np.unique(predict,return_counts=True))"
   ]
  },
  {
   "cell_type": "code",
   "execution_count": 10,
   "metadata": {
    "collapsed": true
   },
   "outputs": [],
   "source": [
    "df3=pd.read_json('data/spark-demo-g3.json',lines=True)\n",
    "label3 = df3['label']\n",
    "predict3=df3['predictedLabel']"
   ]
  },
  {
   "cell_type": "code",
   "execution_count": 11,
   "metadata": {},
   "outputs": [
    {
     "data": {
      "text/plain": [
       "array([[ 335,    0,   16,   19,  569,   48,    0,    0,    0,    0,  318],\n",
       "       [ 213,    0,   11,   30,  439,   41,    1,    0,    0,    0,  215],\n",
       "       [ 215,    0,   21,   93, 1014,  165,    0,    0,    0,    0,  571],\n",
       "       [ 150,    0,   21,  184, 1285,  283,    0,    0,    0,    0,  753],\n",
       "       [ 137,    0,   21,  154, 1338,  345,    1,    0,    0,    0, 1148],\n",
       "       [  93,    0,   13,  128, 1277,  363,    3,    0,    0,    0, 1293],\n",
       "       [  79,    0,    3,   89,  905,  276,    1,    0,    0,    0, 1160],\n",
       "       [  56,    0,    8,   45,  690,  222,    4,    0,    0,    0, 1206],\n",
       "       [  45,    0,    4,   36,  547,  192,    1,    0,    0,    0, 1089],\n",
       "       [  24,    0,    6,   23,  380,  153,    4,    0,    0,    0, 1106],\n",
       "       [  56,    0,    9,   19,  686,  196,    0,    0,    0,    0, 2708]])"
      ]
     },
     "execution_count": 11,
     "metadata": {},
     "output_type": "execute_result"
    }
   ],
   "source": [
    "confusion_matrix(label3,predict3)"
   ]
  },
  {
   "cell_type": "code",
   "execution_count": 12,
   "metadata": {},
   "outputs": [
    {
     "name": "stdout",
     "output_type": "stream",
     "text": [
      "              precision    recall  f1-score   support\n",
      "\n",
      "           4       0.24      0.26      0.25      1305\n",
      "           5       0.00      0.00      0.00       950\n",
      "           6       0.16      0.01      0.02      2079\n",
      "           7       0.22      0.07      0.11      2676\n",
      "           8       0.15      0.43      0.22      3144\n",
      "           9       0.16      0.11      0.13      3170\n",
      "          10       0.07      0.00      0.00      2513\n",
      "          11       0.00      0.00      0.00      2231\n",
      "          12       0.00      0.00      0.00      1914\n",
      "          13       0.00      0.00      0.00      1696\n",
      "          14       0.23      0.74      0.36      3674\n",
      "\n",
      "   micro avg       0.20      0.20      0.20     25352\n",
      "   macro avg       0.11      0.15      0.10     25352\n",
      "weighted avg       0.13      0.20      0.12     25352\n",
      "\n"
     ]
    },
    {
     "name": "stderr",
     "output_type": "stream",
     "text": [
      "/usr/local/lib/python3.7/site-packages/sklearn/metrics/classification.py:1143: UndefinedMetricWarning: Precision and F-score are ill-defined and being set to 0.0 in labels with no predicted samples.\n",
      "  'precision', 'predicted', average, warn_for)\n"
     ]
    }
   ],
   "source": [
    "print(classification_report(label3,predict3))"
   ]
  },
  {
   "cell_type": "code",
   "execution_count": 14,
   "metadata": {},
   "outputs": [
    {
     "name": "stdout",
     "output_type": "stream",
     "text": [
      "(array([ 4,  5,  6,  7,  8,  9, 10, 11, 12, 13, 14]), array([1305,  950, 2079, 2676, 3144, 3170, 2513, 2231, 1914, 1696, 3674]))\n",
      "(array([ 4,  6,  7,  8,  9, 10, 14]), array([ 1403,   133,   820,  9130,  2284,    15, 11567]))\n"
     ]
    }
   ],
   "source": [
    "print(np.unique(label3,return_counts=True))\n",
    "print(np.unique(predict3,return_counts=True))"
   ]
  },
  {
   "cell_type": "code",
   "execution_count": 15,
   "metadata": {
    "collapsed": true
   },
   "outputs": [],
   "source": [
    "df3=pd.read_json('data/spark-demo-g3-v2.json',lines=True)\n",
    "label3 = df3['label']\n",
    "predict3=df3['predictedLabel']"
   ]
  },
  {
   "cell_type": "code",
   "execution_count": 16,
   "metadata": {},
   "outputs": [
    {
     "data": {
      "text/plain": [
       "array([[ 360,   71,  156,  129,  201,  101,   66,   37,   25,   19,  136],\n",
       "       [ 222,   41,  105,  109,  124,  101,   52,   39,   14,   12,  122],\n",
       "       [ 239,   59,  259,  290,  392,  252,  168,   80,   43,   26,  270],\n",
       "       [ 177,   47,  281,  413,  541,  355,  207,  139,   73,   43,  402],\n",
       "       [ 190,   37,  262,  446,  584,  470,  300,  179,   99,   68,  532],\n",
       "       [ 150,   46,  241,  371,  586,  456,  288,  167,   98,   73,  684],\n",
       "       [  82,   26,  163,  251,  402,  350,  261,  143,   75,   71,  686],\n",
       "       [  77,   21,  100,  191,  308,  306,  233,  142,   65,   71,  709],\n",
       "       [  53,   16,  115,  155,  250,  252,  156,   99,   65,   51,  682],\n",
       "       [  42,   12,   65,  114,  201,  205,  130,   90,   74,   51,  719],\n",
       "       [  84,   15,  105,  179,  291,  308,  224,  166,  139,  126, 2008]])"
      ]
     },
     "execution_count": 16,
     "metadata": {},
     "output_type": "execute_result"
    }
   ],
   "source": [
    "confusion_matrix(label3,predict3)"
   ]
  },
  {
   "cell_type": "code",
   "execution_count": 17,
   "metadata": {},
   "outputs": [
    {
     "name": "stdout",
     "output_type": "stream",
     "text": [
      "              precision    recall  f1-score   support\n",
      "\n",
      "           4       0.21      0.28      0.24      1301\n",
      "           5       0.10      0.04      0.06       941\n",
      "           6       0.14      0.12      0.13      2078\n",
      "           7       0.16      0.15      0.16      2678\n",
      "           8       0.15      0.18      0.17      3167\n",
      "           9       0.14      0.14      0.14      3160\n",
      "          10       0.13      0.10      0.11      2510\n",
      "          11       0.11      0.06      0.08      2223\n",
      "          12       0.08      0.03      0.05      1894\n",
      "          13       0.08      0.03      0.04      1703\n",
      "          14       0.29      0.55      0.38      3645\n",
      "\n",
      "   micro avg       0.18      0.18      0.18     25300\n",
      "   macro avg       0.15      0.16      0.14     25300\n",
      "weighted avg       0.16      0.18      0.16     25300\n",
      "\n"
     ]
    }
   ],
   "source": [
    "print(classification_report(label3,predict3))"
   ]
  },
  {
   "cell_type": "code",
   "execution_count": 18,
   "metadata": {},
   "outputs": [
    {
     "name": "stdout",
     "output_type": "stream",
     "text": [
      "(array([ 4,  5,  6,  7,  8,  9, 10, 11, 12, 13, 14]), array([1301,  941, 2078, 2678, 3167, 3160, 2510, 2223, 1894, 1703, 3645]))\n",
      "(array([ 4,  5,  6,  7,  8,  9, 10, 11, 12, 13, 14]), array([1676,  391, 1852, 2648, 3880, 3156, 2085, 1281,  770,  611, 6950]))\n"
     ]
    }
   ],
   "source": [
    "print(np.unique(label3,return_counts=True))\n",
    "print(np.unique(predict3,return_counts=True))"
   ]
  },
  {
   "cell_type": "code",
   "execution_count": null,
   "metadata": {
    "collapsed": true
   },
   "outputs": [],
   "source": []
  }
 ],
 "metadata": {
  "kernelspec": {
   "display_name": "Python 3",
   "language": "python",
   "name": "python3"
  },
  "language_info": {
   "codemirror_mode": {
    "name": "ipython",
    "version": 3
   },
   "file_extension": ".py",
   "mimetype": "text/x-python",
   "name": "python",
   "nbconvert_exporter": "python",
   "pygments_lexer": "ipython3",
   "version": "3.6.4"
  }
 },
 "nbformat": 4,
 "nbformat_minor": 2
}
