{
 "cells": [
  {
   "cell_type": "code",
   "execution_count": 3,
   "metadata": {},
   "outputs": [],
   "source": [
    "import pandas as pd\n",
    "import numpy as np\n",
    "from sklearn.datasets import load_svmlight_file\n",
    "from sklearn.utils import resample\n",
    "from sklearn.ensemble import RandomForestClassifier\n",
    "from sklearn.model_selection import GridSearchCV\n",
    "from sklearn.model_selection import train_test_split\n",
    "from sklearn.metrics import precision_score, precision_recall_curve, recall_score, roc_curve, auc, confusion_matrix\n",
    "import numpy as np"
   ]
  },
  {
   "cell_type": "code",
   "execution_count": 4,
   "metadata": {},
   "outputs": [],
   "source": [
    "def model_eva(model,X_test,y_test):\n",
    "    y_test_pred=model.predict(X_test)\n",
    "    print('precision_score:',precision_score(y_test,y_test_pred,average='macro'))\n",
    "    print(confusion_matrix(y_test,y_test_pred).T)\n",
    "    print(np.unique(y_test,return_counts=True))\n",
    "    print(np.unique(y_test_pred,return_counts=True))"
   ]
  },
  {
   "cell_type": "code",
   "execution_count": 2,
   "metadata": {},
   "outputs": [],
   "source": [
    "data = load_svmlight_file('data/demo-g3.txt')\n",
    "X,y=data[0],data[1]\n",
    "X_s,y_s=resample(X,y,n_samples=150000,replace=False)\n",
    "X_train,X_test,y_train,y_test = train_test_split(X_s,y_s,test_size=.3,random_state=42)"
   ]
  },
  {
   "cell_type": "code",
   "execution_count": 7,
   "metadata": {},
   "outputs": [],
   "source": [
    "rfc = RandomForestClassifier(n_estimators=300,max_depth=None,n_jobs=-1,verbose=1)\n",
    "rfc.fit(X_train,y_train)"
   ]
  },
  {
   "cell_type": "code",
   "execution_count": 21,
   "metadata": {},
   "outputs": [
    {
     "name": "stderr",
     "output_type": "stream",
     "text": [
      "[Parallel(n_jobs=4)]: Using backend ThreadingBackend with 4 concurrent workers.\n",
      "[Parallel(n_jobs=4)]: Done  42 tasks      | elapsed:    2.8s\n",
      "[Parallel(n_jobs=4)]: Done 192 tasks      | elapsed:   12.4s\n"
     ]
    },
    {
     "name": "stdout",
     "output_type": "stream",
     "text": [
      "precision_score: 0.15607332841392643\n",
      "[[1456  980  899  576  494  385  295  224  145  110  178  262]\n",
      " [ 457  416  377  247  247  157  113   83   58   41   73   84]\n",
      " [ 722  593 1118  936  755  583  404  279  188  146  226  133]\n",
      " [ 331  335  930 1169 1035  752  490  345  249  172  229   70]\n",
      " [ 334  266  750 1036 1139  962  707  468  335  233  345   81]\n",
      " [ 217  195  471  609  818  747  615  424  312  233  366   69]\n",
      " [  80   84  182  255  338  321  258  229  154  148  205   15]\n",
      " [  50   49  109  128  165  204  180  142  155  117  178   10]\n",
      " [  33   35   66   78  110   99   93   87   77   64  128    6]\n",
      " [  32   15   48   62   83   83   85   58   69   58  113    3]\n",
      " [ 136  118  288  328  479  588  676  752  741  799 2169   29]\n",
      " [  53   34   46   21   17   28   13   11    9    5   19   21]]\n",
      "(array([ 4.,  5.,  6.,  7.,  8.,  9., 10., 11., 12., 13., 14., 15.]), array([3901, 3120, 5284, 5445, 5680, 4909, 3929, 3102, 2492, 2126, 4229,\n",
      "        783]))\n",
      "(array([ 4.,  5.,  6.,  7.,  8.,  9., 10., 11., 12., 13., 14., 15.]), array([6004, 2353, 6083, 6107, 6656, 5076, 2269, 1487,  876,  709, 7103,\n",
      "        277]))\n"
     ]
    },
    {
     "name": "stderr",
     "output_type": "stream",
     "text": [
      "[Parallel(n_jobs=4)]: Done 300 out of 300 | elapsed:   19.3s finished\n"
     ]
    }
   ],
   "source": [
    "model_eva(rfc,X_test,y_test)"
   ]
  },
  {
   "cell_type": "code",
   "execution_count": 22,
   "metadata": {},
   "outputs": [
    {
     "data": {
      "text/plain": [
       "(18338,)"
      ]
     },
     "execution_count": 22,
     "metadata": {},
     "output_type": "execute_result"
    }
   ],
   "source": [
    "index = np.arange(rfc.feature_importances_.shape[0])\n",
    "value=zip(index,rfc.feature_importances_)\n",
    "l=sorted(value,key=lambda x:x[1],reverse=True)\n",
    "r=l[:100]\n",
    "mat_index=map(lambda x:x[0],r)\n",
    "X_s_compact=X_s[:,list(mat_index)]\n",
    "X_train,X_test,y_train,y_test = train_test_split(X_s_compact,y_s,test_size=.3,random_state=42)\n",
    "X_train.shape"
   ]
  },
  {
   "cell_type": "code",
   "execution_count": 5,
   "metadata": {},
   "outputs": [],
   "source": [
    "data = load_svmlight_file('data/demo-g3-v2.txt')\n",
    "X,y=data[0],data[1]\n",
    "X_s,y_s=resample(X,y,n_samples=150000,replace=False)\n",
    "X_train,X_test,y_train,y_test = train_test_split(X_s,y_s,test_size=.3,random_state=42)"
   ]
  },
  {
   "cell_type": "code",
   "execution_count": 6,
   "metadata": {},
   "outputs": [
    {
     "name": "stderr",
     "output_type": "stream",
     "text": [
      "[Parallel(n_jobs=-1)]: Using backend ThreadingBackend with 4 concurrent workers.\n",
      "[Parallel(n_jobs=-1)]: Done  42 tasks      | elapsed:    8.5s\n",
      "[Parallel(n_jobs=-1)]: Done 100 out of 100 | elapsed:   19.9s finished\n"
     ]
    },
    {
     "data": {
      "text/plain": [
       "RandomForestClassifier(bootstrap=True, class_weight=None, criterion='gini',\n",
       "            max_depth=20, max_features='auto', max_leaf_nodes=None,\n",
       "            min_impurity_decrease=0.0, min_impurity_split=None,\n",
       "            min_samples_leaf=1, min_samples_split=2,\n",
       "            min_weight_fraction_leaf=0.0, n_estimators=100, n_jobs=-1,\n",
       "            oob_score=False, random_state=None, verbose=1,\n",
       "            warm_start=False)"
      ]
     },
     "execution_count": 6,
     "metadata": {},
     "output_type": "execute_result"
    }
   ],
   "source": [
    "rfc_v2 = RandomForestClassifier(n_estimators=100,max_depth=20,n_jobs=-1,verbose=1)\n",
    "rfc_v2.fit(X_train,y_train)"
   ]
  },
  {
   "cell_type": "code",
   "execution_count": 53,
   "metadata": {},
   "outputs": [
    {
     "name": "stderr",
     "output_type": "stream",
     "text": [
      "[Parallel(n_jobs=4)]: Using backend ThreadingBackend with 4 concurrent workers.\n",
      "[Parallel(n_jobs=4)]: Done  42 tasks      | elapsed:    5.2s\n",
      "[Parallel(n_jobs=4)]: Done 192 tasks      | elapsed:   23.5s\n",
      "[Parallel(n_jobs=4)]: Done 300 out of 300 | elapsed:   45.6s finished\n"
     ]
    },
    {
     "name": "stdout",
     "output_type": "stream",
     "text": [
      "precision_score: 0.8704674434302873\n",
      "[[ 4387   379   372   263   258   180   139   128    69    59    97]\n",
      " [   81  3109   106    77    77    54    54    37    39    19    28]\n",
      " [  176   141  7272   229   250   190   150   110    85    77   114]\n",
      " [   83    93   239  9751   264   226   165   147    97    83    77]\n",
      " [  126   112   223   297 11342   248   219   160   109   112   129]\n",
      " [   84    81   190   203   220 11293   191   141    97    90   134]\n",
      " [   58    49   117   140   148   150  9353   108    82    66   119]\n",
      " [   30    30    54    83    90   106    72  8102    62    49    73]\n",
      " [   17    20    33    41    51    36    47    34  6715    41    44]\n",
      " [   18    17    31    36    56    42    43    44    38  6199    54]\n",
      " [   69    63   164   183   219   279   275   305   275   294 14244]]\n",
      "(array([ 4.,  5.,  6.,  7.,  8.,  9., 10., 11., 12., 13., 14.]), array([ 5129,  4094,  8801, 11303, 12975, 12804, 10708,  9316,  7668,\n",
      "        7089, 15113]))\n",
      "(array([ 4.,  5.,  6.,  7.,  8.,  9., 10., 11., 12., 13., 14.]), array([ 6331,  3681,  8794, 11225, 13077, 12724, 10390,  8751,  7079,\n",
      "        6578, 16370]))\n"
     ]
    }
   ],
   "source": [
    "model_eva(rfc_v2,X_train,y_train)"
   ]
  },
  {
   "cell_type": "code",
   "execution_count": 54,
   "metadata": {},
   "outputs": [
    {
     "name": "stderr",
     "output_type": "stream",
     "text": [
      "[Parallel(n_jobs=4)]: Using backend ThreadingBackend with 4 concurrent workers.\n",
      "[Parallel(n_jobs=4)]: Done  42 tasks      | elapsed:    2.8s\n",
      "[Parallel(n_jobs=4)]: Done 192 tasks      | elapsed:   12.1s\n",
      "[Parallel(n_jobs=4)]: Done 300 out of 300 | elapsed:   19.6s finished\n"
     ]
    },
    {
     "name": "stdout",
     "output_type": "stream",
     "text": [
      "precision_score: 0.1523866992741791\n",
      "[[ 541  379  402  317  284  248  166  151  114   77  118]\n",
      " [ 175  115  160  141  130   84   58   56   39   32   49]\n",
      " [ 279  243  483  461  429  381  274  174  148  102  158]\n",
      " [ 249  199  626  870  801  689  505  326  235  185  268]\n",
      " [ 271  260  654  901 1045  954  697  514  381  289  375]\n",
      " [ 226  165  489  674  964  937  763  565  428  319  480]\n",
      " [ 120   85  267  333  527  566  439  366  268  217  342]\n",
      " [  70   51  146  243  319  318  272  247  214  182  293]\n",
      " [  36   36   73  113  151  166  139  133  110  116  177]\n",
      " [  43   26   62   89  117  137  114  116  114   95  223]\n",
      " [ 180  164  442  607  894 1109 1135 1288 1260 1383 3995]]\n",
      "(array([ 4.,  5.,  6.,  7.,  8.,  9., 10., 11., 12., 13., 14.]), array([2190, 1723, 3804, 4749, 5661, 5589, 4562, 3936, 3311, 2997, 6478]))\n",
      "(array([ 4.,  5.,  6.,  7.,  8.,  9., 10., 11., 12., 13., 14.]), array([ 2797,  1039,  3132,  4953,  6341,  6010,  3530,  2355,  1250,\n",
      "        1136, 12457]))\n"
     ]
    }
   ],
   "source": [
    "model_eva(rfc_v2,X_test,y_test)"
   ]
  },
  {
   "cell_type": "code",
   "execution_count": null,
   "metadata": {},
   "outputs": [],
   "source": [
    "feature_importance = rfc_v2.feature_importances_\n",
    "index = np.arange(rfc.shape[0])\n",
    "value=zip(index,rfc.feature_importances_)\n",
    "l=sorted(value,key=lambda x:x[1],reverse=True)\n",
    "r=l[:100]\n",
    "mat_index=map(lambda x:x[0],r)\n",
    "X_s_compact=X_s[:,list(mat_index)]\n",
    "X_train,X_test,y_train,y_test = train_test_split(X_s_compact,y_s,test_size=.3,random_state=42)\n",
    "X_train.shape"
   ]
  },
  {
   "cell_type": "code",
   "execution_count": 55,
   "metadata": {},
   "outputs": [],
   "source": [
    "from sklearn.ensemble import GradientBoostingClassifier"
   ]
  },
  {
   "cell_type": "code",
   "execution_count": 56,
   "metadata": {},
   "outputs": [],
   "source": [
    "gbc_clf = GradientBoostingClassifier(n_estimators=100,max_depth=2)"
   ]
  },
  {
   "cell_type": "code",
   "execution_count": 57,
   "metadata": {},
   "outputs": [
    {
     "data": {
      "text/plain": [
       "GradientBoostingClassifier(criterion='friedman_mse', init=None,\n",
       "              learning_rate=0.1, loss='deviance', max_depth=2,\n",
       "              max_features=None, max_leaf_nodes=None,\n",
       "              min_impurity_decrease=0.0, min_impurity_split=None,\n",
       "              min_samples_leaf=1, min_samples_split=2,\n",
       "              min_weight_fraction_leaf=0.0, n_estimators=100,\n",
       "              n_iter_no_change=None, presort='auto', random_state=None,\n",
       "              subsample=1.0, tol=0.0001, validation_fraction=0.1,\n",
       "              verbose=0, warm_start=False)"
      ]
     },
     "execution_count": 57,
     "metadata": {},
     "output_type": "execute_result"
    }
   ],
   "source": [
    "gbc_clf.fit(X_train,y_train)"
   ]
  },
  {
   "cell_type": "code",
   "execution_count": 58,
   "metadata": {},
   "outputs": [
    {
     "name": "stdout",
     "output_type": "stream",
     "text": [
      "precision_score: 0.17144125852766898\n",
      "[[ 721  491  502  403  352  315  204  179  116   87  132]\n",
      " [  17   10   11    7    6    3    1    2    1    0    4]\n",
      " [ 133  116  264  246  240  179  148  105   88   77  115]\n",
      " [ 154  156  572  809  736  576  368  218  138   93   91]\n",
      " [ 627  497 1222 1548 1726 1588 1179  849  650  547  817]\n",
      " [ 120  105  382  628  897  986  770  623  461  365  611]\n",
      " [   7    5   19   39   60   72   73   77   51   38   35]\n",
      " [   3    3    6   14   15   25   25   27   16   12   27]\n",
      " [   2    2    5   11    9    9   15    9   11    8   19]\n",
      " [   1    0    0    3    4    6    5    2    7    8   14]\n",
      " [ 405  338  821 1041 1616 1830 1774 1845 1772 1762 4613]]\n",
      "(array([ 4.,  5.,  6.,  7.,  8.,  9., 10., 11., 12., 13., 14.]), array([2190, 1723, 3804, 4749, 5661, 5589, 4562, 3936, 3311, 2997, 6478]))\n",
      "(array([ 4.,  5.,  6.,  7.,  8.,  9., 10., 11., 12., 13., 14.]), array([ 3502,    62,  1711,  3911, 11250,  5948,   476,   173,   100,\n",
      "          50, 17817]))\n"
     ]
    }
   ],
   "source": [
    "model_eva(gbc_clf,X_test,y_test)"
   ]
  },
  {
   "cell_type": "code",
   "execution_count": null,
   "metadata": {},
   "outputs": [],
   "source": []
  }
 ],
 "metadata": {
  "kernelspec": {
   "display_name": "Python 3",
   "language": "python",
   "name": "python3"
  },
  "language_info": {
   "codemirror_mode": {
    "name": "ipython",
    "version": 3
   },
   "file_extension": ".py",
   "mimetype": "text/x-python",
   "name": "python",
   "nbconvert_exporter": "python",
   "pygments_lexer": "ipython3",
   "version": "3.6.4"
  }
 },
 "nbformat": 4,
 "nbformat_minor": 2
}
