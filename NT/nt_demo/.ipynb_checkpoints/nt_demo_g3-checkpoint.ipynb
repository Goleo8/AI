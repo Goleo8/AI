{
 "cells": [
  {
   "cell_type": "code",
   "execution_count": 2,
   "metadata": {
    "collapsed": true
   },
   "outputs": [],
   "source": [
    "import pandas as pd\n",
    "import numpy as np\n",
    "from sklearn.datasets import load_svmlight_file\n",
    "from sklearn.utils import resample\n",
    "from sklearn.ensemble import RandomForestClassifier\n",
    "from sklearn.model_selection import GridSearchCV\n",
    "from sklearn.model_selection import train_test_split\n",
    "from sklearn.metrics import precision_score, precision_recall_curve, recall_score, roc_curve, auc, confusion_matrix\n",
    "import numpy as np"
   ]
  },
  {
   "cell_type": "code",
   "execution_count": 4,
   "metadata": {
    "collapsed": true
   },
   "outputs": [],
   "source": [
    "def model_eva(model,X_test,y_test):\n",
    "    y_test_pred=model.predict(X_test)\n",
    "    print('precision_score:',precision_score(y_test,y_test_pred,average='macro'))\n",
    "    print(confusion_matrix(y_test,y_test_pred).T)\n",
    "    print(np.unique(y_test,return_counts=True))\n",
    "    print(np.unique(y_test_pred,return_counts=True))"
   ]
  },
  {
   "cell_type": "code",
   "execution_count": 2,
   "metadata": {
    "collapsed": true
   },
   "outputs": [],
   "source": [
    "data = load_svmlight_file('data/demo-g3.txt')\n",
    "X,y=data[0],data[1]\n",
    "X_s,y_s=resample(X,y,n_samples=150000,replace=False)\n",
    "X_train,X_test,y_train,y_test = train_test_split(X_s,y_s,test_size=.3,random_state=42)"
   ]
  },
  {
   "cell_type": "code",
   "execution_count": 7,
   "metadata": {
    "collapsed": true
   },
   "outputs": [],
   "source": [
    "rfc = RandomForestClassifier(n_estimators=300,max_depth=None,n_jobs=-1,verbose=1)\n",
    "rfc.fit(X_train,y_train)"
   ]
  },
  {
   "cell_type": "code",
   "execution_count": 21,
   "metadata": {
    "collapsed": false
   },
   "outputs": [
    {
     "name": "stderr",
     "output_type": "stream",
     "text": [
      "[Parallel(n_jobs=4)]: Using backend ThreadingBackend with 4 concurrent workers.\n",
      "[Parallel(n_jobs=4)]: Done  42 tasks      | elapsed:    2.8s\n",
      "[Parallel(n_jobs=4)]: Done 192 tasks      | elapsed:   12.4s\n"
     ]
    },
    {
     "name": "stdout",
     "output_type": "stream",
     "text": [
      "precision_score: 0.15607332841392643\n",
      "[[1456  980  899  576  494  385  295  224  145  110  178  262]\n",
      " [ 457  416  377  247  247  157  113   83   58   41   73   84]\n",
      " [ 722  593 1118  936  755  583  404  279  188  146  226  133]\n",
      " [ 331  335  930 1169 1035  752  490  345  249  172  229   70]\n",
      " [ 334  266  750 1036 1139  962  707  468  335  233  345   81]\n",
      " [ 217  195  471  609  818  747  615  424  312  233  366   69]\n",
      " [  80   84  182  255  338  321  258  229  154  148  205   15]\n",
      " [  50   49  109  128  165  204  180  142  155  117  178   10]\n",
      " [  33   35   66   78  110   99   93   87   77   64  128    6]\n",
      " [  32   15   48   62   83   83   85   58   69   58  113    3]\n",
      " [ 136  118  288  328  479  588  676  752  741  799 2169   29]\n",
      " [  53   34   46   21   17   28   13   11    9    5   19   21]]\n",
      "(array([ 4.,  5.,  6.,  7.,  8.,  9., 10., 11., 12., 13., 14., 15.]), array([3901, 3120, 5284, 5445, 5680, 4909, 3929, 3102, 2492, 2126, 4229,\n",
      "        783]))\n",
      "(array([ 4.,  5.,  6.,  7.,  8.,  9., 10., 11., 12., 13., 14., 15.]), array([6004, 2353, 6083, 6107, 6656, 5076, 2269, 1487,  876,  709, 7103,\n",
      "        277]))\n"
     ]
    },
    {
     "name": "stderr",
     "output_type": "stream",
     "text": [
      "[Parallel(n_jobs=4)]: Done 300 out of 300 | elapsed:   19.3s finished\n"
     ]
    }
   ],
   "source": [
    "model_eva(rfc,X_test,y_test)"
   ]
  },
  {
   "cell_type": "code",
   "execution_count": 22,
   "metadata": {
    "collapsed": false
   },
   "outputs": [
    {
     "data": {
      "text/plain": [
       "(18338,)"
      ]
     },
     "execution_count": 22,
     "metadata": {},
     "output_type": "execute_result"
    }
   ],
   "source": [
    "index = np.arange(rfc.feature_importances_.shape[0])\n",
    "value=zip(index,rfc.feature_importances_)\n",
    "l=sorted(value,key=lambda x:x[1],reverse=True)\n",
    "r=l[:100]\n",
    "mat_index=map(lambda x:x[0],r)\n",
    "X_s_compact=X_s[:,list(mat_index)]\n",
    "X_train,X_test,y_train,y_test = train_test_split(X_s_compact,y_s,test_size=.3,random_state=42)\n",
    "X_train.shape"
   ]
  },
  {
   "cell_type": "code",
   "execution_count": 23,
   "metadata": {
    "collapsed": true
   },
   "outputs": [],
   "source": [
    "data = load_svmlight_file('data/demo-g3-v2.txt')\n",
    "X,y=data[0],data[1]\n",
    "X_s,y_s=resample(X,y,n_samples=10000,replace=False)\n",
    "X_train,X_test,y_train,y_test = train_test_split(X_s,y_s,test_size=.3,random_state=42)"
   ]
  },
  {
   "cell_type": "code",
   "execution_count": 24,
   "metadata": {
    "collapsed": false
   },
   "outputs": [
    {
     "name": "stderr",
     "output_type": "stream",
     "text": [
      "[Parallel(n_jobs=-1)]: Using backend ThreadingBackend with 4 concurrent workers.\n",
      "[Parallel(n_jobs=-1)]: Done  42 tasks      | elapsed:    0.7s\n",
      "[Parallel(n_jobs=-1)]: Done 192 tasks      | elapsed:    3.0s\n",
      "[Parallel(n_jobs=-1)]: Done 300 out of 300 | elapsed:    4.5s finished\n"
     ]
    },
    {
     "data": {
      "text/plain": [
       "RandomForestClassifier(bootstrap=True, class_weight=None, criterion='gini',\n",
       "            max_depth=30, max_features='auto', max_leaf_nodes=None,\n",
       "            min_impurity_decrease=0.0, min_impurity_split=None,\n",
       "            min_samples_leaf=1, min_samples_split=2,\n",
       "            min_weight_fraction_leaf=0.0, n_estimators=300, n_jobs=-1,\n",
       "            oob_score=False, random_state=None, verbose=1,\n",
       "            warm_start=False)"
      ]
     },
     "execution_count": 24,
     "metadata": {},
     "output_type": "execute_result"
    }
   ],
   "source": [
    "rfc_v2 = RandomForestClassifier(n_estimators=300,max_depth=30,n_jobs=-1,verbose=1)\n",
    "rfc_v2.fit(X_train,y_train)"
   ]
  },
  {
   "cell_type": "code",
   "execution_count": 25,
   "metadata": {
    "collapsed": false
   },
   "outputs": [
    {
     "name": "stderr",
     "output_type": "stream",
     "text": [
      "[Parallel(n_jobs=4)]: Using backend ThreadingBackend with 4 concurrent workers.\n",
      "[Parallel(n_jobs=4)]: Done  42 tasks      | elapsed:    0.1s\n",
      "[Parallel(n_jobs=4)]: Done 192 tasks      | elapsed:    0.3s\n",
      "[Parallel(n_jobs=4)]: Done 300 out of 300 | elapsed:    0.4s finished\n"
     ]
    },
    {
     "name": "stdout",
     "output_type": "stream",
     "text": [
      "precision_score: 0.849851349559972\n",
      "[[ 77   0   0   0   0   0   1   0   1   0   0]\n",
      " [  0  36   0   0   0   0   0   0   0   0   0]\n",
      " [  0   1 205   0   0   0   0   0   0   0   0]\n",
      " [  2   7  24 474   4  16  22  14   9  14   7]\n",
      " [218 201 274 237 841 207 242 204 163 138 129]\n",
      " [  3   7  10  16   4 522  16  21  17  16  13]\n",
      " [  0   0   0   0   0   0 338   0   0   0   0]\n",
      " [  0   0   1   0   0   0   0 248   0   0   0]\n",
      " [  0   0   0   0   0   0   0   0 177   0   0]\n",
      " [  0   0   0   0   0   0   0   0   1 180   0]\n",
      " [ 30  32  67  74  66  83 103 127 116 148 796]]\n",
      "(array([ 4.,  5.,  6.,  7.,  8.,  9., 10., 11., 12., 13., 14.]), array([330, 284, 581, 801, 915, 828, 722, 614, 484, 496, 945]))\n",
      "(array([ 4.,  5.,  6.,  7.,  8.,  9., 10., 11., 12., 13., 14.]), array([  79,   36,  206,  593, 2854,  645,  338,  249,  177,  181, 1642]))\n"
     ]
    }
   ],
   "source": [
    "model_eva(rfc_v2,X_train,y_train)"
   ]
  },
  {
   "cell_type": "code",
   "execution_count": 26,
   "metadata": {
    "collapsed": false
   },
   "outputs": [
    {
     "name": "stderr",
     "output_type": "stream",
     "text": [
      "[Parallel(n_jobs=4)]: Using backend ThreadingBackend with 4 concurrent workers.\n",
      "[Parallel(n_jobs=4)]: Done  42 tasks      | elapsed:    0.1s\n"
     ]
    },
    {
     "name": "stdout",
     "output_type": "stream",
     "text": [
      "precision_score: 0.14712884856058636\n",
      "[[  1   2   0   2   1   0   1   0   0   1   0]\n",
      " [  0   0   0   0   0   0   0   0   0   0   0]\n",
      " [  4   4   2   2   5   2   2   0   1   0   0]\n",
      " [  7   7  21  55  37  40  25  16  12   8   9]\n",
      " [105  70 190 191 197 173 111 101  69  56  98]\n",
      " [  5   4  16  26  44  34  27  29  15  15  26]\n",
      " [  0   0   2   2   3   3   2   2   3   2   2]\n",
      " [  0   0   1   0   1   5   1   0   0   0   2]\n",
      " [  0   0   0   1   0   1   0   0   1   0   1]\n",
      " [  0   0   0   1   0   0   0   0   1   1   1]\n",
      " [ 27  19  48  57 108 112  93 116 109  87 316]]\n",
      "(array([ 4.,  5.,  6.,  7.,  8.,  9., 10., 11., 12., 13., 14.]), array([149, 106, 280, 337, 396, 370, 262, 264, 211, 170, 455]))\n",
      "(array([ 4.,  6.,  7.,  8.,  9., 10., 11., 12., 13., 14.]), array([   8,   22,  237, 1361,  241,   21,   10,    4,    4, 1092]))\n"
     ]
    },
    {
     "name": "stderr",
     "output_type": "stream",
     "text": [
      "[Parallel(n_jobs=4)]: Done 192 tasks      | elapsed:    0.2s\n",
      "[Parallel(n_jobs=4)]: Done 300 out of 300 | elapsed:    0.3s finished\n",
      "/Users/Goleo8/anaconda3/lib/python3.6/site-packages/sklearn/metrics/classification.py:1143: UndefinedMetricWarning: Precision is ill-defined and being set to 0.0 in labels with no predicted samples.\n",
      "  'precision', 'predicted', average, warn_for)\n"
     ]
    }
   ],
   "source": [
    "model_eva(rfc_v2,X_test,y_test)"
   ]
  },
  {
   "cell_type": "code",
   "execution_count": 34,
   "metadata": {
    "collapsed": false
   },
   "outputs": [
    {
     "data": {
      "text/plain": [
       "(105000, 40)"
      ]
     },
     "execution_count": 34,
     "metadata": {},
     "output_type": "execute_result"
    }
   ],
   "source": [
    "feature_importance = rfc_v2.feature_importances_\n",
    "index = np.arange(feature_importance.shape[0])\n",
    "value=zip(index,feature_importance)\n",
    "l=sorted(value,key=lambda x:x[1],reverse=True)\n",
    "r=l[:40]\n",
    "mat_index=map(lambda x:x[0],r)\n",
    "index=list(mat_index)\n",
    "X_s,y_s=resample(X,y,n_samples=150000,replace=False)\n",
    "X_s_compact=X_s[:,index]\n",
    "X_train,X_test,y_train,y_test = train_test_split(X_s_compact,y_s,test_size=.3,random_state=42)\n",
    "X_train.shape"
   ]
  },
  {
   "cell_type": "code",
   "execution_count": 35,
   "metadata": {
    "collapsed": false
   },
   "outputs": [
    {
     "name": "stderr",
     "output_type": "stream",
     "text": [
      "[Parallel(n_jobs=-1)]: Using backend ThreadingBackend with 4 concurrent workers.\n",
      "[Parallel(n_jobs=-1)]: Done  42 tasks      | elapsed:   19.0s\n",
      "[Parallel(n_jobs=-1)]: Done 192 tasks      | elapsed:  1.3min\n",
      "[Parallel(n_jobs=-1)]: Done 300 out of 300 | elapsed:  2.0min finished\n"
     ]
    },
    {
     "data": {
      "text/plain": [
       "RandomForestClassifier(bootstrap=True, class_weight=None, criterion='gini',\n",
       "            max_depth=20, max_features='auto', max_leaf_nodes=None,\n",
       "            min_impurity_decrease=0.0, min_impurity_split=None,\n",
       "            min_samples_leaf=1, min_samples_split=2,\n",
       "            min_weight_fraction_leaf=0.0, n_estimators=300, n_jobs=-1,\n",
       "            oob_score=False, random_state=None, verbose=1,\n",
       "            warm_start=False)"
      ]
     },
     "execution_count": 35,
     "metadata": {},
     "output_type": "execute_result"
    }
   ],
   "source": [
    "rfc_v2_imp = RandomForestClassifier(n_estimators=300,max_depth=20,n_jobs=-1,verbose=1)\n",
    "rfc_v2_imp.fit(X_train,y_train)"
   ]
  },
  {
   "cell_type": "code",
   "execution_count": 36,
   "metadata": {
    "collapsed": false
   },
   "outputs": [
    {
     "name": "stderr",
     "output_type": "stream",
     "text": [
      "[Parallel(n_jobs=4)]: Using backend ThreadingBackend with 4 concurrent workers.\n",
      "[Parallel(n_jobs=4)]: Done  42 tasks      | elapsed:    0.9s\n",
      "[Parallel(n_jobs=4)]: Done 192 tasks      | elapsed:    3.5s\n",
      "[Parallel(n_jobs=4)]: Done 300 out of 300 | elapsed:    5.2s finished\n"
     ]
    },
    {
     "name": "stdout",
     "output_type": "stream",
     "text": [
      "precision_score: 0.6563082090664151\n",
      "[[ 2124  1087  1068   793   726   601   438   341   222   157   308]\n",
      " [    1   398     0     1     2     0     3     0     1     1     0]\n",
      " [  206   187  2086   267   206   222   158   118   100    97   127]\n",
      " [  500   472  1244  4998  1230  1233   896   643   460   315   460]\n",
      " [ 1202   996  1974  2072  7034  1938  1660  1298   979   827  1078]\n",
      " [  251   197   683   811   835  5626   884   811   700   538   632]\n",
      " [   17    20    38    48    29    16  3523    48    43    47    22]\n",
      " [    7     4    12    13     9     8     9  2841    12     6     4]\n",
      " [    0     2     1     4     1     0     0     2  2227     2     2]\n",
      " [    0     1     0     1     1     2     2     5     2  2033     2]\n",
      " [  838   713  1743  2223  2880  3167  3131  3223  2978  3094 12421]]\n",
      "(array([ 4.,  5.,  6.,  7.,  8.,  9., 10., 11., 12., 13., 14.]), array([ 5146,  4077,  8849, 11231, 12953, 12813, 10704,  9330,  7724,\n",
      "        7117, 15056]))\n",
      "(array([ 4.,  5.,  6.,  7.,  8.,  9., 10., 11., 12., 13., 14.]), array([ 7865,   407,  3774, 12451, 21058, 11968,  3851,  2925,  2241,\n",
      "        2049, 36411]))\n"
     ]
    }
   ],
   "source": [
    "model_eva(rfc_v2_imp,X_train,y_train)"
   ]
  },
  {
   "cell_type": "code",
   "execution_count": 37,
   "metadata": {
    "collapsed": false
   },
   "outputs": [
    {
     "name": "stderr",
     "output_type": "stream",
     "text": [
      "[Parallel(n_jobs=4)]: Using backend ThreadingBackend with 4 concurrent workers.\n",
      "[Parallel(n_jobs=4)]: Done  42 tasks      | elapsed:    0.4s\n",
      "[Parallel(n_jobs=4)]: Done 192 tasks      | elapsed:    1.6s\n"
     ]
    },
    {
     "name": "stdout",
     "output_type": "stream",
     "text": [
      "precision_score: 0.15899624549053754\n",
      "[[ 690  447  491  341  322  264  196  165   90   74  141]\n",
      " [   7    6    8    6    3    6    4    0    0    0    1]\n",
      " [ 104   89  213  185  172  160   96   74   59   36   80]\n",
      " [ 255  222  715  920  880  711  529  338  229  210  226]\n",
      " [ 582  459 1023 1317 1476 1258  988  659  502  405  606]\n",
      " [ 136  110  370  634  826  882  739  560  408  366  464]\n",
      " [  19   28   65  104  156  193  178  115   93   67  102]\n",
      " [  10    9   37   60   75   80   95   78   60   45   70]\n",
      " [   3    4   10   23   23   31   43   25   22   21   36]\n",
      " [   3    3   10   10   22   22   21   24   18   18   40]\n",
      " [ 376  379  848 1230 1648 1932 1817 1908 1765 1734 4657]]\n",
      "(array([ 4.,  5.,  6.,  7.,  8.,  9., 10., 11., 12., 13., 14.]), array([2185, 1756, 3790, 4830, 5603, 5539, 4706, 3946, 3246, 2976, 6423]))\n",
      "(array([ 4.,  5.,  6.,  7.,  8.,  9., 10., 11., 12., 13., 14.]), array([ 3221,    41,  1268,  5235,  9275,  5495,  1120,   619,   241,\n",
      "         191, 18294]))\n"
     ]
    },
    {
     "name": "stderr",
     "output_type": "stream",
     "text": [
      "[Parallel(n_jobs=4)]: Done 300 out of 300 | elapsed:    2.7s finished\n"
     ]
    }
   ],
   "source": [
    "model_eva(rfc_v2_imp,X_test,y_test)"
   ]
  },
  {
   "cell_type": "code",
   "execution_count": 22,
   "metadata": {
    "collapsed": false
   },
   "outputs": [
    {
     "name": "stderr",
     "output_type": "stream",
     "text": [
      "[Parallel(n_jobs=-1)]: Using backend ThreadingBackend with 4 concurrent workers.\n",
      "[Parallel(n_jobs=-1)]: Done  42 tasks      | elapsed:    3.0s\n",
      "[Parallel(n_jobs=-1)]: Done 192 tasks      | elapsed:   11.5s\n",
      "[Parallel(n_jobs=-1)]: Done 200 out of 200 | elapsed:   11.9s finished\n",
      "[Parallel(n_jobs=4)]: Using backend ThreadingBackend with 4 concurrent workers.\n",
      "[Parallel(n_jobs=4)]: Done  42 tasks      | elapsed:    0.5s\n",
      "[Parallel(n_jobs=4)]: Done 192 tasks      | elapsed:    2.6s\n",
      "[Parallel(n_jobs=4)]: Done 200 out of 200 | elapsed:    2.6s finished\n"
     ]
    },
    {
     "name": "stdout",
     "output_type": "stream",
     "text": [
      "precision_score: 0.623403661941582\n",
      "[[ 1854   996  1043   801   741   622   460   365   237   176   348]\n",
      " [    6   245     6     9     2     4     5     0     0     1     1]\n",
      " [  142   116  1165   141   125    93    75    58    46    27    69]\n",
      " [  119   130   596  2941   729   654   500   315   193   147   161]\n",
      " [ 1591  1370  3046  3407  6528  2971  2356  1714  1241  1034  1438]\n",
      " [  256   265   810  1171  1316  4464  1413  1165   936   754  1048]\n",
      " [   12     7    30    29    23    23  2133    29    42    32    28]\n",
      " [    1     1     5    11     1     3     4  1705     6     9     4]\n",
      " [    1     0     0     1     0     1     1     1  1302     1     2]\n",
      " [    0     1     1     0     0     1     1     0     0  1102     0]\n",
      " [ 1083   942  2106  2676  3538  3983  3928  4020  3688  3790 11934]]\n",
      "(array([ 4.,  5.,  6.,  7.,  8.,  9., 10., 11., 12., 13., 14.]), array([ 5065,  4073,  8808, 11187, 13003, 12819, 10876,  9372,  7691,\n",
      "        7073, 15033]))\n",
      "(array([ 4.,  5.,  6.,  7.,  8.,  9., 10., 11., 12., 13., 14.]), array([ 7643,   279,  2057,  6485, 26696, 13598,  2388,  1750,  1310,\n",
      "        1106, 41688]))\n"
     ]
    },
    {
     "name": "stderr",
     "output_type": "stream",
     "text": [
      "[Parallel(n_jobs=4)]: Using backend ThreadingBackend with 4 concurrent workers.\n",
      "[Parallel(n_jobs=4)]: Done  42 tasks      | elapsed:    0.3s\n",
      "[Parallel(n_jobs=4)]: Done 192 tasks      | elapsed:    1.2s\n",
      "[Parallel(n_jobs=4)]: Done 200 out of 200 | elapsed:    1.3s finished\n"
     ]
    },
    {
     "name": "stdout",
     "output_type": "stream",
     "text": [
      "precision_score: 0.16124969787704915\n",
      "[[ 683  444  473  393  316  259  230  164  109   76  139]\n",
      " [  11    8    9    6    8    5    1    2    0    2    3]\n",
      " [  71   53  122  113   99   62   52   34   22   24   32]\n",
      " [  64   57  360  560  472  428  261  175  127   85   97]\n",
      " [ 781  603 1361 1666 1849 1676 1156  822  546  454  710]\n",
      " [ 166  144  428  701  887  928  774  612  463  368  598]\n",
      " [   8   13   24   54   95   91   89   74   64   37   52]\n",
      " [   2    5    9   33   39   57   58   48   40   44   34]\n",
      " [   6    2    7    2   10   16   16   14   12   13   15]\n",
      " [   0    0    4    3    3    8    6    7    8    5    8]\n",
      " [ 505  373 1026 1321 1821 2062 1999 1986 1821 1855 4692]]\n",
      "(array([ 4.,  5.,  6.,  7.,  8.,  9., 10., 11., 12., 13., 14.]), array([2297, 1702, 3823, 4852, 5599, 5592, 4642, 3938, 3212, 2963, 6380]))\n",
      "(array([ 4.,  5.,  6.,  7.,  8.,  9., 10., 11., 12., 13., 14.]), array([ 3286,    55,   684,  2686, 11624,  6069,   601,   369,   113,\n",
      "          52, 19461]))\n"
     ]
    }
   ],
   "source": [
    "rfc_v2_200_10_imp = RandomForestClassifier(n_estimators=200,max_depth=10,n_jobs=-1,verbose=1)\n",
    "rfc_v2_200_10_imp.fit(X_train,y_train)\n",
    "model_eva(rfc_v2_imp,X_train,y_train)\n",
    "model_eva(rfc_v2_imp,X_test,y_test)"
   ]
  },
  {
   "cell_type": "code",
   "execution_count": 39,
   "metadata": {
    "collapsed": true
   },
   "outputs": [],
   "source": [
    "from sklearn.ensemble import GradientBoostingClassifier"
   ]
  },
  {
   "cell_type": "code",
   "execution_count": 3,
   "metadata": {
    "collapsed": false
   },
   "outputs": [],
   "source": [
    "data = load_svmlight_file('data/demo-g3-v2.txt')\n",
    "X,y=data[0],data[1]\n",
    "X_s,y_s=resample(X,y,n_samples=150000,replace=False)\n",
    "X_train,X_test,y_train,y_test = train_test_split(X_s,y_s,test_size=.3,random_state=42)"
   ]
  },
  {
   "cell_type": "code",
   "execution_count": 47,
   "metadata": {
    "collapsed": true
   },
   "outputs": [],
   "source": [
    "gbc_clf = GradientBoostingClassifier(n_estimators=100,max_depth=4,verbose=1)"
   ]
  },
  {
   "cell_type": "code",
   "execution_count": 48,
   "metadata": {
    "collapsed": false
   },
   "outputs": [
    {
     "name": "stdout",
     "output_type": "stream",
     "text": [
      "      Iter       Train Loss   Remaining Time \n",
      "         1      247490.4749           21.15m\n",
      "         2      245041.2023           20.84m\n",
      "         3      242996.7031           20.46m\n",
      "         4      241302.2648           20.20m\n",
      "         5      239863.3060           20.03m\n",
      "         6      238611.5036           19.87m\n",
      "         7      237536.9991           19.65m\n",
      "         8      236589.4321           19.42m\n",
      "         9      235706.1718           19.17m\n",
      "        10      235008.9421           18.93m\n",
      "        20      230369.0617           17.43m\n",
      "        30      227884.8185           17.31m\n",
      "        40      226123.5429           15.39m\n",
      "        50      224867.8361           13.85m\n",
      "        60      223815.5422           10.80m\n",
      "        70      222893.5248            7.84m\n",
      "        80      222025.1165            5.16m\n",
      "        90      221193.8609            2.54m\n",
      "       100      220488.3278            0.00s\n"
     ]
    },
    {
     "data": {
      "text/plain": [
       "GradientBoostingClassifier(criterion='friedman_mse', init=None,\n",
       "              learning_rate=0.1, loss='deviance', max_depth=4,\n",
       "              max_features=None, max_leaf_nodes=None,\n",
       "              min_impurity_decrease=0.0, min_impurity_split=None,\n",
       "              min_samples_leaf=1, min_samples_split=2,\n",
       "              min_weight_fraction_leaf=0.0, n_estimators=100,\n",
       "              n_iter_no_change=None, presort='auto', random_state=None,\n",
       "              subsample=1.0, tol=0.0001, validation_fraction=0.1,\n",
       "              verbose=1, warm_start=False)"
      ]
     },
     "execution_count": 48,
     "metadata": {},
     "output_type": "execute_result"
    }
   ],
   "source": [
    "gbc_clf.fit(X_train,y_train)"
   ]
  },
  {
   "cell_type": "code",
   "execution_count": 49,
   "metadata": {
    "collapsed": false
   },
   "outputs": [
    {
     "name": "stdout",
     "output_type": "stream",
     "text": [
      "precision_score: 0.5018518012184615\n",
      "[[ 2250  1065  1167   902   863   675   495   379   247   166   340]\n",
      " [   10   424     6     3     3     3     1     3     1     5     2]\n",
      " [  242   216  1123   336   316   275   181   132    92    53   112]\n",
      " [  228   270  1170  2766  1523  1207   834   519   339   223   245]\n",
      " [ 1374  1187  2835  3586  5384  3804  2990  2214  1551  1355  1964]\n",
      " [  212   203   638  1080  1477  2648  1384  1112   839   677   903]\n",
      " [   10    16    49   114   146   193   902   178   122   109    72]\n",
      " [    4     3    12    22    33    48    49   664    42    33    35]\n",
      " [    0     0     3     3     4     9     4     8   574     6     5]\n",
      " [    1     2     2     1     6    14    16    16    14   523    14]\n",
      " [  821   725  1802  2361  3394  3925  3959  4069  3820  3866 11348]]\n",
      "(array([ 4.,  5.,  6.,  7.,  8.,  9., 10., 11., 12., 13., 14.]), array([ 5152,  4111,  8807, 11174, 13149, 12801, 10815,  9294,  7641,\n",
      "        7016, 15040]))\n",
      "(array([ 4.,  5.,  6.,  7.,  8.,  9., 10., 11., 12., 13., 14.]), array([ 8549,   461,  3078,  9324, 28244, 11173,  1911,   945,   616,\n",
      "         609, 40090]))\n"
     ]
    }
   ],
   "source": [
    "model_eva(gbc_clf,X_train,y_train)"
   ]
  },
  {
   "cell_type": "code",
   "execution_count": 50,
   "metadata": {
    "collapsed": false
   },
   "outputs": [
    {
     "name": "stdout",
     "output_type": "stream",
     "text": [
      "precision_score: 0.17365974128587655\n",
      "[[ 776  509  572  422  403  311  217  149  106   77  130]\n",
      " [  25   19   18   20   21    7   18    9    5    6    7]\n",
      " [ 123  116  224  205  152  119   75   68   54   37   48]\n",
      " [ 140  121  580  811  747  595  397  232  142  133  127]\n",
      " [ 621  555 1280 1726 1897 1814 1280  944  735  561  854]\n",
      " [  98  104  291  511  736  771  677  573  394  294  385]\n",
      " [  15   14   35   50   90  134  130  122   67   77   56]\n",
      " [  10    3   12   28   40   55   47   47   41   33   41]\n",
      " [   1    1    6   14   12   22   30   23   35   18   32]\n",
      " [   4    4   12   18   13   20   24   25   21   27   42]\n",
      " [ 363  320  784 1034 1445 1734 1622 1813 1675 1785 4700]]\n",
      "(array([ 4.,  5.,  6.,  7.,  8.,  9., 10., 11., 12., 13., 14.]), array([2176, 1766, 3814, 4839, 5556, 5582, 4517, 4005, 3275, 3048, 6422]))\n",
      "(array([ 4.,  5.,  6.,  7.,  8.,  9., 10., 11., 12., 13., 14.]), array([ 3672,   155,  1221,  4025, 12267,  4834,   790,   357,   194,\n",
      "         210, 17275]))\n"
     ]
    }
   ],
   "source": [
    "model_eva(gbc_clf,X_test,y_test)"
   ]
  },
  {
   "cell_type": "code",
   "execution_count": 4,
   "metadata": {
    "collapsed": true
   },
   "outputs": [],
   "source": [
    "import xgboost as xgb"
   ]
  },
  {
   "cell_type": "code",
   "execution_count": 60,
   "metadata": {
    "collapsed": false
   },
   "outputs": [
    {
     "data": {
      "text/plain": [
       "XGBClassifier(base_score=0.5, booster='gbtree', colsample_bylevel=1,\n",
       "       colsample_bytree=0.2, gamma=0.0, learning_rate=0.01,\n",
       "       max_delta_step=0, max_depth=8, min_child_weight=1.5, missing=None,\n",
       "       n_estimators=1000, n_jobs=1, nthread=None,\n",
       "       objective='multi:softprob', random_state=0, reg_alpha=0.9,\n",
       "       reg_lambda=0.6, scale_pos_weight=1, seed=42, silent=1,\n",
       "       subsample=0.2)"
      ]
     },
     "execution_count": 60,
     "metadata": {},
     "output_type": "execute_result"
    }
   ],
   "source": [
    "# xgb_clf = xgb.XGBClassifier(\n",
    "#                  colsample_bytree=0.2,\n",
    "#                  gamma=0.0,\n",
    "#                  learning_rate=0.01,\n",
    "#                  max_depth=6,\n",
    "#                  min_child_weight=1.5,\n",
    "#                  n_estimators=100,                                                                  \n",
    "#                  reg_alpha=0.9,\n",
    "#                  reg_lambda=0.6,\n",
    "#                  subsample=0.2,\n",
    "#                  seed=42,\n",
    "#                  silent=1)\n",
    "xgb_clf = xgb.XGBClassifier(\n",
    "                 colsample_bytree=0.2,\n",
    "                 gamma=0.0,\n",
    "                 learning_rate=0.1,\n",
    "                 max_depth=6,\n",
    "                 min_child_weight=1.5,\n",
    "                 n_estimators=100,                                                                  \n",
    "                 reg_alpha=0.9,\n",
    "                 reg_lambda=0.6,\n",
    "                 subsample=0.2,\n",
    "                 seed=42,\n",
    "                 silent=1)\n",
    "xgb_clf.fit(X_train,y_train)"
   ]
  },
  {
   "cell_type": "code",
   "execution_count": 63,
   "metadata": {
    "collapsed": false
   },
   "outputs": [
    {
     "name": "stdout",
     "output_type": "stream",
     "text": [
      "precision_score: 0.42420484769293015\n",
      "[[ 2028  1173  1169   852   791   640   459   369   222   162   314]\n",
      " [   10    36     8     9     8    10     3     2     0     0     2]\n",
      " [  376   364  1122   506   489   410   276   171   127    90   111]\n",
      " [  292   315  1236  2657  1283  1180   824   515   341   223   256]\n",
      " [ 1207  1128  2556  3281  5521  3273  2798  1995  1500  1224  1592]\n",
      " [  305   264   796  1283  1478  3160  1474  1292   972   789   922]\n",
      " [   37    37    90   143   184   171   966   195   170   125   109]\n",
      " [   11     6    32    46    46    52    44   523    60    53    47]\n",
      " [    0     2     3     4     6     3     7     5   206     4     1]\n",
      " [    0     0     3     4     4     8     8     7     3   209     3]\n",
      " [  886   786  1792  2389  3339  3894  3956  4220  4040  4137 11683]]\n",
      "(array([ 4.,  5.,  6.,  7.,  8.,  9., 10., 11., 12., 13., 14.]), array([ 5152,  4111,  8807, 11174, 13149, 12801, 10815,  9294,  7641,\n",
      "        7016, 15040]))\n",
      "(array([ 4.,  5.,  6.,  7.,  8.,  9., 10., 11., 12., 13., 14.]), array([ 8179,    88,  4042,  9122, 26075, 12735,  2227,   920,   241,\n",
      "         249, 41122]))\n"
     ]
    }
   ],
   "source": [
    "model_eva(xgb_clf,X_train,y_train)"
   ]
  },
  {
   "cell_type": "code",
   "execution_count": 64,
   "metadata": {
    "collapsed": false
   },
   "outputs": [
    {
     "name": "stdout",
     "output_type": "stream",
     "text": [
      "precision_score: 0.16872839888337865\n",
      "[[ 774  509  546  401  355  290  194  139   88   60  116]\n",
      " [   6    5    4    8    2    2    3    1    0    1    1]\n",
      " [ 196  172  292  270  222  190  114   66   53   40   57]\n",
      " [ 141  134  569  827  727  546  370  203  134  119  119]\n",
      " [ 554  485 1229 1582 1806 1715 1186  924  665  505  694]\n",
      " [ 121  130  322  564  840  922  743  589  453  311  423]\n",
      " [  14   16   33   71  110  146  150  149   77   71   79]\n",
      " [   3    0   13   29   37   36   52   54   43   28   29]\n",
      " [   0    0    0    1    4    4    4   11    3    4   12]\n",
      " [   0    1    1    3    6    2    9    6    6    4    6]\n",
      " [ 367  314  805 1083 1447 1729 1692 1863 1753 1905 4886]]\n",
      "(array([ 4.,  5.,  6.,  7.,  8.,  9., 10., 11., 12., 13., 14.]), array([2176, 1766, 3814, 4839, 5556, 5582, 4517, 4005, 3275, 3048, 6422]))\n",
      "(array([ 4.,  5.,  6.,  7.,  8.,  9., 10., 11., 12., 13., 14.]), array([ 3472,    33,  1672,  3889, 11345,  5418,   916,   324,    43,\n",
      "          44, 17844]))\n"
     ]
    }
   ],
   "source": [
    "model_eva(xgb_clf,X_test,y_test)"
   ]
  },
  {
   "cell_type": "code",
   "execution_count": 57,
   "metadata": {
    "collapsed": false
   },
   "outputs": [
    {
     "name": "stdout",
     "output_type": "stream",
     "text": [
      "precision_score: 0.363787233475394\n",
      "[[ 1813  1134  1114   839   766   613   435   355   216   156   292]\n",
      " [    4     6     3     5     1     2     2     1     0     0     1]\n",
      " [  290   255   636   327   312   241   162    96    75    49    83]\n",
      " [  245   259  1219  2154  1267  1094   715   466   296   198   186]\n",
      " [ 1575  1353  3093  3918  5422  3968  3200  2339  1709  1410  2044]\n",
      " [  242   203   698  1176  1442  2318  1417  1183   862   691   865]\n",
      " [   16    17    47    98   132   136   477   145   117    70    72]\n",
      " [    1     2    14    22    23    36    30   180    37    26    23]\n",
      " [    0     2     2     4     3     3     2     2    60     2     1]\n",
      " [    0     0     0     1     0     4     0     5     2    52     1]\n",
      " [  966   880  1981  2630  3781  4386  4375  4522  4267  4362 11472]]\n",
      "(array([ 4.,  5.,  6.,  7.,  8.,  9., 10., 11., 12., 13., 14.]), array([ 5152,  4111,  8807, 11174, 13149, 12801, 10815,  9294,  7641,\n",
      "        7016, 15040]))\n",
      "(array([ 4.,  5.,  6.,  7.,  8.,  9., 10., 11., 12., 13., 14.]), array([ 7733,    25,  2526,  8099, 30031, 11097,  1327,   394,    81,\n",
      "          65, 43622]))\n"
     ]
    }
   ],
   "source": [
    "model_eva(xgb_clf,X_train,y_train)"
   ]
  },
  {
   "cell_type": "code",
   "execution_count": 58,
   "metadata": {
    "collapsed": false
   },
   "outputs": [
    {
     "name": "stdout",
     "output_type": "stream",
     "text": [
      "precision_score: 0.17846799358845097\n",
      "[[ 718  461  518  387  340  278  192  134   87   56  111]\n",
      " [   4    1    2    2    0    1    0    0    0    0    0]\n",
      " [ 137  123  193  154  133  111   60   39   34   27   33]\n",
      " [ 125  111  536  756  652  477  321  173  111   95   96]\n",
      " [ 680  616 1398 1831 2034 1899 1332 1014  780  590  872]\n",
      " [  98   99  279  489  727  776  646  517  385  276  366]\n",
      " [  10    5   20   40   70   85   97   91   46   46   46]\n",
      " [   2    1    2   12   18   19   30   31   17   14   10]\n",
      " [   0    0    0    0    3    1    2    2    4    1    5]\n",
      " [   0    0    1    1    3    1    2    2    3    1    2]\n",
      " [ 402  349  865 1167 1576 1934 1835 2002 1808 1942 4881]]\n",
      "(array([ 4.,  5.,  6.,  7.,  8.,  9., 10., 11., 12., 13., 14.]), array([2176, 1766, 3814, 4839, 5556, 5582, 4517, 4005, 3275, 3048, 6422]))\n",
      "(array([ 4.,  5.,  6.,  7.,  8.,  9., 10., 11., 12., 13., 14.]), array([ 3282,    10,  1044,  3453, 13046,  4658,   556,   156,    18,\n",
      "          16, 18761]))\n"
     ]
    }
   ],
   "source": [
    "model_eva(xgb_clf,X_test,y_test)"
   ]
  },
  {
   "cell_type": "code",
   "execution_count": null,
   "metadata": {
    "collapsed": true
   },
   "outputs": [],
   "source": []
  }
 ],
 "metadata": {
  "kernelspec": {
   "display_name": "Python 3",
   "language": "python",
   "name": "python3"
  },
  "language_info": {
   "codemirror_mode": {
    "name": "ipython",
    "version": 3
   },
   "file_extension": ".py",
   "mimetype": "text/x-python",
   "name": "python",
   "nbconvert_exporter": "python",
   "pygments_lexer": "ipython3",
   "version": "3.7.1"
  }
 },
 "nbformat": 4,
 "nbformat_minor": 2
}
