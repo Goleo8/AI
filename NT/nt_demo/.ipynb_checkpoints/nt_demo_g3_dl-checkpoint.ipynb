{
 "cells": [
  {
   "cell_type": "code",
   "execution_count": 5,
   "metadata": {},
   "outputs": [
    {
     "name": "stderr",
     "output_type": "stream",
     "text": [
      "/home/ec2-user/anaconda3/envs/tensorflow_p36/lib/python3.6/site-packages/h5py/__init__.py:36: FutureWarning: Conversion of the second argument of issubdtype from `float` to `np.floating` is deprecated. In future, it will be treated as `np.float64 == np.dtype(float).type`.\n",
      "  from ._conv import register_converters as _register_converters\n",
      "Using TensorFlow backend.\n"
     ]
    }
   ],
   "source": [
    "import keras\n",
    "import pandas as pd\n",
    "import numpy as np\n",
    "from sklearn.datasets import load_svmlight_file\n",
    "from sklearn.utils import resample\n",
    "from sklearn.ensemble import RandomForestClassifier\n",
    "from sklearn.model_selection import GridSearchCV\n",
    "from sklearn.model_selection import train_test_split\n",
    "from sklearn.decomposition import PCA\n",
    "from sklearn.metrics import accuracy_score,precision_score, precision_recall_curve, recall_score, roc_curve, auc, confusion_matrix,classification_report\n",
    "import numpy as np\n",
    "import matplotlib.pyplot as plt\n",
    "%matplotlib inline"
   ]
  },
  {
   "cell_type": "code",
   "execution_count": 3,
   "metadata": {},
   "outputs": [
    {
     "name": "stdout",
     "output_type": "stream",
     "text": [
      "totale 362896\r\n",
      "drwxrwxr-x 2 ec2-user ec2-user     4096 16 gen 22.37 .\r\n",
      "drwxrwxr-x 4 ec2-user ec2-user     4096 16 gen 22.37 ..\r\n",
      "-rw-rw-r-- 1 ec2-user ec2-user 93295897 16 gen 22.37 demo-g1.txt\r\n",
      "-rw-rw-r-- 1 ec2-user ec2-user 14890433 16 gen 22.37 demo-g1-v2.txt\r\n",
      "-rw-rw-r-- 1 ec2-user ec2-user 86071971 16 gen 22.37 demo-g3.txt\r\n",
      "-rw-rw-r-- 1 ec2-user ec2-user  5459634 16 gen 22.37 demo-g3-v2-test.txt\r\n",
      "-rw-rw-r-- 1 ec2-user ec2-user 13160539 16 gen 22.37 demo-g3-v2.txt\r\n",
      "-rw-rw-r-- 1 ec2-user ec2-user    50590 16 gen 22.37 em_survey_choice_ids.json\r\n",
      "-rw-rw-r-- 1 ec2-user ec2-user 69299446 16 gen 22.37 spark-demo-g1.json\r\n",
      "-rw-rw-r-- 1 ec2-user ec2-user 44667946 16 gen 22.37 spark-demo-g3.json\r\n",
      "-rw-rw-r-- 1 ec2-user ec2-user 44353740 16 gen 22.37 spark-demo-g3-v2.json\r\n",
      "-rw-rw-r-- 1 ec2-user ec2-user   324420 16 gen 22.37 url_entities.json\r\n"
     ]
    }
   ],
   "source": [
    "!ls -al data/"
   ]
  },
  {
   "cell_type": "code",
   "execution_count": 6,
   "metadata": {},
   "outputs": [],
   "source": [
    "data = load_svmlight_file('data/demo-g3-v2.txt')\n",
    "X,y=data[0],data[1]\n",
    "X_s,y_s=resample(X,y,n_samples=100000,replace=False)\n"
   ]
  },
  {
   "cell_type": "code",
   "execution_count": 7,
   "metadata": {},
   "outputs": [],
   "source": [
    "from sklearn.preprocessing import LabelEncoder\n",
    "le=LabelEncoder()\n",
    "y_e=le.fit_transform(y_s)"
   ]
  },
  {
   "cell_type": "code",
   "execution_count": 8,
   "metadata": {},
   "outputs": [],
   "source": [
    "X_train,X_test,y_train,y_test = train_test_split(X_s,y_e,test_size=.3,random_state=42)"
   ]
  },
  {
   "cell_type": "code",
   "execution_count": 9,
   "metadata": {},
   "outputs": [],
   "source": [
    "model = keras.Sequential()"
   ]
  },
  {
   "cell_type": "code",
   "execution_count": 11,
   "metadata": {},
   "outputs": [],
   "source": [
    "from keras.layers import Dense"
   ]
  },
  {
   "cell_type": "code",
   "execution_count": 10,
   "metadata": {},
   "outputs": [
    {
     "ename": "TypeError",
     "evalue": "add() missing 1 required positional argument: 'layer'",
     "output_type": "error",
     "traceback": [
      "\u001b[0;31m---------------------------------------------------------------------------\u001b[0m",
      "\u001b[0;31mTypeError\u001b[0m                                 Traceback (most recent call last)",
      "\u001b[0;32m<ipython-input-10-686fd55c7186>\u001b[0m in \u001b[0;36m<module>\u001b[0;34m()\u001b[0m\n\u001b[0;32m----> 1\u001b[0;31m \u001b[0mmodel\u001b[0m\u001b[0;34m.\u001b[0m\u001b[0madd\u001b[0m\u001b[0;34m(\u001b[0m\u001b[0;34m)\u001b[0m\u001b[0;34m\u001b[0m\u001b[0m\n\u001b[0m",
      "\u001b[0;31mTypeError\u001b[0m: add() missing 1 required positional argument: 'layer'"
     ]
    }
   ],
   "source": [
    "model.add(Dense(16,activation='relu',input_shape=(X_train.shape[1]),))\n",
    "model.add(Dense(16,activation='relu'))"
   ]
  }
 ],
 "metadata": {
  "kernelspec": {
   "display_name": "Python [conda env:tensorflow_p36]",
   "language": "python",
   "name": "conda-env-tensorflow_p36-py"
  },
  "language_info": {
   "codemirror_mode": {
    "name": "ipython",
    "version": 3
   },
   "file_extension": ".py",
   "mimetype": "text/x-python",
   "name": "python",
   "nbconvert_exporter": "python",
   "pygments_lexer": "ipython3",
   "version": "3.6.6"
  }
 },
 "nbformat": 4,
 "nbformat_minor": 2
}
