{
 "cells": [
  {
   "cell_type": "code",
   "execution_count": 1,
   "metadata": {
    "collapsed": true
   },
   "outputs": [],
   "source": [
    "import json"
   ]
  },
  {
   "cell_type": "code",
   "execution_count": 2,
   "metadata": {
    "collapsed": true
   },
   "outputs": [],
   "source": [
    "with open('data/interest_attr_groups.json','r') as input_file:\n",
    "    interests=json.load(input_file)"
   ]
  },
  {
   "cell_type": "code",
   "execution_count": 6,
   "metadata": {
    "collapsed": true
   },
   "outputs": [],
   "source": [
    "with open('data/interests.json','w') as output_file:\n",
    "    for ele in interests:\n",
    "        output_file.write('\"{}\":\"{}\",\\n'.format(ele['id'],ele['name']))\n",
    "        if 'attributes' in ele:\n",
    "            for e in ele['attributes']:\n",
    "                output_file.write('\"{}\":\"{}\",\\n'.format(e['id'],e['name']))"
   ]
  },
  {
   "cell_type": "code",
   "execution_count": 7,
   "metadata": {
    "collapsed": true
   },
   "outputs": [],
   "source": [
    "import pandas as pd"
   ]
  },
  {
   "cell_type": "code",
   "execution_count": 8,
   "metadata": {
    "collapsed": true
   },
   "outputs": [],
   "source": [
    "df = pd.read_json('data/part-00000-01879ecc-30aa-4a16-9ed8-1f57e2817a47-c000.json',lines=True)"
   ]
  },
  {
   "cell_type": "code",
   "execution_count": 9,
   "metadata": {
    "collapsed": false
   },
   "outputs": [
    {
     "data": {
      "text/html": [
       "<div>\n",
       "<style scoped>\n",
       "    .dataframe tbody tr th:only-of-type {\n",
       "        vertical-align: middle;\n",
       "    }\n",
       "\n",
       "    .dataframe tbody tr th {\n",
       "        vertical-align: top;\n",
       "    }\n",
       "\n",
       "    .dataframe thead th {\n",
       "        text-align: right;\n",
       "    }\n",
       "</style>\n",
       "<table border=\"1\" class=\"dataframe\">\n",
       "  <thead>\n",
       "    <tr style=\"text-align: right;\">\n",
       "      <th></th>\n",
       "      <th>interests</th>\n",
       "      <th>interests_confidence</th>\n",
       "      <th>interests_names</th>\n",
       "      <th>page_url</th>\n",
       "      <th>titles</th>\n",
       "    </tr>\n",
       "  </thead>\n",
       "  <tbody>\n",
       "    <tr>\n",
       "      <th>0</th>\n",
       "      <td>[]</td>\n",
       "      <td>[]</td>\n",
       "      <td>[]</td>\n",
       "      <td>https://arabia.babycenter.com/a4100101/%D9%87%...</td>\n",
       "      <td>[هيا, نلعب!, طفلك, في, الشهر, 34, -, بيبي, سنت...</td>\n",
       "    </tr>\n",
       "    <tr>\n",
       "      <th>1</th>\n",
       "      <td>[]</td>\n",
       "      <td>[]</td>\n",
       "      <td>[]</td>\n",
       "      <td>https://arabia.babycenter.com/c25001156/%D8%A7...</td>\n",
       "      <td>[الأمومة, -, بيبي, سنتر, آرابيا]</td>\n",
       "    </tr>\n",
       "    <tr>\n",
       "      <th>2</th>\n",
       "      <td>[]</td>\n",
       "      <td>[]</td>\n",
       "      <td>[]</td>\n",
       "      <td>https://arabia.babycenter.com/c25001156/%D8%A7...</td>\n",
       "      <td>[الأمومة, -, بيبي, سنتر, آرابيا]</td>\n",
       "    </tr>\n",
       "    <tr>\n",
       "      <th>3</th>\n",
       "      <td>[]</td>\n",
       "      <td>[]</td>\n",
       "      <td>[]</td>\n",
       "      <td>https://arabia.babycenter.com/c25001156/%D8%A7...</td>\n",
       "      <td>[الأمومة, -, بيبي, سنتر, آرابيا]</td>\n",
       "    </tr>\n",
       "    <tr>\n",
       "      <th>4</th>\n",
       "      <td>[]</td>\n",
       "      <td>[]</td>\n",
       "      <td>[]</td>\n",
       "      <td>https://arabia.babycenter.com/c6500055/%D9%87%...</td>\n",
       "      <td>[هل, من, الطبيعي؟, -, بيبي, سنتر, آرابيا]</td>\n",
       "    </tr>\n",
       "  </tbody>\n",
       "</table>\n",
       "</div>"
      ],
      "text/plain": [
       "  interests interests_confidence interests_names  \\\n",
       "0        []                   []              []   \n",
       "1        []                   []              []   \n",
       "2        []                   []              []   \n",
       "3        []                   []              []   \n",
       "4        []                   []              []   \n",
       "\n",
       "                                            page_url  \\\n",
       "0  https://arabia.babycenter.com/a4100101/%D9%87%...   \n",
       "1  https://arabia.babycenter.com/c25001156/%D8%A7...   \n",
       "2  https://arabia.babycenter.com/c25001156/%D8%A7...   \n",
       "3  https://arabia.babycenter.com/c25001156/%D8%A7...   \n",
       "4  https://arabia.babycenter.com/c6500055/%D9%87%...   \n",
       "\n",
       "                                              titles  \n",
       "0  [هيا, نلعب!, طفلك, في, الشهر, 34, -, بيبي, سنت...  \n",
       "1                   [الأمومة, -, بيبي, سنتر, آرابيا]  \n",
       "2                   [الأمومة, -, بيبي, سنتر, آرابيا]  \n",
       "3                   [الأمومة, -, بيبي, سنتر, آرابيا]  \n",
       "4          [هل, من, الطبيعي؟, -, بيبي, سنتر, آرابيا]  "
      ]
     },
     "execution_count": 9,
     "metadata": {},
     "output_type": "execute_result"
    }
   ],
   "source": [
    "df.head()"
   ]
  },
  {
   "cell_type": "code",
   "execution_count": 17,
   "metadata": {
    "collapsed": false
   },
   "outputs": [
    {
     "data": {
      "text/plain": [
       "(212549, 5)"
      ]
     },
     "execution_count": 17,
     "metadata": {},
     "output_type": "execute_result"
    }
   ],
   "source": [
    "df.shape"
   ]
  },
  {
   "cell_type": "code",
   "execution_count": 18,
   "metadata": {
    "collapsed": false
   },
   "outputs": [
    {
     "data": {
      "text/plain": [
       "(60715, 5)"
      ]
     },
     "execution_count": 18,
     "metadata": {},
     "output_type": "execute_result"
    }
   ],
   "source": [
    "nonEmpty_df=df[df['interests'].str.len()!=0]\n",
    "nonEmpty_df.shape"
   ]
  },
  {
   "cell_type": "code",
   "execution_count": 19,
   "metadata": {
    "collapsed": false
   },
   "outputs": [
    {
     "data": {
      "text/html": [
       "<div>\n",
       "<style scoped>\n",
       "    .dataframe tbody tr th:only-of-type {\n",
       "        vertical-align: middle;\n",
       "    }\n",
       "\n",
       "    .dataframe tbody tr th {\n",
       "        vertical-align: top;\n",
       "    }\n",
       "\n",
       "    .dataframe thead th {\n",
       "        text-align: right;\n",
       "    }\n",
       "</style>\n",
       "<table border=\"1\" class=\"dataframe\">\n",
       "  <thead>\n",
       "    <tr style=\"text-align: right;\">\n",
       "      <th></th>\n",
       "      <th>interests</th>\n",
       "      <th>interests_confidence</th>\n",
       "      <th>interests_names</th>\n",
       "      <th>page_url</th>\n",
       "      <th>titles</th>\n",
       "    </tr>\n",
       "  </thead>\n",
       "  <tbody>\n",
       "    <tr>\n",
       "      <th>11</th>\n",
       "      <td>[1921, 2435, 2440, 2436, 2447, 2434, 1924]</td>\n",
       "      <td>[0.18835649519847403, 0.22350031172675103, 0.2...</td>\n",
       "      <td>[Action-Adventure Video Games, Role-Playing Vi...</td>\n",
       "      <td>https://arabia.babycenter.com/thread/100209/%D...</td>\n",
       "      <td>[سوره, الواقعه, والحمل, باذن, الله, -, الأسباب...</td>\n",
       "    </tr>\n",
       "    <tr>\n",
       "      <th>13</th>\n",
       "      <td>[1921, 2435, 2440, 2436, 2447, 2434, 1924]</td>\n",
       "      <td>[0.18835649519847403, 0.22350031172675103, 0.2...</td>\n",
       "      <td>[Action-Adventure Video Games, Role-Playing Vi...</td>\n",
       "      <td>https://arabia.babycenter.com/thread/100209/%D...</td>\n",
       "      <td>[سوره, الواقعه, والحمل, باذن, الله, -, الأسباب...</td>\n",
       "    </tr>\n",
       "    <tr>\n",
       "      <th>31</th>\n",
       "      <td>[1921, 2435, 2436, 2437, 2447, 2434, 1924]</td>\n",
       "      <td>[0.196234540563022, 0.22955011148551102, 0.222...</td>\n",
       "      <td>[Role-Playing Video Games, Simulation Video Ga...</td>\n",
       "      <td>https://arabia.babycenter.com/thread/100209/%D...</td>\n",
       "      <td>[سوره, الواقعه, والحمل, باذن, الله, -, الأسباب...</td>\n",
       "    </tr>\n",
       "    <tr>\n",
       "      <th>54</th>\n",
       "      <td>[1921, 2435, 2440, 2436, 2447, 2434, 1924]</td>\n",
       "      <td>[0.18835649519847403, 0.22350031172675103, 0.2...</td>\n",
       "      <td>[Action-Adventure Video Games, Role-Playing Vi...</td>\n",
       "      <td>https://arabia.babycenter.com/thread/12133/%D8...</td>\n",
       "      <td>[حمل, بعد, الاجهاض, -, حملك, من, الشهر, الاول,...</td>\n",
       "    </tr>\n",
       "    <tr>\n",
       "      <th>56</th>\n",
       "      <td>[2055, 1975, 1996, 1983, 1995, 1997, 2062]</td>\n",
       "      <td>[0.20193991738334102, 0.218502497912882, 0.183...</td>\n",
       "      <td>[Comedy Events, Outdoor Activities, Cinemas an...</td>\n",
       "      <td>https://arabia.babycenter.com/thread/128541/%D...</td>\n",
       "      <td>[بنات, وينكم, والله, التجمع, صار, يبكي, -, ينا...</td>\n",
       "    </tr>\n",
       "  </tbody>\n",
       "</table>\n",
       "</div>"
      ],
      "text/plain": [
       "                                     interests  \\\n",
       "11  [1921, 2435, 2440, 2436, 2447, 2434, 1924]   \n",
       "13  [1921, 2435, 2440, 2436, 2447, 2434, 1924]   \n",
       "31  [1921, 2435, 2436, 2437, 2447, 2434, 1924]   \n",
       "54  [1921, 2435, 2440, 2436, 2447, 2434, 1924]   \n",
       "56  [2055, 1975, 1996, 1983, 1995, 1997, 2062]   \n",
       "\n",
       "                                 interests_confidence  \\\n",
       "11  [0.18835649519847403, 0.22350031172675103, 0.2...   \n",
       "13  [0.18835649519847403, 0.22350031172675103, 0.2...   \n",
       "31  [0.196234540563022, 0.22955011148551102, 0.222...   \n",
       "54  [0.18835649519847403, 0.22350031172675103, 0.2...   \n",
       "56  [0.20193991738334102, 0.218502497912882, 0.183...   \n",
       "\n",
       "                                      interests_names  \\\n",
       "11  [Action-Adventure Video Games, Role-Playing Vi...   \n",
       "13  [Action-Adventure Video Games, Role-Playing Vi...   \n",
       "31  [Role-Playing Video Games, Simulation Video Ga...   \n",
       "54  [Action-Adventure Video Games, Role-Playing Vi...   \n",
       "56  [Comedy Events, Outdoor Activities, Cinemas an...   \n",
       "\n",
       "                                             page_url  \\\n",
       "11  https://arabia.babycenter.com/thread/100209/%D...   \n",
       "13  https://arabia.babycenter.com/thread/100209/%D...   \n",
       "31  https://arabia.babycenter.com/thread/100209/%D...   \n",
       "54  https://arabia.babycenter.com/thread/12133/%D8...   \n",
       "56  https://arabia.babycenter.com/thread/128541/%D...   \n",
       "\n",
       "                                               titles  \n",
       "11  [سوره, الواقعه, والحمل, باذن, الله, -, الأسباب...  \n",
       "13  [سوره, الواقعه, والحمل, باذن, الله, -, الأسباب...  \n",
       "31  [سوره, الواقعه, والحمل, باذن, الله, -, الأسباب...  \n",
       "54  [حمل, بعد, الاجهاض, -, حملك, من, الشهر, الاول,...  \n",
       "56  [بنات, وينكم, والله, التجمع, صار, يبكي, -, ينا...  "
      ]
     },
     "execution_count": 19,
     "metadata": {},
     "output_type": "execute_result"
    }
   ],
   "source": [
    "nonEmpty_df.head()"
   ]
  },
  {
   "cell_type": "code",
   "execution_count": 27,
   "metadata": {
    "collapsed": true
   },
   "outputs": [],
   "source": [
    "from nltk.corpus import words"
   ]
  },
  {
   "cell_type": "code",
   "execution_count": 26,
   "metadata": {
    "collapsed": false
   },
   "outputs": [
    {
     "name": "stdout",
     "output_type": "stream",
     "text": [
      "[nltk_data] Downloading package words to /Users/Goleo8/nltk_data...\n",
      "[nltk_data]   Unzipping corpora/words.zip.\n"
     ]
    },
    {
     "data": {
      "text/plain": [
       "True"
      ]
     },
     "execution_count": 26,
     "metadata": {},
     "output_type": "execute_result"
    }
   ],
   "source": [
    "import nltk\n",
    "\n",
    "nltk.download('words')"
   ]
  },
  {
   "cell_type": "code",
   "execution_count": 28,
   "metadata": {
    "collapsed": false
   },
   "outputs": [
    {
     "data": {
      "text/plain": [
       "False"
      ]
     },
     "execution_count": 28,
     "metadata": {},
     "output_type": "execute_result"
    }
   ],
   "source": [
    "nonEmpty_df['titles'].iloc[0][0] in words.words()"
   ]
  },
  {
   "cell_type": "code",
   "execution_count": 29,
   "metadata": {
    "collapsed": false
   },
   "outputs": [
    {
     "data": {
      "text/plain": [
       "False"
      ]
     },
     "execution_count": 29,
     "metadata": {},
     "output_type": "execute_result"
    }
   ],
   "source": [
    "8 in words.words()"
   ]
  },
  {
   "cell_type": "code",
   "execution_count": 31,
   "metadata": {
    "collapsed": true
   },
   "outputs": [],
   "source": [
    "arabia_df = nonEmpty_df[nonEmpty_df['page_url'].str.contains('arabia')]"
   ]
  },
  {
   "cell_type": "code",
   "execution_count": 32,
   "metadata": {
    "collapsed": false
   },
   "outputs": [
    {
     "data": {
      "text/plain": [
       "(27217, 5)"
      ]
     },
     "execution_count": 32,
     "metadata": {},
     "output_type": "execute_result"
    }
   ],
   "source": [
    "arabia_df.shape"
   ]
  },
  {
   "cell_type": "code",
   "execution_count": 35,
   "metadata": {
    "collapsed": true
   },
   "outputs": [],
   "source": [
    "non_arabia_df = nonEmpty_df[~ nonEmpty_df['page_url'].str.contains('arabia')]"
   ]
  },
  {
   "cell_type": "code",
   "execution_count": 36,
   "metadata": {
    "collapsed": false
   },
   "outputs": [
    {
     "data": {
      "text/plain": [
       "(33498, 5)"
      ]
     },
     "execution_count": 36,
     "metadata": {},
     "output_type": "execute_result"
    }
   ],
   "source": [
    "non_arabia_df.shape"
   ]
  },
  {
   "cell_type": "code",
   "execution_count": 40,
   "metadata": {
    "collapsed": false
   },
   "outputs": [
    {
     "name": "stdout",
     "output_type": "stream",
     "text": [
      "[1777, 2217, 2220, 2216, 1776, 1778, 2218]\n",
      "[0.37369774192501004, 0.381965047175264, 0.250241949128563, 0.30043326465158204, 0.314589276664379, 0.3202629558114, 0.333396306778356]\n",
      "['Shaving', 'Bath and Shower', 'Herbs and Supplements', 'Holistic Health', 'Deodorant and Antiperspirant', 'Alternative Medicine', 'Personal Care']\n",
      "https://www.babycenter.fr/v50002325/massage-pour-calmer-b%C3%A9b%C3%A9-en-vid%C3%A9o\n",
      "['Massage', 'pour', 'calmer', 'bébé', 'en', 'vidéo', '-', 'BabyCenter']\n"
     ]
    }
   ],
   "source": [
    "for i in non_arabia_df.loc[1065,:]:\n",
    "    print(i)"
   ]
  },
  {
   "cell_type": "code",
   "execution_count": 41,
   "metadata": {
    "collapsed": true
   },
   "outputs": [],
   "source": [
    "import numpy as np"
   ]
  },
  {
   "cell_type": "code",
   "execution_count": 42,
   "metadata": {
    "collapsed": false
   },
   "outputs": [
    {
     "data": {
      "text/plain": [
       "0.7071067811865476"
      ]
     },
     "execution_count": 42,
     "metadata": {},
     "output_type": "execute_result"
    }
   ],
   "source": [
    "np.sqrt(2)/2"
   ]
  },
  {
   "cell_type": "code",
   "execution_count": 47,
   "metadata": {
    "collapsed": false
   },
   "outputs": [
    {
     "data": {
      "text/plain": [
       "0.7071067811865476"
      ]
     },
     "execution_count": 47,
     "metadata": {},
     "output_type": "execute_result"
    }
   ],
   "source": [
    "np.cos(np.pi/4)"
   ]
  },
  {
   "cell_type": "code",
   "execution_count": null,
   "metadata": {
    "collapsed": true
   },
   "outputs": [],
   "source": []
  }
 ],
 "metadata": {
  "kernelspec": {
   "display_name": "Python 3",
   "language": "python",
   "name": "python3"
  },
  "language_info": {
   "codemirror_mode": {
    "name": "ipython",
    "version": 3
   },
   "file_extension": ".py",
   "mimetype": "text/x-python",
   "name": "python",
   "nbconvert_exporter": "python",
   "pygments_lexer": "ipython3",
   "version": "3.7.1"
  }
 },
 "nbformat": 4,
 "nbformat_minor": 2
}
