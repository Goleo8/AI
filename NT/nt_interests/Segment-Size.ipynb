{
 "cells": [
  {
   "cell_type": "code",
   "execution_count": 2,
   "metadata": {
    "collapsed": true
   },
   "outputs": [],
   "source": [
    "import pandas as pd"
   ]
  },
  {
   "cell_type": "code",
   "execution_count": 19,
   "metadata": {
    "collapsed": false
   },
   "outputs": [],
   "source": [
    "df = pd.read_csv('data/seg.csv',header=None)"
   ]
  },
  {
   "cell_type": "code",
   "execution_count": 20,
   "metadata": {
    "collapsed": true
   },
   "outputs": [],
   "source": [
    "country={\n",
    "      \"36\" : \"Australia\",\n",
    "      \"784\" : \"UAE\",\n",
    "      \"682\" : \"Saudi Arabia\",\n",
    "      \"414\" : \"Kuwait\",\n",
    "      \"512\" : \"Oman\",\n",
    "      \"48\" : \"Bahrain\",\n",
    "      \"400\" : \"Jordan\",\n",
    "      \"364\" : \"Iran\",\n",
    "      \"504\" : \"Morocco\",\n",
    "      \"12\" : \"Algeria\",\n",
    "      \"788\" : \"Tunisia\",\n",
    "      \"760\" : \"Syria\",\n",
    "      \"586\" : \"Pakistan\",\n",
    "      \"887\" : \"Yemen\",\n",
    "      \"634\" : \"Qatar\",\n",
    "      \"56\" : \"Belgium\",\n",
    "      \"250\" : \"France\",\n",
    "      \"724\" : \"Spain\",\n",
    "      \"528\" : \"Netherlands\",\n",
    "      \"203\" : \"Czech\",\n",
    "      \"792\" : \"Turkey\",\n",
    "      \"642\" : \"Romania\",\n",
    "      \"458\" : \"Malaysia\",\n",
    "      \"702\" : \"Singapore\",\n",
    "      \"356\" : \"India\",\n",
    "      \"764\" : \"Thailand\",\n",
    "      \"704\" : \"Vietnam\",\n",
    "      \"608\" : \"Philippines\",\n",
    "      \"710\" : \"South Africa\",\n",
    "      \"422\" : \"Lebanon\",\n",
    "      \"368\" : \"Iraq\",\n",
    "      \"376\" : \"Israel\",\n",
    "      \"116\" : \"Cambodia\",\n",
    "      \"818\" : \"Egypt\",\n",
    "      \"434\" : \"Libya\",\n",
    "      \"478\" : \"Mauritania\",\n",
    "      \"4\" : \"Afghanistan\",\n",
    "      \"344\" : \"Hong Kong\",\n",
    "      \"804\" : \"Ukraine\",\n",
    "      \"360\" : \"Indonesia\",\n",
    "      \"156\" : \"China\",\n",
    "      \"410\" : \"South Korea\",\n",
    "      \"408\" : \"North Korea\",\n",
    "      \"392\" : \"Japan\",\n",
    "      \"496\" : \"Mongolia\",\n",
    "      \"124\" : \"Canada\",\n",
    "      \"840\" : \"USA\",\n",
    "      \"826\" : \"UK\",\n",
    "      \"144\" : \"Sri Lanka\",\n",
    "      \"566\" : \"Nigeria\",\n",
    "      \"404\" : \"Kenya\",\n",
    "      \"554\" : \"New Zealand\",\n",
    "      \"275\" : \"Palestine\",\n",
    "      \"484\" : \"Mexico\",\n",
    "      \"76\" : \"Brazil\",\n",
    "      \"170\" : \"Colombia\",\n",
    "      \"32\" : \"Argentina\",\n",
    "      \"152\" : \"Chile\",\n",
    "      \"604\" : \"Peru\",\n",
    "      \"862\" : \"Venezuela\",\n",
    "      \"218\" : \"Ecuador\",\n",
    "      \"68\" : \"Bolivia\",\n",
    "      \"600\" : \"Paraguay\",\n",
    "      \"858\" : \"Uruguay\",\n",
    "      \"158\" : \"Taiwan\",\n",
    "      \"729\" : \"Sudan\",\n",
    "      \"276\" : \"Germany\",\n",
    "      \"300\" : \"Greece\",\n",
    "      \"380\" : \"Italy\",\n",
    "      \"288\" : \"Ghana\",\n",
    "      \"834\" : \"Tanzania\",\n",
    "      \"231\" : \"Ethiopia\",\n",
    "      \"716\" : \"Zimbabwe\",\n",
    "      \"894\" : \"Zambia\",\n",
    "      \"270\" : \"Gambia\",\n",
    "      \"454\" : \"Malawi\",\n",
    "      \"208\" : \"Denmark\",\n",
    "      \"578\" : \"Norway\",\n",
    "      \"246\" : \"Finland\",\n",
    "      \"50\" : \"Bangladesh\",\n",
    "      \"372\" : \"Ireland\",\n",
    "      \"756\" : \"Switzerland\",\n",
    "      \"752\" : \"Sweden\",\n",
    "      \"192\" : \"Cuba\",\n",
    "      \"388\" : \"Jamaica\",\n",
    "      \"643\" : \"Russia\",\n",
    "      \"70\" : \"Bosnia-Herzegovina\",\n",
    "      \"40\" : \"Austria\",\n",
    "      \"620\" : \"Portugal\",\n",
    "      \"516\" : \"Namibia\",\n",
    "      \"72\" : \"Botswana\",\n",
    "      \"800\" : \"Uganda\",\n",
    "      \"728\" : \"South Sudan\",\n",
    "      \"703\" : \"Slovakia\",\n",
    "      \"348\" : \"Hungary\",\n",
    "      \"266\" : \"Gabon\",\n",
    "      \"508\" : \"Mozambique\",\n",
    "      \"24\" : \"Angola\",\n",
    "      \"120\" : \"Cameroon\",\n",
    "      \"384\" : \"CoteDIvore\",\n",
    "      \"96\" : \"Brunei\",\n",
    "      \"426\" : \"Lesotho\",\n",
    "      \"430\" : \"Liberia\",\n",
    "      \"450\" : \"Madagascar\",\n",
    "      \"466\" : \"Mali\",\n",
    "      \"480\" : \"Mauritius\",\n",
    "      \"562\" : \"Niger\",\n",
    "      \"646\" : \"Rwanda\",\n",
    "      \"686\" : \"Senegal\",\n",
    "      \"706\" : \"Somalia\",\n",
    "      \"748\" : \"Swaziland\",\n",
    "      \"180\" : \"Congo Dem Rep\",\n",
    "      \"178\" : \"Congo\",\n",
    "      \"148\" : \"Chad\",\n",
    "      \"690\" : \"Seychelles\",\n",
    "      \"232\" : \"Eritrea\",\n",
    "      \"694\" : \"Sierra Leone\",\n",
    "      \"768\" : \"Togo\"\n",
    "      }"
   ]
  },
  {
   "cell_type": "code",
   "execution_count": 37,
   "metadata": {
    "collapsed": false
   },
   "outputs": [
    {
     "data": {
      "text/plain": [
       "{36: 'Australia',\n",
       " 784: 'UAE',\n",
       " 682: 'Saudi Arabia',\n",
       " 414: 'Kuwait',\n",
       " 512: 'Oman',\n",
       " 48: 'Bahrain',\n",
       " 400: 'Jordan',\n",
       " 364: 'Iran',\n",
       " 504: 'Morocco',\n",
       " 12: 'Algeria',\n",
       " 788: 'Tunisia',\n",
       " 760: 'Syria',\n",
       " 586: 'Pakistan',\n",
       " 887: 'Yemen',\n",
       " 634: 'Qatar',\n",
       " 56: 'Belgium',\n",
       " 250: 'France',\n",
       " 724: 'Spain',\n",
       " 528: 'Netherlands',\n",
       " 203: 'Czech',\n",
       " 792: 'Turkey',\n",
       " 642: 'Romania',\n",
       " 458: 'Malaysia',\n",
       " 702: 'Singapore',\n",
       " 356: 'India',\n",
       " 764: 'Thailand',\n",
       " 704: 'Vietnam',\n",
       " 608: 'Philippines',\n",
       " 710: 'South Africa',\n",
       " 422: 'Lebanon',\n",
       " 368: 'Iraq',\n",
       " 376: 'Israel',\n",
       " 116: 'Cambodia',\n",
       " 818: 'Egypt',\n",
       " 434: 'Libya',\n",
       " 478: 'Mauritania',\n",
       " 4: 'Afghanistan',\n",
       " 344: 'Hong Kong',\n",
       " 804: 'Ukraine',\n",
       " 360: 'Indonesia',\n",
       " 156: 'China',\n",
       " 410: 'South Korea',\n",
       " 408: 'North Korea',\n",
       " 392: 'Japan',\n",
       " 496: 'Mongolia',\n",
       " 124: 'Canada',\n",
       " 840: 'USA',\n",
       " 826: 'UK',\n",
       " 144: 'Sri Lanka',\n",
       " 566: 'Nigeria',\n",
       " 404: 'Kenya',\n",
       " 554: 'New Zealand',\n",
       " 275: 'Palestine',\n",
       " 484: 'Mexico',\n",
       " 76: 'Brazil',\n",
       " 170: 'Colombia',\n",
       " 32: 'Argentina',\n",
       " 152: 'Chile',\n",
       " 604: 'Peru',\n",
       " 862: 'Venezuela',\n",
       " 218: 'Ecuador',\n",
       " 68: 'Bolivia',\n",
       " 600: 'Paraguay',\n",
       " 858: 'Uruguay',\n",
       " 158: 'Taiwan',\n",
       " 729: 'Sudan',\n",
       " 276: 'Germany',\n",
       " 300: 'Greece',\n",
       " 380: 'Italy',\n",
       " 288: 'Ghana',\n",
       " 834: 'Tanzania',\n",
       " 231: 'Ethiopia',\n",
       " 716: 'Zimbabwe',\n",
       " 894: 'Zambia',\n",
       " 270: 'Gambia',\n",
       " 454: 'Malawi',\n",
       " 208: 'Denmark',\n",
       " 578: 'Norway',\n",
       " 246: 'Finland',\n",
       " 50: 'Bangladesh',\n",
       " 372: 'Ireland',\n",
       " 756: 'Switzerland',\n",
       " 752: 'Sweden',\n",
       " 192: 'Cuba',\n",
       " 388: 'Jamaica',\n",
       " 643: 'Russia',\n",
       " 70: 'Bosnia-Herzegovina',\n",
       " 40: 'Austria',\n",
       " 620: 'Portugal',\n",
       " 516: 'Namibia',\n",
       " 72: 'Botswana',\n",
       " 800: 'Uganda',\n",
       " 728: 'South Sudan',\n",
       " 703: 'Slovakia',\n",
       " 348: 'Hungary',\n",
       " 266: 'Gabon',\n",
       " 508: 'Mozambique',\n",
       " 24: 'Angola',\n",
       " 120: 'Cameroon',\n",
       " 384: 'CoteDIvore',\n",
       " 96: 'Brunei',\n",
       " 426: 'Lesotho',\n",
       " 430: 'Liberia',\n",
       " 450: 'Madagascar',\n",
       " 466: 'Mali',\n",
       " 480: 'Mauritius',\n",
       " 562: 'Niger',\n",
       " 646: 'Rwanda',\n",
       " 686: 'Senegal',\n",
       " 706: 'Somalia',\n",
       " 748: 'Swaziland',\n",
       " 180: 'Congo Dem Rep',\n",
       " 178: 'Congo',\n",
       " 148: 'Chad',\n",
       " 690: 'Seychelles',\n",
       " 232: 'Eritrea',\n",
       " 694: 'Sierra Leone',\n",
       " 768: 'Togo'}"
      ]
     },
     "execution_count": 37,
     "metadata": {},
     "output_type": "execute_result"
    }
   ],
   "source": [
    "new_country={int(k):v for k,v in country.items()}\n",
    "new_country"
   ]
  },
  {
   "cell_type": "code",
   "execution_count": 38,
   "metadata": {
    "collapsed": true
   },
   "outputs": [],
   "source": [
    "df.columns=['country','interest','count']"
   ]
  },
  {
   "cell_type": "code",
   "execution_count": 39,
   "metadata": {
    "collapsed": false
   },
   "outputs": [
    {
     "data": {
      "text/html": [
       "<div>\n",
       "<style scoped>\n",
       "    .dataframe tbody tr th:only-of-type {\n",
       "        vertical-align: middle;\n",
       "    }\n",
       "\n",
       "    .dataframe tbody tr th {\n",
       "        vertical-align: top;\n",
       "    }\n",
       "\n",
       "    .dataframe thead th {\n",
       "        text-align: right;\n",
       "    }\n",
       "</style>\n",
       "<table border=\"1\" class=\"dataframe\">\n",
       "  <thead>\n",
       "    <tr style=\"text-align: right;\">\n",
       "      <th></th>\n",
       "      <th>country</th>\n",
       "      <th>interest</th>\n",
       "      <th>count</th>\n",
       "    </tr>\n",
       "  </thead>\n",
       "  <tbody>\n",
       "    <tr>\n",
       "      <th>0</th>\n",
       "      <td>South Africa</td>\n",
       "      <td>1038</td>\n",
       "      <td>1415095</td>\n",
       "    </tr>\n",
       "    <tr>\n",
       "      <th>1</th>\n",
       "      <td>South Africa</td>\n",
       "      <td>1244</td>\n",
       "      <td>1796275</td>\n",
       "    </tr>\n",
       "    <tr>\n",
       "      <th>2</th>\n",
       "      <td>Zimbabwe</td>\n",
       "      <td>1329</td>\n",
       "      <td>59528</td>\n",
       "    </tr>\n",
       "    <tr>\n",
       "      <th>3</th>\n",
       "      <td>Malaysia</td>\n",
       "      <td>826</td>\n",
       "      <td>152979</td>\n",
       "    </tr>\n",
       "    <tr>\n",
       "      <th>4</th>\n",
       "      <td>NaN</td>\n",
       "      <td>1225</td>\n",
       "      <td>337281</td>\n",
       "    </tr>\n",
       "  </tbody>\n",
       "</table>\n",
       "</div>"
      ],
      "text/plain": [
       "        country  interest    count\n",
       "0  South Africa      1038  1415095\n",
       "1  South Africa      1244  1796275\n",
       "2      Zimbabwe      1329    59528\n",
       "3      Malaysia       826   152979\n",
       "4           NaN      1225   337281"
      ]
     },
     "execution_count": 39,
     "metadata": {},
     "output_type": "execute_result"
    }
   ],
   "source": [
    "df['country']=df['country'].map(new_country)\n",
    "df.head(5)"
   ]
  },
  {
   "cell_type": "code",
   "execution_count": 40,
   "metadata": {
    "collapsed": false
   },
   "outputs": [
    {
     "name": "stdout",
     "output_type": "stream",
     "text": [
      "<class 'pandas.core.frame.DataFrame'>\n",
      "RangeIndex: 165531 entries, 0 to 165530\n",
      "Data columns (total 3 columns):\n",
      "country     82089 non-null object\n",
      "interest    165531 non-null int64\n",
      "count       165531 non-null int64\n",
      "dtypes: int64(2), object(1)\n",
      "memory usage: 3.8+ MB\n"
     ]
    }
   ],
   "source": [
    "df.info()"
   ]
  },
  {
   "cell_type": "code",
   "execution_count": 8,
   "metadata": {
    "collapsed": true
   },
   "outputs": [],
   "source": [
    "import json"
   ]
  },
  {
   "cell_type": "code",
   "execution_count": 9,
   "metadata": {
    "collapsed": true
   },
   "outputs": [],
   "source": [
    "with open('data/interest_attr_groups.json','r') as input:\n",
    "    interests = json.load(input)"
   ]
  },
  {
   "cell_type": "code",
   "execution_count": 10,
   "metadata": {
    "collapsed": false
   },
   "outputs": [],
   "source": [
    "interests_dict={}\n",
    "for i in interests:\n",
    "    interests_dict[i['id']]=i['name']\n",
    "    if 'attributes' in i:\n",
    "        for j in i['attributes']:\n",
    "            interests_dict[j['id']]=j['name']"
   ]
  },
  {
   "cell_type": "code",
   "execution_count": 41,
   "metadata": {
    "collapsed": false
   },
   "outputs": [
    {
     "data": {
      "text/html": [
       "<div>\n",
       "<style scoped>\n",
       "    .dataframe tbody tr th:only-of-type {\n",
       "        vertical-align: middle;\n",
       "    }\n",
       "\n",
       "    .dataframe tbody tr th {\n",
       "        vertical-align: top;\n",
       "    }\n",
       "\n",
       "    .dataframe thead th {\n",
       "        text-align: right;\n",
       "    }\n",
       "</style>\n",
       "<table border=\"1\" class=\"dataframe\">\n",
       "  <thead>\n",
       "    <tr style=\"text-align: right;\">\n",
       "      <th></th>\n",
       "      <th>dmp_names</th>\n",
       "      <th>exclude</th>\n",
       "      <th>external_id</th>\n",
       "      <th>id</th>\n",
       "      <th>include</th>\n",
       "      <th>name</th>\n",
       "    </tr>\n",
       "  </thead>\n",
       "  <tbody>\n",
       "    <tr>\n",
       "      <th>0</th>\n",
       "      <td>[ddp]</td>\n",
       "      <td>[]</td>\n",
       "      <td>742407270</td>\n",
       "      <td>949</td>\n",
       "      <td>[[1927]]</td>\n",
       "      <td>Interest &gt; Diseases and Conditions &gt; Ear, Nose...</td>\n",
       "    </tr>\n",
       "    <tr>\n",
       "      <th>1</th>\n",
       "      <td>[ddp]</td>\n",
       "      <td>[]</td>\n",
       "      <td>742407957</td>\n",
       "      <td>1215</td>\n",
       "      <td>[[2193]]</td>\n",
       "      <td>Interest &gt; Music and Audio &gt; Soundtracks, TV a...</td>\n",
       "    </tr>\n",
       "    <tr>\n",
       "      <th>2</th>\n",
       "      <td>[ddp]</td>\n",
       "      <td>[]</td>\n",
       "      <td>738308195</td>\n",
       "      <td>1332</td>\n",
       "      <td>[[2310]]</td>\n",
       "      <td>Interest &gt; Science</td>\n",
       "    </tr>\n",
       "    <tr>\n",
       "      <th>3</th>\n",
       "      <td>[ddp]</td>\n",
       "      <td>[]</td>\n",
       "      <td>738307994</td>\n",
       "      <td>796</td>\n",
       "      <td>[[1774]]</td>\n",
       "      <td>Interest &gt; Adult Contemporary Music</td>\n",
       "    </tr>\n",
       "    <tr>\n",
       "      <th>4</th>\n",
       "      <td>[ddp]</td>\n",
       "      <td>[]</td>\n",
       "      <td>742406850</td>\n",
       "      <td>795</td>\n",
       "      <td>[[1773]]</td>\n",
       "      <td>Interest &gt; Adult Contemporary Music &gt; Soft AC ...</td>\n",
       "    </tr>\n",
       "  </tbody>\n",
       "</table>\n",
       "</div>"
      ],
      "text/plain": [
       "  dmp_names exclude  external_id    id   include  \\\n",
       "0     [ddp]      []    742407270   949  [[1927]]   \n",
       "1     [ddp]      []    742407957  1215  [[2193]]   \n",
       "2     [ddp]      []    738308195  1332  [[2310]]   \n",
       "3     [ddp]      []    738307994   796  [[1774]]   \n",
       "4     [ddp]      []    742406850   795  [[1773]]   \n",
       "\n",
       "                                                name  \n",
       "0  Interest > Diseases and Conditions > Ear, Nose...  \n",
       "1  Interest > Music and Audio > Soundtracks, TV a...  \n",
       "2                                 Interest > Science  \n",
       "3                Interest > Adult Contemporary Music  \n",
       "4  Interest > Adult Contemporary Music > Soft AC ...  "
      ]
     },
     "execution_count": 41,
     "metadata": {},
     "output_type": "execute_result"
    }
   ],
   "source": [
    "index_df = pd.read_json('data/core_segments_external_ids.json',lines=True)\n",
    "index_df.head()"
   ]
  },
  {
   "cell_type": "code",
   "execution_count": 42,
   "metadata": {
    "collapsed": false
   },
   "outputs": [],
   "source": [
    "ndf=pd.merge(df,index_df,left_on=['interest'],right_on=['id']).loc[:,['country','name','count']]"
   ]
  },
  {
   "cell_type": "code",
   "execution_count": 43,
   "metadata": {
    "collapsed": false
   },
   "outputs": [],
   "source": [
    "ndf.sort_values('count',ascending=False,inplace=True)"
   ]
  },
  {
   "cell_type": "code",
   "execution_count": 33,
   "metadata": {
    "collapsed": false
   },
   "outputs": [],
   "source": [
    "ndf.to_csv('data/result.csv')"
   ]
  },
  {
   "cell_type": "code",
   "execution_count": 34,
   "metadata": {
    "collapsed": false
   },
   "outputs": [],
   "source": [
    "res=ndf.pivot_table(values='count',index='name',columns='country')"
   ]
  },
  {
   "cell_type": "code",
   "execution_count": 35,
   "metadata": {
    "collapsed": true
   },
   "outputs": [],
   "source": [
    "res.to_csv('data/pivot_result.csv')"
   ]
  },
  {
   "cell_type": "code",
   "execution_count": 36,
   "metadata": {
    "collapsed": true
   },
   "outputs": [],
   "source": [
    "df = pd.read_csv('data/raw-seg.csv',header=None)"
   ]
  },
  {
   "cell_type": "code",
   "execution_count": 44,
   "metadata": {
    "collapsed": true
   },
   "outputs": [],
   "source": [
    "ndf.to_csv('data/raw-result.csv')\n",
    "res=ndf.pivot_table(values='count',index='name',columns='country')\n",
    "res.to_csv('data/raw-pivot_result.csv')"
   ]
  },
  {
   "cell_type": "code",
   "execution_count": 46,
   "metadata": {
    "collapsed": false
   },
   "outputs": [],
   "source": [
    "df_sync = pd.read_csv('data/seg.csv',header=None)"
   ]
  },
  {
   "cell_type": "code",
   "execution_count": 47,
   "metadata": {
    "collapsed": false
   },
   "outputs": [
    {
     "data": {
      "text/html": [
       "<div>\n",
       "<style scoped>\n",
       "    .dataframe tbody tr th:only-of-type {\n",
       "        vertical-align: middle;\n",
       "    }\n",
       "\n",
       "    .dataframe tbody tr th {\n",
       "        vertical-align: top;\n",
       "    }\n",
       "\n",
       "    .dataframe thead th {\n",
       "        text-align: right;\n",
       "    }\n",
       "</style>\n",
       "<table border=\"1\" class=\"dataframe\">\n",
       "  <thead>\n",
       "    <tr style=\"text-align: right;\">\n",
       "      <th></th>\n",
       "      <th>country</th>\n",
       "      <th>interest</th>\n",
       "      <th>count</th>\n",
       "    </tr>\n",
       "  </thead>\n",
       "  <tbody>\n",
       "    <tr>\n",
       "      <th>0</th>\n",
       "      <td>South Africa</td>\n",
       "      <td>1244</td>\n",
       "      <td>632940</td>\n",
       "    </tr>\n",
       "    <tr>\n",
       "      <th>1</th>\n",
       "      <td>South Africa</td>\n",
       "      <td>1465</td>\n",
       "      <td>45982</td>\n",
       "    </tr>\n",
       "    <tr>\n",
       "      <th>2</th>\n",
       "      <td>Bahrain</td>\n",
       "      <td>1459</td>\n",
       "      <td>3639</td>\n",
       "    </tr>\n",
       "    <tr>\n",
       "      <th>3</th>\n",
       "      <td>South Africa</td>\n",
       "      <td>1038</td>\n",
       "      <td>601222</td>\n",
       "    </tr>\n",
       "    <tr>\n",
       "      <th>4</th>\n",
       "      <td>UAE</td>\n",
       "      <td>930</td>\n",
       "      <td>7487</td>\n",
       "    </tr>\n",
       "  </tbody>\n",
       "</table>\n",
       "</div>"
      ],
      "text/plain": [
       "        country  interest   count\n",
       "0  South Africa      1244  632940\n",
       "1  South Africa      1465   45982\n",
       "2       Bahrain      1459    3639\n",
       "3  South Africa      1038  601222\n",
       "4           UAE       930    7487"
      ]
     },
     "execution_count": 47,
     "metadata": {},
     "output_type": "execute_result"
    }
   ],
   "source": [
    "df_sync.columns=['country','interest','count']\n",
    "df_sync['country']=df_sync['country'].map(new_country)\n",
    "df_sync.head(5)"
   ]
  },
  {
   "cell_type": "code",
   "execution_count": 49,
   "metadata": {
    "collapsed": false
   },
   "outputs": [],
   "source": [
    "mdf = pd.merge(df,index_df,left_on=['interest'],right_on=['id'])"
   ]
  },
  {
   "cell_type": "code",
   "execution_count": 50,
   "metadata": {
    "collapsed": false
   },
   "outputs": [
    {
     "data": {
      "text/html": [
       "<div>\n",
       "<style scoped>\n",
       "    .dataframe tbody tr th:only-of-type {\n",
       "        vertical-align: middle;\n",
       "    }\n",
       "\n",
       "    .dataframe tbody tr th {\n",
       "        vertical-align: top;\n",
       "    }\n",
       "\n",
       "    .dataframe thead th {\n",
       "        text-align: right;\n",
       "    }\n",
       "</style>\n",
       "<table border=\"1\" class=\"dataframe\">\n",
       "  <thead>\n",
       "    <tr style=\"text-align: right;\">\n",
       "      <th></th>\n",
       "      <th>country</th>\n",
       "      <th>interest_x</th>\n",
       "      <th>count_x</th>\n",
       "      <th>dmp_names</th>\n",
       "      <th>exclude</th>\n",
       "      <th>external_id</th>\n",
       "      <th>id</th>\n",
       "      <th>include</th>\n",
       "      <th>name</th>\n",
       "      <th>interest_y</th>\n",
       "      <th>count_y</th>\n",
       "    </tr>\n",
       "  </thead>\n",
       "  <tbody>\n",
       "    <tr>\n",
       "      <th>0</th>\n",
       "      <td>South Africa</td>\n",
       "      <td>1038</td>\n",
       "      <td>1415095</td>\n",
       "      <td>[ddp]</td>\n",
       "      <td>[]</td>\n",
       "      <td>738308084</td>\n",
       "      <td>1038</td>\n",
       "      <td>[[2016]]</td>\n",
       "      <td>Interest &gt; Financial Assistance</td>\n",
       "      <td>1038</td>\n",
       "      <td>601222</td>\n",
       "    </tr>\n",
       "    <tr>\n",
       "      <th>1</th>\n",
       "      <td>Niger</td>\n",
       "      <td>1038</td>\n",
       "      <td>214</td>\n",
       "      <td>[ddp]</td>\n",
       "      <td>[]</td>\n",
       "      <td>738308084</td>\n",
       "      <td>1038</td>\n",
       "      <td>[[2016]]</td>\n",
       "      <td>Interest &gt; Financial Assistance</td>\n",
       "      <td>1038</td>\n",
       "      <td>9</td>\n",
       "    </tr>\n",
       "    <tr>\n",
       "      <th>2</th>\n",
       "      <td>Cambodia</td>\n",
       "      <td>1038</td>\n",
       "      <td>5161</td>\n",
       "      <td>[ddp]</td>\n",
       "      <td>[]</td>\n",
       "      <td>738308084</td>\n",
       "      <td>1038</td>\n",
       "      <td>[[2016]]</td>\n",
       "      <td>Interest &gt; Financial Assistance</td>\n",
       "      <td>1038</td>\n",
       "      <td>26</td>\n",
       "    </tr>\n",
       "    <tr>\n",
       "      <th>3</th>\n",
       "      <td>NaN</td>\n",
       "      <td>1038</td>\n",
       "      <td>1464</td>\n",
       "      <td>[ddp]</td>\n",
       "      <td>[]</td>\n",
       "      <td>738308084</td>\n",
       "      <td>1038</td>\n",
       "      <td>[[2016]]</td>\n",
       "      <td>Interest &gt; Financial Assistance</td>\n",
       "      <td>1038</td>\n",
       "      <td>23</td>\n",
       "    </tr>\n",
       "    <tr>\n",
       "      <th>4</th>\n",
       "      <td>NaN</td>\n",
       "      <td>1038</td>\n",
       "      <td>1464</td>\n",
       "      <td>[ddp]</td>\n",
       "      <td>[]</td>\n",
       "      <td>738308084</td>\n",
       "      <td>1038</td>\n",
       "      <td>[[2016]]</td>\n",
       "      <td>Interest &gt; Financial Assistance</td>\n",
       "      <td>1038</td>\n",
       "      <td>8</td>\n",
       "    </tr>\n",
       "  </tbody>\n",
       "</table>\n",
       "</div>"
      ],
      "text/plain": [
       "        country  interest_x  count_x dmp_names exclude  external_id    id  \\\n",
       "0  South Africa        1038  1415095     [ddp]      []    738308084  1038   \n",
       "1         Niger        1038      214     [ddp]      []    738308084  1038   \n",
       "2      Cambodia        1038     5161     [ddp]      []    738308084  1038   \n",
       "3           NaN        1038     1464     [ddp]      []    738308084  1038   \n",
       "4           NaN        1038     1464     [ddp]      []    738308084  1038   \n",
       "\n",
       "    include                             name  interest_y  count_y  \n",
       "0  [[2016]]  Interest > Financial Assistance        1038   601222  \n",
       "1  [[2016]]  Interest > Financial Assistance        1038        9  \n",
       "2  [[2016]]  Interest > Financial Assistance        1038       26  \n",
       "3  [[2016]]  Interest > Financial Assistance        1038       23  \n",
       "4  [[2016]]  Interest > Financial Assistance        1038        8  "
      ]
     },
     "execution_count": 50,
     "metadata": {},
     "output_type": "execute_result"
    }
   ],
   "source": [
    "total_df=pd.merge(left=mdf,right=df_sync,left_on=['country','id'],right_on=['country','interest'])\n",
    "total_df.head(5)"
   ]
  },
  {
   "cell_type": "code",
   "execution_count": 55,
   "metadata": {
    "collapsed": false
   },
   "outputs": [
    {
     "data": {
      "text/html": [
       "<div>\n",
       "<style scoped>\n",
       "    .dataframe tbody tr th:only-of-type {\n",
       "        vertical-align: middle;\n",
       "    }\n",
       "\n",
       "    .dataframe tbody tr th {\n",
       "        vertical-align: top;\n",
       "    }\n",
       "\n",
       "    .dataframe thead th {\n",
       "        text-align: right;\n",
       "    }\n",
       "</style>\n",
       "<table border=\"1\" class=\"dataframe\">\n",
       "  <thead>\n",
       "    <tr style=\"text-align: right;\">\n",
       "      <th></th>\n",
       "      <th>country</th>\n",
       "      <th>name</th>\n",
       "      <th>count_before_sync</th>\n",
       "      <th>count_after_sync</th>\n",
       "    </tr>\n",
       "  </thead>\n",
       "  <tbody>\n",
       "    <tr>\n",
       "      <th>0</th>\n",
       "      <td>South Africa</td>\n",
       "      <td>Interest &gt; Financial Assistance</td>\n",
       "      <td>1415095</td>\n",
       "      <td>601222</td>\n",
       "    </tr>\n",
       "    <tr>\n",
       "      <th>1</th>\n",
       "      <td>Niger</td>\n",
       "      <td>Interest &gt; Financial Assistance</td>\n",
       "      <td>214</td>\n",
       "      <td>9</td>\n",
       "    </tr>\n",
       "    <tr>\n",
       "      <th>2</th>\n",
       "      <td>Cambodia</td>\n",
       "      <td>Interest &gt; Financial Assistance</td>\n",
       "      <td>5161</td>\n",
       "      <td>26</td>\n",
       "    </tr>\n",
       "    <tr>\n",
       "      <th>3</th>\n",
       "      <td>NaN</td>\n",
       "      <td>Interest &gt; Financial Assistance</td>\n",
       "      <td>1464</td>\n",
       "      <td>23</td>\n",
       "    </tr>\n",
       "    <tr>\n",
       "      <th>4</th>\n",
       "      <td>NaN</td>\n",
       "      <td>Interest &gt; Financial Assistance</td>\n",
       "      <td>1464</td>\n",
       "      <td>8</td>\n",
       "    </tr>\n",
       "  </tbody>\n",
       "</table>\n",
       "</div>"
      ],
      "text/plain": [
       "        country                             name  count_before_sync  \\\n",
       "0  South Africa  Interest > Financial Assistance            1415095   \n",
       "1         Niger  Interest > Financial Assistance                214   \n",
       "2      Cambodia  Interest > Financial Assistance               5161   \n",
       "3           NaN  Interest > Financial Assistance               1464   \n",
       "4           NaN  Interest > Financial Assistance               1464   \n",
       "\n",
       "   count_after_sync  \n",
       "0            601222  \n",
       "1                 9  \n",
       "2                26  \n",
       "3                23  \n",
       "4                 8  "
      ]
     },
     "execution_count": 55,
     "metadata": {},
     "output_type": "execute_result"
    }
   ],
   "source": [
    "compact_df = total_df[['country','name','count_x','count_y']]\n",
    "compact_df.columns=['country','name','count_before_sync','count_after_sync']\n",
    "compact_df.head()"
   ]
  },
  {
   "cell_type": "code",
   "execution_count": 56,
   "metadata": {
    "collapsed": false
   },
   "outputs": [
    {
     "name": "stderr",
     "output_type": "stream",
     "text": [
      "/usr/local/lib/python3.7/site-packages/ipykernel_launcher.py:1: SettingWithCopyWarning: \n",
      "A value is trying to be set on a copy of a slice from a DataFrame\n",
      "\n",
      "See the caveats in the documentation: http://pandas.pydata.org/pandas-docs/stable/indexing.html#indexing-view-versus-copy\n",
      "  \"\"\"Entry point for launching an IPython kernel.\n"
     ]
    }
   ],
   "source": [
    "compact_df.sort_values('count_before_sync',ascending=False,inplace=True)\n",
    "compact_df.to_csv('data/raw-result.csv')\n",
    "# res=compact_df.pivot_table(values='count',index='interest',columns='country')\n",
    "# res.to_csv('data/raw-pivot_result.csv')"
   ]
  },
  {
   "cell_type": "code",
   "execution_count": null,
   "metadata": {
    "collapsed": true
   },
   "outputs": [],
   "source": []
  }
 ],
 "metadata": {
  "kernelspec": {
   "display_name": "Python 3",
   "language": "python",
   "name": "python3"
  },
  "language_info": {
   "codemirror_mode": {
    "name": "ipython",
    "version": 3
   },
   "file_extension": ".py",
   "mimetype": "text/x-python",
   "name": "python",
   "nbconvert_exporter": "python",
   "pygments_lexer": "ipython3",
   "version": "3.7.1"
  }
 },
 "nbformat": 4,
 "nbformat_minor": 2
}
