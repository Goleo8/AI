{
 "cells": [
  {
   "cell_type": "code",
   "execution_count": 1,
   "metadata": {
    "collapsed": false
   },
   "outputs": [
    {
     "name": "stderr",
     "output_type": "stream",
     "text": [
      "/usr/local/Cellar/python/3.7.1/Frameworks/Python.framework/Versions/3.7/lib/python3.7/importlib/_bootstrap.py:219: RuntimeWarning: compiletime version 3.6 of module 'tensorflow.python.framework.fast_tensor_util' does not match runtime version 3.7\n",
      "  return f(*args, **kwds)\n"
     ]
    }
   ],
   "source": [
    "from sklearn.datasets import fetch_california_housing\n",
    "from sklearn.model_selection import train_test_split\n",
    "from sklearn.preprocessing import StandardScaler\n",
    "import tensorflow as tf\n",
    "import numpy as np\n",
    "import matplotlib.pyplot as plt\n",
    "%matplotlib inline"
   ]
  },
  {
   "cell_type": "code",
   "execution_count": 2,
   "metadata": {
    "collapsed": true
   },
   "outputs": [],
   "source": [
    "data=fetch_california_housing()\n",
    "X,y=data.data,data.target"
   ]
  },
  {
   "cell_type": "code",
   "execution_count": 4,
   "metadata": {
    "collapsed": false
   },
   "outputs": [],
   "source": [
    "X_train,X_test,y_train,y_test=train_test_split(X,y,test_size=.3,random_state=42)\n",
    "sc=StandardScaler()\n",
    "X_train_s=sc.fit_transform(X_train)\n",
    "X_test_s=sc.transform(X_test)"
   ]
  },
  {
   "cell_type": "code",
   "execution_count": null,
   "metadata": {
    "collapsed": true
   },
   "outputs": [],
   "source": [
    "learning_rate=0.01\n",
    "momentum=0.9\n",
    "n_h1=10\n",
    "n_h2=10\n",
    "n_h3=1\n",
    "n_batch=64\n",
    "n_loop=X_train_s.shape[0]//n_batch\n",
    "\n",
    "def shuff_data(X,y):\n",
    "    index = np.random.permutation(X.shape[0])\n",
    "    return X[index],y[index]\n",
    "\n",
    "def get_batch(X,y,batch_index,batch_size):\n",
    "    return X[batch_index*batch_size:(batch_index+1)*batch_size],y[batch_index*batch_size:(batch_index+1)*batch_size]\n",
    "    \n",
    "\n",
    "tf.reset_default_graph()\n",
    "\n",
    "X=tf.placeholder(tf.float32,shape=(None,X_train_s.shape[1]),name='X')\n",
    "y=tf.placeholder(tf.float32,Shape=(None,),name='y')\n",
    "\n",
    "\n",
    "initlizer = tf.initializers.variance_scaling(mode='fan_avg')\n",
    "h1=tf.layers.dense(X,n_h1,activation=tf.nn.elu,kernel_initializer=initlizer,name='h1')\n",
    "h2=tf.layers.dense(h1,n_h2,activation=tf.nn.elu,kernel_initializer=initlizer,name='h2')\n",
    "h3=tf.layers.dense(h2,n_h3,name='h3')\n",
    "\n",
    "with tf.name_scope('train'):\n",
    "    err=y-h3\n",
    "    loss = tf.reduce_mean(tf.square(err),name='loss')\n",
    "    training_obj=tf.train.MomentumOptimizer(learning_rate=learning_rate,momentum=momentum).minimize(loss)\n",
    "\n",
    "with tf.name_scope('eval'):\n",
    "    acc=tf.reduce_mean(tf.abs(err),name='acc')\n",
    "\n",
    "init=tf.global_variables_initializer()\n",
    "\n",
    "with tf.Session() as sess:\n",
    "    sess.run(init)\n",
    "    \n",
    "    \n"
   ]
  }
 ],
 "metadata": {
  "kernelspec": {
   "display_name": "Python 3",
   "language": "python",
   "name": "python3"
  },
  "language_info": {
   "codemirror_mode": {
    "name": "ipython",
    "version": 3
   },
   "file_extension": ".py",
   "mimetype": "text/x-python",
   "name": "python",
   "nbconvert_exporter": "python",
   "pygments_lexer": "ipython3",
   "version": "3.7.1"
  }
 },
 "nbformat": 4,
 "nbformat_minor": 2
}
