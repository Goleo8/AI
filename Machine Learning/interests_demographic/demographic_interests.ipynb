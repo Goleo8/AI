{
 "cells": [
  {
   "cell_type": "code",
   "execution_count": 7,
   "metadata": {},
   "outputs": [],
   "source": [
    "from tqdm import tqdm_notebook\n",
    "import time"
   ]
  },
  {
   "cell_type": "code",
   "execution_count": 8,
   "metadata": {},
   "outputs": [
    {
     "data": {
      "application/vnd.jupyter.widget-view+json": {
       "model_id": "3460283210e14238a36bea0cc27a344c",
       "version_major": 2,
       "version_minor": 0
      },
      "text/html": [
       "<p>Failed to display Jupyter Widget of type <code>HBox</code>.</p>\n",
       "<p>\n",
       "  If you're reading this message in the Jupyter Notebook or JupyterLab Notebook, it may mean\n",
       "  that the widgets JavaScript is still loading. If this message persists, it\n",
       "  likely means that the widgets JavaScript library is either not installed or\n",
       "  not enabled. See the <a href=\"https://ipywidgets.readthedocs.io/en/stable/user_install.html\">Jupyter\n",
       "  Widgets Documentation</a> for setup instructions.\n",
       "</p>\n",
       "<p>\n",
       "  If you're reading this message in another frontend (for example, a static\n",
       "  rendering on GitHub or <a href=\"https://nbviewer.jupyter.org/\">NBViewer</a>),\n",
       "  it may mean that your frontend doesn't currently support widgets.\n",
       "</p>\n"
      ],
      "text/plain": [
       "HBox(children=(IntProgress(value=0, max=10), HTML(value='')))"
      ]
     },
     "metadata": {},
     "output_type": "display_data"
    }
   ],
   "source": [
    "for i in tqdm_notebook(range(10)):\n",
    "    time.sleep(1)"
   ]
  },
  {
   "cell_type": "code",
   "execution_count": 9,
   "metadata": {},
   "outputs": [
    {
     "data": {
      "application/vnd.jupyter.widget-view+json": {
       "model_id": "85b5b938001345819d7cf78e353c31dc",
       "version_major": 2,
       "version_minor": 0
      },
      "text/html": [
       "<p>Failed to display Jupyter Widget of type <code>HBox</code>.</p>\n",
       "<p>\n",
       "  If you're reading this message in the Jupyter Notebook or JupyterLab Notebook, it may mean\n",
       "  that the widgets JavaScript is still loading. If this message persists, it\n",
       "  likely means that the widgets JavaScript library is either not installed or\n",
       "  not enabled. See the <a href=\"https://ipywidgets.readthedocs.io/en/stable/user_install.html\">Jupyter\n",
       "  Widgets Documentation</a> for setup instructions.\n",
       "</p>\n",
       "<p>\n",
       "  If you're reading this message in another frontend (for example, a static\n",
       "  rendering on GitHub or <a href=\"https://nbviewer.jupyter.org/\">NBViewer</a>),\n",
       "  it may mean that your frontend doesn't currently support widgets.\n",
       "</p>\n"
      ],
      "text/plain": [
       "HBox(children=(IntProgress(value=0, max=4), HTML(value='')))"
      ]
     },
     "metadata": {},
     "output_type": "display_data"
    }
   ],
   "source": [
    "pbar = tqdm_notebook([\"a\", \"b\", \"c\", \"d\"])\n",
    "for char in pbar:\n",
    "    time.sleep(1)\n",
    "    pbar.set_description(\"Processing %s\" % char)"
   ]
  },
  {
   "cell_type": "code",
   "execution_count": 1,
   "metadata": {},
   "outputs": [],
   "source": [
    "import pandas as pd"
   ]
  },
  {
   "cell_type": "code",
   "execution_count": 2,
   "metadata": {},
   "outputs": [],
   "source": [
    "df = pd.read_csv('part.csv',header=None)"
   ]
  },
  {
   "cell_type": "code",
   "execution_count": 6,
   "metadata": {},
   "outputs": [],
   "source": [
    "df.columns=['id','count']"
   ]
  },
  {
   "cell_type": "code",
   "execution_count": 9,
   "metadata": {},
   "outputs": [],
   "source": [
    "df.sort_values(by='count',ascending=False,inplace=True)\n",
    "ndf=df[df['count']>=10000]"
   ]
  },
  {
   "cell_type": "code",
   "execution_count": 10,
   "metadata": {},
   "outputs": [
    {
     "data": {
      "text/html": [
       "<div>\n",
       "<style scoped>\n",
       "    .dataframe tbody tr th:only-of-type {\n",
       "        vertical-align: middle;\n",
       "    }\n",
       "\n",
       "    .dataframe tbody tr th {\n",
       "        vertical-align: top;\n",
       "    }\n",
       "\n",
       "    .dataframe thead th {\n",
       "        text-align: right;\n",
       "    }\n",
       "</style>\n",
       "<table border=\"1\" class=\"dataframe\">\n",
       "  <thead>\n",
       "    <tr style=\"text-align: right;\">\n",
       "      <th></th>\n",
       "      <th>id</th>\n",
       "      <th>count</th>\n",
       "    </tr>\n",
       "  </thead>\n",
       "  <tbody>\n",
       "    <tr>\n",
       "      <th>294</th>\n",
       "      <td>556</td>\n",
       "      <td>26891695</td>\n",
       "    </tr>\n",
       "    <tr>\n",
       "      <th>408</th>\n",
       "      <td>587</td>\n",
       "      <td>26891695</td>\n",
       "    </tr>\n",
       "    <tr>\n",
       "      <th>54</th>\n",
       "      <td>529</td>\n",
       "      <td>26891695</td>\n",
       "    </tr>\n",
       "    <tr>\n",
       "      <th>165</th>\n",
       "      <td>760</td>\n",
       "      <td>26891695</td>\n",
       "    </tr>\n",
       "    <tr>\n",
       "      <th>293</th>\n",
       "      <td>593</td>\n",
       "      <td>26891695</td>\n",
       "    </tr>\n",
       "  </tbody>\n",
       "</table>\n",
       "</div>"
      ],
      "text/plain": [
       "      id     count\n",
       "294  556  26891695\n",
       "408  587  26891695\n",
       "54   529  26891695\n",
       "165  760  26891695\n",
       "293  593  26891695"
      ]
     },
     "execution_count": 10,
     "metadata": {},
     "output_type": "execute_result"
    }
   ],
   "source": [
    "ndf.head()"
   ]
  },
  {
   "cell_type": "code",
   "execution_count": 11,
   "metadata": {},
   "outputs": [
    {
     "data": {
      "text/plain": [
       "(615, 2)"
      ]
     },
     "execution_count": 11,
     "metadata": {},
     "output_type": "execute_result"
    }
   ],
   "source": [
    "ndf.shape"
   ]
  },
  {
   "cell_type": "code",
   "execution_count": 12,
   "metadata": {},
   "outputs": [],
   "source": [
    "demo_map= {\n",
    "        \"3:5\" : \"18-19\",\n",
    "        \"3:6\" : \"20-24\",\n",
    "        \"3:7\" : \"25-29\",\n",
    "        \"3:8\" : \"30-34\",\n",
    "        \"3:12\" : \"50-54\",\n",
    "        \"3:10\" : \"40-44\",\n",
    "        \"3:11\" : \"45-49\",\n",
    "        \"3:13\" : \"55-59\",\n",
    "        \"3:9\" : \"35-39\",\n",
    "        \"3:14\" : \"60+\",\n",
    "        \"3:15\" : \"Prefer not to say\",\n",
    "        \"3:4\" : \"15-17\",\n",
    "        \"20:550\" : \"0 to 3 years\",\n",
    "        \"20:551\" : \"4 to 10 years\",\n",
    "        \"20:552\" : \"11 to 14 years\",\n",
    "        \"20:553\" : \"15 to 18 years\",\n",
    "        \"20:554\" : \"19+\",\n",
    "        \"20:555\" : \"None\",\n",
    "        \"31:749\" : \"Lifestyle\",\n",
    "        \"31:714\" : \"Family & Parenting\",\n",
    "        \"31:716\" : \"Health & Fitness\",\n",
    "        \"31:717\" : \"Hobbies & Interests\",\n",
    "        \"31:718\" : \"Home & Garden\",\n",
    "        \"31:720\" : \"Law, Gov't & Politics\",\n",
    "        \"31:721\" : \"Mobile\",\n",
    "        \"31:722\" : \"News\",\n",
    "        \"31:723\" : \"Personal Finance\",\n",
    "        \"31:724\" : \"Pets\",\n",
    "        \"31:725\" : \"Portals\",\n",
    "        \"31:726\" : \"Real Estate\",\n",
    "        \"31:727\" : \"Religion\",\n",
    "        \"31:728\" : \"Science\",\n",
    "        \"31:729\" : \"Search Engine\",\n",
    "        \"31:730\" : \"Shopping\",\n",
    "        \"31:731\" : \"Social Media\",\n",
    "        \"31:732\" : \"Society\",\n",
    "        \"31:733\" : \"Sports\",\n",
    "        \"31:734\" : \"Style & Fashion\",\n",
    "        \"31:736\" : \"Travel\",\n",
    "        \"31:737\" : \"Uncategorised\",\n",
    "        \"31:738\" : \"Video\",\n",
    "        \"31:739\" : \"Youth\",\n",
    "        \"31:719\" : \"Homepages\",\n",
    "        \"31:735\" : \"Technology & Computing\",\n",
    "        \"31:707\" : \"Arts & Entertainment\",\n",
    "        \"31:708\" : \"Automotive\",\n",
    "        \"31:709\" : \"Broadcast Media\",\n",
    "        \"31:710\" : \"Business\",\n",
    "        \"31:711\" : \"Careers\",\n",
    "        \"31:712\" : \"Classifieds\",\n",
    "        \"31:713\" : \"Education\",\n",
    "        \"31:715\" : \"Food & Drink\",\n",
    "        \"23:571\" : \"None\",\n",
    "        \"23:572\" : \"1\",\n",
    "        \"23:573\" : \"2\",\n",
    "        \"23:574\" : \"3+\",\n",
    "        \"14:501\" : \"Settlement/Rural (<500)\",\n",
    "        \"14:498\" : \"Metro - Major City (250,000+)\",\n",
    "        \"14:499\" : \"City/Large Town (40,000 - 249,999)\",\n",
    "        \"14:500\" : \"Small Town Villages (500 - 39,999)\",\n",
    "        \"7:373\" : \"Senegal\",\n",
    "        \"7:235\" : \"Bahamas\",\n",
    "        \"7:267\" : \"Cyprus\",\n",
    "        \"7:268\" : \"Czech Republic\",\n",
    "        \"7:269\" : \"Democratic People's Republic of Korea\",\n",
    "        \"7:236\" : \"Bahrain\",\n",
    "        \"7:237\" : \"Bangladesh\",\n",
    "        \"7:270\" : \"Democratic Republic of the Congo\",\n",
    "        \"7:271\" : \"Denmark\",\n",
    "        \"7:272\" : \"Djibouti\",\n",
    "        \"7:273\" : \"Dominica\",\n",
    "        \"7:274\" : \"Dominican Republic\",\n",
    "        \"7:275\" : \"Ecuador\",\n",
    "        \"7:276\" : \"Egypt\",\n",
    "        \"7:277\" : \"El Salvador\",\n",
    "        \"7:278\" : \"Equatorial Guinea\",\n",
    "        \"7:279\" : \"Eritrea\",\n",
    "        \"7:238\" : \"Barbados\",\n",
    "        \"7:241\" : \"Belize\",\n",
    "        \"7:280\" : \"Estonia\",\n",
    "        \"7:281\" : \"Ethiopia\",\n",
    "        \"7:282\" : \"Fiji\",\n",
    "        \"7:283\" : \"Finland\",\n",
    "        \"7:239\" : \"Belarus\",\n",
    "        \"7:240\" : \"Belgium\",\n",
    "        \"7:284\" : \"France\",\n",
    "        \"7:285\" : \"Gabon\",\n",
    "        \"7:286\" : \"Gambia\",\n",
    "        \"7:287\" : \"Georgia\",\n",
    "        \"7:242\" : \"Benin\",\n",
    "        \"7:243\" : \"Bhutan\",\n",
    "        \"7:264\" : \"Costa Rica\",\n",
    "        \"7:265\" : \"Croatia\",\n",
    "        \"7:234\" : \"Azerbaijan\",\n",
    "        \"7:266\" : \"Cuba\",\n",
    "        \"7:224\" : \"Afghanistan\",\n",
    "        \"7:225\" : \"Albania\",\n",
    "        \"7:226\" : \"Algeria\",\n",
    "        \"7:227\" : \"Andorra\",\n",
    "        \"7:228\" : \"Angola\",\n",
    "        \"7:229\" : \"Antigua and Barbuda\",\n",
    "        \"7:230\" : \"Argentina\",\n",
    "        \"7:231\" : \"Armenia\",\n",
    "        \"7:232\" : \"Australia\",\n",
    "        \"7:233\" : \"Austria\",\n",
    "        \"7:244\" : \"Bolivia\",\n",
    "        \"7:245\" : \"Bosnia and Herzegovina\",\n",
    "        \"7:246\" : \"Botswana\",\n",
    "        \"7:247\" : \"Brazil\",\n",
    "        \"7:248\" : \"Brunei Darussalam\",\n",
    "        \"7:249\" : \"Bulgaria\",\n",
    "        \"7:250\" : \"Burkina Faso\",\n",
    "        \"7:251\" : \"Burundi\",\n",
    "        \"7:252\" : \"Cambodia\",\n",
    "        \"7:253\" : \"Cameroon\",\n",
    "        \"7:254\" : \"Canada\",\n",
    "        \"7:255\" : \"Cape Verde\",\n",
    "        \"7:256\" : \"Central African Republic\",\n",
    "        \"7:257\" : \"Chad\",\n",
    "        \"7:258\" : \"Chile\",\n",
    "        \"7:259\" : \"China\",\n",
    "        \"7:260\" : \"Colombia\",\n",
    "        \"7:261\" : \"China - Hongkong\",\n",
    "        \"7:262\" : \"Comoros\",\n",
    "        \"7:263\" : \"Congo\",\n",
    "        \"7:288\" : \"Germany\",\n",
    "        \"7:289\" : \"Ghana\",\n",
    "        \"7:290\" : \"Greece\",\n",
    "        \"7:291\" : \"Grenada\",\n",
    "        \"7:292\" : \"Guatemala\",\n",
    "        \"7:293\" : \"Guinea\",\n",
    "        \"7:294\" : \"Guinea-Bissau\",\n",
    "        \"7:295\" : \"Guyana\",\n",
    "        \"7:296\" : \"Haiti\",\n",
    "        \"7:297\" : \"Honduras\",\n",
    "        \"7:298\" : \"Hungary\",\n",
    "        \"7:299\" : \"Iceland\",\n",
    "        \"7:300\" : \"India\",\n",
    "        \"7:301\" : \"Indonesia\",\n",
    "        \"7:302\" : \"Iran (Islamic Republic of)\",\n",
    "        \"7:303\" : \"Iraq\",\n",
    "        \"7:304\" : \"Ireland\",\n",
    "        \"7:306\" : \"Italy\",\n",
    "        \"7:307\" : \"Jamaica\",\n",
    "        \"7:308\" : \"Japan\",\n",
    "        \"7:309\" : \"Jordan\",\n",
    "        \"7:310\" : \"Kazakhstan\",\n",
    "        \"7:311\" : \"Kenya\",\n",
    "        \"7:312\" : \"Kosovo\",\n",
    "        \"7:313\" : \"Kuwait\",\n",
    "        \"7:314\" : \"Kyrgyzstan\",\n",
    "        \"7:315\" : \"Lao People's Democratic Republic\",\n",
    "        \"7:316\" : \"Latvia\",\n",
    "        \"7:317\" : \"Lebanon\",\n",
    "        \"7:318\" : \"Lesotho\",\n",
    "        \"7:319\" : \"Liberia\",\n",
    "        \"7:320\" : \"Libya\",\n",
    "        \"7:321\" : \"Liechtenstein\",\n",
    "        \"7:322\" : \"Lithuania\",\n",
    "        \"7:323\" : \"Luxembourg\",\n",
    "        \"7:324\" : \"Madagascar\",\n",
    "        \"7:325\" : \"Malawi\",\n",
    "        \"7:326\" : \"Malaysia\",\n",
    "        \"7:327\" : \"Maldives\",\n",
    "        \"7:328\" : \"Mali\",\n",
    "        \"7:329\" : \"Malta\",\n",
    "        \"7:330\" : \"Marshall Islands\",\n",
    "        \"7:331\" : \"Mauritania\",\n",
    "        \"7:332\" : \"Mauritius\",\n",
    "        \"7:333\" : \"Mexico\",\n",
    "        \"7:334\" : \"Micronesia (Federated States of)\",\n",
    "        \"7:335\" : \"Monaco\",\n",
    "        \"7:336\" : \"Mongolia\",\n",
    "        \"7:337\" : \"Montenegro\",\n",
    "        \"7:338\" : \"Morocco\",\n",
    "        \"7:339\" : \"Mozambique\",\n",
    "        \"7:340\" : \"Myanmar\",\n",
    "        \"7:341\" : \"Namibia\",\n",
    "        \"7:342\" : \"Nepal\",\n",
    "        \"7:343\" : \"Netherlands\",\n",
    "        \"7:344\" : \"New Zealand\",\n",
    "        \"7:345\" : \"Nicaragua\",\n",
    "        \"7:346\" : \"Niger\",\n",
    "        \"7:347\" : \"Nigeria\",\n",
    "        \"7:348\" : \"Norway\",\n",
    "        \"7:349\" : \"Oman\",\n",
    "        \"7:350\" : \"Pakistan\",\n",
    "        \"7:351\" : \"Palau\",\n",
    "        \"7:352\" : \"Palestine\",\n",
    "        \"7:353\" : \"Panama\",\n",
    "        \"7:354\" : \"Papua New Guinea\",\n",
    "        \"7:355\" : \"Paraguay\",\n",
    "        \"7:356\" : \"Peru\",\n",
    "        \"7:357\" : \"Philippines\",\n",
    "        \"7:358\" : \"Poland\",\n",
    "        \"7:359\" : \"Portugal\",\n",
    "        \"7:360\" : \"Qatar\",\n",
    "        \"7:361\" : \"Republic of Korea\",\n",
    "        \"7:362\" : \"Republic of Moldova\",\n",
    "        \"7:363\" : \"Romania\",\n",
    "        \"7:364\" : \"Russian Federation\",\n",
    "        \"7:365\" : \"Rwanda\",\n",
    "        \"7:366\" : \"Saint Kitts and Nevis\",\n",
    "        \"7:367\" : \"Saint Lucia\",\n",
    "        \"7:368\" : \"Saint Vincent and the Grenadines\",\n",
    "        \"7:369\" : \"Samoa\",\n",
    "        \"7:370\" : \"San Marino\",\n",
    "        \"7:371\" : \"Sao Tome and Principe\",\n",
    "        \"7:372\" : \"Saudi Arabia\",\n",
    "        \"7:374\" : \"Serbia\",\n",
    "        \"7:375\" : \"Seychelles\",\n",
    "        \"7:376\" : \"Sierra Leone\",\n",
    "        \"7:377\" : \"Singapore\",\n",
    "        \"7:378\" : \"Slovakia\",\n",
    "        \"7:379\" : \"Slovenia\",\n",
    "        \"7:380\" : \"Solomon Islands\",\n",
    "        \"7:381\" : \"Somalia\",\n",
    "        \"7:382\" : \"South Africa\",\n",
    "        \"7:383\" : \"Spain\",\n",
    "        \"7:384\" : \"Sri Lanka\",\n",
    "        \"7:385\" : \"Sudan\",\n",
    "        \"7:386\" : \"South Sudan\",\n",
    "        \"7:387\" : \"Suriname\",\n",
    "        \"7:388\" : \"Swaziland\",\n",
    "        \"7:389\" : \"Sweden\",\n",
    "        \"7:390\" : \"Switzerland\",\n",
    "        \"7:391\" : \"Syrian Arab Republic\",\n",
    "        \"7:392\" : \"Taiwan\",\n",
    "        \"7:393\" : \"Tajikistan\",\n",
    "        \"7:394\" : \"Thailand\",\n",
    "        \"7:395\" : \"Togo\",\n",
    "        \"7:396\" : \"Trinidad and Tobago\",\n",
    "        \"7:397\" : \"Tunisia\",\n",
    "        \"7:398\" : \"Turkey\",\n",
    "        \"7:399\" : \"Turkmenistan\",\n",
    "        \"7:400\" : \"Uganda\",\n",
    "        \"7:401\" : \"Ukraine\",\n",
    "        \"7:402\" : \"United Arab Emirates\",\n",
    "        \"7:403\" : \"United Kingdom\",\n",
    "        \"7:404\" : \"United Republic of Tanzania\",\n",
    "        \"7:405\" : \"United States of America\",\n",
    "        \"7:406\" : \"Uruguay\",\n",
    "        \"7:407\" : \"Uzbekistan\",\n",
    "        \"7:408\" : \"Vanuatu\",\n",
    "        \"7:409\" : \"Venezuela\",\n",
    "        \"7:410\" : \"Viet Nam\",\n",
    "        \"7:411\" : \"Yemen\",\n",
    "        \"7:412\" : \"Zambia\",\n",
    "        \"7:413\" : \"Zimbabwe\",\n",
    "        \"7:414\" : \"Other\",\n",
    "        \"5:18\" : \"Algeria\",\n",
    "        \"5:19\" : \"Andorra\",\n",
    "        \"5:20\" : \"Angola\",\n",
    "        \"5:21\" : \"Antigua and Barbuda\",\n",
    "        \"5:22\" : \"Argentina\",\n",
    "        \"5:23\" : \"Armenia\",\n",
    "        \"5:24\" : \"Australia\",\n",
    "        \"5:25\" : \"Austria\",\n",
    "        \"5:26\" : \"Azerbaijan\",\n",
    "        \"5:27\" : \"Bahamas\",\n",
    "        \"5:28\" : \"Bahrain\",\n",
    "        \"5:29\" : \"Bangladesh\",\n",
    "        \"5:30\" : \"Barbados\",\n",
    "        \"5:31\" : \"Belarus\",\n",
    "        \"5:32\" : \"Belgium\",\n",
    "        \"5:33\" : \"Belize\",\n",
    "        \"5:34\" : \"Benin\",\n",
    "        \"5:16\" : \"Afghanistan\",\n",
    "        \"5:17\" : \"Albania\",\n",
    "        \"5:35\" : \"Bhutan\",\n",
    "        \"5:36\" : \"Bolivia\",\n",
    "        \"5:37\" : \"Bosnia and Herzegovina\",\n",
    "        \"5:38\" : \"Botswana\",\n",
    "        \"5:39\" : \"Brazil\",\n",
    "        \"5:40\" : \"Brunei Darussalam\",\n",
    "        \"5:41\" : \"Bulgaria\",\n",
    "        \"5:42\" : \"Burkina Faso\",\n",
    "        \"5:43\" : \"Burundi\",\n",
    "        \"5:44\" : \"Cambodia\",\n",
    "        \"5:56\" : \"Costa Rica\",\n",
    "        \"5:45\" : \"Cameroon\",\n",
    "        \"5:46\" : \"Canada\",\n",
    "        \"5:47\" : \"Cape Verde\",\n",
    "        \"5:48\" : \"Central African Republic\",\n",
    "        \"5:49\" : \"Chad\",\n",
    "        \"5:50\" : \"Chile\",\n",
    "        \"5:51\" : \"China\",\n",
    "        \"5:52\" : \"Colombia\",\n",
    "        \"5:53\" : \"China - Hongkong\",\n",
    "        \"5:54\" : \"Comoros\",\n",
    "        \"5:55\" : \"Congo\",\n",
    "        \"5:57\" : \"Croatia\",\n",
    "        \"5:58\" : \"Cuba\",\n",
    "        \"5:59\" : \"Cyprus\",\n",
    "        \"5:60\" : \"Czech Republic\",\n",
    "        \"5:61\" : \"Democratic People's Republic of Korea\",\n",
    "        \"5:62\" : \"Democratic Republic of the Congo\",\n",
    "        \"5:63\" : \"Denmark\",\n",
    "        \"5:64\" : \"Djibouti\",\n",
    "        \"5:65\" : \"Dominica\",\n",
    "        \"5:66\" : \"Dominican Republic\",\n",
    "        \"5:67\" : \"Ecuador\",\n",
    "        \"5:68\" : \"Egypt\",\n",
    "        \"5:69\" : \"El Salvador\",\n",
    "        \"5:70\" : \"England\",\n",
    "        \"5:71\" : \"Equatorial Guinea\",\n",
    "        \"5:72\" : \"Eritrea\",\n",
    "        \"5:73\" : \"Estonia\",\n",
    "        \"5:74\" : \"Ethiopia\",\n",
    "        \"5:75\" : \"Fiji\",\n",
    "        \"5:76\" : \"Finland\",\n",
    "        \"5:77\" : \"France\",\n",
    "        \"5:78\" : \"Gabon\",\n",
    "        \"5:79\" : \"Gambia\",\n",
    "        \"5:80\" : \"Georgia\",\n",
    "        \"5:81\" : \"Germany\",\n",
    "        \"5:82\" : \"Ghana\",\n",
    "        \"5:83\" : \"Greece\",\n",
    "        \"5:84\" : \"Grenada\",\n",
    "        \"5:85\" : \"Guatemala\",\n",
    "        \"5:86\" : \"Guinea\",\n",
    "        \"5:87\" : \"Guinea-Bissau\",\n",
    "        \"5:88\" : \"Guyana\",\n",
    "        \"5:89\" : \"Haiti\",\n",
    "        \"5:90\" : \"Honduras\",\n",
    "        \"5:91\" : \"Hungary\",\n",
    "        \"5:92\" : \"Iceland\",\n",
    "        \"5:93\" : \"India\",\n",
    "        \"5:94\" : \"Indonesia\",\n",
    "        \"5:95\" : \"Iran\",\n",
    "        \"5:96\" : \"Iraq\",\n",
    "        \"5:97\" : \"Ireland\",\n",
    "        \"5:99\" : \"Italy\",\n",
    "        \"5:100\" : \"Jamaica\",\n",
    "        \"5:101\" : \"Japan\",\n",
    "        \"5:102\" : \"Jordan\",\n",
    "        \"5:103\" : \"Kazakhstan\",\n",
    "        \"5:104\" : \"Kenya\",\n",
    "        \"5:105\" : \"Kosovo\",\n",
    "        \"5:106\" : \"Kuwait\",\n",
    "        \"5:107\" : \"Kyrgyzstan\",\n",
    "        \"5:108\" : \"Lao People's Democratic Republic\",\n",
    "        \"5:109\" : \"Latvia\",\n",
    "        \"5:110\" : \"Lebanon\",\n",
    "        \"5:111\" : \"Lesotho\",\n",
    "        \"5:112\" : \"Liberia\",\n",
    "        \"5:113\" : \"Libya\",\n",
    "        \"5:114\" : \"Liechtenstein\",\n",
    "        \"5:115\" : \"Lithuania\",\n",
    "        \"5:116\" : \"Luxembourg\",\n",
    "        \"5:117\" : \"Macedonia\",\n",
    "        \"5:118\" : \"Madagascar\",\n",
    "        \"5:119\" : \"Malawi\",\n",
    "        \"5:120\" : \"Malaysia\",\n",
    "        \"5:121\" : \"Maldives\",\n",
    "        \"5:122\" : \"Mali\",\n",
    "        \"5:123\" : \"Malta\",\n",
    "        \"5:124\" : \"Marshall Islands\",\n",
    "        \"5:125\" : \"Mauritania\",\n",
    "        \"5:126\" : \"Mauritius\",\n",
    "        \"5:127\" : \"Mexico\",\n",
    "        \"5:128\" : \"Micronesia (Federated States of)\",\n",
    "        \"5:129\" : \"Monaco\",\n",
    "        \"5:130\" : \"Mongolia\",\n",
    "        \"5:131\" : \"Montenegro\",\n",
    "        \"5:132\" : \"Morocco\",\n",
    "        \"5:133\" : \"Mozambique\",\n",
    "        \"5:134\" : \"Myanmar\",\n",
    "        \"5:135\" : \"Namibia\",\n",
    "        \"5:136\" : \"Nepal\",\n",
    "        \"5:137\" : \"Netherlands\",\n",
    "        \"5:138\" : \"New Zealand\",\n",
    "        \"5:139\" : \"Nicaragua\",\n",
    "        \"5:140\" : \"Niger\",\n",
    "        \"5:154\" : \"Qatar\",\n",
    "        \"5:141\" : \"Nigeria\",\n",
    "        \"5:142\" : \"Norway\",\n",
    "        \"5:143\" : \"Oman\",\n",
    "        \"5:144\" : \"Pakistan\",\n",
    "        \"5:145\" : \"Palau\",\n",
    "        \"5:146\" : \"Palestine\",\n",
    "        \"5:147\" : \"Panama\",\n",
    "        \"5:148\" : \"Papua New Guinea\",\n",
    "        \"5:149\" : \"Paraguay\",\n",
    "        \"5:150\" : \"Peru\",\n",
    "        \"5:151\" : \"Philippines\",\n",
    "        \"5:152\" : \"Poland\",\n",
    "        \"5:153\" : \"Portugal\",\n",
    "        \"5:155\" : \"Republic of Korea\",\n",
    "        \"5:156\" : \"Republic of Moldova\",\n",
    "        \"5:157\" : \"Romania\",\n",
    "        \"5:158\" : \"Russian Federation\",\n",
    "        \"5:159\" : \"Rwanda\",\n",
    "        \"5:160\" : \"Saint Kitts and Nevis\",\n",
    "        \"5:161\" : \"Saint Lucia\",\n",
    "        \"5:162\" : \"Saint Vincent and the Grenadines\",\n",
    "        \"5:163\" : \"Samoa\",\n",
    "        \"5:164\" : \"San Marino\",\n",
    "        \"5:165\" : \"Sao Tome and Principe\",\n",
    "        \"5:166\" : \"Saudi Arabia\",\n",
    "        \"5:167\" : \"Senegal\",\n",
    "        \"5:168\" : \"Serbia\",\n",
    "        \"5:169\" : \"Seychelles\",\n",
    "        \"5:170\" : \"Sierra Leone\",\n",
    "        \"5:171\" : \"Singapore\",\n",
    "        \"5:172\" : \"Slovakia\",\n",
    "        \"5:173\" : \"Slovenia\",\n",
    "        \"5:174\" : \"Solomon Islands\",\n",
    "        \"5:175\" : \"Somalia\",\n",
    "        \"5:176\" : \"South Africa\",\n",
    "        \"5:177\" : \"Spain\",\n",
    "        \"5:178\" : \"Sri Lanka\",\n",
    "        \"5:191\" : \"Tunisia\",\n",
    "        \"5:179\" : \"Sudan\",\n",
    "        \"5:180\" : \"South Sudan\",\n",
    "        \"5:181\" : \"Suriname\",\n",
    "        \"5:182\" : \"Swaziland\",\n",
    "        \"5:183\" : \"Sweden\",\n",
    "        \"5:184\" : \"Switzerland\",\n",
    "        \"5:185\" : \"Syrian Arab Republic\",\n",
    "        \"5:186\" : \"Taiwan\",\n",
    "        \"5:187\" : \"Tajikistan\",\n",
    "        \"5:188\" : \"Thailand\",\n",
    "        \"5:189\" : \"Togo\",\n",
    "        \"5:190\" : \"Trinidad and Tobago\",\n",
    "        \"5:192\" : \"Turkey\",\n",
    "        \"5:193\" : \"Turkmenistan\",\n",
    "        \"5:194\" : \"Uganda\",\n",
    "        \"5:195\" : \"Ukraine\",\n",
    "        \"5:196\" : \"United Arab Emirates\",\n",
    "        \"5:197\" : \"United Kingdom\",\n",
    "        \"5:198\" : \"United Republic of Tanzania\",\n",
    "        \"5:199\" : \"United States of America\",\n",
    "        \"5:200\" : \"Uruguay\",\n",
    "        \"5:201\" : \"Uzbekistan\",\n",
    "        \"5:202\" : \"Vanuatu\",\n",
    "        \"5:203\" : \"Venezuela\",\n",
    "        \"5:204\" : \"Viet Nam\",\n",
    "        \"5:205\" : \"Yemen\",\n",
    "        \"5:206\" : \"Zambia\",\n",
    "        \"5:207\" : \"Zimbabwe\",\n",
    "        \"5:208\" : \"Other\",\n",
    "        \"5:209\" : \"Other African Country\",\n",
    "        \"5:210\" : \"Congo (Brazzaville)\",\n",
    "        \"5:211\" : \"Congo (Democratic Republic)\",\n",
    "        \"5:212\" : \"Cote d'lvoire\",\n",
    "        \"5:213\" : \"Reunion\",\n",
    "        \"5:214\" : \"Tanzania\",\n",
    "        \"5:215\" : \"Western Sahara\",\n",
    "        \"5:696\" : \"The Gambia\",\n",
    "        \"30:700\" : \"Asian\",\n",
    "        \"30:701\" : \"Black\",\n",
    "        \"30:702\" : \"Coloured\",\n",
    "        \"30:703\" : \"White\",\n",
    "        \"30:704\" : \"Indian\",\n",
    "        \"30:705\" : \"Other\",\n",
    "        \"30:706\" : \"Prefer Not to say\",\n",
    "        \"27:592\" : \"Main Decision Maker\",\n",
    "        \"27:593\" : \"Joint Decision Maker\",\n",
    "        \"27:594\" : \"Someone Else\",\n",
    "        \"32:742\" : \"No formal education\",\n",
    "        \"32:743\" : \"Primary\",\n",
    "        \"32:744\" : \"Secondary\",\n",
    "        \"32:745\" : \"Trade School\",\n",
    "        \"32:746\" : \"Technical College - Certificate / Diploma / Advanced Diploma\",\n",
    "        \"32:747\" : \"University or other Tertiary - (Under)graduate\",\n",
    "        \"32:748\" : \"University or other Tertiary - Postgraduate\",\n",
    "        \"12:536\" : \"Clerical and Sales (Africa)\",\n",
    "        \"12:457\" : \"Managers (MENA)\",\n",
    "        \"12:459\" : \"Technicians and Trades Workers (MENA)\",\n",
    "        \"12:458\" : \"Professionals (MENA)\",\n",
    "        \"12:460\" : \"Community and Personal Service Workers (MENA)\",\n",
    "        \"12:461\" : \"Clerical and Administrative Workers (MENA)\",\n",
    "        \"12:462\" : \"Sales Workers (MENA)\",\n",
    "        \"12:463\" : \"Machinery Operators and Drivers (MENA)\",\n",
    "        \"12:464\" : \"Labourers (MENA)\",\n",
    "        \"12:465\" : \"Housewife / Househusband (MENA)\",\n",
    "        \"12:466\" : \"Full Time Student (MENA)\",\n",
    "        \"12:467\" : \"Unemployed (MENA)\",\n",
    "        \"12:468\" : \"Retired (MENA)\",\n",
    "        \"12:534\" : \"Professional and Technical (Africa)\",\n",
    "        \"12:535\" : \"Administrative and Managerial (Africa)\",\n",
    "        \"12:537\" : \"Transport and Communications (Africa)\",\n",
    "        \"12:538\" : \"Service (Africa)\",\n",
    "        \"12:539\" : \"Agriculture (Africa)\",\n",
    "        \"12:540\" : \"Artisans Related (Africa)\",\n",
    "        \"12:541\" : \"Production and Mining (Africa)\",\n",
    "        \"12:542\" : \"Not Active (Africa)\",\n",
    "        \"12:543\" : \"Other (Africa)\",\n",
    "        \"1:1\" : \"Male\",\n",
    "        \"1:2\" : \"Female\",\n",
    "        \"11:450\" : \"Couple HH With No Children\",\n",
    "        \"11:451\" : \"Couple HH With One Child (<18)\",\n",
    "        \"11:452\" : \"Couple HH With Two Children (<18)\",\n",
    "        \"11:453\" : \"Couple HH With Three Or More Children (<18)\",\n",
    "        \"11:454\" : \"Lone Parent HH With Children (<18)\",\n",
    "        \"11:455\" : \"Multi Family HH/Shared HH\",\n",
    "        \"11:456\" : \"Family With Older Children\",\n",
    "        \"24:575\" : \"Desktop personal computer\",\n",
    "        \"24:576\" : \"Work or personal laptop\",\n",
    "        \"24:577\" : \"Mobile phone\",\n",
    "        \"24:578\" : \"Tablet\",\n",
    "        \"24:579\" : \"Other device\",\n",
    "        \"24:580\" : \"Do not know\",\n",
    "        \"25:581\" : \"Wi-Fi\",\n",
    "        \"25:582\" : \"Mobile Data (e.g. GPRS, EDGE, 3G, LTE)\",\n",
    "        \"25:583\" : \"Do Not Know\",\n",
    "        \"25:584\" : \"Dial-Up (Standard Telephone Line)\",\n",
    "        \"25:585\" : \"ADSL\",\n",
    "        \"25:586\" : \"Fiber\",\n",
    "        \"26:587\" : \"None\",\n",
    "        \"26:588\" : \"1\",\n",
    "        \"26:589\" : \"2\",\n",
    "        \"26:590\" : \"3\",\n",
    "        \"26:591\" : \"4+\",\n",
    "        \"29:623\" : \"DVDs, Videos, Music (CD, K7, MP3's)\",\n",
    "        \"29:624\" : \"Books\",\n",
    "        \"29:625\" : \"Tickets for shows or sport events\",\n",
    "        \"29:626\" : \"Toys and games\",\n",
    "        \"29:627\" : \"Art objects\",\n",
    "        \"29:628\" : \"Software\",\n",
    "        \"29:629\" : \"Computers\",\n",
    "        \"29:630\" : \"PC or console video games\",\n",
    "        \"29:631\" : \"Mass market electronics: TV, Radios, Mobile, HiFi\",\n",
    "        \"29:632\" : \"Ringtones, games or Icons for Mobile phones\",\n",
    "        \"29:633\" : \"Domain names, hosting services\",\n",
    "        \"29:634\" : \"Flowers / gifts\",\n",
    "        \"29:635\" : \"Health and beauty products\",\n",
    "        \"29:636\" : \"Clothes and accessories\",\n",
    "        \"29:637\" : \"Sport shoes, sport clothes\",\n",
    "        \"29:638\" : \"Food\",\n",
    "        \"29:639\" : \"Alcoholic beverages (beer, wine, spirits etc)\",\n",
    "        \"29:640\" : \"Travel tickets (e.g. bus, train, flights, boat)\",\n",
    "        \"29:641\" : \"Holiday package\",\n",
    "        \"29:642\" : \"Hotel reservations\",\n",
    "        \"29:643\" : \"Cars, motorbikes, bicycles\",\n",
    "        \"29:644\" : \"Search for real estate / property\",\n",
    "        \"29:645\" : \"None of the above\",\n",
    "        \"6:216\" : \"Home (Desktop or Laptop)\",\n",
    "        \"6:217\" : \"Workplace (Desktop or Laptop)\",\n",
    "        \"6:218\" : \"Education Facility\",\n",
    "        \"6:219\" : \"Internet cafe\",\n",
    "        \"6:220\" : \"Friend's place\",\n",
    "        \"6:221\" : \"Mobile/Smartphone\",\n",
    "        \"6:222\" : \"Tablet\",\n",
    "        \"6:223\" : \"Other\",\n",
    "        \"16:517\" : \"English\",\n",
    "        \"16:518\" : \"Zulu\",\n",
    "        \"16:519\" : \"Xhosa\",\n",
    "        \"16:520\" : \"Afrikaans\",\n",
    "        \"16:521\" : \"North Sotho/Pedi\",\n",
    "        \"16:522\" : \"Tswana\",\n",
    "        \"16:523\" : \"South Sotho\",\n",
    "        \"16:524\" : \"Swazi\",\n",
    "        \"16:525\" : \"Tsonga\",\n",
    "        \"16:526\" : \"Venda\",\n",
    "        \"16:527\" : \"Other Languages\",\n",
    "        \"16:656\" : \"Dagaare\",\n",
    "        \"16:657\" : \"Dagbani\",\n",
    "        \"16:658\" : \"Dagomba\",\n",
    "        \"16:659\" : \"Dangbe\",\n",
    "        \"16:660\" : \"Ewe\",\n",
    "        \"16:661\" : \"Fanti\",\n",
    "        \"16:662\" : \"Ga\",\n",
    "        \"16:663\" : \"Gonja\",\n",
    "        \"16:664\" : \"Hausa\",\n",
    "        \"16:665\" : \"Kasem\",\n",
    "        \"16:666\" : \"Konkomba\",\n",
    "        \"16:667\" : \"Mampruli\",\n",
    "        \"16:668\" : \"Nzema\",\n",
    "        \"16:669\" : \"Other\",\n",
    "        \"16:670\" : \"Twi\",\n",
    "        \"16:679\" : \"Amharic\",\n",
    "        \"16:680\" : \"Arabic\",\n",
    "        \"16:681\" : \"Congolese\",\n",
    "        \"16:682\" : \"French\",\n",
    "        \"16:683\" : \"Hindi\",\n",
    "        \"16:684\" : \"Kinyarwanda\",\n",
    "        \"16:685\" : \"Kirundi\",\n",
    "        \"16:686\" : \"Luganda\",\n",
    "        \"16:687\" : \"Punjabi\",\n",
    "        \"16:688\" : \"Somali\",\n",
    "        \"16:689\" : \"Swahili\",\n",
    "        \"16:697\" : \"Kiswahili\",\n",
    "        \"16:698\" : \"Portuguese\",\n",
    "        \"16:699\" : \"Spanish\",\n",
    "        \"21:556\" : \"Yesterday\",\n",
    "        \"21:557\" : \"Past 7 Days\",\n",
    "        \"21:558\" : \"Past 4 Weeks\",\n",
    "        \"21:559\" : \"4-12 Months Ago\",\n",
    "        \"21:560\" : \"Longer Than Any Of The Above\",\n",
    "        \"19:547\" : \"Single\",\n",
    "        \"19:548\" : \"Married/Living Together/Partnership\",\n",
    "        \"19:549\" : \"Divorced/Widowed/Separated\",\n",
    "        \"15:504\" : \"South Africa - East Rand\",\n",
    "        \"15:505\" : \"South Africa - West Rand\",\n",
    "        \"15:502\" : \"South Africa - Cape Town\",\n",
    "        \"15:503\" : \"South Africa - Greater Johannesburg\",\n",
    "        \"15:506\" : \"South Africa - Soweto\",\n",
    "        \"15:507\" : \"South Africa - Vaal\",\n",
    "        \"15:508\" : \"South Africa - Pretoria\",\n",
    "        \"15:509\" : \"South Africa - Port Elizabeth/Uitenhage\",\n",
    "        \"15:510\" : \"South Africa - East London\",\n",
    "        \"15:511\" : \"South Africa - Durban\",\n",
    "        \"15:512\" : \"South Africa - Pietermaritzburg\",\n",
    "        \"15:513\" : \"South Africa - Bloemfontein\",\n",
    "        \"15:514\" : \"South Africa - Kimberley\",\n",
    "        \"15:515\" : \"South Africa - eMalahleni/Witbank\",\n",
    "        \"15:516\" : \"South Africa - Other\",\n",
    "        \"34:761\" : \"1001-2000 USD\",\n",
    "        \"34:762\" : \"2001-4000 USD\",\n",
    "        \"34:763\" : \"4001-8000 USD\",\n",
    "        \"34:764\" : \"8001-16000 USD\",\n",
    "        \"34:765\" : \"16001-32000 USD\",\n",
    "        \"34:766\" : \"32000+ USD\",\n",
    "        \"34:767\" : \"Dependent / NA\",\n",
    "        \"34:760\" : \"0-1000 USD\",\n",
    "        \"34:768\" : \"Undeclared\",\n",
    "        \"33:750\" : \"R 1-2999\",\n",
    "        \"33:751\" : \"R 3000-5999\",\n",
    "        \"33:752\" : \"R 6000-11999\",\n",
    "        \"33:753\" : \"R 12000-19999\",\n",
    "        \"33:754\" : \"R 20000-29999\",\n",
    "        \"33:755\" : \"R 30000-49999\",\n",
    "        \"33:756\" : \"R 50000-69999\",\n",
    "        \"33:757\" : \"R 70000+\",\n",
    "        \"33:758\" : \"Dependent / NA\",\n",
    "        \"33:759\" : \"Undeclared\",\n",
    "        \"13:469\" : \"Agriculture, Forestry and Fishing\",\n",
    "        \"13:470\" : \"Mining\",\n",
    "        \"13:471\" : \"Manufacturing\",\n",
    "        \"13:472\" : \"Electricity, Gas, Water and Waste Services\",\n",
    "        \"13:473\" : \"Construction\",\n",
    "        \"13:474\" : \"Wholesale Trade\",\n",
    "        \"13:475\" : \"Retail Trade\",\n",
    "        \"13:476\" : \"Accommodation and Food Services\",\n",
    "        \"13:477\" : \"Transport, Postal and Warehousing\",\n",
    "        \"13:478\" : \"Information Media and Telecommunications\",\n",
    "        \"13:479\" : \"Financial and Insurance Services\",\n",
    "        \"13:480\" : \"Rental, Hiring and Real Estate Services\",\n",
    "        \"13:481\" : \"Professional, Scientific and Technical Services\",\n",
    "        \"13:482\" : \"Administrative and Support Services\",\n",
    "        \"13:483\" : \"Public Administration and Safety\",\n",
    "        \"13:484\" : \"Education and Training\",\n",
    "        \"13:485\" : \"Health Care and Social Assistance\",\n",
    "        \"13:486\" : \"Arts and Recreation Services\",\n",
    "        \"13:487\" : \"Other\",\n",
    "        \"9:444\" : \"6+\",\n",
    "        \"9:439\" : \"Just me\",\n",
    "        \"9:440\" : \"2\",\n",
    "        \"9:441\" : \"3\",\n",
    "        \"9:442\" : \"4\",\n",
    "        \"9:443\" : \"5\",\n",
    "        \"8:415\" : \"UAE - Abu Dhabi\",\n",
    "        \"8:416\" : \"UAE - Ajman\",\n",
    "        \"8:417\" : \"UAE - Fujairah\",\n",
    "        \"8:418\" : \"UAE - Sharjah\",\n",
    "        \"8:419\" : \"UAE - Dubai\",\n",
    "        \"8:420\" : \"UAE - Ras al-Khaimah\",\n",
    "        \"8:421\" : \"UAE - Umm al-Qaiwain\",\n",
    "        \"8:422\" : \"KSA - Ha'il\",\n",
    "        \"8:423\" : \"KSA - Al Qasim\",\n",
    "        \"8:424\" : \"KSA - Riyadh\",\n",
    "        \"8:425\" : \"KSA - Tabuk\",\n",
    "        \"8:426\" : \"KSA - Al Madinah Al Munawara\",\n",
    "        \"8:427\" : \"KSA - Holy Makkah\",\n",
    "        \"8:428\" : \"KSA - Al Bahah\",\n",
    "        \"8:429\" : \"KSA - Northern Borders region\",\n",
    "        \"8:430\" : \"KSA - Al Jawf\",\n",
    "        \"8:431\" : \"KSA - Jizan\",\n",
    "        \"8:432\" : \"KSA - Asir\",\n",
    "        \"8:433\" : \"KSA - Najran\",\n",
    "        \"8:434\" : \"KSA - Eastern Province\",\n",
    "        \"8:435\" : \"KSA - Jeddah\",\n",
    "        \"8:436\" : \"KSA - Al Taef\",\n",
    "        \"8:437\" : \"KSA - Yunboa\",\n",
    "        \"8:438\" : \"KSA - Al Hufof / Al Ihsaa'\",\n",
    "        \"8:489\" : \"South Africa - Eastern Cape\",\n",
    "        \"8:490\" : \"South Africa - Free State\",\n",
    "        \"8:491\" : \"South Africa - Gauteng\",\n",
    "        \"8:492\" : \"South Africa - KZN\",\n",
    "        \"8:493\" : \"South Africa - Limpopo\",\n",
    "        \"8:494\" : \"South Africa - Mpumalanga\",\n",
    "        \"8:495\" : \"South Africa - North West\",\n",
    "        \"8:496\" : \"South Africa - Northern Cape\",\n",
    "        \"8:497\" : \"South Africa - Western Cape\",\n",
    "        \"8:646\" : \"Ghana - Ashanti\",\n",
    "        \"8:647\" : \"Ghana - Brong-Ahafo\",\n",
    "        \"8:648\" : \"Ghana - Greater Accra\",\n",
    "        \"8:649\" : \"Ghana - Central\",\n",
    "        \"8:650\" : \"Ghana - Eastern\",\n",
    "        \"8:651\" : \"Ghana - Orthen\",\n",
    "        \"8:652\" : \"Ghana - Western\",\n",
    "        \"8:653\" : \"Ghana - Upper East\",\n",
    "        \"8:654\" : \"Ghana - Upper West\",\n",
    "        \"8:655\" : \"Ghana - Volta\",\n",
    "        \"8:671\" : \"Kenya - Central\",\n",
    "        \"8:672\" : \"Kenya - Coast\",\n",
    "        \"8:673\" : \"Kenya - Eastern\",\n",
    "        \"8:674\" : \"Kenya - Nairobi\",\n",
    "        \"8:675\" : \"Kenya - North Eastern\",\n",
    "        \"8:676\" : \"Kenya - Nyanza\",\n",
    "        \"8:677\" : \"Kenya - Rift Valley\",\n",
    "        \"8:678\" : \"Kenya - Western\",\n",
    "        \"8:690\" : \"Nigeria - South West Zone\",\n",
    "        \"8:691\" : \"Nigeria - South East Zone\",\n",
    "        \"8:692\" : \"Nigeria - North West Zone\",\n",
    "        \"8:693\" : \"Nigeria - North East Zone\",\n",
    "        \"8:694\" : \"Nigeria - North Central Zone\",\n",
    "        \"8:695\" : \"Nigeria - South South Zone\",\n",
    "        \"18:544\" : \"Rented\",\n",
    "        \"18:545\" : \"Owned\",\n",
    "        \"18:546\" : \"Other\",\n",
    "        \"17:528\" : \"Student / scholar\",\n",
    "        \"17:529\" : \"Work full time / self employed\",\n",
    "        \"17:530\" : \"Work part time\",\n",
    "        \"17:531\" : \"Retired\",\n",
    "        \"17:532\" : \"Not working\",\n",
    "        \"17:533\" : \"Unemployed\"\n",
    "      }"
   ]
  },
  {
   "cell_type": "code",
   "execution_count": 14,
   "metadata": {},
   "outputs": [],
   "source": [
    "new_map={int(k.split(\":\")[1]):v for k,v in demo_map.items()}"
   ]
  },
  {
   "cell_type": "code",
   "execution_count": 17,
   "metadata": {},
   "outputs": [],
   "source": [
    "tmp_df=ndf.copy()\n",
    "tmp_df['name']=ndf['id'].map(new_map)"
   ]
  },
  {
   "cell_type": "code",
   "execution_count": 27,
   "metadata": {},
   "outputs": [],
   "source": [
    "result=tmp_df[tmp_df['name'].notna()]"
   ]
  },
  {
   "cell_type": "code",
   "execution_count": 28,
   "metadata": {},
   "outputs": [],
   "source": [
    "result.to_csv('result.csv')"
   ]
  },
  {
   "cell_type": "code",
   "execution_count": 2,
   "metadata": {},
   "outputs": [
    {
     "name": "stderr",
     "output_type": "stream",
     "text": [
      "/Users/Goleo8/anaconda3/lib/python3.6/site-packages/sklearn/ensemble/weight_boosting.py:29: DeprecationWarning: numpy.core.umath_tests is an internal NumPy module and should not be imported. It will be removed in a future NumPy release.\n",
      "  from numpy.core.umath_tests import inner1d\n"
     ]
    }
   ],
   "source": [
    "from sklearn.ensemble import RandomForestClassifier\n",
    "from sklearn.datasets import load_svmlight_file"
   ]
  },
  {
   "cell_type": "code",
   "execution_count": 5,
   "metadata": {},
   "outputs": [],
   "source": [
    "data = load_svmlight_file('train.txt')\n",
    "X,y=data[0],data[1]"
   ]
  },
  {
   "cell_type": "code",
   "execution_count": 6,
   "metadata": {},
   "outputs": [
    {
     "data": {
      "text/plain": [
       "(449402, 6785)"
      ]
     },
     "execution_count": 6,
     "metadata": {},
     "output_type": "execute_result"
    }
   ],
   "source": [
    "X.shape"
   ]
  },
  {
   "cell_type": "code",
   "execution_count": 7,
   "metadata": {},
   "outputs": [],
   "source": [
    "from sklearn.model_selection import train_test_split"
   ]
  },
  {
   "cell_type": "code",
   "execution_count": 8,
   "metadata": {},
   "outputs": [],
   "source": [
    "X_train,X_test,y_train,y_test = train_test_split(X,y,test_size=.3,random_state=42)"
   ]
  },
  {
   "cell_type": "code",
   "execution_count": 9,
   "metadata": {},
   "outputs": [],
   "source": [
    "import xgboost as xgb"
   ]
  },
  {
   "cell_type": "code",
   "execution_count": 99,
   "metadata": {},
   "outputs": [],
   "source": [
    "regr = xgb.XGBClassifier(\n",
    "                 colsample_bytree=0.2,\n",
    "                 gamma=0.0,\n",
    "                 learning_rate=0.01,\n",
    "                 max_depth=4,\n",
    "                 min_child_weight=1.5,\n",
    "                 n_estimators=7200,                                                                  \n",
    "                 reg_alpha=0.9,\n",
    "#                  reg_lambda=0.6,\n",
    "                 subsample=1,\n",
    "                 seed=42,\n",
    "                 silent=1)"
   ]
  },
  {
   "cell_type": "code",
   "execution_count": 100,
   "metadata": {},
   "outputs": [
    {
     "data": {
      "text/plain": [
       "XGBClassifier(base_score=0.5, booster='gbtree', colsample_bylevel=1,\n",
       "       colsample_bytree=0.2, gamma=0.0, learning_rate=0.01,\n",
       "       max_delta_step=0, max_depth=4, min_child_weight=1.5, missing=None,\n",
       "       n_estimators=7200, n_jobs=1, nthread=None,\n",
       "       objective='binary:logistic', random_state=0, reg_alpha=0.9,\n",
       "       reg_lambda=1, scale_pos_weight=1, seed=42, silent=1, subsample=1)"
      ]
     },
     "execution_count": 100,
     "metadata": {},
     "output_type": "execute_result"
    }
   ],
   "source": [
    "regr.fit(X_train, y_train)"
   ]
  },
  {
   "cell_type": "code",
   "execution_count": 12,
   "metadata": {},
   "outputs": [
    {
     "name": "stderr",
     "output_type": "stream",
     "text": [
      "/Users/Goleo8/anaconda3/lib/python3.6/site-packages/sklearn/preprocessing/label.py:151: DeprecationWarning: The truth value of an empty array is ambiguous. Returning False, but in future this will result in an error. Use `array.size > 0` to check that an array is not empty.\n",
      "  if diff:\n"
     ]
    }
   ],
   "source": [
    "y_train_pred_regr=regr.predict(X_train)"
   ]
  },
  {
   "cell_type": "code",
   "execution_count": 24,
   "metadata": {},
   "outputs": [],
   "source": [
    "from sklearn.metrics import precision_recall_curve,precision_score,f1_score,recall_score,confusion_matrix"
   ]
  },
  {
   "cell_type": "code",
   "execution_count": 15,
   "metadata": {
    "scrolled": true
   },
   "outputs": [
    {
     "name": "stdout",
     "output_type": "stream",
     "text": [
      "0.7578615618069335\n"
     ]
    }
   ],
   "source": [
    "print(precision_score(y_train,y_train_pred_regr))"
   ]
  },
  {
   "cell_type": "code",
   "execution_count": 16,
   "metadata": {},
   "outputs": [],
   "source": [
    "import numpy as np"
   ]
  },
  {
   "cell_type": "code",
   "execution_count": 17,
   "metadata": {},
   "outputs": [
    {
     "data": {
      "text/plain": [
       "(array([1., 2.]), array([171340, 143241]))"
      ]
     },
     "execution_count": 17,
     "metadata": {},
     "output_type": "execute_result"
    }
   ],
   "source": [
    "np.unique(y_train_pred_regr,return_counts=True)"
   ]
  },
  {
   "cell_type": "code",
   "execution_count": 18,
   "metadata": {},
   "outputs": [
    {
     "name": "stderr",
     "output_type": "stream",
     "text": [
      "/Users/Goleo8/anaconda3/lib/python3.6/site-packages/sklearn/preprocessing/label.py:151: DeprecationWarning: The truth value of an empty array is ambiguous. Returning False, but in future this will result in an error. Use `array.size > 0` to check that an array is not empty.\n",
      "  if diff:\n"
     ]
    }
   ],
   "source": [
    "y_test_pred_regr=regr.predict(X_test)"
   ]
  },
  {
   "cell_type": "code",
   "execution_count": 20,
   "metadata": {
    "scrolled": true
   },
   "outputs": [
    {
     "name": "stdout",
     "output_type": "stream",
     "text": [
      "0.7503928900449791\n"
     ]
    }
   ],
   "source": [
    "print(precision_score(y_test,y_test_pred_regr))"
   ]
  },
  {
   "cell_type": "code",
   "execution_count": 21,
   "metadata": {},
   "outputs": [
    {
     "data": {
      "text/plain": [
       "(array([1., 2.]), array([73812, 61009]))"
      ]
     },
     "execution_count": 21,
     "metadata": {},
     "output_type": "execute_result"
    }
   ],
   "source": [
    "np.unique(y_test_pred_regr,return_counts=True)"
   ]
  },
  {
   "cell_type": "code",
   "execution_count": 23,
   "metadata": {
    "scrolled": true
   },
   "outputs": [
    {
     "name": "stdout",
     "output_type": "stream",
     "text": [
      "Recall:0.740689\n"
     ]
    }
   ],
   "source": [
    "print('Recall:%f'%(recall_score(y_test,y_test_pred_regr)))"
   ]
  },
  {
   "cell_type": "code",
   "execution_count": 26,
   "metadata": {},
   "outputs": [
    {
     "data": {
      "text/plain": [
       "array([[55388, 18424],\n",
       "       [19391, 41618]])"
      ]
     },
     "execution_count": 26,
     "metadata": {},
     "output_type": "execute_result"
    }
   ],
   "source": [
    "confusion_matrix(y_test,y_test_pred_regr).T"
   ]
  },
  {
   "cell_type": "code",
   "execution_count": 29,
   "metadata": {},
   "outputs": [],
   "source": [
    "from sklearn.manifold import TSNE"
   ]
  },
  {
   "cell_type": "code",
   "execution_count": 83,
   "metadata": {},
   "outputs": [],
   "source": [
    "tsne = TSNE(n_components=3)"
   ]
  },
  {
   "cell_type": "code",
   "execution_count": 31,
   "metadata": {},
   "outputs": [],
   "source": [
    "rnd_perm=np.random.permutation(X_test.shape[0])\n",
    "tsne_data_X,tsne_data_y=X[rnd_perm[:1000]],y[rnd_perm[:1000]]"
   ]
  },
  {
   "cell_type": "code",
   "execution_count": 33,
   "metadata": {},
   "outputs": [],
   "source": [
    "tsne_result=tsne.fit_transform(tsne_data_X.toarray())"
   ]
  },
  {
   "cell_type": "code",
   "execution_count": 37,
   "metadata": {},
   "outputs": [],
   "source": [
    "import matplotlib.pyplot as plt\n",
    "%matplotlib inline"
   ]
  },
  {
   "cell_type": "code",
   "execution_count": 42,
   "metadata": {},
   "outputs": [
    {
     "data": {
      "text/plain": [
       "(6785,)"
      ]
     },
     "execution_count": 42,
     "metadata": {},
     "output_type": "execute_result"
    }
   ],
   "source": [
    "regr.feature_importances_.shape"
   ]
  },
  {
   "cell_type": "code",
   "execution_count": 47,
   "metadata": {},
   "outputs": [],
   "source": [
    "feature_index = np.arange(6785)\n",
    "features = np.array(list(zip(feature_index,regr.feature_importances_)))"
   ]
  },
  {
   "cell_type": "code",
   "execution_count": 50,
   "metadata": {},
   "outputs": [
    {
     "data": {
      "text/html": [
       "<div>\n",
       "<style scoped>\n",
       "    .dataframe tbody tr th:only-of-type {\n",
       "        vertical-align: middle;\n",
       "    }\n",
       "\n",
       "    .dataframe tbody tr th {\n",
       "        vertical-align: top;\n",
       "    }\n",
       "\n",
       "    .dataframe thead th {\n",
       "        text-align: right;\n",
       "    }\n",
       "</style>\n",
       "<table border=\"1\" class=\"dataframe\">\n",
       "  <thead>\n",
       "    <tr style=\"text-align: right;\">\n",
       "      <th></th>\n",
       "      <th>id</th>\n",
       "      <th>value</th>\n",
       "    </tr>\n",
       "  </thead>\n",
       "  <tbody>\n",
       "    <tr>\n",
       "      <th>0</th>\n",
       "      <td>0</td>\n",
       "      <td>0.000000</td>\n",
       "    </tr>\n",
       "    <tr>\n",
       "      <th>1</th>\n",
       "      <td>1</td>\n",
       "      <td>0.001871</td>\n",
       "    </tr>\n",
       "    <tr>\n",
       "      <th>2</th>\n",
       "      <td>2</td>\n",
       "      <td>0.000069</td>\n",
       "    </tr>\n",
       "    <tr>\n",
       "      <th>3</th>\n",
       "      <td>3</td>\n",
       "      <td>0.000000</td>\n",
       "    </tr>\n",
       "    <tr>\n",
       "      <th>4</th>\n",
       "      <td>4</td>\n",
       "      <td>0.000000</td>\n",
       "    </tr>\n",
       "  </tbody>\n",
       "</table>\n",
       "</div>"
      ],
      "text/plain": [
       "   id     value\n",
       "0   0  0.000000\n",
       "1   1  0.001871\n",
       "2   2  0.000069\n",
       "3   3  0.000000\n",
       "4   4  0.000000"
      ]
     },
     "execution_count": 50,
     "metadata": {},
     "output_type": "execute_result"
    }
   ],
   "source": [
    "features=pd.DataFrame({'id':feature_index,'value':regr.feature_importances_})\n",
    "features.head()"
   ]
  },
  {
   "cell_type": "code",
   "execution_count": 51,
   "metadata": {},
   "outputs": [
    {
     "data": {
      "text/html": [
       "<div>\n",
       "<style scoped>\n",
       "    .dataframe tbody tr th:only-of-type {\n",
       "        vertical-align: middle;\n",
       "    }\n",
       "\n",
       "    .dataframe tbody tr th {\n",
       "        vertical-align: top;\n",
       "    }\n",
       "\n",
       "    .dataframe thead th {\n",
       "        text-align: right;\n",
       "    }\n",
       "</style>\n",
       "<table border=\"1\" class=\"dataframe\">\n",
       "  <thead>\n",
       "    <tr style=\"text-align: right;\">\n",
       "      <th></th>\n",
       "      <th>id</th>\n",
       "      <th>value</th>\n",
       "    </tr>\n",
       "  </thead>\n",
       "  <tbody>\n",
       "    <tr>\n",
       "      <th>5979</th>\n",
       "      <td>5979</td>\n",
       "      <td>0.012562</td>\n",
       "    </tr>\n",
       "    <tr>\n",
       "      <th>7</th>\n",
       "      <td>7</td>\n",
       "      <td>0.011108</td>\n",
       "    </tr>\n",
       "    <tr>\n",
       "      <th>6507</th>\n",
       "      <td>6507</td>\n",
       "      <td>0.009607</td>\n",
       "    </tr>\n",
       "    <tr>\n",
       "      <th>4322</th>\n",
       "      <td>4322</td>\n",
       "      <td>0.009226</td>\n",
       "    </tr>\n",
       "    <tr>\n",
       "      <th>1900</th>\n",
       "      <td>1900</td>\n",
       "      <td>0.008775</td>\n",
       "    </tr>\n",
       "    <tr>\n",
       "      <th>1464</th>\n",
       "      <td>1464</td>\n",
       "      <td>0.008209</td>\n",
       "    </tr>\n",
       "    <tr>\n",
       "      <th>4281</th>\n",
       "      <td>4281</td>\n",
       "      <td>0.007459</td>\n",
       "    </tr>\n",
       "    <tr>\n",
       "      <th>5664</th>\n",
       "      <td>5664</td>\n",
       "      <td>0.007309</td>\n",
       "    </tr>\n",
       "    <tr>\n",
       "      <th>1939</th>\n",
       "      <td>1939</td>\n",
       "      <td>0.006789</td>\n",
       "    </tr>\n",
       "    <tr>\n",
       "      <th>4695</th>\n",
       "      <td>4695</td>\n",
       "      <td>0.006708</td>\n",
       "    </tr>\n",
       "    <tr>\n",
       "      <th>4319</th>\n",
       "      <td>4319</td>\n",
       "      <td>0.006685</td>\n",
       "    </tr>\n",
       "    <tr>\n",
       "      <th>6637</th>\n",
       "      <td>6637</td>\n",
       "      <td>0.005358</td>\n",
       "    </tr>\n",
       "    <tr>\n",
       "      <th>5611</th>\n",
       "      <td>5611</td>\n",
       "      <td>0.005254</td>\n",
       "    </tr>\n",
       "    <tr>\n",
       "      <th>1938</th>\n",
       "      <td>1938</td>\n",
       "      <td>0.004965</td>\n",
       "    </tr>\n",
       "    <tr>\n",
       "      <th>5612</th>\n",
       "      <td>5612</td>\n",
       "      <td>0.004953</td>\n",
       "    </tr>\n",
       "    <tr>\n",
       "      <th>5046</th>\n",
       "      <td>5046</td>\n",
       "      <td>0.004734</td>\n",
       "    </tr>\n",
       "    <tr>\n",
       "      <th>1739</th>\n",
       "      <td>1739</td>\n",
       "      <td>0.004642</td>\n",
       "    </tr>\n",
       "    <tr>\n",
       "      <th>4489</th>\n",
       "      <td>4489</td>\n",
       "      <td>0.004515</td>\n",
       "    </tr>\n",
       "    <tr>\n",
       "      <th>5269</th>\n",
       "      <td>5269</td>\n",
       "      <td>0.004457</td>\n",
       "    </tr>\n",
       "    <tr>\n",
       "      <th>6783</th>\n",
       "      <td>6783</td>\n",
       "      <td>0.004330</td>\n",
       "    </tr>\n",
       "    <tr>\n",
       "      <th>6039</th>\n",
       "      <td>6039</td>\n",
       "      <td>0.004203</td>\n",
       "    </tr>\n",
       "    <tr>\n",
       "      <th>5274</th>\n",
       "      <td>5274</td>\n",
       "      <td>0.004157</td>\n",
       "    </tr>\n",
       "    <tr>\n",
       "      <th>6728</th>\n",
       "      <td>6728</td>\n",
       "      <td>0.003949</td>\n",
       "    </tr>\n",
       "    <tr>\n",
       "      <th>5293</th>\n",
       "      <td>5293</td>\n",
       "      <td>0.003903</td>\n",
       "    </tr>\n",
       "    <tr>\n",
       "      <th>5792</th>\n",
       "      <td>5792</td>\n",
       "      <td>0.003822</td>\n",
       "    </tr>\n",
       "    <tr>\n",
       "      <th>5294</th>\n",
       "      <td>5294</td>\n",
       "      <td>0.003810</td>\n",
       "    </tr>\n",
       "    <tr>\n",
       "      <th>1944</th>\n",
       "      <td>1944</td>\n",
       "      <td>0.003787</td>\n",
       "    </tr>\n",
       "    <tr>\n",
       "      <th>5622</th>\n",
       "      <td>5622</td>\n",
       "      <td>0.003764</td>\n",
       "    </tr>\n",
       "    <tr>\n",
       "      <th>4325</th>\n",
       "      <td>4325</td>\n",
       "      <td>0.003764</td>\n",
       "    </tr>\n",
       "    <tr>\n",
       "      <th>5271</th>\n",
       "      <td>5271</td>\n",
       "      <td>0.003718</td>\n",
       "    </tr>\n",
       "    <tr>\n",
       "      <th>...</th>\n",
       "      <td>...</td>\n",
       "      <td>...</td>\n",
       "    </tr>\n",
       "    <tr>\n",
       "      <th>2307</th>\n",
       "      <td>2307</td>\n",
       "      <td>0.000000</td>\n",
       "    </tr>\n",
       "    <tr>\n",
       "      <th>2306</th>\n",
       "      <td>2306</td>\n",
       "      <td>0.000000</td>\n",
       "    </tr>\n",
       "    <tr>\n",
       "      <th>2305</th>\n",
       "      <td>2305</td>\n",
       "      <td>0.000000</td>\n",
       "    </tr>\n",
       "    <tr>\n",
       "      <th>2303</th>\n",
       "      <td>2303</td>\n",
       "      <td>0.000000</td>\n",
       "    </tr>\n",
       "    <tr>\n",
       "      <th>2328</th>\n",
       "      <td>2328</td>\n",
       "      <td>0.000000</td>\n",
       "    </tr>\n",
       "    <tr>\n",
       "      <th>2330</th>\n",
       "      <td>2330</td>\n",
       "      <td>0.000000</td>\n",
       "    </tr>\n",
       "    <tr>\n",
       "      <th>2354</th>\n",
       "      <td>2354</td>\n",
       "      <td>0.000000</td>\n",
       "    </tr>\n",
       "    <tr>\n",
       "      <th>2332</th>\n",
       "      <td>2332</td>\n",
       "      <td>0.000000</td>\n",
       "    </tr>\n",
       "    <tr>\n",
       "      <th>2353</th>\n",
       "      <td>2353</td>\n",
       "      <td>0.000000</td>\n",
       "    </tr>\n",
       "    <tr>\n",
       "      <th>2352</th>\n",
       "      <td>2352</td>\n",
       "      <td>0.000000</td>\n",
       "    </tr>\n",
       "    <tr>\n",
       "      <th>2351</th>\n",
       "      <td>2351</td>\n",
       "      <td>0.000000</td>\n",
       "    </tr>\n",
       "    <tr>\n",
       "      <th>2350</th>\n",
       "      <td>2350</td>\n",
       "      <td>0.000000</td>\n",
       "    </tr>\n",
       "    <tr>\n",
       "      <th>2349</th>\n",
       "      <td>2349</td>\n",
       "      <td>0.000000</td>\n",
       "    </tr>\n",
       "    <tr>\n",
       "      <th>2348</th>\n",
       "      <td>2348</td>\n",
       "      <td>0.000000</td>\n",
       "    </tr>\n",
       "    <tr>\n",
       "      <th>2347</th>\n",
       "      <td>2347</td>\n",
       "      <td>0.000000</td>\n",
       "    </tr>\n",
       "    <tr>\n",
       "      <th>2346</th>\n",
       "      <td>2346</td>\n",
       "      <td>0.000000</td>\n",
       "    </tr>\n",
       "    <tr>\n",
       "      <th>2345</th>\n",
       "      <td>2345</td>\n",
       "      <td>0.000000</td>\n",
       "    </tr>\n",
       "    <tr>\n",
       "      <th>2344</th>\n",
       "      <td>2344</td>\n",
       "      <td>0.000000</td>\n",
       "    </tr>\n",
       "    <tr>\n",
       "      <th>2343</th>\n",
       "      <td>2343</td>\n",
       "      <td>0.000000</td>\n",
       "    </tr>\n",
       "    <tr>\n",
       "      <th>2342</th>\n",
       "      <td>2342</td>\n",
       "      <td>0.000000</td>\n",
       "    </tr>\n",
       "    <tr>\n",
       "      <th>2341</th>\n",
       "      <td>2341</td>\n",
       "      <td>0.000000</td>\n",
       "    </tr>\n",
       "    <tr>\n",
       "      <th>2340</th>\n",
       "      <td>2340</td>\n",
       "      <td>0.000000</td>\n",
       "    </tr>\n",
       "    <tr>\n",
       "      <th>2339</th>\n",
       "      <td>2339</td>\n",
       "      <td>0.000000</td>\n",
       "    </tr>\n",
       "    <tr>\n",
       "      <th>2338</th>\n",
       "      <td>2338</td>\n",
       "      <td>0.000000</td>\n",
       "    </tr>\n",
       "    <tr>\n",
       "      <th>2337</th>\n",
       "      <td>2337</td>\n",
       "      <td>0.000000</td>\n",
       "    </tr>\n",
       "    <tr>\n",
       "      <th>2336</th>\n",
       "      <td>2336</td>\n",
       "      <td>0.000000</td>\n",
       "    </tr>\n",
       "    <tr>\n",
       "      <th>2335</th>\n",
       "      <td>2335</td>\n",
       "      <td>0.000000</td>\n",
       "    </tr>\n",
       "    <tr>\n",
       "      <th>2334</th>\n",
       "      <td>2334</td>\n",
       "      <td>0.000000</td>\n",
       "    </tr>\n",
       "    <tr>\n",
       "      <th>2333</th>\n",
       "      <td>2333</td>\n",
       "      <td>0.000000</td>\n",
       "    </tr>\n",
       "    <tr>\n",
       "      <th>3392</th>\n",
       "      <td>3392</td>\n",
       "      <td>0.000000</td>\n",
       "    </tr>\n",
       "  </tbody>\n",
       "</table>\n",
       "<p>6785 rows × 2 columns</p>\n",
       "</div>"
      ],
      "text/plain": [
       "        id     value\n",
       "5979  5979  0.012562\n",
       "7        7  0.011108\n",
       "6507  6507  0.009607\n",
       "4322  4322  0.009226\n",
       "1900  1900  0.008775\n",
       "1464  1464  0.008209\n",
       "4281  4281  0.007459\n",
       "5664  5664  0.007309\n",
       "1939  1939  0.006789\n",
       "4695  4695  0.006708\n",
       "4319  4319  0.006685\n",
       "6637  6637  0.005358\n",
       "5611  5611  0.005254\n",
       "1938  1938  0.004965\n",
       "5612  5612  0.004953\n",
       "5046  5046  0.004734\n",
       "1739  1739  0.004642\n",
       "4489  4489  0.004515\n",
       "5269  5269  0.004457\n",
       "6783  6783  0.004330\n",
       "6039  6039  0.004203\n",
       "5274  5274  0.004157\n",
       "6728  6728  0.003949\n",
       "5293  5293  0.003903\n",
       "5792  5792  0.003822\n",
       "5294  5294  0.003810\n",
       "1944  1944  0.003787\n",
       "5622  5622  0.003764\n",
       "4325  4325  0.003764\n",
       "5271  5271  0.003718\n",
       "...    ...       ...\n",
       "2307  2307  0.000000\n",
       "2306  2306  0.000000\n",
       "2305  2305  0.000000\n",
       "2303  2303  0.000000\n",
       "2328  2328  0.000000\n",
       "2330  2330  0.000000\n",
       "2354  2354  0.000000\n",
       "2332  2332  0.000000\n",
       "2353  2353  0.000000\n",
       "2352  2352  0.000000\n",
       "2351  2351  0.000000\n",
       "2350  2350  0.000000\n",
       "2349  2349  0.000000\n",
       "2348  2348  0.000000\n",
       "2347  2347  0.000000\n",
       "2346  2346  0.000000\n",
       "2345  2345  0.000000\n",
       "2344  2344  0.000000\n",
       "2343  2343  0.000000\n",
       "2342  2342  0.000000\n",
       "2341  2341  0.000000\n",
       "2340  2340  0.000000\n",
       "2339  2339  0.000000\n",
       "2338  2338  0.000000\n",
       "2337  2337  0.000000\n",
       "2336  2336  0.000000\n",
       "2335  2335  0.000000\n",
       "2334  2334  0.000000\n",
       "2333  2333  0.000000\n",
       "3392  3392  0.000000\n",
       "\n",
       "[6785 rows x 2 columns]"
      ]
     },
     "execution_count": 51,
     "metadata": {},
     "output_type": "execute_result"
    }
   ],
   "source": [
    "features.sort_values(by='value',ascending=False)"
   ]
  },
  {
   "cell_type": "code",
   "execution_count": 52,
   "metadata": {},
   "outputs": [
    {
     "data": {
      "text/plain": [
       "(301, 2)"
      ]
     },
     "execution_count": 52,
     "metadata": {},
     "output_type": "execute_result"
    }
   ],
   "source": [
    "important_feature = features[features['value']>0.001]\n",
    "important_feature.shape"
   ]
  },
  {
   "cell_type": "code",
   "execution_count": 55,
   "metadata": {},
   "outputs": [
    {
     "data": {
      "text/plain": [
       "(134821, 301)"
      ]
     },
     "execution_count": 55,
     "metadata": {},
     "output_type": "execute_result"
    }
   ],
   "source": [
    "X_test_imp=X_test.toarray()[:,important_feature['id'].values]\n",
    "X_test_imp.shape"
   ]
  },
  {
   "cell_type": "code",
   "execution_count": 56,
   "metadata": {},
   "outputs": [],
   "source": [
    "tsne_data_X,tsne_data_y=X_test_imp[rnd_perm[:1000]],y[rnd_perm[:1000]]"
   ]
  },
  {
   "cell_type": "code",
   "execution_count": 84,
   "metadata": {},
   "outputs": [],
   "source": [
    "tsne_result=tsne.fit_transform(tsne_data_X)"
   ]
  },
  {
   "cell_type": "code",
   "execution_count": 87,
   "metadata": {},
   "outputs": [
    {
     "data": {
      "text/plain": [
       "(1000, 3)"
      ]
     },
     "execution_count": 87,
     "metadata": {},
     "output_type": "execute_result"
    }
   ],
   "source": [
    "tsne_result.shape"
   ]
  },
  {
   "cell_type": "code",
   "execution_count": 98,
   "metadata": {},
   "outputs": [
    {
     "data": {
      "text/plain": [
       "<mpl_toolkits.mplot3d.art3d.Path3DCollection at 0x14b329c18>"
      ]
     },
     "execution_count": 98,
     "metadata": {},
     "output_type": "execute_result"
    },
    {
     "data": {
      "image/png": "[encoded data removed]",
      "text/plain": [
       "<matplotlib.figure.Figure at 0x14b4c7438>"
      ]
     },
     "metadata": {},
     "output_type": "display_data"
    }
   ],
   "source": [
    "from matplotlib import pyplot\n",
    "from mpl_toolkits.mplot3d import Axes3D\n",
    "import random\n",
    "\n",
    "\n",
    "fig = pyplot.figure()\n",
    "ax = Axes3D(fig)\n",
    "threshold=200\n",
    "ax.scatter(tsne_result[:threshold,0],tsne_result[:threshold,1],tsne_result[:threshold,2],c=tsne_data_y[:threshold],cmap='autumn',edgecolors='black',linewidths=1.5)"
   ]
  },
  {
   "cell_type": "code",
   "execution_count": 88,
   "metadata": {
    "scrolled": false
   },
   "outputs": [
    {
     "name": "stderr",
     "output_type": "stream",
     "text": [
      "/Users/Goleo8/anaconda3/lib/python3.6/site-packages/matplotlib/collections.py:853: RuntimeWarning: invalid value encountered in sqrt\n",
      "  return self._sizes\n"
     ]
    },
    {
     "data": {
      "text/plain": [
       "<matplotlib.collections.PathCollection at 0x14b6c7a58>"
      ]
     },
     "execution_count": 88,
     "metadata": {},
     "output_type": "execute_result"
    },
    {
     "data": {
      "image/png": "[encoded data removed]",
      "text/plain": [
       "<matplotlib.figure.Figure at 0x14b277ac8>"
      ]
     },
     "metadata": {},
     "output_type": "display_data"
    }
   ],
   "source": [
    "plt.scatter(tsne_result[:,0],tsne_result[:,1],tsne_result[:,2],c=tsne_data_y,cmap='autumn',edgecolors='black',linewidths=1.5)"
   ]
  },
  {
   "cell_type": "code",
   "execution_count": 61,
   "metadata": {},
   "outputs": [],
   "source": [
    "X_compact=X[:,important_feature['id'].values]"
   ]
  },
  {
   "cell_type": "code",
   "execution_count": 62,
   "metadata": {},
   "outputs": [],
   "source": [
    "X_compact_train,X_compact_test,y_c_train,y_c_test = train_test_split(X_compact,y,test_size=.3,random_state=42)"
   ]
  },
  {
   "cell_type": "code",
   "execution_count": 63,
   "metadata": {},
   "outputs": [
    {
     "data": {
      "text/plain": [
       "XGBClassifier(base_score=0.5, booster='gbtree', colsample_bylevel=1,\n",
       "       colsample_bytree=0.2, gamma=0.0, learning_rate=0.01,\n",
       "       max_delta_step=0, max_depth=4, min_child_weight=1.5, missing=None,\n",
       "       n_estimators=7200, n_jobs=1, nthread=None,\n",
       "       objective='binary:logistic', random_state=0, reg_alpha=0.9,\n",
       "       reg_lambda=0.6, scale_pos_weight=1, seed=42, silent=1,\n",
       "       subsample=0.2)"
      ]
     },
     "execution_count": 63,
     "metadata": {},
     "output_type": "execute_result"
    }
   ],
   "source": [
    "regr.fit(X_compact_train,y_c_train)"
   ]
  },
  {
   "cell_type": "code",
   "execution_count": 64,
   "metadata": {},
   "outputs": [
    {
     "name": "stderr",
     "output_type": "stream",
     "text": [
      "/Users/Goleo8/anaconda3/lib/python3.6/site-packages/sklearn/preprocessing/label.py:151: DeprecationWarning: The truth value of an empty array is ambiguous. Returning False, but in future this will result in an error. Use `array.size > 0` to check that an array is not empty.\n",
      "  if diff:\n"
     ]
    }
   ],
   "source": [
    "y_c_test_pred=regr.predict(X_compact_test)"
   ]
  },
  {
   "cell_type": "code",
   "execution_count": 65,
   "metadata": {},
   "outputs": [
    {
     "name": "stdout",
     "output_type": "stream",
     "text": [
      "0.7455202980123447\n"
     ]
    }
   ],
   "source": [
    "print(precision_score(y_test,y_c_test_pred))"
   ]
  },
  {
   "cell_type": "code",
   "execution_count": 67,
   "metadata": {},
   "outputs": [
    {
     "data": {
      "text/plain": [
       "array([[54836, 18718],\n",
       "       [19943, 41324]])"
      ]
     },
     "execution_count": 67,
     "metadata": {},
     "output_type": "execute_result"
    }
   ],
   "source": [
    "confusion_matrix(y_test,y_c_test_pred).T"
   ]
  },
  {
   "cell_type": "code",
   "execution_count": 68,
   "metadata": {},
   "outputs": [
    {
     "name": "stderr",
     "output_type": "stream",
     "text": [
      "/Users/Goleo8/anaconda3/lib/python3.6/site-packages/lightgbm-2.2.1-py3.6-macosx-10.7-x86_64.egg/lightgbm/__init__.py:46: UserWarning: Starting from version 2.2.1, the library file in distribution wheels for macOS is built by the Apple Clang (Xcode_9.4.1) compiler.\n",
      "This means that in case of installing LightGBM from PyPI via the ``pip install lightgbm`` command, you don't need to install the gcc compiler anymore.\n",
      "Instead of that, you need to install the OpenMP library, which is required for running LightGBM on the system with the Apple Clang compiler.\n",
      "You can install the OpenMP library by the following command: ``brew install libomp``.\n",
      "  \"You can install the OpenMP library by the following command: ``brew install libomp``.\", UserWarning)\n"
     ]
    }
   ],
   "source": [
    "import lightgbm as lgb"
   ]
  },
  {
   "cell_type": "code",
   "execution_count": 77,
   "metadata": {},
   "outputs": [],
   "source": [
    "model_lgb = lgb.LGBMClassifier(metric='l1',n_estimators=7200,learning_rate=0.1)"
   ]
  },
  {
   "cell_type": "code",
   "execution_count": 78,
   "metadata": {},
   "outputs": [
    {
     "data": {
      "text/plain": [
       "LGBMClassifier(boosting_type='gbdt', class_weight=None, colsample_bytree=1.0,\n",
       "        importance_type='split', learning_rate=0.1, max_depth=-1,\n",
       "        metric='l1', min_child_samples=20, min_child_weight=0.001,\n",
       "        min_split_gain=0.0, n_estimators=7200, n_jobs=-1, num_leaves=31,\n",
       "        objective=None, random_state=None, reg_alpha=0.0, reg_lambda=0.0,\n",
       "        silent=True, subsample=1.0, subsample_for_bin=200000,\n",
       "        subsample_freq=0)"
      ]
     },
     "execution_count": 78,
     "metadata": {},
     "output_type": "execute_result"
    }
   ],
   "source": [
    "model_lgb.fit(X_compact_train,y_c_train)"
   ]
  },
  {
   "cell_type": "code",
   "execution_count": 79,
   "metadata": {},
   "outputs": [
    {
     "name": "stderr",
     "output_type": "stream",
     "text": [
      "/Users/Goleo8/anaconda3/lib/python3.6/site-packages/sklearn/preprocessing/label.py:151: DeprecationWarning: The truth value of an empty array is ambiguous. Returning False, but in future this will result in an error. Use `array.size > 0` to check that an array is not empty.\n",
      "  if diff:\n"
     ]
    }
   ],
   "source": [
    "y_c_test_pred_light=model_lgb.predict(X_compact_test)"
   ]
  },
  {
   "cell_type": "code",
   "execution_count": 80,
   "metadata": {},
   "outputs": [
    {
     "name": "stdout",
     "output_type": "stream",
     "text": [
      "0.7448990861150225\n"
     ]
    }
   ],
   "source": [
    "print(precision_score(y_c_test,y_c_test_pred_light))"
   ]
  },
  {
   "cell_type": "code",
   "execution_count": 82,
   "metadata": {},
   "outputs": [
    {
     "data": {
      "text/plain": [
       "array([[53959, 18479],\n",
       "       [20820, 41563]])"
      ]
     },
     "execution_count": 82,
     "metadata": {},
     "output_type": "execute_result"
    }
   ],
   "source": [
    "confusion_matrix(y_c_test,y_c_test_pred_light).T"
   ]
  },
  {
   "cell_type": "code",
   "execution_count": 40,
   "metadata": {
    "scrolled": true
   },
   "outputs": [
    {
     "name": "stderr",
     "output_type": "stream",
     "text": [
      "/Users/Goleo8/anaconda3/lib/python3.6/site-packages/ggplot/utils.py:81: FutureWarning: pandas.tslib is deprecated and will be removed in a future version.\n",
      "You can access Timestamp as pandas.Timestamp\n",
      "  pd.tslib.Timestamp,\n",
      "/Users/Goleo8/anaconda3/lib/python3.6/site-packages/ggplot/stats/smoothers.py:4: FutureWarning: The pandas.lib module is deprecated and will be removed in a future version. These are private functions and can be accessed from pandas._libs.lib instead\n",
      "  from pandas.lib import Timestamp\n"
     ]
    }
   ],
   "source": [
    "from ggplot import *"
   ]
  },
  {
   "cell_type": "code",
   "execution_count": 28,
   "metadata": {},
   "outputs": [],
   "source": [
    "rfc=RandomForestClassifier(n_estimators=300,max_depth=20)"
   ]
  },
  {
   "cell_type": "code",
   "execution_count": 43,
   "metadata": {},
   "outputs": [
    {
     "data": {
      "text/plain": [
       "RandomForestClassifier(bootstrap=True, class_weight=None, criterion='gini',\n",
       "            max_depth=None, max_features='auto', max_leaf_nodes=None,\n",
       "            min_impurity_decrease=0.0, min_impurity_split=None,\n",
       "            min_samples_leaf=1, min_samples_split=2,\n",
       "            min_weight_fraction_leaf=0.0, n_estimators=10, n_jobs=1,\n",
       "            oob_score=False, random_state=None, verbose=0,\n",
       "            warm_start=False)"
      ]
     },
     "execution_count": 43,
     "metadata": {},
     "output_type": "execute_result"
    }
   ],
   "source": [
    "rfc.fit(X_train,y_train)"
   ]
  },
  {
   "cell_type": "code",
   "execution_count": 45,
   "metadata": {},
   "outputs": [],
   "source": [
    "y_test_pred_rf=rfc.predict(X_test)"
   ]
  },
  {
   "cell_type": "code",
   "execution_count": 54,
   "metadata": {},
   "outputs": [],
   "source": [
    "import numpy as np"
   ]
  },
  {
   "cell_type": "code",
   "execution_count": 55,
   "metadata": {},
   "outputs": [
    {
     "data": {
      "text/plain": [
       "(array([1., 2.]), array([131260,   3561]))"
      ]
     },
     "execution_count": 55,
     "metadata": {},
     "output_type": "execute_result"
    }
   ],
   "source": [
    "np.unique(y_pred1,return_counts=True)"
   ]
  },
  {
   "cell_type": "code",
   "execution_count": 56,
   "metadata": {},
   "outputs": [],
   "source": [
    "from sklearn.model_selection import GridSearchCV"
   ]
  },
  {
   "cell_type": "code",
   "execution_count": 69,
   "metadata": {},
   "outputs": [],
   "source": [
    "params=[{'max_depth':[i for i in range(4,20,5)],'n_estimators':[i for i in range(100,500,100)]},]\n",
    "\n",
    "rf = RandomForestClassifier()\n",
    "gcf=GridSearchCV(rf,cv=5,param_grid=params,error_score='precision_score')"
   ]
  },
  {
   "cell_type": "code",
   "execution_count": 70,
   "metadata": {},
   "outputs": [
    {
     "data": {
      "text/plain": [
       "GridSearchCV(cv=5, error_score='precision_score',\n",
       "       estimator=RandomForestClassifier(bootstrap=True, class_weight=None, criterion='gini',\n",
       "            max_depth=None, max_features='auto', max_leaf_nodes=None,\n",
       "            min_impurity_decrease=0.0, min_impurity_split=None,\n",
       "            min_samples_leaf=1, min_samples_split=2,\n",
       "            min_weight_fraction_leaf=0.0, n_estimators=10, n_jobs=1,\n",
       "            oob_score=False, random_state=None, verbose=0,\n",
       "            warm_start=False),\n",
       "       fit_params=None, iid=True, n_jobs=1,\n",
       "       param_grid=[{'max_depth': [4, 9, 14, 19], 'n_estimators': [100, 200, 300, 400]}],\n",
       "       pre_dispatch='2*n_jobs', refit=True, return_train_score='warn',\n",
       "       scoring=None, verbose=0)"
      ]
     },
     "execution_count": 70,
     "metadata": {},
     "output_type": "execute_result"
    }
   ],
   "source": [
    "gcf.fit(X_train,y_train)"
   ]
  },
  {
   "cell_type": "code",
   "execution_count": 71,
   "metadata": {},
   "outputs": [
    {
     "data": {
      "text/plain": [
       "RandomForestClassifier(bootstrap=True, class_weight=None, criterion='gini',\n",
       "            max_depth=19, max_features='auto', max_leaf_nodes=None,\n",
       "            min_impurity_decrease=0.0, min_impurity_split=None,\n",
       "            min_samples_leaf=1, min_samples_split=2,\n",
       "            min_weight_fraction_leaf=0.0, n_estimators=300, n_jobs=1,\n",
       "            oob_score=False, random_state=None, verbose=0,\n",
       "            warm_start=False)"
      ]
     },
     "execution_count": 71,
     "metadata": {},
     "output_type": "execute_result"
    }
   ],
   "source": [
    "gcf.best_estimator_"
   ]
  },
  {
   "cell_type": "code",
   "execution_count": 72,
   "metadata": {},
   "outputs": [],
   "source": [
    "y_pred_best=gcf.best_estimator_.predict(X_test)"
   ]
  },
  {
   "cell_type": "code",
   "execution_count": 73,
   "metadata": {},
   "outputs": [
    {
     "name": "stdout",
     "output_type": "stream",
     "text": [
      "0.6727092101608734\n"
     ]
    }
   ],
   "source": [
    "print(precision_score(y_test,y_pred_best))"
   ]
  },
  {
   "cell_type": "code",
   "execution_count": 74,
   "metadata": {},
   "outputs": [
    {
     "data": {
      "text/plain": [
       "(array([1., 2.]), array([93614, 41207]))"
      ]
     },
     "execution_count": 74,
     "metadata": {},
     "output_type": "execute_result"
    }
   ],
   "source": [
    "np.unique(y_pred_best,return_counts=True)"
   ]
  },
  {
   "cell_type": "code",
   "execution_count": 75,
   "metadata": {},
   "outputs": [],
   "source": [
    "from sklearn.metrics import recall_score"
   ]
  },
  {
   "cell_type": "code",
   "execution_count": 77,
   "metadata": {},
   "outputs": [
    {
     "name": "stdout",
     "output_type": "stream",
     "text": [
      "0.8421481966862354\n",
      "0.7479527058725719\n"
     ]
    }
   ],
   "source": [
    "print(recall_score(y_test,y_pred_best))\n",
    "print(f1_score(y_test,y_pred_best))"
   ]
  },
  {
   "cell_type": "code",
   "execution_count": 78,
   "metadata": {},
   "outputs": [
    {
     "data": {
      "text/plain": [
       "array([2.61098026e-06, 4.00685553e-04, 3.62255368e-05, ...,\n",
       "       9.51103803e-05, 2.38574415e-03, 2.52318733e-05])"
      ]
     },
     "execution_count": 78,
     "metadata": {},
     "output_type": "execute_result"
    }
   ],
   "source": [
    "gcf.best_estimator_.feature_importances_"
   ]
  },
  {
   "cell_type": "code",
   "execution_count": 79,
   "metadata": {},
   "outputs": [
    {
     "data": {
      "text/plain": [
       "6785"
      ]
     },
     "execution_count": 79,
     "metadata": {},
     "output_type": "execute_result"
    }
   ],
   "source": [
    "gcf.best_estimator_.n_features_"
   ]
  },
  {
   "cell_type": "code",
   "execution_count": 83,
   "metadata": {},
   "outputs": [
    {
     "data": {
      "text/plain": [
       "array([0.        , 0.        , 0.        , ..., 0.01437699, 0.01615113,\n",
       "       0.04332759])"
      ]
     },
     "execution_count": 83,
     "metadata": {},
     "output_type": "execute_result"
    }
   ],
   "source": [
    "np.sort(gcf.best_estimator_.feature_importances_)[100:]"
   ]
  },
  {
   "cell_type": "code",
   "execution_count": 84,
   "metadata": {},
   "outputs": [
    {
     "name": "stdout",
     "output_type": "stream",
     "text": [
      "0.6901989853830295\n"
     ]
    }
   ],
   "source": [
    "y_train_pred=gcf.best_estimator_.predict(X_train)\n",
    "print(precision_score(y_train,y_train_pred))"
   ]
  },
  {
   "cell_type": "code",
   "execution_count": 85,
   "metadata": {},
   "outputs": [],
   "source": [
    "from sklearn.linear_model import LogisticRegression"
   ]
  },
  {
   "cell_type": "code",
   "execution_count": 86,
   "metadata": {},
   "outputs": [],
   "source": [
    "lr = LogisticRegression()"
   ]
  },
  {
   "cell_type": "code",
   "execution_count": 87,
   "metadata": {},
   "outputs": [
    {
     "data": {
      "text/plain": [
       "LogisticRegression(C=1.0, class_weight=None, dual=False, fit_intercept=True,\n",
       "          intercept_scaling=1, max_iter=100, multi_class='ovr', n_jobs=1,\n",
       "          penalty='l2', random_state=None, solver='liblinear', tol=0.0001,\n",
       "          verbose=0, warm_start=False)"
      ]
     },
     "execution_count": 87,
     "metadata": {},
     "output_type": "execute_result"
    }
   ],
   "source": [
    "lr.fit(X_train,y_train)"
   ]
  },
  {
   "cell_type": "code",
   "execution_count": 88,
   "metadata": {},
   "outputs": [],
   "source": [
    "y_train_pred_lr=lr.predict(X_train)"
   ]
  },
  {
   "cell_type": "code",
   "execution_count": 89,
   "metadata": {},
   "outputs": [
    {
     "name": "stdout",
     "output_type": "stream",
     "text": [
      "0.6670106997443424\n"
     ]
    }
   ],
   "source": [
    "print(precision_score(y_train,y_train_pred_lr))"
   ]
  },
  {
   "cell_type": "code",
   "execution_count": null,
   "metadata": {},
   "outputs": [],
   "source": []
  }
 ],
 "metadata": {
  "kernelspec": {
   "display_name": "Python 3",
   "language": "python",
   "name": "python3"
  },
  "language_info": {
   "codemirror_mode": {
    "name": "ipython",
    "version": 3
   },
   "file_extension": ".py",
   "mimetype": "text/x-python",
   "name": "python",
   "nbconvert_exporter": "python",
   "pygments_lexer": "ipython3",
   "version": "3.6.4"
  }
 },
 "nbformat": 4,
 "nbformat_minor": 2
}
