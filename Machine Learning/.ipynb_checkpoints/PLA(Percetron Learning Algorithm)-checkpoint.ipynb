{
 "cells": [
  {
   "cell_type": "markdown",
   "metadata": {},
   "source": [
    "## PLA(Percetron Learning Algorithm)"
   ]
  },
  {
   "cell_type": "code",
   "execution_count": 38,
   "metadata": {},
   "outputs": [],
   "source": [
    "import sys\n",
    "import numpy as np\n",
    "import pandas as pd\n",
    "import matplotlib.pyplot as plt\n",
    "%matplotlib inline"
   ]
  },
  {
   "cell_type": "code",
   "execution_count": 2,
   "metadata": {},
   "outputs": [
    {
     "data": {
      "text/html": [
       "<div>\n",
       "<style scoped>\n",
       "    .dataframe tbody tr th:only-of-type {\n",
       "        vertical-align: middle;\n",
       "    }\n",
       "\n",
       "    .dataframe tbody tr th {\n",
       "        vertical-align: top;\n",
       "    }\n",
       "\n",
       "    .dataframe thead th {\n",
       "        text-align: right;\n",
       "    }\n",
       "</style>\n",
       "<table border=\"1\" class=\"dataframe\">\n",
       "  <thead>\n",
       "    <tr style=\"text-align: right;\">\n",
       "      <th></th>\n",
       "      <th>0</th>\n",
       "      <th>1</th>\n",
       "      <th>2</th>\n",
       "      <th>3</th>\n",
       "      <th>4</th>\n",
       "    </tr>\n",
       "  </thead>\n",
       "  <tbody>\n",
       "    <tr>\n",
       "      <th>0</th>\n",
       "      <td>0.97681</td>\n",
       "      <td>0.107230</td>\n",
       "      <td>0.64385</td>\n",
       "      <td>0.29556</td>\n",
       "      <td>1</td>\n",
       "    </tr>\n",
       "    <tr>\n",
       "      <th>1</th>\n",
       "      <td>0.67194</td>\n",
       "      <td>0.241800</td>\n",
       "      <td>0.83075</td>\n",
       "      <td>0.42741</td>\n",
       "      <td>1</td>\n",
       "    </tr>\n",
       "    <tr>\n",
       "      <th>2</th>\n",
       "      <td>0.20619</td>\n",
       "      <td>0.233210</td>\n",
       "      <td>0.81004</td>\n",
       "      <td>0.98691</td>\n",
       "      <td>1</td>\n",
       "    </tr>\n",
       "    <tr>\n",
       "      <th>3</th>\n",
       "      <td>0.51583</td>\n",
       "      <td>0.055814</td>\n",
       "      <td>0.92274</td>\n",
       "      <td>0.75797</td>\n",
       "      <td>1</td>\n",
       "    </tr>\n",
       "    <tr>\n",
       "      <th>4</th>\n",
       "      <td>0.70893</td>\n",
       "      <td>0.108360</td>\n",
       "      <td>0.33951</td>\n",
       "      <td>0.77058</td>\n",
       "      <td>1</td>\n",
       "    </tr>\n",
       "  </tbody>\n",
       "</table>\n",
       "</div>"
      ],
      "text/plain": [
       "         0         1        2        3  4\n",
       "0  0.97681  0.107230  0.64385  0.29556  1\n",
       "1  0.67194  0.241800  0.83075  0.42741  1\n",
       "2  0.20619  0.233210  0.81004  0.98691  1\n",
       "3  0.51583  0.055814  0.92274  0.75797  1\n",
       "4  0.70893  0.108360  0.33951  0.77058  1"
      ]
     },
     "execution_count": 2,
     "metadata": {},
     "output_type": "execute_result"
    }
   ],
   "source": [
    "df=pd.read_csv('data/hw1_15_train.dat.txt',header=None,sep='\\s+')\n",
    "df.head(5)"
   ]
  },
  {
   "cell_type": "code",
   "execution_count": 35,
   "metadata": {},
   "outputs": [],
   "source": [
    "def add_intercept(df):\n",
    "    df['intercept']=1\n",
    "    df1=df[pd.Index(['intercept']).append(df.columns[:-1])]\n",
    "    return df1"
   ]
  },
  {
   "cell_type": "code",
   "execution_count": 12,
   "metadata": {},
   "outputs": [],
   "source": [
    "def PLA(df,alpha=1,is_random=False,seeds=1):\n",
    "    np.random.seed(seeds)\n",
    "    w=np.zeros(5)\n",
    "    X=df.iloc[:,0:5].values\n",
    "    y=df.iloc[:,5].values\n",
    "    update=False\n",
    "    update_counts = 0\n",
    "    index_array = np.random.permutation(df.shape[0]) if is_random else range(df.shape[0])\n",
    "    while True:\n",
    "        for i in index_array:\n",
    "            sig= 1 if np.dot(w,X[i])>0 else -1\n",
    "            if sig*y[i]<0:\n",
    "                update=True\n",
    "                update_counts+=1\n",
    "                w+=alpha*y[i]*X[i]\n",
    "        if not update:\n",
    "            break\n",
    "        update=False\n",
    "    return (w,update_counts)"
   ]
  },
  {
   "cell_type": "code",
   "execution_count": 13,
   "metadata": {},
   "outputs": [
    {
     "name": "stdout",
     "output_type": "stream",
     "text": [
      "40.0125\n",
      "[-1.5         1.1219055  -0.591251    1.05361     2.00803964]\n"
     ]
    }
   ],
   "source": [
    "total_update_counts=0\n",
    "for time in range(2000):\n",
    "    w,counts=PLA(df1,alpha=.5,is_random=True,seeds=time)\n",
    "    total_update_counts+=counts\n",
    "print(total_update_counts/2000)\n",
    "print(w)"
   ]
  },
  {
   "cell_type": "code",
   "execution_count": 11,
   "metadata": {},
   "outputs": [
    {
     "name": "stdout",
     "output_type": "stream",
     "text": [
      "[-3.         3.0841436 -1.583081   2.391305   4.5287635]\n",
      "45\n"
     ]
    }
   ],
   "source": [
    "w,counts=PLA(df1)\n",
    "print(w)\n",
    "print(counts)"
   ]
  },
  {
   "cell_type": "code",
   "execution_count": 87,
   "metadata": {},
   "outputs": [],
   "source": [
    "def Pocket_PLA(X,y,alpha=1,is_random=False,seeds=1,max_update_times=50):\n",
    "    def _calc_false(vec):\n",
    "        res = 0\n",
    "        for i in range(X.shape[0]):\n",
    "            t = np.dot(vec, X[i])\n",
    "            if np.sign(y[i]) != np.sign(t):\n",
    "                res += 1\n",
    "        return res\n",
    "    np.random.seed(seeds)\n",
    "    w=np.random.rand(5)\n",
    "    previous_w=w\n",
    "    previous_error=_calc_false(w)\n",
    "    positive_update=False\n",
    "    update_counts = 0\n",
    "    \n",
    "    for i in range(max_update_times):\n",
    "        index = np.random.choice(range(X.shape[0]))\n",
    "        sig=1 if np.dot(w,X[index]) >0 else -1\n",
    "        if sig != y[index]:\n",
    "            w+=y[index]*X[index]\n",
    "            tmp_error=_calc_false(w)\n",
    "            update_counts+=1\n",
    "            if tmp_error<previous_error:\n",
    "                previous_error=tmp_error\n",
    "                previous_w=w\n",
    "                positive_update=True\n",
    "    return (previous_w,update_counts,previous_error)\n",
    "            \n",
    "#     while True:\n",
    "#         for i in index_array:\n",
    "#             if update_counts >= max_update_times:\n",
    "#                 return (w,update_counts)\n",
    "#             sig= 1 if np.dot(w,X[i])>0 else -1\n",
    "#             if sig*y[i]<0:\n",
    "#                 tmp_w = w+alpha*y[i]*X[i]\n",
    "#                 errors=_calc_false(tmp_w)\n",
    "#                 if errors<previous_error:\n",
    "#                     update=True\n",
    "#                     update_counts+=1\n",
    "#                     previous_error=errors\n",
    "#                     w=tmp_w\n",
    "#         if not update:\n",
    "#             break\n",
    "#         update=False\n",
    "#     return (w,update_counts)"
   ]
  },
  {
   "cell_type": "code",
   "execution_count": 58,
   "metadata": {},
   "outputs": [
    {
     "data": {
      "text/html": [
       "<div>\n",
       "<style scoped>\n",
       "    .dataframe tbody tr th:only-of-type {\n",
       "        vertical-align: middle;\n",
       "    }\n",
       "\n",
       "    .dataframe tbody tr th {\n",
       "        vertical-align: top;\n",
       "    }\n",
       "\n",
       "    .dataframe thead th {\n",
       "        text-align: right;\n",
       "    }\n",
       "</style>\n",
       "<table border=\"1\" class=\"dataframe\">\n",
       "  <thead>\n",
       "    <tr style=\"text-align: right;\">\n",
       "      <th></th>\n",
       "      <th>0</th>\n",
       "      <th>1</th>\n",
       "      <th>2</th>\n",
       "      <th>3</th>\n",
       "      <th>4</th>\n",
       "    </tr>\n",
       "  </thead>\n",
       "  <tbody>\n",
       "    <tr>\n",
       "      <th>0</th>\n",
       "      <td>0.94544</td>\n",
       "      <td>0.428420</td>\n",
       "      <td>0.798330</td>\n",
       "      <td>0.162440</td>\n",
       "      <td>-1</td>\n",
       "    </tr>\n",
       "    <tr>\n",
       "      <th>1</th>\n",
       "      <td>0.85365</td>\n",
       "      <td>0.084168</td>\n",
       "      <td>0.568200</td>\n",
       "      <td>0.492210</td>\n",
       "      <td>-1</td>\n",
       "    </tr>\n",
       "    <tr>\n",
       "      <th>2</th>\n",
       "      <td>0.17095</td>\n",
       "      <td>0.821270</td>\n",
       "      <td>0.984440</td>\n",
       "      <td>0.514860</td>\n",
       "      <td>-1</td>\n",
       "    </tr>\n",
       "    <tr>\n",
       "      <th>3</th>\n",
       "      <td>0.51412</td>\n",
       "      <td>0.921240</td>\n",
       "      <td>0.423230</td>\n",
       "      <td>0.097934</td>\n",
       "      <td>-1</td>\n",
       "    </tr>\n",
       "    <tr>\n",
       "      <th>4</th>\n",
       "      <td>0.28147</td>\n",
       "      <td>0.714340</td>\n",
       "      <td>0.075309</td>\n",
       "      <td>0.911600</td>\n",
       "      <td>1</td>\n",
       "    </tr>\n",
       "  </tbody>\n",
       "</table>\n",
       "</div>"
      ],
      "text/plain": [
       "         0         1         2         3  4\n",
       "0  0.94544  0.428420  0.798330  0.162440 -1\n",
       "1  0.85365  0.084168  0.568200  0.492210 -1\n",
       "2  0.17095  0.821270  0.984440  0.514860 -1\n",
       "3  0.51412  0.921240  0.423230  0.097934 -1\n",
       "4  0.28147  0.714340  0.075309  0.911600  1"
      ]
     },
     "execution_count": 58,
     "metadata": {},
     "output_type": "execute_result"
    }
   ],
   "source": [
    "pocket_df=pd.read_csv('data/hw1_18_train.dat.txt',header=None,sep='\\s+')\n",
    "pocket_df.head(5)"
   ]
  },
  {
   "cell_type": "code",
   "execution_count": 61,
   "metadata": {},
   "outputs": [],
   "source": [
    "p_df = add_intercept(pocket_df)\n",
    "p_df.head(5)\n",
    "X=p_df.iloc[:,0:5].values\n",
    "y=p_df.iloc[:,5].values"
   ]
  },
  {
   "cell_type": "code",
   "execution_count": 88,
   "metadata": {},
   "outputs": [
    {
     "name": "stdout",
     "output_type": "stream",
     "text": [
      "[ 0.417022   -0.01029551 -1.65619863 -0.14730843  0.47062589]\n",
      "18\n",
      "130\n"
     ]
    }
   ],
   "source": [
    "w,counts,errors=Pocket_PLA(X,y)\n",
    "print(w)\n",
    "print(counts)\n",
    "print(errors)"
   ]
  },
  {
   "cell_type": "code",
   "execution_count": 96,
   "metadata": {},
   "outputs": [],
   "source": [
    "pocket_test_df=pd.read_csv('data/hw1_18_test.dat.txt',header=None,sep='\\s+')\n",
    "p_test_df = add_intercept(pocket_df)\n",
    "X_test=df.iloc[:,0:5].values\n",
    "y_test=df.iloc[:,5].values"
   ]
  },
  {
   "cell_type": "code",
   "execution_count": 97,
   "metadata": {},
   "outputs": [],
   "source": [
    "def classify(X,y,w):\n",
    "    errors=0\n",
    "    for i in range(X.shape[0]):\n",
    "            sig= 1 if np.dot(w,X[i])>0 else -1\n",
    "            if sig*y[i]<0:\n",
    "                errors+=1\n",
    "    return (errors,df.shape[0])"
   ]
  },
  {
   "cell_type": "code",
   "execution_count": 93,
   "metadata": {},
   "outputs": [
    {
     "name": "stdout",
     "output_type": "stream",
     "text": [
      "157\n",
      "500\n",
      "0.314\n"
     ]
    }
   ],
   "source": [
    "total_counts=0\n",
    "total_errors=0\n",
    "times=2000\n",
    "for time in range(times):\n",
    "    w,counts,errors=Pocket_PLA(X,y,is_random=True,seeds=time,max_update_times=50)\n",
    "    errors,counts=classify(X_test,y_test,w)\n",
    "    total_counts+=counts\n",
    "    total_errors+=errors\n",
    "print(total_update_counts/times)\n",
    "print(w)\n",
    "print(total_errors/total_counts)\n",
    "\n",
    "\n",
    "errors,total_number=Classify(p_test_df,w)\n",
    "print(errors)\n",
    "print(total_number)\n",
    "print(errors/total_number)"
   ]
  },
  {
   "cell_type": "code",
   "execution_count": 55,
   "metadata": {},
   "outputs": [
    {
     "name": "stdout",
     "output_type": "stream",
     "text": [
      "77\n",
      "500\n",
      "0.154\n"
     ]
    }
   ],
   "source": []
  },
  {
   "cell_type": "code",
   "execution_count": null,
   "metadata": {},
   "outputs": [],
   "source": []
  }
 ],
 "metadata": {
  "kernelspec": {
   "display_name": "Python 3",
   "language": "python",
   "name": "python3"
  },
  "language_info": {
   "codemirror_mode": {
    "name": "ipython",
    "version": 3
   },
   "file_extension": ".py",
   "mimetype": "text/x-python",
   "name": "python",
   "nbconvert_exporter": "python",
   "pygments_lexer": "ipython3",
   "version": "3.6.4"
  }
 },
 "nbformat": 4,
 "nbformat_minor": 2
}
