{
 "cells": [
  {
   "cell_type": "markdown",
   "metadata": {},
   "source": [
    "# Using LightGBM classifier on credit card user data to predict default rate\n",
    "\n",
    "This notebook utilizes the LightGBM package by Microsoft with a clean dataset on credit card defaults (source: https://archive.ics.uci.edu/ml/datasets/default+of+credit+card+clients). Since we are trying to predict if a person is defaulting or not, we will want to use binary classification. This notebook also explores early stopping, a form of regularization used to avoid overfitting when training a learner with an iterative method, such as gradient descent. Such methods update the learner so as to make it better fit the training data with each iteration."
   ]
  },
  {
   "cell_type": "code",
   "execution_count": 186,
   "metadata": {},
   "outputs": [],
   "source": [
    "import pandas as pd\n",
    "import lightgbm as lgb\n",
    "from sklearn.cross_validation import train_test_split\n",
    "from sklearn.metrics import auc, accuracy_score, roc_auc_score\n",
    "from sklearn.model_selection import GridSearchCV\n",
    "%matplotlib inline\n",
    "import matplotlib.pyplot as plt"
   ]
  },
  {
   "cell_type": "code",
   "execution_count": 187,
   "metadata": {
    "collapsed": true
   },
   "outputs": [],
   "source": [
    "data = pd.read_excel('ccdata.xls', header = 1)"
   ]
  },
  {
   "cell_type": "code",
   "execution_count": 188,
   "metadata": {
    "scrolled": true
   },
   "outputs": [
    {
     "data": {
      "text/html": [
       "<div>\n",
       "<style scoped>\n",
       "    .dataframe tbody tr th:only-of-type {\n",
       "        vertical-align: middle;\n",
       "    }\n",
       "\n",
       "    .dataframe tbody tr th {\n",
       "        vertical-align: top;\n",
       "    }\n",
       "\n",
       "    .dataframe thead th {\n",
       "        text-align: right;\n",
       "    }\n",
       "</style>\n",
       "<table border=\"1\" class=\"dataframe\">\n",
       "  <thead>\n",
       "    <tr style=\"text-align: right;\">\n",
       "      <th></th>\n",
       "      <th>ID</th>\n",
       "      <th>LIMIT_BAL</th>\n",
       "      <th>SEX</th>\n",
       "      <th>EDUCATION</th>\n",
       "      <th>MARRIAGE</th>\n",
       "      <th>AGE</th>\n",
       "      <th>PAY_0</th>\n",
       "      <th>PAY_2</th>\n",
       "      <th>PAY_3</th>\n",
       "      <th>PAY_4</th>\n",
       "      <th>...</th>\n",
       "      <th>BILL_AMT4</th>\n",
       "      <th>BILL_AMT5</th>\n",
       "      <th>BILL_AMT6</th>\n",
       "      <th>PAY_AMT1</th>\n",
       "      <th>PAY_AMT2</th>\n",
       "      <th>PAY_AMT3</th>\n",
       "      <th>PAY_AMT4</th>\n",
       "      <th>PAY_AMT5</th>\n",
       "      <th>PAY_AMT6</th>\n",
       "      <th>default payment next month</th>\n",
       "    </tr>\n",
       "  </thead>\n",
       "  <tbody>\n",
       "    <tr>\n",
       "      <th>0</th>\n",
       "      <td>1</td>\n",
       "      <td>20000</td>\n",
       "      <td>2</td>\n",
       "      <td>2</td>\n",
       "      <td>1</td>\n",
       "      <td>24</td>\n",
       "      <td>2</td>\n",
       "      <td>2</td>\n",
       "      <td>-1</td>\n",
       "      <td>-1</td>\n",
       "      <td>...</td>\n",
       "      <td>0</td>\n",
       "      <td>0</td>\n",
       "      <td>0</td>\n",
       "      <td>0</td>\n",
       "      <td>689</td>\n",
       "      <td>0</td>\n",
       "      <td>0</td>\n",
       "      <td>0</td>\n",
       "      <td>0</td>\n",
       "      <td>1</td>\n",
       "    </tr>\n",
       "    <tr>\n",
       "      <th>1</th>\n",
       "      <td>2</td>\n",
       "      <td>120000</td>\n",
       "      <td>2</td>\n",
       "      <td>2</td>\n",
       "      <td>2</td>\n",
       "      <td>26</td>\n",
       "      <td>-1</td>\n",
       "      <td>2</td>\n",
       "      <td>0</td>\n",
       "      <td>0</td>\n",
       "      <td>...</td>\n",
       "      <td>3272</td>\n",
       "      <td>3455</td>\n",
       "      <td>3261</td>\n",
       "      <td>0</td>\n",
       "      <td>1000</td>\n",
       "      <td>1000</td>\n",
       "      <td>1000</td>\n",
       "      <td>0</td>\n",
       "      <td>2000</td>\n",
       "      <td>1</td>\n",
       "    </tr>\n",
       "    <tr>\n",
       "      <th>2</th>\n",
       "      <td>3</td>\n",
       "      <td>90000</td>\n",
       "      <td>2</td>\n",
       "      <td>2</td>\n",
       "      <td>2</td>\n",
       "      <td>34</td>\n",
       "      <td>0</td>\n",
       "      <td>0</td>\n",
       "      <td>0</td>\n",
       "      <td>0</td>\n",
       "      <td>...</td>\n",
       "      <td>14331</td>\n",
       "      <td>14948</td>\n",
       "      <td>15549</td>\n",
       "      <td>1518</td>\n",
       "      <td>1500</td>\n",
       "      <td>1000</td>\n",
       "      <td>1000</td>\n",
       "      <td>1000</td>\n",
       "      <td>5000</td>\n",
       "      <td>0</td>\n",
       "    </tr>\n",
       "    <tr>\n",
       "      <th>3</th>\n",
       "      <td>4</td>\n",
       "      <td>50000</td>\n",
       "      <td>2</td>\n",
       "      <td>2</td>\n",
       "      <td>1</td>\n",
       "      <td>37</td>\n",
       "      <td>0</td>\n",
       "      <td>0</td>\n",
       "      <td>0</td>\n",
       "      <td>0</td>\n",
       "      <td>...</td>\n",
       "      <td>28314</td>\n",
       "      <td>28959</td>\n",
       "      <td>29547</td>\n",
       "      <td>2000</td>\n",
       "      <td>2019</td>\n",
       "      <td>1200</td>\n",
       "      <td>1100</td>\n",
       "      <td>1069</td>\n",
       "      <td>1000</td>\n",
       "      <td>0</td>\n",
       "    </tr>\n",
       "    <tr>\n",
       "      <th>4</th>\n",
       "      <td>5</td>\n",
       "      <td>50000</td>\n",
       "      <td>1</td>\n",
       "      <td>2</td>\n",
       "      <td>1</td>\n",
       "      <td>57</td>\n",
       "      <td>-1</td>\n",
       "      <td>0</td>\n",
       "      <td>-1</td>\n",
       "      <td>0</td>\n",
       "      <td>...</td>\n",
       "      <td>20940</td>\n",
       "      <td>19146</td>\n",
       "      <td>19131</td>\n",
       "      <td>2000</td>\n",
       "      <td>36681</td>\n",
       "      <td>10000</td>\n",
       "      <td>9000</td>\n",
       "      <td>689</td>\n",
       "      <td>679</td>\n",
       "      <td>0</td>\n",
       "    </tr>\n",
       "  </tbody>\n",
       "</table>\n",
       "<p>5 rows × 25 columns</p>\n",
       "</div>"
      ],
      "text/plain": [
       "   ID  LIMIT_BAL  SEX  EDUCATION  MARRIAGE  AGE  PAY_0  PAY_2  PAY_3  PAY_4  \\\n",
       "0   1      20000    2          2         1   24      2      2     -1     -1   \n",
       "1   2     120000    2          2         2   26     -1      2      0      0   \n",
       "2   3      90000    2          2         2   34      0      0      0      0   \n",
       "3   4      50000    2          2         1   37      0      0      0      0   \n",
       "4   5      50000    1          2         1   57     -1      0     -1      0   \n",
       "\n",
       "              ...              BILL_AMT4  BILL_AMT5  BILL_AMT6  PAY_AMT1  \\\n",
       "0             ...                      0          0          0         0   \n",
       "1             ...                   3272       3455       3261         0   \n",
       "2             ...                  14331      14948      15549      1518   \n",
       "3             ...                  28314      28959      29547      2000   \n",
       "4             ...                  20940      19146      19131      2000   \n",
       "\n",
       "   PAY_AMT2  PAY_AMT3  PAY_AMT4  PAY_AMT5  PAY_AMT6  \\\n",
       "0       689         0         0         0         0   \n",
       "1      1000      1000      1000         0      2000   \n",
       "2      1500      1000      1000      1000      5000   \n",
       "3      2019      1200      1100      1069      1000   \n",
       "4     36681     10000      9000       689       679   \n",
       "\n",
       "   default payment next month  \n",
       "0                           1  \n",
       "1                           1  \n",
       "2                           0  \n",
       "3                           0  \n",
       "4                           0  \n",
       "\n",
       "[5 rows x 25 columns]"
      ]
     },
     "execution_count": 188,
     "metadata": {},
     "output_type": "execute_result"
    }
   ],
   "source": [
    "data.head()"
   ]
  },
  {
   "cell_type": "markdown",
   "metadata": {},
   "source": [
    "This research employed a binary variable, default payment (Yes = 1, No = 0), as the response variable. This study reviewed the literature and used the following 23 variables as explanatory variables:\n",
    "- X1: Amount of the given credit (NT dollar): it includes both the individual consumer credit and his/her family (supplementary) credit.\n",
    "- X2: Gender (1 = male; 2 = female).\n",
    "- X3: Education (1 = graduate school; 2 = university; 3 = high school; 4 = others).\n",
    "- X4: Marital status (1 = married; 2 = single; 3 = others).\n",
    "- X5: Age (year).\n",
    "- X6 - X11: History of past payment. We tracked the past monthly payment records (from April to September, 2005) as follows: X6 = the repayment status in September, 2005; X7 = the repayment status in August, 2005; . . .;X11 = the repayment status in April, 2005. The measurement scale for the repayment status is: -1 = pay duly; 1 = payment delay for one month; 2 = payment delay for two months; . . .; 8 = payment delay for eight months; 9 = payment delay for nine months and above.\n",
    "- X12-X17: Amount of bill statement (NT dollar). X12 = amount of bill statement in September, 2005; X13 = amount of bill statement in August, 2005; . . .; X17 = amount of bill statement in April, 2005.\n",
    "- X18-X23: Amount of previous payment (NT dollar). X18 = amount paid in September, 2005; X19 = amount paid in August, 2005; . . .;X23 = amount paid in April, 2005.\n"
   ]
  },
  {
   "cell_type": "code",
   "execution_count": 189,
   "metadata": {
    "collapsed": true
   },
   "outputs": [],
   "source": [
    "data.drop('ID', axis = 1, inplace = True)"
   ]
  },
  {
   "cell_type": "code",
   "execution_count": 190,
   "metadata": {},
   "outputs": [
    {
     "data": {
      "text/plain": [
       "default payment next month    0\n",
       "PAY_AMT6                      0\n",
       "SEX                           0\n",
       "EDUCATION                     0\n",
       "MARRIAGE                      0\n",
       "AGE                           0\n",
       "PAY_0                         0\n",
       "PAY_2                         0\n",
       "PAY_3                         0\n",
       "PAY_4                         0\n",
       "PAY_5                         0\n",
       "PAY_6                         0\n",
       "BILL_AMT1                     0\n",
       "BILL_AMT2                     0\n",
       "BILL_AMT3                     0\n",
       "BILL_AMT4                     0\n",
       "BILL_AMT5                     0\n",
       "BILL_AMT6                     0\n",
       "PAY_AMT1                      0\n",
       "PAY_AMT2                      0\n",
       "PAY_AMT3                      0\n",
       "PAY_AMT4                      0\n",
       "PAY_AMT5                      0\n",
       "LIMIT_BAL                     0\n",
       "dtype: int64"
      ]
     },
     "execution_count": 190,
     "metadata": {},
     "output_type": "execute_result"
    }
   ],
   "source": [
    "# Check for null values. \n",
    "data.isnull().sum().sort_values(ascending=False)"
   ]
  },
  {
   "cell_type": "markdown",
   "metadata": {},
   "source": [
    "Thank god there are no missing values! If there were, we would have to either drop the feature if \n",
    "there are more than 60% of the values are missing, or impute them. "
   ]
  },
  {
   "cell_type": "code",
   "execution_count": 191,
   "metadata": {},
   "outputs": [
    {
     "data": {
      "text/plain": [
       "(25500, 23)"
      ]
     },
     "execution_count": 191,
     "metadata": {},
     "output_type": "execute_result"
    }
   ],
   "source": [
    "# Below, we separate our target variable from our dataset. \n",
    "X = data.drop(['default payment next month'], axis=1)\n",
    "y = data['default payment next month']\n",
    "\n",
    "\n",
    "# Let's then put 85% of our dataset into a training set and 15% of it into a test set. \n",
    "# We can use random_state because it is not a time series dataset that we are using.\n",
    "X_train, X_test, y_train, y_test = train_test_split(X, y, test_size=0.15, random_state=20)\n",
    "X_train.shape\n"
   ]
  },
  {
   "cell_type": "markdown",
   "metadata": {},
   "source": [
    "<h2>LightGBM classifier hyperparameter optimization via scikit-learn's GridSearchCV</h2>"
   ]
  },
  {
   "cell_type": "code",
   "execution_count": 192,
   "metadata": {
    "scrolled": true
   },
   "outputs": [
    {
     "name": "stdout",
     "output_type": "stream",
     "text": [
      "[1]\tvalid_0's binary_logloss: 0.650207\tvalid_0's auc: 0.767206\n",
      "Training until validation scores don't improve for 5 rounds.\n",
      "[2]\tvalid_0's binary_logloss: 0.615119\tvalid_0's auc: 0.774063\n",
      "[3]\tvalid_0's binary_logloss: 0.586092\tvalid_0's auc: 0.777479\n",
      "[4]\tvalid_0's binary_logloss: 0.562124\tvalid_0's auc: 0.77645\n",
      "[5]\tvalid_0's binary_logloss: 0.541655\tvalid_0's auc: 0.779865\n",
      "[6]\tvalid_0's binary_logloss: 0.524583\tvalid_0's auc: 0.780002\n",
      "[7]\tvalid_0's binary_logloss: 0.509788\tvalid_0's auc: 0.782511\n",
      "[8]\tvalid_0's binary_logloss: 0.497611\tvalid_0's auc: 0.783665\n",
      "[9]\tvalid_0's binary_logloss: 0.487372\tvalid_0's auc: 0.783763\n",
      "[10]\tvalid_0's binary_logloss: 0.478427\tvalid_0's auc: 0.784614\n",
      "[11]\tvalid_0's binary_logloss: 0.470891\tvalid_0's auc: 0.785279\n",
      "[12]\tvalid_0's binary_logloss: 0.464357\tvalid_0's auc: 0.785986\n",
      "[13]\tvalid_0's binary_logloss: 0.458898\tvalid_0's auc: 0.786532\n",
      "[14]\tvalid_0's binary_logloss: 0.454407\tvalid_0's auc: 0.786612\n",
      "[15]\tvalid_0's binary_logloss: 0.450447\tvalid_0's auc: 0.786576\n",
      "[16]\tvalid_0's binary_logloss: 0.44697\tvalid_0's auc: 0.786951\n",
      "[17]\tvalid_0's binary_logloss: 0.444024\tvalid_0's auc: 0.786972\n",
      "[18]\tvalid_0's binary_logloss: 0.441707\tvalid_0's auc: 0.786486\n",
      "[19]\tvalid_0's binary_logloss: 0.439098\tvalid_0's auc: 0.787682\n",
      "[20]\tvalid_0's binary_logloss: 0.437535\tvalid_0's auc: 0.787358\n",
      "[1]\tvalid_0's binary_logloss: 0.649266\tvalid_0's auc: 0.769764\n",
      "Training until validation scores don't improve for 5 rounds.\n",
      "[2]\tvalid_0's binary_logloss: 0.613877\tvalid_0's auc: 0.770921\n",
      "[3]\tvalid_0's binary_logloss: 0.584421\tvalid_0's auc: 0.778833\n",
      "[4]\tvalid_0's binary_logloss: 0.56\tvalid_0's auc: 0.781853\n",
      "[5]\tvalid_0's binary_logloss: 0.539562\tvalid_0's auc: 0.781552\n",
      "[6]\tvalid_0's binary_logloss: 0.5223\tvalid_0's auc: 0.783858\n",
      "[7]\tvalid_0's binary_logloss: 0.507772\tvalid_0's auc: 0.784464\n",
      "[8]\tvalid_0's binary_logloss: 0.495401\tvalid_0's auc: 0.785847\n",
      "[9]\tvalid_0's binary_logloss: 0.485026\tvalid_0's auc: 0.787005\n",
      "[10]\tvalid_0's binary_logloss: 0.47614\tvalid_0's auc: 0.787186\n",
      "[11]\tvalid_0's binary_logloss: 0.468611\tvalid_0's auc: 0.787638\n",
      "[12]\tvalid_0's binary_logloss: 0.462336\tvalid_0's auc: 0.787686\n",
      "[13]\tvalid_0's binary_logloss: 0.45673\tvalid_0's auc: 0.78737\n",
      "[14]\tvalid_0's binary_logloss: 0.452424\tvalid_0's auc: 0.786931\n",
      "[15]\tvalid_0's binary_logloss: 0.448699\tvalid_0's auc: 0.786195\n"
     ]
    },
    {
     "name": "stderr",
     "output_type": "stream",
     "text": [
      "/anaconda3/lib/python3.6/site-packages/sklearn/preprocessing/label.py:151: DeprecationWarning: The truth value of an empty array is ambiguous. Returning False, but in future this will result in an error. Use `array.size > 0` to check that an array is not empty.\n",
      "  if diff:\n",
      "/anaconda3/lib/python3.6/site-packages/sklearn/preprocessing/label.py:151: DeprecationWarning: The truth value of an empty array is ambiguous. Returning False, but in future this will result in an error. Use `array.size > 0` to check that an array is not empty.\n",
      "  if diff:\n",
      "/anaconda3/lib/python3.6/site-packages/sklearn/preprocessing/label.py:151: DeprecationWarning: The truth value of an empty array is ambiguous. Returning False, but in future this will result in an error. Use `array.size > 0` to check that an array is not empty.\n",
      "  if diff:\n",
      "/anaconda3/lib/python3.6/site-packages/sklearn/preprocessing/label.py:151: DeprecationWarning: The truth value of an empty array is ambiguous. Returning False, but in future this will result in an error. Use `array.size > 0` to check that an array is not empty.\n",
      "  if diff:\n"
     ]
    },
    {
     "name": "stdout",
     "output_type": "stream",
     "text": [
      "[16]\tvalid_0's binary_logloss: 0.44569\tvalid_0's auc: 0.785635\n",
      "[17]\tvalid_0's binary_logloss: 0.44275\tvalid_0's auc: 0.785649\n",
      "Early stopping, best iteration is:\n",
      "[12]\tvalid_0's binary_logloss: 0.462336\tvalid_0's auc: 0.787686\n",
      "[1]\tvalid_0's binary_logloss: 0.64967\tvalid_0's auc: 0.766616\n",
      "Training until validation scores don't improve for 5 rounds.\n",
      "[2]\tvalid_0's binary_logloss: 0.614175\tvalid_0's auc: 0.77112\n",
      "[3]\tvalid_0's binary_logloss: 0.584761\tvalid_0's auc: 0.774763\n",
      "[4]\tvalid_0's binary_logloss: 0.560398\tvalid_0's auc: 0.776656\n",
      "[5]\tvalid_0's binary_logloss: 0.54019\tvalid_0's auc: 0.778347\n",
      "[6]\tvalid_0's binary_logloss: 0.52289\tvalid_0's auc: 0.779278\n",
      "[7]\tvalid_0's binary_logloss: 0.508924\tvalid_0's auc: 0.779956\n",
      "[8]\tvalid_0's binary_logloss: 0.496837\tvalid_0's auc: 0.779875\n",
      "[9]\tvalid_0's binary_logloss: 0.486481\tvalid_0's auc: 0.779684\n",
      "[10]\tvalid_0's binary_logloss: 0.477617\tvalid_0's auc: 0.780896\n",
      "[11]\tvalid_0's binary_logloss: 0.470387\tvalid_0's auc: 0.781103\n",
      "[12]\tvalid_0's binary_logloss: 0.463881\tvalid_0's auc: 0.782157\n",
      "[13]\tvalid_0's binary_logloss: 0.458482\tvalid_0's auc: 0.78233\n",
      "[14]\tvalid_0's binary_logloss: 0.453784\tvalid_0's auc: 0.783221\n",
      "[15]\tvalid_0's binary_logloss: 0.450137\tvalid_0's auc: 0.782492\n",
      "[16]\tvalid_0's binary_logloss: 0.446632\tvalid_0's auc: 0.782647\n",
      "[17]\tvalid_0's binary_logloss: 0.443552\tvalid_0's auc: 0.783682\n",
      "[18]\tvalid_0's binary_logloss: 0.441098\tvalid_0's auc: 0.783869\n",
      "[19]\tvalid_0's binary_logloss: 0.438821\tvalid_0's auc: 0.784636\n",
      "[20]\tvalid_0's binary_logloss: 0.437055\tvalid_0's auc: 0.784347\n"
     ]
    },
    {
     "name": "stderr",
     "output_type": "stream",
     "text": [
      "/anaconda3/lib/python3.6/site-packages/sklearn/preprocessing/label.py:151: DeprecationWarning: The truth value of an empty array is ambiguous. Returning False, but in future this will result in an error. Use `array.size > 0` to check that an array is not empty.\n",
      "  if diff:\n",
      "/anaconda3/lib/python3.6/site-packages/sklearn/preprocessing/label.py:151: DeprecationWarning: The truth value of an empty array is ambiguous. Returning False, but in future this will result in an error. Use `array.size > 0` to check that an array is not empty.\n",
      "  if diff:\n"
     ]
    },
    {
     "name": "stdout",
     "output_type": "stream",
     "text": [
      "[1]\tvalid_0's binary_logloss: 0.650207\tvalid_0's auc: 0.767206\n",
      "Training until validation scores don't improve for 5 rounds.\n",
      "[2]\tvalid_0's binary_logloss: 0.615119\tvalid_0's auc: 0.774063\n",
      "[3]\tvalid_0's binary_logloss: 0.586092\tvalid_0's auc: 0.777479\n",
      "[4]\tvalid_0's binary_logloss: 0.562124\tvalid_0's auc: 0.77645\n",
      "[5]\tvalid_0's binary_logloss: 0.541655\tvalid_0's auc: 0.779865\n",
      "[6]\tvalid_0's binary_logloss: 0.524583\tvalid_0's auc: 0.780002\n",
      "[7]\tvalid_0's binary_logloss: 0.509788\tvalid_0's auc: 0.782511\n",
      "[8]\tvalid_0's binary_logloss: 0.497611\tvalid_0's auc: 0.783665\n",
      "[9]\tvalid_0's binary_logloss: 0.487372\tvalid_0's auc: 0.783763\n",
      "[10]\tvalid_0's binary_logloss: 0.478427\tvalid_0's auc: 0.784614\n",
      "[11]\tvalid_0's binary_logloss: 0.470891\tvalid_0's auc: 0.785279\n",
      "[12]\tvalid_0's binary_logloss: 0.464357\tvalid_0's auc: 0.785986\n",
      "[13]\tvalid_0's binary_logloss: 0.458898\tvalid_0's auc: 0.786532\n",
      "[14]\tvalid_0's binary_logloss: 0.454407\tvalid_0's auc: 0.786612\n",
      "[15]\tvalid_0's binary_logloss: 0.450447\tvalid_0's auc: 0.786576\n",
      "[16]\tvalid_0's binary_logloss: 0.44697\tvalid_0's auc: 0.786951\n",
      "[17]\tvalid_0's binary_logloss: 0.444024\tvalid_0's auc: 0.786972\n",
      "[18]\tvalid_0's binary_logloss: 0.441707\tvalid_0's auc: 0.786486\n",
      "[19]\tvalid_0's binary_logloss: 0.439098\tvalid_0's auc: 0.787682\n",
      "[20]\tvalid_0's binary_logloss: 0.437535\tvalid_0's auc: 0.787358\n",
      "[21]\tvalid_0's binary_logloss: 0.435844\tvalid_0's auc: 0.787359\n",
      "[22]\tvalid_0's binary_logloss: 0.434216\tvalid_0's auc: 0.788089\n"
     ]
    },
    {
     "name": "stderr",
     "output_type": "stream",
     "text": [
      "/anaconda3/lib/python3.6/site-packages/sklearn/preprocessing/label.py:151: DeprecationWarning: The truth value of an empty array is ambiguous. Returning False, but in future this will result in an error. Use `array.size > 0` to check that an array is not empty.\n",
      "  if diff:\n",
      "/anaconda3/lib/python3.6/site-packages/sklearn/preprocessing/label.py:151: DeprecationWarning: The truth value of an empty array is ambiguous. Returning False, but in future this will result in an error. Use `array.size > 0` to check that an array is not empty.\n",
      "  if diff:\n"
     ]
    },
    {
     "name": "stdout",
     "output_type": "stream",
     "text": [
      "[1]\tvalid_0's binary_logloss: 0.649266\tvalid_0's auc: 0.769764\n",
      "Training until validation scores don't improve for 5 rounds.\n",
      "[2]\tvalid_0's binary_logloss: 0.613877\tvalid_0's auc: 0.770921\n",
      "[3]\tvalid_0's binary_logloss: 0.584421\tvalid_0's auc: 0.778833\n",
      "[4]\tvalid_0's binary_logloss: 0.56\tvalid_0's auc: 0.781853\n",
      "[5]\tvalid_0's binary_logloss: 0.539562\tvalid_0's auc: 0.781552\n",
      "[6]\tvalid_0's binary_logloss: 0.5223\tvalid_0's auc: 0.783858\n",
      "[7]\tvalid_0's binary_logloss: 0.507772\tvalid_0's auc: 0.784464\n",
      "[8]\tvalid_0's binary_logloss: 0.495401\tvalid_0's auc: 0.785847\n",
      "[9]\tvalid_0's binary_logloss: 0.485026\tvalid_0's auc: 0.787005\n",
      "[10]\tvalid_0's binary_logloss: 0.47614\tvalid_0's auc: 0.787186\n",
      "[11]\tvalid_0's binary_logloss: 0.468611\tvalid_0's auc: 0.787638\n",
      "[12]\tvalid_0's binary_logloss: 0.462336\tvalid_0's auc: 0.787686\n",
      "[13]\tvalid_0's binary_logloss: 0.45673\tvalid_0's auc: 0.78737\n",
      "[14]\tvalid_0's binary_logloss: 0.452424\tvalid_0's auc: 0.786931\n",
      "[15]\tvalid_0's binary_logloss: 0.448699\tvalid_0's auc: 0.786195\n",
      "[16]\tvalid_0's binary_logloss: 0.44569\tvalid_0's auc: 0.785635\n",
      "[17]\tvalid_0's binary_logloss: 0.44275\tvalid_0's auc: 0.785649\n",
      "Early stopping, best iteration is:\n",
      "[12]\tvalid_0's binary_logloss: 0.462336\tvalid_0's auc: 0.787686\n",
      "[1]\tvalid_0's binary_logloss: 0.64967\tvalid_0's auc: 0.766616\n",
      "Training until validation scores don't improve for 5 rounds.\n",
      "[2]\tvalid_0's binary_logloss: 0.614175\tvalid_0's auc: 0.77112\n",
      "[3]\tvalid_0's binary_logloss: 0.584761\tvalid_0's auc: 0.774763\n",
      "[4]\tvalid_0's binary_logloss: 0.560398\tvalid_0's auc: 0.776656\n",
      "[5]\tvalid_0's binary_logloss: 0.54019\tvalid_0's auc: 0.778347\n"
     ]
    },
    {
     "name": "stderr",
     "output_type": "stream",
     "text": [
      "/anaconda3/lib/python3.6/site-packages/sklearn/preprocessing/label.py:151: DeprecationWarning: The truth value of an empty array is ambiguous. Returning False, but in future this will result in an error. Use `array.size > 0` to check that an array is not empty.\n",
      "  if diff:\n",
      "/anaconda3/lib/python3.6/site-packages/sklearn/preprocessing/label.py:151: DeprecationWarning: The truth value of an empty array is ambiguous. Returning False, but in future this will result in an error. Use `array.size > 0` to check that an array is not empty.\n",
      "  if diff:\n"
     ]
    },
    {
     "name": "stdout",
     "output_type": "stream",
     "text": [
      "[6]\tvalid_0's binary_logloss: 0.52289\tvalid_0's auc: 0.779278\n",
      "[7]\tvalid_0's binary_logloss: 0.508924\tvalid_0's auc: 0.779956\n",
      "[8]\tvalid_0's binary_logloss: 0.496837\tvalid_0's auc: 0.779875\n",
      "[9]\tvalid_0's binary_logloss: 0.486481\tvalid_0's auc: 0.779684\n",
      "[10]\tvalid_0's binary_logloss: 0.477617\tvalid_0's auc: 0.780896\n",
      "[11]\tvalid_0's binary_logloss: 0.470387\tvalid_0's auc: 0.781103\n",
      "[12]\tvalid_0's binary_logloss: 0.463881\tvalid_0's auc: 0.782157\n",
      "[13]\tvalid_0's binary_logloss: 0.458482\tvalid_0's auc: 0.78233\n",
      "[14]\tvalid_0's binary_logloss: 0.453784\tvalid_0's auc: 0.783221\n",
      "[15]\tvalid_0's binary_logloss: 0.450137\tvalid_0's auc: 0.782492\n",
      "[16]\tvalid_0's binary_logloss: 0.446632\tvalid_0's auc: 0.782647\n",
      "[17]\tvalid_0's binary_logloss: 0.443552\tvalid_0's auc: 0.783682\n",
      "[18]\tvalid_0's binary_logloss: 0.441098\tvalid_0's auc: 0.783869\n",
      "[19]\tvalid_0's binary_logloss: 0.438821\tvalid_0's auc: 0.784636\n",
      "[20]\tvalid_0's binary_logloss: 0.437055\tvalid_0's auc: 0.784347\n",
      "[21]\tvalid_0's binary_logloss: 0.435459\tvalid_0's auc: 0.784697\n",
      "[22]\tvalid_0's binary_logloss: 0.434047\tvalid_0's auc: 0.784996\n"
     ]
    },
    {
     "name": "stderr",
     "output_type": "stream",
     "text": [
      "/anaconda3/lib/python3.6/site-packages/sklearn/preprocessing/label.py:151: DeprecationWarning: The truth value of an empty array is ambiguous. Returning False, but in future this will result in an error. Use `array.size > 0` to check that an array is not empty.\n",
      "  if diff:\n",
      "/anaconda3/lib/python3.6/site-packages/sklearn/preprocessing/label.py:151: DeprecationWarning: The truth value of an empty array is ambiguous. Returning False, but in future this will result in an error. Use `array.size > 0` to check that an array is not empty.\n",
      "  if diff:\n"
     ]
    },
    {
     "name": "stdout",
     "output_type": "stream",
     "text": [
      "[1]\tvalid_0's binary_logloss: 0.650207\tvalid_0's auc: 0.767206\n",
      "Training until validation scores don't improve for 5 rounds.\n",
      "[2]\tvalid_0's binary_logloss: 0.615119\tvalid_0's auc: 0.774063\n",
      "[3]\tvalid_0's binary_logloss: 0.586092\tvalid_0's auc: 0.777479\n",
      "[4]\tvalid_0's binary_logloss: 0.562124\tvalid_0's auc: 0.77645\n",
      "[5]\tvalid_0's binary_logloss: 0.541655\tvalid_0's auc: 0.779865\n",
      "[6]\tvalid_0's binary_logloss: 0.524583\tvalid_0's auc: 0.780002\n",
      "[7]\tvalid_0's binary_logloss: 0.509788\tvalid_0's auc: 0.782511\n",
      "[8]\tvalid_0's binary_logloss: 0.497611\tvalid_0's auc: 0.783665\n",
      "[9]\tvalid_0's binary_logloss: 0.487372\tvalid_0's auc: 0.783763\n",
      "[10]\tvalid_0's binary_logloss: 0.478427\tvalid_0's auc: 0.784614\n",
      "[11]\tvalid_0's binary_logloss: 0.470891\tvalid_0's auc: 0.785279\n",
      "[12]\tvalid_0's binary_logloss: 0.464357\tvalid_0's auc: 0.785986\n",
      "[13]\tvalid_0's binary_logloss: 0.458898\tvalid_0's auc: 0.786532\n",
      "[14]\tvalid_0's binary_logloss: 0.454407\tvalid_0's auc: 0.786612\n",
      "[15]\tvalid_0's binary_logloss: 0.450447\tvalid_0's auc: 0.786576\n",
      "[16]\tvalid_0's binary_logloss: 0.44697\tvalid_0's auc: 0.786951\n",
      "[17]\tvalid_0's binary_logloss: 0.444024\tvalid_0's auc: 0.786972\n",
      "[18]\tvalid_0's binary_logloss: 0.441707\tvalid_0's auc: 0.786486\n",
      "[19]\tvalid_0's binary_logloss: 0.439098\tvalid_0's auc: 0.787682\n",
      "[20]\tvalid_0's binary_logloss: 0.437535\tvalid_0's auc: 0.787358\n",
      "[21]\tvalid_0's binary_logloss: 0.435844\tvalid_0's auc: 0.787359\n",
      "[22]\tvalid_0's binary_logloss: 0.434216\tvalid_0's auc: 0.788089\n",
      "[23]\tvalid_0's binary_logloss: 0.433376\tvalid_0's auc: 0.787347\n",
      "[24]\tvalid_0's binary_logloss: 0.432628\tvalid_0's auc: 0.787115\n"
     ]
    },
    {
     "name": "stderr",
     "output_type": "stream",
     "text": [
      "/anaconda3/lib/python3.6/site-packages/sklearn/preprocessing/label.py:151: DeprecationWarning: The truth value of an empty array is ambiguous. Returning False, but in future this will result in an error. Use `array.size > 0` to check that an array is not empty.\n",
      "  if diff:\n",
      "/anaconda3/lib/python3.6/site-packages/sklearn/preprocessing/label.py:151: DeprecationWarning: The truth value of an empty array is ambiguous. Returning False, but in future this will result in an error. Use `array.size > 0` to check that an array is not empty.\n",
      "  if diff:\n"
     ]
    },
    {
     "name": "stdout",
     "output_type": "stream",
     "text": [
      "[1]\tvalid_0's binary_logloss: 0.649266\tvalid_0's auc: 0.769764\n",
      "Training until validation scores don't improve for 5 rounds.\n",
      "[2]\tvalid_0's binary_logloss: 0.613877\tvalid_0's auc: 0.770921\n",
      "[3]\tvalid_0's binary_logloss: 0.584421\tvalid_0's auc: 0.778833\n",
      "[4]\tvalid_0's binary_logloss: 0.56\tvalid_0's auc: 0.781853\n",
      "[5]\tvalid_0's binary_logloss: 0.539562\tvalid_0's auc: 0.781552\n",
      "[6]\tvalid_0's binary_logloss: 0.5223\tvalid_0's auc: 0.783858\n",
      "[7]\tvalid_0's binary_logloss: 0.507772\tvalid_0's auc: 0.784464\n",
      "[8]\tvalid_0's binary_logloss: 0.495401\tvalid_0's auc: 0.785847\n",
      "[9]\tvalid_0's binary_logloss: 0.485026\tvalid_0's auc: 0.787005\n",
      "[10]\tvalid_0's binary_logloss: 0.47614\tvalid_0's auc: 0.787186\n",
      "[11]\tvalid_0's binary_logloss: 0.468611\tvalid_0's auc: 0.787638\n",
      "[12]\tvalid_0's binary_logloss: 0.462336\tvalid_0's auc: 0.787686\n",
      "[13]\tvalid_0's binary_logloss: 0.45673\tvalid_0's auc: 0.78737\n",
      "[14]\tvalid_0's binary_logloss: 0.452424\tvalid_0's auc: 0.786931\n",
      "[15]\tvalid_0's binary_logloss: 0.448699\tvalid_0's auc: 0.786195\n",
      "[16]\tvalid_0's binary_logloss: 0.44569\tvalid_0's auc: 0.785635\n",
      "[17]\tvalid_0's binary_logloss: 0.44275\tvalid_0's auc: 0.785649\n",
      "Early stopping, best iteration is:\n",
      "[12]\tvalid_0's binary_logloss: 0.462336\tvalid_0's auc: 0.787686\n"
     ]
    },
    {
     "name": "stderr",
     "output_type": "stream",
     "text": [
      "/anaconda3/lib/python3.6/site-packages/sklearn/preprocessing/label.py:151: DeprecationWarning: The truth value of an empty array is ambiguous. Returning False, but in future this will result in an error. Use `array.size > 0` to check that an array is not empty.\n",
      "  if diff:\n",
      "/anaconda3/lib/python3.6/site-packages/sklearn/preprocessing/label.py:151: DeprecationWarning: The truth value of an empty array is ambiguous. Returning False, but in future this will result in an error. Use `array.size > 0` to check that an array is not empty.\n",
      "  if diff:\n"
     ]
    },
    {
     "name": "stdout",
     "output_type": "stream",
     "text": [
      "[1]\tvalid_0's binary_logloss: 0.64967\tvalid_0's auc: 0.766616\n",
      "Training until validation scores don't improve for 5 rounds.\n",
      "[2]\tvalid_0's binary_logloss: 0.614175\tvalid_0's auc: 0.77112\n",
      "[3]\tvalid_0's binary_logloss: 0.584761\tvalid_0's auc: 0.774763\n",
      "[4]\tvalid_0's binary_logloss: 0.560398\tvalid_0's auc: 0.776656\n",
      "[5]\tvalid_0's binary_logloss: 0.54019\tvalid_0's auc: 0.778347\n",
      "[6]\tvalid_0's binary_logloss: 0.52289\tvalid_0's auc: 0.779278\n",
      "[7]\tvalid_0's binary_logloss: 0.508924\tvalid_0's auc: 0.779956\n",
      "[8]\tvalid_0's binary_logloss: 0.496837\tvalid_0's auc: 0.779875\n",
      "[9]\tvalid_0's binary_logloss: 0.486481\tvalid_0's auc: 0.779684\n",
      "[10]\tvalid_0's binary_logloss: 0.477617\tvalid_0's auc: 0.780896\n",
      "[11]\tvalid_0's binary_logloss: 0.470387\tvalid_0's auc: 0.781103\n",
      "[12]\tvalid_0's binary_logloss: 0.463881\tvalid_0's auc: 0.782157\n",
      "[13]\tvalid_0's binary_logloss: 0.458482\tvalid_0's auc: 0.78233\n",
      "[14]\tvalid_0's binary_logloss: 0.453784\tvalid_0's auc: 0.783221\n",
      "[15]\tvalid_0's binary_logloss: 0.450137\tvalid_0's auc: 0.782492\n",
      "[16]\tvalid_0's binary_logloss: 0.446632\tvalid_0's auc: 0.782647\n",
      "[17]\tvalid_0's binary_logloss: 0.443552\tvalid_0's auc: 0.783682\n",
      "[18]\tvalid_0's binary_logloss: 0.441098\tvalid_0's auc: 0.783869\n",
      "[19]\tvalid_0's binary_logloss: 0.438821\tvalid_0's auc: 0.784636\n",
      "[20]\tvalid_0's binary_logloss: 0.437055\tvalid_0's auc: 0.784347\n",
      "[21]\tvalid_0's binary_logloss: 0.435459\tvalid_0's auc: 0.784697\n",
      "[22]\tvalid_0's binary_logloss: 0.434047\tvalid_0's auc: 0.784996\n",
      "[23]\tvalid_0's binary_logloss: 0.433006\tvalid_0's auc: 0.785203\n",
      "[24]\tvalid_0's binary_logloss: 0.432273\tvalid_0's auc: 0.784685\n"
     ]
    },
    {
     "name": "stderr",
     "output_type": "stream",
     "text": [
      "/anaconda3/lib/python3.6/site-packages/sklearn/preprocessing/label.py:151: DeprecationWarning: The truth value of an empty array is ambiguous. Returning False, but in future this will result in an error. Use `array.size > 0` to check that an array is not empty.\n",
      "  if diff:\n",
      "/anaconda3/lib/python3.6/site-packages/sklearn/preprocessing/label.py:151: DeprecationWarning: The truth value of an empty array is ambiguous. Returning False, but in future this will result in an error. Use `array.size > 0` to check that an array is not empty.\n",
      "  if diff:\n"
     ]
    },
    {
     "name": "stdout",
     "output_type": "stream",
     "text": [
      "[1]\tvalid_0's binary_logloss: 0.650207\tvalid_0's auc: 0.767206\n",
      "Training until validation scores don't improve for 5 rounds.\n",
      "[2]\tvalid_0's binary_logloss: 0.615119\tvalid_0's auc: 0.774063\n",
      "[3]\tvalid_0's binary_logloss: 0.586092\tvalid_0's auc: 0.777479\n",
      "[4]\tvalid_0's binary_logloss: 0.562124\tvalid_0's auc: 0.77645\n",
      "[5]\tvalid_0's binary_logloss: 0.541655\tvalid_0's auc: 0.779865\n",
      "[6]\tvalid_0's binary_logloss: 0.524583\tvalid_0's auc: 0.780002\n",
      "[7]\tvalid_0's binary_logloss: 0.509788\tvalid_0's auc: 0.782511\n",
      "[8]\tvalid_0's binary_logloss: 0.497611\tvalid_0's auc: 0.783665\n",
      "[9]\tvalid_0's binary_logloss: 0.487372\tvalid_0's auc: 0.783763\n",
      "[10]\tvalid_0's binary_logloss: 0.478427\tvalid_0's auc: 0.784614\n",
      "[11]\tvalid_0's binary_logloss: 0.470891\tvalid_0's auc: 0.785279\n",
      "[12]\tvalid_0's binary_logloss: 0.464357\tvalid_0's auc: 0.785986\n",
      "[13]\tvalid_0's binary_logloss: 0.458898\tvalid_0's auc: 0.786532\n",
      "[14]\tvalid_0's binary_logloss: 0.454407\tvalid_0's auc: 0.786612\n",
      "[15]\tvalid_0's binary_logloss: 0.450447\tvalid_0's auc: 0.786576\n",
      "[16]\tvalid_0's binary_logloss: 0.44697\tvalid_0's auc: 0.786951\n",
      "[17]\tvalid_0's binary_logloss: 0.444024\tvalid_0's auc: 0.786972\n",
      "[18]\tvalid_0's binary_logloss: 0.441707\tvalid_0's auc: 0.786486\n",
      "[19]\tvalid_0's binary_logloss: 0.439098\tvalid_0's auc: 0.787682\n",
      "[20]\tvalid_0's binary_logloss: 0.437535\tvalid_0's auc: 0.787358\n",
      "[21]\tvalid_0's binary_logloss: 0.435844\tvalid_0's auc: 0.787359\n",
      "[22]\tvalid_0's binary_logloss: 0.434216\tvalid_0's auc: 0.788089\n",
      "[23]\tvalid_0's binary_logloss: 0.433376\tvalid_0's auc: 0.787347\n",
      "[24]\tvalid_0's binary_logloss: 0.432628\tvalid_0's auc: 0.787115\n",
      "[25]\tvalid_0's binary_logloss: 0.43205\tvalid_0's auc: 0.786896\n",
      "[26]\tvalid_0's binary_logloss: 0.431132\tvalid_0's auc: 0.787473\n"
     ]
    },
    {
     "name": "stderr",
     "output_type": "stream",
     "text": [
      "/anaconda3/lib/python3.6/site-packages/sklearn/preprocessing/label.py:151: DeprecationWarning: The truth value of an empty array is ambiguous. Returning False, but in future this will result in an error. Use `array.size > 0` to check that an array is not empty.\n",
      "  if diff:\n",
      "/anaconda3/lib/python3.6/site-packages/sklearn/preprocessing/label.py:151: DeprecationWarning: The truth value of an empty array is ambiguous. Returning False, but in future this will result in an error. Use `array.size > 0` to check that an array is not empty.\n",
      "  if diff:\n"
     ]
    },
    {
     "name": "stdout",
     "output_type": "stream",
     "text": [
      "[1]\tvalid_0's binary_logloss: 0.649266\tvalid_0's auc: 0.769764\n",
      "Training until validation scores don't improve for 5 rounds.\n",
      "[2]\tvalid_0's binary_logloss: 0.613877\tvalid_0's auc: 0.770921\n",
      "[3]\tvalid_0's binary_logloss: 0.584421\tvalid_0's auc: 0.778833\n",
      "[4]\tvalid_0's binary_logloss: 0.56\tvalid_0's auc: 0.781853\n",
      "[5]\tvalid_0's binary_logloss: 0.539562\tvalid_0's auc: 0.781552\n",
      "[6]\tvalid_0's binary_logloss: 0.5223\tvalid_0's auc: 0.783858\n",
      "[7]\tvalid_0's binary_logloss: 0.507772\tvalid_0's auc: 0.784464\n",
      "[8]\tvalid_0's binary_logloss: 0.495401\tvalid_0's auc: 0.785847\n",
      "[9]\tvalid_0's binary_logloss: 0.485026\tvalid_0's auc: 0.787005\n",
      "[10]\tvalid_0's binary_logloss: 0.47614\tvalid_0's auc: 0.787186\n",
      "[11]\tvalid_0's binary_logloss: 0.468611\tvalid_0's auc: 0.787638\n",
      "[12]\tvalid_0's binary_logloss: 0.462336\tvalid_0's auc: 0.787686\n",
      "[13]\tvalid_0's binary_logloss: 0.45673\tvalid_0's auc: 0.78737\n",
      "[14]\tvalid_0's binary_logloss: 0.452424\tvalid_0's auc: 0.786931\n",
      "[15]\tvalid_0's binary_logloss: 0.448699\tvalid_0's auc: 0.786195\n",
      "[16]\tvalid_0's binary_logloss: 0.44569\tvalid_0's auc: 0.785635\n",
      "[17]\tvalid_0's binary_logloss: 0.44275\tvalid_0's auc: 0.785649\n",
      "Early stopping, best iteration is:\n",
      "[12]\tvalid_0's binary_logloss: 0.462336\tvalid_0's auc: 0.787686\n"
     ]
    },
    {
     "name": "stderr",
     "output_type": "stream",
     "text": [
      "/anaconda3/lib/python3.6/site-packages/sklearn/preprocessing/label.py:151: DeprecationWarning: The truth value of an empty array is ambiguous. Returning False, but in future this will result in an error. Use `array.size > 0` to check that an array is not empty.\n",
      "  if diff:\n",
      "/anaconda3/lib/python3.6/site-packages/sklearn/preprocessing/label.py:151: DeprecationWarning: The truth value of an empty array is ambiguous. Returning False, but in future this will result in an error. Use `array.size > 0` to check that an array is not empty.\n",
      "  if diff:\n"
     ]
    },
    {
     "name": "stdout",
     "output_type": "stream",
     "text": [
      "[1]\tvalid_0's binary_logloss: 0.64967\tvalid_0's auc: 0.766616\n",
      "Training until validation scores don't improve for 5 rounds.\n",
      "[2]\tvalid_0's binary_logloss: 0.614175\tvalid_0's auc: 0.77112\n",
      "[3]\tvalid_0's binary_logloss: 0.584761\tvalid_0's auc: 0.774763\n",
      "[4]\tvalid_0's binary_logloss: 0.560398\tvalid_0's auc: 0.776656\n",
      "[5]\tvalid_0's binary_logloss: 0.54019\tvalid_0's auc: 0.778347\n",
      "[6]\tvalid_0's binary_logloss: 0.52289\tvalid_0's auc: 0.779278\n",
      "[7]\tvalid_0's binary_logloss: 0.508924\tvalid_0's auc: 0.779956\n",
      "[8]\tvalid_0's binary_logloss: 0.496837\tvalid_0's auc: 0.779875\n",
      "[9]\tvalid_0's binary_logloss: 0.486481\tvalid_0's auc: 0.779684\n",
      "[10]\tvalid_0's binary_logloss: 0.477617\tvalid_0's auc: 0.780896\n",
      "[11]\tvalid_0's binary_logloss: 0.470387\tvalid_0's auc: 0.781103\n",
      "[12]\tvalid_0's binary_logloss: 0.463881\tvalid_0's auc: 0.782157\n",
      "[13]\tvalid_0's binary_logloss: 0.458482\tvalid_0's auc: 0.78233\n",
      "[14]\tvalid_0's binary_logloss: 0.453784\tvalid_0's auc: 0.783221\n",
      "[15]\tvalid_0's binary_logloss: 0.450137\tvalid_0's auc: 0.782492\n",
      "[16]\tvalid_0's binary_logloss: 0.446632\tvalid_0's auc: 0.782647\n",
      "[17]\tvalid_0's binary_logloss: 0.443552\tvalid_0's auc: 0.783682\n",
      "[18]\tvalid_0's binary_logloss: 0.441098\tvalid_0's auc: 0.783869\n",
      "[19]\tvalid_0's binary_logloss: 0.438821\tvalid_0's auc: 0.784636\n",
      "[20]\tvalid_0's binary_logloss: 0.437055\tvalid_0's auc: 0.784347\n",
      "[21]\tvalid_0's binary_logloss: 0.435459\tvalid_0's auc: 0.784697\n",
      "[22]\tvalid_0's binary_logloss: 0.434047\tvalid_0's auc: 0.784996\n",
      "[23]\tvalid_0's binary_logloss: 0.433006\tvalid_0's auc: 0.785203\n",
      "[24]\tvalid_0's binary_logloss: 0.432273\tvalid_0's auc: 0.784685\n",
      "[25]\tvalid_0's binary_logloss: 0.431592\tvalid_0's auc: 0.785087\n",
      "[26]\tvalid_0's binary_logloss: 0.430875\tvalid_0's auc: 0.785691\n"
     ]
    },
    {
     "name": "stderr",
     "output_type": "stream",
     "text": [
      "/anaconda3/lib/python3.6/site-packages/sklearn/preprocessing/label.py:151: DeprecationWarning: The truth value of an empty array is ambiguous. Returning False, but in future this will result in an error. Use `array.size > 0` to check that an array is not empty.\n",
      "  if diff:\n",
      "/anaconda3/lib/python3.6/site-packages/sklearn/preprocessing/label.py:151: DeprecationWarning: The truth value of an empty array is ambiguous. Returning False, but in future this will result in an error. Use `array.size > 0` to check that an array is not empty.\n",
      "  if diff:\n"
     ]
    },
    {
     "name": "stdout",
     "output_type": "stream",
     "text": [
      "[1]\tvalid_0's binary_logloss: 0.650207\tvalid_0's auc: 0.767206\n",
      "Training until validation scores don't improve for 5 rounds.\n",
      "[2]\tvalid_0's binary_logloss: 0.615119\tvalid_0's auc: 0.774063\n",
      "[3]\tvalid_0's binary_logloss: 0.586092\tvalid_0's auc: 0.777479\n",
      "[4]\tvalid_0's binary_logloss: 0.562124\tvalid_0's auc: 0.77645\n",
      "[5]\tvalid_0's binary_logloss: 0.541655\tvalid_0's auc: 0.779865\n",
      "[6]\tvalid_0's binary_logloss: 0.524583\tvalid_0's auc: 0.780002\n",
      "[7]\tvalid_0's binary_logloss: 0.509788\tvalid_0's auc: 0.782511\n",
      "[8]\tvalid_0's binary_logloss: 0.497611\tvalid_0's auc: 0.783665\n",
      "[9]\tvalid_0's binary_logloss: 0.487372\tvalid_0's auc: 0.783763\n",
      "[10]\tvalid_0's binary_logloss: 0.478427\tvalid_0's auc: 0.784614\n",
      "[11]\tvalid_0's binary_logloss: 0.470891\tvalid_0's auc: 0.785279\n",
      "[12]\tvalid_0's binary_logloss: 0.464357\tvalid_0's auc: 0.785986\n",
      "[13]\tvalid_0's binary_logloss: 0.458898\tvalid_0's auc: 0.786532\n",
      "[14]\tvalid_0's binary_logloss: 0.454407\tvalid_0's auc: 0.786612\n",
      "[15]\tvalid_0's binary_logloss: 0.450447\tvalid_0's auc: 0.786576\n",
      "[16]\tvalid_0's binary_logloss: 0.44697\tvalid_0's auc: 0.786951\n",
      "[17]\tvalid_0's binary_logloss: 0.444024\tvalid_0's auc: 0.786972\n",
      "[18]\tvalid_0's binary_logloss: 0.441707\tvalid_0's auc: 0.786486\n",
      "[19]\tvalid_0's binary_logloss: 0.439098\tvalid_0's auc: 0.787682\n",
      "[20]\tvalid_0's binary_logloss: 0.437535\tvalid_0's auc: 0.787358\n",
      "[21]\tvalid_0's binary_logloss: 0.435844\tvalid_0's auc: 0.787359\n",
      "[22]\tvalid_0's binary_logloss: 0.434216\tvalid_0's auc: 0.788089\n",
      "[23]\tvalid_0's binary_logloss: 0.433376\tvalid_0's auc: 0.787347\n",
      "[24]\tvalid_0's binary_logloss: 0.432628\tvalid_0's auc: 0.787115\n",
      "[25]\tvalid_0's binary_logloss: 0.43205\tvalid_0's auc: 0.786896\n",
      "[26]\tvalid_0's binary_logloss: 0.431132\tvalid_0's auc: 0.787473\n",
      "[27]\tvalid_0's binary_logloss: 0.430568\tvalid_0's auc: 0.787303\n",
      "Early stopping, best iteration is:\n",
      "[22]\tvalid_0's binary_logloss: 0.434216\tvalid_0's auc: 0.788089\n",
      "[1]\tvalid_0's binary_logloss: 0.649266\tvalid_0's auc: 0.769764\n",
      "Training until validation scores don't improve for 5 rounds.\n",
      "[2]\tvalid_0's binary_logloss: 0.613877\tvalid_0's auc: 0.770921\n",
      "[3]\tvalid_0's binary_logloss: 0.584421\tvalid_0's auc: 0.778833\n"
     ]
    },
    {
     "name": "stderr",
     "output_type": "stream",
     "text": [
      "/anaconda3/lib/python3.6/site-packages/sklearn/preprocessing/label.py:151: DeprecationWarning: The truth value of an empty array is ambiguous. Returning False, but in future this will result in an error. Use `array.size > 0` to check that an array is not empty.\n",
      "  if diff:\n",
      "/anaconda3/lib/python3.6/site-packages/sklearn/preprocessing/label.py:151: DeprecationWarning: The truth value of an empty array is ambiguous. Returning False, but in future this will result in an error. Use `array.size > 0` to check that an array is not empty.\n",
      "  if diff:\n"
     ]
    },
    {
     "name": "stdout",
     "output_type": "stream",
     "text": [
      "[4]\tvalid_0's binary_logloss: 0.56\tvalid_0's auc: 0.781853\n",
      "[5]\tvalid_0's binary_logloss: 0.539562\tvalid_0's auc: 0.781552\n",
      "[6]\tvalid_0's binary_logloss: 0.5223\tvalid_0's auc: 0.783858\n",
      "[7]\tvalid_0's binary_logloss: 0.507772\tvalid_0's auc: 0.784464\n",
      "[8]\tvalid_0's binary_logloss: 0.495401\tvalid_0's auc: 0.785847\n",
      "[9]\tvalid_0's binary_logloss: 0.485026\tvalid_0's auc: 0.787005\n",
      "[10]\tvalid_0's binary_logloss: 0.47614\tvalid_0's auc: 0.787186\n",
      "[11]\tvalid_0's binary_logloss: 0.468611\tvalid_0's auc: 0.787638\n",
      "[12]\tvalid_0's binary_logloss: 0.462336\tvalid_0's auc: 0.787686\n",
      "[13]\tvalid_0's binary_logloss: 0.45673\tvalid_0's auc: 0.78737\n",
      "[14]\tvalid_0's binary_logloss: 0.452424\tvalid_0's auc: 0.786931\n",
      "[15]\tvalid_0's binary_logloss: 0.448699\tvalid_0's auc: 0.786195\n",
      "[16]\tvalid_0's binary_logloss: 0.44569\tvalid_0's auc: 0.785635\n",
      "[17]\tvalid_0's binary_logloss: 0.44275\tvalid_0's auc: 0.785649\n",
      "Early stopping, best iteration is:\n",
      "[12]\tvalid_0's binary_logloss: 0.462336\tvalid_0's auc: 0.787686\n"
     ]
    },
    {
     "name": "stderr",
     "output_type": "stream",
     "text": [
      "/anaconda3/lib/python3.6/site-packages/sklearn/preprocessing/label.py:151: DeprecationWarning: The truth value of an empty array is ambiguous. Returning False, but in future this will result in an error. Use `array.size > 0` to check that an array is not empty.\n",
      "  if diff:\n",
      "/anaconda3/lib/python3.6/site-packages/sklearn/preprocessing/label.py:151: DeprecationWarning: The truth value of an empty array is ambiguous. Returning False, but in future this will result in an error. Use `array.size > 0` to check that an array is not empty.\n",
      "  if diff:\n"
     ]
    },
    {
     "name": "stdout",
     "output_type": "stream",
     "text": [
      "[1]\tvalid_0's binary_logloss: 0.64967\tvalid_0's auc: 0.766616\n",
      "Training until validation scores don't improve for 5 rounds.\n",
      "[2]\tvalid_0's binary_logloss: 0.614175\tvalid_0's auc: 0.77112\n",
      "[3]\tvalid_0's binary_logloss: 0.584761\tvalid_0's auc: 0.774763\n",
      "[4]\tvalid_0's binary_logloss: 0.560398\tvalid_0's auc: 0.776656\n",
      "[5]\tvalid_0's binary_logloss: 0.54019\tvalid_0's auc: 0.778347\n",
      "[6]\tvalid_0's binary_logloss: 0.52289\tvalid_0's auc: 0.779278\n",
      "[7]\tvalid_0's binary_logloss: 0.508924\tvalid_0's auc: 0.779956\n",
      "[8]\tvalid_0's binary_logloss: 0.496837\tvalid_0's auc: 0.779875\n",
      "[9]\tvalid_0's binary_logloss: 0.486481\tvalid_0's auc: 0.779684\n",
      "[10]\tvalid_0's binary_logloss: 0.477617\tvalid_0's auc: 0.780896\n",
      "[11]\tvalid_0's binary_logloss: 0.470387\tvalid_0's auc: 0.781103\n",
      "[12]\tvalid_0's binary_logloss: 0.463881\tvalid_0's auc: 0.782157\n",
      "[13]\tvalid_0's binary_logloss: 0.458482\tvalid_0's auc: 0.78233\n",
      "[14]\tvalid_0's binary_logloss: 0.453784\tvalid_0's auc: 0.783221\n",
      "[15]\tvalid_0's binary_logloss: 0.450137\tvalid_0's auc: 0.782492\n",
      "[16]\tvalid_0's binary_logloss: 0.446632\tvalid_0's auc: 0.782647\n",
      "[17]\tvalid_0's binary_logloss: 0.443552\tvalid_0's auc: 0.783682\n",
      "[18]\tvalid_0's binary_logloss: 0.441098\tvalid_0's auc: 0.783869\n",
      "[19]\tvalid_0's binary_logloss: 0.438821\tvalid_0's auc: 0.784636\n",
      "[20]\tvalid_0's binary_logloss: 0.437055\tvalid_0's auc: 0.784347\n",
      "[21]\tvalid_0's binary_logloss: 0.435459\tvalid_0's auc: 0.784697\n",
      "[22]\tvalid_0's binary_logloss: 0.434047\tvalid_0's auc: 0.784996\n",
      "[23]\tvalid_0's binary_logloss: 0.433006\tvalid_0's auc: 0.785203\n",
      "[24]\tvalid_0's binary_logloss: 0.432273\tvalid_0's auc: 0.784685\n",
      "[25]\tvalid_0's binary_logloss: 0.431592\tvalid_0's auc: 0.785087\n",
      "[26]\tvalid_0's binary_logloss: 0.430875\tvalid_0's auc: 0.785691\n",
      "[27]\tvalid_0's binary_logloss: 0.430045\tvalid_0's auc: 0.786262\n",
      "[28]\tvalid_0's binary_logloss: 0.429398\tvalid_0's auc: 0.786507\n"
     ]
    },
    {
     "name": "stderr",
     "output_type": "stream",
     "text": [
      "/anaconda3/lib/python3.6/site-packages/sklearn/preprocessing/label.py:151: DeprecationWarning: The truth value of an empty array is ambiguous. Returning False, but in future this will result in an error. Use `array.size > 0` to check that an array is not empty.\n",
      "  if diff:\n",
      "/anaconda3/lib/python3.6/site-packages/sklearn/preprocessing/label.py:151: DeprecationWarning: The truth value of an empty array is ambiguous. Returning False, but in future this will result in an error. Use `array.size > 0` to check that an array is not empty.\n",
      "  if diff:\n"
     ]
    },
    {
     "name": "stdout",
     "output_type": "stream",
     "text": [
      "[1]\tvalid_0's binary_logloss: 0.650207\tvalid_0's auc: 0.767206\n",
      "Training until validation scores don't improve for 5 rounds.\n",
      "[2]\tvalid_0's binary_logloss: 0.615119\tvalid_0's auc: 0.774063\n",
      "[3]\tvalid_0's binary_logloss: 0.586092\tvalid_0's auc: 0.777479\n",
      "[4]\tvalid_0's binary_logloss: 0.562124\tvalid_0's auc: 0.77645\n",
      "[5]\tvalid_0's binary_logloss: 0.541655\tvalid_0's auc: 0.779865\n",
      "[6]\tvalid_0's binary_logloss: 0.524583\tvalid_0's auc: 0.780002\n",
      "[7]\tvalid_0's binary_logloss: 0.509788\tvalid_0's auc: 0.782511\n",
      "[8]\tvalid_0's binary_logloss: 0.497611\tvalid_0's auc: 0.783665\n",
      "[9]\tvalid_0's binary_logloss: 0.487372\tvalid_0's auc: 0.783763\n",
      "[10]\tvalid_0's binary_logloss: 0.478427\tvalid_0's auc: 0.784614\n",
      "[11]\tvalid_0's binary_logloss: 0.470891\tvalid_0's auc: 0.785279\n",
      "[12]\tvalid_0's binary_logloss: 0.464357\tvalid_0's auc: 0.785986\n",
      "[13]\tvalid_0's binary_logloss: 0.458898\tvalid_0's auc: 0.786532\n",
      "[14]\tvalid_0's binary_logloss: 0.454407\tvalid_0's auc: 0.786612\n",
      "[15]\tvalid_0's binary_logloss: 0.450447\tvalid_0's auc: 0.786576\n",
      "[16]\tvalid_0's binary_logloss: 0.44697\tvalid_0's auc: 0.786951\n",
      "[17]\tvalid_0's binary_logloss: 0.444024\tvalid_0's auc: 0.786972\n",
      "[18]\tvalid_0's binary_logloss: 0.441707\tvalid_0's auc: 0.786486\n",
      "[19]\tvalid_0's binary_logloss: 0.439098\tvalid_0's auc: 0.787682\n",
      "[20]\tvalid_0's binary_logloss: 0.437535\tvalid_0's auc: 0.787358\n",
      "[21]\tvalid_0's binary_logloss: 0.435844\tvalid_0's auc: 0.787359\n",
      "[22]\tvalid_0's binary_logloss: 0.434216\tvalid_0's auc: 0.788089\n",
      "[23]\tvalid_0's binary_logloss: 0.433376\tvalid_0's auc: 0.787347\n",
      "[24]\tvalid_0's binary_logloss: 0.432628\tvalid_0's auc: 0.787115\n",
      "[25]\tvalid_0's binary_logloss: 0.43205\tvalid_0's auc: 0.786896\n",
      "[26]\tvalid_0's binary_logloss: 0.431132\tvalid_0's auc: 0.787473\n",
      "[27]\tvalid_0's binary_logloss: 0.430568\tvalid_0's auc: 0.787303\n",
      "Early stopping, best iteration is:\n",
      "[22]\tvalid_0's binary_logloss: 0.434216\tvalid_0's auc: 0.788089\n"
     ]
    },
    {
     "name": "stderr",
     "output_type": "stream",
     "text": [
      "/anaconda3/lib/python3.6/site-packages/sklearn/preprocessing/label.py:151: DeprecationWarning: The truth value of an empty array is ambiguous. Returning False, but in future this will result in an error. Use `array.size > 0` to check that an array is not empty.\n",
      "  if diff:\n",
      "/anaconda3/lib/python3.6/site-packages/sklearn/preprocessing/label.py:151: DeprecationWarning: The truth value of an empty array is ambiguous. Returning False, but in future this will result in an error. Use `array.size > 0` to check that an array is not empty.\n",
      "  if diff:\n"
     ]
    },
    {
     "name": "stdout",
     "output_type": "stream",
     "text": [
      "[1]\tvalid_0's binary_logloss: 0.649266\tvalid_0's auc: 0.769764\n",
      "Training until validation scores don't improve for 5 rounds.\n",
      "[2]\tvalid_0's binary_logloss: 0.613877\tvalid_0's auc: 0.770921\n",
      "[3]\tvalid_0's binary_logloss: 0.584421\tvalid_0's auc: 0.778833\n",
      "[4]\tvalid_0's binary_logloss: 0.56\tvalid_0's auc: 0.781853\n",
      "[5]\tvalid_0's binary_logloss: 0.539562\tvalid_0's auc: 0.781552\n",
      "[6]\tvalid_0's binary_logloss: 0.5223\tvalid_0's auc: 0.783858\n",
      "[7]\tvalid_0's binary_logloss: 0.507772\tvalid_0's auc: 0.784464\n",
      "[8]\tvalid_0's binary_logloss: 0.495401\tvalid_0's auc: 0.785847\n",
      "[9]\tvalid_0's binary_logloss: 0.485026\tvalid_0's auc: 0.787005\n",
      "[10]\tvalid_0's binary_logloss: 0.47614\tvalid_0's auc: 0.787186\n",
      "[11]\tvalid_0's binary_logloss: 0.468611\tvalid_0's auc: 0.787638\n",
      "[12]\tvalid_0's binary_logloss: 0.462336\tvalid_0's auc: 0.787686\n",
      "[13]\tvalid_0's binary_logloss: 0.45673\tvalid_0's auc: 0.78737\n",
      "[14]\tvalid_0's binary_logloss: 0.452424\tvalid_0's auc: 0.786931\n",
      "[15]\tvalid_0's binary_logloss: 0.448699\tvalid_0's auc: 0.786195\n",
      "[16]\tvalid_0's binary_logloss: 0.44569\tvalid_0's auc: 0.785635\n",
      "[17]\tvalid_0's binary_logloss: 0.44275\tvalid_0's auc: 0.785649\n",
      "Early stopping, best iteration is:\n",
      "[12]\tvalid_0's binary_logloss: 0.462336\tvalid_0's auc: 0.787686\n"
     ]
    },
    {
     "name": "stderr",
     "output_type": "stream",
     "text": [
      "/anaconda3/lib/python3.6/site-packages/sklearn/preprocessing/label.py:151: DeprecationWarning: The truth value of an empty array is ambiguous. Returning False, but in future this will result in an error. Use `array.size > 0` to check that an array is not empty.\n",
      "  if diff:\n",
      "/anaconda3/lib/python3.6/site-packages/sklearn/preprocessing/label.py:151: DeprecationWarning: The truth value of an empty array is ambiguous. Returning False, but in future this will result in an error. Use `array.size > 0` to check that an array is not empty.\n",
      "  if diff:\n"
     ]
    },
    {
     "name": "stdout",
     "output_type": "stream",
     "text": [
      "[1]\tvalid_0's binary_logloss: 0.64967\tvalid_0's auc: 0.766616\n",
      "Training until validation scores don't improve for 5 rounds.\n",
      "[2]\tvalid_0's binary_logloss: 0.614175\tvalid_0's auc: 0.77112\n",
      "[3]\tvalid_0's binary_logloss: 0.584761\tvalid_0's auc: 0.774763\n",
      "[4]\tvalid_0's binary_logloss: 0.560398\tvalid_0's auc: 0.776656\n",
      "[5]\tvalid_0's binary_logloss: 0.54019\tvalid_0's auc: 0.778347\n",
      "[6]\tvalid_0's binary_logloss: 0.52289\tvalid_0's auc: 0.779278\n",
      "[7]\tvalid_0's binary_logloss: 0.508924\tvalid_0's auc: 0.779956\n",
      "[8]\tvalid_0's binary_logloss: 0.496837\tvalid_0's auc: 0.779875\n",
      "[9]\tvalid_0's binary_logloss: 0.486481\tvalid_0's auc: 0.779684\n",
      "[10]\tvalid_0's binary_logloss: 0.477617\tvalid_0's auc: 0.780896\n",
      "[11]\tvalid_0's binary_logloss: 0.470387\tvalid_0's auc: 0.781103\n",
      "[12]\tvalid_0's binary_logloss: 0.463881\tvalid_0's auc: 0.782157\n",
      "[13]\tvalid_0's binary_logloss: 0.458482\tvalid_0's auc: 0.78233\n",
      "[14]\tvalid_0's binary_logloss: 0.453784\tvalid_0's auc: 0.783221\n",
      "[15]\tvalid_0's binary_logloss: 0.450137\tvalid_0's auc: 0.782492\n",
      "[16]\tvalid_0's binary_logloss: 0.446632\tvalid_0's auc: 0.782647\n",
      "[17]\tvalid_0's binary_logloss: 0.443552\tvalid_0's auc: 0.783682\n",
      "[18]\tvalid_0's binary_logloss: 0.441098\tvalid_0's auc: 0.783869\n",
      "[19]\tvalid_0's binary_logloss: 0.438821\tvalid_0's auc: 0.784636\n",
      "[20]\tvalid_0's binary_logloss: 0.437055\tvalid_0's auc: 0.784347\n",
      "[21]\tvalid_0's binary_logloss: 0.435459\tvalid_0's auc: 0.784697\n",
      "[22]\tvalid_0's binary_logloss: 0.434047\tvalid_0's auc: 0.784996\n",
      "[23]\tvalid_0's binary_logloss: 0.433006\tvalid_0's auc: 0.785203\n",
      "[24]\tvalid_0's binary_logloss: 0.432273\tvalid_0's auc: 0.784685\n",
      "[25]\tvalid_0's binary_logloss: 0.431592\tvalid_0's auc: 0.785087\n",
      "[26]\tvalid_0's binary_logloss: 0.430875\tvalid_0's auc: 0.785691\n",
      "[27]\tvalid_0's binary_logloss: 0.430045\tvalid_0's auc: 0.786262\n",
      "[28]\tvalid_0's binary_logloss: 0.429398\tvalid_0's auc: 0.786507\n",
      "[29]\tvalid_0's binary_logloss: 0.429219\tvalid_0's auc: 0.786215\n",
      "[30]\tvalid_0's binary_logloss: 0.429096\tvalid_0's auc: 0.786079\n",
      "[1]\tvalid_0's binary_logloss: 0.650207\tvalid_0's auc: 0.767206\n",
      "Training until validation scores don't improve for 5 rounds.\n",
      "[2]\tvalid_0's binary_logloss: 0.615119\tvalid_0's auc: 0.774063\n",
      "[3]\tvalid_0's binary_logloss: 0.586092\tvalid_0's auc: 0.777479\n",
      "[4]\tvalid_0's binary_logloss: 0.562124\tvalid_0's auc: 0.77645\n",
      "[5]\tvalid_0's binary_logloss: 0.541655\tvalid_0's auc: 0.779865\n",
      "[6]\tvalid_0's binary_logloss: 0.524583\tvalid_0's auc: 0.780002\n",
      "[7]\tvalid_0's binary_logloss: 0.509788\tvalid_0's auc: 0.782511\n",
      "[8]\tvalid_0's binary_logloss: 0.497611\tvalid_0's auc: 0.783665\n",
      "[9]\tvalid_0's binary_logloss: 0.487372\tvalid_0's auc: 0.783763\n"
     ]
    },
    {
     "name": "stderr",
     "output_type": "stream",
     "text": [
      "/anaconda3/lib/python3.6/site-packages/sklearn/preprocessing/label.py:151: DeprecationWarning: The truth value of an empty array is ambiguous. Returning False, but in future this will result in an error. Use `array.size > 0` to check that an array is not empty.\n",
      "  if diff:\n",
      "/anaconda3/lib/python3.6/site-packages/sklearn/preprocessing/label.py:151: DeprecationWarning: The truth value of an empty array is ambiguous. Returning False, but in future this will result in an error. Use `array.size > 0` to check that an array is not empty.\n",
      "  if diff:\n"
     ]
    },
    {
     "name": "stdout",
     "output_type": "stream",
     "text": [
      "[10]\tvalid_0's binary_logloss: 0.478427\tvalid_0's auc: 0.784614\n",
      "[11]\tvalid_0's binary_logloss: 0.470891\tvalid_0's auc: 0.785279\n",
      "[12]\tvalid_0's binary_logloss: 0.464357\tvalid_0's auc: 0.785986\n",
      "[13]\tvalid_0's binary_logloss: 0.458898\tvalid_0's auc: 0.786532\n",
      "[14]\tvalid_0's binary_logloss: 0.454407\tvalid_0's auc: 0.786612\n",
      "[15]\tvalid_0's binary_logloss: 0.450447\tvalid_0's auc: 0.786576\n",
      "[16]\tvalid_0's binary_logloss: 0.44697\tvalid_0's auc: 0.786951\n",
      "[17]\tvalid_0's binary_logloss: 0.444024\tvalid_0's auc: 0.786972\n",
      "[18]\tvalid_0's binary_logloss: 0.441707\tvalid_0's auc: 0.786486\n",
      "[19]\tvalid_0's binary_logloss: 0.439098\tvalid_0's auc: 0.787682\n",
      "[20]\tvalid_0's binary_logloss: 0.437535\tvalid_0's auc: 0.787358\n",
      "[21]\tvalid_0's binary_logloss: 0.435844\tvalid_0's auc: 0.787359\n",
      "[22]\tvalid_0's binary_logloss: 0.434216\tvalid_0's auc: 0.788089\n",
      "[23]\tvalid_0's binary_logloss: 0.433376\tvalid_0's auc: 0.787347\n",
      "[24]\tvalid_0's binary_logloss: 0.432628\tvalid_0's auc: 0.787115\n",
      "[25]\tvalid_0's binary_logloss: 0.43205\tvalid_0's auc: 0.786896\n",
      "[26]\tvalid_0's binary_logloss: 0.431132\tvalid_0's auc: 0.787473\n",
      "[27]\tvalid_0's binary_logloss: 0.430568\tvalid_0's auc: 0.787303\n",
      "Early stopping, best iteration is:\n",
      "[22]\tvalid_0's binary_logloss: 0.434216\tvalid_0's auc: 0.788089\n"
     ]
    },
    {
     "name": "stderr",
     "output_type": "stream",
     "text": [
      "/anaconda3/lib/python3.6/site-packages/sklearn/preprocessing/label.py:151: DeprecationWarning: The truth value of an empty array is ambiguous. Returning False, but in future this will result in an error. Use `array.size > 0` to check that an array is not empty.\n",
      "  if diff:\n",
      "/anaconda3/lib/python3.6/site-packages/sklearn/preprocessing/label.py:151: DeprecationWarning: The truth value of an empty array is ambiguous. Returning False, but in future this will result in an error. Use `array.size > 0` to check that an array is not empty.\n",
      "  if diff:\n"
     ]
    },
    {
     "name": "stdout",
     "output_type": "stream",
     "text": [
      "[1]\tvalid_0's binary_logloss: 0.649266\tvalid_0's auc: 0.769764\n",
      "Training until validation scores don't improve for 5 rounds.\n",
      "[2]\tvalid_0's binary_logloss: 0.613877\tvalid_0's auc: 0.770921\n",
      "[3]\tvalid_0's binary_logloss: 0.584421\tvalid_0's auc: 0.778833\n",
      "[4]\tvalid_0's binary_logloss: 0.56\tvalid_0's auc: 0.781853\n",
      "[5]\tvalid_0's binary_logloss: 0.539562\tvalid_0's auc: 0.781552\n",
      "[6]\tvalid_0's binary_logloss: 0.5223\tvalid_0's auc: 0.783858\n",
      "[7]\tvalid_0's binary_logloss: 0.507772\tvalid_0's auc: 0.784464\n",
      "[8]\tvalid_0's binary_logloss: 0.495401\tvalid_0's auc: 0.785847\n",
      "[9]\tvalid_0's binary_logloss: 0.485026\tvalid_0's auc: 0.787005\n",
      "[10]\tvalid_0's binary_logloss: 0.47614\tvalid_0's auc: 0.787186\n",
      "[11]\tvalid_0's binary_logloss: 0.468611\tvalid_0's auc: 0.787638\n",
      "[12]\tvalid_0's binary_logloss: 0.462336\tvalid_0's auc: 0.787686\n",
      "[13]\tvalid_0's binary_logloss: 0.45673\tvalid_0's auc: 0.78737\n",
      "[14]\tvalid_0's binary_logloss: 0.452424\tvalid_0's auc: 0.786931\n",
      "[15]\tvalid_0's binary_logloss: 0.448699\tvalid_0's auc: 0.786195\n",
      "[16]\tvalid_0's binary_logloss: 0.44569\tvalid_0's auc: 0.785635\n",
      "[17]\tvalid_0's binary_logloss: 0.44275\tvalid_0's auc: 0.785649\n",
      "Early stopping, best iteration is:\n",
      "[12]\tvalid_0's binary_logloss: 0.462336\tvalid_0's auc: 0.787686\n"
     ]
    },
    {
     "name": "stderr",
     "output_type": "stream",
     "text": [
      "/anaconda3/lib/python3.6/site-packages/sklearn/preprocessing/label.py:151: DeprecationWarning: The truth value of an empty array is ambiguous. Returning False, but in future this will result in an error. Use `array.size > 0` to check that an array is not empty.\n",
      "  if diff:\n",
      "/anaconda3/lib/python3.6/site-packages/sklearn/preprocessing/label.py:151: DeprecationWarning: The truth value of an empty array is ambiguous. Returning False, but in future this will result in an error. Use `array.size > 0` to check that an array is not empty.\n",
      "  if diff:\n"
     ]
    },
    {
     "name": "stdout",
     "output_type": "stream",
     "text": [
      "[1]\tvalid_0's binary_logloss: 0.64967\tvalid_0's auc: 0.766616\n",
      "Training until validation scores don't improve for 5 rounds.\n",
      "[2]\tvalid_0's binary_logloss: 0.614175\tvalid_0's auc: 0.77112\n",
      "[3]\tvalid_0's binary_logloss: 0.584761\tvalid_0's auc: 0.774763\n",
      "[4]\tvalid_0's binary_logloss: 0.560398\tvalid_0's auc: 0.776656\n",
      "[5]\tvalid_0's binary_logloss: 0.54019\tvalid_0's auc: 0.778347\n",
      "[6]\tvalid_0's binary_logloss: 0.52289\tvalid_0's auc: 0.779278\n",
      "[7]\tvalid_0's binary_logloss: 0.508924\tvalid_0's auc: 0.779956\n",
      "[8]\tvalid_0's binary_logloss: 0.496837\tvalid_0's auc: 0.779875\n",
      "[9]\tvalid_0's binary_logloss: 0.486481\tvalid_0's auc: 0.779684\n",
      "[10]\tvalid_0's binary_logloss: 0.477617\tvalid_0's auc: 0.780896\n",
      "[11]\tvalid_0's binary_logloss: 0.470387\tvalid_0's auc: 0.781103\n",
      "[12]\tvalid_0's binary_logloss: 0.463881\tvalid_0's auc: 0.782157\n",
      "[13]\tvalid_0's binary_logloss: 0.458482\tvalid_0's auc: 0.78233\n",
      "[14]\tvalid_0's binary_logloss: 0.453784\tvalid_0's auc: 0.783221\n",
      "[15]\tvalid_0's binary_logloss: 0.450137\tvalid_0's auc: 0.782492\n",
      "[16]\tvalid_0's binary_logloss: 0.446632\tvalid_0's auc: 0.782647\n",
      "[17]\tvalid_0's binary_logloss: 0.443552\tvalid_0's auc: 0.783682\n",
      "[18]\tvalid_0's binary_logloss: 0.441098\tvalid_0's auc: 0.783869\n",
      "[19]\tvalid_0's binary_logloss: 0.438821\tvalid_0's auc: 0.784636\n",
      "[20]\tvalid_0's binary_logloss: 0.437055\tvalid_0's auc: 0.784347\n",
      "[21]\tvalid_0's binary_logloss: 0.435459\tvalid_0's auc: 0.784697\n",
      "[22]\tvalid_0's binary_logloss: 0.434047\tvalid_0's auc: 0.784996\n",
      "[23]\tvalid_0's binary_logloss: 0.433006\tvalid_0's auc: 0.785203\n",
      "[24]\tvalid_0's binary_logloss: 0.432273\tvalid_0's auc: 0.784685\n",
      "[25]\tvalid_0's binary_logloss: 0.431592\tvalid_0's auc: 0.785087\n",
      "[26]\tvalid_0's binary_logloss: 0.430875\tvalid_0's auc: 0.785691\n",
      "[27]\tvalid_0's binary_logloss: 0.430045\tvalid_0's auc: 0.786262\n",
      "[28]\tvalid_0's binary_logloss: 0.429398\tvalid_0's auc: 0.786507\n",
      "[29]\tvalid_0's binary_logloss: 0.429219\tvalid_0's auc: 0.786215\n",
      "[30]\tvalid_0's binary_logloss: 0.429096\tvalid_0's auc: 0.786079\n",
      "[31]\tvalid_0's binary_logloss: 0.429072\tvalid_0's auc: 0.78547\n",
      "[32]\tvalid_0's binary_logloss: 0.428604\tvalid_0's auc: 0.785831\n",
      "[1]\tvalid_0's binary_logloss: 0.650207\tvalid_0's auc: 0.767206\n",
      "Training until validation scores don't improve for 5 rounds.\n"
     ]
    },
    {
     "name": "stderr",
     "output_type": "stream",
     "text": [
      "/anaconda3/lib/python3.6/site-packages/sklearn/preprocessing/label.py:151: DeprecationWarning: The truth value of an empty array is ambiguous. Returning False, but in future this will result in an error. Use `array.size > 0` to check that an array is not empty.\n",
      "  if diff:\n",
      "/anaconda3/lib/python3.6/site-packages/sklearn/preprocessing/label.py:151: DeprecationWarning: The truth value of an empty array is ambiguous. Returning False, but in future this will result in an error. Use `array.size > 0` to check that an array is not empty.\n",
      "  if diff:\n"
     ]
    },
    {
     "name": "stdout",
     "output_type": "stream",
     "text": [
      "[2]\tvalid_0's binary_logloss: 0.615119\tvalid_0's auc: 0.774063\n",
      "[3]\tvalid_0's binary_logloss: 0.586092\tvalid_0's auc: 0.777479\n",
      "[4]\tvalid_0's binary_logloss: 0.562124\tvalid_0's auc: 0.77645\n",
      "[5]\tvalid_0's binary_logloss: 0.541655\tvalid_0's auc: 0.779865\n",
      "[6]\tvalid_0's binary_logloss: 0.524583\tvalid_0's auc: 0.780002\n",
      "[7]\tvalid_0's binary_logloss: 0.509788\tvalid_0's auc: 0.782511\n",
      "[8]\tvalid_0's binary_logloss: 0.497611\tvalid_0's auc: 0.783665\n",
      "[9]\tvalid_0's binary_logloss: 0.487372\tvalid_0's auc: 0.783763\n",
      "[10]\tvalid_0's binary_logloss: 0.478427\tvalid_0's auc: 0.784614\n",
      "[11]\tvalid_0's binary_logloss: 0.470891\tvalid_0's auc: 0.785279\n",
      "[12]\tvalid_0's binary_logloss: 0.464357\tvalid_0's auc: 0.785986\n",
      "[13]\tvalid_0's binary_logloss: 0.458898\tvalid_0's auc: 0.786532\n",
      "[14]\tvalid_0's binary_logloss: 0.454407\tvalid_0's auc: 0.786612\n",
      "[15]\tvalid_0's binary_logloss: 0.450447\tvalid_0's auc: 0.786576\n",
      "[16]\tvalid_0's binary_logloss: 0.44697\tvalid_0's auc: 0.786951\n",
      "[17]\tvalid_0's binary_logloss: 0.444024\tvalid_0's auc: 0.786972\n",
      "[18]\tvalid_0's binary_logloss: 0.441707\tvalid_0's auc: 0.786486\n",
      "[19]\tvalid_0's binary_logloss: 0.439098\tvalid_0's auc: 0.787682\n",
      "[20]\tvalid_0's binary_logloss: 0.437535\tvalid_0's auc: 0.787358\n",
      "[21]\tvalid_0's binary_logloss: 0.435844\tvalid_0's auc: 0.787359\n",
      "[22]\tvalid_0's binary_logloss: 0.434216\tvalid_0's auc: 0.788089\n",
      "[23]\tvalid_0's binary_logloss: 0.433376\tvalid_0's auc: 0.787347\n",
      "[24]\tvalid_0's binary_logloss: 0.432628\tvalid_0's auc: 0.787115\n",
      "[25]\tvalid_0's binary_logloss: 0.43205\tvalid_0's auc: 0.786896\n",
      "[26]\tvalid_0's binary_logloss: 0.431132\tvalid_0's auc: 0.787473\n",
      "[27]\tvalid_0's binary_logloss: 0.430568\tvalid_0's auc: 0.787303\n",
      "Early stopping, best iteration is:\n",
      "[22]\tvalid_0's binary_logloss: 0.434216\tvalid_0's auc: 0.788089\n",
      "[1]\tvalid_0's binary_logloss: 0.649266\tvalid_0's auc: 0.769764\n",
      "Training until validation scores don't improve for 5 rounds.\n",
      "[2]\tvalid_0's binary_logloss: 0.613877\tvalid_0's auc: 0.770921\n",
      "[3]\tvalid_0's binary_logloss: 0.584421\tvalid_0's auc: 0.778833\n",
      "[4]\tvalid_0's binary_logloss: 0.56\tvalid_0's auc: 0.781853\n",
      "[5]\tvalid_0's binary_logloss: 0.539562\tvalid_0's auc: 0.781552\n",
      "[6]\tvalid_0's binary_logloss: 0.5223\tvalid_0's auc: 0.783858\n",
      "[7]\tvalid_0's binary_logloss: 0.507772\tvalid_0's auc: 0.784464\n",
      "[8]\tvalid_0's binary_logloss: 0.495401\tvalid_0's auc: 0.785847\n",
      "[9]\tvalid_0's binary_logloss: 0.485026\tvalid_0's auc: 0.787005\n",
      "[10]\tvalid_0's binary_logloss: 0.47614\tvalid_0's auc: 0.787186\n"
     ]
    },
    {
     "name": "stderr",
     "output_type": "stream",
     "text": [
      "/anaconda3/lib/python3.6/site-packages/sklearn/preprocessing/label.py:151: DeprecationWarning: The truth value of an empty array is ambiguous. Returning False, but in future this will result in an error. Use `array.size > 0` to check that an array is not empty.\n",
      "  if diff:\n",
      "/anaconda3/lib/python3.6/site-packages/sklearn/preprocessing/label.py:151: DeprecationWarning: The truth value of an empty array is ambiguous. Returning False, but in future this will result in an error. Use `array.size > 0` to check that an array is not empty.\n",
      "  if diff:\n",
      "/anaconda3/lib/python3.6/site-packages/sklearn/preprocessing/label.py:151: DeprecationWarning: The truth value of an empty array is ambiguous. Returning False, but in future this will result in an error. Use `array.size > 0` to check that an array is not empty.\n",
      "  if diff:\n"
     ]
    },
    {
     "name": "stdout",
     "output_type": "stream",
     "text": [
      "[11]\tvalid_0's binary_logloss: 0.468611\tvalid_0's auc: 0.787638\n",
      "[12]\tvalid_0's binary_logloss: 0.462336\tvalid_0's auc: 0.787686\n",
      "[13]\tvalid_0's binary_logloss: 0.45673\tvalid_0's auc: 0.78737\n",
      "[14]\tvalid_0's binary_logloss: 0.452424\tvalid_0's auc: 0.786931\n",
      "[15]\tvalid_0's binary_logloss: 0.448699\tvalid_0's auc: 0.786195\n",
      "[16]\tvalid_0's binary_logloss: 0.44569\tvalid_0's auc: 0.785635\n",
      "[17]\tvalid_0's binary_logloss: 0.44275\tvalid_0's auc: 0.785649\n",
      "Early stopping, best iteration is:\n",
      "[12]\tvalid_0's binary_logloss: 0.462336\tvalid_0's auc: 0.787686\n",
      "[1]\tvalid_0's binary_logloss: 0.64967\tvalid_0's auc: 0.766616\n",
      "Training until validation scores don't improve for 5 rounds.\n",
      "[2]\tvalid_0's binary_logloss: 0.614175\tvalid_0's auc: 0.77112\n",
      "[3]\tvalid_0's binary_logloss: 0.584761\tvalid_0's auc: 0.774763\n",
      "[4]\tvalid_0's binary_logloss: 0.560398\tvalid_0's auc: 0.776656\n",
      "[5]\tvalid_0's binary_logloss: 0.54019\tvalid_0's auc: 0.778347\n",
      "[6]\tvalid_0's binary_logloss: 0.52289\tvalid_0's auc: 0.779278\n",
      "[7]\tvalid_0's binary_logloss: 0.508924\tvalid_0's auc: 0.779956\n"
     ]
    },
    {
     "name": "stderr",
     "output_type": "stream",
     "text": [
      "/anaconda3/lib/python3.6/site-packages/sklearn/preprocessing/label.py:151: DeprecationWarning: The truth value of an empty array is ambiguous. Returning False, but in future this will result in an error. Use `array.size > 0` to check that an array is not empty.\n",
      "  if diff:\n"
     ]
    },
    {
     "name": "stdout",
     "output_type": "stream",
     "text": [
      "[8]\tvalid_0's binary_logloss: 0.496837\tvalid_0's auc: 0.779875\n",
      "[9]\tvalid_0's binary_logloss: 0.486481\tvalid_0's auc: 0.779684\n",
      "[10]\tvalid_0's binary_logloss: 0.477617\tvalid_0's auc: 0.780896\n",
      "[11]\tvalid_0's binary_logloss: 0.470387\tvalid_0's auc: 0.781103\n",
      "[12]\tvalid_0's binary_logloss: 0.463881\tvalid_0's auc: 0.782157\n",
      "[13]\tvalid_0's binary_logloss: 0.458482\tvalid_0's auc: 0.78233\n",
      "[14]\tvalid_0's binary_logloss: 0.453784\tvalid_0's auc: 0.783221\n",
      "[15]\tvalid_0's binary_logloss: 0.450137\tvalid_0's auc: 0.782492\n",
      "[16]\tvalid_0's binary_logloss: 0.446632\tvalid_0's auc: 0.782647\n",
      "[17]\tvalid_0's binary_logloss: 0.443552\tvalid_0's auc: 0.783682\n",
      "[18]\tvalid_0's binary_logloss: 0.441098\tvalid_0's auc: 0.783869\n",
      "[19]\tvalid_0's binary_logloss: 0.438821\tvalid_0's auc: 0.784636\n",
      "[20]\tvalid_0's binary_logloss: 0.437055\tvalid_0's auc: 0.784347\n",
      "[21]\tvalid_0's binary_logloss: 0.435459\tvalid_0's auc: 0.784697\n",
      "[22]\tvalid_0's binary_logloss: 0.434047\tvalid_0's auc: 0.784996\n",
      "[23]\tvalid_0's binary_logloss: 0.433006\tvalid_0's auc: 0.785203\n",
      "[24]\tvalid_0's binary_logloss: 0.432273\tvalid_0's auc: 0.784685\n",
      "[25]\tvalid_0's binary_logloss: 0.431592\tvalid_0's auc: 0.785087\n",
      "[26]\tvalid_0's binary_logloss: 0.430875\tvalid_0's auc: 0.785691\n",
      "[27]\tvalid_0's binary_logloss: 0.430045\tvalid_0's auc: 0.786262\n",
      "[28]\tvalid_0's binary_logloss: 0.429398\tvalid_0's auc: 0.786507\n",
      "[29]\tvalid_0's binary_logloss: 0.429219\tvalid_0's auc: 0.786215\n",
      "[30]\tvalid_0's binary_logloss: 0.429096\tvalid_0's auc: 0.786079\n",
      "[31]\tvalid_0's binary_logloss: 0.429072\tvalid_0's auc: 0.78547\n",
      "[32]\tvalid_0's binary_logloss: 0.428604\tvalid_0's auc: 0.785831\n",
      "[33]\tvalid_0's binary_logloss: 0.428481\tvalid_0's auc: 0.785597\n",
      "Early stopping, best iteration is:\n",
      "[28]\tvalid_0's binary_logloss: 0.429398\tvalid_0's auc: 0.786507\n"
     ]
    },
    {
     "name": "stderr",
     "output_type": "stream",
     "text": [
      "/anaconda3/lib/python3.6/site-packages/sklearn/preprocessing/label.py:151: DeprecationWarning: The truth value of an empty array is ambiguous. Returning False, but in future this will result in an error. Use `array.size > 0` to check that an array is not empty.\n",
      "  if diff:\n",
      "/anaconda3/lib/python3.6/site-packages/sklearn/preprocessing/label.py:151: DeprecationWarning: The truth value of an empty array is ambiguous. Returning False, but in future this will result in an error. Use `array.size > 0` to check that an array is not empty.\n",
      "  if diff:\n",
      "/anaconda3/lib/python3.6/site-packages/sklearn/preprocessing/label.py:151: DeprecationWarning: The truth value of an empty array is ambiguous. Returning False, but in future this will result in an error. Use `array.size > 0` to check that an array is not empty.\n",
      "  if diff:\n"
     ]
    },
    {
     "name": "stdout",
     "output_type": "stream",
     "text": [
      "[1]\tvalid_0's binary_logloss: 0.64019\tvalid_0's auc: 0.767206\n",
      "Training until validation scores don't improve for 5 rounds.\n",
      "[2]\tvalid_0's binary_logloss: 0.599\tvalid_0's auc: 0.77399\n",
      "[3]\tvalid_0's binary_logloss: 0.566699\tvalid_0's auc: 0.777305\n",
      "[4]\tvalid_0's binary_logloss: 0.540638\tvalid_0's auc: 0.781001\n",
      "[5]\tvalid_0's binary_logloss: 0.519987\tvalid_0's auc: 0.78001\n",
      "[6]\tvalid_0's binary_logloss: 0.502617\tvalid_0's auc: 0.782939\n",
      "[7]\tvalid_0's binary_logloss: 0.489208\tvalid_0's auc: 0.782713\n",
      "[8]\tvalid_0's binary_logloss: 0.477689\tvalid_0's auc: 0.78346\n",
      "[9]\tvalid_0's binary_logloss: 0.468394\tvalid_0's auc: 0.784765\n",
      "[10]\tvalid_0's binary_logloss: 0.461258\tvalid_0's auc: 0.785123\n",
      "[11]\tvalid_0's binary_logloss: 0.455317\tvalid_0's auc: 0.785109\n",
      "[12]\tvalid_0's binary_logloss: 0.450328\tvalid_0's auc: 0.785162\n",
      "[13]\tvalid_0's binary_logloss: 0.446113\tvalid_0's auc: 0.786075\n",
      "[14]\tvalid_0's binary_logloss: 0.442587\tvalid_0's auc: 0.786611\n",
      "[15]\tvalid_0's binary_logloss: 0.439679\tvalid_0's auc: 0.786671\n",
      "[16]\tvalid_0's binary_logloss: 0.437702\tvalid_0's auc: 0.786333\n",
      "[17]\tvalid_0's binary_logloss: 0.436082\tvalid_0's auc: 0.786417\n",
      "[18]\tvalid_0's binary_logloss: 0.435051\tvalid_0's auc: 0.785271\n",
      "[19]\tvalid_0's binary_logloss: 0.433406\tvalid_0's auc: 0.785731\n",
      "[20]\tvalid_0's binary_logloss: 0.432238\tvalid_0's auc: 0.786454\n",
      "Early stopping, best iteration is:\n",
      "[15]\tvalid_0's binary_logloss: 0.439679\tvalid_0's auc: 0.786671\n"
     ]
    },
    {
     "name": "stderr",
     "output_type": "stream",
     "text": [
      "/anaconda3/lib/python3.6/site-packages/sklearn/preprocessing/label.py:151: DeprecationWarning: The truth value of an empty array is ambiguous. Returning False, but in future this will result in an error. Use `array.size > 0` to check that an array is not empty.\n",
      "  if diff:\n",
      "/anaconda3/lib/python3.6/site-packages/sklearn/preprocessing/label.py:151: DeprecationWarning: The truth value of an empty array is ambiguous. Returning False, but in future this will result in an error. Use `array.size > 0` to check that an array is not empty.\n",
      "  if diff:\n"
     ]
    },
    {
     "name": "stdout",
     "output_type": "stream",
     "text": [
      "[1]\tvalid_0's binary_logloss: 0.639033\tvalid_0's auc: 0.769764\n",
      "Training until validation scores don't improve for 5 rounds.\n",
      "[2]\tvalid_0's binary_logloss: 0.597748\tvalid_0's auc: 0.771314\n",
      "[3]\tvalid_0's binary_logloss: 0.564685\tvalid_0's auc: 0.779171\n",
      "[4]\tvalid_0's binary_logloss: 0.538587\tvalid_0's auc: 0.782116\n",
      "[5]\tvalid_0's binary_logloss: 0.517405\tvalid_0's auc: 0.783582\n",
      "[6]\tvalid_0's binary_logloss: 0.500123\tvalid_0's auc: 0.785882\n",
      "[7]\tvalid_0's binary_logloss: 0.486203\tvalid_0's auc: 0.786939\n",
      "[8]\tvalid_0's binary_logloss: 0.474954\tvalid_0's auc: 0.78691\n",
      "[9]\tvalid_0's binary_logloss: 0.465762\tvalid_0's auc: 0.7864\n",
      "[10]\tvalid_0's binary_logloss: 0.458653\tvalid_0's auc: 0.786498\n",
      "[11]\tvalid_0's binary_logloss: 0.452683\tvalid_0's auc: 0.786328\n",
      "[12]\tvalid_0's binary_logloss: 0.447716\tvalid_0's auc: 0.786661\n",
      "Early stopping, best iteration is:\n",
      "[7]\tvalid_0's binary_logloss: 0.486203\tvalid_0's auc: 0.786939\n"
     ]
    },
    {
     "name": "stderr",
     "output_type": "stream",
     "text": [
      "/anaconda3/lib/python3.6/site-packages/sklearn/preprocessing/label.py:151: DeprecationWarning: The truth value of an empty array is ambiguous. Returning False, but in future this will result in an error. Use `array.size > 0` to check that an array is not empty.\n",
      "  if diff:\n",
      "/anaconda3/lib/python3.6/site-packages/sklearn/preprocessing/label.py:151: DeprecationWarning: The truth value of an empty array is ambiguous. Returning False, but in future this will result in an error. Use `array.size > 0` to check that an array is not empty.\n",
      "  if diff:\n",
      "/anaconda3/lib/python3.6/site-packages/sklearn/preprocessing/label.py:151: DeprecationWarning: The truth value of an empty array is ambiguous. Returning False, but in future this will result in an error. Use `array.size > 0` to check that an array is not empty.\n",
      "  if diff:\n"
     ]
    },
    {
     "name": "stdout",
     "output_type": "stream",
     "text": [
      "[1]\tvalid_0's binary_logloss: 0.639528\tvalid_0's auc: 0.766616\n",
      "Training until validation scores don't improve for 5 rounds.\n",
      "[2]\tvalid_0's binary_logloss: 0.598161\tvalid_0's auc: 0.770443\n",
      "[3]\tvalid_0's binary_logloss: 0.565317\tvalid_0's auc: 0.77667\n",
      "[4]\tvalid_0's binary_logloss: 0.539537\tvalid_0's auc: 0.777441\n",
      "[5]\tvalid_0's binary_logloss: 0.518774\tvalid_0's auc: 0.778245\n",
      "[6]\tvalid_0's binary_logloss: 0.502073\tvalid_0's auc: 0.779138\n",
      "[7]\tvalid_0's binary_logloss: 0.488324\tvalid_0's auc: 0.781021\n",
      "[8]\tvalid_0's binary_logloss: 0.477306\tvalid_0's auc: 0.781042\n",
      "[9]\tvalid_0's binary_logloss: 0.468505\tvalid_0's auc: 0.77965\n",
      "[10]\tvalid_0's binary_logloss: 0.461247\tvalid_0's auc: 0.780211\n",
      "[11]\tvalid_0's binary_logloss: 0.455611\tvalid_0's auc: 0.778416\n",
      "[12]\tvalid_0's binary_logloss: 0.450794\tvalid_0's auc: 0.779468\n",
      "[13]\tvalid_0's binary_logloss: 0.446885\tvalid_0's auc: 0.779284\n",
      "Early stopping, best iteration is:\n",
      "[8]\tvalid_0's binary_logloss: 0.477306\tvalid_0's auc: 0.781042\n",
      "[1]\tvalid_0's binary_logloss: 0.64019\tvalid_0's auc: 0.767206\n",
      "Training until validation scores don't improve for 5 rounds.\n",
      "[2]\tvalid_0's binary_logloss: 0.599\tvalid_0's auc: 0.77399\n",
      "[3]\tvalid_0's binary_logloss: 0.566699\tvalid_0's auc: 0.777305\n",
      "[4]\tvalid_0's binary_logloss: 0.540638\tvalid_0's auc: 0.781001\n",
      "[5]\tvalid_0's binary_logloss: 0.519987\tvalid_0's auc: 0.78001\n",
      "[6]\tvalid_0's binary_logloss: 0.502617\tvalid_0's auc: 0.782939\n",
      "[7]\tvalid_0's binary_logloss: 0.489208\tvalid_0's auc: 0.782713\n",
      "[8]\tvalid_0's binary_logloss: 0.477689\tvalid_0's auc: 0.78346\n",
      "[9]\tvalid_0's binary_logloss: 0.468394\tvalid_0's auc: 0.784765\n",
      "[10]\tvalid_0's binary_logloss: 0.461258\tvalid_0's auc: 0.785123\n",
      "[11]\tvalid_0's binary_logloss: 0.455317\tvalid_0's auc: 0.785109\n",
      "[12]\tvalid_0's binary_logloss: 0.450328\tvalid_0's auc: 0.785162\n",
      "[13]\tvalid_0's binary_logloss: 0.446113\tvalid_0's auc: 0.786075\n",
      "[14]\tvalid_0's binary_logloss: 0.442587\tvalid_0's auc: 0.786611\n",
      "[15]\tvalid_0's binary_logloss: 0.439679\tvalid_0's auc: 0.786671\n",
      "[16]\tvalid_0's binary_logloss: 0.437702\tvalid_0's auc: 0.786333\n",
      "[17]\tvalid_0's binary_logloss: 0.436082\tvalid_0's auc: 0.786417\n",
      "[18]\tvalid_0's binary_logloss: 0.435051\tvalid_0's auc: 0.785271\n",
      "[19]\tvalid_0's binary_logloss: 0.433406\tvalid_0's auc: 0.785731\n",
      "[20]\tvalid_0's binary_logloss: 0.432238\tvalid_0's auc: 0.786454\n",
      "Early stopping, best iteration is:\n",
      "[15]\tvalid_0's binary_logloss: 0.439679\tvalid_0's auc: 0.786671\n"
     ]
    },
    {
     "name": "stderr",
     "output_type": "stream",
     "text": [
      "/anaconda3/lib/python3.6/site-packages/sklearn/preprocessing/label.py:151: DeprecationWarning: The truth value of an empty array is ambiguous. Returning False, but in future this will result in an error. Use `array.size > 0` to check that an array is not empty.\n",
      "  if diff:\n",
      "/anaconda3/lib/python3.6/site-packages/sklearn/preprocessing/label.py:151: DeprecationWarning: The truth value of an empty array is ambiguous. Returning False, but in future this will result in an error. Use `array.size > 0` to check that an array is not empty.\n",
      "  if diff:\n"
     ]
    },
    {
     "name": "stdout",
     "output_type": "stream",
     "text": [
      "[1]\tvalid_0's binary_logloss: 0.639033\tvalid_0's auc: 0.769764\n",
      "Training until validation scores don't improve for 5 rounds.\n",
      "[2]\tvalid_0's binary_logloss: 0.597748\tvalid_0's auc: 0.771314\n",
      "[3]\tvalid_0's binary_logloss: 0.564685\tvalid_0's auc: 0.779171\n",
      "[4]\tvalid_0's binary_logloss: 0.538587\tvalid_0's auc: 0.782116\n",
      "[5]\tvalid_0's binary_logloss: 0.517405\tvalid_0's auc: 0.783582\n",
      "[6]\tvalid_0's binary_logloss: 0.500123\tvalid_0's auc: 0.785882\n",
      "[7]\tvalid_0's binary_logloss: 0.486203\tvalid_0's auc: 0.786939\n",
      "[8]\tvalid_0's binary_logloss: 0.474954\tvalid_0's auc: 0.78691\n",
      "[9]\tvalid_0's binary_logloss: 0.465762\tvalid_0's auc: 0.7864\n",
      "[10]\tvalid_0's binary_logloss: 0.458653\tvalid_0's auc: 0.786498\n",
      "[11]\tvalid_0's binary_logloss: 0.452683\tvalid_0's auc: 0.786328\n",
      "[12]\tvalid_0's binary_logloss: 0.447716\tvalid_0's auc: 0.786661\n",
      "Early stopping, best iteration is:\n",
      "[7]\tvalid_0's binary_logloss: 0.486203\tvalid_0's auc: 0.786939\n"
     ]
    },
    {
     "name": "stderr",
     "output_type": "stream",
     "text": [
      "/anaconda3/lib/python3.6/site-packages/sklearn/preprocessing/label.py:151: DeprecationWarning: The truth value of an empty array is ambiguous. Returning False, but in future this will result in an error. Use `array.size > 0` to check that an array is not empty.\n",
      "  if diff:\n",
      "/anaconda3/lib/python3.6/site-packages/sklearn/preprocessing/label.py:151: DeprecationWarning: The truth value of an empty array is ambiguous. Returning False, but in future this will result in an error. Use `array.size > 0` to check that an array is not empty.\n",
      "  if diff:\n"
     ]
    },
    {
     "name": "stdout",
     "output_type": "stream",
     "text": [
      "[1]\tvalid_0's binary_logloss: 0.639528\tvalid_0's auc: 0.766616\n",
      "Training until validation scores don't improve for 5 rounds.\n",
      "[2]\tvalid_0's binary_logloss: 0.598161\tvalid_0's auc: 0.770443\n",
      "[3]\tvalid_0's binary_logloss: 0.565317\tvalid_0's auc: 0.77667\n",
      "[4]\tvalid_0's binary_logloss: 0.539537\tvalid_0's auc: 0.777441\n",
      "[5]\tvalid_0's binary_logloss: 0.518774\tvalid_0's auc: 0.778245\n",
      "[6]\tvalid_0's binary_logloss: 0.502073\tvalid_0's auc: 0.779138\n",
      "[7]\tvalid_0's binary_logloss: 0.488324\tvalid_0's auc: 0.781021\n",
      "[8]\tvalid_0's binary_logloss: 0.477306\tvalid_0's auc: 0.781042\n",
      "[9]\tvalid_0's binary_logloss: 0.468505\tvalid_0's auc: 0.77965\n",
      "[10]\tvalid_0's binary_logloss: 0.461247\tvalid_0's auc: 0.780211\n",
      "[11]\tvalid_0's binary_logloss: 0.455611\tvalid_0's auc: 0.778416\n",
      "[12]\tvalid_0's binary_logloss: 0.450794\tvalid_0's auc: 0.779468\n",
      "[13]\tvalid_0's binary_logloss: 0.446885\tvalid_0's auc: 0.779284\n",
      "Early stopping, best iteration is:\n",
      "[8]\tvalid_0's binary_logloss: 0.477306\tvalid_0's auc: 0.781042\n",
      "[1]\tvalid_0's binary_logloss: 0.64019\tvalid_0's auc: 0.767206\n",
      "Training until validation scores don't improve for 5 rounds.\n",
      "[2]\tvalid_0's binary_logloss: 0.599\tvalid_0's auc: 0.77399\n",
      "[3]\tvalid_0's binary_logloss: 0.566699\tvalid_0's auc: 0.777305\n"
     ]
    },
    {
     "name": "stderr",
     "output_type": "stream",
     "text": [
      "/anaconda3/lib/python3.6/site-packages/sklearn/preprocessing/label.py:151: DeprecationWarning: The truth value of an empty array is ambiguous. Returning False, but in future this will result in an error. Use `array.size > 0` to check that an array is not empty.\n",
      "  if diff:\n",
      "/anaconda3/lib/python3.6/site-packages/sklearn/preprocessing/label.py:151: DeprecationWarning: The truth value of an empty array is ambiguous. Returning False, but in future this will result in an error. Use `array.size > 0` to check that an array is not empty.\n",
      "  if diff:\n"
     ]
    },
    {
     "name": "stdout",
     "output_type": "stream",
     "text": [
      "[4]\tvalid_0's binary_logloss: 0.540638\tvalid_0's auc: 0.781001\n",
      "[5]\tvalid_0's binary_logloss: 0.519987\tvalid_0's auc: 0.78001\n",
      "[6]\tvalid_0's binary_logloss: 0.502617\tvalid_0's auc: 0.782939\n",
      "[7]\tvalid_0's binary_logloss: 0.489208\tvalid_0's auc: 0.782713\n",
      "[8]\tvalid_0's binary_logloss: 0.477689\tvalid_0's auc: 0.78346\n",
      "[9]\tvalid_0's binary_logloss: 0.468394\tvalid_0's auc: 0.784765\n",
      "[10]\tvalid_0's binary_logloss: 0.461258\tvalid_0's auc: 0.785123\n",
      "[11]\tvalid_0's binary_logloss: 0.455317\tvalid_0's auc: 0.785109\n",
      "[12]\tvalid_0's binary_logloss: 0.450328\tvalid_0's auc: 0.785162\n",
      "[13]\tvalid_0's binary_logloss: 0.446113\tvalid_0's auc: 0.786075\n",
      "[14]\tvalid_0's binary_logloss: 0.442587\tvalid_0's auc: 0.786611\n",
      "[15]\tvalid_0's binary_logloss: 0.439679\tvalid_0's auc: 0.786671\n",
      "[16]\tvalid_0's binary_logloss: 0.437702\tvalid_0's auc: 0.786333\n",
      "[17]\tvalid_0's binary_logloss: 0.436082\tvalid_0's auc: 0.786417\n",
      "[18]\tvalid_0's binary_logloss: 0.435051\tvalid_0's auc: 0.785271\n",
      "[19]\tvalid_0's binary_logloss: 0.433406\tvalid_0's auc: 0.785731\n",
      "[20]\tvalid_0's binary_logloss: 0.432238\tvalid_0's auc: 0.786454\n",
      "Early stopping, best iteration is:\n",
      "[15]\tvalid_0's binary_logloss: 0.439679\tvalid_0's auc: 0.786671\n"
     ]
    },
    {
     "name": "stderr",
     "output_type": "stream",
     "text": [
      "/anaconda3/lib/python3.6/site-packages/sklearn/preprocessing/label.py:151: DeprecationWarning: The truth value of an empty array is ambiguous. Returning False, but in future this will result in an error. Use `array.size > 0` to check that an array is not empty.\n",
      "  if diff:\n",
      "/anaconda3/lib/python3.6/site-packages/sklearn/preprocessing/label.py:151: DeprecationWarning: The truth value of an empty array is ambiguous. Returning False, but in future this will result in an error. Use `array.size > 0` to check that an array is not empty.\n",
      "  if diff:\n"
     ]
    },
    {
     "name": "stdout",
     "output_type": "stream",
     "text": [
      "[1]\tvalid_0's binary_logloss: 0.639033\tvalid_0's auc: 0.769764\n",
      "Training until validation scores don't improve for 5 rounds.\n",
      "[2]\tvalid_0's binary_logloss: 0.597748\tvalid_0's auc: 0.771314\n",
      "[3]\tvalid_0's binary_logloss: 0.564685\tvalid_0's auc: 0.779171\n",
      "[4]\tvalid_0's binary_logloss: 0.538587\tvalid_0's auc: 0.782116\n",
      "[5]\tvalid_0's binary_logloss: 0.517405\tvalid_0's auc: 0.783582\n",
      "[6]\tvalid_0's binary_logloss: 0.500123\tvalid_0's auc: 0.785882\n",
      "[7]\tvalid_0's binary_logloss: 0.486203\tvalid_0's auc: 0.786939\n",
      "[8]\tvalid_0's binary_logloss: 0.474954\tvalid_0's auc: 0.78691\n",
      "[9]\tvalid_0's binary_logloss: 0.465762\tvalid_0's auc: 0.7864\n",
      "[10]\tvalid_0's binary_logloss: 0.458653\tvalid_0's auc: 0.786498\n",
      "[11]\tvalid_0's binary_logloss: 0.452683\tvalid_0's auc: 0.786328\n",
      "[12]\tvalid_0's binary_logloss: 0.447716\tvalid_0's auc: 0.786661\n",
      "Early stopping, best iteration is:\n",
      "[7]\tvalid_0's binary_logloss: 0.486203\tvalid_0's auc: 0.786939\n"
     ]
    },
    {
     "name": "stderr",
     "output_type": "stream",
     "text": [
      "/anaconda3/lib/python3.6/site-packages/sklearn/preprocessing/label.py:151: DeprecationWarning: The truth value of an empty array is ambiguous. Returning False, but in future this will result in an error. Use `array.size > 0` to check that an array is not empty.\n",
      "  if diff:\n",
      "/anaconda3/lib/python3.6/site-packages/sklearn/preprocessing/label.py:151: DeprecationWarning: The truth value of an empty array is ambiguous. Returning False, but in future this will result in an error. Use `array.size > 0` to check that an array is not empty.\n",
      "  if diff:\n"
     ]
    },
    {
     "name": "stdout",
     "output_type": "stream",
     "text": [
      "[1]\tvalid_0's binary_logloss: 0.639528\tvalid_0's auc: 0.766616\n",
      "Training until validation scores don't improve for 5 rounds.\n",
      "[2]\tvalid_0's binary_logloss: 0.598161\tvalid_0's auc: 0.770443\n",
      "[3]\tvalid_0's binary_logloss: 0.565317\tvalid_0's auc: 0.77667\n",
      "[4]\tvalid_0's binary_logloss: 0.539537\tvalid_0's auc: 0.777441\n",
      "[5]\tvalid_0's binary_logloss: 0.518774\tvalid_0's auc: 0.778245\n",
      "[6]\tvalid_0's binary_logloss: 0.502073\tvalid_0's auc: 0.779138\n",
      "[7]\tvalid_0's binary_logloss: 0.488324\tvalid_0's auc: 0.781021\n",
      "[8]\tvalid_0's binary_logloss: 0.477306\tvalid_0's auc: 0.781042\n",
      "[9]\tvalid_0's binary_logloss: 0.468505\tvalid_0's auc: 0.77965\n",
      "[10]\tvalid_0's binary_logloss: 0.461247\tvalid_0's auc: 0.780211\n",
      "[11]\tvalid_0's binary_logloss: 0.455611\tvalid_0's auc: 0.778416\n",
      "[12]\tvalid_0's binary_logloss: 0.450794\tvalid_0's auc: 0.779468\n",
      "[13]\tvalid_0's binary_logloss: 0.446885\tvalid_0's auc: 0.779284\n",
      "Early stopping, best iteration is:\n",
      "[8]\tvalid_0's binary_logloss: 0.477306\tvalid_0's auc: 0.781042\n"
     ]
    },
    {
     "name": "stderr",
     "output_type": "stream",
     "text": [
      "/anaconda3/lib/python3.6/site-packages/sklearn/preprocessing/label.py:151: DeprecationWarning: The truth value of an empty array is ambiguous. Returning False, but in future this will result in an error. Use `array.size > 0` to check that an array is not empty.\n",
      "  if diff:\n",
      "/anaconda3/lib/python3.6/site-packages/sklearn/preprocessing/label.py:151: DeprecationWarning: The truth value of an empty array is ambiguous. Returning False, but in future this will result in an error. Use `array.size > 0` to check that an array is not empty.\n",
      "  if diff:\n",
      "/anaconda3/lib/python3.6/site-packages/sklearn/preprocessing/label.py:151: DeprecationWarning: The truth value of an empty array is ambiguous. Returning False, but in future this will result in an error. Use `array.size > 0` to check that an array is not empty.\n",
      "  if diff:\n",
      "/anaconda3/lib/python3.6/site-packages/sklearn/preprocessing/label.py:151: DeprecationWarning: The truth value of an empty array is ambiguous. Returning False, but in future this will result in an error. Use `array.size > 0` to check that an array is not empty.\n",
      "  if diff:\n"
     ]
    },
    {
     "name": "stdout",
     "output_type": "stream",
     "text": [
      "[1]\tvalid_0's binary_logloss: 0.64019\tvalid_0's auc: 0.767206\n",
      "Training until validation scores don't improve for 5 rounds.\n",
      "[2]\tvalid_0's binary_logloss: 0.599\tvalid_0's auc: 0.77399\n",
      "[3]\tvalid_0's binary_logloss: 0.566699\tvalid_0's auc: 0.777305\n",
      "[4]\tvalid_0's binary_logloss: 0.540638\tvalid_0's auc: 0.781001\n",
      "[5]\tvalid_0's binary_logloss: 0.519987\tvalid_0's auc: 0.78001\n",
      "[6]\tvalid_0's binary_logloss: 0.502617\tvalid_0's auc: 0.782939\n",
      "[7]\tvalid_0's binary_logloss: 0.489208\tvalid_0's auc: 0.782713\n",
      "[8]\tvalid_0's binary_logloss: 0.477689\tvalid_0's auc: 0.78346\n",
      "[9]\tvalid_0's binary_logloss: 0.468394\tvalid_0's auc: 0.784765\n",
      "[10]\tvalid_0's binary_logloss: 0.461258\tvalid_0's auc: 0.785123\n",
      "[11]\tvalid_0's binary_logloss: 0.455317\tvalid_0's auc: 0.785109\n",
      "[12]\tvalid_0's binary_logloss: 0.450328\tvalid_0's auc: 0.785162\n",
      "[13]\tvalid_0's binary_logloss: 0.446113\tvalid_0's auc: 0.786075\n",
      "[14]\tvalid_0's binary_logloss: 0.442587\tvalid_0's auc: 0.786611\n",
      "[15]\tvalid_0's binary_logloss: 0.439679\tvalid_0's auc: 0.786671\n",
      "[16]\tvalid_0's binary_logloss: 0.437702\tvalid_0's auc: 0.786333\n",
      "[17]\tvalid_0's binary_logloss: 0.436082\tvalid_0's auc: 0.786417\n",
      "[18]\tvalid_0's binary_logloss: 0.435051\tvalid_0's auc: 0.785271\n",
      "[19]\tvalid_0's binary_logloss: 0.433406\tvalid_0's auc: 0.785731\n",
      "[20]\tvalid_0's binary_logloss: 0.432238\tvalid_0's auc: 0.786454\n",
      "Early stopping, best iteration is:\n",
      "[15]\tvalid_0's binary_logloss: 0.439679\tvalid_0's auc: 0.786671\n",
      "[1]\tvalid_0's binary_logloss: 0.639033\tvalid_0's auc: 0.769764\n",
      "Training until validation scores don't improve for 5 rounds.\n",
      "[2]\tvalid_0's binary_logloss: 0.597748\tvalid_0's auc: 0.771314\n",
      "[3]\tvalid_0's binary_logloss: 0.564685\tvalid_0's auc: 0.779171\n",
      "[4]\tvalid_0's binary_logloss: 0.538587\tvalid_0's auc: 0.782116\n",
      "[5]\tvalid_0's binary_logloss: 0.517405\tvalid_0's auc: 0.783582\n",
      "[6]\tvalid_0's binary_logloss: 0.500123\tvalid_0's auc: 0.785882\n",
      "[7]\tvalid_0's binary_logloss: 0.486203\tvalid_0's auc: 0.786939\n",
      "[8]\tvalid_0's binary_logloss: 0.474954\tvalid_0's auc: 0.78691\n",
      "[9]\tvalid_0's binary_logloss: 0.465762\tvalid_0's auc: 0.7864\n",
      "[10]\tvalid_0's binary_logloss: 0.458653\tvalid_0's auc: 0.786498\n",
      "[11]\tvalid_0's binary_logloss: 0.452683\tvalid_0's auc: 0.786328\n",
      "[12]\tvalid_0's binary_logloss: 0.447716\tvalid_0's auc: 0.786661\n",
      "Early stopping, best iteration is:\n",
      "[7]\tvalid_0's binary_logloss: 0.486203\tvalid_0's auc: 0.786939\n",
      "[1]\tvalid_0's binary_logloss: 0.639528\tvalid_0's auc: 0.766616\n",
      "Training until validation scores don't improve for 5 rounds.\n",
      "[2]\tvalid_0's binary_logloss: 0.598161\tvalid_0's auc: 0.770443\n",
      "[3]\tvalid_0's binary_logloss: 0.565317\tvalid_0's auc: 0.77667\n",
      "[4]\tvalid_0's binary_logloss: 0.539537\tvalid_0's auc: 0.777441\n",
      "[5]\tvalid_0's binary_logloss: 0.518774\tvalid_0's auc: 0.778245\n",
      "[6]\tvalid_0's binary_logloss: 0.502073\tvalid_0's auc: 0.779138\n"
     ]
    },
    {
     "name": "stderr",
     "output_type": "stream",
     "text": [
      "/anaconda3/lib/python3.6/site-packages/sklearn/preprocessing/label.py:151: DeprecationWarning: The truth value of an empty array is ambiguous. Returning False, but in future this will result in an error. Use `array.size > 0` to check that an array is not empty.\n",
      "  if diff:\n",
      "/anaconda3/lib/python3.6/site-packages/sklearn/preprocessing/label.py:151: DeprecationWarning: The truth value of an empty array is ambiguous. Returning False, but in future this will result in an error. Use `array.size > 0` to check that an array is not empty.\n",
      "  if diff:\n",
      "/anaconda3/lib/python3.6/site-packages/sklearn/preprocessing/label.py:151: DeprecationWarning: The truth value of an empty array is ambiguous. Returning False, but in future this will result in an error. Use `array.size > 0` to check that an array is not empty.\n",
      "  if diff:\n"
     ]
    },
    {
     "name": "stdout",
     "output_type": "stream",
     "text": [
      "[7]\tvalid_0's binary_logloss: 0.488324\tvalid_0's auc: 0.781021\n",
      "[8]\tvalid_0's binary_logloss: 0.477306\tvalid_0's auc: 0.781042\n",
      "[9]\tvalid_0's binary_logloss: 0.468505\tvalid_0's auc: 0.77965\n",
      "[10]\tvalid_0's binary_logloss: 0.461247\tvalid_0's auc: 0.780211\n",
      "[11]\tvalid_0's binary_logloss: 0.455611\tvalid_0's auc: 0.778416\n",
      "[12]\tvalid_0's binary_logloss: 0.450794\tvalid_0's auc: 0.779468\n",
      "[13]\tvalid_0's binary_logloss: 0.446885\tvalid_0's auc: 0.779284\n",
      "Early stopping, best iteration is:\n",
      "[8]\tvalid_0's binary_logloss: 0.477306\tvalid_0's auc: 0.781042\n",
      "[1]\tvalid_0's binary_logloss: 0.64019\tvalid_0's auc: 0.767206\n",
      "Training until validation scores don't improve for 5 rounds.\n",
      "[2]\tvalid_0's binary_logloss: 0.599\tvalid_0's auc: 0.77399\n",
      "[3]\tvalid_0's binary_logloss: 0.566699\tvalid_0's auc: 0.777305\n",
      "[4]\tvalid_0's binary_logloss: 0.540638\tvalid_0's auc: 0.781001\n",
      "[5]\tvalid_0's binary_logloss: 0.519987\tvalid_0's auc: 0.78001"
     ]
    },
    {
     "name": "stderr",
     "output_type": "stream",
     "text": [
      "/anaconda3/lib/python3.6/site-packages/sklearn/preprocessing/label.py:151: DeprecationWarning: The truth value of an empty array is ambiguous. Returning False, but in future this will result in an error. Use `array.size > 0` to check that an array is not empty.\n",
      "  if diff:\n"
     ]
    },
    {
     "name": "stdout",
     "output_type": "stream",
     "text": [
      "\n",
      "[6]\tvalid_0's binary_logloss: 0.502617\tvalid_0's auc: 0.782939\n",
      "[7]\tvalid_0's binary_logloss: 0.489208\tvalid_0's auc: 0.782713\n",
      "[8]\tvalid_0's binary_logloss: 0.477689\tvalid_0's auc: 0.78346\n",
      "[9]\tvalid_0's binary_logloss: 0.468394\tvalid_0's auc: 0.784765\n",
      "[10]\tvalid_0's binary_logloss: 0.461258\tvalid_0's auc: 0.785123\n",
      "[11]\tvalid_0's binary_logloss: 0.455317\tvalid_0's auc: 0.785109\n",
      "[12]\tvalid_0's binary_logloss: 0.450328\tvalid_0's auc: 0.785162\n",
      "[13]\tvalid_0's binary_logloss: 0.446113\tvalid_0's auc: 0.786075\n",
      "[14]\tvalid_0's binary_logloss: 0.442587\tvalid_0's auc: 0.786611\n",
      "[15]\tvalid_0's binary_logloss: 0.439679\tvalid_0's auc: 0.786671\n",
      "[16]\tvalid_0's binary_logloss: 0.437702\tvalid_0's auc: 0.786333\n",
      "[17]\tvalid_0's binary_logloss: 0.436082\tvalid_0's auc: 0.786417\n",
      "[18]\tvalid_0's binary_logloss: 0.435051\tvalid_0's auc: 0.785271\n",
      "[19]\tvalid_0's binary_logloss: 0.433406\tvalid_0's auc: 0.785731\n",
      "[20]\tvalid_0's binary_logloss: 0.432238\tvalid_0's auc: 0.786454\n",
      "Early stopping, best iteration is:\n",
      "[15]\tvalid_0's binary_logloss: 0.439679\tvalid_0's auc: 0.786671\n"
     ]
    },
    {
     "name": "stderr",
     "output_type": "stream",
     "text": [
      "/anaconda3/lib/python3.6/site-packages/sklearn/preprocessing/label.py:151: DeprecationWarning: The truth value of an empty array is ambiguous. Returning False, but in future this will result in an error. Use `array.size > 0` to check that an array is not empty.\n",
      "  if diff:\n",
      "/anaconda3/lib/python3.6/site-packages/sklearn/preprocessing/label.py:151: DeprecationWarning: The truth value of an empty array is ambiguous. Returning False, but in future this will result in an error. Use `array.size > 0` to check that an array is not empty.\n",
      "  if diff:\n",
      "/anaconda3/lib/python3.6/site-packages/sklearn/preprocessing/label.py:151: DeprecationWarning: The truth value of an empty array is ambiguous. Returning False, but in future this will result in an error. Use `array.size > 0` to check that an array is not empty.\n",
      "  if diff:\n"
     ]
    },
    {
     "name": "stdout",
     "output_type": "stream",
     "text": [
      "[1]\tvalid_0's binary_logloss: 0.639033\tvalid_0's auc: 0.769764\n",
      "Training until validation scores don't improve for 5 rounds.\n",
      "[2]\tvalid_0's binary_logloss: 0.597748\tvalid_0's auc: 0.771314\n",
      "[3]\tvalid_0's binary_logloss: 0.564685\tvalid_0's auc: 0.779171\n",
      "[4]\tvalid_0's binary_logloss: 0.538587\tvalid_0's auc: 0.782116\n",
      "[5]\tvalid_0's binary_logloss: 0.517405\tvalid_0's auc: 0.783582\n",
      "[6]\tvalid_0's binary_logloss: 0.500123\tvalid_0's auc: 0.785882\n",
      "[7]\tvalid_0's binary_logloss: 0.486203\tvalid_0's auc: 0.786939\n",
      "[8]\tvalid_0's binary_logloss: 0.474954\tvalid_0's auc: 0.78691\n",
      "[9]\tvalid_0's binary_logloss: 0.465762\tvalid_0's auc: 0.7864\n",
      "[10]\tvalid_0's binary_logloss: 0.458653\tvalid_0's auc: 0.786498\n",
      "[11]\tvalid_0's binary_logloss: 0.452683\tvalid_0's auc: 0.786328\n",
      "[12]\tvalid_0's binary_logloss: 0.447716\tvalid_0's auc: 0.786661\n",
      "Early stopping, best iteration is:\n",
      "[7]\tvalid_0's binary_logloss: 0.486203\tvalid_0's auc: 0.786939\n"
     ]
    },
    {
     "name": "stderr",
     "output_type": "stream",
     "text": [
      "/anaconda3/lib/python3.6/site-packages/sklearn/preprocessing/label.py:151: DeprecationWarning: The truth value of an empty array is ambiguous. Returning False, but in future this will result in an error. Use `array.size > 0` to check that an array is not empty.\n",
      "  if diff:\n"
     ]
    },
    {
     "name": "stdout",
     "output_type": "stream",
     "text": [
      "[1]\tvalid_0's binary_logloss: 0.639528\tvalid_0's auc: 0.766616\n",
      "Training until validation scores don't improve for 5 rounds.\n",
      "[2]\tvalid_0's binary_logloss: 0.598161\tvalid_0's auc: 0.770443\n",
      "[3]\tvalid_0's binary_logloss: 0.565317\tvalid_0's auc: 0.77667\n",
      "[4]\tvalid_0's binary_logloss: 0.539537\tvalid_0's auc: 0.777441\n",
      "[5]\tvalid_0's binary_logloss: 0.518774\tvalid_0's auc: 0.778245\n",
      "[6]\tvalid_0's binary_logloss: 0.502073\tvalid_0's auc: 0.779138\n",
      "[7]\tvalid_0's binary_logloss: 0.488324\tvalid_0's auc: 0.781021\n",
      "[8]\tvalid_0's binary_logloss: 0.477306\tvalid_0's auc: 0.781042\n",
      "[9]\tvalid_0's binary_logloss: 0.468505\tvalid_0's auc: 0.77965\n",
      "[10]\tvalid_0's binary_logloss: 0.461247\tvalid_0's auc: 0.780211\n",
      "[11]\tvalid_0's binary_logloss: 0.455611\tvalid_0's auc: 0.778416\n",
      "[12]\tvalid_0's binary_logloss: 0.450794\tvalid_0's auc: 0.779468\n",
      "[13]\tvalid_0's binary_logloss: 0.446885\tvalid_0's auc: 0.779284\n",
      "Early stopping, best iteration is:\n",
      "[8]\tvalid_0's binary_logloss: 0.477306\tvalid_0's auc: 0.781042\n"
     ]
    },
    {
     "name": "stderr",
     "output_type": "stream",
     "text": [
      "/anaconda3/lib/python3.6/site-packages/sklearn/preprocessing/label.py:151: DeprecationWarning: The truth value of an empty array is ambiguous. Returning False, but in future this will result in an error. Use `array.size > 0` to check that an array is not empty.\n",
      "  if diff:\n",
      "/anaconda3/lib/python3.6/site-packages/sklearn/preprocessing/label.py:151: DeprecationWarning: The truth value of an empty array is ambiguous. Returning False, but in future this will result in an error. Use `array.size > 0` to check that an array is not empty.\n",
      "  if diff:\n"
     ]
    },
    {
     "name": "stdout",
     "output_type": "stream",
     "text": [
      "[1]\tvalid_0's binary_logloss: 0.64019\tvalid_0's auc: 0.767206\n",
      "Training until validation scores don't improve for 5 rounds.\n",
      "[2]\tvalid_0's binary_logloss: 0.599\tvalid_0's auc: 0.77399\n",
      "[3]\tvalid_0's binary_logloss: 0.566699\tvalid_0's auc: 0.777305\n",
      "[4]\tvalid_0's binary_logloss: 0.540638\tvalid_0's auc: 0.781001\n",
      "[5]\tvalid_0's binary_logloss: 0.519987\tvalid_0's auc: 0.78001\n",
      "[6]\tvalid_0's binary_logloss: 0.502617\tvalid_0's auc: 0.782939\n",
      "[7]\tvalid_0's binary_logloss: 0.489208\tvalid_0's auc: 0.782713\n",
      "[8]\tvalid_0's binary_logloss: 0.477689\tvalid_0's auc: 0.78346\n",
      "[9]\tvalid_0's binary_logloss: 0.468394\tvalid_0's auc: 0.784765\n",
      "[10]\tvalid_0's binary_logloss: 0.461258\tvalid_0's auc: 0.785123\n",
      "[11]\tvalid_0's binary_logloss: 0.455317\tvalid_0's auc: 0.785109\n",
      "[12]\tvalid_0's binary_logloss: 0.450328\tvalid_0's auc: 0.785162\n",
      "[13]\tvalid_0's binary_logloss: 0.446113\tvalid_0's auc: 0.786075\n",
      "[14]\tvalid_0's binary_logloss: 0.442587\tvalid_0's auc: 0.786611\n",
      "[15]\tvalid_0's binary_logloss: 0.439679\tvalid_0's auc: 0.786671\n",
      "[16]\tvalid_0's binary_logloss: 0.437702\tvalid_0's auc: 0.786333\n",
      "[17]\tvalid_0's binary_logloss: 0.436082\tvalid_0's auc: 0.786417\n",
      "[18]\tvalid_0's binary_logloss: 0.435051\tvalid_0's auc: 0.785271\n",
      "[19]\tvalid_0's binary_logloss: 0.433406\tvalid_0's auc: 0.785731\n",
      "[20]\tvalid_0's binary_logloss: 0.432238\tvalid_0's auc: 0.786454\n",
      "Early stopping, best iteration is:\n",
      "[15]\tvalid_0's binary_logloss: 0.439679\tvalid_0's auc: 0.786671\n"
     ]
    },
    {
     "name": "stderr",
     "output_type": "stream",
     "text": [
      "/anaconda3/lib/python3.6/site-packages/sklearn/preprocessing/label.py:151: DeprecationWarning: The truth value of an empty array is ambiguous. Returning False, but in future this will result in an error. Use `array.size > 0` to check that an array is not empty.\n",
      "  if diff:\n",
      "/anaconda3/lib/python3.6/site-packages/sklearn/preprocessing/label.py:151: DeprecationWarning: The truth value of an empty array is ambiguous. Returning False, but in future this will result in an error. Use `array.size > 0` to check that an array is not empty.\n",
      "  if diff:\n"
     ]
    },
    {
     "name": "stdout",
     "output_type": "stream",
     "text": [
      "[1]\tvalid_0's binary_logloss: 0.639033\tvalid_0's auc: 0.769764\n",
      "Training until validation scores don't improve for 5 rounds.\n",
      "[2]\tvalid_0's binary_logloss: 0.597748\tvalid_0's auc: 0.771314\n",
      "[3]\tvalid_0's binary_logloss: 0.564685\tvalid_0's auc: 0.779171\n",
      "[4]\tvalid_0's binary_logloss: 0.538587\tvalid_0's auc: 0.782116\n",
      "[5]\tvalid_0's binary_logloss: 0.517405\tvalid_0's auc: 0.783582\n",
      "[6]\tvalid_0's binary_logloss: 0.500123\tvalid_0's auc: 0.785882\n",
      "[7]\tvalid_0's binary_logloss: 0.486203\tvalid_0's auc: 0.786939\n",
      "[8]\tvalid_0's binary_logloss: 0.474954\tvalid_0's auc: 0.78691\n",
      "[9]\tvalid_0's binary_logloss: 0.465762\tvalid_0's auc: 0.7864\n",
      "[10]\tvalid_0's binary_logloss: 0.458653\tvalid_0's auc: 0.786498\n",
      "[11]\tvalid_0's binary_logloss: 0.452683\tvalid_0's auc: 0.786328\n",
      "[12]\tvalid_0's binary_logloss: 0.447716\tvalid_0's auc: 0.786661\n",
      "Early stopping, best iteration is:\n",
      "[7]\tvalid_0's binary_logloss: 0.486203\tvalid_0's auc: 0.786939\n",
      "[1]\tvalid_0's binary_logloss: 0.639528\tvalid_0's auc: 0.766616"
     ]
    },
    {
     "name": "stderr",
     "output_type": "stream",
     "text": [
      "/anaconda3/lib/python3.6/site-packages/sklearn/preprocessing/label.py:151: DeprecationWarning: The truth value of an empty array is ambiguous. Returning False, but in future this will result in an error. Use `array.size > 0` to check that an array is not empty.\n",
      "  if diff:\n",
      "/anaconda3/lib/python3.6/site-packages/sklearn/preprocessing/label.py:151: DeprecationWarning: The truth value of an empty array is ambiguous. Returning False, but in future this will result in an error. Use `array.size > 0` to check that an array is not empty.\n",
      "  if diff:\n"
     ]
    },
    {
     "name": "stdout",
     "output_type": "stream",
     "text": [
      "\n",
      "Training until validation scores don't improve for 5 rounds.\n",
      "[2]\tvalid_0's binary_logloss: 0.598161\tvalid_0's auc: 0.770443\n",
      "[3]\tvalid_0's binary_logloss: 0.565317\tvalid_0's auc: 0.77667\n",
      "[4]\tvalid_0's binary_logloss: 0.539537\tvalid_0's auc: 0.777441\n",
      "[5]\tvalid_0's binary_logloss: 0.518774\tvalid_0's auc: 0.778245\n",
      "[6]\tvalid_0's binary_logloss: 0.502073\tvalid_0's auc: 0.779138\n",
      "[7]\tvalid_0's binary_logloss: 0.488324\tvalid_0's auc: 0.781021\n",
      "[8]\tvalid_0's binary_logloss: 0.477306\tvalid_0's auc: 0.781042\n",
      "[9]\tvalid_0's binary_logloss: 0.468505\tvalid_0's auc: 0.77965\n",
      "[10]\tvalid_0's binary_logloss: 0.461247\tvalid_0's auc: 0.780211\n",
      "[11]\tvalid_0's binary_logloss: 0.455611\tvalid_0's auc: 0.778416\n",
      "[12]\tvalid_0's binary_logloss: 0.450794\tvalid_0's auc: 0.779468\n",
      "[13]\tvalid_0's binary_logloss: 0.446885\tvalid_0's auc: 0.779284\n",
      "Early stopping, best iteration is:\n",
      "[8]\tvalid_0's binary_logloss: 0.477306\tvalid_0's auc: 0.781042\n"
     ]
    },
    {
     "name": "stderr",
     "output_type": "stream",
     "text": [
      "/anaconda3/lib/python3.6/site-packages/sklearn/preprocessing/label.py:151: DeprecationWarning: The truth value of an empty array is ambiguous. Returning False, but in future this will result in an error. Use `array.size > 0` to check that an array is not empty.\n",
      "  if diff:\n",
      "/anaconda3/lib/python3.6/site-packages/sklearn/preprocessing/label.py:151: DeprecationWarning: The truth value of an empty array is ambiguous. Returning False, but in future this will result in an error. Use `array.size > 0` to check that an array is not empty.\n",
      "  if diff:\n"
     ]
    },
    {
     "name": "stdout",
     "output_type": "stream",
     "text": [
      "[1]\tvalid_0's binary_logloss: 0.64019\tvalid_0's auc: 0.767206\n",
      "Training until validation scores don't improve for 5 rounds.\n",
      "[2]\tvalid_0's binary_logloss: 0.599\tvalid_0's auc: 0.77399\n",
      "[3]\tvalid_0's binary_logloss: 0.566699\tvalid_0's auc: 0.777305\n",
      "[4]\tvalid_0's binary_logloss: 0.540638\tvalid_0's auc: 0.781001\n",
      "[5]\tvalid_0's binary_logloss: 0.519987\tvalid_0's auc: 0.78001\n",
      "[6]\tvalid_0's binary_logloss: 0.502617\tvalid_0's auc: 0.782939\n",
      "[7]\tvalid_0's binary_logloss: 0.489208\tvalid_0's auc: 0.782713\n",
      "[8]\tvalid_0's binary_logloss: 0.477689\tvalid_0's auc: 0.78346\n",
      "[9]\tvalid_0's binary_logloss: 0.468394\tvalid_0's auc: 0.784765\n",
      "[10]\tvalid_0's binary_logloss: 0.461258\tvalid_0's auc: 0.785123\n",
      "[11]\tvalid_0's binary_logloss: 0.455317\tvalid_0's auc: 0.785109\n",
      "[12]\tvalid_0's binary_logloss: 0.450328\tvalid_0's auc: 0.785162\n",
      "[13]\tvalid_0's binary_logloss: 0.446113\tvalid_0's auc: 0.786075\n",
      "[14]\tvalid_0's binary_logloss: 0.442587\tvalid_0's auc: 0.786611\n",
      "[15]\tvalid_0's binary_logloss: 0.439679\tvalid_0's auc: 0.786671\n",
      "[16]\tvalid_0's binary_logloss: 0.437702\tvalid_0's auc: 0.786333\n",
      "[17]\tvalid_0's binary_logloss: 0.436082\tvalid_0's auc: 0.786417\n",
      "[18]\tvalid_0's binary_logloss: 0.435051\tvalid_0's auc: 0.785271\n",
      "[19]\tvalid_0's binary_logloss: 0.433406\tvalid_0's auc: 0.785731\n",
      "[20]\tvalid_0's binary_logloss: 0.432238\tvalid_0's auc: 0.786454\n",
      "Early stopping, best iteration is:\n",
      "[15]\tvalid_0's binary_logloss: 0.439679\tvalid_0's auc: 0.786671\n"
     ]
    },
    {
     "name": "stderr",
     "output_type": "stream",
     "text": [
      "/anaconda3/lib/python3.6/site-packages/sklearn/preprocessing/label.py:151: DeprecationWarning: The truth value of an empty array is ambiguous. Returning False, but in future this will result in an error. Use `array.size > 0` to check that an array is not empty.\n",
      "  if diff:\n",
      "/anaconda3/lib/python3.6/site-packages/sklearn/preprocessing/label.py:151: DeprecationWarning: The truth value of an empty array is ambiguous. Returning False, but in future this will result in an error. Use `array.size > 0` to check that an array is not empty.\n",
      "  if diff:\n"
     ]
    },
    {
     "name": "stdout",
     "output_type": "stream",
     "text": [
      "[1]\tvalid_0's binary_logloss: 0.639033\tvalid_0's auc: 0.769764\n",
      "Training until validation scores don't improve for 5 rounds.\n",
      "[2]\tvalid_0's binary_logloss: 0.597748\tvalid_0's auc: 0.771314\n",
      "[3]\tvalid_0's binary_logloss: 0.564685\tvalid_0's auc: 0.779171\n",
      "[4]\tvalid_0's binary_logloss: 0.538587\tvalid_0's auc: 0.782116\n",
      "[5]\tvalid_0's binary_logloss: 0.517405\tvalid_0's auc: 0.783582\n",
      "[6]\tvalid_0's binary_logloss: 0.500123\tvalid_0's auc: 0.785882\n",
      "[7]\tvalid_0's binary_logloss: 0.486203\tvalid_0's auc: 0.786939\n",
      "[8]\tvalid_0's binary_logloss: 0.474954\tvalid_0's auc: 0.78691\n",
      "[9]\tvalid_0's binary_logloss: 0.465762\tvalid_0's auc: 0.7864\n",
      "[10]\tvalid_0's binary_logloss: 0.458653\tvalid_0's auc: 0.786498\n",
      "[11]\tvalid_0's binary_logloss: 0.452683\tvalid_0's auc: 0.786328\n",
      "[12]\tvalid_0's binary_logloss: 0.447716\tvalid_0's auc: 0.786661\n",
      "Early stopping, best iteration is:\n",
      "[7]\tvalid_0's binary_logloss: 0.486203\tvalid_0's auc: 0.786939\n"
     ]
    },
    {
     "name": "stderr",
     "output_type": "stream",
     "text": [
      "/anaconda3/lib/python3.6/site-packages/sklearn/preprocessing/label.py:151: DeprecationWarning: The truth value of an empty array is ambiguous. Returning False, but in future this will result in an error. Use `array.size > 0` to check that an array is not empty.\n",
      "  if diff:\n",
      "/anaconda3/lib/python3.6/site-packages/sklearn/preprocessing/label.py:151: DeprecationWarning: The truth value of an empty array is ambiguous. Returning False, but in future this will result in an error. Use `array.size > 0` to check that an array is not empty.\n",
      "  if diff:\n"
     ]
    },
    {
     "name": "stdout",
     "output_type": "stream",
     "text": [
      "[1]\tvalid_0's binary_logloss: 0.639528\tvalid_0's auc: 0.766616\n",
      "Training until validation scores don't improve for 5 rounds.\n",
      "[2]\tvalid_0's binary_logloss: 0.598161\tvalid_0's auc: 0.770443\n",
      "[3]\tvalid_0's binary_logloss: 0.565317\tvalid_0's auc: 0.77667\n",
      "[4]\tvalid_0's binary_logloss: 0.539537\tvalid_0's auc: 0.777441\n",
      "[5]\tvalid_0's binary_logloss: 0.518774\tvalid_0's auc: 0.778245\n",
      "[6]\tvalid_0's binary_logloss: 0.502073\tvalid_0's auc: 0.779138\n",
      "[7]\tvalid_0's binary_logloss: 0.488324\tvalid_0's auc: 0.781021\n",
      "[8]\tvalid_0's binary_logloss: 0.477306\tvalid_0's auc: 0.781042\n",
      "[9]\tvalid_0's binary_logloss: 0.468505\tvalid_0's auc: 0.77965\n",
      "[10]\tvalid_0's binary_logloss: 0.461247\tvalid_0's auc: 0.780211\n",
      "[11]\tvalid_0's binary_logloss: 0.455611\tvalid_0's auc: 0.778416\n",
      "[12]\tvalid_0's binary_logloss: 0.450794\tvalid_0's auc: 0.779468\n",
      "[13]\tvalid_0's binary_logloss: 0.446885\tvalid_0's auc: 0.779284\n",
      "Early stopping, best iteration is:\n",
      "[8]\tvalid_0's binary_logloss: 0.477306\tvalid_0's auc: 0.781042\n",
      "[1]\tvalid_0's binary_logloss: 0.64019\tvalid_0's auc: 0.767206\n",
      "Training until validation scores don't improve for 5 rounds.\n"
     ]
    },
    {
     "name": "stderr",
     "output_type": "stream",
     "text": [
      "/anaconda3/lib/python3.6/site-packages/sklearn/preprocessing/label.py:151: DeprecationWarning: The truth value of an empty array is ambiguous. Returning False, but in future this will result in an error. Use `array.size > 0` to check that an array is not empty.\n",
      "  if diff:\n",
      "/anaconda3/lib/python3.6/site-packages/sklearn/preprocessing/label.py:151: DeprecationWarning: The truth value of an empty array is ambiguous. Returning False, but in future this will result in an error. Use `array.size > 0` to check that an array is not empty.\n",
      "  if diff:\n"
     ]
    },
    {
     "name": "stdout",
     "output_type": "stream",
     "text": [
      "[2]\tvalid_0's binary_logloss: 0.599\tvalid_0's auc: 0.77399\n",
      "[3]\tvalid_0's binary_logloss: 0.566699\tvalid_0's auc: 0.777305\n",
      "[4]\tvalid_0's binary_logloss: 0.540638\tvalid_0's auc: 0.781001\n",
      "[5]\tvalid_0's binary_logloss: 0.519987\tvalid_0's auc: 0.78001\n",
      "[6]\tvalid_0's binary_logloss: 0.502617\tvalid_0's auc: 0.782939\n",
      "[7]\tvalid_0's binary_logloss: 0.489208\tvalid_0's auc: 0.782713\n",
      "[8]\tvalid_0's binary_logloss: 0.477689\tvalid_0's auc: 0.78346\n",
      "[9]\tvalid_0's binary_logloss: 0.468394\tvalid_0's auc: 0.784765\n",
      "[10]\tvalid_0's binary_logloss: 0.461258\tvalid_0's auc: 0.785123\n",
      "[11]\tvalid_0's binary_logloss: 0.455317\tvalid_0's auc: 0.785109\n",
      "[12]\tvalid_0's binary_logloss: 0.450328\tvalid_0's auc: 0.785162\n",
      "[13]\tvalid_0's binary_logloss: 0.446113\tvalid_0's auc: 0.786075\n",
      "[14]\tvalid_0's binary_logloss: 0.442587\tvalid_0's auc: 0.786611\n",
      "[15]\tvalid_0's binary_logloss: 0.439679\tvalid_0's auc: 0.786671\n",
      "[16]\tvalid_0's binary_logloss: 0.437702\tvalid_0's auc: 0.786333\n",
      "[17]\tvalid_0's binary_logloss: 0.436082\tvalid_0's auc: 0.786417\n",
      "[18]\tvalid_0's binary_logloss: 0.435051\tvalid_0's auc: 0.785271\n",
      "[19]\tvalid_0's binary_logloss: 0.433406\tvalid_0's auc: 0.785731\n",
      "[20]\tvalid_0's binary_logloss: 0.432238\tvalid_0's auc: 0.786454\n",
      "Early stopping, best iteration is:\n",
      "[15]\tvalid_0's binary_logloss: 0.439679\tvalid_0's auc: 0.786671\n"
     ]
    },
    {
     "name": "stderr",
     "output_type": "stream",
     "text": [
      "/anaconda3/lib/python3.6/site-packages/sklearn/preprocessing/label.py:151: DeprecationWarning: The truth value of an empty array is ambiguous. Returning False, but in future this will result in an error. Use `array.size > 0` to check that an array is not empty.\n",
      "  if diff:\n",
      "/anaconda3/lib/python3.6/site-packages/sklearn/preprocessing/label.py:151: DeprecationWarning: The truth value of an empty array is ambiguous. Returning False, but in future this will result in an error. Use `array.size > 0` to check that an array is not empty.\n",
      "  if diff:\n"
     ]
    },
    {
     "name": "stdout",
     "output_type": "stream",
     "text": [
      "[1]\tvalid_0's binary_logloss: 0.639033\tvalid_0's auc: 0.769764\n",
      "Training until validation scores don't improve for 5 rounds.\n",
      "[2]\tvalid_0's binary_logloss: 0.597748\tvalid_0's auc: 0.771314\n",
      "[3]\tvalid_0's binary_logloss: 0.564685\tvalid_0's auc: 0.779171\n",
      "[4]\tvalid_0's binary_logloss: 0.538587\tvalid_0's auc: 0.782116\n",
      "[5]\tvalid_0's binary_logloss: 0.517405\tvalid_0's auc: 0.783582\n",
      "[6]\tvalid_0's binary_logloss: 0.500123\tvalid_0's auc: 0.785882\n",
      "[7]\tvalid_0's binary_logloss: 0.486203\tvalid_0's auc: 0.786939\n",
      "[8]\tvalid_0's binary_logloss: 0.474954\tvalid_0's auc: 0.78691\n",
      "[9]\tvalid_0's binary_logloss: 0.465762\tvalid_0's auc: 0.7864\n",
      "[10]\tvalid_0's binary_logloss: 0.458653\tvalid_0's auc: 0.786498\n",
      "[11]\tvalid_0's binary_logloss: 0.452683\tvalid_0's auc: 0.786328\n",
      "[12]\tvalid_0's binary_logloss: 0.447716\tvalid_0's auc: 0.786661\n",
      "Early stopping, best iteration is:\n",
      "[7]\tvalid_0's binary_logloss: 0.486203\tvalid_0's auc: 0.786939\n"
     ]
    },
    {
     "name": "stderr",
     "output_type": "stream",
     "text": [
      "/anaconda3/lib/python3.6/site-packages/sklearn/preprocessing/label.py:151: DeprecationWarning: The truth value of an empty array is ambiguous. Returning False, but in future this will result in an error. Use `array.size > 0` to check that an array is not empty.\n",
      "  if diff:\n",
      "/anaconda3/lib/python3.6/site-packages/sklearn/preprocessing/label.py:151: DeprecationWarning: The truth value of an empty array is ambiguous. Returning False, but in future this will result in an error. Use `array.size > 0` to check that an array is not empty.\n",
      "  if diff:\n"
     ]
    },
    {
     "name": "stdout",
     "output_type": "stream",
     "text": [
      "[1]\tvalid_0's binary_logloss: 0.639528\tvalid_0's auc: 0.766616\n",
      "Training until validation scores don't improve for 5 rounds.\n",
      "[2]\tvalid_0's binary_logloss: 0.598161\tvalid_0's auc: 0.770443\n",
      "[3]\tvalid_0's binary_logloss: 0.565317\tvalid_0's auc: 0.77667\n",
      "[4]\tvalid_0's binary_logloss: 0.539537\tvalid_0's auc: 0.777441\n",
      "[5]\tvalid_0's binary_logloss: 0.518774\tvalid_0's auc: 0.778245\n",
      "[6]\tvalid_0's binary_logloss: 0.502073\tvalid_0's auc: 0.779138\n",
      "[7]\tvalid_0's binary_logloss: 0.488324\tvalid_0's auc: 0.781021\n",
      "[8]\tvalid_0's binary_logloss: 0.477306\tvalid_0's auc: 0.781042\n",
      "[9]\tvalid_0's binary_logloss: 0.468505\tvalid_0's auc: 0.77965\n",
      "[10]\tvalid_0's binary_logloss: 0.461247\tvalid_0's auc: 0.780211\n",
      "[11]\tvalid_0's binary_logloss: 0.455611\tvalid_0's auc: 0.778416\n",
      "[12]\tvalid_0's binary_logloss: 0.450794\tvalid_0's auc: 0.779468\n",
      "[13]\tvalid_0's binary_logloss: 0.446885\tvalid_0's auc: 0.779284\n",
      "Early stopping, best iteration is:\n",
      "[8]\tvalid_0's binary_logloss: 0.477306\tvalid_0's auc: 0.781042\n"
     ]
    },
    {
     "name": "stderr",
     "output_type": "stream",
     "text": [
      "/anaconda3/lib/python3.6/site-packages/sklearn/preprocessing/label.py:151: DeprecationWarning: The truth value of an empty array is ambiguous. Returning False, but in future this will result in an error. Use `array.size > 0` to check that an array is not empty.\n",
      "  if diff:\n",
      "/anaconda3/lib/python3.6/site-packages/sklearn/preprocessing/label.py:151: DeprecationWarning: The truth value of an empty array is ambiguous. Returning False, but in future this will result in an error. Use `array.size > 0` to check that an array is not empty.\n",
      "  if diff:\n"
     ]
    },
    {
     "name": "stdout",
     "output_type": "stream",
     "text": [
      "[1]\tvalid_0's binary_logloss: 0.630458\tvalid_0's auc: 0.767206\n",
      "Training until validation scores don't improve for 5 rounds.\n",
      "[2]\tvalid_0's binary_logloss: 0.58394\tvalid_0's auc: 0.776259\n",
      "[3]\tvalid_0's binary_logloss: 0.549311\tvalid_0's auc: 0.778352\n",
      "[4]\tvalid_0's binary_logloss: 0.522275\tvalid_0's auc: 0.782509\n",
      "[5]\tvalid_0's binary_logloss: 0.501523\tvalid_0's auc: 0.784257\n",
      "[6]\tvalid_0's binary_logloss: 0.485635\tvalid_0's auc: 0.78478\n",
      "[7]\tvalid_0's binary_logloss: 0.473168\tvalid_0's auc: 0.78517\n",
      "[8]\tvalid_0's binary_logloss: 0.463162\tvalid_0's auc: 0.786085\n",
      "[9]\tvalid_0's binary_logloss: 0.455607\tvalid_0's auc: 0.78648\n",
      "[10]\tvalid_0's binary_logloss: 0.449264\tvalid_0's auc: 0.786946\n",
      "[11]\tvalid_0's binary_logloss: 0.444795\tvalid_0's auc: 0.787193\n",
      "[12]\tvalid_0's binary_logloss: 0.440663\tvalid_0's auc: 0.787914\n",
      "[13]\tvalid_0's binary_logloss: 0.437548\tvalid_0's auc: 0.788104\n",
      "[14]\tvalid_0's binary_logloss: 0.435394\tvalid_0's auc: 0.787871\n",
      "[15]\tvalid_0's binary_logloss: 0.433547\tvalid_0's auc: 0.788037\n",
      "[16]\tvalid_0's binary_logloss: 0.432092\tvalid_0's auc: 0.788017\n",
      "[17]\tvalid_0's binary_logloss: 0.431133\tvalid_0's auc: 0.788021\n",
      "[18]\tvalid_0's binary_logloss: 0.430381\tvalid_0's auc: 0.787622\n",
      "Early stopping, best iteration is:\n",
      "[13]\tvalid_0's binary_logloss: 0.437548\tvalid_0's auc: 0.788104\n"
     ]
    },
    {
     "name": "stderr",
     "output_type": "stream",
     "text": [
      "/anaconda3/lib/python3.6/site-packages/sklearn/preprocessing/label.py:151: DeprecationWarning: The truth value of an empty array is ambiguous. Returning False, but in future this will result in an error. Use `array.size > 0` to check that an array is not empty.\n",
      "  if diff:\n",
      "/anaconda3/lib/python3.6/site-packages/sklearn/preprocessing/label.py:151: DeprecationWarning: The truth value of an empty array is ambiguous. Returning False, but in future this will result in an error. Use `array.size > 0` to check that an array is not empty.\n",
      "  if diff:\n"
     ]
    },
    {
     "name": "stdout",
     "output_type": "stream",
     "text": [
      "[1]\tvalid_0's binary_logloss: 0.629092\tvalid_0's auc: 0.769764\n",
      "Training until validation scores don't improve for 5 rounds.\n",
      "[2]\tvalid_0's binary_logloss: 0.582733\tvalid_0's auc: 0.770806\n",
      "[3]\tvalid_0's binary_logloss: 0.547263\tvalid_0's auc: 0.777231\n",
      "[4]\tvalid_0's binary_logloss: 0.519948\tvalid_0's auc: 0.783367\n",
      "[5]\tvalid_0's binary_logloss: 0.499457\tvalid_0's auc: 0.783523\n",
      "[6]\tvalid_0's binary_logloss: 0.483394\tvalid_0's auc: 0.785731\n",
      "[7]\tvalid_0's binary_logloss: 0.470575\tvalid_0's auc: 0.786117\n",
      "[8]\tvalid_0's binary_logloss: 0.460904\tvalid_0's auc: 0.787021\n",
      "[9]\tvalid_0's binary_logloss: 0.452934\tvalid_0's auc: 0.787878\n",
      "[10]\tvalid_0's binary_logloss: 0.447133\tvalid_0's auc: 0.787553\n",
      "[11]\tvalid_0's binary_logloss: 0.442463\tvalid_0's auc: 0.787796\n",
      "[12]\tvalid_0's binary_logloss: 0.439381\tvalid_0's auc: 0.7871\n",
      "[13]\tvalid_0's binary_logloss: 0.43632\tvalid_0's auc: 0.787126\n",
      "[14]\tvalid_0's binary_logloss: 0.434434\tvalid_0's auc: 0.785991\n",
      "Early stopping, best iteration is:\n",
      "[9]\tvalid_0's binary_logloss: 0.452934\tvalid_0's auc: 0.787878\n"
     ]
    },
    {
     "name": "stderr",
     "output_type": "stream",
     "text": [
      "/anaconda3/lib/python3.6/site-packages/sklearn/preprocessing/label.py:151: DeprecationWarning: The truth value of an empty array is ambiguous. Returning False, but in future this will result in an error. Use `array.size > 0` to check that an array is not empty.\n",
      "  if diff:\n",
      "/anaconda3/lib/python3.6/site-packages/sklearn/preprocessing/label.py:151: DeprecationWarning: The truth value of an empty array is ambiguous. Returning False, but in future this will result in an error. Use `array.size > 0` to check that an array is not empty.\n",
      "  if diff:\n"
     ]
    },
    {
     "name": "stdout",
     "output_type": "stream",
     "text": [
      "[1]\tvalid_0's binary_logloss: 0.629675\tvalid_0's auc: 0.766616\n",
      "Training until validation scores don't improve for 5 rounds.\n",
      "[2]\tvalid_0's binary_logloss: 0.582949\tvalid_0's auc: 0.771432\n",
      "[3]\tvalid_0's binary_logloss: 0.548472\tvalid_0's auc: 0.773335\n",
      "[4]\tvalid_0's binary_logloss: 0.521774\tvalid_0's auc: 0.776446\n",
      "[5]\tvalid_0's binary_logloss: 0.501392\tvalid_0's auc: 0.777287\n",
      "[6]\tvalid_0's binary_logloss: 0.485437\tvalid_0's auc: 0.777223\n",
      "[7]\tvalid_0's binary_logloss: 0.473113\tvalid_0's auc: 0.778562\n",
      "[8]\tvalid_0's binary_logloss: 0.46376\tvalid_0's auc: 0.778444\n",
      "[9]\tvalid_0's binary_logloss: 0.45552\tvalid_0's auc: 0.77978\n",
      "[10]\tvalid_0's binary_logloss: 0.448993\tvalid_0's auc: 0.783614\n",
      "[11]\tvalid_0's binary_logloss: 0.444416\tvalid_0's auc: 0.783243\n",
      "[12]\tvalid_0's binary_logloss: 0.44084\tvalid_0's auc: 0.782873\n",
      "[13]\tvalid_0's binary_logloss: 0.437623\tvalid_0's auc: 0.784411\n",
      "[14]\tvalid_0's binary_logloss: 0.434838\tvalid_0's auc: 0.7859\n",
      "[15]\tvalid_0's binary_logloss: 0.433109\tvalid_0's auc: 0.785801\n",
      "[16]\tvalid_0's binary_logloss: 0.431804\tvalid_0's auc: 0.785789\n",
      "[17]\tvalid_0's binary_logloss: 0.430859\tvalid_0's auc: 0.785825\n",
      "[18]\tvalid_0's binary_logloss: 0.430202\tvalid_0's auc: 0.785541\n",
      "[19]\tvalid_0's binary_logloss: 0.429709\tvalid_0's auc: 0.785243\n",
      "Early stopping, best iteration is:\n",
      "[14]\tvalid_0's binary_logloss: 0.434838\tvalid_0's auc: 0.7859\n"
     ]
    },
    {
     "name": "stderr",
     "output_type": "stream",
     "text": [
      "/anaconda3/lib/python3.6/site-packages/sklearn/preprocessing/label.py:151: DeprecationWarning: The truth value of an empty array is ambiguous. Returning False, but in future this will result in an error. Use `array.size > 0` to check that an array is not empty.\n",
      "  if diff:\n",
      "/anaconda3/lib/python3.6/site-packages/sklearn/preprocessing/label.py:151: DeprecationWarning: The truth value of an empty array is ambiguous. Returning False, but in future this will result in an error. Use `array.size > 0` to check that an array is not empty.\n",
      "  if diff:\n"
     ]
    },
    {
     "name": "stdout",
     "output_type": "stream",
     "text": [
      "[1]\tvalid_0's binary_logloss: 0.630458\tvalid_0's auc: 0.767206\n",
      "Training until validation scores don't improve for 5 rounds.\n",
      "[2]\tvalid_0's binary_logloss: 0.58394\tvalid_0's auc: 0.776259\n",
      "[3]\tvalid_0's binary_logloss: 0.549311\tvalid_0's auc: 0.778352\n",
      "[4]\tvalid_0's binary_logloss: 0.522275\tvalid_0's auc: 0.782509\n",
      "[5]\tvalid_0's binary_logloss: 0.501523\tvalid_0's auc: 0.784257\n",
      "[6]\tvalid_0's binary_logloss: 0.485635\tvalid_0's auc: 0.78478\n",
      "[7]\tvalid_0's binary_logloss: 0.473168\tvalid_0's auc: 0.78517\n",
      "[8]\tvalid_0's binary_logloss: 0.463162\tvalid_0's auc: 0.786085\n",
      "[9]\tvalid_0's binary_logloss: 0.455607\tvalid_0's auc: 0.78648\n",
      "[10]\tvalid_0's binary_logloss: 0.449264\tvalid_0's auc: 0.786946\n",
      "[11]\tvalid_0's binary_logloss: 0.444795\tvalid_0's auc: 0.787193\n",
      "[12]\tvalid_0's binary_logloss: 0.440663\tvalid_0's auc: 0.787914\n",
      "[13]\tvalid_0's binary_logloss: 0.437548\tvalid_0's auc: 0.788104\n",
      "[14]\tvalid_0's binary_logloss: 0.435394\tvalid_0's auc: 0.787871\n",
      "[15]\tvalid_0's binary_logloss: 0.433547\tvalid_0's auc: 0.788037\n",
      "[16]\tvalid_0's binary_logloss: 0.432092\tvalid_0's auc: 0.788017\n",
      "[17]\tvalid_0's binary_logloss: 0.431133\tvalid_0's auc: 0.788021\n",
      "[18]\tvalid_0's binary_logloss: 0.430381\tvalid_0's auc: 0.787622\n",
      "Early stopping, best iteration is:\n",
      "[13]\tvalid_0's binary_logloss: 0.437548\tvalid_0's auc: 0.788104\n"
     ]
    },
    {
     "name": "stderr",
     "output_type": "stream",
     "text": [
      "/anaconda3/lib/python3.6/site-packages/sklearn/preprocessing/label.py:151: DeprecationWarning: The truth value of an empty array is ambiguous. Returning False, but in future this will result in an error. Use `array.size > 0` to check that an array is not empty.\n",
      "  if diff:\n",
      "/anaconda3/lib/python3.6/site-packages/sklearn/preprocessing/label.py:151: DeprecationWarning: The truth value of an empty array is ambiguous. Returning False, but in future this will result in an error. Use `array.size > 0` to check that an array is not empty.\n",
      "  if diff:\n"
     ]
    },
    {
     "name": "stdout",
     "output_type": "stream",
     "text": [
      "[1]\tvalid_0's binary_logloss: 0.629092\tvalid_0's auc: 0.769764\n",
      "Training until validation scores don't improve for 5 rounds.\n",
      "[2]\tvalid_0's binary_logloss: 0.582733\tvalid_0's auc: 0.770806\n",
      "[3]\tvalid_0's binary_logloss: 0.547263\tvalid_0's auc: 0.777231\n",
      "[4]\tvalid_0's binary_logloss: 0.519948\tvalid_0's auc: 0.783367\n",
      "[5]\tvalid_0's binary_logloss: 0.499457\tvalid_0's auc: 0.783523\n",
      "[6]\tvalid_0's binary_logloss: 0.483394\tvalid_0's auc: 0.785731\n",
      "[7]\tvalid_0's binary_logloss: 0.470575\tvalid_0's auc: 0.786117\n",
      "[8]\tvalid_0's binary_logloss: 0.460904\tvalid_0's auc: 0.787021\n",
      "[9]\tvalid_0's binary_logloss: 0.452934\tvalid_0's auc: 0.787878\n",
      "[10]\tvalid_0's binary_logloss: 0.447133\tvalid_0's auc: 0.787553\n",
      "[11]\tvalid_0's binary_logloss: 0.442463\tvalid_0's auc: 0.787796\n",
      "[12]\tvalid_0's binary_logloss: 0.439381\tvalid_0's auc: 0.7871\n",
      "[13]\tvalid_0's binary_logloss: 0.43632\tvalid_0's auc: 0.787126\n",
      "[14]\tvalid_0's binary_logloss: 0.434434\tvalid_0's auc: 0.785991\n",
      "Early stopping, best iteration is:\n",
      "[9]\tvalid_0's binary_logloss: 0.452934\tvalid_0's auc: 0.787878\n"
     ]
    },
    {
     "name": "stderr",
     "output_type": "stream",
     "text": [
      "/anaconda3/lib/python3.6/site-packages/sklearn/preprocessing/label.py:151: DeprecationWarning: The truth value of an empty array is ambiguous. Returning False, but in future this will result in an error. Use `array.size > 0` to check that an array is not empty.\n",
      "  if diff:\n",
      "/anaconda3/lib/python3.6/site-packages/sklearn/preprocessing/label.py:151: DeprecationWarning: The truth value of an empty array is ambiguous. Returning False, but in future this will result in an error. Use `array.size > 0` to check that an array is not empty.\n",
      "  if diff:\n"
     ]
    },
    {
     "name": "stdout",
     "output_type": "stream",
     "text": [
      "[1]\tvalid_0's binary_logloss: 0.629675\tvalid_0's auc: 0.766616\n",
      "Training until validation scores don't improve for 5 rounds.\n",
      "[2]\tvalid_0's binary_logloss: 0.582949\tvalid_0's auc: 0.771432\n",
      "[3]\tvalid_0's binary_logloss: 0.548472\tvalid_0's auc: 0.773335\n",
      "[4]\tvalid_0's binary_logloss: 0.521774\tvalid_0's auc: 0.776446\n",
      "[5]\tvalid_0's binary_logloss: 0.501392\tvalid_0's auc: 0.777287\n",
      "[6]\tvalid_0's binary_logloss: 0.485437\tvalid_0's auc: 0.777223\n",
      "[7]\tvalid_0's binary_logloss: 0.473113\tvalid_0's auc: 0.778562\n",
      "[8]\tvalid_0's binary_logloss: 0.46376\tvalid_0's auc: 0.778444\n",
      "[9]\tvalid_0's binary_logloss: 0.45552\tvalid_0's auc: 0.77978\n",
      "[10]\tvalid_0's binary_logloss: 0.448993\tvalid_0's auc: 0.783614\n",
      "[11]\tvalid_0's binary_logloss: 0.444416\tvalid_0's auc: 0.783243\n",
      "[12]\tvalid_0's binary_logloss: 0.44084\tvalid_0's auc: 0.782873\n",
      "[13]\tvalid_0's binary_logloss: 0.437623\tvalid_0's auc: 0.784411\n",
      "[14]\tvalid_0's binary_logloss: 0.434838\tvalid_0's auc: 0.7859\n",
      "[15]\tvalid_0's binary_logloss: 0.433109\tvalid_0's auc: 0.785801\n",
      "[16]\tvalid_0's binary_logloss: 0.431804\tvalid_0's auc: 0.785789\n",
      "[17]\tvalid_0's binary_logloss: 0.430859\tvalid_0's auc: 0.785825\n",
      "[18]\tvalid_0's binary_logloss: 0.430202\tvalid_0's auc: 0.785541\n",
      "[19]\tvalid_0's binary_logloss: 0.429709\tvalid_0's auc: 0.785243\n",
      "Early stopping, best iteration is:\n",
      "[14]\tvalid_0's binary_logloss: 0.434838\tvalid_0's auc: 0.7859\n"
     ]
    },
    {
     "name": "stderr",
     "output_type": "stream",
     "text": [
      "/anaconda3/lib/python3.6/site-packages/sklearn/preprocessing/label.py:151: DeprecationWarning: The truth value of an empty array is ambiguous. Returning False, but in future this will result in an error. Use `array.size > 0` to check that an array is not empty.\n",
      "  if diff:\n",
      "/anaconda3/lib/python3.6/site-packages/sklearn/preprocessing/label.py:151: DeprecationWarning: The truth value of an empty array is ambiguous. Returning False, but in future this will result in an error. Use `array.size > 0` to check that an array is not empty.\n",
      "  if diff:\n"
     ]
    },
    {
     "name": "stdout",
     "output_type": "stream",
     "text": [
      "[1]\tvalid_0's binary_logloss: 0.630458\tvalid_0's auc: 0.767206\n",
      "Training until validation scores don't improve for 5 rounds.\n",
      "[2]\tvalid_0's binary_logloss: 0.58394\tvalid_0's auc: 0.776259\n",
      "[3]\tvalid_0's binary_logloss: 0.549311\tvalid_0's auc: 0.778352\n",
      "[4]\tvalid_0's binary_logloss: 0.522275\tvalid_0's auc: 0.782509\n",
      "[5]\tvalid_0's binary_logloss: 0.501523\tvalid_0's auc: 0.784257\n",
      "[6]\tvalid_0's binary_logloss: 0.485635\tvalid_0's auc: 0.78478\n",
      "[7]\tvalid_0's binary_logloss: 0.473168\tvalid_0's auc: 0.78517\n",
      "[8]\tvalid_0's binary_logloss: 0.463162\tvalid_0's auc: 0.786085\n",
      "[9]\tvalid_0's binary_logloss: 0.455607\tvalid_0's auc: 0.78648\n",
      "[10]\tvalid_0's binary_logloss: 0.449264\tvalid_0's auc: 0.786946\n",
      "[11]\tvalid_0's binary_logloss: 0.444795\tvalid_0's auc: 0.787193\n",
      "[12]\tvalid_0's binary_logloss: 0.440663\tvalid_0's auc: 0.787914\n",
      "[13]\tvalid_0's binary_logloss: 0.437548\tvalid_0's auc: 0.788104\n",
      "[14]\tvalid_0's binary_logloss: 0.435394\tvalid_0's auc: 0.787871\n",
      "[15]\tvalid_0's binary_logloss: 0.433547\tvalid_0's auc: 0.788037\n",
      "[16]\tvalid_0's binary_logloss: 0.432092\tvalid_0's auc: 0.788017\n",
      "[17]\tvalid_0's binary_logloss: 0.431133\tvalid_0's auc: 0.788021\n",
      "[18]\tvalid_0's binary_logloss: 0.430381\tvalid_0's auc: 0.787622\n",
      "Early stopping, best iteration is:\n",
      "[13]\tvalid_0's binary_logloss: 0.437548\tvalid_0's auc: 0.788104\n"
     ]
    },
    {
     "name": "stderr",
     "output_type": "stream",
     "text": [
      "/anaconda3/lib/python3.6/site-packages/sklearn/preprocessing/label.py:151: DeprecationWarning: The truth value of an empty array is ambiguous. Returning False, but in future this will result in an error. Use `array.size > 0` to check that an array is not empty.\n",
      "  if diff:\n",
      "/anaconda3/lib/python3.6/site-packages/sklearn/preprocessing/label.py:151: DeprecationWarning: The truth value of an empty array is ambiguous. Returning False, but in future this will result in an error. Use `array.size > 0` to check that an array is not empty.\n",
      "  if diff:\n"
     ]
    },
    {
     "name": "stdout",
     "output_type": "stream",
     "text": [
      "[1]\tvalid_0's binary_logloss: 0.629092\tvalid_0's auc: 0.769764\n",
      "Training until validation scores don't improve for 5 rounds.\n",
      "[2]\tvalid_0's binary_logloss: 0.582733\tvalid_0's auc: 0.770806\n",
      "[3]\tvalid_0's binary_logloss: 0.547263\tvalid_0's auc: 0.777231\n",
      "[4]\tvalid_0's binary_logloss: 0.519948\tvalid_0's auc: 0.783367\n",
      "[5]\tvalid_0's binary_logloss: 0.499457\tvalid_0's auc: 0.783523\n",
      "[6]\tvalid_0's binary_logloss: 0.483394\tvalid_0's auc: 0.785731\n",
      "[7]\tvalid_0's binary_logloss: 0.470575\tvalid_0's auc: 0.786117\n",
      "[8]\tvalid_0's binary_logloss: 0.460904\tvalid_0's auc: 0.787021\n",
      "[9]\tvalid_0's binary_logloss: 0.452934\tvalid_0's auc: 0.787878\n",
      "[10]\tvalid_0's binary_logloss: 0.447133\tvalid_0's auc: 0.787553\n",
      "[11]\tvalid_0's binary_logloss: 0.442463\tvalid_0's auc: 0.787796\n",
      "[12]\tvalid_0's binary_logloss: 0.439381\tvalid_0's auc: 0.7871\n",
      "[13]\tvalid_0's binary_logloss: 0.43632\tvalid_0's auc: 0.787126\n",
      "[14]\tvalid_0's binary_logloss: 0.434434\tvalid_0's auc: 0.785991\n",
      "Early stopping, best iteration is:\n",
      "[9]\tvalid_0's binary_logloss: 0.452934\tvalid_0's auc: 0.787878\n"
     ]
    },
    {
     "name": "stderr",
     "output_type": "stream",
     "text": [
      "/anaconda3/lib/python3.6/site-packages/sklearn/preprocessing/label.py:151: DeprecationWarning: The truth value of an empty array is ambiguous. Returning False, but in future this will result in an error. Use `array.size > 0` to check that an array is not empty.\n",
      "  if diff:\n",
      "/anaconda3/lib/python3.6/site-packages/sklearn/preprocessing/label.py:151: DeprecationWarning: The truth value of an empty array is ambiguous. Returning False, but in future this will result in an error. Use `array.size > 0` to check that an array is not empty.\n",
      "  if diff:\n"
     ]
    },
    {
     "name": "stdout",
     "output_type": "stream",
     "text": [
      "[1]\tvalid_0's binary_logloss: 0.629675\tvalid_0's auc: 0.766616\n",
      "Training until validation scores don't improve for 5 rounds.\n",
      "[2]\tvalid_0's binary_logloss: 0.582949\tvalid_0's auc: 0.771432\n",
      "[3]\tvalid_0's binary_logloss: 0.548472\tvalid_0's auc: 0.773335\n",
      "[4]\tvalid_0's binary_logloss: 0.521774\tvalid_0's auc: 0.776446\n",
      "[5]\tvalid_0's binary_logloss: 0.501392\tvalid_0's auc: 0.777287\n",
      "[6]\tvalid_0's binary_logloss: 0.485437\tvalid_0's auc: 0.777223\n",
      "[7]\tvalid_0's binary_logloss: 0.473113\tvalid_0's auc: 0.778562\n",
      "[8]\tvalid_0's binary_logloss: 0.46376\tvalid_0's auc: 0.778444\n",
      "[9]\tvalid_0's binary_logloss: 0.45552\tvalid_0's auc: 0.77978\n",
      "[10]\tvalid_0's binary_logloss: 0.448993\tvalid_0's auc: 0.783614\n",
      "[11]\tvalid_0's binary_logloss: 0.444416\tvalid_0's auc: 0.783243\n",
      "[12]\tvalid_0's binary_logloss: 0.44084\tvalid_0's auc: 0.782873\n",
      "[13]\tvalid_0's binary_logloss: 0.437623\tvalid_0's auc: 0.784411\n",
      "[14]\tvalid_0's binary_logloss: 0.434838\tvalid_0's auc: 0.7859\n",
      "[15]\tvalid_0's binary_logloss: 0.433109\tvalid_0's auc: 0.785801\n",
      "[16]\tvalid_0's binary_logloss: 0.431804\tvalid_0's auc: 0.785789\n",
      "[17]\tvalid_0's binary_logloss: 0.430859\tvalid_0's auc: 0.785825\n",
      "[18]\tvalid_0's binary_logloss: 0.430202\tvalid_0's auc: 0.785541\n",
      "[19]\tvalid_0's binary_logloss: 0.429709\tvalid_0's auc: 0.785243\n",
      "Early stopping, best iteration is:\n",
      "[14]\tvalid_0's binary_logloss: 0.434838\tvalid_0's auc: 0.7859\n"
     ]
    },
    {
     "name": "stderr",
     "output_type": "stream",
     "text": [
      "/anaconda3/lib/python3.6/site-packages/sklearn/preprocessing/label.py:151: DeprecationWarning: The truth value of an empty array is ambiguous. Returning False, but in future this will result in an error. Use `array.size > 0` to check that an array is not empty.\n",
      "  if diff:\n",
      "/anaconda3/lib/python3.6/site-packages/sklearn/preprocessing/label.py:151: DeprecationWarning: The truth value of an empty array is ambiguous. Returning False, but in future this will result in an error. Use `array.size > 0` to check that an array is not empty.\n",
      "  if diff:\n"
     ]
    },
    {
     "name": "stdout",
     "output_type": "stream",
     "text": [
      "[1]\tvalid_0's binary_logloss: 0.630458\tvalid_0's auc: 0.767206\n",
      "Training until validation scores don't improve for 5 rounds.\n",
      "[2]\tvalid_0's binary_logloss: 0.58394\tvalid_0's auc: 0.776259\n",
      "[3]\tvalid_0's binary_logloss: 0.549311\tvalid_0's auc: 0.778352\n",
      "[4]\tvalid_0's binary_logloss: 0.522275\tvalid_0's auc: 0.782509\n",
      "[5]\tvalid_0's binary_logloss: 0.501523\tvalid_0's auc: 0.784257\n",
      "[6]\tvalid_0's binary_logloss: 0.485635\tvalid_0's auc: 0.78478\n",
      "[7]\tvalid_0's binary_logloss: 0.473168\tvalid_0's auc: 0.78517\n",
      "[8]\tvalid_0's binary_logloss: 0.463162\tvalid_0's auc: 0.786085\n",
      "[9]\tvalid_0's binary_logloss: 0.455607\tvalid_0's auc: 0.78648\n",
      "[10]\tvalid_0's binary_logloss: 0.449264\tvalid_0's auc: 0.786946\n",
      "[11]\tvalid_0's binary_logloss: 0.444795\tvalid_0's auc: 0.787193\n",
      "[12]\tvalid_0's binary_logloss: 0.440663\tvalid_0's auc: 0.787914\n",
      "[13]\tvalid_0's binary_logloss: 0.437548\tvalid_0's auc: 0.788104\n",
      "[14]\tvalid_0's binary_logloss: 0.435394\tvalid_0's auc: 0.787871\n",
      "[15]\tvalid_0's binary_logloss: 0.433547\tvalid_0's auc: 0.788037\n",
      "[16]\tvalid_0's binary_logloss: 0.432092\tvalid_0's auc: 0.788017\n",
      "[17]\tvalid_0's binary_logloss: 0.431133\tvalid_0's auc: 0.788021\n",
      "[18]\tvalid_0's binary_logloss: 0.430381\tvalid_0's auc: 0.787622\n",
      "Early stopping, best iteration is:\n",
      "[13]\tvalid_0's binary_logloss: 0.437548\tvalid_0's auc: 0.788104\n"
     ]
    },
    {
     "name": "stderr",
     "output_type": "stream",
     "text": [
      "/anaconda3/lib/python3.6/site-packages/sklearn/preprocessing/label.py:151: DeprecationWarning: The truth value of an empty array is ambiguous. Returning False, but in future this will result in an error. Use `array.size > 0` to check that an array is not empty.\n",
      "  if diff:\n",
      "/anaconda3/lib/python3.6/site-packages/sklearn/preprocessing/label.py:151: DeprecationWarning: The truth value of an empty array is ambiguous. Returning False, but in future this will result in an error. Use `array.size > 0` to check that an array is not empty.\n",
      "  if diff:\n"
     ]
    },
    {
     "name": "stdout",
     "output_type": "stream",
     "text": [
      "[1]\tvalid_0's binary_logloss: 0.629092\tvalid_0's auc: 0.769764\n",
      "Training until validation scores don't improve for 5 rounds.\n",
      "[2]\tvalid_0's binary_logloss: 0.582733\tvalid_0's auc: 0.770806\n",
      "[3]\tvalid_0's binary_logloss: 0.547263\tvalid_0's auc: 0.777231\n",
      "[4]\tvalid_0's binary_logloss: 0.519948\tvalid_0's auc: 0.783367\n",
      "[5]\tvalid_0's binary_logloss: 0.499457\tvalid_0's auc: 0.783523\n",
      "[6]\tvalid_0's binary_logloss: 0.483394\tvalid_0's auc: 0.785731\n",
      "[7]\tvalid_0's binary_logloss: 0.470575\tvalid_0's auc: 0.786117\n",
      "[8]\tvalid_0's binary_logloss: 0.460904\tvalid_0's auc: 0.787021\n",
      "[9]\tvalid_0's binary_logloss: 0.452934\tvalid_0's auc: 0.787878\n",
      "[10]\tvalid_0's binary_logloss: 0.447133\tvalid_0's auc: 0.787553\n",
      "[11]\tvalid_0's binary_logloss: 0.442463\tvalid_0's auc: 0.787796\n",
      "[12]\tvalid_0's binary_logloss: 0.439381\tvalid_0's auc: 0.7871\n",
      "[13]\tvalid_0's binary_logloss: 0.43632\tvalid_0's auc: 0.787126\n",
      "[14]\tvalid_0's binary_logloss: 0.434434\tvalid_0's auc: 0.785991\n",
      "Early stopping, best iteration is:\n",
      "[9]\tvalid_0's binary_logloss: 0.452934\tvalid_0's auc: 0.787878\n"
     ]
    },
    {
     "name": "stderr",
     "output_type": "stream",
     "text": [
      "/anaconda3/lib/python3.6/site-packages/sklearn/preprocessing/label.py:151: DeprecationWarning: The truth value of an empty array is ambiguous. Returning False, but in future this will result in an error. Use `array.size > 0` to check that an array is not empty.\n",
      "  if diff:\n",
      "/anaconda3/lib/python3.6/site-packages/sklearn/preprocessing/label.py:151: DeprecationWarning: The truth value of an empty array is ambiguous. Returning False, but in future this will result in an error. Use `array.size > 0` to check that an array is not empty.\n",
      "  if diff:\n"
     ]
    },
    {
     "name": "stdout",
     "output_type": "stream",
     "text": [
      "[1]\tvalid_0's binary_logloss: 0.629675\tvalid_0's auc: 0.766616\n",
      "Training until validation scores don't improve for 5 rounds.\n",
      "[2]\tvalid_0's binary_logloss: 0.582949\tvalid_0's auc: 0.771432\n",
      "[3]\tvalid_0's binary_logloss: 0.548472\tvalid_0's auc: 0.773335\n",
      "[4]\tvalid_0's binary_logloss: 0.521774\tvalid_0's auc: 0.776446\n",
      "[5]\tvalid_0's binary_logloss: 0.501392\tvalid_0's auc: 0.777287\n",
      "[6]\tvalid_0's binary_logloss: 0.485437\tvalid_0's auc: 0.777223\n",
      "[7]\tvalid_0's binary_logloss: 0.473113\tvalid_0's auc: 0.778562\n",
      "[8]\tvalid_0's binary_logloss: 0.46376\tvalid_0's auc: 0.778444\n",
      "[9]\tvalid_0's binary_logloss: 0.45552\tvalid_0's auc: 0.77978\n",
      "[10]\tvalid_0's binary_logloss: 0.448993\tvalid_0's auc: 0.783614\n",
      "[11]\tvalid_0's binary_logloss: 0.444416\tvalid_0's auc: 0.783243\n",
      "[12]\tvalid_0's binary_logloss: 0.44084\tvalid_0's auc: 0.782873\n",
      "[13]\tvalid_0's binary_logloss: 0.437623\tvalid_0's auc: 0.784411\n",
      "[14]\tvalid_0's binary_logloss: 0.434838\tvalid_0's auc: 0.7859\n",
      "[15]\tvalid_0's binary_logloss: 0.433109\tvalid_0's auc: 0.785801\n",
      "[16]\tvalid_0's binary_logloss: 0.431804\tvalid_0's auc: 0.785789\n",
      "[17]\tvalid_0's binary_logloss: 0.430859\tvalid_0's auc: 0.785825\n",
      "[18]\tvalid_0's binary_logloss: 0.430202\tvalid_0's auc: 0.785541\n",
      "[19]\tvalid_0's binary_logloss: 0.429709\tvalid_0's auc: 0.785243\n",
      "Early stopping, best iteration is:\n",
      "[14]\tvalid_0's binary_logloss: 0.434838\tvalid_0's auc: 0.7859\n"
     ]
    },
    {
     "name": "stderr",
     "output_type": "stream",
     "text": [
      "/anaconda3/lib/python3.6/site-packages/sklearn/preprocessing/label.py:151: DeprecationWarning: The truth value of an empty array is ambiguous. Returning False, but in future this will result in an error. Use `array.size > 0` to check that an array is not empty.\n",
      "  if diff:\n",
      "/anaconda3/lib/python3.6/site-packages/sklearn/preprocessing/label.py:151: DeprecationWarning: The truth value of an empty array is ambiguous. Returning False, but in future this will result in an error. Use `array.size > 0` to check that an array is not empty.\n",
      "  if diff:\n"
     ]
    },
    {
     "name": "stdout",
     "output_type": "stream",
     "text": [
      "[1]\tvalid_0's binary_logloss: 0.630458\tvalid_0's auc: 0.767206\n",
      "Training until validation scores don't improve for 5 rounds.\n",
      "[2]\tvalid_0's binary_logloss: 0.58394\tvalid_0's auc: 0.776259\n",
      "[3]\tvalid_0's binary_logloss: 0.549311\tvalid_0's auc: 0.778352\n",
      "[4]\tvalid_0's binary_logloss: 0.522275\tvalid_0's auc: 0.782509\n",
      "[5]\tvalid_0's binary_logloss: 0.501523\tvalid_0's auc: 0.784257\n",
      "[6]\tvalid_0's binary_logloss: 0.485635\tvalid_0's auc: 0.78478\n",
      "[7]\tvalid_0's binary_logloss: 0.473168\tvalid_0's auc: 0.78517\n",
      "[8]\tvalid_0's binary_logloss: 0.463162\tvalid_0's auc: 0.786085\n",
      "[9]\tvalid_0's binary_logloss: 0.455607\tvalid_0's auc: 0.78648\n",
      "[10]\tvalid_0's binary_logloss: 0.449264\tvalid_0's auc: 0.786946\n",
      "[11]\tvalid_0's binary_logloss: 0.444795\tvalid_0's auc: 0.787193\n",
      "[12]\tvalid_0's binary_logloss: 0.440663\tvalid_0's auc: 0.787914\n",
      "[13]\tvalid_0's binary_logloss: 0.437548\tvalid_0's auc: 0.788104\n",
      "[14]\tvalid_0's binary_logloss: 0.435394\tvalid_0's auc: 0.787871\n",
      "[15]\tvalid_0's binary_logloss: 0.433547\tvalid_0's auc: 0.788037\n",
      "[16]\tvalid_0's binary_logloss: 0.432092\tvalid_0's auc: 0.788017\n",
      "[17]\tvalid_0's binary_logloss: 0.431133\tvalid_0's auc: 0.788021\n",
      "[18]\tvalid_0's binary_logloss: 0.430381\tvalid_0's auc: 0.787622\n",
      "Early stopping, best iteration is:\n",
      "[13]\tvalid_0's binary_logloss: 0.437548\tvalid_0's auc: 0.788104\n"
     ]
    },
    {
     "name": "stderr",
     "output_type": "stream",
     "text": [
      "/anaconda3/lib/python3.6/site-packages/sklearn/preprocessing/label.py:151: DeprecationWarning: The truth value of an empty array is ambiguous. Returning False, but in future this will result in an error. Use `array.size > 0` to check that an array is not empty.\n",
      "  if diff:\n",
      "/anaconda3/lib/python3.6/site-packages/sklearn/preprocessing/label.py:151: DeprecationWarning: The truth value of an empty array is ambiguous. Returning False, but in future this will result in an error. Use `array.size > 0` to check that an array is not empty.\n",
      "  if diff:\n"
     ]
    },
    {
     "name": "stdout",
     "output_type": "stream",
     "text": [
      "[1]\tvalid_0's binary_logloss: 0.629092\tvalid_0's auc: 0.769764\n",
      "Training until validation scores don't improve for 5 rounds.\n",
      "[2]\tvalid_0's binary_logloss: 0.582733\tvalid_0's auc: 0.770806\n",
      "[3]\tvalid_0's binary_logloss: 0.547263\tvalid_0's auc: 0.777231\n",
      "[4]\tvalid_0's binary_logloss: 0.519948\tvalid_0's auc: 0.783367\n",
      "[5]\tvalid_0's binary_logloss: 0.499457\tvalid_0's auc: 0.783523\n",
      "[6]\tvalid_0's binary_logloss: 0.483394\tvalid_0's auc: 0.785731\n",
      "[7]\tvalid_0's binary_logloss: 0.470575\tvalid_0's auc: 0.786117\n",
      "[8]\tvalid_0's binary_logloss: 0.460904\tvalid_0's auc: 0.787021\n",
      "[9]\tvalid_0's binary_logloss: 0.452934\tvalid_0's auc: 0.787878\n",
      "[10]\tvalid_0's binary_logloss: 0.447133\tvalid_0's auc: 0.787553\n",
      "[11]\tvalid_0's binary_logloss: 0.442463\tvalid_0's auc: 0.787796\n",
      "[12]\tvalid_0's binary_logloss: 0.439381\tvalid_0's auc: 0.7871\n",
      "[13]\tvalid_0's binary_logloss: 0.43632\tvalid_0's auc: 0.787126\n",
      "[14]\tvalid_0's binary_logloss: 0.434434\tvalid_0's auc: 0.785991\n",
      "Early stopping, best iteration is:\n",
      "[9]\tvalid_0's binary_logloss: 0.452934\tvalid_0's auc: 0.787878\n"
     ]
    },
    {
     "name": "stderr",
     "output_type": "stream",
     "text": [
      "/anaconda3/lib/python3.6/site-packages/sklearn/preprocessing/label.py:151: DeprecationWarning: The truth value of an empty array is ambiguous. Returning False, but in future this will result in an error. Use `array.size > 0` to check that an array is not empty.\n",
      "  if diff:\n",
      "/anaconda3/lib/python3.6/site-packages/sklearn/preprocessing/label.py:151: DeprecationWarning: The truth value of an empty array is ambiguous. Returning False, but in future this will result in an error. Use `array.size > 0` to check that an array is not empty.\n",
      "  if diff:\n"
     ]
    },
    {
     "name": "stdout",
     "output_type": "stream",
     "text": [
      "[1]\tvalid_0's binary_logloss: 0.629675\tvalid_0's auc: 0.766616\n",
      "Training until validation scores don't improve for 5 rounds.\n",
      "[2]\tvalid_0's binary_logloss: 0.582949\tvalid_0's auc: 0.771432\n",
      "[3]\tvalid_0's binary_logloss: 0.548472\tvalid_0's auc: 0.773335\n",
      "[4]\tvalid_0's binary_logloss: 0.521774\tvalid_0's auc: 0.776446\n",
      "[5]\tvalid_0's binary_logloss: 0.501392\tvalid_0's auc: 0.777287\n",
      "[6]\tvalid_0's binary_logloss: 0.485437\tvalid_0's auc: 0.777223\n",
      "[7]\tvalid_0's binary_logloss: 0.473113\tvalid_0's auc: 0.778562\n",
      "[8]\tvalid_0's binary_logloss: 0.46376\tvalid_0's auc: 0.778444\n",
      "[9]\tvalid_0's binary_logloss: 0.45552\tvalid_0's auc: 0.77978\n",
      "[10]\tvalid_0's binary_logloss: 0.448993\tvalid_0's auc: 0.783614\n",
      "[11]\tvalid_0's binary_logloss: 0.444416\tvalid_0's auc: 0.783243\n",
      "[12]\tvalid_0's binary_logloss: 0.44084\tvalid_0's auc: 0.782873\n",
      "[13]\tvalid_0's binary_logloss: 0.437623\tvalid_0's auc: 0.784411\n",
      "[14]\tvalid_0's binary_logloss: 0.434838\tvalid_0's auc: 0.7859\n",
      "[15]\tvalid_0's binary_logloss: 0.433109\tvalid_0's auc: 0.785801\n",
      "[16]\tvalid_0's binary_logloss: 0.431804\tvalid_0's auc: 0.785789\n",
      "[17]\tvalid_0's binary_logloss: 0.430859\tvalid_0's auc: 0.785825\n",
      "[18]\tvalid_0's binary_logloss: 0.430202\tvalid_0's auc: 0.785541\n",
      "[19]\tvalid_0's binary_logloss: 0.429709\tvalid_0's auc: 0.785243\n",
      "Early stopping, best iteration is:\n",
      "[14]\tvalid_0's binary_logloss: 0.434838\tvalid_0's auc: 0.7859\n"
     ]
    },
    {
     "name": "stderr",
     "output_type": "stream",
     "text": [
      "/anaconda3/lib/python3.6/site-packages/sklearn/preprocessing/label.py:151: DeprecationWarning: The truth value of an empty array is ambiguous. Returning False, but in future this will result in an error. Use `array.size > 0` to check that an array is not empty.\n",
      "  if diff:\n",
      "/anaconda3/lib/python3.6/site-packages/sklearn/preprocessing/label.py:151: DeprecationWarning: The truth value of an empty array is ambiguous. Returning False, but in future this will result in an error. Use `array.size > 0` to check that an array is not empty.\n",
      "  if diff:\n"
     ]
    },
    {
     "name": "stdout",
     "output_type": "stream",
     "text": [
      "[1]\tvalid_0's binary_logloss: 0.630458\tvalid_0's auc: 0.767206\n",
      "Training until validation scores don't improve for 5 rounds.\n",
      "[2]\tvalid_0's binary_logloss: 0.58394\tvalid_0's auc: 0.776259\n",
      "[3]\tvalid_0's binary_logloss: 0.549311\tvalid_0's auc: 0.778352\n",
      "[4]\tvalid_0's binary_logloss: 0.522275\tvalid_0's auc: 0.782509\n",
      "[5]\tvalid_0's binary_logloss: 0.501523\tvalid_0's auc: 0.784257\n",
      "[6]\tvalid_0's binary_logloss: 0.485635\tvalid_0's auc: 0.78478\n",
      "[7]\tvalid_0's binary_logloss: 0.473168\tvalid_0's auc: 0.78517\n",
      "[8]\tvalid_0's binary_logloss: 0.463162\tvalid_0's auc: 0.786085\n",
      "[9]\tvalid_0's binary_logloss: 0.455607\tvalid_0's auc: 0.78648\n",
      "[10]\tvalid_0's binary_logloss: 0.449264\tvalid_0's auc: 0.786946\n",
      "[11]\tvalid_0's binary_logloss: 0.444795\tvalid_0's auc: 0.787193\n",
      "[12]\tvalid_0's binary_logloss: 0.440663\tvalid_0's auc: 0.787914\n",
      "[13]\tvalid_0's binary_logloss: 0.437548\tvalid_0's auc: 0.788104\n",
      "[14]\tvalid_0's binary_logloss: 0.435394\tvalid_0's auc: 0.787871\n",
      "[15]\tvalid_0's binary_logloss: 0.433547\tvalid_0's auc: 0.788037\n",
      "[16]\tvalid_0's binary_logloss: 0.432092\tvalid_0's auc: 0.788017\n",
      "[17]\tvalid_0's binary_logloss: 0.431133\tvalid_0's auc: 0.788021\n",
      "[18]\tvalid_0's binary_logloss: 0.430381\tvalid_0's auc: 0.787622\n",
      "Early stopping, best iteration is:\n",
      "[13]\tvalid_0's binary_logloss: 0.437548\tvalid_0's auc: 0.788104\n"
     ]
    },
    {
     "name": "stderr",
     "output_type": "stream",
     "text": [
      "/anaconda3/lib/python3.6/site-packages/sklearn/preprocessing/label.py:151: DeprecationWarning: The truth value of an empty array is ambiguous. Returning False, but in future this will result in an error. Use `array.size > 0` to check that an array is not empty.\n",
      "  if diff:\n",
      "/anaconda3/lib/python3.6/site-packages/sklearn/preprocessing/label.py:151: DeprecationWarning: The truth value of an empty array is ambiguous. Returning False, but in future this will result in an error. Use `array.size > 0` to check that an array is not empty.\n",
      "  if diff:\n"
     ]
    },
    {
     "name": "stdout",
     "output_type": "stream",
     "text": [
      "[1]\tvalid_0's binary_logloss: 0.629092\tvalid_0's auc: 0.769764\n",
      "Training until validation scores don't improve for 5 rounds.\n",
      "[2]\tvalid_0's binary_logloss: 0.582733\tvalid_0's auc: 0.770806\n",
      "[3]\tvalid_0's binary_logloss: 0.547263\tvalid_0's auc: 0.777231\n",
      "[4]\tvalid_0's binary_logloss: 0.519948\tvalid_0's auc: 0.783367\n",
      "[5]\tvalid_0's binary_logloss: 0.499457\tvalid_0's auc: 0.783523\n",
      "[6]\tvalid_0's binary_logloss: 0.483394\tvalid_0's auc: 0.785731\n",
      "[7]\tvalid_0's binary_logloss: 0.470575\tvalid_0's auc: 0.786117\n",
      "[8]\tvalid_0's binary_logloss: 0.460904\tvalid_0's auc: 0.787021\n",
      "[9]\tvalid_0's binary_logloss: 0.452934\tvalid_0's auc: 0.787878\n",
      "[10]\tvalid_0's binary_logloss: 0.447133\tvalid_0's auc: 0.787553\n",
      "[11]\tvalid_0's binary_logloss: 0.442463\tvalid_0's auc: 0.787796\n",
      "[12]\tvalid_0's binary_logloss: 0.439381\tvalid_0's auc: 0.7871\n",
      "[13]\tvalid_0's binary_logloss: 0.43632\tvalid_0's auc: 0.787126\n",
      "[14]\tvalid_0's binary_logloss: 0.434434\tvalid_0's auc: 0.785991\n",
      "Early stopping, best iteration is:\n",
      "[9]\tvalid_0's binary_logloss: 0.452934\tvalid_0's auc: 0.787878\n"
     ]
    },
    {
     "name": "stderr",
     "output_type": "stream",
     "text": [
      "/anaconda3/lib/python3.6/site-packages/sklearn/preprocessing/label.py:151: DeprecationWarning: The truth value of an empty array is ambiguous. Returning False, but in future this will result in an error. Use `array.size > 0` to check that an array is not empty.\n",
      "  if diff:\n",
      "/anaconda3/lib/python3.6/site-packages/sklearn/preprocessing/label.py:151: DeprecationWarning: The truth value of an empty array is ambiguous. Returning False, but in future this will result in an error. Use `array.size > 0` to check that an array is not empty.\n",
      "  if diff:\n"
     ]
    },
    {
     "name": "stdout",
     "output_type": "stream",
     "text": [
      "[1]\tvalid_0's binary_logloss: 0.629675\tvalid_0's auc: 0.766616\n",
      "Training until validation scores don't improve for 5 rounds.\n",
      "[2]\tvalid_0's binary_logloss: 0.582949\tvalid_0's auc: 0.771432\n",
      "[3]\tvalid_0's binary_logloss: 0.548472\tvalid_0's auc: 0.773335\n",
      "[4]\tvalid_0's binary_logloss: 0.521774\tvalid_0's auc: 0.776446\n",
      "[5]\tvalid_0's binary_logloss: 0.501392\tvalid_0's auc: 0.777287\n",
      "[6]\tvalid_0's binary_logloss: 0.485437\tvalid_0's auc: 0.777223\n",
      "[7]\tvalid_0's binary_logloss: 0.473113\tvalid_0's auc: 0.778562\n",
      "[8]\tvalid_0's binary_logloss: 0.46376\tvalid_0's auc: 0.778444\n",
      "[9]\tvalid_0's binary_logloss: 0.45552\tvalid_0's auc: 0.77978\n",
      "[10]\tvalid_0's binary_logloss: 0.448993\tvalid_0's auc: 0.783614\n",
      "[11]\tvalid_0's binary_logloss: 0.444416\tvalid_0's auc: 0.783243\n",
      "[12]\tvalid_0's binary_logloss: 0.44084\tvalid_0's auc: 0.782873\n",
      "[13]\tvalid_0's binary_logloss: 0.437623\tvalid_0's auc: 0.784411\n",
      "[14]\tvalid_0's binary_logloss: 0.434838\tvalid_0's auc: 0.7859\n",
      "[15]\tvalid_0's binary_logloss: 0.433109\tvalid_0's auc: 0.785801\n",
      "[16]\tvalid_0's binary_logloss: 0.431804\tvalid_0's auc: 0.785789\n",
      "[17]\tvalid_0's binary_logloss: 0.430859\tvalid_0's auc: 0.785825\n",
      "[18]\tvalid_0's binary_logloss: 0.430202\tvalid_0's auc: 0.785541\n",
      "[19]\tvalid_0's binary_logloss: 0.429709\tvalid_0's auc: 0.785243\n",
      "Early stopping, best iteration is:\n",
      "[14]\tvalid_0's binary_logloss: 0.434838\tvalid_0's auc: 0.7859\n"
     ]
    },
    {
     "name": "stderr",
     "output_type": "stream",
     "text": [
      "/anaconda3/lib/python3.6/site-packages/sklearn/preprocessing/label.py:151: DeprecationWarning: The truth value of an empty array is ambiguous. Returning False, but in future this will result in an error. Use `array.size > 0` to check that an array is not empty.\n",
      "  if diff:\n",
      "/anaconda3/lib/python3.6/site-packages/sklearn/preprocessing/label.py:151: DeprecationWarning: The truth value of an empty array is ambiguous. Returning False, but in future this will result in an error. Use `array.size > 0` to check that an array is not empty.\n",
      "  if diff:\n"
     ]
    },
    {
     "name": "stdout",
     "output_type": "stream",
     "text": [
      "[1]\tvalid_0's binary_logloss: 0.630458\tvalid_0's auc: 0.767206\n",
      "Training until validation scores don't improve for 5 rounds.\n",
      "[2]\tvalid_0's binary_logloss: 0.58394\tvalid_0's auc: 0.776259\n",
      "[3]\tvalid_0's binary_logloss: 0.549311\tvalid_0's auc: 0.778352\n",
      "[4]\tvalid_0's binary_logloss: 0.522275\tvalid_0's auc: 0.782509\n",
      "[5]\tvalid_0's binary_logloss: 0.501523\tvalid_0's auc: 0.784257\n",
      "[6]\tvalid_0's binary_logloss: 0.485635\tvalid_0's auc: 0.78478\n",
      "[7]\tvalid_0's binary_logloss: 0.473168\tvalid_0's auc: 0.78517\n",
      "[8]\tvalid_0's binary_logloss: 0.463162\tvalid_0's auc: 0.786085\n",
      "[9]\tvalid_0's binary_logloss: 0.455607\tvalid_0's auc: 0.78648\n",
      "[10]\tvalid_0's binary_logloss: 0.449264\tvalid_0's auc: 0.786946\n",
      "[11]\tvalid_0's binary_logloss: 0.444795\tvalid_0's auc: 0.787193\n",
      "[12]\tvalid_0's binary_logloss: 0.440663\tvalid_0's auc: 0.787914\n",
      "[13]\tvalid_0's binary_logloss: 0.437548\tvalid_0's auc: 0.788104\n",
      "[14]\tvalid_0's binary_logloss: 0.435394\tvalid_0's auc: 0.787871\n",
      "[15]\tvalid_0's binary_logloss: 0.433547\tvalid_0's auc: 0.788037\n",
      "[16]\tvalid_0's binary_logloss: 0.432092\tvalid_0's auc: 0.788017\n",
      "[17]\tvalid_0's binary_logloss: 0.431133\tvalid_0's auc: 0.788021\n",
      "[18]\tvalid_0's binary_logloss: 0.430381\tvalid_0's auc: 0.787622\n",
      "Early stopping, best iteration is:\n",
      "[13]\tvalid_0's binary_logloss: 0.437548\tvalid_0's auc: 0.788104\n"
     ]
    },
    {
     "name": "stderr",
     "output_type": "stream",
     "text": [
      "/anaconda3/lib/python3.6/site-packages/sklearn/preprocessing/label.py:151: DeprecationWarning: The truth value of an empty array is ambiguous. Returning False, but in future this will result in an error. Use `array.size > 0` to check that an array is not empty.\n",
      "  if diff:\n",
      "/anaconda3/lib/python3.6/site-packages/sklearn/preprocessing/label.py:151: DeprecationWarning: The truth value of an empty array is ambiguous. Returning False, but in future this will result in an error. Use `array.size > 0` to check that an array is not empty.\n",
      "  if diff:\n"
     ]
    },
    {
     "name": "stdout",
     "output_type": "stream",
     "text": [
      "[1]\tvalid_0's binary_logloss: 0.629092\tvalid_0's auc: 0.769764\n",
      "Training until validation scores don't improve for 5 rounds.\n",
      "[2]\tvalid_0's binary_logloss: 0.582733\tvalid_0's auc: 0.770806\n",
      "[3]\tvalid_0's binary_logloss: 0.547263\tvalid_0's auc: 0.777231\n",
      "[4]\tvalid_0's binary_logloss: 0.519948\tvalid_0's auc: 0.783367\n",
      "[5]\tvalid_0's binary_logloss: 0.499457\tvalid_0's auc: 0.783523\n",
      "[6]\tvalid_0's binary_logloss: 0.483394\tvalid_0's auc: 0.785731\n",
      "[7]\tvalid_0's binary_logloss: 0.470575\tvalid_0's auc: 0.786117\n",
      "[8]\tvalid_0's binary_logloss: 0.460904\tvalid_0's auc: 0.787021\n",
      "[9]\tvalid_0's binary_logloss: 0.452934\tvalid_0's auc: 0.787878\n",
      "[10]\tvalid_0's binary_logloss: 0.447133\tvalid_0's auc: 0.787553\n",
      "[11]\tvalid_0's binary_logloss: 0.442463\tvalid_0's auc: 0.787796\n",
      "[12]\tvalid_0's binary_logloss: 0.439381\tvalid_0's auc: 0.7871\n",
      "[13]\tvalid_0's binary_logloss: 0.43632\tvalid_0's auc: 0.787126\n",
      "[14]\tvalid_0's binary_logloss: 0.434434\tvalid_0's auc: 0.785991\n",
      "Early stopping, best iteration is:\n",
      "[9]\tvalid_0's binary_logloss: 0.452934\tvalid_0's auc: 0.787878\n"
     ]
    },
    {
     "name": "stderr",
     "output_type": "stream",
     "text": [
      "/anaconda3/lib/python3.6/site-packages/sklearn/preprocessing/label.py:151: DeprecationWarning: The truth value of an empty array is ambiguous. Returning False, but in future this will result in an error. Use `array.size > 0` to check that an array is not empty.\n",
      "  if diff:\n",
      "/anaconda3/lib/python3.6/site-packages/sklearn/preprocessing/label.py:151: DeprecationWarning: The truth value of an empty array is ambiguous. Returning False, but in future this will result in an error. Use `array.size > 0` to check that an array is not empty.\n",
      "  if diff:\n"
     ]
    },
    {
     "name": "stdout",
     "output_type": "stream",
     "text": [
      "[1]\tvalid_0's binary_logloss: 0.629675\tvalid_0's auc: 0.766616\n",
      "Training until validation scores don't improve for 5 rounds.\n",
      "[2]\tvalid_0's binary_logloss: 0.582949\tvalid_0's auc: 0.771432\n",
      "[3]\tvalid_0's binary_logloss: 0.548472\tvalid_0's auc: 0.773335\n",
      "[4]\tvalid_0's binary_logloss: 0.521774\tvalid_0's auc: 0.776446\n",
      "[5]\tvalid_0's binary_logloss: 0.501392\tvalid_0's auc: 0.777287\n",
      "[6]\tvalid_0's binary_logloss: 0.485437\tvalid_0's auc: 0.777223\n",
      "[7]\tvalid_0's binary_logloss: 0.473113\tvalid_0's auc: 0.778562\n",
      "[8]\tvalid_0's binary_logloss: 0.46376\tvalid_0's auc: 0.778444\n",
      "[9]\tvalid_0's binary_logloss: 0.45552\tvalid_0's auc: 0.77978\n",
      "[10]\tvalid_0's binary_logloss: 0.448993\tvalid_0's auc: 0.783614\n",
      "[11]\tvalid_0's binary_logloss: 0.444416\tvalid_0's auc: 0.783243\n",
      "[12]\tvalid_0's binary_logloss: 0.44084\tvalid_0's auc: 0.782873\n",
      "[13]\tvalid_0's binary_logloss: 0.437623\tvalid_0's auc: 0.784411\n",
      "[14]\tvalid_0's binary_logloss: 0.434838\tvalid_0's auc: 0.7859\n",
      "[15]\tvalid_0's binary_logloss: 0.433109\tvalid_0's auc: 0.785801\n",
      "[16]\tvalid_0's binary_logloss: 0.431804\tvalid_0's auc: 0.785789\n",
      "[17]\tvalid_0's binary_logloss: 0.430859\tvalid_0's auc: 0.785825\n",
      "[18]\tvalid_0's binary_logloss: 0.430202\tvalid_0's auc: 0.785541\n",
      "[19]\tvalid_0's binary_logloss: 0.429709\tvalid_0's auc: 0.785243\n",
      "Early stopping, best iteration is:\n",
      "[14]\tvalid_0's binary_logloss: 0.434838\tvalid_0's auc: 0.7859\n"
     ]
    },
    {
     "name": "stderr",
     "output_type": "stream",
     "text": [
      "/anaconda3/lib/python3.6/site-packages/sklearn/preprocessing/label.py:151: DeprecationWarning: The truth value of an empty array is ambiguous. Returning False, but in future this will result in an error. Use `array.size > 0` to check that an array is not empty.\n",
      "  if diff:\n",
      "/anaconda3/lib/python3.6/site-packages/sklearn/preprocessing/label.py:151: DeprecationWarning: The truth value of an empty array is ambiguous. Returning False, but in future this will result in an error. Use `array.size > 0` to check that an array is not empty.\n",
      "  if diff:\n"
     ]
    },
    {
     "name": "stdout",
     "output_type": "stream",
     "text": [
      "[1]\tvalid_0's binary_logloss: 0.630458\tvalid_0's auc: 0.767206\n",
      "Training until validation scores don't improve for 5 rounds.\n",
      "[2]\tvalid_0's binary_logloss: 0.58394\tvalid_0's auc: 0.776259\n",
      "[3]\tvalid_0's binary_logloss: 0.549311\tvalid_0's auc: 0.778352\n",
      "[4]\tvalid_0's binary_logloss: 0.522275\tvalid_0's auc: 0.782509\n",
      "[5]\tvalid_0's binary_logloss: 0.501523\tvalid_0's auc: 0.784257\n",
      "[6]\tvalid_0's binary_logloss: 0.485635\tvalid_0's auc: 0.78478\n",
      "[7]\tvalid_0's binary_logloss: 0.473168\tvalid_0's auc: 0.78517\n",
      "[8]\tvalid_0's binary_logloss: 0.463162\tvalid_0's auc: 0.786085\n",
      "[9]\tvalid_0's binary_logloss: 0.455607\tvalid_0's auc: 0.78648\n",
      "[10]\tvalid_0's binary_logloss: 0.449264\tvalid_0's auc: 0.786946\n",
      "[11]\tvalid_0's binary_logloss: 0.444795\tvalid_0's auc: 0.787193\n",
      "[12]\tvalid_0's binary_logloss: 0.440663\tvalid_0's auc: 0.787914\n",
      "[13]\tvalid_0's binary_logloss: 0.437548\tvalid_0's auc: 0.788104\n",
      "[14]\tvalid_0's binary_logloss: 0.435394\tvalid_0's auc: 0.787871\n",
      "[15]\tvalid_0's binary_logloss: 0.433547\tvalid_0's auc: 0.788037\n",
      "[16]\tvalid_0's binary_logloss: 0.432092\tvalid_0's auc: 0.788017\n",
      "[17]\tvalid_0's binary_logloss: 0.431133\tvalid_0's auc: 0.788021\n",
      "[18]\tvalid_0's binary_logloss: 0.430381\tvalid_0's auc: 0.787622\n",
      "Early stopping, best iteration is:\n",
      "[13]\tvalid_0's binary_logloss: 0.437548\tvalid_0's auc: 0.788104\n"
     ]
    },
    {
     "name": "stderr",
     "output_type": "stream",
     "text": [
      "/anaconda3/lib/python3.6/site-packages/sklearn/preprocessing/label.py:151: DeprecationWarning: The truth value of an empty array is ambiguous. Returning False, but in future this will result in an error. Use `array.size > 0` to check that an array is not empty.\n",
      "  if diff:\n",
      "/anaconda3/lib/python3.6/site-packages/sklearn/preprocessing/label.py:151: DeprecationWarning: The truth value of an empty array is ambiguous. Returning False, but in future this will result in an error. Use `array.size > 0` to check that an array is not empty.\n",
      "  if diff:\n"
     ]
    },
    {
     "name": "stdout",
     "output_type": "stream",
     "text": [
      "[1]\tvalid_0's binary_logloss: 0.629092\tvalid_0's auc: 0.769764\n",
      "Training until validation scores don't improve for 5 rounds.\n",
      "[2]\tvalid_0's binary_logloss: 0.582733\tvalid_0's auc: 0.770806\n",
      "[3]\tvalid_0's binary_logloss: 0.547263\tvalid_0's auc: 0.777231\n",
      "[4]\tvalid_0's binary_logloss: 0.519948\tvalid_0's auc: 0.783367\n",
      "[5]\tvalid_0's binary_logloss: 0.499457\tvalid_0's auc: 0.783523\n",
      "[6]\tvalid_0's binary_logloss: 0.483394\tvalid_0's auc: 0.785731\n",
      "[7]\tvalid_0's binary_logloss: 0.470575\tvalid_0's auc: 0.786117\n",
      "[8]\tvalid_0's binary_logloss: 0.460904\tvalid_0's auc: 0.787021\n",
      "[9]\tvalid_0's binary_logloss: 0.452934\tvalid_0's auc: 0.787878\n",
      "[10]\tvalid_0's binary_logloss: 0.447133\tvalid_0's auc: 0.787553\n",
      "[11]\tvalid_0's binary_logloss: 0.442463\tvalid_0's auc: 0.787796\n",
      "[12]\tvalid_0's binary_logloss: 0.439381\tvalid_0's auc: 0.7871\n",
      "[13]\tvalid_0's binary_logloss: 0.43632\tvalid_0's auc: 0.787126\n",
      "[14]\tvalid_0's binary_logloss: 0.434434\tvalid_0's auc: 0.785991\n",
      "Early stopping, best iteration is:\n",
      "[9]\tvalid_0's binary_logloss: 0.452934\tvalid_0's auc: 0.787878\n"
     ]
    },
    {
     "name": "stderr",
     "output_type": "stream",
     "text": [
      "/anaconda3/lib/python3.6/site-packages/sklearn/preprocessing/label.py:151: DeprecationWarning: The truth value of an empty array is ambiguous. Returning False, but in future this will result in an error. Use `array.size > 0` to check that an array is not empty.\n",
      "  if diff:\n",
      "/anaconda3/lib/python3.6/site-packages/sklearn/preprocessing/label.py:151: DeprecationWarning: The truth value of an empty array is ambiguous. Returning False, but in future this will result in an error. Use `array.size > 0` to check that an array is not empty.\n",
      "  if diff:\n"
     ]
    },
    {
     "name": "stdout",
     "output_type": "stream",
     "text": [
      "[1]\tvalid_0's binary_logloss: 0.629675\tvalid_0's auc: 0.766616\n",
      "Training until validation scores don't improve for 5 rounds.\n",
      "[2]\tvalid_0's binary_logloss: 0.582949\tvalid_0's auc: 0.771432\n",
      "[3]\tvalid_0's binary_logloss: 0.548472\tvalid_0's auc: 0.773335\n",
      "[4]\tvalid_0's binary_logloss: 0.521774\tvalid_0's auc: 0.776446\n",
      "[5]\tvalid_0's binary_logloss: 0.501392\tvalid_0's auc: 0.777287\n",
      "[6]\tvalid_0's binary_logloss: 0.485437\tvalid_0's auc: 0.777223\n",
      "[7]\tvalid_0's binary_logloss: 0.473113\tvalid_0's auc: 0.778562\n",
      "[8]\tvalid_0's binary_logloss: 0.46376\tvalid_0's auc: 0.778444\n",
      "[9]\tvalid_0's binary_logloss: 0.45552\tvalid_0's auc: 0.77978\n",
      "[10]\tvalid_0's binary_logloss: 0.448993\tvalid_0's auc: 0.783614\n",
      "[11]\tvalid_0's binary_logloss: 0.444416\tvalid_0's auc: 0.783243\n",
      "[12]\tvalid_0's binary_logloss: 0.44084\tvalid_0's auc: 0.782873\n",
      "[13]\tvalid_0's binary_logloss: 0.437623\tvalid_0's auc: 0.784411\n",
      "[14]\tvalid_0's binary_logloss: 0.434838\tvalid_0's auc: 0.7859\n",
      "[15]\tvalid_0's binary_logloss: 0.433109\tvalid_0's auc: 0.785801\n",
      "[16]\tvalid_0's binary_logloss: 0.431804\tvalid_0's auc: 0.785789\n",
      "[17]\tvalid_0's binary_logloss: 0.430859\tvalid_0's auc: 0.785825\n",
      "[18]\tvalid_0's binary_logloss: 0.430202\tvalid_0's auc: 0.785541\n",
      "[19]\tvalid_0's binary_logloss: 0.429709\tvalid_0's auc: 0.785243\n",
      "Early stopping, best iteration is:\n",
      "[14]\tvalid_0's binary_logloss: 0.434838\tvalid_0's auc: 0.7859\n"
     ]
    },
    {
     "name": "stderr",
     "output_type": "stream",
     "text": [
      "/anaconda3/lib/python3.6/site-packages/sklearn/preprocessing/label.py:151: DeprecationWarning: The truth value of an empty array is ambiguous. Returning False, but in future this will result in an error. Use `array.size > 0` to check that an array is not empty.\n",
      "  if diff:\n",
      "/anaconda3/lib/python3.6/site-packages/sklearn/preprocessing/label.py:151: DeprecationWarning: The truth value of an empty array is ambiguous. Returning False, but in future this will result in an error. Use `array.size > 0` to check that an array is not empty.\n",
      "  if diff:\n"
     ]
    },
    {
     "name": "stdout",
     "output_type": "stream",
     "text": [
      "[1]\tvalid_0's binary_logloss: 0.621011\tvalid_0's auc: 0.767206\n",
      "Training until validation scores don't improve for 5 rounds.\n",
      "[2]\tvalid_0's binary_logloss: 0.570198\tvalid_0's auc: 0.776409\n",
      "[3]\tvalid_0's binary_logloss: 0.533692\tvalid_0's auc: 0.781998\n",
      "[4]\tvalid_0's binary_logloss: 0.507273\tvalid_0's auc: 0.782934\n",
      "[5]\tvalid_0's binary_logloss: 0.487496\tvalid_0's auc: 0.784328\n",
      "[6]\tvalid_0's binary_logloss: 0.47269\tvalid_0's auc: 0.784397\n",
      "[7]\tvalid_0's binary_logloss: 0.461147\tvalid_0's auc: 0.784762\n",
      "[8]\tvalid_0's binary_logloss: 0.452704\tvalid_0's auc: 0.785859\n",
      "[9]\tvalid_0's binary_logloss: 0.446588\tvalid_0's auc: 0.785696\n",
      "[10]\tvalid_0's binary_logloss: 0.441259\tvalid_0's auc: 0.786811\n",
      "[11]\tvalid_0's binary_logloss: 0.437504\tvalid_0's auc: 0.786854\n",
      "[12]\tvalid_0's binary_logloss: 0.435021\tvalid_0's auc: 0.786799\n",
      "[13]\tvalid_0's binary_logloss: 0.433029\tvalid_0's auc: 0.786269\n",
      "[14]\tvalid_0's binary_logloss: 0.432079\tvalid_0's auc: 0.78521\n",
      "[15]\tvalid_0's binary_logloss: 0.430691\tvalid_0's auc: 0.786164\n",
      "[16]\tvalid_0's binary_logloss: 0.430053\tvalid_0's auc: 0.786062\n",
      "Early stopping, best iteration is:\n",
      "[11]\tvalid_0's binary_logloss: 0.437504\tvalid_0's auc: 0.786854\n"
     ]
    },
    {
     "name": "stderr",
     "output_type": "stream",
     "text": [
      "/anaconda3/lib/python3.6/site-packages/sklearn/preprocessing/label.py:151: DeprecationWarning: The truth value of an empty array is ambiguous. Returning False, but in future this will result in an error. Use `array.size > 0` to check that an array is not empty.\n",
      "  if diff:\n",
      "/anaconda3/lib/python3.6/site-packages/sklearn/preprocessing/label.py:151: DeprecationWarning: The truth value of an empty array is ambiguous. Returning False, but in future this will result in an error. Use `array.size > 0` to check that an array is not empty.\n",
      "  if diff:\n",
      "/anaconda3/lib/python3.6/site-packages/sklearn/preprocessing/label.py:151: DeprecationWarning: The truth value of an empty array is ambiguous. Returning False, but in future this will result in an error. Use `array.size > 0` to check that an array is not empty.\n",
      "  if diff:\n"
     ]
    },
    {
     "name": "stdout",
     "output_type": "stream",
     "text": [
      "[1]\tvalid_0's binary_logloss: 0.619443\tvalid_0's auc: 0.769764\n",
      "Training until validation scores don't improve for 5 rounds.\n",
      "[2]\tvalid_0's binary_logloss: 0.568918\tvalid_0's auc: 0.773709\n",
      "[3]\tvalid_0's binary_logloss: 0.531981\tvalid_0's auc: 0.780023\n",
      "[4]\tvalid_0's binary_logloss: 0.504772\tvalid_0's auc: 0.784588\n",
      "[5]\tvalid_0's binary_logloss: 0.48488\tvalid_0's auc: 0.785666\n",
      "[6]\tvalid_0's binary_logloss: 0.469842\tvalid_0's auc: 0.786792\n",
      "[7]\tvalid_0's binary_logloss: 0.458962\tvalid_0's auc: 0.787214\n",
      "[8]\tvalid_0's binary_logloss: 0.450397\tvalid_0's auc: 0.787569\n",
      "[9]\tvalid_0's binary_logloss: 0.444395\tvalid_0's auc: 0.787161\n",
      "[10]\tvalid_0's binary_logloss: 0.440265\tvalid_0's auc: 0.785754\n",
      "[11]\tvalid_0's binary_logloss: 0.43682\tvalid_0's auc: 0.7856\n",
      "[12]\tvalid_0's binary_logloss: 0.434482\tvalid_0's auc: 0.784773\n",
      "[13]\tvalid_0's binary_logloss: 0.432948\tvalid_0's auc: 0.784308\n",
      "Early stopping, best iteration is:\n",
      "[8]\tvalid_0's binary_logloss: 0.450397\tvalid_0's auc: 0.787569\n"
     ]
    },
    {
     "name": "stderr",
     "output_type": "stream",
     "text": [
      "/anaconda3/lib/python3.6/site-packages/sklearn/preprocessing/label.py:151: DeprecationWarning: The truth value of an empty array is ambiguous. Returning False, but in future this will result in an error. Use `array.size > 0` to check that an array is not empty.\n",
      "  if diff:\n"
     ]
    },
    {
     "name": "stdout",
     "output_type": "stream",
     "text": [
      "[1]\tvalid_0's binary_logloss: 0.62011\tvalid_0's auc: 0.766616\n",
      "Training until validation scores don't improve for 5 rounds.\n",
      "[2]\tvalid_0's binary_logloss: 0.568798\tvalid_0's auc: 0.777432\n",
      "[3]\tvalid_0's binary_logloss: 0.533332\tvalid_0's auc: 0.777561\n",
      "[4]\tvalid_0's binary_logloss: 0.50629\tvalid_0's auc: 0.778406\n",
      "[5]\tvalid_0's binary_logloss: 0.486757\tvalid_0's auc: 0.778268\n",
      "[6]\tvalid_0's binary_logloss: 0.472149\tvalid_0's auc: 0.779047\n",
      "[7]\tvalid_0's binary_logloss: 0.461452\tvalid_0's auc: 0.779248\n",
      "[8]\tvalid_0's binary_logloss: 0.453853\tvalid_0's auc: 0.778752\n",
      "[9]\tvalid_0's binary_logloss: 0.447644\tvalid_0's auc: 0.77948\n",
      "[10]\tvalid_0's binary_logloss: 0.442976\tvalid_0's auc: 0.78036\n",
      "[11]\tvalid_0's binary_logloss: 0.438718\tvalid_0's auc: 0.78282\n",
      "[12]\tvalid_0's binary_logloss: 0.436271\tvalid_0's auc: 0.781757\n",
      "[13]\tvalid_0's binary_logloss: 0.434238\tvalid_0's auc: 0.782308\n",
      "[14]\tvalid_0's binary_logloss: 0.432699\tvalid_0's auc: 0.782871\n",
      "[15]\tvalid_0's binary_logloss: 0.431586\tvalid_0's auc: 0.783214\n",
      "[16]\tvalid_0's binary_logloss: 0.430357\tvalid_0's auc: 0.784052\n",
      "[17]\tvalid_0's binary_logloss: 0.429776\tvalid_0's auc: 0.783941\n",
      "[18]\tvalid_0's binary_logloss: 0.429277\tvalid_0's auc: 0.78428\n",
      "[19]\tvalid_0's binary_logloss: 0.428952\tvalid_0's auc: 0.78448\n",
      "[20]\tvalid_0's binary_logloss: 0.428286\tvalid_0's auc: 0.784892\n"
     ]
    },
    {
     "name": "stderr",
     "output_type": "stream",
     "text": [
      "/anaconda3/lib/python3.6/site-packages/sklearn/preprocessing/label.py:151: DeprecationWarning: The truth value of an empty array is ambiguous. Returning False, but in future this will result in an error. Use `array.size > 0` to check that an array is not empty.\n",
      "  if diff:\n",
      "/anaconda3/lib/python3.6/site-packages/sklearn/preprocessing/label.py:151: DeprecationWarning: The truth value of an empty array is ambiguous. Returning False, but in future this will result in an error. Use `array.size > 0` to check that an array is not empty.\n",
      "  if diff:\n"
     ]
    },
    {
     "name": "stdout",
     "output_type": "stream",
     "text": [
      "[1]\tvalid_0's binary_logloss: 0.621011\tvalid_0's auc: 0.767206\n",
      "Training until validation scores don't improve for 5 rounds.\n",
      "[2]\tvalid_0's binary_logloss: 0.570198\tvalid_0's auc: 0.776409\n",
      "[3]\tvalid_0's binary_logloss: 0.533692\tvalid_0's auc: 0.781998\n",
      "[4]\tvalid_0's binary_logloss: 0.507273\tvalid_0's auc: 0.782934\n",
      "[5]\tvalid_0's binary_logloss: 0.487496\tvalid_0's auc: 0.784328\n",
      "[6]\tvalid_0's binary_logloss: 0.47269\tvalid_0's auc: 0.784397\n",
      "[7]\tvalid_0's binary_logloss: 0.461147\tvalid_0's auc: 0.784762\n",
      "[8]\tvalid_0's binary_logloss: 0.452704\tvalid_0's auc: 0.785859\n",
      "[9]\tvalid_0's binary_logloss: 0.446588\tvalid_0's auc: 0.785696\n",
      "[10]\tvalid_0's binary_logloss: 0.441259\tvalid_0's auc: 0.786811\n",
      "[11]\tvalid_0's binary_logloss: 0.437504\tvalid_0's auc: 0.786854\n",
      "[12]\tvalid_0's binary_logloss: 0.435021\tvalid_0's auc: 0.786799\n",
      "[13]\tvalid_0's binary_logloss: 0.433029\tvalid_0's auc: 0.786269\n",
      "[14]\tvalid_0's binary_logloss: 0.432079\tvalid_0's auc: 0.78521\n",
      "[15]\tvalid_0's binary_logloss: 0.430691\tvalid_0's auc: 0.786164\n",
      "[16]\tvalid_0's binary_logloss: 0.430053\tvalid_0's auc: 0.786062\n",
      "Early stopping, best iteration is:\n",
      "[11]\tvalid_0's binary_logloss: 0.437504\tvalid_0's auc: 0.786854\n"
     ]
    },
    {
     "name": "stderr",
     "output_type": "stream",
     "text": [
      "/anaconda3/lib/python3.6/site-packages/sklearn/preprocessing/label.py:151: DeprecationWarning: The truth value of an empty array is ambiguous. Returning False, but in future this will result in an error. Use `array.size > 0` to check that an array is not empty.\n",
      "  if diff:\n",
      "/anaconda3/lib/python3.6/site-packages/sklearn/preprocessing/label.py:151: DeprecationWarning: The truth value of an empty array is ambiguous. Returning False, but in future this will result in an error. Use `array.size > 0` to check that an array is not empty.\n",
      "  if diff:\n",
      "/anaconda3/lib/python3.6/site-packages/sklearn/preprocessing/label.py:151: DeprecationWarning: The truth value of an empty array is ambiguous. Returning False, but in future this will result in an error. Use `array.size > 0` to check that an array is not empty.\n",
      "  if diff:\n"
     ]
    },
    {
     "name": "stdout",
     "output_type": "stream",
     "text": [
      "[1]\tvalid_0's binary_logloss: 0.619443\tvalid_0's auc: 0.769764\n",
      "Training until validation scores don't improve for 5 rounds.\n",
      "[2]\tvalid_0's binary_logloss: 0.568918\tvalid_0's auc: 0.773709\n",
      "[3]\tvalid_0's binary_logloss: 0.531981\tvalid_0's auc: 0.780023\n",
      "[4]\tvalid_0's binary_logloss: 0.504772\tvalid_0's auc: 0.784588\n",
      "[5]\tvalid_0's binary_logloss: 0.48488\tvalid_0's auc: 0.785666\n",
      "[6]\tvalid_0's binary_logloss: 0.469842\tvalid_0's auc: 0.786792\n",
      "[7]\tvalid_0's binary_logloss: 0.458962\tvalid_0's auc: 0.787214\n",
      "[8]\tvalid_0's binary_logloss: 0.450397\tvalid_0's auc: 0.787569\n",
      "[9]\tvalid_0's binary_logloss: 0.444395\tvalid_0's auc: 0.787161\n",
      "[10]\tvalid_0's binary_logloss: 0.440265\tvalid_0's auc: 0.785754\n",
      "[11]\tvalid_0's binary_logloss: 0.43682\tvalid_0's auc: 0.7856\n",
      "[12]\tvalid_0's binary_logloss: 0.434482\tvalid_0's auc: 0.784773\n",
      "[13]\tvalid_0's binary_logloss: 0.432948\tvalid_0's auc: 0.784308\n",
      "Early stopping, best iteration is:\n",
      "[8]\tvalid_0's binary_logloss: 0.450397\tvalid_0's auc: 0.787569\n",
      "[1]\tvalid_0's binary_logloss: 0.62011\tvalid_0's auc: 0.766616\n",
      "Training until validation scores don't improve for 5 rounds.\n",
      "[2]\tvalid_0's binary_logloss: 0.568798\tvalid_0's auc: 0.777432"
     ]
    },
    {
     "name": "stderr",
     "output_type": "stream",
     "text": [
      "/anaconda3/lib/python3.6/site-packages/sklearn/preprocessing/label.py:151: DeprecationWarning: The truth value of an empty array is ambiguous. Returning False, but in future this will result in an error. Use `array.size > 0` to check that an array is not empty.\n",
      "  if diff:\n"
     ]
    },
    {
     "name": "stdout",
     "output_type": "stream",
     "text": [
      "\n",
      "[3]\tvalid_0's binary_logloss: 0.533332\tvalid_0's auc: 0.777561\n",
      "[4]\tvalid_0's binary_logloss: 0.50629\tvalid_0's auc: 0.778406\n",
      "[5]\tvalid_0's binary_logloss: 0.486757\tvalid_0's auc: 0.778268\n",
      "[6]\tvalid_0's binary_logloss: 0.472149\tvalid_0's auc: 0.779047\n",
      "[7]\tvalid_0's binary_logloss: 0.461452\tvalid_0's auc: 0.779248\n",
      "[8]\tvalid_0's binary_logloss: 0.453853\tvalid_0's auc: 0.778752\n",
      "[9]\tvalid_0's binary_logloss: 0.447644\tvalid_0's auc: 0.77948\n",
      "[10]\tvalid_0's binary_logloss: 0.442976\tvalid_0's auc: 0.78036\n",
      "[11]\tvalid_0's binary_logloss: 0.438718\tvalid_0's auc: 0.78282\n",
      "[12]\tvalid_0's binary_logloss: 0.436271\tvalid_0's auc: 0.781757\n",
      "[13]\tvalid_0's binary_logloss: 0.434238\tvalid_0's auc: 0.782308\n",
      "[14]\tvalid_0's binary_logloss: 0.432699\tvalid_0's auc: 0.782871\n",
      "[15]\tvalid_0's binary_logloss: 0.431586\tvalid_0's auc: 0.783214\n",
      "[16]\tvalid_0's binary_logloss: 0.430357\tvalid_0's auc: 0.784052\n",
      "[17]\tvalid_0's binary_logloss: 0.429776\tvalid_0's auc: 0.783941\n",
      "[18]\tvalid_0's binary_logloss: 0.429277\tvalid_0's auc: 0.78428\n",
      "[19]\tvalid_0's binary_logloss: 0.428952\tvalid_0's auc: 0.78448\n",
      "[20]\tvalid_0's binary_logloss: 0.428286\tvalid_0's auc: 0.784892\n",
      "[21]\tvalid_0's binary_logloss: 0.427717\tvalid_0's auc: 0.785891\n",
      "[22]\tvalid_0's binary_logloss: 0.42776\tvalid_0's auc: 0.785139\n"
     ]
    },
    {
     "name": "stderr",
     "output_type": "stream",
     "text": [
      "/anaconda3/lib/python3.6/site-packages/sklearn/preprocessing/label.py:151: DeprecationWarning: The truth value of an empty array is ambiguous. Returning False, but in future this will result in an error. Use `array.size > 0` to check that an array is not empty.\n",
      "  if diff:\n",
      "/anaconda3/lib/python3.6/site-packages/sklearn/preprocessing/label.py:151: DeprecationWarning: The truth value of an empty array is ambiguous. Returning False, but in future this will result in an error. Use `array.size > 0` to check that an array is not empty.\n",
      "  if diff:\n"
     ]
    },
    {
     "name": "stdout",
     "output_type": "stream",
     "text": [
      "[1]\tvalid_0's binary_logloss: 0.621011\tvalid_0's auc: 0.767206\n",
      "Training until validation scores don't improve for 5 rounds.\n",
      "[2]\tvalid_0's binary_logloss: 0.570198\tvalid_0's auc: 0.776409\n",
      "[3]\tvalid_0's binary_logloss: 0.533692\tvalid_0's auc: 0.781998\n",
      "[4]\tvalid_0's binary_logloss: 0.507273\tvalid_0's auc: 0.782934\n",
      "[5]\tvalid_0's binary_logloss: 0.487496\tvalid_0's auc: 0.784328\n",
      "[6]\tvalid_0's binary_logloss: 0.47269\tvalid_0's auc: 0.784397\n",
      "[7]\tvalid_0's binary_logloss: 0.461147\tvalid_0's auc: 0.784762\n",
      "[8]\tvalid_0's binary_logloss: 0.452704\tvalid_0's auc: 0.785859\n",
      "[9]\tvalid_0's binary_logloss: 0.446588\tvalid_0's auc: 0.785696\n",
      "[10]\tvalid_0's binary_logloss: 0.441259\tvalid_0's auc: 0.786811\n",
      "[11]\tvalid_0's binary_logloss: 0.437504\tvalid_0's auc: 0.786854\n",
      "[12]\tvalid_0's binary_logloss: 0.435021\tvalid_0's auc: 0.786799\n",
      "[13]\tvalid_0's binary_logloss: 0.433029\tvalid_0's auc: 0.786269\n",
      "[14]\tvalid_0's binary_logloss: 0.432079\tvalid_0's auc: 0.78521\n",
      "[15]\tvalid_0's binary_logloss: 0.430691\tvalid_0's auc: 0.786164\n",
      "[16]\tvalid_0's binary_logloss: 0.430053\tvalid_0's auc: 0.786062\n",
      "Early stopping, best iteration is:\n",
      "[11]\tvalid_0's binary_logloss: 0.437504\tvalid_0's auc: 0.786854\n"
     ]
    },
    {
     "name": "stderr",
     "output_type": "stream",
     "text": [
      "/anaconda3/lib/python3.6/site-packages/sklearn/preprocessing/label.py:151: DeprecationWarning: The truth value of an empty array is ambiguous. Returning False, but in future this will result in an error. Use `array.size > 0` to check that an array is not empty.\n",
      "  if diff:\n",
      "/anaconda3/lib/python3.6/site-packages/sklearn/preprocessing/label.py:151: DeprecationWarning: The truth value of an empty array is ambiguous. Returning False, but in future this will result in an error. Use `array.size > 0` to check that an array is not empty.\n",
      "  if diff:\n",
      "/anaconda3/lib/python3.6/site-packages/sklearn/preprocessing/label.py:151: DeprecationWarning: The truth value of an empty array is ambiguous. Returning False, but in future this will result in an error. Use `array.size > 0` to check that an array is not empty.\n",
      "  if diff:\n"
     ]
    },
    {
     "name": "stdout",
     "output_type": "stream",
     "text": [
      "[1]\tvalid_0's binary_logloss: 0.619443\tvalid_0's auc: 0.769764\n",
      "Training until validation scores don't improve for 5 rounds.\n",
      "[2]\tvalid_0's binary_logloss: 0.568918\tvalid_0's auc: 0.773709\n",
      "[3]\tvalid_0's binary_logloss: 0.531981\tvalid_0's auc: 0.780023\n",
      "[4]\tvalid_0's binary_logloss: 0.504772\tvalid_0's auc: 0.784588\n",
      "[5]\tvalid_0's binary_logloss: 0.48488\tvalid_0's auc: 0.785666\n",
      "[6]\tvalid_0's binary_logloss: 0.469842\tvalid_0's auc: 0.786792\n",
      "[7]\tvalid_0's binary_logloss: 0.458962\tvalid_0's auc: 0.787214\n",
      "[8]\tvalid_0's binary_logloss: 0.450397\tvalid_0's auc: 0.787569\n",
      "[9]\tvalid_0's binary_logloss: 0.444395\tvalid_0's auc: 0.787161\n",
      "[10]\tvalid_0's binary_logloss: 0.440265\tvalid_0's auc: 0.785754\n",
      "[11]\tvalid_0's binary_logloss: 0.43682\tvalid_0's auc: 0.7856\n",
      "[12]\tvalid_0's binary_logloss: 0.434482\tvalid_0's auc: 0.784773\n",
      "[13]\tvalid_0's binary_logloss: 0.432948\tvalid_0's auc: 0.784308\n",
      "Early stopping, best iteration is:\n",
      "[8]\tvalid_0's binary_logloss: 0.450397\tvalid_0's auc: 0.787569\n",
      "[1]\tvalid_0's binary_logloss: 0.62011\tvalid_0's auc: 0.766616\n",
      "Training until validation scores don't improve for 5 rounds.\n"
     ]
    },
    {
     "name": "stderr",
     "output_type": "stream",
     "text": [
      "/anaconda3/lib/python3.6/site-packages/sklearn/preprocessing/label.py:151: DeprecationWarning: The truth value of an empty array is ambiguous. Returning False, but in future this will result in an error. Use `array.size > 0` to check that an array is not empty.\n",
      "  if diff:\n"
     ]
    },
    {
     "name": "stdout",
     "output_type": "stream",
     "text": [
      "[2]\tvalid_0's binary_logloss: 0.568798\tvalid_0's auc: 0.777432\n",
      "[3]\tvalid_0's binary_logloss: 0.533332\tvalid_0's auc: 0.777561\n",
      "[4]\tvalid_0's binary_logloss: 0.50629\tvalid_0's auc: 0.778406\n",
      "[5]\tvalid_0's binary_logloss: 0.486757\tvalid_0's auc: 0.778268\n",
      "[6]\tvalid_0's binary_logloss: 0.472149\tvalid_0's auc: 0.779047\n",
      "[7]\tvalid_0's binary_logloss: 0.461452\tvalid_0's auc: 0.779248\n",
      "[8]\tvalid_0's binary_logloss: 0.453853\tvalid_0's auc: 0.778752\n",
      "[9]\tvalid_0's binary_logloss: 0.447644\tvalid_0's auc: 0.77948\n",
      "[10]\tvalid_0's binary_logloss: 0.442976\tvalid_0's auc: 0.78036\n",
      "[11]\tvalid_0's binary_logloss: 0.438718\tvalid_0's auc: 0.78282\n",
      "[12]\tvalid_0's binary_logloss: 0.436271\tvalid_0's auc: 0.781757\n",
      "[13]\tvalid_0's binary_logloss: 0.434238\tvalid_0's auc: 0.782308\n",
      "[14]\tvalid_0's binary_logloss: 0.432699\tvalid_0's auc: 0.782871\n",
      "[15]\tvalid_0's binary_logloss: 0.431586\tvalid_0's auc: 0.783214\n",
      "[16]\tvalid_0's binary_logloss: 0.430357\tvalid_0's auc: 0.784052\n",
      "[17]\tvalid_0's binary_logloss: 0.429776\tvalid_0's auc: 0.783941\n",
      "[18]\tvalid_0's binary_logloss: 0.429277\tvalid_0's auc: 0.78428\n",
      "[19]\tvalid_0's binary_logloss: 0.428952\tvalid_0's auc: 0.78448\n",
      "[20]\tvalid_0's binary_logloss: 0.428286\tvalid_0's auc: 0.784892\n",
      "[21]\tvalid_0's binary_logloss: 0.427717\tvalid_0's auc: 0.785891\n",
      "[22]\tvalid_0's binary_logloss: 0.42776\tvalid_0's auc: 0.785139\n",
      "[23]\tvalid_0's binary_logloss: 0.427899\tvalid_0's auc: 0.784668\n",
      "[24]\tvalid_0's binary_logloss: 0.428291\tvalid_0's auc: 0.784421\n"
     ]
    },
    {
     "name": "stderr",
     "output_type": "stream",
     "text": [
      "/anaconda3/lib/python3.6/site-packages/sklearn/preprocessing/label.py:151: DeprecationWarning: The truth value of an empty array is ambiguous. Returning False, but in future this will result in an error. Use `array.size > 0` to check that an array is not empty.\n",
      "  if diff:\n",
      "/anaconda3/lib/python3.6/site-packages/sklearn/preprocessing/label.py:151: DeprecationWarning: The truth value of an empty array is ambiguous. Returning False, but in future this will result in an error. Use `array.size > 0` to check that an array is not empty.\n",
      "  if diff:\n"
     ]
    },
    {
     "name": "stdout",
     "output_type": "stream",
     "text": [
      "[1]\tvalid_0's binary_logloss: 0.621011\tvalid_0's auc: 0.767206\n",
      "Training until validation scores don't improve for 5 rounds.\n",
      "[2]\tvalid_0's binary_logloss: 0.570198\tvalid_0's auc: 0.776409\n",
      "[3]\tvalid_0's binary_logloss: 0.533692\tvalid_0's auc: 0.781998\n",
      "[4]\tvalid_0's binary_logloss: 0.507273\tvalid_0's auc: 0.782934\n",
      "[5]\tvalid_0's binary_logloss: 0.487496\tvalid_0's auc: 0.784328\n",
      "[6]\tvalid_0's binary_logloss: 0.47269\tvalid_0's auc: 0.784397\n",
      "[7]\tvalid_0's binary_logloss: 0.461147\tvalid_0's auc: 0.784762\n",
      "[8]\tvalid_0's binary_logloss: 0.452704\tvalid_0's auc: 0.785859\n",
      "[9]\tvalid_0's binary_logloss: 0.446588\tvalid_0's auc: 0.785696\n",
      "[10]\tvalid_0's binary_logloss: 0.441259\tvalid_0's auc: 0.786811\n",
      "[11]\tvalid_0's binary_logloss: 0.437504\tvalid_0's auc: 0.786854\n",
      "[12]\tvalid_0's binary_logloss: 0.435021\tvalid_0's auc: 0.786799\n",
      "[13]\tvalid_0's binary_logloss: 0.433029\tvalid_0's auc: 0.786269\n",
      "[14]\tvalid_0's binary_logloss: 0.432079\tvalid_0's auc: 0.78521\n",
      "[15]\tvalid_0's binary_logloss: 0.430691\tvalid_0's auc: 0.786164\n",
      "[16]\tvalid_0's binary_logloss: 0.430053\tvalid_0's auc: 0.786062\n",
      "Early stopping, best iteration is:\n",
      "[11]\tvalid_0's binary_logloss: 0.437504\tvalid_0's auc: 0.786854\n"
     ]
    },
    {
     "name": "stderr",
     "output_type": "stream",
     "text": [
      "/anaconda3/lib/python3.6/site-packages/sklearn/preprocessing/label.py:151: DeprecationWarning: The truth value of an empty array is ambiguous. Returning False, but in future this will result in an error. Use `array.size > 0` to check that an array is not empty.\n",
      "  if diff:\n",
      "/anaconda3/lib/python3.6/site-packages/sklearn/preprocessing/label.py:151: DeprecationWarning: The truth value of an empty array is ambiguous. Returning False, but in future this will result in an error. Use `array.size > 0` to check that an array is not empty.\n",
      "  if diff:\n"
     ]
    },
    {
     "name": "stdout",
     "output_type": "stream",
     "text": [
      "[1]\tvalid_0's binary_logloss: 0.619443\tvalid_0's auc: 0.769764\n",
      "Training until validation scores don't improve for 5 rounds.\n",
      "[2]\tvalid_0's binary_logloss: 0.568918\tvalid_0's auc: 0.773709\n",
      "[3]\tvalid_0's binary_logloss: 0.531981\tvalid_0's auc: 0.780023\n",
      "[4]\tvalid_0's binary_logloss: 0.504772\tvalid_0's auc: 0.784588\n",
      "[5]\tvalid_0's binary_logloss: 0.48488\tvalid_0's auc: 0.785666\n",
      "[6]\tvalid_0's binary_logloss: 0.469842\tvalid_0's auc: 0.786792\n",
      "[7]\tvalid_0's binary_logloss: 0.458962\tvalid_0's auc: 0.787214\n",
      "[8]\tvalid_0's binary_logloss: 0.450397\tvalid_0's auc: 0.787569\n",
      "[9]\tvalid_0's binary_logloss: 0.444395\tvalid_0's auc: 0.787161\n",
      "[10]\tvalid_0's binary_logloss: 0.440265\tvalid_0's auc: 0.785754\n",
      "[11]\tvalid_0's binary_logloss: 0.43682\tvalid_0's auc: 0.7856\n",
      "[12]\tvalid_0's binary_logloss: 0.434482\tvalid_0's auc: 0.784773\n",
      "[13]\tvalid_0's binary_logloss: 0.432948\tvalid_0's auc: 0.784308\n",
      "Early stopping, best iteration is:\n",
      "[8]\tvalid_0's binary_logloss: 0.450397\tvalid_0's auc: 0.787569\n",
      "[1]\tvalid_0's binary_logloss: 0.62011\tvalid_0's auc: 0.766616\n",
      "Training until validation scores don't improve for 5 rounds.\n",
      "[2]\tvalid_0's binary_logloss: 0.568798\tvalid_0's auc: 0.777432"
     ]
    },
    {
     "name": "stderr",
     "output_type": "stream",
     "text": [
      "/anaconda3/lib/python3.6/site-packages/sklearn/preprocessing/label.py:151: DeprecationWarning: The truth value of an empty array is ambiguous. Returning False, but in future this will result in an error. Use `array.size > 0` to check that an array is not empty.\n",
      "  if diff:\n",
      "/anaconda3/lib/python3.6/site-packages/sklearn/preprocessing/label.py:151: DeprecationWarning: The truth value of an empty array is ambiguous. Returning False, but in future this will result in an error. Use `array.size > 0` to check that an array is not empty.\n",
      "  if diff:\n"
     ]
    },
    {
     "name": "stdout",
     "output_type": "stream",
     "text": [
      "\n",
      "[3]\tvalid_0's binary_logloss: 0.533332\tvalid_0's auc: 0.777561\n",
      "[4]\tvalid_0's binary_logloss: 0.50629\tvalid_0's auc: 0.778406\n",
      "[5]\tvalid_0's binary_logloss: 0.486757\tvalid_0's auc: 0.778268\n",
      "[6]\tvalid_0's binary_logloss: 0.472149\tvalid_0's auc: 0.779047\n",
      "[7]\tvalid_0's binary_logloss: 0.461452\tvalid_0's auc: 0.779248\n",
      "[8]\tvalid_0's binary_logloss: 0.453853\tvalid_0's auc: 0.778752\n",
      "[9]\tvalid_0's binary_logloss: 0.447644\tvalid_0's auc: 0.77948\n",
      "[10]\tvalid_0's binary_logloss: 0.442976\tvalid_0's auc: 0.78036\n",
      "[11]\tvalid_0's binary_logloss: 0.438718\tvalid_0's auc: 0.78282\n",
      "[12]\tvalid_0's binary_logloss: 0.436271\tvalid_0's auc: 0.781757\n",
      "[13]\tvalid_0's binary_logloss: 0.434238\tvalid_0's auc: 0.782308\n",
      "[14]\tvalid_0's binary_logloss: 0.432699\tvalid_0's auc: 0.782871\n",
      "[15]\tvalid_0's binary_logloss: 0.431586\tvalid_0's auc: 0.783214\n",
      "[16]\tvalid_0's binary_logloss: 0.430357\tvalid_0's auc: 0.784052\n",
      "[17]\tvalid_0's binary_logloss: 0.429776\tvalid_0's auc: 0.783941\n",
      "[18]\tvalid_0's binary_logloss: 0.429277\tvalid_0's auc: 0.78428\n",
      "[19]\tvalid_0's binary_logloss: 0.428952\tvalid_0's auc: 0.78448\n",
      "[20]\tvalid_0's binary_logloss: 0.428286\tvalid_0's auc: 0.784892\n",
      "[21]\tvalid_0's binary_logloss: 0.427717\tvalid_0's auc: 0.785891\n",
      "[22]\tvalid_0's binary_logloss: 0.42776\tvalid_0's auc: 0.785139\n",
      "[23]\tvalid_0's binary_logloss: 0.427899\tvalid_0's auc: 0.784668\n",
      "[24]\tvalid_0's binary_logloss: 0.428291\tvalid_0's auc: 0.784421\n",
      "[25]\tvalid_0's binary_logloss: 0.428206\tvalid_0's auc: 0.78459\n",
      "[26]\tvalid_0's binary_logloss: 0.428241\tvalid_0's auc: 0.784565\n",
      "Early stopping, best iteration is:\n",
      "[21]\tvalid_0's binary_logloss: 0.427717\tvalid_0's auc: 0.785891\n",
      "[1]\tvalid_0's binary_logloss: 0.621011\tvalid_0's auc: 0.767206\n",
      "Training until validation scores don't improve for 5 rounds.\n",
      "[2]\tvalid_0's binary_logloss: 0.570198\tvalid_0's auc: 0.776409\n",
      "[3]\tvalid_0's binary_logloss: 0.533692\tvalid_0's auc: 0.781998\n",
      "[4]\tvalid_0's binary_logloss: 0.507273\tvalid_0's auc: 0.782934\n"
     ]
    },
    {
     "name": "stderr",
     "output_type": "stream",
     "text": [
      "/anaconda3/lib/python3.6/site-packages/sklearn/preprocessing/label.py:151: DeprecationWarning: The truth value of an empty array is ambiguous. Returning False, but in future this will result in an error. Use `array.size > 0` to check that an array is not empty.\n",
      "  if diff:\n",
      "/anaconda3/lib/python3.6/site-packages/sklearn/preprocessing/label.py:151: DeprecationWarning: The truth value of an empty array is ambiguous. Returning False, but in future this will result in an error. Use `array.size > 0` to check that an array is not empty.\n",
      "  if diff:\n"
     ]
    },
    {
     "name": "stdout",
     "output_type": "stream",
     "text": [
      "[5]\tvalid_0's binary_logloss: 0.487496\tvalid_0's auc: 0.784328\n",
      "[6]\tvalid_0's binary_logloss: 0.47269\tvalid_0's auc: 0.784397\n",
      "[7]\tvalid_0's binary_logloss: 0.461147\tvalid_0's auc: 0.784762\n",
      "[8]\tvalid_0's binary_logloss: 0.452704\tvalid_0's auc: 0.785859\n",
      "[9]\tvalid_0's binary_logloss: 0.446588\tvalid_0's auc: 0.785696\n",
      "[10]\tvalid_0's binary_logloss: 0.441259\tvalid_0's auc: 0.786811\n",
      "[11]\tvalid_0's binary_logloss: 0.437504\tvalid_0's auc: 0.786854\n",
      "[12]\tvalid_0's binary_logloss: 0.435021\tvalid_0's auc: 0.786799\n",
      "[13]\tvalid_0's binary_logloss: 0.433029\tvalid_0's auc: 0.786269\n",
      "[14]\tvalid_0's binary_logloss: 0.432079\tvalid_0's auc: 0.78521\n",
      "[15]\tvalid_0's binary_logloss: 0.430691\tvalid_0's auc: 0.786164\n",
      "[16]\tvalid_0's binary_logloss: 0.430053\tvalid_0's auc: 0.786062\n",
      "Early stopping, best iteration is:\n",
      "[11]\tvalid_0's binary_logloss: 0.437504\tvalid_0's auc: 0.786854\n"
     ]
    },
    {
     "name": "stderr",
     "output_type": "stream",
     "text": [
      "/anaconda3/lib/python3.6/site-packages/sklearn/preprocessing/label.py:151: DeprecationWarning: The truth value of an empty array is ambiguous. Returning False, but in future this will result in an error. Use `array.size > 0` to check that an array is not empty.\n",
      "  if diff:\n",
      "/anaconda3/lib/python3.6/site-packages/sklearn/preprocessing/label.py:151: DeprecationWarning: The truth value of an empty array is ambiguous. Returning False, but in future this will result in an error. Use `array.size > 0` to check that an array is not empty.\n",
      "  if diff:\n"
     ]
    },
    {
     "name": "stdout",
     "output_type": "stream",
     "text": [
      "[1]\tvalid_0's binary_logloss: 0.619443\tvalid_0's auc: 0.769764\n",
      "Training until validation scores don't improve for 5 rounds.\n",
      "[2]\tvalid_0's binary_logloss: 0.568918\tvalid_0's auc: 0.773709\n",
      "[3]\tvalid_0's binary_logloss: 0.531981\tvalid_0's auc: 0.780023\n",
      "[4]\tvalid_0's binary_logloss: 0.504772\tvalid_0's auc: 0.784588\n",
      "[5]\tvalid_0's binary_logloss: 0.48488\tvalid_0's auc: 0.785666\n",
      "[6]\tvalid_0's binary_logloss: 0.469842\tvalid_0's auc: 0.786792\n",
      "[7]\tvalid_0's binary_logloss: 0.458962\tvalid_0's auc: 0.787214\n",
      "[8]\tvalid_0's binary_logloss: 0.450397\tvalid_0's auc: 0.787569\n",
      "[9]\tvalid_0's binary_logloss: 0.444395\tvalid_0's auc: 0.787161\n",
      "[10]\tvalid_0's binary_logloss: 0.440265\tvalid_0's auc: 0.785754\n",
      "[11]\tvalid_0's binary_logloss: 0.43682\tvalid_0's auc: 0.7856\n",
      "[12]\tvalid_0's binary_logloss: 0.434482\tvalid_0's auc: 0.784773\n",
      "[13]\tvalid_0's binary_logloss: 0.432948\tvalid_0's auc: 0.784308\n",
      "Early stopping, best iteration is:\n",
      "[8]\tvalid_0's binary_logloss: 0.450397\tvalid_0's auc: 0.787569\n",
      "[1]\tvalid_0's binary_logloss: 0.62011\tvalid_0's auc: 0.766616\n",
      "Training until validation scores don't improve for 5 rounds.\n",
      "[2]\tvalid_0's binary_logloss: 0.568798\tvalid_0's auc: 0.777432\n",
      "[3]\tvalid_0's binary_logloss: 0.533332\tvalid_0's auc: 0.777561\n",
      "[4]\tvalid_0's binary_logloss: 0.50629\tvalid_0's auc: 0.778406"
     ]
    },
    {
     "name": "stderr",
     "output_type": "stream",
     "text": [
      "/anaconda3/lib/python3.6/site-packages/sklearn/preprocessing/label.py:151: DeprecationWarning: The truth value of an empty array is ambiguous. Returning False, but in future this will result in an error. Use `array.size > 0` to check that an array is not empty.\n",
      "  if diff:\n",
      "/anaconda3/lib/python3.6/site-packages/sklearn/preprocessing/label.py:151: DeprecationWarning: The truth value of an empty array is ambiguous. Returning False, but in future this will result in an error. Use `array.size > 0` to check that an array is not empty.\n",
      "  if diff:\n"
     ]
    },
    {
     "name": "stdout",
     "output_type": "stream",
     "text": [
      "\n",
      "[5]\tvalid_0's binary_logloss: 0.486757\tvalid_0's auc: 0.778268\n",
      "[6]\tvalid_0's binary_logloss: 0.472149\tvalid_0's auc: 0.779047\n",
      "[7]\tvalid_0's binary_logloss: 0.461452\tvalid_0's auc: 0.779248\n",
      "[8]\tvalid_0's binary_logloss: 0.453853\tvalid_0's auc: 0.778752\n",
      "[9]\tvalid_0's binary_logloss: 0.447644\tvalid_0's auc: 0.77948\n",
      "[10]\tvalid_0's binary_logloss: 0.442976\tvalid_0's auc: 0.78036\n",
      "[11]\tvalid_0's binary_logloss: 0.438718\tvalid_0's auc: 0.78282\n",
      "[12]\tvalid_0's binary_logloss: 0.436271\tvalid_0's auc: 0.781757\n",
      "[13]\tvalid_0's binary_logloss: 0.434238\tvalid_0's auc: 0.782308\n",
      "[14]\tvalid_0's binary_logloss: 0.432699\tvalid_0's auc: 0.782871\n",
      "[15]\tvalid_0's binary_logloss: 0.431586\tvalid_0's auc: 0.783214\n",
      "[16]\tvalid_0's binary_logloss: 0.430357\tvalid_0's auc: 0.784052\n",
      "[17]\tvalid_0's binary_logloss: 0.429776\tvalid_0's auc: 0.783941\n",
      "[18]\tvalid_0's binary_logloss: 0.429277\tvalid_0's auc: 0.78428\n",
      "[19]\tvalid_0's binary_logloss: 0.428952\tvalid_0's auc: 0.78448\n",
      "[20]\tvalid_0's binary_logloss: 0.428286\tvalid_0's auc: 0.784892\n",
      "[21]\tvalid_0's binary_logloss: 0.427717\tvalid_0's auc: 0.785891\n",
      "[22]\tvalid_0's binary_logloss: 0.42776\tvalid_0's auc: 0.785139\n",
      "[23]\tvalid_0's binary_logloss: 0.427899\tvalid_0's auc: 0.784668\n",
      "[24]\tvalid_0's binary_logloss: 0.428291\tvalid_0's auc: 0.784421\n",
      "[25]\tvalid_0's binary_logloss: 0.428206\tvalid_0's auc: 0.78459\n",
      "[26]\tvalid_0's binary_logloss: 0.428241\tvalid_0's auc: 0.784565\n",
      "Early stopping, best iteration is:\n",
      "[21]\tvalid_0's binary_logloss: 0.427717\tvalid_0's auc: 0.785891\n"
     ]
    },
    {
     "name": "stderr",
     "output_type": "stream",
     "text": [
      "/anaconda3/lib/python3.6/site-packages/sklearn/preprocessing/label.py:151: DeprecationWarning: The truth value of an empty array is ambiguous. Returning False, but in future this will result in an error. Use `array.size > 0` to check that an array is not empty.\n",
      "  if diff:\n",
      "/anaconda3/lib/python3.6/site-packages/sklearn/preprocessing/label.py:151: DeprecationWarning: The truth value of an empty array is ambiguous. Returning False, but in future this will result in an error. Use `array.size > 0` to check that an array is not empty.\n",
      "  if diff:\n"
     ]
    },
    {
     "name": "stdout",
     "output_type": "stream",
     "text": [
      "[1]\tvalid_0's binary_logloss: 0.621011\tvalid_0's auc: 0.767206\n",
      "Training until validation scores don't improve for 5 rounds.\n",
      "[2]\tvalid_0's binary_logloss: 0.570198\tvalid_0's auc: 0.776409\n",
      "[3]\tvalid_0's binary_logloss: 0.533692\tvalid_0's auc: 0.781998\n",
      "[4]\tvalid_0's binary_logloss: 0.507273\tvalid_0's auc: 0.782934\n",
      "[5]\tvalid_0's binary_logloss: 0.487496\tvalid_0's auc: 0.784328\n",
      "[6]\tvalid_0's binary_logloss: 0.47269\tvalid_0's auc: 0.784397\n",
      "[7]\tvalid_0's binary_logloss: 0.461147\tvalid_0's auc: 0.784762\n",
      "[8]\tvalid_0's binary_logloss: 0.452704\tvalid_0's auc: 0.785859\n",
      "[9]\tvalid_0's binary_logloss: 0.446588\tvalid_0's auc: 0.785696\n",
      "[10]\tvalid_0's binary_logloss: 0.441259\tvalid_0's auc: 0.786811\n",
      "[11]\tvalid_0's binary_logloss: 0.437504\tvalid_0's auc: 0.786854\n",
      "[12]\tvalid_0's binary_logloss: 0.435021\tvalid_0's auc: 0.786799\n",
      "[13]\tvalid_0's binary_logloss: 0.433029\tvalid_0's auc: 0.786269\n",
      "[14]\tvalid_0's binary_logloss: 0.432079\tvalid_0's auc: 0.78521\n",
      "[15]\tvalid_0's binary_logloss: 0.430691\tvalid_0's auc: 0.786164\n",
      "[16]\tvalid_0's binary_logloss: 0.430053\tvalid_0's auc: 0.786062\n",
      "Early stopping, best iteration is:\n",
      "[11]\tvalid_0's binary_logloss: 0.437504\tvalid_0's auc: 0.786854\n"
     ]
    },
    {
     "name": "stderr",
     "output_type": "stream",
     "text": [
      "/anaconda3/lib/python3.6/site-packages/sklearn/preprocessing/label.py:151: DeprecationWarning: The truth value of an empty array is ambiguous. Returning False, but in future this will result in an error. Use `array.size > 0` to check that an array is not empty.\n",
      "  if diff:\n",
      "/anaconda3/lib/python3.6/site-packages/sklearn/preprocessing/label.py:151: DeprecationWarning: The truth value of an empty array is ambiguous. Returning False, but in future this will result in an error. Use `array.size > 0` to check that an array is not empty.\n",
      "  if diff:\n"
     ]
    },
    {
     "name": "stdout",
     "output_type": "stream",
     "text": [
      "[1]\tvalid_0's binary_logloss: 0.619443\tvalid_0's auc: 0.769764\n",
      "Training until validation scores don't improve for 5 rounds.\n",
      "[2]\tvalid_0's binary_logloss: 0.568918\tvalid_0's auc: 0.773709\n",
      "[3]\tvalid_0's binary_logloss: 0.531981\tvalid_0's auc: 0.780023\n",
      "[4]\tvalid_0's binary_logloss: 0.504772\tvalid_0's auc: 0.784588\n",
      "[5]\tvalid_0's binary_logloss: 0.48488\tvalid_0's auc: 0.785666\n",
      "[6]\tvalid_0's binary_logloss: 0.469842\tvalid_0's auc: 0.786792\n",
      "[7]\tvalid_0's binary_logloss: 0.458962\tvalid_0's auc: 0.787214\n",
      "[8]\tvalid_0's binary_logloss: 0.450397\tvalid_0's auc: 0.787569\n",
      "[9]\tvalid_0's binary_logloss: 0.444395\tvalid_0's auc: 0.787161\n",
      "[10]\tvalid_0's binary_logloss: 0.440265\tvalid_0's auc: 0.785754\n",
      "[11]\tvalid_0's binary_logloss: 0.43682\tvalid_0's auc: 0.7856\n",
      "[12]\tvalid_0's binary_logloss: 0.434482\tvalid_0's auc: 0.784773\n",
      "[13]\tvalid_0's binary_logloss: 0.432948\tvalid_0's auc: 0.784308\n",
      "Early stopping, best iteration is:\n",
      "[8]\tvalid_0's binary_logloss: 0.450397\tvalid_0's auc: 0.787569\n"
     ]
    },
    {
     "name": "stderr",
     "output_type": "stream",
     "text": [
      "/anaconda3/lib/python3.6/site-packages/sklearn/preprocessing/label.py:151: DeprecationWarning: The truth value of an empty array is ambiguous. Returning False, but in future this will result in an error. Use `array.size > 0` to check that an array is not empty.\n",
      "  if diff:\n",
      "/anaconda3/lib/python3.6/site-packages/sklearn/preprocessing/label.py:151: DeprecationWarning: The truth value of an empty array is ambiguous. Returning False, but in future this will result in an error. Use `array.size > 0` to check that an array is not empty.\n",
      "  if diff:\n"
     ]
    },
    {
     "name": "stdout",
     "output_type": "stream",
     "text": [
      "[1]\tvalid_0's binary_logloss: 0.62011\tvalid_0's auc: 0.766616\n",
      "Training until validation scores don't improve for 5 rounds.\n",
      "[2]\tvalid_0's binary_logloss: 0.568798\tvalid_0's auc: 0.777432\n",
      "[3]\tvalid_0's binary_logloss: 0.533332\tvalid_0's auc: 0.777561\n",
      "[4]\tvalid_0's binary_logloss: 0.50629\tvalid_0's auc: 0.778406\n",
      "[5]\tvalid_0's binary_logloss: 0.486757\tvalid_0's auc: 0.778268\n",
      "[6]\tvalid_0's binary_logloss: 0.472149\tvalid_0's auc: 0.779047\n",
      "[7]\tvalid_0's binary_logloss: 0.461452\tvalid_0's auc: 0.779248\n",
      "[8]\tvalid_0's binary_logloss: 0.453853\tvalid_0's auc: 0.778752\n",
      "[9]\tvalid_0's binary_logloss: 0.447644\tvalid_0's auc: 0.77948\n",
      "[10]\tvalid_0's binary_logloss: 0.442976\tvalid_0's auc: 0.78036\n",
      "[11]\tvalid_0's binary_logloss: 0.438718\tvalid_0's auc: 0.78282\n",
      "[12]\tvalid_0's binary_logloss: 0.436271\tvalid_0's auc: 0.781757\n",
      "[13]\tvalid_0's binary_logloss: 0.434238\tvalid_0's auc: 0.782308\n",
      "[14]\tvalid_0's binary_logloss: 0.432699\tvalid_0's auc: 0.782871\n",
      "[15]\tvalid_0's binary_logloss: 0.431586\tvalid_0's auc: 0.783214\n",
      "[16]\tvalid_0's binary_logloss: 0.430357\tvalid_0's auc: 0.784052\n",
      "[17]\tvalid_0's binary_logloss: 0.429776\tvalid_0's auc: 0.783941\n",
      "[18]\tvalid_0's binary_logloss: 0.429277\tvalid_0's auc: 0.78428\n",
      "[19]\tvalid_0's binary_logloss: 0.428952\tvalid_0's auc: 0.78448\n",
      "[20]\tvalid_0's binary_logloss: 0.428286\tvalid_0's auc: 0.784892\n",
      "[21]\tvalid_0's binary_logloss: 0.427717\tvalid_0's auc: 0.785891\n",
      "[22]\tvalid_0's binary_logloss: 0.42776\tvalid_0's auc: 0.785139\n",
      "[23]\tvalid_0's binary_logloss: 0.427899\tvalid_0's auc: 0.784668\n",
      "[24]\tvalid_0's binary_logloss: 0.428291\tvalid_0's auc: 0.784421\n",
      "[25]\tvalid_0's binary_logloss: 0.428206\tvalid_0's auc: 0.78459\n",
      "[26]\tvalid_0's binary_logloss: 0.428241\tvalid_0's auc: 0.784565\n",
      "Early stopping, best iteration is:\n",
      "[21]\tvalid_0's binary_logloss: 0.427717\tvalid_0's auc: 0.785891\n"
     ]
    },
    {
     "name": "stderr",
     "output_type": "stream",
     "text": [
      "/anaconda3/lib/python3.6/site-packages/sklearn/preprocessing/label.py:151: DeprecationWarning: The truth value of an empty array is ambiguous. Returning False, but in future this will result in an error. Use `array.size > 0` to check that an array is not empty.\n",
      "  if diff:\n",
      "/anaconda3/lib/python3.6/site-packages/sklearn/preprocessing/label.py:151: DeprecationWarning: The truth value of an empty array is ambiguous. Returning False, but in future this will result in an error. Use `array.size > 0` to check that an array is not empty.\n",
      "  if diff:\n"
     ]
    },
    {
     "name": "stdout",
     "output_type": "stream",
     "text": [
      "[1]\tvalid_0's binary_logloss: 0.621011\tvalid_0's auc: 0.767206\n",
      "Training until validation scores don't improve for 5 rounds.\n",
      "[2]\tvalid_0's binary_logloss: 0.570198\tvalid_0's auc: 0.776409\n",
      "[3]\tvalid_0's binary_logloss: 0.533692\tvalid_0's auc: 0.781998\n",
      "[4]\tvalid_0's binary_logloss: 0.507273\tvalid_0's auc: 0.782934\n",
      "[5]\tvalid_0's binary_logloss: 0.487496\tvalid_0's auc: 0.784328\n",
      "[6]\tvalid_0's binary_logloss: 0.47269\tvalid_0's auc: 0.784397\n",
      "[7]\tvalid_0's binary_logloss: 0.461147\tvalid_0's auc: 0.784762\n",
      "[8]\tvalid_0's binary_logloss: 0.452704\tvalid_0's auc: 0.785859\n",
      "[9]\tvalid_0's binary_logloss: 0.446588\tvalid_0's auc: 0.785696\n",
      "[10]\tvalid_0's binary_logloss: 0.441259\tvalid_0's auc: 0.786811\n",
      "[11]\tvalid_0's binary_logloss: 0.437504\tvalid_0's auc: 0.786854\n",
      "[12]\tvalid_0's binary_logloss: 0.435021\tvalid_0's auc: 0.786799\n",
      "[13]\tvalid_0's binary_logloss: 0.433029\tvalid_0's auc: 0.786269\n",
      "[14]\tvalid_0's binary_logloss: 0.432079\tvalid_0's auc: 0.78521\n",
      "[15]\tvalid_0's binary_logloss: 0.430691\tvalid_0's auc: 0.786164\n",
      "[16]\tvalid_0's binary_logloss: 0.430053\tvalid_0's auc: 0.786062\n",
      "Early stopping, best iteration is:\n",
      "[11]\tvalid_0's binary_logloss: 0.437504\tvalid_0's auc: 0.786854\n"
     ]
    },
    {
     "name": "stderr",
     "output_type": "stream",
     "text": [
      "/anaconda3/lib/python3.6/site-packages/sklearn/preprocessing/label.py:151: DeprecationWarning: The truth value of an empty array is ambiguous. Returning False, but in future this will result in an error. Use `array.size > 0` to check that an array is not empty.\n",
      "  if diff:\n",
      "/anaconda3/lib/python3.6/site-packages/sklearn/preprocessing/label.py:151: DeprecationWarning: The truth value of an empty array is ambiguous. Returning False, but in future this will result in an error. Use `array.size > 0` to check that an array is not empty.\n",
      "  if diff:\n"
     ]
    },
    {
     "name": "stdout",
     "output_type": "stream",
     "text": [
      "[1]\tvalid_0's binary_logloss: 0.619443\tvalid_0's auc: 0.769764\n",
      "Training until validation scores don't improve for 5 rounds.\n",
      "[2]\tvalid_0's binary_logloss: 0.568918\tvalid_0's auc: 0.773709\n",
      "[3]\tvalid_0's binary_logloss: 0.531981\tvalid_0's auc: 0.780023\n",
      "[4]\tvalid_0's binary_logloss: 0.504772\tvalid_0's auc: 0.784588\n",
      "[5]\tvalid_0's binary_logloss: 0.48488\tvalid_0's auc: 0.785666\n",
      "[6]\tvalid_0's binary_logloss: 0.469842\tvalid_0's auc: 0.786792\n",
      "[7]\tvalid_0's binary_logloss: 0.458962\tvalid_0's auc: 0.787214\n",
      "[8]\tvalid_0's binary_logloss: 0.450397\tvalid_0's auc: 0.787569\n",
      "[9]\tvalid_0's binary_logloss: 0.444395\tvalid_0's auc: 0.787161\n",
      "[10]\tvalid_0's binary_logloss: 0.440265\tvalid_0's auc: 0.785754\n",
      "[11]\tvalid_0's binary_logloss: 0.43682\tvalid_0's auc: 0.7856\n",
      "[12]\tvalid_0's binary_logloss: 0.434482\tvalid_0's auc: 0.784773\n",
      "[13]\tvalid_0's binary_logloss: 0.432948\tvalid_0's auc: 0.784308\n",
      "Early stopping, best iteration is:\n",
      "[8]\tvalid_0's binary_logloss: 0.450397\tvalid_0's auc: 0.787569\n"
     ]
    },
    {
     "name": "stderr",
     "output_type": "stream",
     "text": [
      "/anaconda3/lib/python3.6/site-packages/sklearn/preprocessing/label.py:151: DeprecationWarning: The truth value of an empty array is ambiguous. Returning False, but in future this will result in an error. Use `array.size > 0` to check that an array is not empty.\n",
      "  if diff:\n",
      "/anaconda3/lib/python3.6/site-packages/sklearn/preprocessing/label.py:151: DeprecationWarning: The truth value of an empty array is ambiguous. Returning False, but in future this will result in an error. Use `array.size > 0` to check that an array is not empty.\n",
      "  if diff:\n"
     ]
    },
    {
     "name": "stdout",
     "output_type": "stream",
     "text": [
      "[1]\tvalid_0's binary_logloss: 0.62011\tvalid_0's auc: 0.766616\n",
      "Training until validation scores don't improve for 5 rounds.\n",
      "[2]\tvalid_0's binary_logloss: 0.568798\tvalid_0's auc: 0.777432\n",
      "[3]\tvalid_0's binary_logloss: 0.533332\tvalid_0's auc: 0.777561\n",
      "[4]\tvalid_0's binary_logloss: 0.50629\tvalid_0's auc: 0.778406\n",
      "[5]\tvalid_0's binary_logloss: 0.486757\tvalid_0's auc: 0.778268\n",
      "[6]\tvalid_0's binary_logloss: 0.472149\tvalid_0's auc: 0.779047\n",
      "[7]\tvalid_0's binary_logloss: 0.461452\tvalid_0's auc: 0.779248\n",
      "[8]\tvalid_0's binary_logloss: 0.453853\tvalid_0's auc: 0.778752\n",
      "[9]\tvalid_0's binary_logloss: 0.447644\tvalid_0's auc: 0.77948\n",
      "[10]\tvalid_0's binary_logloss: 0.442976\tvalid_0's auc: 0.78036\n",
      "[11]\tvalid_0's binary_logloss: 0.438718\tvalid_0's auc: 0.78282\n",
      "[12]\tvalid_0's binary_logloss: 0.436271\tvalid_0's auc: 0.781757\n",
      "[13]\tvalid_0's binary_logloss: 0.434238\tvalid_0's auc: 0.782308\n",
      "[14]\tvalid_0's binary_logloss: 0.432699\tvalid_0's auc: 0.782871\n",
      "[15]\tvalid_0's binary_logloss: 0.431586\tvalid_0's auc: 0.783214\n",
      "[16]\tvalid_0's binary_logloss: 0.430357\tvalid_0's auc: 0.784052\n",
      "[17]\tvalid_0's binary_logloss: 0.429776\tvalid_0's auc: 0.783941\n",
      "[18]\tvalid_0's binary_logloss: 0.429277\tvalid_0's auc: 0.78428\n",
      "[19]\tvalid_0's binary_logloss: 0.428952\tvalid_0's auc: 0.78448\n",
      "[20]\tvalid_0's binary_logloss: 0.428286\tvalid_0's auc: 0.784892\n",
      "[21]\tvalid_0's binary_logloss: 0.427717\tvalid_0's auc: 0.785891\n",
      "[22]\tvalid_0's binary_logloss: 0.42776\tvalid_0's auc: 0.785139\n",
      "[23]\tvalid_0's binary_logloss: 0.427899\tvalid_0's auc: 0.784668\n",
      "[24]\tvalid_0's binary_logloss: 0.428291\tvalid_0's auc: 0.784421\n",
      "[25]\tvalid_0's binary_logloss: 0.428206\tvalid_0's auc: 0.78459\n",
      "[26]\tvalid_0's binary_logloss: 0.428241\tvalid_0's auc: 0.784565\n",
      "Early stopping, best iteration is:\n",
      "[21]\tvalid_0's binary_logloss: 0.427717\tvalid_0's auc: 0.785891\n",
      "[1]\tvalid_0's binary_logloss: 0.621011\tvalid_0's auc: 0.767206\n",
      "Training until validation scores don't improve for 5 rounds.\n",
      "[2]\tvalid_0's binary_logloss: 0.570198\tvalid_0's auc: 0.776409\n",
      "[3]\tvalid_0's binary_logloss: 0.533692\tvalid_0's auc: 0.781998\n",
      "[4]\tvalid_0's binary_logloss: 0.507273\tvalid_0's auc: 0.782934\n",
      "[5]\tvalid_0's binary_logloss: 0.487496\tvalid_0's auc: 0.784328\n",
      "[6]\tvalid_0's binary_logloss: 0.47269\tvalid_0's auc: 0.784397\n",
      "[7]\tvalid_0's binary_logloss: 0.461147\tvalid_0's auc: 0.784762"
     ]
    },
    {
     "name": "stderr",
     "output_type": "stream",
     "text": [
      "/anaconda3/lib/python3.6/site-packages/sklearn/preprocessing/label.py:151: DeprecationWarning: The truth value of an empty array is ambiguous. Returning False, but in future this will result in an error. Use `array.size > 0` to check that an array is not empty.\n",
      "  if diff:\n",
      "/anaconda3/lib/python3.6/site-packages/sklearn/preprocessing/label.py:151: DeprecationWarning: The truth value of an empty array is ambiguous. Returning False, but in future this will result in an error. Use `array.size > 0` to check that an array is not empty.\n",
      "  if diff:\n"
     ]
    },
    {
     "name": "stdout",
     "output_type": "stream",
     "text": [
      "\n",
      "[8]\tvalid_0's binary_logloss: 0.452704\tvalid_0's auc: 0.785859\n",
      "[9]\tvalid_0's binary_logloss: 0.446588\tvalid_0's auc: 0.785696\n",
      "[10]\tvalid_0's binary_logloss: 0.441259\tvalid_0's auc: 0.786811\n",
      "[11]\tvalid_0's binary_logloss: 0.437504\tvalid_0's auc: 0.786854\n",
      "[12]\tvalid_0's binary_logloss: 0.435021\tvalid_0's auc: 0.786799\n",
      "[13]\tvalid_0's binary_logloss: 0.433029\tvalid_0's auc: 0.786269\n",
      "[14]\tvalid_0's binary_logloss: 0.432079\tvalid_0's auc: 0.78521\n",
      "[15]\tvalid_0's binary_logloss: 0.430691\tvalid_0's auc: 0.786164\n",
      "[16]\tvalid_0's binary_logloss: 0.430053\tvalid_0's auc: 0.786062\n",
      "Early stopping, best iteration is:\n",
      "[11]\tvalid_0's binary_logloss: 0.437504\tvalid_0's auc: 0.786854\n",
      "[1]\tvalid_0's binary_logloss: 0.619443\tvalid_0's auc: 0.769764"
     ]
    },
    {
     "name": "stderr",
     "output_type": "stream",
     "text": [
      "/anaconda3/lib/python3.6/site-packages/sklearn/preprocessing/label.py:151: DeprecationWarning: The truth value of an empty array is ambiguous. Returning False, but in future this will result in an error. Use `array.size > 0` to check that an array is not empty.\n",
      "  if diff:\n",
      "/anaconda3/lib/python3.6/site-packages/sklearn/preprocessing/label.py:151: DeprecationWarning: The truth value of an empty array is ambiguous. Returning False, but in future this will result in an error. Use `array.size > 0` to check that an array is not empty.\n",
      "  if diff:\n"
     ]
    },
    {
     "name": "stdout",
     "output_type": "stream",
     "text": [
      "\n",
      "Training until validation scores don't improve for 5 rounds.\n",
      "[2]\tvalid_0's binary_logloss: 0.568918\tvalid_0's auc: 0.773709\n",
      "[3]\tvalid_0's binary_logloss: 0.531981\tvalid_0's auc: 0.780023\n",
      "[4]\tvalid_0's binary_logloss: 0.504772\tvalid_0's auc: 0.784588\n",
      "[5]\tvalid_0's binary_logloss: 0.48488\tvalid_0's auc: 0.785666\n",
      "[6]\tvalid_0's binary_logloss: 0.469842\tvalid_0's auc: 0.786792\n",
      "[7]\tvalid_0's binary_logloss: 0.458962\tvalid_0's auc: 0.787214\n",
      "[8]\tvalid_0's binary_logloss: 0.450397\tvalid_0's auc: 0.787569\n",
      "[9]\tvalid_0's binary_logloss: 0.444395\tvalid_0's auc: 0.787161\n",
      "[10]\tvalid_0's binary_logloss: 0.440265\tvalid_0's auc: 0.785754\n",
      "[11]\tvalid_0's binary_logloss: 0.43682\tvalid_0's auc: 0.7856\n",
      "[12]\tvalid_0's binary_logloss: 0.434482\tvalid_0's auc: 0.784773\n",
      "[13]\tvalid_0's binary_logloss: 0.432948\tvalid_0's auc: 0.784308\n",
      "Early stopping, best iteration is:\n",
      "[8]\tvalid_0's binary_logloss: 0.450397\tvalid_0's auc: 0.787569\n"
     ]
    },
    {
     "name": "stderr",
     "output_type": "stream",
     "text": [
      "/anaconda3/lib/python3.6/site-packages/sklearn/preprocessing/label.py:151: DeprecationWarning: The truth value of an empty array is ambiguous. Returning False, but in future this will result in an error. Use `array.size > 0` to check that an array is not empty.\n",
      "  if diff:\n",
      "/anaconda3/lib/python3.6/site-packages/sklearn/preprocessing/label.py:151: DeprecationWarning: The truth value of an empty array is ambiguous. Returning False, but in future this will result in an error. Use `array.size > 0` to check that an array is not empty.\n",
      "  if diff:\n"
     ]
    },
    {
     "name": "stdout",
     "output_type": "stream",
     "text": [
      "[1]\tvalid_0's binary_logloss: 0.62011\tvalid_0's auc: 0.766616\n",
      "Training until validation scores don't improve for 5 rounds.\n",
      "[2]\tvalid_0's binary_logloss: 0.568798\tvalid_0's auc: 0.777432\n",
      "[3]\tvalid_0's binary_logloss: 0.533332\tvalid_0's auc: 0.777561\n",
      "[4]\tvalid_0's binary_logloss: 0.50629\tvalid_0's auc: 0.778406\n",
      "[5]\tvalid_0's binary_logloss: 0.486757\tvalid_0's auc: 0.778268\n",
      "[6]\tvalid_0's binary_logloss: 0.472149\tvalid_0's auc: 0.779047\n",
      "[7]\tvalid_0's binary_logloss: 0.461452\tvalid_0's auc: 0.779248\n",
      "[8]\tvalid_0's binary_logloss: 0.453853\tvalid_0's auc: 0.778752\n",
      "[9]\tvalid_0's binary_logloss: 0.447644\tvalid_0's auc: 0.77948\n",
      "[10]\tvalid_0's binary_logloss: 0.442976\tvalid_0's auc: 0.78036\n",
      "[11]\tvalid_0's binary_logloss: 0.438718\tvalid_0's auc: 0.78282\n",
      "[12]\tvalid_0's binary_logloss: 0.436271\tvalid_0's auc: 0.781757\n",
      "[13]\tvalid_0's binary_logloss: 0.434238\tvalid_0's auc: 0.782308\n",
      "[14]\tvalid_0's binary_logloss: 0.432699\tvalid_0's auc: 0.782871\n",
      "[15]\tvalid_0's binary_logloss: 0.431586\tvalid_0's auc: 0.783214\n",
      "[16]\tvalid_0's binary_logloss: 0.430357\tvalid_0's auc: 0.784052\n",
      "[17]\tvalid_0's binary_logloss: 0.429776\tvalid_0's auc: 0.783941\n",
      "[18]\tvalid_0's binary_logloss: 0.429277\tvalid_0's auc: 0.78428\n",
      "[19]\tvalid_0's binary_logloss: 0.428952\tvalid_0's auc: 0.78448\n",
      "[20]\tvalid_0's binary_logloss: 0.428286\tvalid_0's auc: 0.784892\n",
      "[21]\tvalid_0's binary_logloss: 0.427717\tvalid_0's auc: 0.785891\n",
      "[22]\tvalid_0's binary_logloss: 0.42776\tvalid_0's auc: 0.785139\n",
      "[23]\tvalid_0's binary_logloss: 0.427899\tvalid_0's auc: 0.784668\n",
      "[24]\tvalid_0's binary_logloss: 0.428291\tvalid_0's auc: 0.784421\n",
      "[25]\tvalid_0's binary_logloss: 0.428206\tvalid_0's auc: 0.78459\n",
      "[26]\tvalid_0's binary_logloss: 0.428241\tvalid_0's auc: 0.784565\n",
      "Early stopping, best iteration is:\n",
      "[21]\tvalid_0's binary_logloss: 0.427717\tvalid_0's auc: 0.785891\n"
     ]
    },
    {
     "name": "stderr",
     "output_type": "stream",
     "text": [
      "/anaconda3/lib/python3.6/site-packages/sklearn/preprocessing/label.py:151: DeprecationWarning: The truth value of an empty array is ambiguous. Returning False, but in future this will result in an error. Use `array.size > 0` to check that an array is not empty.\n",
      "  if diff:\n",
      "/anaconda3/lib/python3.6/site-packages/sklearn/preprocessing/label.py:151: DeprecationWarning: The truth value of an empty array is ambiguous. Returning False, but in future this will result in an error. Use `array.size > 0` to check that an array is not empty.\n",
      "  if diff:\n"
     ]
    },
    {
     "name": "stdout",
     "output_type": "stream",
     "text": [
      "[1]\tvalid_0's binary_logloss: 0.611848\tvalid_0's auc: 0.767206\n",
      "Training until validation scores don't improve for 5 rounds.\n",
      "[2]\tvalid_0's binary_logloss: 0.55808\tvalid_0's auc: 0.772789\n",
      "[3]\tvalid_0's binary_logloss: 0.520459\tvalid_0's auc: 0.780923\n",
      "[4]\tvalid_0's binary_logloss: 0.494111\tvalid_0's auc: 0.782957\n",
      "[5]\tvalid_0's binary_logloss: 0.475705\tvalid_0's auc: 0.78317\n",
      "[6]\tvalid_0's binary_logloss: 0.462637\tvalid_0's auc: 0.783743\n",
      "[7]\tvalid_0's binary_logloss: 0.452946\tvalid_0's auc: 0.783721\n",
      "[8]\tvalid_0's binary_logloss: 0.44562\tvalid_0's auc: 0.784642\n",
      "[9]\tvalid_0's binary_logloss: 0.440672\tvalid_0's auc: 0.785051\n",
      "[10]\tvalid_0's binary_logloss: 0.436674\tvalid_0's auc: 0.786866\n",
      "[11]\tvalid_0's binary_logloss: 0.434237\tvalid_0's auc: 0.786186\n",
      "[12]\tvalid_0's binary_logloss: 0.433059\tvalid_0's auc: 0.78457\n",
      "[13]\tvalid_0's binary_logloss: 0.43123\tvalid_0's auc: 0.785782\n",
      "[14]\tvalid_0's binary_logloss: 0.430377\tvalid_0's auc: 0.785166\n",
      "[15]\tvalid_0's binary_logloss: 0.429823\tvalid_0's auc: 0.78462\n",
      "Early stopping, best iteration is:\n",
      "[10]\tvalid_0's binary_logloss: 0.436674\tvalid_0's auc: 0.786866\n"
     ]
    },
    {
     "name": "stderr",
     "output_type": "stream",
     "text": [
      "/anaconda3/lib/python3.6/site-packages/sklearn/preprocessing/label.py:151: DeprecationWarning: The truth value of an empty array is ambiguous. Returning False, but in future this will result in an error. Use `array.size > 0` to check that an array is not empty.\n",
      "  if diff:\n",
      "/anaconda3/lib/python3.6/site-packages/sklearn/preprocessing/label.py:151: DeprecationWarning: The truth value of an empty array is ambiguous. Returning False, but in future this will result in an error. Use `array.size > 0` to check that an array is not empty.\n",
      "  if diff:\n"
     ]
    },
    {
     "name": "stdout",
     "output_type": "stream",
     "text": [
      "[1]\tvalid_0's binary_logloss: 0.610084\tvalid_0's auc: 0.769764\n",
      "Training until validation scores don't improve for 5 rounds.\n",
      "[2]\tvalid_0's binary_logloss: 0.555719\tvalid_0's auc: 0.779276\n",
      "[3]\tvalid_0's binary_logloss: 0.517996\tvalid_0's auc: 0.783904\n",
      "[4]\tvalid_0's binary_logloss: 0.491513\tvalid_0's auc: 0.784994\n",
      "[5]\tvalid_0's binary_logloss: 0.472677\tvalid_0's auc: 0.78442\n",
      "[6]\tvalid_0's binary_logloss: 0.459449\tvalid_0's auc: 0.785824\n",
      "[7]\tvalid_0's binary_logloss: 0.449707\tvalid_0's auc: 0.787\n",
      "[8]\tvalid_0's binary_logloss: 0.44385\tvalid_0's auc: 0.785518\n",
      "[9]\tvalid_0's binary_logloss: 0.438557\tvalid_0's auc: 0.787221\n",
      "[10]\tvalid_0's binary_logloss: 0.435406\tvalid_0's auc: 0.786382\n",
      "[11]\tvalid_0's binary_logloss: 0.433066\tvalid_0's auc: 0.785813\n",
      "[12]\tvalid_0's binary_logloss: 0.431576\tvalid_0's auc: 0.785735\n",
      "[13]\tvalid_0's binary_logloss: 0.430411\tvalid_0's auc: 0.785481\n",
      "[14]\tvalid_0's binary_logloss: 0.429705\tvalid_0's auc: 0.785348\n",
      "Early stopping, best iteration is:\n",
      "[9]\tvalid_0's binary_logloss: 0.438557\tvalid_0's auc: 0.787221\n"
     ]
    },
    {
     "name": "stderr",
     "output_type": "stream",
     "text": [
      "/anaconda3/lib/python3.6/site-packages/sklearn/preprocessing/label.py:151: DeprecationWarning: The truth value of an empty array is ambiguous. Returning False, but in future this will result in an error. Use `array.size > 0` to check that an array is not empty.\n",
      "  if diff:\n",
      "/anaconda3/lib/python3.6/site-packages/sklearn/preprocessing/label.py:151: DeprecationWarning: The truth value of an empty array is ambiguous. Returning False, but in future this will result in an error. Use `array.size > 0` to check that an array is not empty.\n",
      "  if diff:\n"
     ]
    },
    {
     "name": "stdout",
     "output_type": "stream",
     "text": [
      "[1]\tvalid_0's binary_logloss: 0.610832\tvalid_0's auc: 0.766616\n",
      "Training until validation scores don't improve for 5 rounds.\n",
      "[2]\tvalid_0's binary_logloss: 0.556635\tvalid_0's auc: 0.775691\n",
      "[3]\tvalid_0's binary_logloss: 0.51919\tvalid_0's auc: 0.779031\n",
      "[4]\tvalid_0's binary_logloss: 0.49348\tvalid_0's auc: 0.778357\n",
      "[5]\tvalid_0's binary_logloss: 0.475186\tvalid_0's auc: 0.77921\n",
      "[6]\tvalid_0's binary_logloss: 0.462041\tvalid_0's auc: 0.780981\n",
      "[7]\tvalid_0's binary_logloss: 0.452851\tvalid_0's auc: 0.779832\n",
      "[8]\tvalid_0's binary_logloss: 0.445906\tvalid_0's auc: 0.780781\n",
      "[9]\tvalid_0's binary_logloss: 0.440981\tvalid_0's auc: 0.780393\n",
      "[10]\tvalid_0's binary_logloss: 0.437457\tvalid_0's auc: 0.781018\n",
      "[11]\tvalid_0's binary_logloss: 0.43497\tvalid_0's auc: 0.781142\n",
      "[12]\tvalid_0's binary_logloss: 0.433024\tvalid_0's auc: 0.781925\n",
      "[13]\tvalid_0's binary_logloss: 0.431559\tvalid_0's auc: 0.78232\n",
      "[14]\tvalid_0's binary_logloss: 0.430653\tvalid_0's auc: 0.782297\n",
      "[15]\tvalid_0's binary_logloss: 0.430551\tvalid_0's auc: 0.781434\n",
      "[16]\tvalid_0's binary_logloss: 0.430328\tvalid_0's auc: 0.781259\n",
      "[17]\tvalid_0's binary_logloss: 0.429864\tvalid_0's auc: 0.781813\n",
      "[18]\tvalid_0's binary_logloss: 0.430269\tvalid_0's auc: 0.781095\n",
      "Early stopping, best iteration is:\n",
      "[13]\tvalid_0's binary_logloss: 0.431559\tvalid_0's auc: 0.78232\n"
     ]
    },
    {
     "name": "stderr",
     "output_type": "stream",
     "text": [
      "/anaconda3/lib/python3.6/site-packages/sklearn/preprocessing/label.py:151: DeprecationWarning: The truth value of an empty array is ambiguous. Returning False, but in future this will result in an error. Use `array.size > 0` to check that an array is not empty.\n",
      "  if diff:\n",
      "/anaconda3/lib/python3.6/site-packages/sklearn/preprocessing/label.py:151: DeprecationWarning: The truth value of an empty array is ambiguous. Returning False, but in future this will result in an error. Use `array.size > 0` to check that an array is not empty.\n",
      "  if diff:\n"
     ]
    },
    {
     "name": "stdout",
     "output_type": "stream",
     "text": [
      "[1]\tvalid_0's binary_logloss: 0.611848\tvalid_0's auc: 0.767206\n",
      "Training until validation scores don't improve for 5 rounds.\n",
      "[2]\tvalid_0's binary_logloss: 0.55808\tvalid_0's auc: 0.772789\n",
      "[3]\tvalid_0's binary_logloss: 0.520459\tvalid_0's auc: 0.780923\n",
      "[4]\tvalid_0's binary_logloss: 0.494111\tvalid_0's auc: 0.782957\n",
      "[5]\tvalid_0's binary_logloss: 0.475705\tvalid_0's auc: 0.78317\n",
      "[6]\tvalid_0's binary_logloss: 0.462637\tvalid_0's auc: 0.783743\n",
      "[7]\tvalid_0's binary_logloss: 0.452946\tvalid_0's auc: 0.783721\n",
      "[8]\tvalid_0's binary_logloss: 0.44562\tvalid_0's auc: 0.784642\n",
      "[9]\tvalid_0's binary_logloss: 0.440672\tvalid_0's auc: 0.785051\n",
      "[10]\tvalid_0's binary_logloss: 0.436674\tvalid_0's auc: 0.786866\n",
      "[11]\tvalid_0's binary_logloss: 0.434237\tvalid_0's auc: 0.786186\n",
      "[12]\tvalid_0's binary_logloss: 0.433059\tvalid_0's auc: 0.78457\n",
      "[13]\tvalid_0's binary_logloss: 0.43123\tvalid_0's auc: 0.785782\n",
      "[14]\tvalid_0's binary_logloss: 0.430377\tvalid_0's auc: 0.785166\n",
      "[15]\tvalid_0's binary_logloss: 0.429823\tvalid_0's auc: 0.78462\n",
      "Early stopping, best iteration is:\n",
      "[10]\tvalid_0's binary_logloss: 0.436674\tvalid_0's auc: 0.786866\n"
     ]
    },
    {
     "name": "stderr",
     "output_type": "stream",
     "text": [
      "/anaconda3/lib/python3.6/site-packages/sklearn/preprocessing/label.py:151: DeprecationWarning: The truth value of an empty array is ambiguous. Returning False, but in future this will result in an error. Use `array.size > 0` to check that an array is not empty.\n",
      "  if diff:\n",
      "/anaconda3/lib/python3.6/site-packages/sklearn/preprocessing/label.py:151: DeprecationWarning: The truth value of an empty array is ambiguous. Returning False, but in future this will result in an error. Use `array.size > 0` to check that an array is not empty.\n",
      "  if diff:\n"
     ]
    },
    {
     "name": "stdout",
     "output_type": "stream",
     "text": [
      "[1]\tvalid_0's binary_logloss: 0.610084\tvalid_0's auc: 0.769764\n",
      "Training until validation scores don't improve for 5 rounds.\n",
      "[2]\tvalid_0's binary_logloss: 0.555719\tvalid_0's auc: 0.779276\n",
      "[3]\tvalid_0's binary_logloss: 0.517996\tvalid_0's auc: 0.783904\n",
      "[4]\tvalid_0's binary_logloss: 0.491513\tvalid_0's auc: 0.784994\n",
      "[5]\tvalid_0's binary_logloss: 0.472677\tvalid_0's auc: 0.78442\n",
      "[6]\tvalid_0's binary_logloss: 0.459449\tvalid_0's auc: 0.785824\n",
      "[7]\tvalid_0's binary_logloss: 0.449707\tvalid_0's auc: 0.787\n",
      "[8]\tvalid_0's binary_logloss: 0.44385\tvalid_0's auc: 0.785518\n",
      "[9]\tvalid_0's binary_logloss: 0.438557\tvalid_0's auc: 0.787221\n",
      "[10]\tvalid_0's binary_logloss: 0.435406\tvalid_0's auc: 0.786382\n",
      "[11]\tvalid_0's binary_logloss: 0.433066\tvalid_0's auc: 0.785813\n",
      "[12]\tvalid_0's binary_logloss: 0.431576\tvalid_0's auc: 0.785735\n",
      "[13]\tvalid_0's binary_logloss: 0.430411\tvalid_0's auc: 0.785481\n",
      "[14]\tvalid_0's binary_logloss: 0.429705\tvalid_0's auc: 0.785348\n",
      "Early stopping, best iteration is:\n",
      "[9]\tvalid_0's binary_logloss: 0.438557\tvalid_0's auc: 0.787221\n"
     ]
    },
    {
     "name": "stderr",
     "output_type": "stream",
     "text": [
      "/anaconda3/lib/python3.6/site-packages/sklearn/preprocessing/label.py:151: DeprecationWarning: The truth value of an empty array is ambiguous. Returning False, but in future this will result in an error. Use `array.size > 0` to check that an array is not empty.\n",
      "  if diff:\n",
      "/anaconda3/lib/python3.6/site-packages/sklearn/preprocessing/label.py:151: DeprecationWarning: The truth value of an empty array is ambiguous. Returning False, but in future this will result in an error. Use `array.size > 0` to check that an array is not empty.\n",
      "  if diff:\n"
     ]
    },
    {
     "name": "stdout",
     "output_type": "stream",
     "text": [
      "[1]\tvalid_0's binary_logloss: 0.610832\tvalid_0's auc: 0.766616\n",
      "Training until validation scores don't improve for 5 rounds.\n",
      "[2]\tvalid_0's binary_logloss: 0.556635\tvalid_0's auc: 0.775691\n",
      "[3]\tvalid_0's binary_logloss: 0.51919\tvalid_0's auc: 0.779031\n",
      "[4]\tvalid_0's binary_logloss: 0.49348\tvalid_0's auc: 0.778357\n",
      "[5]\tvalid_0's binary_logloss: 0.475186\tvalid_0's auc: 0.77921\n",
      "[6]\tvalid_0's binary_logloss: 0.462041\tvalid_0's auc: 0.780981\n",
      "[7]\tvalid_0's binary_logloss: 0.452851\tvalid_0's auc: 0.779832\n",
      "[8]\tvalid_0's binary_logloss: 0.445906\tvalid_0's auc: 0.780781\n",
      "[9]\tvalid_0's binary_logloss: 0.440981\tvalid_0's auc: 0.780393\n",
      "[10]\tvalid_0's binary_logloss: 0.437457\tvalid_0's auc: 0.781018\n",
      "[11]\tvalid_0's binary_logloss: 0.43497\tvalid_0's auc: 0.781142\n",
      "[12]\tvalid_0's binary_logloss: 0.433024\tvalid_0's auc: 0.781925\n",
      "[13]\tvalid_0's binary_logloss: 0.431559\tvalid_0's auc: 0.78232\n",
      "[14]\tvalid_0's binary_logloss: 0.430653\tvalid_0's auc: 0.782297\n",
      "[15]\tvalid_0's binary_logloss: 0.430551\tvalid_0's auc: 0.781434\n",
      "[16]\tvalid_0's binary_logloss: 0.430328\tvalid_0's auc: 0.781259\n",
      "[17]\tvalid_0's binary_logloss: 0.429864\tvalid_0's auc: 0.781813\n",
      "[18]\tvalid_0's binary_logloss: 0.430269\tvalid_0's auc: 0.781095\n",
      "Early stopping, best iteration is:\n",
      "[13]\tvalid_0's binary_logloss: 0.431559\tvalid_0's auc: 0.78232\n"
     ]
    },
    {
     "name": "stderr",
     "output_type": "stream",
     "text": [
      "/anaconda3/lib/python3.6/site-packages/sklearn/preprocessing/label.py:151: DeprecationWarning: The truth value of an empty array is ambiguous. Returning False, but in future this will result in an error. Use `array.size > 0` to check that an array is not empty.\n",
      "  if diff:\n",
      "/anaconda3/lib/python3.6/site-packages/sklearn/preprocessing/label.py:151: DeprecationWarning: The truth value of an empty array is ambiguous. Returning False, but in future this will result in an error. Use `array.size > 0` to check that an array is not empty.\n",
      "  if diff:\n"
     ]
    },
    {
     "name": "stdout",
     "output_type": "stream",
     "text": [
      "[1]\tvalid_0's binary_logloss: 0.611848\tvalid_0's auc: 0.767206\n",
      "Training until validation scores don't improve for 5 rounds.\n",
      "[2]\tvalid_0's binary_logloss: 0.55808\tvalid_0's auc: 0.772789\n",
      "[3]\tvalid_0's binary_logloss: 0.520459\tvalid_0's auc: 0.780923\n",
      "[4]\tvalid_0's binary_logloss: 0.494111\tvalid_0's auc: 0.782957\n",
      "[5]\tvalid_0's binary_logloss: 0.475705\tvalid_0's auc: 0.78317\n",
      "[6]\tvalid_0's binary_logloss: 0.462637\tvalid_0's auc: 0.783743\n",
      "[7]\tvalid_0's binary_logloss: 0.452946\tvalid_0's auc: 0.783721\n",
      "[8]\tvalid_0's binary_logloss: 0.44562\tvalid_0's auc: 0.784642\n",
      "[9]\tvalid_0's binary_logloss: 0.440672\tvalid_0's auc: 0.785051\n",
      "[10]\tvalid_0's binary_logloss: 0.436674\tvalid_0's auc: 0.786866\n",
      "[11]\tvalid_0's binary_logloss: 0.434237\tvalid_0's auc: 0.786186\n",
      "[12]\tvalid_0's binary_logloss: 0.433059\tvalid_0's auc: 0.78457\n",
      "[13]\tvalid_0's binary_logloss: 0.43123\tvalid_0's auc: 0.785782\n",
      "[14]\tvalid_0's binary_logloss: 0.430377\tvalid_0's auc: 0.785166\n",
      "[15]\tvalid_0's binary_logloss: 0.429823\tvalid_0's auc: 0.78462\n",
      "Early stopping, best iteration is:\n",
      "[10]\tvalid_0's binary_logloss: 0.436674\tvalid_0's auc: 0.786866\n"
     ]
    },
    {
     "name": "stderr",
     "output_type": "stream",
     "text": [
      "/anaconda3/lib/python3.6/site-packages/sklearn/preprocessing/label.py:151: DeprecationWarning: The truth value of an empty array is ambiguous. Returning False, but in future this will result in an error. Use `array.size > 0` to check that an array is not empty.\n",
      "  if diff:\n",
      "/anaconda3/lib/python3.6/site-packages/sklearn/preprocessing/label.py:151: DeprecationWarning: The truth value of an empty array is ambiguous. Returning False, but in future this will result in an error. Use `array.size > 0` to check that an array is not empty.\n",
      "  if diff:\n"
     ]
    },
    {
     "name": "stdout",
     "output_type": "stream",
     "text": [
      "[1]\tvalid_0's binary_logloss: 0.610084\tvalid_0's auc: 0.769764\n",
      "Training until validation scores don't improve for 5 rounds.\n",
      "[2]\tvalid_0's binary_logloss: 0.555719\tvalid_0's auc: 0.779276\n",
      "[3]\tvalid_0's binary_logloss: 0.517996\tvalid_0's auc: 0.783904\n",
      "[4]\tvalid_0's binary_logloss: 0.491513\tvalid_0's auc: 0.784994\n",
      "[5]\tvalid_0's binary_logloss: 0.472677\tvalid_0's auc: 0.78442\n",
      "[6]\tvalid_0's binary_logloss: 0.459449\tvalid_0's auc: 0.785824\n",
      "[7]\tvalid_0's binary_logloss: 0.449707\tvalid_0's auc: 0.787\n",
      "[8]\tvalid_0's binary_logloss: 0.44385\tvalid_0's auc: 0.785518\n",
      "[9]\tvalid_0's binary_logloss: 0.438557\tvalid_0's auc: 0.787221\n",
      "[10]\tvalid_0's binary_logloss: 0.435406\tvalid_0's auc: 0.786382\n",
      "[11]\tvalid_0's binary_logloss: 0.433066\tvalid_0's auc: 0.785813\n",
      "[12]\tvalid_0's binary_logloss: 0.431576\tvalid_0's auc: 0.785735\n",
      "[13]\tvalid_0's binary_logloss: 0.430411\tvalid_0's auc: 0.785481\n",
      "[14]\tvalid_0's binary_logloss: 0.429705\tvalid_0's auc: 0.785348\n",
      "Early stopping, best iteration is:\n",
      "[9]\tvalid_0's binary_logloss: 0.438557\tvalid_0's auc: 0.787221\n"
     ]
    },
    {
     "name": "stderr",
     "output_type": "stream",
     "text": [
      "/anaconda3/lib/python3.6/site-packages/sklearn/preprocessing/label.py:151: DeprecationWarning: The truth value of an empty array is ambiguous. Returning False, but in future this will result in an error. Use `array.size > 0` to check that an array is not empty.\n",
      "  if diff:\n",
      "/anaconda3/lib/python3.6/site-packages/sklearn/preprocessing/label.py:151: DeprecationWarning: The truth value of an empty array is ambiguous. Returning False, but in future this will result in an error. Use `array.size > 0` to check that an array is not empty.\n",
      "  if diff:\n"
     ]
    },
    {
     "name": "stdout",
     "output_type": "stream",
     "text": [
      "[1]\tvalid_0's binary_logloss: 0.610832\tvalid_0's auc: 0.766616\n",
      "Training until validation scores don't improve for 5 rounds.\n",
      "[2]\tvalid_0's binary_logloss: 0.556635\tvalid_0's auc: 0.775691\n",
      "[3]\tvalid_0's binary_logloss: 0.51919\tvalid_0's auc: 0.779031\n",
      "[4]\tvalid_0's binary_logloss: 0.49348\tvalid_0's auc: 0.778357\n",
      "[5]\tvalid_0's binary_logloss: 0.475186\tvalid_0's auc: 0.77921\n",
      "[6]\tvalid_0's binary_logloss: 0.462041\tvalid_0's auc: 0.780981\n",
      "[7]\tvalid_0's binary_logloss: 0.452851\tvalid_0's auc: 0.779832\n",
      "[8]\tvalid_0's binary_logloss: 0.445906\tvalid_0's auc: 0.780781\n",
      "[9]\tvalid_0's binary_logloss: 0.440981\tvalid_0's auc: 0.780393\n",
      "[10]\tvalid_0's binary_logloss: 0.437457\tvalid_0's auc: 0.781018\n",
      "[11]\tvalid_0's binary_logloss: 0.43497\tvalid_0's auc: 0.781142\n",
      "[12]\tvalid_0's binary_logloss: 0.433024\tvalid_0's auc: 0.781925\n",
      "[13]\tvalid_0's binary_logloss: 0.431559\tvalid_0's auc: 0.78232\n",
      "[14]\tvalid_0's binary_logloss: 0.430653\tvalid_0's auc: 0.782297\n",
      "[15]\tvalid_0's binary_logloss: 0.430551\tvalid_0's auc: 0.781434\n",
      "[16]\tvalid_0's binary_logloss: 0.430328\tvalid_0's auc: 0.781259\n",
      "[17]\tvalid_0's binary_logloss: 0.429864\tvalid_0's auc: 0.781813\n",
      "[18]\tvalid_0's binary_logloss: 0.430269\tvalid_0's auc: 0.781095\n",
      "Early stopping, best iteration is:\n",
      "[13]\tvalid_0's binary_logloss: 0.431559\tvalid_0's auc: 0.78232\n"
     ]
    },
    {
     "name": "stderr",
     "output_type": "stream",
     "text": [
      "/anaconda3/lib/python3.6/site-packages/sklearn/preprocessing/label.py:151: DeprecationWarning: The truth value of an empty array is ambiguous. Returning False, but in future this will result in an error. Use `array.size > 0` to check that an array is not empty.\n",
      "  if diff:\n",
      "/anaconda3/lib/python3.6/site-packages/sklearn/preprocessing/label.py:151: DeprecationWarning: The truth value of an empty array is ambiguous. Returning False, but in future this will result in an error. Use `array.size > 0` to check that an array is not empty.\n",
      "  if diff:\n"
     ]
    },
    {
     "name": "stdout",
     "output_type": "stream",
     "text": [
      "[1]\tvalid_0's binary_logloss: 0.611848\tvalid_0's auc: 0.767206\n",
      "Training until validation scores don't improve for 5 rounds.\n",
      "[2]\tvalid_0's binary_logloss: 0.55808\tvalid_0's auc: 0.772789\n",
      "[3]\tvalid_0's binary_logloss: 0.520459\tvalid_0's auc: 0.780923\n",
      "[4]\tvalid_0's binary_logloss: 0.494111\tvalid_0's auc: 0.782957\n",
      "[5]\tvalid_0's binary_logloss: 0.475705\tvalid_0's auc: 0.78317\n",
      "[6]\tvalid_0's binary_logloss: 0.462637\tvalid_0's auc: 0.783743\n",
      "[7]\tvalid_0's binary_logloss: 0.452946\tvalid_0's auc: 0.783721\n",
      "[8]\tvalid_0's binary_logloss: 0.44562\tvalid_0's auc: 0.784642\n",
      "[9]\tvalid_0's binary_logloss: 0.440672\tvalid_0's auc: 0.785051\n",
      "[10]\tvalid_0's binary_logloss: 0.436674\tvalid_0's auc: 0.786866\n",
      "[11]\tvalid_0's binary_logloss: 0.434237\tvalid_0's auc: 0.786186\n",
      "[12]\tvalid_0's binary_logloss: 0.433059\tvalid_0's auc: 0.78457\n",
      "[13]\tvalid_0's binary_logloss: 0.43123\tvalid_0's auc: 0.785782\n",
      "[14]\tvalid_0's binary_logloss: 0.430377\tvalid_0's auc: 0.785166\n",
      "[15]\tvalid_0's binary_logloss: 0.429823\tvalid_0's auc: 0.78462\n",
      "Early stopping, best iteration is:\n",
      "[10]\tvalid_0's binary_logloss: 0.436674\tvalid_0's auc: 0.786866\n"
     ]
    },
    {
     "name": "stderr",
     "output_type": "stream",
     "text": [
      "/anaconda3/lib/python3.6/site-packages/sklearn/preprocessing/label.py:151: DeprecationWarning: The truth value of an empty array is ambiguous. Returning False, but in future this will result in an error. Use `array.size > 0` to check that an array is not empty.\n",
      "  if diff:\n",
      "/anaconda3/lib/python3.6/site-packages/sklearn/preprocessing/label.py:151: DeprecationWarning: The truth value of an empty array is ambiguous. Returning False, but in future this will result in an error. Use `array.size > 0` to check that an array is not empty.\n",
      "  if diff:\n"
     ]
    },
    {
     "name": "stdout",
     "output_type": "stream",
     "text": [
      "[1]\tvalid_0's binary_logloss: 0.610084\tvalid_0's auc: 0.769764\n",
      "Training until validation scores don't improve for 5 rounds.\n",
      "[2]\tvalid_0's binary_logloss: 0.555719\tvalid_0's auc: 0.779276\n",
      "[3]\tvalid_0's binary_logloss: 0.517996\tvalid_0's auc: 0.783904\n",
      "[4]\tvalid_0's binary_logloss: 0.491513\tvalid_0's auc: 0.784994\n",
      "[5]\tvalid_0's binary_logloss: 0.472677\tvalid_0's auc: 0.78442\n",
      "[6]\tvalid_0's binary_logloss: 0.459449\tvalid_0's auc: 0.785824\n",
      "[7]\tvalid_0's binary_logloss: 0.449707\tvalid_0's auc: 0.787\n",
      "[8]\tvalid_0's binary_logloss: 0.44385\tvalid_0's auc: 0.785518\n",
      "[9]\tvalid_0's binary_logloss: 0.438557\tvalid_0's auc: 0.787221\n",
      "[10]\tvalid_0's binary_logloss: 0.435406\tvalid_0's auc: 0.786382\n",
      "[11]\tvalid_0's binary_logloss: 0.433066\tvalid_0's auc: 0.785813\n",
      "[12]\tvalid_0's binary_logloss: 0.431576\tvalid_0's auc: 0.785735\n",
      "[13]\tvalid_0's binary_logloss: 0.430411\tvalid_0's auc: 0.785481\n",
      "[14]\tvalid_0's binary_logloss: 0.429705\tvalid_0's auc: 0.785348\n",
      "Early stopping, best iteration is:\n",
      "[9]\tvalid_0's binary_logloss: 0.438557\tvalid_0's auc: 0.787221\n"
     ]
    },
    {
     "name": "stderr",
     "output_type": "stream",
     "text": [
      "/anaconda3/lib/python3.6/site-packages/sklearn/preprocessing/label.py:151: DeprecationWarning: The truth value of an empty array is ambiguous. Returning False, but in future this will result in an error. Use `array.size > 0` to check that an array is not empty.\n",
      "  if diff:\n",
      "/anaconda3/lib/python3.6/site-packages/sklearn/preprocessing/label.py:151: DeprecationWarning: The truth value of an empty array is ambiguous. Returning False, but in future this will result in an error. Use `array.size > 0` to check that an array is not empty.\n",
      "  if diff:\n"
     ]
    },
    {
     "name": "stdout",
     "output_type": "stream",
     "text": [
      "[1]\tvalid_0's binary_logloss: 0.610832\tvalid_0's auc: 0.766616\n",
      "Training until validation scores don't improve for 5 rounds.\n",
      "[2]\tvalid_0's binary_logloss: 0.556635\tvalid_0's auc: 0.775691\n",
      "[3]\tvalid_0's binary_logloss: 0.51919\tvalid_0's auc: 0.779031\n",
      "[4]\tvalid_0's binary_logloss: 0.49348\tvalid_0's auc: 0.778357\n",
      "[5]\tvalid_0's binary_logloss: 0.475186\tvalid_0's auc: 0.77921\n",
      "[6]\tvalid_0's binary_logloss: 0.462041\tvalid_0's auc: 0.780981\n",
      "[7]\tvalid_0's binary_logloss: 0.452851\tvalid_0's auc: 0.779832\n",
      "[8]\tvalid_0's binary_logloss: 0.445906\tvalid_0's auc: 0.780781\n",
      "[9]\tvalid_0's binary_logloss: 0.440981\tvalid_0's auc: 0.780393\n",
      "[10]\tvalid_0's binary_logloss: 0.437457\tvalid_0's auc: 0.781018\n",
      "[11]\tvalid_0's binary_logloss: 0.43497\tvalid_0's auc: 0.781142\n",
      "[12]\tvalid_0's binary_logloss: 0.433024\tvalid_0's auc: 0.781925\n",
      "[13]\tvalid_0's binary_logloss: 0.431559\tvalid_0's auc: 0.78232\n",
      "[14]\tvalid_0's binary_logloss: 0.430653\tvalid_0's auc: 0.782297\n",
      "[15]\tvalid_0's binary_logloss: 0.430551\tvalid_0's auc: 0.781434\n",
      "[16]\tvalid_0's binary_logloss: 0.430328\tvalid_0's auc: 0.781259\n",
      "[17]\tvalid_0's binary_logloss: 0.429864\tvalid_0's auc: 0.781813\n",
      "[18]\tvalid_0's binary_logloss: 0.430269\tvalid_0's auc: 0.781095\n",
      "Early stopping, best iteration is:\n",
      "[13]\tvalid_0's binary_logloss: 0.431559\tvalid_0's auc: 0.78232\n"
     ]
    },
    {
     "name": "stderr",
     "output_type": "stream",
     "text": [
      "/anaconda3/lib/python3.6/site-packages/sklearn/preprocessing/label.py:151: DeprecationWarning: The truth value of an empty array is ambiguous. Returning False, but in future this will result in an error. Use `array.size > 0` to check that an array is not empty.\n",
      "  if diff:\n",
      "/anaconda3/lib/python3.6/site-packages/sklearn/preprocessing/label.py:151: DeprecationWarning: The truth value of an empty array is ambiguous. Returning False, but in future this will result in an error. Use `array.size > 0` to check that an array is not empty.\n",
      "  if diff:\n"
     ]
    },
    {
     "name": "stdout",
     "output_type": "stream",
     "text": [
      "[1]\tvalid_0's binary_logloss: 0.611848\tvalid_0's auc: 0.767206\n",
      "Training until validation scores don't improve for 5 rounds.\n",
      "[2]\tvalid_0's binary_logloss: 0.55808\tvalid_0's auc: 0.772789\n",
      "[3]\tvalid_0's binary_logloss: 0.520459\tvalid_0's auc: 0.780923\n",
      "[4]\tvalid_0's binary_logloss: 0.494111\tvalid_0's auc: 0.782957\n",
      "[5]\tvalid_0's binary_logloss: 0.475705\tvalid_0's auc: 0.78317\n",
      "[6]\tvalid_0's binary_logloss: 0.462637\tvalid_0's auc: 0.783743\n",
      "[7]\tvalid_0's binary_logloss: 0.452946\tvalid_0's auc: 0.783721\n",
      "[8]\tvalid_0's binary_logloss: 0.44562\tvalid_0's auc: 0.784642\n",
      "[9]\tvalid_0's binary_logloss: 0.440672\tvalid_0's auc: 0.785051\n",
      "[10]\tvalid_0's binary_logloss: 0.436674\tvalid_0's auc: 0.786866\n",
      "[11]\tvalid_0's binary_logloss: 0.434237\tvalid_0's auc: 0.786186\n",
      "[12]\tvalid_0's binary_logloss: 0.433059\tvalid_0's auc: 0.78457\n",
      "[13]\tvalid_0's binary_logloss: 0.43123\tvalid_0's auc: 0.785782\n",
      "[14]\tvalid_0's binary_logloss: 0.430377\tvalid_0's auc: 0.785166\n",
      "[15]\tvalid_0's binary_logloss: 0.429823\tvalid_0's auc: 0.78462\n",
      "Early stopping, best iteration is:\n",
      "[10]\tvalid_0's binary_logloss: 0.436674\tvalid_0's auc: 0.786866\n"
     ]
    },
    {
     "name": "stderr",
     "output_type": "stream",
     "text": [
      "/anaconda3/lib/python3.6/site-packages/sklearn/preprocessing/label.py:151: DeprecationWarning: The truth value of an empty array is ambiguous. Returning False, but in future this will result in an error. Use `array.size > 0` to check that an array is not empty.\n",
      "  if diff:\n",
      "/anaconda3/lib/python3.6/site-packages/sklearn/preprocessing/label.py:151: DeprecationWarning: The truth value of an empty array is ambiguous. Returning False, but in future this will result in an error. Use `array.size > 0` to check that an array is not empty.\n",
      "  if diff:\n"
     ]
    },
    {
     "name": "stdout",
     "output_type": "stream",
     "text": [
      "[1]\tvalid_0's binary_logloss: 0.610084\tvalid_0's auc: 0.769764\n",
      "Training until validation scores don't improve for 5 rounds.\n",
      "[2]\tvalid_0's binary_logloss: 0.555719\tvalid_0's auc: 0.779276\n",
      "[3]\tvalid_0's binary_logloss: 0.517996\tvalid_0's auc: 0.783904\n",
      "[4]\tvalid_0's binary_logloss: 0.491513\tvalid_0's auc: 0.784994\n",
      "[5]\tvalid_0's binary_logloss: 0.472677\tvalid_0's auc: 0.78442\n",
      "[6]\tvalid_0's binary_logloss: 0.459449\tvalid_0's auc: 0.785824\n",
      "[7]\tvalid_0's binary_logloss: 0.449707\tvalid_0's auc: 0.787\n",
      "[8]\tvalid_0's binary_logloss: 0.44385\tvalid_0's auc: 0.785518\n",
      "[9]\tvalid_0's binary_logloss: 0.438557\tvalid_0's auc: 0.787221\n",
      "[10]\tvalid_0's binary_logloss: 0.435406\tvalid_0's auc: 0.786382\n",
      "[11]\tvalid_0's binary_logloss: 0.433066\tvalid_0's auc: 0.785813\n",
      "[12]\tvalid_0's binary_logloss: 0.431576\tvalid_0's auc: 0.785735\n",
      "[13]\tvalid_0's binary_logloss: 0.430411\tvalid_0's auc: 0.785481\n",
      "[14]\tvalid_0's binary_logloss: 0.429705\tvalid_0's auc: 0.785348\n",
      "Early stopping, best iteration is:\n",
      "[9]\tvalid_0's binary_logloss: 0.438557\tvalid_0's auc: 0.787221\n"
     ]
    },
    {
     "name": "stderr",
     "output_type": "stream",
     "text": [
      "/anaconda3/lib/python3.6/site-packages/sklearn/preprocessing/label.py:151: DeprecationWarning: The truth value of an empty array is ambiguous. Returning False, but in future this will result in an error. Use `array.size > 0` to check that an array is not empty.\n",
      "  if diff:\n",
      "/anaconda3/lib/python3.6/site-packages/sklearn/preprocessing/label.py:151: DeprecationWarning: The truth value of an empty array is ambiguous. Returning False, but in future this will result in an error. Use `array.size > 0` to check that an array is not empty.\n",
      "  if diff:\n"
     ]
    },
    {
     "name": "stdout",
     "output_type": "stream",
     "text": [
      "[1]\tvalid_0's binary_logloss: 0.610832\tvalid_0's auc: 0.766616\n",
      "Training until validation scores don't improve for 5 rounds.\n",
      "[2]\tvalid_0's binary_logloss: 0.556635\tvalid_0's auc: 0.775691\n",
      "[3]\tvalid_0's binary_logloss: 0.51919\tvalid_0's auc: 0.779031\n",
      "[4]\tvalid_0's binary_logloss: 0.49348\tvalid_0's auc: 0.778357\n",
      "[5]\tvalid_0's binary_logloss: 0.475186\tvalid_0's auc: 0.77921\n",
      "[6]\tvalid_0's binary_logloss: 0.462041\tvalid_0's auc: 0.780981\n",
      "[7]\tvalid_0's binary_logloss: 0.452851\tvalid_0's auc: 0.779832\n",
      "[8]\tvalid_0's binary_logloss: 0.445906\tvalid_0's auc: 0.780781\n",
      "[9]\tvalid_0's binary_logloss: 0.440981\tvalid_0's auc: 0.780393\n",
      "[10]\tvalid_0's binary_logloss: 0.437457\tvalid_0's auc: 0.781018\n",
      "[11]\tvalid_0's binary_logloss: 0.43497\tvalid_0's auc: 0.781142\n",
      "[12]\tvalid_0's binary_logloss: 0.433024\tvalid_0's auc: 0.781925\n",
      "[13]\tvalid_0's binary_logloss: 0.431559\tvalid_0's auc: 0.78232\n",
      "[14]\tvalid_0's binary_logloss: 0.430653\tvalid_0's auc: 0.782297\n",
      "[15]\tvalid_0's binary_logloss: 0.430551\tvalid_0's auc: 0.781434\n",
      "[16]\tvalid_0's binary_logloss: 0.430328\tvalid_0's auc: 0.781259\n",
      "[17]\tvalid_0's binary_logloss: 0.429864\tvalid_0's auc: 0.781813\n",
      "[18]\tvalid_0's binary_logloss: 0.430269\tvalid_0's auc: 0.781095\n",
      "Early stopping, best iteration is:\n",
      "[13]\tvalid_0's binary_logloss: 0.431559\tvalid_0's auc: 0.78232\n"
     ]
    },
    {
     "name": "stderr",
     "output_type": "stream",
     "text": [
      "/anaconda3/lib/python3.6/site-packages/sklearn/preprocessing/label.py:151: DeprecationWarning: The truth value of an empty array is ambiguous. Returning False, but in future this will result in an error. Use `array.size > 0` to check that an array is not empty.\n",
      "  if diff:\n",
      "/anaconda3/lib/python3.6/site-packages/sklearn/preprocessing/label.py:151: DeprecationWarning: The truth value of an empty array is ambiguous. Returning False, but in future this will result in an error. Use `array.size > 0` to check that an array is not empty.\n",
      "  if diff:\n"
     ]
    },
    {
     "name": "stdout",
     "output_type": "stream",
     "text": [
      "[1]\tvalid_0's binary_logloss: 0.611848\tvalid_0's auc: 0.767206\n",
      "Training until validation scores don't improve for 5 rounds.\n",
      "[2]\tvalid_0's binary_logloss: 0.55808\tvalid_0's auc: 0.772789\n",
      "[3]\tvalid_0's binary_logloss: 0.520459\tvalid_0's auc: 0.780923\n",
      "[4]\tvalid_0's binary_logloss: 0.494111\tvalid_0's auc: 0.782957\n",
      "[5]\tvalid_0's binary_logloss: 0.475705\tvalid_0's auc: 0.78317\n",
      "[6]\tvalid_0's binary_logloss: 0.462637\tvalid_0's auc: 0.783743\n",
      "[7]\tvalid_0's binary_logloss: 0.452946\tvalid_0's auc: 0.783721\n",
      "[8]\tvalid_0's binary_logloss: 0.44562\tvalid_0's auc: 0.784642\n",
      "[9]\tvalid_0's binary_logloss: 0.440672\tvalid_0's auc: 0.785051\n",
      "[10]\tvalid_0's binary_logloss: 0.436674\tvalid_0's auc: 0.786866\n",
      "[11]\tvalid_0's binary_logloss: 0.434237\tvalid_0's auc: 0.786186\n",
      "[12]\tvalid_0's binary_logloss: 0.433059\tvalid_0's auc: 0.78457\n",
      "[13]\tvalid_0's binary_logloss: 0.43123\tvalid_0's auc: 0.785782\n",
      "[14]\tvalid_0's binary_logloss: 0.430377\tvalid_0's auc: 0.785166\n",
      "[15]\tvalid_0's binary_logloss: 0.429823\tvalid_0's auc: 0.78462\n",
      "Early stopping, best iteration is:\n",
      "[10]\tvalid_0's binary_logloss: 0.436674\tvalid_0's auc: 0.786866\n"
     ]
    },
    {
     "name": "stderr",
     "output_type": "stream",
     "text": [
      "/anaconda3/lib/python3.6/site-packages/sklearn/preprocessing/label.py:151: DeprecationWarning: The truth value of an empty array is ambiguous. Returning False, but in future this will result in an error. Use `array.size > 0` to check that an array is not empty.\n",
      "  if diff:\n",
      "/anaconda3/lib/python3.6/site-packages/sklearn/preprocessing/label.py:151: DeprecationWarning: The truth value of an empty array is ambiguous. Returning False, but in future this will result in an error. Use `array.size > 0` to check that an array is not empty.\n",
      "  if diff:\n"
     ]
    },
    {
     "name": "stdout",
     "output_type": "stream",
     "text": [
      "[1]\tvalid_0's binary_logloss: 0.610084\tvalid_0's auc: 0.769764\n",
      "Training until validation scores don't improve for 5 rounds.\n",
      "[2]\tvalid_0's binary_logloss: 0.555719\tvalid_0's auc: 0.779276\n",
      "[3]\tvalid_0's binary_logloss: 0.517996\tvalid_0's auc: 0.783904\n",
      "[4]\tvalid_0's binary_logloss: 0.491513\tvalid_0's auc: 0.784994\n",
      "[5]\tvalid_0's binary_logloss: 0.472677\tvalid_0's auc: 0.78442\n",
      "[6]\tvalid_0's binary_logloss: 0.459449\tvalid_0's auc: 0.785824\n",
      "[7]\tvalid_0's binary_logloss: 0.449707\tvalid_0's auc: 0.787\n",
      "[8]\tvalid_0's binary_logloss: 0.44385\tvalid_0's auc: 0.785518\n",
      "[9]\tvalid_0's binary_logloss: 0.438557\tvalid_0's auc: 0.787221\n",
      "[10]\tvalid_0's binary_logloss: 0.435406\tvalid_0's auc: 0.786382\n",
      "[11]\tvalid_0's binary_logloss: 0.433066\tvalid_0's auc: 0.785813\n",
      "[12]\tvalid_0's binary_logloss: 0.431576\tvalid_0's auc: 0.785735\n",
      "[13]\tvalid_0's binary_logloss: 0.430411\tvalid_0's auc: 0.785481\n",
      "[14]\tvalid_0's binary_logloss: 0.429705\tvalid_0's auc: 0.785348\n",
      "Early stopping, best iteration is:\n",
      "[9]\tvalid_0's binary_logloss: 0.438557\tvalid_0's auc: 0.787221\n"
     ]
    },
    {
     "name": "stderr",
     "output_type": "stream",
     "text": [
      "/anaconda3/lib/python3.6/site-packages/sklearn/preprocessing/label.py:151: DeprecationWarning: The truth value of an empty array is ambiguous. Returning False, but in future this will result in an error. Use `array.size > 0` to check that an array is not empty.\n",
      "  if diff:\n",
      "/anaconda3/lib/python3.6/site-packages/sklearn/preprocessing/label.py:151: DeprecationWarning: The truth value of an empty array is ambiguous. Returning False, but in future this will result in an error. Use `array.size > 0` to check that an array is not empty.\n",
      "  if diff:\n"
     ]
    },
    {
     "name": "stdout",
     "output_type": "stream",
     "text": [
      "[1]\tvalid_0's binary_logloss: 0.610832\tvalid_0's auc: 0.766616\n",
      "Training until validation scores don't improve for 5 rounds.\n",
      "[2]\tvalid_0's binary_logloss: 0.556635\tvalid_0's auc: 0.775691\n",
      "[3]\tvalid_0's binary_logloss: 0.51919\tvalid_0's auc: 0.779031\n",
      "[4]\tvalid_0's binary_logloss: 0.49348\tvalid_0's auc: 0.778357\n",
      "[5]\tvalid_0's binary_logloss: 0.475186\tvalid_0's auc: 0.77921\n",
      "[6]\tvalid_0's binary_logloss: 0.462041\tvalid_0's auc: 0.780981\n",
      "[7]\tvalid_0's binary_logloss: 0.452851\tvalid_0's auc: 0.779832\n",
      "[8]\tvalid_0's binary_logloss: 0.445906\tvalid_0's auc: 0.780781\n",
      "[9]\tvalid_0's binary_logloss: 0.440981\tvalid_0's auc: 0.780393\n",
      "[10]\tvalid_0's binary_logloss: 0.437457\tvalid_0's auc: 0.781018\n",
      "[11]\tvalid_0's binary_logloss: 0.43497\tvalid_0's auc: 0.781142\n",
      "[12]\tvalid_0's binary_logloss: 0.433024\tvalid_0's auc: 0.781925\n",
      "[13]\tvalid_0's binary_logloss: 0.431559\tvalid_0's auc: 0.78232\n",
      "[14]\tvalid_0's binary_logloss: 0.430653\tvalid_0's auc: 0.782297\n",
      "[15]\tvalid_0's binary_logloss: 0.430551\tvalid_0's auc: 0.781434\n",
      "[16]\tvalid_0's binary_logloss: 0.430328\tvalid_0's auc: 0.781259\n",
      "[17]\tvalid_0's binary_logloss: 0.429864\tvalid_0's auc: 0.781813\n",
      "[18]\tvalid_0's binary_logloss: 0.430269\tvalid_0's auc: 0.781095\n",
      "Early stopping, best iteration is:\n",
      "[13]\tvalid_0's binary_logloss: 0.431559\tvalid_0's auc: 0.78232\n"
     ]
    },
    {
     "name": "stderr",
     "output_type": "stream",
     "text": [
      "/anaconda3/lib/python3.6/site-packages/sklearn/preprocessing/label.py:151: DeprecationWarning: The truth value of an empty array is ambiguous. Returning False, but in future this will result in an error. Use `array.size > 0` to check that an array is not empty.\n",
      "  if diff:\n",
      "/anaconda3/lib/python3.6/site-packages/sklearn/preprocessing/label.py:151: DeprecationWarning: The truth value of an empty array is ambiguous. Returning False, but in future this will result in an error. Use `array.size > 0` to check that an array is not empty.\n",
      "  if diff:\n"
     ]
    },
    {
     "name": "stdout",
     "output_type": "stream",
     "text": [
      "[1]\tvalid_0's binary_logloss: 0.611848\tvalid_0's auc: 0.767206\n",
      "Training until validation scores don't improve for 5 rounds.\n",
      "[2]\tvalid_0's binary_logloss: 0.55808\tvalid_0's auc: 0.772789\n",
      "[3]\tvalid_0's binary_logloss: 0.520459\tvalid_0's auc: 0.780923\n",
      "[4]\tvalid_0's binary_logloss: 0.494111\tvalid_0's auc: 0.782957\n",
      "[5]\tvalid_0's binary_logloss: 0.475705\tvalid_0's auc: 0.78317\n",
      "[6]\tvalid_0's binary_logloss: 0.462637\tvalid_0's auc: 0.783743\n",
      "[7]\tvalid_0's binary_logloss: 0.452946\tvalid_0's auc: 0.783721\n",
      "[8]\tvalid_0's binary_logloss: 0.44562\tvalid_0's auc: 0.784642\n",
      "[9]\tvalid_0's binary_logloss: 0.440672\tvalid_0's auc: 0.785051\n",
      "[10]\tvalid_0's binary_logloss: 0.436674\tvalid_0's auc: 0.786866\n",
      "[11]\tvalid_0's binary_logloss: 0.434237\tvalid_0's auc: 0.786186\n",
      "[12]\tvalid_0's binary_logloss: 0.433059\tvalid_0's auc: 0.78457\n",
      "[13]\tvalid_0's binary_logloss: 0.43123\tvalid_0's auc: 0.785782\n",
      "[14]\tvalid_0's binary_logloss: 0.430377\tvalid_0's auc: 0.785166\n",
      "[15]\tvalid_0's binary_logloss: 0.429823\tvalid_0's auc: 0.78462\n",
      "Early stopping, best iteration is:\n",
      "[10]\tvalid_0's binary_logloss: 0.436674\tvalid_0's auc: 0.786866\n"
     ]
    },
    {
     "name": "stderr",
     "output_type": "stream",
     "text": [
      "/anaconda3/lib/python3.6/site-packages/sklearn/preprocessing/label.py:151: DeprecationWarning: The truth value of an empty array is ambiguous. Returning False, but in future this will result in an error. Use `array.size > 0` to check that an array is not empty.\n",
      "  if diff:\n",
      "/anaconda3/lib/python3.6/site-packages/sklearn/preprocessing/label.py:151: DeprecationWarning: The truth value of an empty array is ambiguous. Returning False, but in future this will result in an error. Use `array.size > 0` to check that an array is not empty.\n",
      "  if diff:\n"
     ]
    },
    {
     "name": "stdout",
     "output_type": "stream",
     "text": [
      "[1]\tvalid_0's binary_logloss: 0.610084\tvalid_0's auc: 0.769764\n",
      "Training until validation scores don't improve for 5 rounds.\n",
      "[2]\tvalid_0's binary_logloss: 0.555719\tvalid_0's auc: 0.779276\n",
      "[3]\tvalid_0's binary_logloss: 0.517996\tvalid_0's auc: 0.783904\n",
      "[4]\tvalid_0's binary_logloss: 0.491513\tvalid_0's auc: 0.784994\n",
      "[5]\tvalid_0's binary_logloss: 0.472677\tvalid_0's auc: 0.78442\n",
      "[6]\tvalid_0's binary_logloss: 0.459449\tvalid_0's auc: 0.785824\n",
      "[7]\tvalid_0's binary_logloss: 0.449707\tvalid_0's auc: 0.787\n",
      "[8]\tvalid_0's binary_logloss: 0.44385\tvalid_0's auc: 0.785518\n",
      "[9]\tvalid_0's binary_logloss: 0.438557\tvalid_0's auc: 0.787221\n",
      "[10]\tvalid_0's binary_logloss: 0.435406\tvalid_0's auc: 0.786382\n",
      "[11]\tvalid_0's binary_logloss: 0.433066\tvalid_0's auc: 0.785813\n",
      "[12]\tvalid_0's binary_logloss: 0.431576\tvalid_0's auc: 0.785735\n",
      "[13]\tvalid_0's binary_logloss: 0.430411\tvalid_0's auc: 0.785481\n",
      "[14]\tvalid_0's binary_logloss: 0.429705\tvalid_0's auc: 0.785348\n",
      "Early stopping, best iteration is:\n",
      "[9]\tvalid_0's binary_logloss: 0.438557\tvalid_0's auc: 0.787221\n"
     ]
    },
    {
     "name": "stderr",
     "output_type": "stream",
     "text": [
      "/anaconda3/lib/python3.6/site-packages/sklearn/preprocessing/label.py:151: DeprecationWarning: The truth value of an empty array is ambiguous. Returning False, but in future this will result in an error. Use `array.size > 0` to check that an array is not empty.\n",
      "  if diff:\n",
      "/anaconda3/lib/python3.6/site-packages/sklearn/preprocessing/label.py:151: DeprecationWarning: The truth value of an empty array is ambiguous. Returning False, but in future this will result in an error. Use `array.size > 0` to check that an array is not empty.\n",
      "  if diff:\n"
     ]
    },
    {
     "name": "stdout",
     "output_type": "stream",
     "text": [
      "[1]\tvalid_0's binary_logloss: 0.610832\tvalid_0's auc: 0.766616\n",
      "Training until validation scores don't improve for 5 rounds.\n",
      "[2]\tvalid_0's binary_logloss: 0.556635\tvalid_0's auc: 0.775691\n",
      "[3]\tvalid_0's binary_logloss: 0.51919\tvalid_0's auc: 0.779031\n",
      "[4]\tvalid_0's binary_logloss: 0.49348\tvalid_0's auc: 0.778357\n",
      "[5]\tvalid_0's binary_logloss: 0.475186\tvalid_0's auc: 0.77921\n",
      "[6]\tvalid_0's binary_logloss: 0.462041\tvalid_0's auc: 0.780981\n",
      "[7]\tvalid_0's binary_logloss: 0.452851\tvalid_0's auc: 0.779832\n",
      "[8]\tvalid_0's binary_logloss: 0.445906\tvalid_0's auc: 0.780781\n",
      "[9]\tvalid_0's binary_logloss: 0.440981\tvalid_0's auc: 0.780393\n",
      "[10]\tvalid_0's binary_logloss: 0.437457\tvalid_0's auc: 0.781018\n",
      "[11]\tvalid_0's binary_logloss: 0.43497\tvalid_0's auc: 0.781142\n",
      "[12]\tvalid_0's binary_logloss: 0.433024\tvalid_0's auc: 0.781925\n",
      "[13]\tvalid_0's binary_logloss: 0.431559\tvalid_0's auc: 0.78232\n",
      "[14]\tvalid_0's binary_logloss: 0.430653\tvalid_0's auc: 0.782297\n",
      "[15]\tvalid_0's binary_logloss: 0.430551\tvalid_0's auc: 0.781434\n",
      "[16]\tvalid_0's binary_logloss: 0.430328\tvalid_0's auc: 0.781259\n",
      "[17]\tvalid_0's binary_logloss: 0.429864\tvalid_0's auc: 0.781813\n",
      "[18]\tvalid_0's binary_logloss: 0.430269\tvalid_0's auc: 0.781095\n",
      "Early stopping, best iteration is:\n",
      "[13]\tvalid_0's binary_logloss: 0.431559\tvalid_0's auc: 0.78232\n"
     ]
    },
    {
     "name": "stderr",
     "output_type": "stream",
     "text": [
      "/anaconda3/lib/python3.6/site-packages/sklearn/preprocessing/label.py:151: DeprecationWarning: The truth value of an empty array is ambiguous. Returning False, but in future this will result in an error. Use `array.size > 0` to check that an array is not empty.\n",
      "  if diff:\n",
      "/anaconda3/lib/python3.6/site-packages/sklearn/preprocessing/label.py:151: DeprecationWarning: The truth value of an empty array is ambiguous. Returning False, but in future this will result in an error. Use `array.size > 0` to check that an array is not empty.\n",
      "  if diff:\n"
     ]
    },
    {
     "name": "stdout",
     "output_type": "stream",
     "text": [
      "[1]\tvalid_0's binary_logloss: 0.611848\tvalid_0's auc: 0.767206\n",
      "Training until validation scores don't improve for 5 rounds.\n",
      "[2]\tvalid_0's binary_logloss: 0.55808\tvalid_0's auc: 0.772789\n",
      "[3]\tvalid_0's binary_logloss: 0.520459\tvalid_0's auc: 0.780923\n",
      "[4]\tvalid_0's binary_logloss: 0.494111\tvalid_0's auc: 0.782957\n",
      "[5]\tvalid_0's binary_logloss: 0.475705\tvalid_0's auc: 0.78317\n",
      "[6]\tvalid_0's binary_logloss: 0.462637\tvalid_0's auc: 0.783743\n",
      "[7]\tvalid_0's binary_logloss: 0.452946\tvalid_0's auc: 0.783721\n",
      "[8]\tvalid_0's binary_logloss: 0.44562\tvalid_0's auc: 0.784642\n",
      "[9]\tvalid_0's binary_logloss: 0.440672\tvalid_0's auc: 0.785051\n",
      "[10]\tvalid_0's binary_logloss: 0.436674\tvalid_0's auc: 0.786866\n",
      "[11]\tvalid_0's binary_logloss: 0.434237\tvalid_0's auc: 0.786186\n",
      "[12]\tvalid_0's binary_logloss: 0.433059\tvalid_0's auc: 0.78457\n",
      "[13]\tvalid_0's binary_logloss: 0.43123\tvalid_0's auc: 0.785782\n",
      "[14]\tvalid_0's binary_logloss: 0.430377\tvalid_0's auc: 0.785166\n",
      "[15]\tvalid_0's binary_logloss: 0.429823\tvalid_0's auc: 0.78462\n",
      "Early stopping, best iteration is:\n",
      "[10]\tvalid_0's binary_logloss: 0.436674\tvalid_0's auc: 0.786866\n"
     ]
    },
    {
     "name": "stderr",
     "output_type": "stream",
     "text": [
      "/anaconda3/lib/python3.6/site-packages/sklearn/preprocessing/label.py:151: DeprecationWarning: The truth value of an empty array is ambiguous. Returning False, but in future this will result in an error. Use `array.size > 0` to check that an array is not empty.\n",
      "  if diff:\n",
      "/anaconda3/lib/python3.6/site-packages/sklearn/preprocessing/label.py:151: DeprecationWarning: The truth value of an empty array is ambiguous. Returning False, but in future this will result in an error. Use `array.size > 0` to check that an array is not empty.\n",
      "  if diff:\n"
     ]
    },
    {
     "name": "stdout",
     "output_type": "stream",
     "text": [
      "[1]\tvalid_0's binary_logloss: 0.610084\tvalid_0's auc: 0.769764\n",
      "Training until validation scores don't improve for 5 rounds.\n",
      "[2]\tvalid_0's binary_logloss: 0.555719\tvalid_0's auc: 0.779276\n",
      "[3]\tvalid_0's binary_logloss: 0.517996\tvalid_0's auc: 0.783904\n",
      "[4]\tvalid_0's binary_logloss: 0.491513\tvalid_0's auc: 0.784994\n",
      "[5]\tvalid_0's binary_logloss: 0.472677\tvalid_0's auc: 0.78442\n",
      "[6]\tvalid_0's binary_logloss: 0.459449\tvalid_0's auc: 0.785824\n",
      "[7]\tvalid_0's binary_logloss: 0.449707\tvalid_0's auc: 0.787\n",
      "[8]\tvalid_0's binary_logloss: 0.44385\tvalid_0's auc: 0.785518\n",
      "[9]\tvalid_0's binary_logloss: 0.438557\tvalid_0's auc: 0.787221\n",
      "[10]\tvalid_0's binary_logloss: 0.435406\tvalid_0's auc: 0.786382\n",
      "[11]\tvalid_0's binary_logloss: 0.433066\tvalid_0's auc: 0.785813\n",
      "[12]\tvalid_0's binary_logloss: 0.431576\tvalid_0's auc: 0.785735\n",
      "[13]\tvalid_0's binary_logloss: 0.430411\tvalid_0's auc: 0.785481\n",
      "[14]\tvalid_0's binary_logloss: 0.429705\tvalid_0's auc: 0.785348\n",
      "Early stopping, best iteration is:\n",
      "[9]\tvalid_0's binary_logloss: 0.438557\tvalid_0's auc: 0.787221\n"
     ]
    },
    {
     "name": "stderr",
     "output_type": "stream",
     "text": [
      "/anaconda3/lib/python3.6/site-packages/sklearn/preprocessing/label.py:151: DeprecationWarning: The truth value of an empty array is ambiguous. Returning False, but in future this will result in an error. Use `array.size > 0` to check that an array is not empty.\n",
      "  if diff:\n",
      "/anaconda3/lib/python3.6/site-packages/sklearn/preprocessing/label.py:151: DeprecationWarning: The truth value of an empty array is ambiguous. Returning False, but in future this will result in an error. Use `array.size > 0` to check that an array is not empty.\n",
      "  if diff:\n"
     ]
    },
    {
     "name": "stdout",
     "output_type": "stream",
     "text": [
      "[1]\tvalid_0's binary_logloss: 0.610832\tvalid_0's auc: 0.766616\n",
      "Training until validation scores don't improve for 5 rounds.\n",
      "[2]\tvalid_0's binary_logloss: 0.556635\tvalid_0's auc: 0.775691\n",
      "[3]\tvalid_0's binary_logloss: 0.51919\tvalid_0's auc: 0.779031\n",
      "[4]\tvalid_0's binary_logloss: 0.49348\tvalid_0's auc: 0.778357\n",
      "[5]\tvalid_0's binary_logloss: 0.475186\tvalid_0's auc: 0.77921\n",
      "[6]\tvalid_0's binary_logloss: 0.462041\tvalid_0's auc: 0.780981\n",
      "[7]\tvalid_0's binary_logloss: 0.452851\tvalid_0's auc: 0.779832\n",
      "[8]\tvalid_0's binary_logloss: 0.445906\tvalid_0's auc: 0.780781\n",
      "[9]\tvalid_0's binary_logloss: 0.440981\tvalid_0's auc: 0.780393\n",
      "[10]\tvalid_0's binary_logloss: 0.437457\tvalid_0's auc: 0.781018\n",
      "[11]\tvalid_0's binary_logloss: 0.43497\tvalid_0's auc: 0.781142\n",
      "[12]\tvalid_0's binary_logloss: 0.433024\tvalid_0's auc: 0.781925\n",
      "[13]\tvalid_0's binary_logloss: 0.431559\tvalid_0's auc: 0.78232\n",
      "[14]\tvalid_0's binary_logloss: 0.430653\tvalid_0's auc: 0.782297\n",
      "[15]\tvalid_0's binary_logloss: 0.430551\tvalid_0's auc: 0.781434\n",
      "[16]\tvalid_0's binary_logloss: 0.430328\tvalid_0's auc: 0.781259\n",
      "[17]\tvalid_0's binary_logloss: 0.429864\tvalid_0's auc: 0.781813\n",
      "[18]\tvalid_0's binary_logloss: 0.430269\tvalid_0's auc: 0.781095\n",
      "Early stopping, best iteration is:\n",
      "[13]\tvalid_0's binary_logloss: 0.431559\tvalid_0's auc: 0.78232\n"
     ]
    },
    {
     "name": "stderr",
     "output_type": "stream",
     "text": [
      "/anaconda3/lib/python3.6/site-packages/sklearn/preprocessing/label.py:151: DeprecationWarning: The truth value of an empty array is ambiguous. Returning False, but in future this will result in an error. Use `array.size > 0` to check that an array is not empty.\n",
      "  if diff:\n",
      "/anaconda3/lib/python3.6/site-packages/sklearn/preprocessing/label.py:151: DeprecationWarning: The truth value of an empty array is ambiguous. Returning False, but in future this will result in an error. Use `array.size > 0` to check that an array is not empty.\n",
      "  if diff:\n"
     ]
    },
    {
     "name": "stdout",
     "output_type": "stream",
     "text": [
      "[1]\tvalid_0's binary_logloss: 0.620118\tvalid_0's auc: 0.770081\n",
      "Training until validation scores don't improve for 5 rounds.\n",
      "[2]\tvalid_0's binary_logloss: 0.569054\tvalid_0's auc: 0.778376\n",
      "[3]\tvalid_0's binary_logloss: 0.53253\tvalid_0's auc: 0.782252\n",
      "[4]\tvalid_0's binary_logloss: 0.505473\tvalid_0's auc: 0.781559\n",
      "[5]\tvalid_0's binary_logloss: 0.485674\tvalid_0's auc: 0.78324\n",
      "[6]\tvalid_0's binary_logloss: 0.470942\tvalid_0's auc: 0.784691\n",
      "[7]\tvalid_0's binary_logloss: 0.459025\tvalid_0's auc: 0.788516\n",
      "[8]\tvalid_0's binary_logloss: 0.450567\tvalid_0's auc: 0.788912\n",
      "[9]\tvalid_0's binary_logloss: 0.44456\tvalid_0's auc: 0.787857\n",
      "[10]\tvalid_0's binary_logloss: 0.439878\tvalid_0's auc: 0.788432\n",
      "[11]\tvalid_0's binary_logloss: 0.435873\tvalid_0's auc: 0.78989\n",
      "[12]\tvalid_0's binary_logloss: 0.43331\tvalid_0's auc: 0.789671\n",
      "[13]\tvalid_0's binary_logloss: 0.4309\tvalid_0's auc: 0.790578\n",
      "[14]\tvalid_0's binary_logloss: 0.429384\tvalid_0's auc: 0.791224\n",
      "[15]\tvalid_0's binary_logloss: 0.427809\tvalid_0's auc: 0.792186\n",
      "[16]\tvalid_0's binary_logloss: 0.426429\tvalid_0's auc: 0.792971\n",
      "[17]\tvalid_0's binary_logloss: 0.425568\tvalid_0's auc: 0.793156\n",
      "[18]\tvalid_0's binary_logloss: 0.424666\tvalid_0's auc: 0.793937\n",
      "[19]\tvalid_0's binary_logloss: 0.424323\tvalid_0's auc: 0.793525\n",
      "[20]\tvalid_0's binary_logloss: 0.424103\tvalid_0's auc: 0.793107\n",
      "[21]\tvalid_0's binary_logloss: 0.423742\tvalid_0's auc: 0.793312\n",
      "[22]\tvalid_0's binary_logloss: 0.423867\tvalid_0's auc: 0.792552\n"
     ]
    },
    {
     "data": {
      "text/plain": [
       "GridSearchCV(cv=None, error_score='raise',\n",
       "       estimator=LGBMClassifier(boosting_type='gbdt', colsample_bytree=1.0,\n",
       "        learning_rate=0.125, max_bin=255, max_depth=-1, metric='l1',\n",
       "        min_child_samples=10, min_child_weight=5, min_split_gain=0.0,\n",
       "        n_estimators=20, n_jobs=-1, num_leaves=38, objective=None,\n",
       "        random_state=0, reg_alpha=0.0, reg_lambda=0.0, silent=True,\n",
       "        subsample=1.0, subsample_for_bin=50000, subsample_freq=1),\n",
       "       fit_params=None, iid=True, n_jobs=1,\n",
       "       param_grid={'n_estimators': [20, 22, 24, 26, 28, 30, 32, 34], 'learning_rate': [0.1, 0.125, 0.15, 0.175, 0.2]},\n",
       "       pre_dispatch='2*n_jobs', refit=True, return_train_score=True,\n",
       "       scoring=None, verbose=0)"
      ]
     },
     "execution_count": 192,
     "metadata": {},
     "output_type": "execute_result"
    }
   ],
   "source": [
    "estimator = lgb.LGBMClassifier(learning_rate = 0.125, metric = 'l1', \n",
    "                        n_estimators = 20, num_leaves = 38)\n",
    "\n",
    "\n",
    "param_grid = {\n",
    "    'n_estimators': [x for x in range(20, 36, 2)],\n",
    "    'learning_rate': [0.10, 0.125, 0.15, 0.175, 0.2]}\n",
    "gridsearch = GridSearchCV(estimator, param_grid)\n",
    "\n",
    "gridsearch.fit(X_train, y_train,\n",
    "        eval_set = [(X_test, y_test)],\n",
    "        eval_metric = ['auc', 'binary_logloss'],\n",
    "        early_stopping_rounds = 5)\n",
    "\n"
   ]
  },
  {
   "cell_type": "code",
   "execution_count": 193,
   "metadata": {},
   "outputs": [
    {
     "name": "stdout",
     "output_type": "stream",
     "text": [
      "Best parameters found by grid search are: {'learning_rate': 0.175, 'n_estimators': 22}\n"
     ]
    }
   ],
   "source": [
    "print('Best parameters found by grid search are:', gridsearch.best_params_)"
   ]
  },
  {
   "cell_type": "markdown",
   "metadata": {},
   "source": [
    "<h2>LightGBM Hyperparameters + early stopping</h2>"
   ]
  },
  {
   "cell_type": "code",
   "execution_count": 194,
   "metadata": {
    "scrolled": true
   },
   "outputs": [
    {
     "name": "stdout",
     "output_type": "stream",
     "text": [
      "[1]\tvalid_0's binary_logloss: 0.639516\tvalid_0's auc: 0.769931\n",
      "Training until validation scores don't improve for 5 rounds.\n",
      "[2]\tvalid_0's binary_logloss: 0.598151\tvalid_0's auc: 0.776444\n",
      "[3]\tvalid_0's binary_logloss: 0.565573\tvalid_0's auc: 0.776859\n",
      "[4]\tvalid_0's binary_logloss: 0.539297\tvalid_0's auc: 0.78087\n",
      "[5]\tvalid_0's binary_logloss: 0.518157\tvalid_0's auc: 0.781459\n",
      "[6]\tvalid_0's binary_logloss: 0.501437\tvalid_0's auc: 0.782842\n",
      "[7]\tvalid_0's binary_logloss: 0.487425\tvalid_0's auc: 0.78555\n",
      "[8]\tvalid_0's binary_logloss: 0.476533\tvalid_0's auc: 0.785564\n",
      "[9]\tvalid_0's binary_logloss: 0.467455\tvalid_0's auc: 0.786285\n",
      "[10]\tvalid_0's binary_logloss: 0.459771\tvalid_0's auc: 0.787399\n",
      "[11]\tvalid_0's binary_logloss: 0.453756\tvalid_0's auc: 0.787303\n",
      "[12]\tvalid_0's binary_logloss: 0.448641\tvalid_0's auc: 0.787909\n",
      "[13]\tvalid_0's binary_logloss: 0.444734\tvalid_0's auc: 0.787417\n",
      "[14]\tvalid_0's binary_logloss: 0.441175\tvalid_0's auc: 0.787703\n",
      "[15]\tvalid_0's binary_logloss: 0.438071\tvalid_0's auc: 0.788785\n",
      "[16]\tvalid_0's binary_logloss: 0.435985\tvalid_0's auc: 0.788295\n",
      "[17]\tvalid_0's binary_logloss: 0.434239\tvalid_0's auc: 0.788286\n",
      "[18]\tvalid_0's binary_logloss: 0.432663\tvalid_0's auc: 0.788241\n",
      "[19]\tvalid_0's binary_logloss: 0.431216\tvalid_0's auc: 0.788667\n",
      "[20]\tvalid_0's binary_logloss: 0.430235\tvalid_0's auc: 0.788603\n",
      "Early stopping, best iteration is:\n",
      "[15]\tvalid_0's binary_logloss: 0.438071\tvalid_0's auc: 0.788785\n"
     ]
    },
    {
     "data": {
      "text/plain": [
       "LGBMClassifier(boosting_type='gbdt', colsample_bytree=1.0,\n",
       "        learning_rate=0.125, max_bin=255, max_depth=-1, metric='l1',\n",
       "        min_child_samples=10, min_child_weight=5, min_split_gain=0.0,\n",
       "        n_estimators=20, n_jobs=-1, num_leaves=31, objective=None,\n",
       "        random_state=0, reg_alpha=0.0, reg_lambda=0.0, silent=True,\n",
       "        subsample=1.0, subsample_for_bin=50000, subsample_freq=1)"
      ]
     },
     "execution_count": 194,
     "metadata": {},
     "output_type": "execute_result"
    }
   ],
   "source": [
    "\n",
    "gbm = lgb.LGBMClassifier(learning_rate = 0.125, metric = 'l1', \n",
    "                        n_estimators = 20)\n",
    "\n",
    "\n",
    "gbm.fit(X_train, y_train,\n",
    "        eval_set=[(X_test, y_test)],\n",
    "        eval_metric=['auc', 'binary_logloss'],\n",
    "early_stopping_rounds=5)\n"
   ]
  },
  {
   "cell_type": "markdown",
   "metadata": {},
   "source": [
    "<h2>Feature Importances Graph </h2>"
   ]
  },
  {
   "cell_type": "code",
   "execution_count": 195,
   "metadata": {},
   "outputs": [
    {
     "data": {
      "image/png": "[encoded data removed]",
      "text/plain": [
       "<matplotlib.figure.Figure at 0x1a1b2b0eb8>"
      ]
     },
     "metadata": {},
     "output_type": "display_data"
    }
   ],
   "source": [
    "ax = lgb.plot_importance(gbm, height = 0.4, \n",
    "                         max_num_features = 25, \n",
    "                         xlim = (0,100), ylim = (0,23), \n",
    "                         figsize = (10,6))\n",
    "plt.show()\n"
   ]
  },
  {
   "cell_type": "markdown",
   "metadata": {},
   "source": [
    "<h2>Dimensionality reduction using feature importances</h2>"
   ]
  },
  {
   "cell_type": "code",
   "execution_count": 196,
   "metadata": {},
   "outputs": [
    {
     "data": {
      "text/plain": [
       "[54,\n",
       " 53,\n",
       " 33,\n",
       " 29,\n",
       " 28,\n",
       " 26,\n",
       " 25,\n",
       " 22,\n",
       " 21,\n",
       " 20,\n",
       " 19,\n",
       " 18,\n",
       " 16,\n",
       " 15,\n",
       " 13,\n",
       " 13,\n",
       " 13,\n",
       " 10,\n",
       " 8,\n",
       " 5,\n",
       " 3,\n",
       " 3,\n",
       " 3]"
      ]
     },
     "execution_count": 196,
     "metadata": {},
     "output_type": "execute_result"
    }
   ],
   "source": [
    "# For each feature of our dataset, the result of the following\n",
    "# code snippet contains numbers of times a feature is used in a model.\n",
    "sorted(gbm.feature_importances_,reverse=True)"
   ]
  },
  {
   "cell_type": "code",
   "execution_count": 170,
   "metadata": {},
   "outputs": [
    {
     "name": "stdout",
     "output_type": "stream",
     "text": [
      "13 0.8711111111111111\n"
     ]
    }
   ],
   "source": [
    "# The code below aims to find where at least 85% \n",
    "temp = 0 \n",
    "total = sum(gbm.feature_importances_)\n",
    "for feature in sorted(gbm.feature_importances_, reverse=True):\n",
    "    temp+=feature\n",
    "    if temp/total >= 0.85:\n",
    "        print(feature,temp/total) # stop when we \n",
    "        break"
   ]
  },
  {
   "cell_type": "code",
   "execution_count": 197,
   "metadata": {},
   "outputs": [
    {
     "name": "stdout",
     "output_type": "stream",
     "text": [
      "AUC without dimensionality reduction: \n",
      "0.7887846326619228\n"
     ]
    }
   ],
   "source": [
    "y_pred_prob = gbm.predict_proba(X_test)[:, 1]\n",
    "auc_roc_0=str(metrics.roc_auc_score(y_test, y_pred_prob)) # store AUC score without dimensionality reduction\n",
    "print('AUC without dimensionality reduction: \\n' + auc_roc_0)"
   ]
  },
  {
   "cell_type": "code",
   "execution_count": 198,
   "metadata": {},
   "outputs": [],
   "source": [
    "#We can choose to drop the last 6 features from in our new model to reduce dimensionality, and thus save training time and space\n",
    "\n",
    "X = X.drop(['SEX','BILL_AMT5','MARRIAGE','EDUCATION','BILL_AMT6','BILL_AMT4'], axis=1)"
   ]
  },
  {
   "cell_type": "code",
   "execution_count": 199,
   "metadata": {},
   "outputs": [
    {
     "name": "stdout",
     "output_type": "stream",
     "text": [
      "[1]\tvalid_0's binary_logloss: 0.649282\tvalid_0's auc: 0.760522\n",
      "Training until validation scores don't improve for 5 rounds.\n",
      "[2]\tvalid_0's binary_logloss: 0.613403\tvalid_0's auc: 0.765924\n",
      "[3]\tvalid_0's binary_logloss: 0.583443\tvalid_0's auc: 0.774238\n",
      "[4]\tvalid_0's binary_logloss: 0.55847\tvalid_0's auc: 0.774835\n",
      "[5]\tvalid_0's binary_logloss: 0.537354\tvalid_0's auc: 0.778403\n",
      "[6]\tvalid_0's binary_logloss: 0.519972\tvalid_0's auc: 0.779946\n",
      "[7]\tvalid_0's binary_logloss: 0.505101\tvalid_0's auc: 0.781026\n",
      "[8]\tvalid_0's binary_logloss: 0.492389\tvalid_0's auc: 0.782535\n",
      "[9]\tvalid_0's binary_logloss: 0.481669\tvalid_0's auc: 0.78259\n",
      "[10]\tvalid_0's binary_logloss: 0.47242\tvalid_0's auc: 0.782939\n",
      "[11]\tvalid_0's binary_logloss: 0.464488\tvalid_0's auc: 0.782945\n",
      "[12]\tvalid_0's binary_logloss: 0.457969\tvalid_0's auc: 0.783519\n",
      "[13]\tvalid_0's binary_logloss: 0.452156\tvalid_0's auc: 0.784181\n",
      "[14]\tvalid_0's binary_logloss: 0.447314\tvalid_0's auc: 0.784533\n",
      "[15]\tvalid_0's binary_logloss: 0.443119\tvalid_0's auc: 0.784074\n",
      "[16]\tvalid_0's binary_logloss: 0.43955\tvalid_0's auc: 0.784542\n",
      "[17]\tvalid_0's binary_logloss: 0.436786\tvalid_0's auc: 0.784002\n",
      "[18]\tvalid_0's binary_logloss: 0.434256\tvalid_0's auc: 0.784232\n",
      "[19]\tvalid_0's binary_logloss: 0.432119\tvalid_0's auc: 0.784384\n",
      "[20]\tvalid_0's binary_logloss: 0.430361\tvalid_0's auc: 0.783686\n",
      "[1]\tvalid_0's binary_logloss: 0.648756\tvalid_0's auc: 0.764364\n",
      "Training until validation scores don't improve for 5 rounds.\n",
      "[2]\tvalid_0's binary_logloss: 0.612338\tvalid_0's auc: 0.770609\n",
      "[3]\tvalid_0's binary_logloss: 0.58247\tvalid_0's auc: 0.77313\n",
      "[4]\tvalid_0's binary_logloss: 0.557603\tvalid_0's auc: 0.773409\n",
      "[5]\tvalid_0's binary_logloss: 0.536608\tvalid_0's auc: 0.775851\n",
      "[6]\tvalid_0's binary_logloss: 0.519147\tvalid_0's auc: 0.775982\n"
     ]
    },
    {
     "name": "stderr",
     "output_type": "stream",
     "text": [
      "/anaconda3/lib/python3.6/site-packages/sklearn/preprocessing/label.py:151: DeprecationWarning: The truth value of an empty array is ambiguous. Returning False, but in future this will result in an error. Use `array.size > 0` to check that an array is not empty.\n",
      "  if diff:\n",
      "/anaconda3/lib/python3.6/site-packages/sklearn/preprocessing/label.py:151: DeprecationWarning: The truth value of an empty array is ambiguous. Returning False, but in future this will result in an error. Use `array.size > 0` to check that an array is not empty.\n",
      "  if diff:\n"
     ]
    },
    {
     "name": "stdout",
     "output_type": "stream",
     "text": [
      "[7]\tvalid_0's binary_logloss: 0.504433\tvalid_0's auc: 0.775974\n",
      "[8]\tvalid_0's binary_logloss: 0.492022\tvalid_0's auc: 0.777235\n",
      "[9]\tvalid_0's binary_logloss: 0.481333\tvalid_0's auc: 0.777486\n",
      "[10]\tvalid_0's binary_logloss: 0.472485\tvalid_0's auc: 0.777866\n",
      "[11]\tvalid_0's binary_logloss: 0.464879\tvalid_0's auc: 0.778778\n",
      "[12]\tvalid_0's binary_logloss: 0.458166\tvalid_0's auc: 0.780084\n",
      "[13]\tvalid_0's binary_logloss: 0.452653\tvalid_0's auc: 0.779795\n",
      "[14]\tvalid_0's binary_logloss: 0.447962\tvalid_0's auc: 0.780141\n",
      "[15]\tvalid_0's binary_logloss: 0.443932\tvalid_0's auc: 0.78002\n",
      "[16]\tvalid_0's binary_logloss: 0.440556\tvalid_0's auc: 0.779619\n",
      "[17]\tvalid_0's binary_logloss: 0.437962\tvalid_0's auc: 0.778887\n",
      "[18]\tvalid_0's binary_logloss: 0.43564\tvalid_0's auc: 0.778775\n",
      "[19]\tvalid_0's binary_logloss: 0.433432\tvalid_0's auc: 0.778656\n",
      "Early stopping, best iteration is:\n",
      "[14]\tvalid_0's binary_logloss: 0.447962\tvalid_0's auc: 0.780141\n"
     ]
    },
    {
     "name": "stderr",
     "output_type": "stream",
     "text": [
      "/anaconda3/lib/python3.6/site-packages/sklearn/preprocessing/label.py:151: DeprecationWarning: The truth value of an empty array is ambiguous. Returning False, but in future this will result in an error. Use `array.size > 0` to check that an array is not empty.\n",
      "  if diff:\n",
      "/anaconda3/lib/python3.6/site-packages/sklearn/preprocessing/label.py:151: DeprecationWarning: The truth value of an empty array is ambiguous. Returning False, but in future this will result in an error. Use `array.size > 0` to check that an array is not empty.\n",
      "  if diff:\n",
      "/anaconda3/lib/python3.6/site-packages/sklearn/preprocessing/label.py:151: DeprecationWarning: The truth value of an empty array is ambiguous. Returning False, but in future this will result in an error. Use `array.size > 0` to check that an array is not empty.\n",
      "  if diff:\n",
      "/anaconda3/lib/python3.6/site-packages/sklearn/preprocessing/label.py:151: DeprecationWarning: The truth value of an empty array is ambiguous. Returning False, but in future this will result in an error. Use `array.size > 0` to check that an array is not empty.\n",
      "  if diff:\n"
     ]
    },
    {
     "name": "stdout",
     "output_type": "stream",
     "text": [
      "[1]\tvalid_0's binary_logloss: 0.648093\tvalid_0's auc: 0.771709\n",
      "Training until validation scores don't improve for 5 rounds.\n",
      "[2]\tvalid_0's binary_logloss: 0.611166\tvalid_0's auc: 0.780367\n",
      "[3]\tvalid_0's binary_logloss: 0.581203\tvalid_0's auc: 0.780334\n",
      "[4]\tvalid_0's binary_logloss: 0.555852\tvalid_0's auc: 0.781138\n",
      "[5]\tvalid_0's binary_logloss: 0.53501\tvalid_0's auc: 0.783229\n",
      "[6]\tvalid_0's binary_logloss: 0.517095\tvalid_0's auc: 0.785197\n",
      "[7]\tvalid_0's binary_logloss: 0.502179\tvalid_0's auc: 0.784654\n",
      "[8]\tvalid_0's binary_logloss: 0.489409\tvalid_0's auc: 0.785247\n",
      "[9]\tvalid_0's binary_logloss: 0.479092\tvalid_0's auc: 0.785529\n",
      "[10]\tvalid_0's binary_logloss: 0.470047\tvalid_0's auc: 0.784761\n",
      "[11]\tvalid_0's binary_logloss: 0.462596\tvalid_0's auc: 0.784367\n",
      "[12]\tvalid_0's binary_logloss: 0.455988\tvalid_0's auc: 0.784221\n",
      "[13]\tvalid_0's binary_logloss: 0.45016\tvalid_0's auc: 0.785361\n",
      "[14]\tvalid_0's binary_logloss: 0.445477\tvalid_0's auc: 0.786439\n",
      "[15]\tvalid_0's binary_logloss: 0.441488\tvalid_0's auc: 0.785166\n",
      "[16]\tvalid_0's binary_logloss: 0.437661\tvalid_0's auc: 0.78639\n",
      "[17]\tvalid_0's binary_logloss: 0.434887\tvalid_0's auc: 0.785776\n",
      "[18]\tvalid_0's binary_logloss: 0.432385\tvalid_0's auc: 0.785955\n",
      "[19]\tvalid_0's binary_logloss: 0.430469\tvalid_0's auc: 0.784963\n",
      "Early stopping, best iteration is:\n",
      "[14]\tvalid_0's binary_logloss: 0.445477\tvalid_0's auc: 0.786439\n",
      "[1]\tvalid_0's binary_logloss: 0.649282\tvalid_0's auc: 0.760522\n",
      "Training until validation scores don't improve for 5 rounds.\n",
      "[2]\tvalid_0's binary_logloss: 0.613403\tvalid_0's auc: 0.765924\n",
      "[3]\tvalid_0's binary_logloss: 0.583443\tvalid_0's auc: 0.774238\n",
      "[4]\tvalid_0's binary_logloss: 0.55847\tvalid_0's auc: 0.774835\n",
      "[5]\tvalid_0's binary_logloss: 0.537354\tvalid_0's auc: 0.778403\n",
      "[6]\tvalid_0's binary_logloss: 0.519972\tvalid_0's auc: 0.779946\n",
      "[7]\tvalid_0's binary_logloss: 0.505101\tvalid_0's auc: 0.781026\n",
      "[8]\tvalid_0's binary_logloss: 0.492389\tvalid_0's auc: 0.782535\n",
      "[9]\tvalid_0's binary_logloss: 0.481669\tvalid_0's auc: 0.78259\n",
      "[10]\tvalid_0's binary_logloss: 0.47242\tvalid_0's auc: 0.782939\n",
      "[11]\tvalid_0's binary_logloss: 0.464488\tvalid_0's auc: 0.782945\n",
      "[12]\tvalid_0's binary_logloss: 0.457969\tvalid_0's auc: 0.783519\n",
      "[13]\tvalid_0's binary_logloss: 0.452156\tvalid_0's auc: 0.784181\n",
      "[14]\tvalid_0's binary_logloss: 0.447314\tvalid_0's auc: 0.784533\n",
      "[15]\tvalid_0's binary_logloss: 0.443119\tvalid_0's auc: 0.784074\n",
      "[16]\tvalid_0's binary_logloss: 0.43955\tvalid_0's auc: 0.784542\n",
      "[17]\tvalid_0's binary_logloss: 0.436786\tvalid_0's auc: 0.784002\n",
      "[18]\tvalid_0's binary_logloss: 0.434256\tvalid_0's auc: 0.784232\n",
      "[19]\tvalid_0's binary_logloss: 0.432119\tvalid_0's auc: 0.784384\n",
      "[20]\tvalid_0's binary_logloss: 0.430361\tvalid_0's auc: 0.783686\n",
      "[21]\tvalid_0's binary_logloss: 0.428759\tvalid_0's auc: 0.783608\n",
      "Early stopping, best iteration is:\n",
      "[16]\tvalid_0's binary_logloss: 0.43955\tvalid_0's auc: 0.784542\n",
      "[1]\tvalid_0's binary_logloss: 0.648756\tvalid_0's auc: 0.764364\n",
      "Training until validation scores don't improve for 5 rounds.\n",
      "[2]\tvalid_0's binary_logloss: 0.612338\tvalid_0's auc: 0.770609\n",
      "[3]\tvalid_0's binary_logloss: 0.58247\tvalid_0's auc: 0.77313\n",
      "[4]\tvalid_0's binary_logloss: 0.557603\tvalid_0's auc: 0.773409\n",
      "[5]\tvalid_0's binary_logloss: 0.536608\tvalid_0's auc: 0.775851\n",
      "[6]\tvalid_0's binary_logloss: 0.519147\tvalid_0's auc: 0.775982\n",
      "[7]\tvalid_0's binary_logloss: 0.504433\tvalid_0's auc: 0.775974\n"
     ]
    },
    {
     "name": "stderr",
     "output_type": "stream",
     "text": [
      "/anaconda3/lib/python3.6/site-packages/sklearn/preprocessing/label.py:151: DeprecationWarning: The truth value of an empty array is ambiguous. Returning False, but in future this will result in an error. Use `array.size > 0` to check that an array is not empty.\n",
      "  if diff:\n",
      "/anaconda3/lib/python3.6/site-packages/sklearn/preprocessing/label.py:151: DeprecationWarning: The truth value of an empty array is ambiguous. Returning False, but in future this will result in an error. Use `array.size > 0` to check that an array is not empty.\n",
      "  if diff:\n",
      "/anaconda3/lib/python3.6/site-packages/sklearn/preprocessing/label.py:151: DeprecationWarning: The truth value of an empty array is ambiguous. Returning False, but in future this will result in an error. Use `array.size > 0` to check that an array is not empty.\n",
      "  if diff:\n",
      "/anaconda3/lib/python3.6/site-packages/sklearn/preprocessing/label.py:151: DeprecationWarning: The truth value of an empty array is ambiguous. Returning False, but in future this will result in an error. Use `array.size > 0` to check that an array is not empty.\n",
      "  if diff:\n"
     ]
    },
    {
     "name": "stdout",
     "output_type": "stream",
     "text": [
      "[8]\tvalid_0's binary_logloss: 0.492022\tvalid_0's auc: 0.777235\n",
      "[9]\tvalid_0's binary_logloss: 0.481333\tvalid_0's auc: 0.777486\n",
      "[10]\tvalid_0's binary_logloss: 0.472485\tvalid_0's auc: 0.777866\n",
      "[11]\tvalid_0's binary_logloss: 0.464879\tvalid_0's auc: 0.778778\n",
      "[12]\tvalid_0's binary_logloss: 0.458166\tvalid_0's auc: 0.780084\n",
      "[13]\tvalid_0's binary_logloss: 0.452653\tvalid_0's auc: 0.779795\n",
      "[14]\tvalid_0's binary_logloss: 0.447962\tvalid_0's auc: 0.780141\n",
      "[15]\tvalid_0's binary_logloss: 0.443932\tvalid_0's auc: 0.78002\n",
      "[16]\tvalid_0's binary_logloss: 0.440556\tvalid_0's auc: 0.779619\n",
      "[17]\tvalid_0's binary_logloss: 0.437962\tvalid_0's auc: 0.778887\n",
      "[18]\tvalid_0's binary_logloss: 0.43564\tvalid_0's auc: 0.778775\n",
      "[19]\tvalid_0's binary_logloss: 0.433432\tvalid_0's auc: 0.778656\n",
      "Early stopping, best iteration is:\n",
      "[14]\tvalid_0's binary_logloss: 0.447962\tvalid_0's auc: 0.780141\n",
      "[1]\tvalid_0's binary_logloss: 0.648093\tvalid_0's auc: 0.771709\n",
      "Training until validation scores don't improve for 5 rounds.\n",
      "[2]\tvalid_0's binary_logloss: 0.611166\tvalid_0's auc: 0.780367\n",
      "[3]\tvalid_0's binary_logloss: 0.581203\tvalid_0's auc: 0.780334\n",
      "[4]\tvalid_0's binary_logloss: 0.555852\tvalid_0's auc: 0.781138\n",
      "[5]\tvalid_0's binary_logloss: 0.53501\tvalid_0's auc: 0.783229\n",
      "[6]\tvalid_0's binary_logloss: 0.517095\tvalid_0's auc: 0.785197\n",
      "[7]\tvalid_0's binary_logloss: 0.502179\tvalid_0's auc: 0.784654\n",
      "[8]\tvalid_0's binary_logloss: 0.489409\tvalid_0's auc: 0.785247\n",
      "[9]\tvalid_0's binary_logloss: 0.479092\tvalid_0's auc: 0.785529\n",
      "[10]\tvalid_0's binary_logloss: 0.470047\tvalid_0's auc: 0.784761\n",
      "[11]\tvalid_0's binary_logloss: 0.462596\tvalid_0's auc: 0.784367\n",
      "[12]\tvalid_0's binary_logloss: 0.455988\tvalid_0's auc: 0.784221\n",
      "[13]\tvalid_0's binary_logloss: 0.45016\tvalid_0's auc: 0.785361\n",
      "[14]\tvalid_0's binary_logloss: 0.445477\tvalid_0's auc: 0.786439\n",
      "[15]\tvalid_0's binary_logloss: 0.441488\tvalid_0's auc: 0.785166\n",
      "[16]\tvalid_0's binary_logloss: 0.437661\tvalid_0's auc: 0.78639\n",
      "[17]\tvalid_0's binary_logloss: 0.434887\tvalid_0's auc: 0.785776\n",
      "[18]\tvalid_0's binary_logloss: 0.432385\tvalid_0's auc: 0.785955\n",
      "[19]\tvalid_0's binary_logloss: 0.430469\tvalid_0's auc: 0.784963\n",
      "Early stopping, best iteration is:\n",
      "[14]\tvalid_0's binary_logloss: 0.445477\tvalid_0's auc: 0.786439\n"
     ]
    },
    {
     "name": "stderr",
     "output_type": "stream",
     "text": [
      "/anaconda3/lib/python3.6/site-packages/sklearn/preprocessing/label.py:151: DeprecationWarning: The truth value of an empty array is ambiguous. Returning False, but in future this will result in an error. Use `array.size > 0` to check that an array is not empty.\n",
      "  if diff:\n",
      "/anaconda3/lib/python3.6/site-packages/sklearn/preprocessing/label.py:151: DeprecationWarning: The truth value of an empty array is ambiguous. Returning False, but in future this will result in an error. Use `array.size > 0` to check that an array is not empty.\n",
      "  if diff:\n"
     ]
    },
    {
     "name": "stdout",
     "output_type": "stream",
     "text": [
      "[1]\tvalid_0's binary_logloss: 0.649282\tvalid_0's auc: 0.760522\n",
      "Training until validation scores don't improve for 5 rounds.\n",
      "[2]\tvalid_0's binary_logloss: 0.613403\tvalid_0's auc: 0.765924\n",
      "[3]\tvalid_0's binary_logloss: 0.583443\tvalid_0's auc: 0.774238\n",
      "[4]\tvalid_0's binary_logloss: 0.55847\tvalid_0's auc: 0.774835\n",
      "[5]\tvalid_0's binary_logloss: 0.537354\tvalid_0's auc: 0.778403\n",
      "[6]\tvalid_0's binary_logloss: 0.519972\tvalid_0's auc: 0.779946\n",
      "[7]\tvalid_0's binary_logloss: 0.505101\tvalid_0's auc: 0.781026\n",
      "[8]\tvalid_0's binary_logloss: 0.492389\tvalid_0's auc: 0.782535\n",
      "[9]\tvalid_0's binary_logloss: 0.481669\tvalid_0's auc: 0.78259\n",
      "[10]\tvalid_0's binary_logloss: 0.47242\tvalid_0's auc: 0.782939\n",
      "[11]\tvalid_0's binary_logloss: 0.464488\tvalid_0's auc: 0.782945\n",
      "[12]\tvalid_0's binary_logloss: 0.457969\tvalid_0's auc: 0.783519\n",
      "[13]\tvalid_0's binary_logloss: 0.452156\tvalid_0's auc: 0.784181\n",
      "[14]\tvalid_0's binary_logloss: 0.447314\tvalid_0's auc: 0.784533\n",
      "[15]\tvalid_0's binary_logloss: 0.443119\tvalid_0's auc: 0.784074\n",
      "[16]\tvalid_0's binary_logloss: 0.43955\tvalid_0's auc: 0.784542\n",
      "[17]\tvalid_0's binary_logloss: 0.436786\tvalid_0's auc: 0.784002\n",
      "[18]\tvalid_0's binary_logloss: 0.434256\tvalid_0's auc: 0.784232\n",
      "[19]\tvalid_0's binary_logloss: 0.432119\tvalid_0's auc: 0.784384\n",
      "[20]\tvalid_0's binary_logloss: 0.430361\tvalid_0's auc: 0.783686\n",
      "[21]\tvalid_0's binary_logloss: 0.428759\tvalid_0's auc: 0.783608\n",
      "Early stopping, best iteration is:\n",
      "[16]\tvalid_0's binary_logloss: 0.43955\tvalid_0's auc: 0.784542\n",
      "[1]\tvalid_0's binary_logloss: 0.648756\tvalid_0's auc: 0.764364\n",
      "Training until validation scores don't improve for 5 rounds.\n",
      "[2]\tvalid_0's binary_logloss: 0.612338\tvalid_0's auc: 0.770609\n"
     ]
    },
    {
     "name": "stderr",
     "output_type": "stream",
     "text": [
      "/anaconda3/lib/python3.6/site-packages/sklearn/preprocessing/label.py:151: DeprecationWarning: The truth value of an empty array is ambiguous. Returning False, but in future this will result in an error. Use `array.size > 0` to check that an array is not empty.\n",
      "  if diff:\n",
      "/anaconda3/lib/python3.6/site-packages/sklearn/preprocessing/label.py:151: DeprecationWarning: The truth value of an empty array is ambiguous. Returning False, but in future this will result in an error. Use `array.size > 0` to check that an array is not empty.\n",
      "  if diff:\n"
     ]
    },
    {
     "name": "stdout",
     "output_type": "stream",
     "text": [
      "[3]\tvalid_0's binary_logloss: 0.58247\tvalid_0's auc: 0.77313\n",
      "[4]\tvalid_0's binary_logloss: 0.557603\tvalid_0's auc: 0.773409\n",
      "[5]\tvalid_0's binary_logloss: 0.536608\tvalid_0's auc: 0.775851\n",
      "[6]\tvalid_0's binary_logloss: 0.519147\tvalid_0's auc: 0.775982\n",
      "[7]\tvalid_0's binary_logloss: 0.504433\tvalid_0's auc: 0.775974\n",
      "[8]\tvalid_0's binary_logloss: 0.492022\tvalid_0's auc: 0.777235\n",
      "[9]\tvalid_0's binary_logloss: 0.481333\tvalid_0's auc: 0.777486\n",
      "[10]\tvalid_0's binary_logloss: 0.472485\tvalid_0's auc: 0.777866\n",
      "[11]\tvalid_0's binary_logloss: 0.464879\tvalid_0's auc: 0.778778\n",
      "[12]\tvalid_0's binary_logloss: 0.458166\tvalid_0's auc: 0.780084\n",
      "[13]\tvalid_0's binary_logloss: 0.452653\tvalid_0's auc: 0.779795\n",
      "[14]\tvalid_0's binary_logloss: 0.447962\tvalid_0's auc: 0.780141\n",
      "[15]\tvalid_0's binary_logloss: 0.443932\tvalid_0's auc: 0.78002\n",
      "[16]\tvalid_0's binary_logloss: 0.440556\tvalid_0's auc: 0.779619\n",
      "[17]\tvalid_0's binary_logloss: 0.437962\tvalid_0's auc: 0.778887\n",
      "[18]\tvalid_0's binary_logloss: 0.43564\tvalid_0's auc: 0.778775\n",
      "[19]\tvalid_0's binary_logloss: 0.433432\tvalid_0's auc: 0.778656\n",
      "Early stopping, best iteration is:\n",
      "[14]\tvalid_0's binary_logloss: 0.447962\tvalid_0's auc: 0.780141\n"
     ]
    },
    {
     "name": "stderr",
     "output_type": "stream",
     "text": [
      "/anaconda3/lib/python3.6/site-packages/sklearn/preprocessing/label.py:151: DeprecationWarning: The truth value of an empty array is ambiguous. Returning False, but in future this will result in an error. Use `array.size > 0` to check that an array is not empty.\n",
      "  if diff:\n",
      "/anaconda3/lib/python3.6/site-packages/sklearn/preprocessing/label.py:151: DeprecationWarning: The truth value of an empty array is ambiguous. Returning False, but in future this will result in an error. Use `array.size > 0` to check that an array is not empty.\n",
      "  if diff:\n"
     ]
    },
    {
     "name": "stdout",
     "output_type": "stream",
     "text": [
      "[1]\tvalid_0's binary_logloss: 0.648093\tvalid_0's auc: 0.771709\n",
      "Training until validation scores don't improve for 5 rounds.\n",
      "[2]\tvalid_0's binary_logloss: 0.611166\tvalid_0's auc: 0.780367\n",
      "[3]\tvalid_0's binary_logloss: 0.581203\tvalid_0's auc: 0.780334\n",
      "[4]\tvalid_0's binary_logloss: 0.555852\tvalid_0's auc: 0.781138\n",
      "[5]\tvalid_0's binary_logloss: 0.53501\tvalid_0's auc: 0.783229\n",
      "[6]\tvalid_0's binary_logloss: 0.517095\tvalid_0's auc: 0.785197\n",
      "[7]\tvalid_0's binary_logloss: 0.502179\tvalid_0's auc: 0.784654\n",
      "[8]\tvalid_0's binary_logloss: 0.489409\tvalid_0's auc: 0.785247\n",
      "[9]\tvalid_0's binary_logloss: 0.479092\tvalid_0's auc: 0.785529\n",
      "[10]\tvalid_0's binary_logloss: 0.470047\tvalid_0's auc: 0.784761\n",
      "[11]\tvalid_0's binary_logloss: 0.462596\tvalid_0's auc: 0.784367\n",
      "[12]\tvalid_0's binary_logloss: 0.455988\tvalid_0's auc: 0.784221\n",
      "[13]\tvalid_0's binary_logloss: 0.45016\tvalid_0's auc: 0.785361\n",
      "[14]\tvalid_0's binary_logloss: 0.445477\tvalid_0's auc: 0.786439\n",
      "[15]\tvalid_0's binary_logloss: 0.441488\tvalid_0's auc: 0.785166\n",
      "[16]\tvalid_0's binary_logloss: 0.437661\tvalid_0's auc: 0.78639\n",
      "[17]\tvalid_0's binary_logloss: 0.434887\tvalid_0's auc: 0.785776\n",
      "[18]\tvalid_0's binary_logloss: 0.432385\tvalid_0's auc: 0.785955\n",
      "[19]\tvalid_0's binary_logloss: 0.430469\tvalid_0's auc: 0.784963\n",
      "Early stopping, best iteration is:\n",
      "[14]\tvalid_0's binary_logloss: 0.445477\tvalid_0's auc: 0.786439\n",
      "[1]\tvalid_0's binary_logloss: 0.649282\tvalid_0's auc: 0.760522\n",
      "Training until validation scores don't improve for 5 rounds.\n",
      "[2]\tvalid_0's binary_logloss: 0.613403\tvalid_0's auc: 0.765924\n",
      "[3]\tvalid_0's binary_logloss: 0.583443\tvalid_0's auc: 0.774238\n",
      "[4]\tvalid_0's binary_logloss: 0.55847\tvalid_0's auc: 0.774835\n"
     ]
    },
    {
     "name": "stderr",
     "output_type": "stream",
     "text": [
      "/anaconda3/lib/python3.6/site-packages/sklearn/preprocessing/label.py:151: DeprecationWarning: The truth value of an empty array is ambiguous. Returning False, but in future this will result in an error. Use `array.size > 0` to check that an array is not empty.\n",
      "  if diff:\n",
      "/anaconda3/lib/python3.6/site-packages/sklearn/preprocessing/label.py:151: DeprecationWarning: The truth value of an empty array is ambiguous. Returning False, but in future this will result in an error. Use `array.size > 0` to check that an array is not empty.\n",
      "  if diff:\n"
     ]
    },
    {
     "name": "stdout",
     "output_type": "stream",
     "text": [
      "[5]\tvalid_0's binary_logloss: 0.537354\tvalid_0's auc: 0.778403\n",
      "[6]\tvalid_0's binary_logloss: 0.519972\tvalid_0's auc: 0.779946\n",
      "[7]\tvalid_0's binary_logloss: 0.505101\tvalid_0's auc: 0.781026\n",
      "[8]\tvalid_0's binary_logloss: 0.492389\tvalid_0's auc: 0.782535\n",
      "[9]\tvalid_0's binary_logloss: 0.481669\tvalid_0's auc: 0.78259\n",
      "[10]\tvalid_0's binary_logloss: 0.47242\tvalid_0's auc: 0.782939\n",
      "[11]\tvalid_0's binary_logloss: 0.464488\tvalid_0's auc: 0.782945\n",
      "[12]\tvalid_0's binary_logloss: 0.457969\tvalid_0's auc: 0.783519\n",
      "[13]\tvalid_0's binary_logloss: 0.452156\tvalid_0's auc: 0.784181\n",
      "[14]\tvalid_0's binary_logloss: 0.447314\tvalid_0's auc: 0.784533\n",
      "[15]\tvalid_0's binary_logloss: 0.443119\tvalid_0's auc: 0.784074\n",
      "[16]\tvalid_0's binary_logloss: 0.43955\tvalid_0's auc: 0.784542\n",
      "[17]\tvalid_0's binary_logloss: 0.436786\tvalid_0's auc: 0.784002\n",
      "[18]\tvalid_0's binary_logloss: 0.434256\tvalid_0's auc: 0.784232\n",
      "[19]\tvalid_0's binary_logloss: 0.432119\tvalid_0's auc: 0.784384\n",
      "[20]\tvalid_0's binary_logloss: 0.430361\tvalid_0's auc: 0.783686\n",
      "[21]\tvalid_0's binary_logloss: 0.428759\tvalid_0's auc: 0.783608\n",
      "Early stopping, best iteration is:\n",
      "[16]\tvalid_0's binary_logloss: 0.43955\tvalid_0's auc: 0.784542\n"
     ]
    },
    {
     "name": "stderr",
     "output_type": "stream",
     "text": [
      "/anaconda3/lib/python3.6/site-packages/sklearn/preprocessing/label.py:151: DeprecationWarning: The truth value of an empty array is ambiguous. Returning False, but in future this will result in an error. Use `array.size > 0` to check that an array is not empty.\n",
      "  if diff:\n",
      "/anaconda3/lib/python3.6/site-packages/sklearn/preprocessing/label.py:151: DeprecationWarning: The truth value of an empty array is ambiguous. Returning False, but in future this will result in an error. Use `array.size > 0` to check that an array is not empty.\n",
      "  if diff:\n"
     ]
    },
    {
     "name": "stdout",
     "output_type": "stream",
     "text": [
      "[1]\tvalid_0's binary_logloss: 0.648756\tvalid_0's auc: 0.764364\n",
      "Training until validation scores don't improve for 5 rounds.\n",
      "[2]\tvalid_0's binary_logloss: 0.612338\tvalid_0's auc: 0.770609\n",
      "[3]\tvalid_0's binary_logloss: 0.58247\tvalid_0's auc: 0.77313\n",
      "[4]\tvalid_0's binary_logloss: 0.557603\tvalid_0's auc: 0.773409\n",
      "[5]\tvalid_0's binary_logloss: 0.536608\tvalid_0's auc: 0.775851\n",
      "[6]\tvalid_0's binary_logloss: 0.519147\tvalid_0's auc: 0.775982\n",
      "[7]\tvalid_0's binary_logloss: 0.504433\tvalid_0's auc: 0.775974\n",
      "[8]\tvalid_0's binary_logloss: 0.492022\tvalid_0's auc: 0.777235\n",
      "[9]\tvalid_0's binary_logloss: 0.481333\tvalid_0's auc: 0.777486\n",
      "[10]\tvalid_0's binary_logloss: 0.472485\tvalid_0's auc: 0.777866\n",
      "[11]\tvalid_0's binary_logloss: 0.464879\tvalid_0's auc: 0.778778\n",
      "[12]\tvalid_0's binary_logloss: 0.458166\tvalid_0's auc: 0.780084\n",
      "[13]\tvalid_0's binary_logloss: 0.452653\tvalid_0's auc: 0.779795\n",
      "[14]\tvalid_0's binary_logloss: 0.447962\tvalid_0's auc: 0.780141\n",
      "[15]\tvalid_0's binary_logloss: 0.443932\tvalid_0's auc: 0.78002\n",
      "[16]\tvalid_0's binary_logloss: 0.440556\tvalid_0's auc: 0.779619\n",
      "[17]\tvalid_0's binary_logloss: 0.437962\tvalid_0's auc: 0.778887\n",
      "[18]\tvalid_0's binary_logloss: 0.43564\tvalid_0's auc: 0.778775\n",
      "[19]\tvalid_0's binary_logloss: 0.433432\tvalid_0's auc: 0.778656\n",
      "Early stopping, best iteration is:\n",
      "[14]\tvalid_0's binary_logloss: 0.447962\tvalid_0's auc: 0.780141\n"
     ]
    },
    {
     "name": "stderr",
     "output_type": "stream",
     "text": [
      "/anaconda3/lib/python3.6/site-packages/sklearn/preprocessing/label.py:151: DeprecationWarning: The truth value of an empty array is ambiguous. Returning False, but in future this will result in an error. Use `array.size > 0` to check that an array is not empty.\n",
      "  if diff:\n",
      "/anaconda3/lib/python3.6/site-packages/sklearn/preprocessing/label.py:151: DeprecationWarning: The truth value of an empty array is ambiguous. Returning False, but in future this will result in an error. Use `array.size > 0` to check that an array is not empty.\n",
      "  if diff:\n"
     ]
    },
    {
     "name": "stdout",
     "output_type": "stream",
     "text": [
      "[1]\tvalid_0's binary_logloss: 0.648093\tvalid_0's auc: 0.771709\n",
      "Training until validation scores don't improve for 5 rounds.\n",
      "[2]\tvalid_0's binary_logloss: 0.611166\tvalid_0's auc: 0.780367\n",
      "[3]\tvalid_0's binary_logloss: 0.581203\tvalid_0's auc: 0.780334\n",
      "[4]\tvalid_0's binary_logloss: 0.555852\tvalid_0's auc: 0.781138\n",
      "[5]\tvalid_0's binary_logloss: 0.53501\tvalid_0's auc: 0.783229\n",
      "[6]\tvalid_0's binary_logloss: 0.517095\tvalid_0's auc: 0.785197\n",
      "[7]\tvalid_0's binary_logloss: 0.502179\tvalid_0's auc: 0.784654\n",
      "[8]\tvalid_0's binary_logloss: 0.489409\tvalid_0's auc: 0.785247\n",
      "[9]\tvalid_0's binary_logloss: 0.479092\tvalid_0's auc: 0.785529\n",
      "[10]\tvalid_0's binary_logloss: 0.470047\tvalid_0's auc: 0.784761\n",
      "[11]\tvalid_0's binary_logloss: 0.462596\tvalid_0's auc: 0.784367\n",
      "[12]\tvalid_0's binary_logloss: 0.455988\tvalid_0's auc: 0.784221\n",
      "[13]\tvalid_0's binary_logloss: 0.45016\tvalid_0's auc: 0.785361\n",
      "[14]\tvalid_0's binary_logloss: 0.445477\tvalid_0's auc: 0.786439\n",
      "[15]\tvalid_0's binary_logloss: 0.441488\tvalid_0's auc: 0.785166\n",
      "[16]\tvalid_0's binary_logloss: 0.437661\tvalid_0's auc: 0.78639\n",
      "[17]\tvalid_0's binary_logloss: 0.434887\tvalid_0's auc: 0.785776\n",
      "[18]\tvalid_0's binary_logloss: 0.432385\tvalid_0's auc: 0.785955\n",
      "[19]\tvalid_0's binary_logloss: 0.430469\tvalid_0's auc: 0.784963\n",
      "Early stopping, best iteration is:\n",
      "[14]\tvalid_0's binary_logloss: 0.445477\tvalid_0's auc: 0.786439\n"
     ]
    },
    {
     "name": "stderr",
     "output_type": "stream",
     "text": [
      "/anaconda3/lib/python3.6/site-packages/sklearn/preprocessing/label.py:151: DeprecationWarning: The truth value of an empty array is ambiguous. Returning False, but in future this will result in an error. Use `array.size > 0` to check that an array is not empty.\n",
      "  if diff:\n",
      "/anaconda3/lib/python3.6/site-packages/sklearn/preprocessing/label.py:151: DeprecationWarning: The truth value of an empty array is ambiguous. Returning False, but in future this will result in an error. Use `array.size > 0` to check that an array is not empty.\n",
      "  if diff:\n"
     ]
    },
    {
     "name": "stdout",
     "output_type": "stream",
     "text": [
      "[1]\tvalid_0's binary_logloss: 0.649282\tvalid_0's auc: 0.760522\n",
      "Training until validation scores don't improve for 5 rounds.\n",
      "[2]\tvalid_0's binary_logloss: 0.613403\tvalid_0's auc: 0.765924\n",
      "[3]\tvalid_0's binary_logloss: 0.583443\tvalid_0's auc: 0.774238\n",
      "[4]\tvalid_0's binary_logloss: 0.55847\tvalid_0's auc: 0.774835\n",
      "[5]\tvalid_0's binary_logloss: 0.537354\tvalid_0's auc: 0.778403\n",
      "[6]\tvalid_0's binary_logloss: 0.519972\tvalid_0's auc: 0.779946\n",
      "[7]\tvalid_0's binary_logloss: 0.505101\tvalid_0's auc: 0.781026\n",
      "[8]\tvalid_0's binary_logloss: 0.492389\tvalid_0's auc: 0.782535\n",
      "[9]\tvalid_0's binary_logloss: 0.481669\tvalid_0's auc: 0.78259\n",
      "[10]\tvalid_0's binary_logloss: 0.47242\tvalid_0's auc: 0.782939\n",
      "[11]\tvalid_0's binary_logloss: 0.464488\tvalid_0's auc: 0.782945\n",
      "[12]\tvalid_0's binary_logloss: 0.457969\tvalid_0's auc: 0.783519\n",
      "[13]\tvalid_0's binary_logloss: 0.452156\tvalid_0's auc: 0.784181\n",
      "[14]\tvalid_0's binary_logloss: 0.447314\tvalid_0's auc: 0.784533\n",
      "[15]\tvalid_0's binary_logloss: 0.443119\tvalid_0's auc: 0.784074\n",
      "[16]\tvalid_0's binary_logloss: 0.43955\tvalid_0's auc: 0.784542\n",
      "[17]\tvalid_0's binary_logloss: 0.436786\tvalid_0's auc: 0.784002\n",
      "[18]\tvalid_0's binary_logloss: 0.434256\tvalid_0's auc: 0.784232\n",
      "[19]\tvalid_0's binary_logloss: 0.432119\tvalid_0's auc: 0.784384\n",
      "[20]\tvalid_0's binary_logloss: 0.430361\tvalid_0's auc: 0.783686\n",
      "[21]\tvalid_0's binary_logloss: 0.428759\tvalid_0's auc: 0.783608\n",
      "Early stopping, best iteration is:\n",
      "[16]\tvalid_0's binary_logloss: 0.43955\tvalid_0's auc: 0.784542\n"
     ]
    },
    {
     "name": "stderr",
     "output_type": "stream",
     "text": [
      "/anaconda3/lib/python3.6/site-packages/sklearn/preprocessing/label.py:151: DeprecationWarning: The truth value of an empty array is ambiguous. Returning False, but in future this will result in an error. Use `array.size > 0` to check that an array is not empty.\n",
      "  if diff:\n",
      "/anaconda3/lib/python3.6/site-packages/sklearn/preprocessing/label.py:151: DeprecationWarning: The truth value of an empty array is ambiguous. Returning False, but in future this will result in an error. Use `array.size > 0` to check that an array is not empty.\n",
      "  if diff:\n"
     ]
    },
    {
     "name": "stdout",
     "output_type": "stream",
     "text": [
      "[1]\tvalid_0's binary_logloss: 0.648756\tvalid_0's auc: 0.764364\n",
      "Training until validation scores don't improve for 5 rounds.\n",
      "[2]\tvalid_0's binary_logloss: 0.612338\tvalid_0's auc: 0.770609\n",
      "[3]\tvalid_0's binary_logloss: 0.58247\tvalid_0's auc: 0.77313\n",
      "[4]\tvalid_0's binary_logloss: 0.557603\tvalid_0's auc: 0.773409\n",
      "[5]\tvalid_0's binary_logloss: 0.536608\tvalid_0's auc: 0.775851\n",
      "[6]\tvalid_0's binary_logloss: 0.519147\tvalid_0's auc: 0.775982\n",
      "[7]\tvalid_0's binary_logloss: 0.504433\tvalid_0's auc: 0.775974\n",
      "[8]\tvalid_0's binary_logloss: 0.492022\tvalid_0's auc: 0.777235\n",
      "[9]\tvalid_0's binary_logloss: 0.481333\tvalid_0's auc: 0.777486\n",
      "[10]\tvalid_0's binary_logloss: 0.472485\tvalid_0's auc: 0.777866\n",
      "[11]\tvalid_0's binary_logloss: 0.464879\tvalid_0's auc: 0.778778\n",
      "[12]\tvalid_0's binary_logloss: 0.458166\tvalid_0's auc: 0.780084\n",
      "[13]\tvalid_0's binary_logloss: 0.452653\tvalid_0's auc: 0.779795\n",
      "[14]\tvalid_0's binary_logloss: 0.447962\tvalid_0's auc: 0.780141\n",
      "[15]\tvalid_0's binary_logloss: 0.443932\tvalid_0's auc: 0.78002\n",
      "[16]\tvalid_0's binary_logloss: 0.440556\tvalid_0's auc: 0.779619\n",
      "[17]\tvalid_0's binary_logloss: 0.437962\tvalid_0's auc: 0.778887\n",
      "[18]\tvalid_0's binary_logloss: 0.43564\tvalid_0's auc: 0.778775\n",
      "[19]\tvalid_0's binary_logloss: 0.433432\tvalid_0's auc: 0.778656\n",
      "Early stopping, best iteration is:\n",
      "[14]\tvalid_0's binary_logloss: 0.447962\tvalid_0's auc: 0.780141\n"
     ]
    },
    {
     "name": "stderr",
     "output_type": "stream",
     "text": [
      "/anaconda3/lib/python3.6/site-packages/sklearn/preprocessing/label.py:151: DeprecationWarning: The truth value of an empty array is ambiguous. Returning False, but in future this will result in an error. Use `array.size > 0` to check that an array is not empty.\n",
      "  if diff:\n",
      "/anaconda3/lib/python3.6/site-packages/sklearn/preprocessing/label.py:151: DeprecationWarning: The truth value of an empty array is ambiguous. Returning False, but in future this will result in an error. Use `array.size > 0` to check that an array is not empty.\n",
      "  if diff:\n"
     ]
    },
    {
     "name": "stdout",
     "output_type": "stream",
     "text": [
      "[1]\tvalid_0's binary_logloss: 0.648093\tvalid_0's auc: 0.771709\n",
      "Training until validation scores don't improve for 5 rounds.\n",
      "[2]\tvalid_0's binary_logloss: 0.611166\tvalid_0's auc: 0.780367\n",
      "[3]\tvalid_0's binary_logloss: 0.581203\tvalid_0's auc: 0.780334\n",
      "[4]\tvalid_0's binary_logloss: 0.555852\tvalid_0's auc: 0.781138\n",
      "[5]\tvalid_0's binary_logloss: 0.53501\tvalid_0's auc: 0.783229\n",
      "[6]\tvalid_0's binary_logloss: 0.517095\tvalid_0's auc: 0.785197\n",
      "[7]\tvalid_0's binary_logloss: 0.502179\tvalid_0's auc: 0.784654\n",
      "[8]\tvalid_0's binary_logloss: 0.489409\tvalid_0's auc: 0.785247\n",
      "[9]\tvalid_0's binary_logloss: 0.479092\tvalid_0's auc: 0.785529\n",
      "[10]\tvalid_0's binary_logloss: 0.470047\tvalid_0's auc: 0.784761\n",
      "[11]\tvalid_0's binary_logloss: 0.462596\tvalid_0's auc: 0.784367\n",
      "[12]\tvalid_0's binary_logloss: 0.455988\tvalid_0's auc: 0.784221\n",
      "[13]\tvalid_0's binary_logloss: 0.45016\tvalid_0's auc: 0.785361\n",
      "[14]\tvalid_0's binary_logloss: 0.445477\tvalid_0's auc: 0.786439\n",
      "[15]\tvalid_0's binary_logloss: 0.441488\tvalid_0's auc: 0.785166\n",
      "[16]\tvalid_0's binary_logloss: 0.437661\tvalid_0's auc: 0.78639\n",
      "[17]\tvalid_0's binary_logloss: 0.434887\tvalid_0's auc: 0.785776\n",
      "[18]\tvalid_0's binary_logloss: 0.432385\tvalid_0's auc: 0.785955\n",
      "[19]\tvalid_0's binary_logloss: 0.430469\tvalid_0's auc: 0.784963\n",
      "Early stopping, best iteration is:\n",
      "[14]\tvalid_0's binary_logloss: 0.445477\tvalid_0's auc: 0.786439\n"
     ]
    },
    {
     "name": "stderr",
     "output_type": "stream",
     "text": [
      "/anaconda3/lib/python3.6/site-packages/sklearn/preprocessing/label.py:151: DeprecationWarning: The truth value of an empty array is ambiguous. Returning False, but in future this will result in an error. Use `array.size > 0` to check that an array is not empty.\n",
      "  if diff:\n",
      "/anaconda3/lib/python3.6/site-packages/sklearn/preprocessing/label.py:151: DeprecationWarning: The truth value of an empty array is ambiguous. Returning False, but in future this will result in an error. Use `array.size > 0` to check that an array is not empty.\n",
      "  if diff:\n"
     ]
    },
    {
     "name": "stdout",
     "output_type": "stream",
     "text": [
      "[1]\tvalid_0's binary_logloss: 0.649282\tvalid_0's auc: 0.760522\n",
      "Training until validation scores don't improve for 5 rounds.\n",
      "[2]\tvalid_0's binary_logloss: 0.613403\tvalid_0's auc: 0.765924\n",
      "[3]\tvalid_0's binary_logloss: 0.583443\tvalid_0's auc: 0.774238\n",
      "[4]\tvalid_0's binary_logloss: 0.55847\tvalid_0's auc: 0.774835\n",
      "[5]\tvalid_0's binary_logloss: 0.537354\tvalid_0's auc: 0.778403\n",
      "[6]\tvalid_0's binary_logloss: 0.519972\tvalid_0's auc: 0.779946\n",
      "[7]\tvalid_0's binary_logloss: 0.505101\tvalid_0's auc: 0.781026\n",
      "[8]\tvalid_0's binary_logloss: 0.492389\tvalid_0's auc: 0.782535\n",
      "[9]\tvalid_0's binary_logloss: 0.481669\tvalid_0's auc: 0.78259\n",
      "[10]\tvalid_0's binary_logloss: 0.47242\tvalid_0's auc: 0.782939\n",
      "[11]\tvalid_0's binary_logloss: 0.464488\tvalid_0's auc: 0.782945\n",
      "[12]\tvalid_0's binary_logloss: 0.457969\tvalid_0's auc: 0.783519\n",
      "[13]\tvalid_0's binary_logloss: 0.452156\tvalid_0's auc: 0.784181\n",
      "[14]\tvalid_0's binary_logloss: 0.447314\tvalid_0's auc: 0.784533\n",
      "[15]\tvalid_0's binary_logloss: 0.443119\tvalid_0's auc: 0.784074\n",
      "[16]\tvalid_0's binary_logloss: 0.43955\tvalid_0's auc: 0.784542\n",
      "[17]\tvalid_0's binary_logloss: 0.436786\tvalid_0's auc: 0.784002\n",
      "[18]\tvalid_0's binary_logloss: 0.434256\tvalid_0's auc: 0.784232\n",
      "[19]\tvalid_0's binary_logloss: 0.432119\tvalid_0's auc: 0.784384\n",
      "[20]\tvalid_0's binary_logloss: 0.430361\tvalid_0's auc: 0.783686\n",
      "[21]\tvalid_0's binary_logloss: 0.428759\tvalid_0's auc: 0.783608\n",
      "Early stopping, best iteration is:\n",
      "[16]\tvalid_0's binary_logloss: 0.43955\tvalid_0's auc: 0.784542\n"
     ]
    },
    {
     "name": "stderr",
     "output_type": "stream",
     "text": [
      "/anaconda3/lib/python3.6/site-packages/sklearn/preprocessing/label.py:151: DeprecationWarning: The truth value of an empty array is ambiguous. Returning False, but in future this will result in an error. Use `array.size > 0` to check that an array is not empty.\n",
      "  if diff:\n",
      "/anaconda3/lib/python3.6/site-packages/sklearn/preprocessing/label.py:151: DeprecationWarning: The truth value of an empty array is ambiguous. Returning False, but in future this will result in an error. Use `array.size > 0` to check that an array is not empty.\n",
      "  if diff:\n"
     ]
    },
    {
     "name": "stdout",
     "output_type": "stream",
     "text": [
      "[1]\tvalid_0's binary_logloss: 0.648756\tvalid_0's auc: 0.764364\n",
      "Training until validation scores don't improve for 5 rounds.\n",
      "[2]\tvalid_0's binary_logloss: 0.612338\tvalid_0's auc: 0.770609\n",
      "[3]\tvalid_0's binary_logloss: 0.58247\tvalid_0's auc: 0.77313\n",
      "[4]\tvalid_0's binary_logloss: 0.557603\tvalid_0's auc: 0.773409\n",
      "[5]\tvalid_0's binary_logloss: 0.536608\tvalid_0's auc: 0.775851\n",
      "[6]\tvalid_0's binary_logloss: 0.519147\tvalid_0's auc: 0.775982\n",
      "[7]\tvalid_0's binary_logloss: 0.504433\tvalid_0's auc: 0.775974\n",
      "[8]\tvalid_0's binary_logloss: 0.492022\tvalid_0's auc: 0.777235\n",
      "[9]\tvalid_0's binary_logloss: 0.481333\tvalid_0's auc: 0.777486\n",
      "[10]\tvalid_0's binary_logloss: 0.472485\tvalid_0's auc: 0.777866\n",
      "[11]\tvalid_0's binary_logloss: 0.464879\tvalid_0's auc: 0.778778\n",
      "[12]\tvalid_0's binary_logloss: 0.458166\tvalid_0's auc: 0.780084\n",
      "[13]\tvalid_0's binary_logloss: 0.452653\tvalid_0's auc: 0.779795\n",
      "[14]\tvalid_0's binary_logloss: 0.447962\tvalid_0's auc: 0.780141\n",
      "[15]\tvalid_0's binary_logloss: 0.443932\tvalid_0's auc: 0.78002\n",
      "[16]\tvalid_0's binary_logloss: 0.440556\tvalid_0's auc: 0.779619\n",
      "[17]\tvalid_0's binary_logloss: 0.437962\tvalid_0's auc: 0.778887\n",
      "[18]\tvalid_0's binary_logloss: 0.43564\tvalid_0's auc: 0.778775\n",
      "[19]\tvalid_0's binary_logloss: 0.433432\tvalid_0's auc: 0.778656\n",
      "Early stopping, best iteration is:\n",
      "[14]\tvalid_0's binary_logloss: 0.447962\tvalid_0's auc: 0.780141\n"
     ]
    },
    {
     "name": "stderr",
     "output_type": "stream",
     "text": [
      "/anaconda3/lib/python3.6/site-packages/sklearn/preprocessing/label.py:151: DeprecationWarning: The truth value of an empty array is ambiguous. Returning False, but in future this will result in an error. Use `array.size > 0` to check that an array is not empty.\n",
      "  if diff:\n",
      "/anaconda3/lib/python3.6/site-packages/sklearn/preprocessing/label.py:151: DeprecationWarning: The truth value of an empty array is ambiguous. Returning False, but in future this will result in an error. Use `array.size > 0` to check that an array is not empty.\n",
      "  if diff:\n"
     ]
    },
    {
     "name": "stdout",
     "output_type": "stream",
     "text": [
      "[1]\tvalid_0's binary_logloss: 0.648093\tvalid_0's auc: 0.771709\n",
      "Training until validation scores don't improve for 5 rounds.\n",
      "[2]\tvalid_0's binary_logloss: 0.611166\tvalid_0's auc: 0.780367\n",
      "[3]\tvalid_0's binary_logloss: 0.581203\tvalid_0's auc: 0.780334\n",
      "[4]\tvalid_0's binary_logloss: 0.555852\tvalid_0's auc: 0.781138\n",
      "[5]\tvalid_0's binary_logloss: 0.53501\tvalid_0's auc: 0.783229\n",
      "[6]\tvalid_0's binary_logloss: 0.517095\tvalid_0's auc: 0.785197\n",
      "[7]\tvalid_0's binary_logloss: 0.502179\tvalid_0's auc: 0.784654\n",
      "[8]\tvalid_0's binary_logloss: 0.489409\tvalid_0's auc: 0.785247\n",
      "[9]\tvalid_0's binary_logloss: 0.479092\tvalid_0's auc: 0.785529\n",
      "[10]\tvalid_0's binary_logloss: 0.470047\tvalid_0's auc: 0.784761\n",
      "[11]\tvalid_0's binary_logloss: 0.462596\tvalid_0's auc: 0.784367\n",
      "[12]\tvalid_0's binary_logloss: 0.455988\tvalid_0's auc: 0.784221\n",
      "[13]\tvalid_0's binary_logloss: 0.45016\tvalid_0's auc: 0.785361\n",
      "[14]\tvalid_0's binary_logloss: 0.445477\tvalid_0's auc: 0.786439\n",
      "[15]\tvalid_0's binary_logloss: 0.441488\tvalid_0's auc: 0.785166\n",
      "[16]\tvalid_0's binary_logloss: 0.437661\tvalid_0's auc: 0.78639\n",
      "[17]\tvalid_0's binary_logloss: 0.434887\tvalid_0's auc: 0.785776\n",
      "[18]\tvalid_0's binary_logloss: 0.432385\tvalid_0's auc: 0.785955\n",
      "[19]\tvalid_0's binary_logloss: 0.430469\tvalid_0's auc: 0.784963\n",
      "Early stopping, best iteration is:\n",
      "[14]\tvalid_0's binary_logloss: 0.445477\tvalid_0's auc: 0.786439\n"
     ]
    },
    {
     "name": "stderr",
     "output_type": "stream",
     "text": [
      "/anaconda3/lib/python3.6/site-packages/sklearn/preprocessing/label.py:151: DeprecationWarning: The truth value of an empty array is ambiguous. Returning False, but in future this will result in an error. Use `array.size > 0` to check that an array is not empty.\n",
      "  if diff:\n",
      "/anaconda3/lib/python3.6/site-packages/sklearn/preprocessing/label.py:151: DeprecationWarning: The truth value of an empty array is ambiguous. Returning False, but in future this will result in an error. Use `array.size > 0` to check that an array is not empty.\n",
      "  if diff:\n"
     ]
    },
    {
     "name": "stdout",
     "output_type": "stream",
     "text": [
      "[1]\tvalid_0's binary_logloss: 0.649282\tvalid_0's auc: 0.760522\n",
      "Training until validation scores don't improve for 5 rounds.\n",
      "[2]\tvalid_0's binary_logloss: 0.613403\tvalid_0's auc: 0.765924\n",
      "[3]\tvalid_0's binary_logloss: 0.583443\tvalid_0's auc: 0.774238\n",
      "[4]\tvalid_0's binary_logloss: 0.55847\tvalid_0's auc: 0.774835\n",
      "[5]\tvalid_0's binary_logloss: 0.537354\tvalid_0's auc: 0.778403\n",
      "[6]\tvalid_0's binary_logloss: 0.519972\tvalid_0's auc: 0.779946\n",
      "[7]\tvalid_0's binary_logloss: 0.505101\tvalid_0's auc: 0.781026\n",
      "[8]\tvalid_0's binary_logloss: 0.492389\tvalid_0's auc: 0.782535\n",
      "[9]\tvalid_0's binary_logloss: 0.481669\tvalid_0's auc: 0.78259\n",
      "[10]\tvalid_0's binary_logloss: 0.47242\tvalid_0's auc: 0.782939\n",
      "[11]\tvalid_0's binary_logloss: 0.464488\tvalid_0's auc: 0.782945\n",
      "[12]\tvalid_0's binary_logloss: 0.457969\tvalid_0's auc: 0.783519\n",
      "[13]\tvalid_0's binary_logloss: 0.452156\tvalid_0's auc: 0.784181\n",
      "[14]\tvalid_0's binary_logloss: 0.447314\tvalid_0's auc: 0.784533\n",
      "[15]\tvalid_0's binary_logloss: 0.443119\tvalid_0's auc: 0.784074\n",
      "[16]\tvalid_0's binary_logloss: 0.43955\tvalid_0's auc: 0.784542\n",
      "[17]\tvalid_0's binary_logloss: 0.436786\tvalid_0's auc: 0.784002\n",
      "[18]\tvalid_0's binary_logloss: 0.434256\tvalid_0's auc: 0.784232\n",
      "[19]\tvalid_0's binary_logloss: 0.432119\tvalid_0's auc: 0.784384\n",
      "[20]\tvalid_0's binary_logloss: 0.430361\tvalid_0's auc: 0.783686\n",
      "[21]\tvalid_0's binary_logloss: 0.428759\tvalid_0's auc: 0.783608\n",
      "Early stopping, best iteration is:\n",
      "[16]\tvalid_0's binary_logloss: 0.43955\tvalid_0's auc: 0.784542\n"
     ]
    },
    {
     "name": "stderr",
     "output_type": "stream",
     "text": [
      "/anaconda3/lib/python3.6/site-packages/sklearn/preprocessing/label.py:151: DeprecationWarning: The truth value of an empty array is ambiguous. Returning False, but in future this will result in an error. Use `array.size > 0` to check that an array is not empty.\n",
      "  if diff:\n",
      "/anaconda3/lib/python3.6/site-packages/sklearn/preprocessing/label.py:151: DeprecationWarning: The truth value of an empty array is ambiguous. Returning False, but in future this will result in an error. Use `array.size > 0` to check that an array is not empty.\n",
      "  if diff:\n"
     ]
    },
    {
     "name": "stdout",
     "output_type": "stream",
     "text": [
      "[1]\tvalid_0's binary_logloss: 0.648756\tvalid_0's auc: 0.764364\n",
      "Training until validation scores don't improve for 5 rounds.\n",
      "[2]\tvalid_0's binary_logloss: 0.612338\tvalid_0's auc: 0.770609\n",
      "[3]\tvalid_0's binary_logloss: 0.58247\tvalid_0's auc: 0.77313\n",
      "[4]\tvalid_0's binary_logloss: 0.557603\tvalid_0's auc: 0.773409\n",
      "[5]\tvalid_0's binary_logloss: 0.536608\tvalid_0's auc: 0.775851\n",
      "[6]\tvalid_0's binary_logloss: 0.519147\tvalid_0's auc: 0.775982\n",
      "[7]\tvalid_0's binary_logloss: 0.504433\tvalid_0's auc: 0.775974\n",
      "[8]\tvalid_0's binary_logloss: 0.492022\tvalid_0's auc: 0.777235\n",
      "[9]\tvalid_0's binary_logloss: 0.481333\tvalid_0's auc: 0.777486\n",
      "[10]\tvalid_0's binary_logloss: 0.472485\tvalid_0's auc: 0.777866\n",
      "[11]\tvalid_0's binary_logloss: 0.464879\tvalid_0's auc: 0.778778\n",
      "[12]\tvalid_0's binary_logloss: 0.458166\tvalid_0's auc: 0.780084\n",
      "[13]\tvalid_0's binary_logloss: 0.452653\tvalid_0's auc: 0.779795\n",
      "[14]\tvalid_0's binary_logloss: 0.447962\tvalid_0's auc: 0.780141\n",
      "[15]\tvalid_0's binary_logloss: 0.443932\tvalid_0's auc: 0.78002\n",
      "[16]\tvalid_0's binary_logloss: 0.440556\tvalid_0's auc: 0.779619\n",
      "[17]\tvalid_0's binary_logloss: 0.437962\tvalid_0's auc: 0.778887\n",
      "[18]\tvalid_0's binary_logloss: 0.43564\tvalid_0's auc: 0.778775\n",
      "[19]\tvalid_0's binary_logloss: 0.433432\tvalid_0's auc: 0.778656\n",
      "Early stopping, best iteration is:\n",
      "[14]\tvalid_0's binary_logloss: 0.447962\tvalid_0's auc: 0.780141\n"
     ]
    },
    {
     "name": "stderr",
     "output_type": "stream",
     "text": [
      "/anaconda3/lib/python3.6/site-packages/sklearn/preprocessing/label.py:151: DeprecationWarning: The truth value of an empty array is ambiguous. Returning False, but in future this will result in an error. Use `array.size > 0` to check that an array is not empty.\n",
      "  if diff:\n",
      "/anaconda3/lib/python3.6/site-packages/sklearn/preprocessing/label.py:151: DeprecationWarning: The truth value of an empty array is ambiguous. Returning False, but in future this will result in an error. Use `array.size > 0` to check that an array is not empty.\n",
      "  if diff:\n"
     ]
    },
    {
     "name": "stdout",
     "output_type": "stream",
     "text": [
      "[1]\tvalid_0's binary_logloss: 0.648093\tvalid_0's auc: 0.771709\n",
      "Training until validation scores don't improve for 5 rounds.\n",
      "[2]\tvalid_0's binary_logloss: 0.611166\tvalid_0's auc: 0.780367\n",
      "[3]\tvalid_0's binary_logloss: 0.581203\tvalid_0's auc: 0.780334\n",
      "[4]\tvalid_0's binary_logloss: 0.555852\tvalid_0's auc: 0.781138\n",
      "[5]\tvalid_0's binary_logloss: 0.53501\tvalid_0's auc: 0.783229\n",
      "[6]\tvalid_0's binary_logloss: 0.517095\tvalid_0's auc: 0.785197\n",
      "[7]\tvalid_0's binary_logloss: 0.502179\tvalid_0's auc: 0.784654\n",
      "[8]\tvalid_0's binary_logloss: 0.489409\tvalid_0's auc: 0.785247\n",
      "[9]\tvalid_0's binary_logloss: 0.479092\tvalid_0's auc: 0.785529\n",
      "[10]\tvalid_0's binary_logloss: 0.470047\tvalid_0's auc: 0.784761\n",
      "[11]\tvalid_0's binary_logloss: 0.462596\tvalid_0's auc: 0.784367\n",
      "[12]\tvalid_0's binary_logloss: 0.455988\tvalid_0's auc: 0.784221\n",
      "[13]\tvalid_0's binary_logloss: 0.45016\tvalid_0's auc: 0.785361\n",
      "[14]\tvalid_0's binary_logloss: 0.445477\tvalid_0's auc: 0.786439\n",
      "[15]\tvalid_0's binary_logloss: 0.441488\tvalid_0's auc: 0.785166\n",
      "[16]\tvalid_0's binary_logloss: 0.437661\tvalid_0's auc: 0.78639\n",
      "[17]\tvalid_0's binary_logloss: 0.434887\tvalid_0's auc: 0.785776\n",
      "[18]\tvalid_0's binary_logloss: 0.432385\tvalid_0's auc: 0.785955\n",
      "[19]\tvalid_0's binary_logloss: 0.430469\tvalid_0's auc: 0.784963\n",
      "Early stopping, best iteration is:\n",
      "[14]\tvalid_0's binary_logloss: 0.445477\tvalid_0's auc: 0.786439\n"
     ]
    },
    {
     "name": "stderr",
     "output_type": "stream",
     "text": [
      "/anaconda3/lib/python3.6/site-packages/sklearn/preprocessing/label.py:151: DeprecationWarning: The truth value of an empty array is ambiguous. Returning False, but in future this will result in an error. Use `array.size > 0` to check that an array is not empty.\n",
      "  if diff:\n",
      "/anaconda3/lib/python3.6/site-packages/sklearn/preprocessing/label.py:151: DeprecationWarning: The truth value of an empty array is ambiguous. Returning False, but in future this will result in an error. Use `array.size > 0` to check that an array is not empty.\n",
      "  if diff:\n"
     ]
    },
    {
     "name": "stdout",
     "output_type": "stream",
     "text": [
      "[1]\tvalid_0's binary_logloss: 0.649282\tvalid_0's auc: 0.760522\n",
      "Training until validation scores don't improve for 5 rounds.\n",
      "[2]\tvalid_0's binary_logloss: 0.613403\tvalid_0's auc: 0.765924\n",
      "[3]\tvalid_0's binary_logloss: 0.583443\tvalid_0's auc: 0.774238\n",
      "[4]\tvalid_0's binary_logloss: 0.55847\tvalid_0's auc: 0.774835\n",
      "[5]\tvalid_0's binary_logloss: 0.537354\tvalid_0's auc: 0.778403\n",
      "[6]\tvalid_0's binary_logloss: 0.519972\tvalid_0's auc: 0.779946\n",
      "[7]\tvalid_0's binary_logloss: 0.505101\tvalid_0's auc: 0.781026\n",
      "[8]\tvalid_0's binary_logloss: 0.492389\tvalid_0's auc: 0.782535\n",
      "[9]\tvalid_0's binary_logloss: 0.481669\tvalid_0's auc: 0.78259\n",
      "[10]\tvalid_0's binary_logloss: 0.47242\tvalid_0's auc: 0.782939\n",
      "[11]\tvalid_0's binary_logloss: 0.464488\tvalid_0's auc: 0.782945\n",
      "[12]\tvalid_0's binary_logloss: 0.457969\tvalid_0's auc: 0.783519\n",
      "[13]\tvalid_0's binary_logloss: 0.452156\tvalid_0's auc: 0.784181\n",
      "[14]\tvalid_0's binary_logloss: 0.447314\tvalid_0's auc: 0.784533\n",
      "[15]\tvalid_0's binary_logloss: 0.443119\tvalid_0's auc: 0.784074\n",
      "[16]\tvalid_0's binary_logloss: 0.43955\tvalid_0's auc: 0.784542\n",
      "[17]\tvalid_0's binary_logloss: 0.436786\tvalid_0's auc: 0.784002\n",
      "[18]\tvalid_0's binary_logloss: 0.434256\tvalid_0's auc: 0.784232\n",
      "[19]\tvalid_0's binary_logloss: 0.432119\tvalid_0's auc: 0.784384\n",
      "[20]\tvalid_0's binary_logloss: 0.430361\tvalid_0's auc: 0.783686\n",
      "[21]\tvalid_0's binary_logloss: 0.428759\tvalid_0's auc: 0.783608\n",
      "Early stopping, best iteration is:\n",
      "[16]\tvalid_0's binary_logloss: 0.43955\tvalid_0's auc: 0.784542\n"
     ]
    },
    {
     "name": "stderr",
     "output_type": "stream",
     "text": [
      "/anaconda3/lib/python3.6/site-packages/sklearn/preprocessing/label.py:151: DeprecationWarning: The truth value of an empty array is ambiguous. Returning False, but in future this will result in an error. Use `array.size > 0` to check that an array is not empty.\n",
      "  if diff:\n",
      "/anaconda3/lib/python3.6/site-packages/sklearn/preprocessing/label.py:151: DeprecationWarning: The truth value of an empty array is ambiguous. Returning False, but in future this will result in an error. Use `array.size > 0` to check that an array is not empty.\n",
      "  if diff:\n"
     ]
    },
    {
     "name": "stdout",
     "output_type": "stream",
     "text": [
      "[1]\tvalid_0's binary_logloss: 0.648756\tvalid_0's auc: 0.764364\n",
      "Training until validation scores don't improve for 5 rounds.\n",
      "[2]\tvalid_0's binary_logloss: 0.612338\tvalid_0's auc: 0.770609\n",
      "[3]\tvalid_0's binary_logloss: 0.58247\tvalid_0's auc: 0.77313\n",
      "[4]\tvalid_0's binary_logloss: 0.557603\tvalid_0's auc: 0.773409\n",
      "[5]\tvalid_0's binary_logloss: 0.536608\tvalid_0's auc: 0.775851\n",
      "[6]\tvalid_0's binary_logloss: 0.519147\tvalid_0's auc: 0.775982\n",
      "[7]\tvalid_0's binary_logloss: 0.504433\tvalid_0's auc: 0.775974\n",
      "[8]\tvalid_0's binary_logloss: 0.492022\tvalid_0's auc: 0.777235\n",
      "[9]\tvalid_0's binary_logloss: 0.481333\tvalid_0's auc: 0.777486\n",
      "[10]\tvalid_0's binary_logloss: 0.472485\tvalid_0's auc: 0.777866\n",
      "[11]\tvalid_0's binary_logloss: 0.464879\tvalid_0's auc: 0.778778\n",
      "[12]\tvalid_0's binary_logloss: 0.458166\tvalid_0's auc: 0.780084\n",
      "[13]\tvalid_0's binary_logloss: 0.452653\tvalid_0's auc: 0.779795\n",
      "[14]\tvalid_0's binary_logloss: 0.447962\tvalid_0's auc: 0.780141\n",
      "[15]\tvalid_0's binary_logloss: 0.443932\tvalid_0's auc: 0.78002\n",
      "[16]\tvalid_0's binary_logloss: 0.440556\tvalid_0's auc: 0.779619\n",
      "[17]\tvalid_0's binary_logloss: 0.437962\tvalid_0's auc: 0.778887\n",
      "[18]\tvalid_0's binary_logloss: 0.43564\tvalid_0's auc: 0.778775\n",
      "[19]\tvalid_0's binary_logloss: 0.433432\tvalid_0's auc: 0.778656\n",
      "Early stopping, best iteration is:\n",
      "[14]\tvalid_0's binary_logloss: 0.447962\tvalid_0's auc: 0.780141\n"
     ]
    },
    {
     "name": "stderr",
     "output_type": "stream",
     "text": [
      "/anaconda3/lib/python3.6/site-packages/sklearn/preprocessing/label.py:151: DeprecationWarning: The truth value of an empty array is ambiguous. Returning False, but in future this will result in an error. Use `array.size > 0` to check that an array is not empty.\n",
      "  if diff:\n",
      "/anaconda3/lib/python3.6/site-packages/sklearn/preprocessing/label.py:151: DeprecationWarning: The truth value of an empty array is ambiguous. Returning False, but in future this will result in an error. Use `array.size > 0` to check that an array is not empty.\n",
      "  if diff:\n"
     ]
    },
    {
     "name": "stdout",
     "output_type": "stream",
     "text": [
      "[1]\tvalid_0's binary_logloss: 0.648093\tvalid_0's auc: 0.771709\n",
      "Training until validation scores don't improve for 5 rounds.\n",
      "[2]\tvalid_0's binary_logloss: 0.611166\tvalid_0's auc: 0.780367\n",
      "[3]\tvalid_0's binary_logloss: 0.581203\tvalid_0's auc: 0.780334\n",
      "[4]\tvalid_0's binary_logloss: 0.555852\tvalid_0's auc: 0.781138\n",
      "[5]\tvalid_0's binary_logloss: 0.53501\tvalid_0's auc: 0.783229\n",
      "[6]\tvalid_0's binary_logloss: 0.517095\tvalid_0's auc: 0.785197\n",
      "[7]\tvalid_0's binary_logloss: 0.502179\tvalid_0's auc: 0.784654\n",
      "[8]\tvalid_0's binary_logloss: 0.489409\tvalid_0's auc: 0.785247\n",
      "[9]\tvalid_0's binary_logloss: 0.479092\tvalid_0's auc: 0.785529\n",
      "[10]\tvalid_0's binary_logloss: 0.470047\tvalid_0's auc: 0.784761\n",
      "[11]\tvalid_0's binary_logloss: 0.462596\tvalid_0's auc: 0.784367\n",
      "[12]\tvalid_0's binary_logloss: 0.455988\tvalid_0's auc: 0.784221\n",
      "[13]\tvalid_0's binary_logloss: 0.45016\tvalid_0's auc: 0.785361\n",
      "[14]\tvalid_0's binary_logloss: 0.445477\tvalid_0's auc: 0.786439\n",
      "[15]\tvalid_0's binary_logloss: 0.441488\tvalid_0's auc: 0.785166\n",
      "[16]\tvalid_0's binary_logloss: 0.437661\tvalid_0's auc: 0.78639\n",
      "[17]\tvalid_0's binary_logloss: 0.434887\tvalid_0's auc: 0.785776\n",
      "[18]\tvalid_0's binary_logloss: 0.432385\tvalid_0's auc: 0.785955\n",
      "[19]\tvalid_0's binary_logloss: 0.430469\tvalid_0's auc: 0.784963\n",
      "Early stopping, best iteration is:\n",
      "[14]\tvalid_0's binary_logloss: 0.445477\tvalid_0's auc: 0.786439\n"
     ]
    },
    {
     "name": "stderr",
     "output_type": "stream",
     "text": [
      "/anaconda3/lib/python3.6/site-packages/sklearn/preprocessing/label.py:151: DeprecationWarning: The truth value of an empty array is ambiguous. Returning False, but in future this will result in an error. Use `array.size > 0` to check that an array is not empty.\n",
      "  if diff:\n",
      "/anaconda3/lib/python3.6/site-packages/sklearn/preprocessing/label.py:151: DeprecationWarning: The truth value of an empty array is ambiguous. Returning False, but in future this will result in an error. Use `array.size > 0` to check that an array is not empty.\n",
      "  if diff:\n",
      "/anaconda3/lib/python3.6/site-packages/sklearn/preprocessing/label.py:151: DeprecationWarning: The truth value of an empty array is ambiguous. Returning False, but in future this will result in an error. Use `array.size > 0` to check that an array is not empty.\n",
      "  if diff:\n"
     ]
    },
    {
     "name": "stdout",
     "output_type": "stream",
     "text": [
      "[1]\tvalid_0's binary_logloss: 0.639039\tvalid_0's auc: 0.760522\n",
      "Training until validation scores don't improve for 5 rounds.\n",
      "[2]\tvalid_0's binary_logloss: 0.59686\tvalid_0's auc: 0.768559\n",
      "[3]\tvalid_0's binary_logloss: 0.563046\tvalid_0's auc: 0.774609\n",
      "[4]\tvalid_0's binary_logloss: 0.536565\tvalid_0's auc: 0.775673\n",
      "[5]\tvalid_0's binary_logloss: 0.515193\tvalid_0's auc: 0.778986\n",
      "[6]\tvalid_0's binary_logloss: 0.497487\tvalid_0's auc: 0.781243\n",
      "[7]\tvalid_0's binary_logloss: 0.483241\tvalid_0's auc: 0.782222\n",
      "[8]\tvalid_0's binary_logloss: 0.47156\tvalid_0's auc: 0.783556\n",
      "[9]\tvalid_0's binary_logloss: 0.461891\tvalid_0's auc: 0.7831\n",
      "[10]\tvalid_0's binary_logloss: 0.454201\tvalid_0's auc: 0.783219\n",
      "[11]\tvalid_0's binary_logloss: 0.447828\tvalid_0's auc: 0.781744\n",
      "[12]\tvalid_0's binary_logloss: 0.442523\tvalid_0's auc: 0.781555\n",
      "[13]\tvalid_0's binary_logloss: 0.43782\tvalid_0's auc: 0.78333\n",
      "Early stopping, best iteration is:\n",
      "[8]\tvalid_0's binary_logloss: 0.47156\tvalid_0's auc: 0.783556\n",
      "[1]\tvalid_0's binary_logloss: 0.638399\tvalid_0's auc: 0.764364\n",
      "Training until validation scores don't improve for 5 rounds.\n",
      "[2]\tvalid_0's binary_logloss: 0.595651\tvalid_0's auc: 0.770585\n",
      "[3]\tvalid_0's binary_logloss: 0.562349\tvalid_0's auc: 0.772544\n",
      "[4]\tvalid_0's binary_logloss: 0.535815\tvalid_0's auc: 0.775212\n"
     ]
    },
    {
     "name": "stderr",
     "output_type": "stream",
     "text": [
      "/anaconda3/lib/python3.6/site-packages/sklearn/preprocessing/label.py:151: DeprecationWarning: The truth value of an empty array is ambiguous. Returning False, but in future this will result in an error. Use `array.size > 0` to check that an array is not empty.\n",
      "  if diff:\n"
     ]
    },
    {
     "name": "stdout",
     "output_type": "stream",
     "text": [
      "[5]\tvalid_0's binary_logloss: 0.514336\tvalid_0's auc: 0.775344\n",
      "[6]\tvalid_0's binary_logloss: 0.497051\tvalid_0's auc: 0.775706\n",
      "[7]\tvalid_0's binary_logloss: 0.483065\tvalid_0's auc: 0.778363\n",
      "[8]\tvalid_0's binary_logloss: 0.471946\tvalid_0's auc: 0.77852\n",
      "[9]\tvalid_0's binary_logloss: 0.462622\tvalid_0's auc: 0.779467\n",
      "[10]\tvalid_0's binary_logloss: 0.454926\tvalid_0's auc: 0.780503\n",
      "[11]\tvalid_0's binary_logloss: 0.448726\tvalid_0's auc: 0.780765\n",
      "[12]\tvalid_0's binary_logloss: 0.443656\tvalid_0's auc: 0.780446\n",
      "[13]\tvalid_0's binary_logloss: 0.439553\tvalid_0's auc: 0.780412\n",
      "[14]\tvalid_0's binary_logloss: 0.436174\tvalid_0's auc: 0.780377\n",
      "[15]\tvalid_0's binary_logloss: 0.433667\tvalid_0's auc: 0.779542\n",
      "[16]\tvalid_0's binary_logloss: 0.431555\tvalid_0's auc: 0.779938\n",
      "Early stopping, best iteration is:\n",
      "[11]\tvalid_0's binary_logloss: 0.448726\tvalid_0's auc: 0.780765\n"
     ]
    },
    {
     "name": "stderr",
     "output_type": "stream",
     "text": [
      "/anaconda3/lib/python3.6/site-packages/sklearn/preprocessing/label.py:151: DeprecationWarning: The truth value of an empty array is ambiguous. Returning False, but in future this will result in an error. Use `array.size > 0` to check that an array is not empty.\n",
      "  if diff:\n",
      "/anaconda3/lib/python3.6/site-packages/sklearn/preprocessing/label.py:151: DeprecationWarning: The truth value of an empty array is ambiguous. Returning False, but in future this will result in an error. Use `array.size > 0` to check that an array is not empty.\n",
      "  if diff:\n"
     ]
    },
    {
     "name": "stdout",
     "output_type": "stream",
     "text": [
      "[1]\tvalid_0's binary_logloss: 0.637583\tvalid_0's auc: 0.771709\n",
      "Training until validation scores don't improve for 5 rounds.\n",
      "[2]\tvalid_0's binary_logloss: 0.594331\tvalid_0's auc: 0.778977\n",
      "[3]\tvalid_0's binary_logloss: 0.560818\tvalid_0's auc: 0.7802\n",
      "[4]\tvalid_0's binary_logloss: 0.534058\tvalid_0's auc: 0.778556\n",
      "[5]\tvalid_0's binary_logloss: 0.512695\tvalid_0's auc: 0.782507\n",
      "[6]\tvalid_0's binary_logloss: 0.494914\tvalid_0's auc: 0.78475\n",
      "[7]\tvalid_0's binary_logloss: 0.480635\tvalid_0's auc: 0.784875\n",
      "[8]\tvalid_0's binary_logloss: 0.469122\tvalid_0's auc: 0.784435\n",
      "[9]\tvalid_0's binary_logloss: 0.459882\tvalid_0's auc: 0.784389\n",
      "[10]\tvalid_0's binary_logloss: 0.452365\tvalid_0's auc: 0.78413\n",
      "[11]\tvalid_0's binary_logloss: 0.44627\tvalid_0's auc: 0.784544\n",
      "[12]\tvalid_0's binary_logloss: 0.44115\tvalid_0's auc: 0.78533\n",
      "[13]\tvalid_0's binary_logloss: 0.437338\tvalid_0's auc: 0.784468\n",
      "[14]\tvalid_0's binary_logloss: 0.433756\tvalid_0's auc: 0.784846\n",
      "[15]\tvalid_0's binary_logloss: 0.431157\tvalid_0's auc: 0.783672\n",
      "[16]\tvalid_0's binary_logloss: 0.428938\tvalid_0's auc: 0.784069\n",
      "[17]\tvalid_0's binary_logloss: 0.426887\tvalid_0's auc: 0.785093\n",
      "Early stopping, best iteration is:\n",
      "[12]\tvalid_0's binary_logloss: 0.44115\tvalid_0's auc: 0.78533\n"
     ]
    },
    {
     "name": "stderr",
     "output_type": "stream",
     "text": [
      "/anaconda3/lib/python3.6/site-packages/sklearn/preprocessing/label.py:151: DeprecationWarning: The truth value of an empty array is ambiguous. Returning False, but in future this will result in an error. Use `array.size > 0` to check that an array is not empty.\n",
      "  if diff:\n",
      "/anaconda3/lib/python3.6/site-packages/sklearn/preprocessing/label.py:151: DeprecationWarning: The truth value of an empty array is ambiguous. Returning False, but in future this will result in an error. Use `array.size > 0` to check that an array is not empty.\n",
      "  if diff:\n"
     ]
    },
    {
     "name": "stdout",
     "output_type": "stream",
     "text": [
      "[1]\tvalid_0's binary_logloss: 0.639039\tvalid_0's auc: 0.760522\n",
      "Training until validation scores don't improve for 5 rounds.\n",
      "[2]\tvalid_0's binary_logloss: 0.59686\tvalid_0's auc: 0.768559\n",
      "[3]\tvalid_0's binary_logloss: 0.563046\tvalid_0's auc: 0.774609\n",
      "[4]\tvalid_0's binary_logloss: 0.536565\tvalid_0's auc: 0.775673\n",
      "[5]\tvalid_0's binary_logloss: 0.515193\tvalid_0's auc: 0.778986\n",
      "[6]\tvalid_0's binary_logloss: 0.497487\tvalid_0's auc: 0.781243\n",
      "[7]\tvalid_0's binary_logloss: 0.483241\tvalid_0's auc: 0.782222\n",
      "[8]\tvalid_0's binary_logloss: 0.47156\tvalid_0's auc: 0.783556\n",
      "[9]\tvalid_0's binary_logloss: 0.461891\tvalid_0's auc: 0.7831\n",
      "[10]\tvalid_0's binary_logloss: 0.454201\tvalid_0's auc: 0.783219\n",
      "[11]\tvalid_0's binary_logloss: 0.447828\tvalid_0's auc: 0.781744\n",
      "[12]\tvalid_0's binary_logloss: 0.442523\tvalid_0's auc: 0.781555\n",
      "[13]\tvalid_0's binary_logloss: 0.43782\tvalid_0's auc: 0.78333\n",
      "Early stopping, best iteration is:\n",
      "[8]\tvalid_0's binary_logloss: 0.47156\tvalid_0's auc: 0.783556\n"
     ]
    },
    {
     "name": "stderr",
     "output_type": "stream",
     "text": [
      "/anaconda3/lib/python3.6/site-packages/sklearn/preprocessing/label.py:151: DeprecationWarning: The truth value of an empty array is ambiguous. Returning False, but in future this will result in an error. Use `array.size > 0` to check that an array is not empty.\n",
      "  if diff:\n",
      "/anaconda3/lib/python3.6/site-packages/sklearn/preprocessing/label.py:151: DeprecationWarning: The truth value of an empty array is ambiguous. Returning False, but in future this will result in an error. Use `array.size > 0` to check that an array is not empty.\n",
      "  if diff:\n"
     ]
    },
    {
     "name": "stdout",
     "output_type": "stream",
     "text": [
      "[1]\tvalid_0's binary_logloss: 0.638399\tvalid_0's auc: 0.764364\n",
      "Training until validation scores don't improve for 5 rounds.\n",
      "[2]\tvalid_0's binary_logloss: 0.595651\tvalid_0's auc: 0.770585\n",
      "[3]\tvalid_0's binary_logloss: 0.562349\tvalid_0's auc: 0.772544\n",
      "[4]\tvalid_0's binary_logloss: 0.535815\tvalid_0's auc: 0.775212\n",
      "[5]\tvalid_0's binary_logloss: 0.514336\tvalid_0's auc: 0.775344\n",
      "[6]\tvalid_0's binary_logloss: 0.497051\tvalid_0's auc: 0.775706\n",
      "[7]\tvalid_0's binary_logloss: 0.483065\tvalid_0's auc: 0.778363\n",
      "[8]\tvalid_0's binary_logloss: 0.471946\tvalid_0's auc: 0.77852\n",
      "[9]\tvalid_0's binary_logloss: 0.462622\tvalid_0's auc: 0.779467\n",
      "[10]\tvalid_0's binary_logloss: 0.454926\tvalid_0's auc: 0.780503\n",
      "[11]\tvalid_0's binary_logloss: 0.448726\tvalid_0's auc: 0.780765\n",
      "[12]\tvalid_0's binary_logloss: 0.443656\tvalid_0's auc: 0.780446\n",
      "[13]\tvalid_0's binary_logloss: 0.439553\tvalid_0's auc: 0.780412\n",
      "[14]\tvalid_0's binary_logloss: 0.436174\tvalid_0's auc: 0.780377\n",
      "[15]\tvalid_0's binary_logloss: 0.433667\tvalid_0's auc: 0.779542\n",
      "[16]\tvalid_0's binary_logloss: 0.431555\tvalid_0's auc: 0.779938\n",
      "Early stopping, best iteration is:\n",
      "[11]\tvalid_0's binary_logloss: 0.448726\tvalid_0's auc: 0.780765\n",
      "[1]\tvalid_0's binary_logloss: 0.637583\tvalid_0's auc: 0.771709\n",
      "Training until validation scores don't improve for 5 rounds.\n",
      "[2]\tvalid_0's binary_logloss: 0.594331\tvalid_0's auc: 0.778977\n",
      "[3]\tvalid_0's binary_logloss: 0.560818\tvalid_0's auc: 0.7802\n",
      "[4]\tvalid_0's binary_logloss: 0.534058\tvalid_0's auc: 0.778556\n",
      "[5]\tvalid_0's binary_logloss: 0.512695\tvalid_0's auc: 0.782507\n",
      "[6]\tvalid_0's binary_logloss: 0.494914\tvalid_0's auc: 0.78475\n",
      "[7]\tvalid_0's binary_logloss: 0.480635\tvalid_0's auc: 0.784875\n",
      "[8]\tvalid_0's binary_logloss: 0.469122\tvalid_0's auc: 0.784435\n",
      "[9]\tvalid_0's binary_logloss: 0.459882\tvalid_0's auc: 0.784389\n",
      "[10]\tvalid_0's binary_logloss: 0.452365\tvalid_0's auc: 0.78413\n",
      "[11]\tvalid_0's binary_logloss: 0.44627\tvalid_0's auc: 0.784544\n",
      "[12]\tvalid_0's binary_logloss: 0.44115\tvalid_0's auc: 0.78533\n"
     ]
    },
    {
     "name": "stderr",
     "output_type": "stream",
     "text": [
      "/anaconda3/lib/python3.6/site-packages/sklearn/preprocessing/label.py:151: DeprecationWarning: The truth value of an empty array is ambiguous. Returning False, but in future this will result in an error. Use `array.size > 0` to check that an array is not empty.\n",
      "  if diff:\n",
      "/anaconda3/lib/python3.6/site-packages/sklearn/preprocessing/label.py:151: DeprecationWarning: The truth value of an empty array is ambiguous. Returning False, but in future this will result in an error. Use `array.size > 0` to check that an array is not empty.\n",
      "  if diff:\n"
     ]
    },
    {
     "name": "stdout",
     "output_type": "stream",
     "text": [
      "[13]\tvalid_0's binary_logloss: 0.437338\tvalid_0's auc: 0.784468\n",
      "[14]\tvalid_0's binary_logloss: 0.433756\tvalid_0's auc: 0.784846\n",
      "[15]\tvalid_0's binary_logloss: 0.431157\tvalid_0's auc: 0.783672\n",
      "[16]\tvalid_0's binary_logloss: 0.428938\tvalid_0's auc: 0.784069\n",
      "[17]\tvalid_0's binary_logloss: 0.426887\tvalid_0's auc: 0.785093\n",
      "Early stopping, best iteration is:\n",
      "[12]\tvalid_0's binary_logloss: 0.44115\tvalid_0's auc: 0.78533\n",
      "[1]\tvalid_0's binary_logloss: 0.639039\tvalid_0's auc: 0.760522\n",
      "Training until validation scores don't improve for 5 rounds.\n",
      "[2]\tvalid_0's binary_logloss: 0.59686\tvalid_0's auc: 0.768559\n",
      "[3]\tvalid_0's binary_logloss: 0.563046\tvalid_0's auc: 0.774609\n",
      "[4]\tvalid_0's binary_logloss: 0.536565\tvalid_0's auc: 0.775673\n",
      "[5]\tvalid_0's binary_logloss: 0.515193\tvalid_0's auc: 0.778986\n"
     ]
    },
    {
     "name": "stderr",
     "output_type": "stream",
     "text": [
      "/anaconda3/lib/python3.6/site-packages/sklearn/preprocessing/label.py:151: DeprecationWarning: The truth value of an empty array is ambiguous. Returning False, but in future this will result in an error. Use `array.size > 0` to check that an array is not empty.\n",
      "  if diff:\n",
      "/anaconda3/lib/python3.6/site-packages/sklearn/preprocessing/label.py:151: DeprecationWarning: The truth value of an empty array is ambiguous. Returning False, but in future this will result in an error. Use `array.size > 0` to check that an array is not empty.\n",
      "  if diff:\n"
     ]
    },
    {
     "name": "stdout",
     "output_type": "stream",
     "text": [
      "[6]\tvalid_0's binary_logloss: 0.497487\tvalid_0's auc: 0.781243\n",
      "[7]\tvalid_0's binary_logloss: 0.483241\tvalid_0's auc: 0.782222\n",
      "[8]\tvalid_0's binary_logloss: 0.47156\tvalid_0's auc: 0.783556\n",
      "[9]\tvalid_0's binary_logloss: 0.461891\tvalid_0's auc: 0.7831\n",
      "[10]\tvalid_0's binary_logloss: 0.454201\tvalid_0's auc: 0.783219\n",
      "[11]\tvalid_0's binary_logloss: 0.447828\tvalid_0's auc: 0.781744\n",
      "[12]\tvalid_0's binary_logloss: 0.442523\tvalid_0's auc: 0.781555\n",
      "[13]\tvalid_0's binary_logloss: 0.43782\tvalid_0's auc: 0.78333\n",
      "Early stopping, best iteration is:\n",
      "[8]\tvalid_0's binary_logloss: 0.47156\tvalid_0's auc: 0.783556\n",
      "[1]\tvalid_0's binary_logloss: 0.638399\tvalid_0's auc: 0.764364\n",
      "Training until validation scores don't improve for 5 rounds.\n",
      "[2]\tvalid_0's binary_logloss: 0.595651\tvalid_0's auc: 0.770585\n",
      "[3]\tvalid_0's binary_logloss: 0.562349\tvalid_0's auc: 0.772544\n",
      "[4]\tvalid_0's binary_logloss: 0.535815\tvalid_0's auc: 0.775212\n",
      "[5]\tvalid_0's binary_logloss: 0.514336\tvalid_0's auc: 0.775344\n",
      "[6]\tvalid_0's binary_logloss: 0.497051\tvalid_0's auc: 0.775706\n",
      "[7]\tvalid_0's binary_logloss: 0.483065\tvalid_0's auc: 0.778363\n",
      "[8]\tvalid_0's binary_logloss: 0.471946\tvalid_0's auc: 0.77852\n"
     ]
    },
    {
     "name": "stderr",
     "output_type": "stream",
     "text": [
      "/anaconda3/lib/python3.6/site-packages/sklearn/preprocessing/label.py:151: DeprecationWarning: The truth value of an empty array is ambiguous. Returning False, but in future this will result in an error. Use `array.size > 0` to check that an array is not empty.\n",
      "  if diff:\n",
      "/anaconda3/lib/python3.6/site-packages/sklearn/preprocessing/label.py:151: DeprecationWarning: The truth value of an empty array is ambiguous. Returning False, but in future this will result in an error. Use `array.size > 0` to check that an array is not empty.\n",
      "  if diff:\n",
      "/anaconda3/lib/python3.6/site-packages/sklearn/preprocessing/label.py:151: DeprecationWarning: The truth value of an empty array is ambiguous. Returning False, but in future this will result in an error. Use `array.size > 0` to check that an array is not empty.\n",
      "  if diff:\n",
      "/anaconda3/lib/python3.6/site-packages/sklearn/preprocessing/label.py:151: DeprecationWarning: The truth value of an empty array is ambiguous. Returning False, but in future this will result in an error. Use `array.size > 0` to check that an array is not empty.\n",
      "  if diff:\n"
     ]
    },
    {
     "name": "stdout",
     "output_type": "stream",
     "text": [
      "[9]\tvalid_0's binary_logloss: 0.462622\tvalid_0's auc: 0.779467\n",
      "[10]\tvalid_0's binary_logloss: 0.454926\tvalid_0's auc: 0.780503\n",
      "[11]\tvalid_0's binary_logloss: 0.448726\tvalid_0's auc: 0.780765\n",
      "[12]\tvalid_0's binary_logloss: 0.443656\tvalid_0's auc: 0.780446\n",
      "[13]\tvalid_0's binary_logloss: 0.439553\tvalid_0's auc: 0.780412\n",
      "[14]\tvalid_0's binary_logloss: 0.436174\tvalid_0's auc: 0.780377\n",
      "[15]\tvalid_0's binary_logloss: 0.433667\tvalid_0's auc: 0.779542\n",
      "[16]\tvalid_0's binary_logloss: 0.431555\tvalid_0's auc: 0.779938\n",
      "Early stopping, best iteration is:\n",
      "[11]\tvalid_0's binary_logloss: 0.448726\tvalid_0's auc: 0.780765\n",
      "[1]\tvalid_0's binary_logloss: 0.637583\tvalid_0's auc: 0.771709\n",
      "Training until validation scores don't improve for 5 rounds.\n",
      "[2]\tvalid_0's binary_logloss: 0.594331\tvalid_0's auc: 0.778977\n",
      "[3]\tvalid_0's binary_logloss: 0.560818\tvalid_0's auc: 0.7802\n",
      "[4]\tvalid_0's binary_logloss: 0.534058\tvalid_0's auc: 0.778556\n",
      "[5]\tvalid_0's binary_logloss: 0.512695\tvalid_0's auc: 0.782507\n",
      "[6]\tvalid_0's binary_logloss: 0.494914\tvalid_0's auc: 0.78475\n",
      "[7]\tvalid_0's binary_logloss: 0.480635\tvalid_0's auc: 0.784875\n",
      "[8]\tvalid_0's binary_logloss: 0.469122\tvalid_0's auc: 0.784435\n",
      "[9]\tvalid_0's binary_logloss: 0.459882\tvalid_0's auc: 0.784389\n",
      "[10]\tvalid_0's binary_logloss: 0.452365\tvalid_0's auc: 0.78413\n",
      "[11]\tvalid_0's binary_logloss: 0.44627\tvalid_0's auc: 0.784544\n",
      "[12]\tvalid_0's binary_logloss: 0.44115\tvalid_0's auc: 0.78533\n",
      "[13]\tvalid_0's binary_logloss: 0.437338\tvalid_0's auc: 0.784468\n",
      "[14]\tvalid_0's binary_logloss: 0.433756\tvalid_0's auc: 0.784846\n",
      "[15]\tvalid_0's binary_logloss: 0.431157\tvalid_0's auc: 0.783672\n",
      "[16]\tvalid_0's binary_logloss: 0.428938\tvalid_0's auc: 0.784069\n",
      "[17]\tvalid_0's binary_logloss: 0.426887\tvalid_0's auc: 0.785093\n",
      "Early stopping, best iteration is:\n",
      "[12]\tvalid_0's binary_logloss: 0.44115\tvalid_0's auc: 0.78533\n",
      "[1]\tvalid_0's binary_logloss: 0.639039\tvalid_0's auc: 0.760522\n",
      "Training until validation scores don't improve for 5 rounds.\n",
      "[2]\tvalid_0's binary_logloss: 0.59686\tvalid_0's auc: 0.768559\n",
      "[3]\tvalid_0's binary_logloss: 0.563046\tvalid_0's auc: 0.774609\n",
      "[4]\tvalid_0's binary_logloss: 0.536565\tvalid_0's auc: 0.775673\n",
      "[5]\tvalid_0's binary_logloss: 0.515193\tvalid_0's auc: 0.778986\n",
      "[6]\tvalid_0's binary_logloss: 0.497487\tvalid_0's auc: 0.781243\n",
      "[7]\tvalid_0's binary_logloss: 0.483241\tvalid_0's auc: 0.782222\n",
      "[8]\tvalid_0's binary_logloss: 0.47156\tvalid_0's auc: 0.783556\n"
     ]
    },
    {
     "name": "stderr",
     "output_type": "stream",
     "text": [
      "/anaconda3/lib/python3.6/site-packages/sklearn/preprocessing/label.py:151: DeprecationWarning: The truth value of an empty array is ambiguous. Returning False, but in future this will result in an error. Use `array.size > 0` to check that an array is not empty.\n",
      "  if diff:\n",
      "/anaconda3/lib/python3.6/site-packages/sklearn/preprocessing/label.py:151: DeprecationWarning: The truth value of an empty array is ambiguous. Returning False, but in future this will result in an error. Use `array.size > 0` to check that an array is not empty.\n",
      "  if diff:\n"
     ]
    },
    {
     "name": "stdout",
     "output_type": "stream",
     "text": [
      "[9]\tvalid_0's binary_logloss: 0.461891\tvalid_0's auc: 0.7831\n",
      "[10]\tvalid_0's binary_logloss: 0.454201\tvalid_0's auc: 0.783219\n",
      "[11]\tvalid_0's binary_logloss: 0.447828\tvalid_0's auc: 0.781744\n",
      "[12]\tvalid_0's binary_logloss: 0.442523\tvalid_0's auc: 0.781555\n",
      "[13]\tvalid_0's binary_logloss: 0.43782\tvalid_0's auc: 0.78333\n",
      "Early stopping, best iteration is:\n",
      "[8]\tvalid_0's binary_logloss: 0.47156\tvalid_0's auc: 0.783556\n",
      "[1]\tvalid_0's binary_logloss: 0.638399\tvalid_0's auc: 0.764364\n",
      "Training until validation scores don't improve for 5 rounds.\n",
      "[2]\tvalid_0's binary_logloss: 0.595651\tvalid_0's auc: 0.770585\n",
      "[3]\tvalid_0's binary_logloss: 0.562349\tvalid_0's auc: 0.772544\n",
      "[4]\tvalid_0's binary_logloss: 0.535815\tvalid_0's auc: 0.775212\n",
      "[5]\tvalid_0's binary_logloss: 0.514336\tvalid_0's auc: 0.775344\n",
      "[6]\tvalid_0's binary_logloss: 0.497051\tvalid_0's auc: 0.775706\n",
      "[7]\tvalid_0's binary_logloss: 0.483065\tvalid_0's auc: 0.778363\n",
      "[8]\tvalid_0's binary_logloss: 0.471946\tvalid_0's auc: 0.77852\n",
      "[9]\tvalid_0's binary_logloss: 0.462622\tvalid_0's auc: 0.779467\n"
     ]
    },
    {
     "name": "stderr",
     "output_type": "stream",
     "text": [
      "/anaconda3/lib/python3.6/site-packages/sklearn/preprocessing/label.py:151: DeprecationWarning: The truth value of an empty array is ambiguous. Returning False, but in future this will result in an error. Use `array.size > 0` to check that an array is not empty.\n",
      "  if diff:\n",
      "/anaconda3/lib/python3.6/site-packages/sklearn/preprocessing/label.py:151: DeprecationWarning: The truth value of an empty array is ambiguous. Returning False, but in future this will result in an error. Use `array.size > 0` to check that an array is not empty.\n",
      "  if diff:\n"
     ]
    },
    {
     "name": "stdout",
     "output_type": "stream",
     "text": [
      "[10]\tvalid_0's binary_logloss: 0.454926\tvalid_0's auc: 0.780503\n",
      "[11]\tvalid_0's binary_logloss: 0.448726\tvalid_0's auc: 0.780765\n",
      "[12]\tvalid_0's binary_logloss: 0.443656\tvalid_0's auc: 0.780446\n",
      "[13]\tvalid_0's binary_logloss: 0.439553\tvalid_0's auc: 0.780412\n",
      "[14]\tvalid_0's binary_logloss: 0.436174\tvalid_0's auc: 0.780377\n",
      "[15]\tvalid_0's binary_logloss: 0.433667\tvalid_0's auc: 0.779542\n",
      "[16]\tvalid_0's binary_logloss: 0.431555\tvalid_0's auc: 0.779938\n",
      "Early stopping, best iteration is:\n",
      "[11]\tvalid_0's binary_logloss: 0.448726\tvalid_0's auc: 0.780765\n",
      "[1]\tvalid_0's binary_logloss: 0.637583\tvalid_0's auc: 0.771709\n",
      "Training until validation scores don't improve for 5 rounds.\n",
      "[2]\tvalid_0's binary_logloss: 0.594331\tvalid_0's auc: 0.778977\n",
      "[3]\tvalid_0's binary_logloss: 0.560818\tvalid_0's auc: 0.7802\n"
     ]
    },
    {
     "name": "stderr",
     "output_type": "stream",
     "text": [
      "/anaconda3/lib/python3.6/site-packages/sklearn/preprocessing/label.py:151: DeprecationWarning: The truth value of an empty array is ambiguous. Returning False, but in future this will result in an error. Use `array.size > 0` to check that an array is not empty.\n",
      "  if diff:\n",
      "/anaconda3/lib/python3.6/site-packages/sklearn/preprocessing/label.py:151: DeprecationWarning: The truth value of an empty array is ambiguous. Returning False, but in future this will result in an error. Use `array.size > 0` to check that an array is not empty.\n",
      "  if diff:\n"
     ]
    },
    {
     "name": "stdout",
     "output_type": "stream",
     "text": [
      "[4]\tvalid_0's binary_logloss: 0.534058\tvalid_0's auc: 0.778556\n",
      "[5]\tvalid_0's binary_logloss: 0.512695\tvalid_0's auc: 0.782507\n",
      "[6]\tvalid_0's binary_logloss: 0.494914\tvalid_0's auc: 0.78475\n",
      "[7]\tvalid_0's binary_logloss: 0.480635\tvalid_0's auc: 0.784875\n",
      "[8]\tvalid_0's binary_logloss: 0.469122\tvalid_0's auc: 0.784435\n",
      "[9]\tvalid_0's binary_logloss: 0.459882\tvalid_0's auc: 0.784389\n",
      "[10]\tvalid_0's binary_logloss: 0.452365\tvalid_0's auc: 0.78413\n",
      "[11]\tvalid_0's binary_logloss: 0.44627\tvalid_0's auc: 0.784544\n",
      "[12]\tvalid_0's binary_logloss: 0.44115\tvalid_0's auc: 0.78533\n",
      "[13]\tvalid_0's binary_logloss: 0.437338\tvalid_0's auc: 0.784468\n",
      "[14]\tvalid_0's binary_logloss: 0.433756\tvalid_0's auc: 0.784846\n",
      "[15]\tvalid_0's binary_logloss: 0.431157\tvalid_0's auc: 0.783672\n",
      "[16]\tvalid_0's binary_logloss: 0.428938\tvalid_0's auc: 0.784069\n",
      "[17]\tvalid_0's binary_logloss: 0.426887\tvalid_0's auc: 0.785093\n",
      "Early stopping, best iteration is:\n",
      "[12]\tvalid_0's binary_logloss: 0.44115\tvalid_0's auc: 0.78533\n"
     ]
    },
    {
     "name": "stderr",
     "output_type": "stream",
     "text": [
      "/anaconda3/lib/python3.6/site-packages/sklearn/preprocessing/label.py:151: DeprecationWarning: The truth value of an empty array is ambiguous. Returning False, but in future this will result in an error. Use `array.size > 0` to check that an array is not empty.\n",
      "  if diff:\n",
      "/anaconda3/lib/python3.6/site-packages/sklearn/preprocessing/label.py:151: DeprecationWarning: The truth value of an empty array is ambiguous. Returning False, but in future this will result in an error. Use `array.size > 0` to check that an array is not empty.\n",
      "  if diff:\n",
      "/anaconda3/lib/python3.6/site-packages/sklearn/preprocessing/label.py:151: DeprecationWarning: The truth value of an empty array is ambiguous. Returning False, but in future this will result in an error. Use `array.size > 0` to check that an array is not empty.\n",
      "  if diff:\n"
     ]
    },
    {
     "name": "stdout",
     "output_type": "stream",
     "text": [
      "[1]\tvalid_0's binary_logloss: 0.639039\tvalid_0's auc: 0.760522\n",
      "Training until validation scores don't improve for 5 rounds.\n",
      "[2]\tvalid_0's binary_logloss: 0.59686\tvalid_0's auc: 0.768559\n",
      "[3]\tvalid_0's binary_logloss: 0.563046\tvalid_0's auc: 0.774609\n",
      "[4]\tvalid_0's binary_logloss: 0.536565\tvalid_0's auc: 0.775673\n",
      "[5]\tvalid_0's binary_logloss: 0.515193\tvalid_0's auc: 0.778986\n",
      "[6]\tvalid_0's binary_logloss: 0.497487\tvalid_0's auc: 0.781243\n",
      "[7]\tvalid_0's binary_logloss: 0.483241\tvalid_0's auc: 0.782222\n",
      "[8]\tvalid_0's binary_logloss: 0.47156\tvalid_0's auc: 0.783556\n",
      "[9]\tvalid_0's binary_logloss: 0.461891\tvalid_0's auc: 0.7831\n",
      "[10]\tvalid_0's binary_logloss: 0.454201\tvalid_0's auc: 0.783219\n",
      "[11]\tvalid_0's binary_logloss: 0.447828\tvalid_0's auc: 0.781744\n",
      "[12]\tvalid_0's binary_logloss: 0.442523\tvalid_0's auc: 0.781555\n",
      "[13]\tvalid_0's binary_logloss: 0.43782\tvalid_0's auc: 0.78333\n",
      "Early stopping, best iteration is:\n",
      "[8]\tvalid_0's binary_logloss: 0.47156\tvalid_0's auc: 0.783556\n",
      "[1]\tvalid_0's binary_logloss: 0.638399\tvalid_0's auc: 0.764364\n",
      "Training until validation scores don't improve for 5 rounds.\n",
      "[2]\tvalid_0's binary_logloss: 0.595651\tvalid_0's auc: 0.770585\n",
      "[3]\tvalid_0's binary_logloss: 0.562349\tvalid_0's auc: 0.772544\n",
      "[4]\tvalid_0's binary_logloss: 0.535815\tvalid_0's auc: 0.775212\n"
     ]
    },
    {
     "name": "stderr",
     "output_type": "stream",
     "text": [
      "/anaconda3/lib/python3.6/site-packages/sklearn/preprocessing/label.py:151: DeprecationWarning: The truth value of an empty array is ambiguous. Returning False, but in future this will result in an error. Use `array.size > 0` to check that an array is not empty.\n",
      "  if diff:\n",
      "/anaconda3/lib/python3.6/site-packages/sklearn/preprocessing/label.py:151: DeprecationWarning: The truth value of an empty array is ambiguous. Returning False, but in future this will result in an error. Use `array.size > 0` to check that an array is not empty.\n",
      "  if diff:\n",
      "/anaconda3/lib/python3.6/site-packages/sklearn/preprocessing/label.py:151: DeprecationWarning: The truth value of an empty array is ambiguous. Returning False, but in future this will result in an error. Use `array.size > 0` to check that an array is not empty.\n",
      "  if diff:\n"
     ]
    },
    {
     "name": "stdout",
     "output_type": "stream",
     "text": [
      "[5]\tvalid_0's binary_logloss: 0.514336\tvalid_0's auc: 0.775344\n",
      "[6]\tvalid_0's binary_logloss: 0.497051\tvalid_0's auc: 0.775706\n",
      "[7]\tvalid_0's binary_logloss: 0.483065\tvalid_0's auc: 0.778363\n",
      "[8]\tvalid_0's binary_logloss: 0.471946\tvalid_0's auc: 0.77852\n",
      "[9]\tvalid_0's binary_logloss: 0.462622\tvalid_0's auc: 0.779467\n",
      "[10]\tvalid_0's binary_logloss: 0.454926\tvalid_0's auc: 0.780503\n",
      "[11]\tvalid_0's binary_logloss: 0.448726\tvalid_0's auc: 0.780765\n",
      "[12]\tvalid_0's binary_logloss: 0.443656\tvalid_0's auc: 0.780446\n",
      "[13]\tvalid_0's binary_logloss: 0.439553\tvalid_0's auc: 0.780412\n",
      "[14]\tvalid_0's binary_logloss: 0.436174\tvalid_0's auc: 0.780377\n",
      "[15]\tvalid_0's binary_logloss: 0.433667\tvalid_0's auc: 0.779542\n",
      "[16]\tvalid_0's binary_logloss: 0.431555\tvalid_0's auc: 0.779938\n",
      "Early stopping, best iteration is:\n",
      "[11]\tvalid_0's binary_logloss: 0.448726\tvalid_0's auc: 0.780765\n",
      "[1]\tvalid_0's binary_logloss: 0.637583\tvalid_0's auc: 0.771709\n",
      "Training until validation scores don't improve for 5 rounds.\n",
      "[2]\tvalid_0's binary_logloss: 0.594331\tvalid_0's auc: 0.778977\n",
      "[3]\tvalid_0's binary_logloss: 0.560818\tvalid_0's auc: 0.7802\n",
      "[4]\tvalid_0's binary_logloss: 0.534058\tvalid_0's auc: 0.778556\n",
      "[5]\tvalid_0's binary_logloss: 0.512695\tvalid_0's auc: 0.782507\n",
      "[6]\tvalid_0's binary_logloss: 0.494914\tvalid_0's auc: 0.78475\n",
      "[7]\tvalid_0's binary_logloss: 0.480635\tvalid_0's auc: 0.784875\n",
      "[8]\tvalid_0's binary_logloss: 0.469122\tvalid_0's auc: 0.784435\n",
      "[9]\tvalid_0's binary_logloss: 0.459882\tvalid_0's auc: 0.784389\n",
      "[10]\tvalid_0's binary_logloss: 0.452365\tvalid_0's auc: 0.78413\n",
      "[11]\tvalid_0's binary_logloss: 0.44627\tvalid_0's auc: 0.784544\n",
      "[12]\tvalid_0's binary_logloss: 0.44115\tvalid_0's auc: 0.78533\n",
      "[13]\tvalid_0's binary_logloss: 0.437338\tvalid_0's auc: 0.784468\n",
      "[14]\tvalid_0's binary_logloss: 0.433756\tvalid_0's auc: 0.784846\n",
      "[15]\tvalid_0's binary_logloss: 0.431157\tvalid_0's auc: 0.783672\n",
      "[16]\tvalid_0's binary_logloss: 0.428938\tvalid_0's auc: 0.784069\n",
      "[17]\tvalid_0's binary_logloss: 0.426887\tvalid_0's auc: 0.785093\n",
      "Early stopping, best iteration is:\n",
      "[12]\tvalid_0's binary_logloss: 0.44115\tvalid_0's auc: 0.78533\n",
      "[1]\tvalid_0's binary_logloss: 0.639039\tvalid_0's auc: 0.760522\n",
      "Training until validation scores don't improve for 5 rounds.\n",
      "[2]\tvalid_0's binary_logloss: 0.59686\tvalid_0's auc: 0.768559\n",
      "[3]\tvalid_0's binary_logloss: 0.563046\tvalid_0's auc: 0.774609"
     ]
    },
    {
     "name": "stderr",
     "output_type": "stream",
     "text": [
      "/anaconda3/lib/python3.6/site-packages/sklearn/preprocessing/label.py:151: DeprecationWarning: The truth value of an empty array is ambiguous. Returning False, but in future this will result in an error. Use `array.size > 0` to check that an array is not empty.\n",
      "  if diff:\n",
      "/anaconda3/lib/python3.6/site-packages/sklearn/preprocessing/label.py:151: DeprecationWarning: The truth value of an empty array is ambiguous. Returning False, but in future this will result in an error. Use `array.size > 0` to check that an array is not empty.\n",
      "  if diff:\n",
      "/anaconda3/lib/python3.6/site-packages/sklearn/preprocessing/label.py:151: DeprecationWarning: The truth value of an empty array is ambiguous. Returning False, but in future this will result in an error. Use `array.size > 0` to check that an array is not empty.\n",
      "  if diff:\n"
     ]
    },
    {
     "name": "stdout",
     "output_type": "stream",
     "text": [
      "\n",
      "[4]\tvalid_0's binary_logloss: 0.536565\tvalid_0's auc: 0.775673\n",
      "[5]\tvalid_0's binary_logloss: 0.515193\tvalid_0's auc: 0.778986\n",
      "[6]\tvalid_0's binary_logloss: 0.497487\tvalid_0's auc: 0.781243\n",
      "[7]\tvalid_0's binary_logloss: 0.483241\tvalid_0's auc: 0.782222\n",
      "[8]\tvalid_0's binary_logloss: 0.47156\tvalid_0's auc: 0.783556\n",
      "[9]\tvalid_0's binary_logloss: 0.461891\tvalid_0's auc: 0.7831\n",
      "[10]\tvalid_0's binary_logloss: 0.454201\tvalid_0's auc: 0.783219\n",
      "[11]\tvalid_0's binary_logloss: 0.447828\tvalid_0's auc: 0.781744\n",
      "[12]\tvalid_0's binary_logloss: 0.442523\tvalid_0's auc: 0.781555\n",
      "[13]\tvalid_0's binary_logloss: 0.43782\tvalid_0's auc: 0.78333\n",
      "Early stopping, best iteration is:\n",
      "[8]\tvalid_0's binary_logloss: 0.47156\tvalid_0's auc: 0.783556\n",
      "[1]\tvalid_0's binary_logloss: 0.638399\tvalid_0's auc: 0.764364\n",
      "Training until validation scores don't improve for 5 rounds.\n",
      "[2]\tvalid_0's binary_logloss: 0.595651\tvalid_0's auc: 0.770585\n",
      "[3]\tvalid_0's binary_logloss: 0.562349\tvalid_0's auc: 0.772544\n",
      "[4]\tvalid_0's binary_logloss: 0.535815\tvalid_0's auc: 0.775212\n",
      "[5]\tvalid_0's binary_logloss: 0.514336\tvalid_0's auc: 0.775344\n",
      "[6]\tvalid_0's binary_logloss: 0.497051\tvalid_0's auc: 0.775706\n",
      "[7]\tvalid_0's binary_logloss: 0.483065\tvalid_0's auc: 0.778363\n"
     ]
    },
    {
     "name": "stderr",
     "output_type": "stream",
     "text": [
      "/anaconda3/lib/python3.6/site-packages/sklearn/preprocessing/label.py:151: DeprecationWarning: The truth value of an empty array is ambiguous. Returning False, but in future this will result in an error. Use `array.size > 0` to check that an array is not empty.\n",
      "  if diff:\n",
      "/anaconda3/lib/python3.6/site-packages/sklearn/preprocessing/label.py:151: DeprecationWarning: The truth value of an empty array is ambiguous. Returning False, but in future this will result in an error. Use `array.size > 0` to check that an array is not empty.\n",
      "  if diff:\n"
     ]
    },
    {
     "name": "stdout",
     "output_type": "stream",
     "text": [
      "[8]\tvalid_0's binary_logloss: 0.471946\tvalid_0's auc: 0.77852\n",
      "[9]\tvalid_0's binary_logloss: 0.462622\tvalid_0's auc: 0.779467\n",
      "[10]\tvalid_0's binary_logloss: 0.454926\tvalid_0's auc: 0.780503\n",
      "[11]\tvalid_0's binary_logloss: 0.448726\tvalid_0's auc: 0.780765\n",
      "[12]\tvalid_0's binary_logloss: 0.443656\tvalid_0's auc: 0.780446\n",
      "[13]\tvalid_0's binary_logloss: 0.439553\tvalid_0's auc: 0.780412\n",
      "[14]\tvalid_0's binary_logloss: 0.436174\tvalid_0's auc: 0.780377\n",
      "[15]\tvalid_0's binary_logloss: 0.433667\tvalid_0's auc: 0.779542\n",
      "[16]\tvalid_0's binary_logloss: 0.431555\tvalid_0's auc: 0.779938\n",
      "Early stopping, best iteration is:\n",
      "[11]\tvalid_0's binary_logloss: 0.448726\tvalid_0's auc: 0.780765\n",
      "[1]\tvalid_0's binary_logloss: 0.637583\tvalid_0's auc: 0.771709\n",
      "Training until validation scores don't improve for 5 rounds.\n",
      "[2]\tvalid_0's binary_logloss: 0.594331\tvalid_0's auc: 0.778977\n",
      "[3]\tvalid_0's binary_logloss: 0.560818\tvalid_0's auc: 0.7802\n",
      "[4]\tvalid_0's binary_logloss: 0.534058\tvalid_0's auc: 0.778556\n",
      "[5]\tvalid_0's binary_logloss: 0.512695\tvalid_0's auc: 0.782507\n",
      "[6]\tvalid_0's binary_logloss: 0.494914\tvalid_0's auc: 0.78475\n"
     ]
    },
    {
     "name": "stderr",
     "output_type": "stream",
     "text": [
      "/anaconda3/lib/python3.6/site-packages/sklearn/preprocessing/label.py:151: DeprecationWarning: The truth value of an empty array is ambiguous. Returning False, but in future this will result in an error. Use `array.size > 0` to check that an array is not empty.\n",
      "  if diff:\n",
      "/anaconda3/lib/python3.6/site-packages/sklearn/preprocessing/label.py:151: DeprecationWarning: The truth value of an empty array is ambiguous. Returning False, but in future this will result in an error. Use `array.size > 0` to check that an array is not empty.\n",
      "  if diff:\n",
      "/anaconda3/lib/python3.6/site-packages/sklearn/preprocessing/label.py:151: DeprecationWarning: The truth value of an empty array is ambiguous. Returning False, but in future this will result in an error. Use `array.size > 0` to check that an array is not empty.\n",
      "  if diff:\n"
     ]
    },
    {
     "name": "stdout",
     "output_type": "stream",
     "text": [
      "[7]\tvalid_0's binary_logloss: 0.480635\tvalid_0's auc: 0.784875\n",
      "[8]\tvalid_0's binary_logloss: 0.469122\tvalid_0's auc: 0.784435\n",
      "[9]\tvalid_0's binary_logloss: 0.459882\tvalid_0's auc: 0.784389\n",
      "[10]\tvalid_0's binary_logloss: 0.452365\tvalid_0's auc: 0.78413\n",
      "[11]\tvalid_0's binary_logloss: 0.44627\tvalid_0's auc: 0.784544\n",
      "[12]\tvalid_0's binary_logloss: 0.44115\tvalid_0's auc: 0.78533\n",
      "[13]\tvalid_0's binary_logloss: 0.437338\tvalid_0's auc: 0.784468\n",
      "[14]\tvalid_0's binary_logloss: 0.433756\tvalid_0's auc: 0.784846\n",
      "[15]\tvalid_0's binary_logloss: 0.431157\tvalid_0's auc: 0.783672\n",
      "[16]\tvalid_0's binary_logloss: 0.428938\tvalid_0's auc: 0.784069\n",
      "[17]\tvalid_0's binary_logloss: 0.426887\tvalid_0's auc: 0.785093\n",
      "Early stopping, best iteration is:\n",
      "[12]\tvalid_0's binary_logloss: 0.44115\tvalid_0's auc: 0.78533\n",
      "[1]\tvalid_0's binary_logloss: 0.639039\tvalid_0's auc: 0.760522\n",
      "Training until validation scores don't improve for 5 rounds.\n",
      "[2]\tvalid_0's binary_logloss: 0.59686\tvalid_0's auc: 0.768559\n",
      "[3]\tvalid_0's binary_logloss: 0.563046\tvalid_0's auc: 0.774609\n",
      "[4]\tvalid_0's binary_logloss: 0.536565\tvalid_0's auc: 0.775673\n",
      "[5]\tvalid_0's binary_logloss: 0.515193\tvalid_0's auc: 0.778986\n",
      "[6]\tvalid_0's binary_logloss: 0.497487\tvalid_0's auc: 0.781243\n",
      "[7]\tvalid_0's binary_logloss: 0.483241\tvalid_0's auc: 0.782222\n",
      "[8]\tvalid_0's binary_logloss: 0.47156\tvalid_0's auc: 0.783556\n",
      "[9]\tvalid_0's binary_logloss: 0.461891\tvalid_0's auc: 0.7831\n",
      "[10]\tvalid_0's binary_logloss: 0.454201\tvalid_0's auc: 0.783219\n",
      "[11]\tvalid_0's binary_logloss: 0.447828\tvalid_0's auc: 0.781744\n",
      "[12]\tvalid_0's binary_logloss: 0.442523\tvalid_0's auc: 0.781555\n",
      "[13]\tvalid_0's binary_logloss: 0.43782\tvalid_0's auc: 0.78333\n",
      "Early stopping, best iteration is:\n",
      "[8]\tvalid_0's binary_logloss: 0.47156\tvalid_0's auc: 0.783556\n",
      "[1]\tvalid_0's binary_logloss: 0.638399\tvalid_0's auc: 0.764364\n",
      "Training until validation scores don't improve for 5 rounds.\n",
      "[2]\tvalid_0's binary_logloss: 0.595651\tvalid_0's auc: 0.770585\n",
      "[3]\tvalid_0's binary_logloss: 0.562349\tvalid_0's auc: 0.772544\n",
      "[4]\tvalid_0's binary_logloss: 0.535815\tvalid_0's auc: 0.775212\n",
      "[5]\tvalid_0's binary_logloss: 0.514336\tvalid_0's auc: 0.775344\n",
      "[6]\tvalid_0's binary_logloss: 0.497051\tvalid_0's auc: 0.775706\n",
      "[7]\tvalid_0's binary_logloss: 0.483065\tvalid_0's auc: 0.778363\n",
      "[8]\tvalid_0's binary_logloss: 0.471946\tvalid_0's auc: 0.77852\n",
      "[9]\tvalid_0's binary_logloss: 0.462622\tvalid_0's auc: 0.779467\n",
      "[10]\tvalid_0's binary_logloss: 0.454926\tvalid_0's auc: 0.780503\n",
      "[11]\tvalid_0's binary_logloss: 0.448726\tvalid_0's auc: 0.780765\n",
      "[12]\tvalid_0's binary_logloss: 0.443656\tvalid_0's auc: 0.780446\n"
     ]
    },
    {
     "name": "stderr",
     "output_type": "stream",
     "text": [
      "/anaconda3/lib/python3.6/site-packages/sklearn/preprocessing/label.py:151: DeprecationWarning: The truth value of an empty array is ambiguous. Returning False, but in future this will result in an error. Use `array.size > 0` to check that an array is not empty.\n",
      "  if diff:\n",
      "/anaconda3/lib/python3.6/site-packages/sklearn/preprocessing/label.py:151: DeprecationWarning: The truth value of an empty array is ambiguous. Returning False, but in future this will result in an error. Use `array.size > 0` to check that an array is not empty.\n",
      "  if diff:\n"
     ]
    },
    {
     "name": "stdout",
     "output_type": "stream",
     "text": [
      "[13]\tvalid_0's binary_logloss: 0.439553\tvalid_0's auc: 0.780412\n",
      "[14]\tvalid_0's binary_logloss: 0.436174\tvalid_0's auc: 0.780377\n",
      "[15]\tvalid_0's binary_logloss: 0.433667\tvalid_0's auc: 0.779542\n",
      "[16]\tvalid_0's binary_logloss: 0.431555\tvalid_0's auc: 0.779938\n",
      "Early stopping, best iteration is:\n",
      "[11]\tvalid_0's binary_logloss: 0.448726\tvalid_0's auc: 0.780765\n",
      "[1]\tvalid_0's binary_logloss: 0.637583\tvalid_0's auc: 0.771709\n",
      "Training until validation scores don't improve for 5 rounds.\n",
      "[2]\tvalid_0's binary_logloss: 0.594331\tvalid_0's auc: 0.778977\n",
      "[3]\tvalid_0's binary_logloss: 0.560818\tvalid_0's auc: 0.7802\n",
      "[4]\tvalid_0's binary_logloss: 0.534058\tvalid_0's auc: 0.778556\n",
      "[5]\tvalid_0's binary_logloss: 0.512695\tvalid_0's auc: 0.782507\n",
      "[6]\tvalid_0's binary_logloss: 0.494914\tvalid_0's auc: 0.78475\n",
      "[7]\tvalid_0's binary_logloss: 0.480635\tvalid_0's auc: 0.784875\n",
      "[8]\tvalid_0's binary_logloss: 0.469122\tvalid_0's auc: 0.784435\n",
      "[9]\tvalid_0's binary_logloss: 0.459882\tvalid_0's auc: 0.784389\n",
      "[10]\tvalid_0's binary_logloss: 0.452365\tvalid_0's auc: 0.78413\n",
      "[11]\tvalid_0's binary_logloss: 0.44627\tvalid_0's auc: 0.784544\n",
      "[12]\tvalid_0's binary_logloss: 0.44115\tvalid_0's auc: 0.78533\n",
      "[13]\tvalid_0's binary_logloss: 0.437338\tvalid_0's auc: 0.784468\n",
      "[14]\tvalid_0's binary_logloss: 0.433756\tvalid_0's auc: 0.784846\n",
      "[15]\tvalid_0's binary_logloss: 0.431157\tvalid_0's auc: 0.783672\n"
     ]
    },
    {
     "name": "stderr",
     "output_type": "stream",
     "text": [
      "/anaconda3/lib/python3.6/site-packages/sklearn/preprocessing/label.py:151: DeprecationWarning: The truth value of an empty array is ambiguous. Returning False, but in future this will result in an error. Use `array.size > 0` to check that an array is not empty.\n",
      "  if diff:\n",
      "/anaconda3/lib/python3.6/site-packages/sklearn/preprocessing/label.py:151: DeprecationWarning: The truth value of an empty array is ambiguous. Returning False, but in future this will result in an error. Use `array.size > 0` to check that an array is not empty.\n",
      "  if diff:\n",
      "/anaconda3/lib/python3.6/site-packages/sklearn/preprocessing/label.py:151: DeprecationWarning: The truth value of an empty array is ambiguous. Returning False, but in future this will result in an error. Use `array.size > 0` to check that an array is not empty.\n",
      "  if diff:\n"
     ]
    },
    {
     "name": "stdout",
     "output_type": "stream",
     "text": [
      "[16]\tvalid_0's binary_logloss: 0.428938\tvalid_0's auc: 0.784069\n",
      "[17]\tvalid_0's binary_logloss: 0.426887\tvalid_0's auc: 0.785093\n",
      "Early stopping, best iteration is:\n",
      "[12]\tvalid_0's binary_logloss: 0.44115\tvalid_0's auc: 0.78533\n",
      "[1]\tvalid_0's binary_logloss: 0.639039\tvalid_0's auc: 0.760522\n",
      "Training until validation scores don't improve for 5 rounds.\n",
      "[2]\tvalid_0's binary_logloss: 0.59686\tvalid_0's auc: 0.768559\n",
      "[3]\tvalid_0's binary_logloss: 0.563046\tvalid_0's auc: 0.774609\n",
      "[4]\tvalid_0's binary_logloss: 0.536565\tvalid_0's auc: 0.775673\n",
      "[5]\tvalid_0's binary_logloss: 0.515193\tvalid_0's auc: 0.778986\n",
      "[6]\tvalid_0's binary_logloss: 0.497487\tvalid_0's auc: 0.781243\n",
      "[7]\tvalid_0's binary_logloss: 0.483241\tvalid_0's auc: 0.782222\n",
      "[8]\tvalid_0's binary_logloss: 0.47156\tvalid_0's auc: 0.783556\n",
      "[9]\tvalid_0's binary_logloss: 0.461891\tvalid_0's auc: 0.7831\n",
      "[10]\tvalid_0's binary_logloss: 0.454201\tvalid_0's auc: 0.783219\n",
      "[11]\tvalid_0's binary_logloss: 0.447828\tvalid_0's auc: 0.781744\n",
      "[12]\tvalid_0's binary_logloss: 0.442523\tvalid_0's auc: 0.781555\n",
      "[13]\tvalid_0's binary_logloss: 0.43782\tvalid_0's auc: 0.78333\n",
      "Early stopping, best iteration is:\n",
      "[8]\tvalid_0's binary_logloss: 0.47156\tvalid_0's auc: 0.783556\n"
     ]
    },
    {
     "name": "stderr",
     "output_type": "stream",
     "text": [
      "/anaconda3/lib/python3.6/site-packages/sklearn/preprocessing/label.py:151: DeprecationWarning: The truth value of an empty array is ambiguous. Returning False, but in future this will result in an error. Use `array.size > 0` to check that an array is not empty.\n",
      "  if diff:\n",
      "/anaconda3/lib/python3.6/site-packages/sklearn/preprocessing/label.py:151: DeprecationWarning: The truth value of an empty array is ambiguous. Returning False, but in future this will result in an error. Use `array.size > 0` to check that an array is not empty.\n",
      "  if diff:\n",
      "/anaconda3/lib/python3.6/site-packages/sklearn/preprocessing/label.py:151: DeprecationWarning: The truth value of an empty array is ambiguous. Returning False, but in future this will result in an error. Use `array.size > 0` to check that an array is not empty.\n",
      "  if diff:\n"
     ]
    },
    {
     "name": "stdout",
     "output_type": "stream",
     "text": [
      "[1]\tvalid_0's binary_logloss: 0.638399\tvalid_0's auc: 0.764364\n",
      "Training until validation scores don't improve for 5 rounds.\n",
      "[2]\tvalid_0's binary_logloss: 0.595651\tvalid_0's auc: 0.770585\n",
      "[3]\tvalid_0's binary_logloss: 0.562349\tvalid_0's auc: 0.772544\n",
      "[4]\tvalid_0's binary_logloss: 0.535815\tvalid_0's auc: 0.775212\n",
      "[5]\tvalid_0's binary_logloss: 0.514336\tvalid_0's auc: 0.775344\n",
      "[6]\tvalid_0's binary_logloss: 0.497051\tvalid_0's auc: 0.775706\n",
      "[7]\tvalid_0's binary_logloss: 0.483065\tvalid_0's auc: 0.778363\n",
      "[8]\tvalid_0's binary_logloss: 0.471946\tvalid_0's auc: 0.77852\n",
      "[9]\tvalid_0's binary_logloss: 0.462622\tvalid_0's auc: 0.779467\n",
      "[10]\tvalid_0's binary_logloss: 0.454926\tvalid_0's auc: 0.780503\n",
      "[11]\tvalid_0's binary_logloss: 0.448726\tvalid_0's auc: 0.780765\n",
      "[12]\tvalid_0's binary_logloss: 0.443656\tvalid_0's auc: 0.780446\n",
      "[13]\tvalid_0's binary_logloss: 0.439553\tvalid_0's auc: 0.780412\n",
      "[14]\tvalid_0's binary_logloss: 0.436174\tvalid_0's auc: 0.780377\n",
      "[15]\tvalid_0's binary_logloss: 0.433667\tvalid_0's auc: 0.779542\n",
      "[16]\tvalid_0's binary_logloss: 0.431555\tvalid_0's auc: 0.779938\n",
      "Early stopping, best iteration is:\n",
      "[11]\tvalid_0's binary_logloss: 0.448726\tvalid_0's auc: 0.780765\n"
     ]
    },
    {
     "name": "stderr",
     "output_type": "stream",
     "text": [
      "/anaconda3/lib/python3.6/site-packages/sklearn/preprocessing/label.py:151: DeprecationWarning: The truth value of an empty array is ambiguous. Returning False, but in future this will result in an error. Use `array.size > 0` to check that an array is not empty.\n",
      "  if diff:\n",
      "/anaconda3/lib/python3.6/site-packages/sklearn/preprocessing/label.py:151: DeprecationWarning: The truth value of an empty array is ambiguous. Returning False, but in future this will result in an error. Use `array.size > 0` to check that an array is not empty.\n",
      "  if diff:\n"
     ]
    },
    {
     "name": "stdout",
     "output_type": "stream",
     "text": [
      "[1]\tvalid_0's binary_logloss: 0.637583\tvalid_0's auc: 0.771709\n",
      "Training until validation scores don't improve for 5 rounds.\n",
      "[2]\tvalid_0's binary_logloss: 0.594331\tvalid_0's auc: 0.778977\n",
      "[3]\tvalid_0's binary_logloss: 0.560818\tvalid_0's auc: 0.7802\n",
      "[4]\tvalid_0's binary_logloss: 0.534058\tvalid_0's auc: 0.778556\n",
      "[5]\tvalid_0's binary_logloss: 0.512695\tvalid_0's auc: 0.782507\n",
      "[6]\tvalid_0's binary_logloss: 0.494914\tvalid_0's auc: 0.78475\n",
      "[7]\tvalid_0's binary_logloss: 0.480635\tvalid_0's auc: 0.784875\n",
      "[8]\tvalid_0's binary_logloss: 0.469122\tvalid_0's auc: 0.784435\n",
      "[9]\tvalid_0's binary_logloss: 0.459882\tvalid_0's auc: 0.784389\n",
      "[10]\tvalid_0's binary_logloss: 0.452365\tvalid_0's auc: 0.78413\n",
      "[11]\tvalid_0's binary_logloss: 0.44627\tvalid_0's auc: 0.784544\n",
      "[12]\tvalid_0's binary_logloss: 0.44115\tvalid_0's auc: 0.78533\n",
      "[13]\tvalid_0's binary_logloss: 0.437338\tvalid_0's auc: 0.784468\n",
      "[14]\tvalid_0's binary_logloss: 0.433756\tvalid_0's auc: 0.784846\n",
      "[15]\tvalid_0's binary_logloss: 0.431157\tvalid_0's auc: 0.783672\n",
      "[16]\tvalid_0's binary_logloss: 0.428938\tvalid_0's auc: 0.784069\n",
      "[17]\tvalid_0's binary_logloss: 0.426887\tvalid_0's auc: 0.785093\n",
      "Early stopping, best iteration is:\n",
      "[12]\tvalid_0's binary_logloss: 0.44115\tvalid_0's auc: 0.78533\n",
      "[1]\tvalid_0's binary_logloss: 0.629082\tvalid_0's auc: 0.760522\n",
      "Training until validation scores don't improve for 5 rounds.\n"
     ]
    },
    {
     "name": "stderr",
     "output_type": "stream",
     "text": [
      "/anaconda3/lib/python3.6/site-packages/sklearn/preprocessing/label.py:151: DeprecationWarning: The truth value of an empty array is ambiguous. Returning False, but in future this will result in an error. Use `array.size > 0` to check that an array is not empty.\n",
      "  if diff:\n",
      "/anaconda3/lib/python3.6/site-packages/sklearn/preprocessing/label.py:151: DeprecationWarning: The truth value of an empty array is ambiguous. Returning False, but in future this will result in an error. Use `array.size > 0` to check that an array is not empty.\n",
      "  if diff:\n",
      "/anaconda3/lib/python3.6/site-packages/sklearn/preprocessing/label.py:151: DeprecationWarning: The truth value of an empty array is ambiguous. Returning False, but in future this will result in an error. Use `array.size > 0` to check that an array is not empty.\n",
      "  if diff:\n"
     ]
    },
    {
     "name": "stdout",
     "output_type": "stream",
     "text": [
      "[2]\tvalid_0's binary_logloss: 0.581858\tvalid_0's auc: 0.768647\n",
      "[3]\tvalid_0's binary_logloss: 0.545933\tvalid_0's auc: 0.773709\n",
      "[4]\tvalid_0's binary_logloss: 0.518298\tvalid_0's auc: 0.778296\n",
      "[5]\tvalid_0's binary_logloss: 0.497007\tvalid_0's auc: 0.779769\n",
      "[6]\tvalid_0's binary_logloss: 0.480673\tvalid_0's auc: 0.780032\n",
      "[7]\tvalid_0's binary_logloss: 0.467553\tvalid_0's auc: 0.779888\n",
      "[8]\tvalid_0's binary_logloss: 0.45746\tvalid_0's auc: 0.779863\n",
      "[9]\tvalid_0's binary_logloss: 0.449612\tvalid_0's auc: 0.778896\n",
      "[10]\tvalid_0's binary_logloss: 0.443368\tvalid_0's auc: 0.780249\n",
      "[11]\tvalid_0's binary_logloss: 0.438019\tvalid_0's auc: 0.781782\n",
      "[12]\tvalid_0's binary_logloss: 0.434744\tvalid_0's auc: 0.781306\n",
      "[13]\tvalid_0's binary_logloss: 0.432013\tvalid_0's auc: 0.780758\n",
      "[14]\tvalid_0's binary_logloss: 0.430353\tvalid_0's auc: 0.778956\n",
      "[15]\tvalid_0's binary_logloss: 0.428047\tvalid_0's auc: 0.780046\n",
      "[16]\tvalid_0's binary_logloss: 0.426662\tvalid_0's auc: 0.780339\n",
      "Early stopping, best iteration is:\n",
      "[11]\tvalid_0's binary_logloss: 0.438019\tvalid_0's auc: 0.781782\n"
     ]
    },
    {
     "name": "stderr",
     "output_type": "stream",
     "text": [
      "/anaconda3/lib/python3.6/site-packages/sklearn/preprocessing/label.py:151: DeprecationWarning: The truth value of an empty array is ambiguous. Returning False, but in future this will result in an error. Use `array.size > 0` to check that an array is not empty.\n",
      "  if diff:\n"
     ]
    },
    {
     "name": "stdout",
     "output_type": "stream",
     "text": [
      "[1]\tvalid_0's binary_logloss: 0.628337\tvalid_0's auc: 0.764364\n",
      "Training until validation scores don't improve for 5 rounds.\n",
      "[2]\tvalid_0's binary_logloss: 0.580359\tvalid_0's auc: 0.771588\n",
      "[3]\tvalid_0's binary_logloss: 0.544475\tvalid_0's auc: 0.773468\n",
      "[4]\tvalid_0's binary_logloss: 0.517192\tvalid_0's auc: 0.773302\n",
      "[5]\tvalid_0's binary_logloss: 0.496131\tvalid_0's auc: 0.773896\n",
      "[6]\tvalid_0's binary_logloss: 0.479577\tvalid_0's auc: 0.777867\n",
      "[7]\tvalid_0's binary_logloss: 0.466894\tvalid_0's auc: 0.77794\n",
      "[8]\tvalid_0's binary_logloss: 0.457311\tvalid_0's auc: 0.77694\n",
      "[9]\tvalid_0's binary_logloss: 0.449114\tvalid_0's auc: 0.77883\n",
      "[10]\tvalid_0's binary_logloss: 0.443632\tvalid_0's auc: 0.777447\n",
      "[11]\tvalid_0's binary_logloss: 0.438839\tvalid_0's auc: 0.777773\n",
      "[12]\tvalid_0's binary_logloss: 0.435373\tvalid_0's auc: 0.778706\n",
      "[13]\tvalid_0's binary_logloss: 0.43181\tvalid_0's auc: 0.780778\n",
      "[14]\tvalid_0's binary_logloss: 0.42952\tvalid_0's auc: 0.78061\n",
      "[15]\tvalid_0's binary_logloss: 0.42737\tvalid_0's auc: 0.782448\n",
      "[16]\tvalid_0's binary_logloss: 0.425953\tvalid_0's auc: 0.782356\n",
      "[17]\tvalid_0's binary_logloss: 0.42472\tvalid_0's auc: 0.783089\n",
      "[18]\tvalid_0's binary_logloss: 0.423667\tvalid_0's auc: 0.783187\n",
      "[19]\tvalid_0's binary_logloss: 0.422855\tvalid_0's auc: 0.783848\n",
      "[20]\tvalid_0's binary_logloss: 0.422826\tvalid_0's auc: 0.78279\n"
     ]
    },
    {
     "name": "stderr",
     "output_type": "stream",
     "text": [
      "/anaconda3/lib/python3.6/site-packages/sklearn/preprocessing/label.py:151: DeprecationWarning: The truth value of an empty array is ambiguous. Returning False, but in future this will result in an error. Use `array.size > 0` to check that an array is not empty.\n",
      "  if diff:\n",
      "/anaconda3/lib/python3.6/site-packages/sklearn/preprocessing/label.py:151: DeprecationWarning: The truth value of an empty array is ambiguous. Returning False, but in future this will result in an error. Use `array.size > 0` to check that an array is not empty.\n",
      "  if diff:\n"
     ]
    },
    {
     "name": "stdout",
     "output_type": "stream",
     "text": [
      "[1]\tvalid_0's binary_logloss: 0.627371\tvalid_0's auc: 0.771709\n",
      "Training until validation scores don't improve for 5 rounds.\n",
      "[2]\tvalid_0's binary_logloss: 0.578732\tvalid_0's auc: 0.777685\n",
      "[3]\tvalid_0's binary_logloss: 0.54281\tvalid_0's auc: 0.778983\n",
      "[4]\tvalid_0's binary_logloss: 0.515098\tvalid_0's auc: 0.778783\n",
      "[5]\tvalid_0's binary_logloss: 0.49354\tvalid_0's auc: 0.781774\n",
      "[6]\tvalid_0's binary_logloss: 0.477028\tvalid_0's auc: 0.782931\n",
      "[7]\tvalid_0's binary_logloss: 0.464457\tvalid_0's auc: 0.782826\n",
      "[8]\tvalid_0's binary_logloss: 0.454808\tvalid_0's auc: 0.782263\n",
      "[9]\tvalid_0's binary_logloss: 0.446424\tvalid_0's auc: 0.785066\n",
      "[10]\tvalid_0's binary_logloss: 0.440409\tvalid_0's auc: 0.785007\n",
      "[11]\tvalid_0's binary_logloss: 0.435471\tvalid_0's auc: 0.784922\n",
      "[12]\tvalid_0's binary_logloss: 0.431611\tvalid_0's auc: 0.78587\n",
      "[13]\tvalid_0's binary_logloss: 0.428454\tvalid_0's auc: 0.787371\n",
      "[14]\tvalid_0's binary_logloss: 0.426101\tvalid_0's auc: 0.787155\n",
      "[15]\tvalid_0's binary_logloss: 0.424086\tvalid_0's auc: 0.787322\n",
      "[16]\tvalid_0's binary_logloss: 0.422952\tvalid_0's auc: 0.78742\n",
      "[17]\tvalid_0's binary_logloss: 0.422157\tvalid_0's auc: 0.786793\n",
      "[18]\tvalid_0's binary_logloss: 0.421955\tvalid_0's auc: 0.785488\n",
      "[19]\tvalid_0's binary_logloss: 0.421772\tvalid_0's auc: 0.784699\n",
      "[20]\tvalid_0's binary_logloss: 0.421045\tvalid_0's auc: 0.784927\n"
     ]
    },
    {
     "name": "stderr",
     "output_type": "stream",
     "text": [
      "/anaconda3/lib/python3.6/site-packages/sklearn/preprocessing/label.py:151: DeprecationWarning: The truth value of an empty array is ambiguous. Returning False, but in future this will result in an error. Use `array.size > 0` to check that an array is not empty.\n",
      "  if diff:\n",
      "/anaconda3/lib/python3.6/site-packages/sklearn/preprocessing/label.py:151: DeprecationWarning: The truth value of an empty array is ambiguous. Returning False, but in future this will result in an error. Use `array.size > 0` to check that an array is not empty.\n",
      "  if diff:\n"
     ]
    },
    {
     "name": "stdout",
     "output_type": "stream",
     "text": [
      "[1]\tvalid_0's binary_logloss: 0.629082\tvalid_0's auc: 0.760522\n",
      "Training until validation scores don't improve for 5 rounds.\n",
      "[2]\tvalid_0's binary_logloss: 0.581858\tvalid_0's auc: 0.768647\n",
      "[3]\tvalid_0's binary_logloss: 0.545933\tvalid_0's auc: 0.773709\n",
      "[4]\tvalid_0's binary_logloss: 0.518298\tvalid_0's auc: 0.778296\n",
      "[5]\tvalid_0's binary_logloss: 0.497007\tvalid_0's auc: 0.779769\n",
      "[6]\tvalid_0's binary_logloss: 0.480673\tvalid_0's auc: 0.780032\n",
      "[7]\tvalid_0's binary_logloss: 0.467553\tvalid_0's auc: 0.779888\n",
      "[8]\tvalid_0's binary_logloss: 0.45746\tvalid_0's auc: 0.779863\n",
      "[9]\tvalid_0's binary_logloss: 0.449612\tvalid_0's auc: 0.778896\n",
      "[10]\tvalid_0's binary_logloss: 0.443368\tvalid_0's auc: 0.780249\n",
      "[11]\tvalid_0's binary_logloss: 0.438019\tvalid_0's auc: 0.781782\n",
      "[12]\tvalid_0's binary_logloss: 0.434744\tvalid_0's auc: 0.781306\n",
      "[13]\tvalid_0's binary_logloss: 0.432013\tvalid_0's auc: 0.780758\n",
      "[14]\tvalid_0's binary_logloss: 0.430353\tvalid_0's auc: 0.778956\n",
      "[15]\tvalid_0's binary_logloss: 0.428047\tvalid_0's auc: 0.780046\n",
      "[16]\tvalid_0's binary_logloss: 0.426662\tvalid_0's auc: 0.780339\n",
      "Early stopping, best iteration is:\n",
      "[11]\tvalid_0's binary_logloss: 0.438019\tvalid_0's auc: 0.781782\n"
     ]
    },
    {
     "name": "stderr",
     "output_type": "stream",
     "text": [
      "/anaconda3/lib/python3.6/site-packages/sklearn/preprocessing/label.py:151: DeprecationWarning: The truth value of an empty array is ambiguous. Returning False, but in future this will result in an error. Use `array.size > 0` to check that an array is not empty.\n",
      "  if diff:\n",
      "/anaconda3/lib/python3.6/site-packages/sklearn/preprocessing/label.py:151: DeprecationWarning: The truth value of an empty array is ambiguous. Returning False, but in future this will result in an error. Use `array.size > 0` to check that an array is not empty.\n",
      "  if diff:\n"
     ]
    },
    {
     "name": "stdout",
     "output_type": "stream",
     "text": [
      "[1]\tvalid_0's binary_logloss: 0.628337\tvalid_0's auc: 0.764364\n",
      "Training until validation scores don't improve for 5 rounds.\n",
      "[2]\tvalid_0's binary_logloss: 0.580359\tvalid_0's auc: 0.771588\n",
      "[3]\tvalid_0's binary_logloss: 0.544475\tvalid_0's auc: 0.773468\n",
      "[4]\tvalid_0's binary_logloss: 0.517192\tvalid_0's auc: 0.773302\n",
      "[5]\tvalid_0's binary_logloss: 0.496131\tvalid_0's auc: 0.773896\n",
      "[6]\tvalid_0's binary_logloss: 0.479577\tvalid_0's auc: 0.777867\n",
      "[7]\tvalid_0's binary_logloss: 0.466894\tvalid_0's auc: 0.77794\n",
      "[8]\tvalid_0's binary_logloss: 0.457311\tvalid_0's auc: 0.77694\n",
      "[9]\tvalid_0's binary_logloss: 0.449114\tvalid_0's auc: 0.77883\n",
      "[10]\tvalid_0's binary_logloss: 0.443632\tvalid_0's auc: 0.777447\n",
      "[11]\tvalid_0's binary_logloss: 0.438839\tvalid_0's auc: 0.777773\n",
      "[12]\tvalid_0's binary_logloss: 0.435373\tvalid_0's auc: 0.778706\n",
      "[13]\tvalid_0's binary_logloss: 0.43181\tvalid_0's auc: 0.780778\n",
      "[14]\tvalid_0's binary_logloss: 0.42952\tvalid_0's auc: 0.78061\n",
      "[15]\tvalid_0's binary_logloss: 0.42737\tvalid_0's auc: 0.782448\n",
      "[16]\tvalid_0's binary_logloss: 0.425953\tvalid_0's auc: 0.782356\n",
      "[17]\tvalid_0's binary_logloss: 0.42472\tvalid_0's auc: 0.783089\n",
      "[18]\tvalid_0's binary_logloss: 0.423667\tvalid_0's auc: 0.783187\n",
      "[19]\tvalid_0's binary_logloss: 0.422855\tvalid_0's auc: 0.783848\n",
      "[20]\tvalid_0's binary_logloss: 0.422826\tvalid_0's auc: 0.78279\n",
      "[21]\tvalid_0's binary_logloss: 0.422412\tvalid_0's auc: 0.782542\n",
      "[22]\tvalid_0's binary_logloss: 0.422196\tvalid_0's auc: 0.782884\n"
     ]
    },
    {
     "name": "stderr",
     "output_type": "stream",
     "text": [
      "/anaconda3/lib/python3.6/site-packages/sklearn/preprocessing/label.py:151: DeprecationWarning: The truth value of an empty array is ambiguous. Returning False, but in future this will result in an error. Use `array.size > 0` to check that an array is not empty.\n",
      "  if diff:\n",
      "/anaconda3/lib/python3.6/site-packages/sklearn/preprocessing/label.py:151: DeprecationWarning: The truth value of an empty array is ambiguous. Returning False, but in future this will result in an error. Use `array.size > 0` to check that an array is not empty.\n",
      "  if diff:\n"
     ]
    },
    {
     "name": "stdout",
     "output_type": "stream",
     "text": [
      "[1]\tvalid_0's binary_logloss: 0.627371\tvalid_0's auc: 0.771709\n",
      "Training until validation scores don't improve for 5 rounds.\n",
      "[2]\tvalid_0's binary_logloss: 0.578732\tvalid_0's auc: 0.777685\n",
      "[3]\tvalid_0's binary_logloss: 0.54281\tvalid_0's auc: 0.778983\n",
      "[4]\tvalid_0's binary_logloss: 0.515098\tvalid_0's auc: 0.778783\n",
      "[5]\tvalid_0's binary_logloss: 0.49354\tvalid_0's auc: 0.781774\n",
      "[6]\tvalid_0's binary_logloss: 0.477028\tvalid_0's auc: 0.782931\n",
      "[7]\tvalid_0's binary_logloss: 0.464457\tvalid_0's auc: 0.782826\n",
      "[8]\tvalid_0's binary_logloss: 0.454808\tvalid_0's auc: 0.782263\n",
      "[9]\tvalid_0's binary_logloss: 0.446424\tvalid_0's auc: 0.785066\n",
      "[10]\tvalid_0's binary_logloss: 0.440409\tvalid_0's auc: 0.785007\n",
      "[11]\tvalid_0's binary_logloss: 0.435471\tvalid_0's auc: 0.784922\n",
      "[12]\tvalid_0's binary_logloss: 0.431611\tvalid_0's auc: 0.78587\n",
      "[13]\tvalid_0's binary_logloss: 0.428454\tvalid_0's auc: 0.787371\n",
      "[14]\tvalid_0's binary_logloss: 0.426101\tvalid_0's auc: 0.787155\n",
      "[15]\tvalid_0's binary_logloss: 0.424086\tvalid_0's auc: 0.787322\n",
      "[16]\tvalid_0's binary_logloss: 0.422952\tvalid_0's auc: 0.78742\n",
      "[17]\tvalid_0's binary_logloss: 0.422157\tvalid_0's auc: 0.786793\n",
      "[18]\tvalid_0's binary_logloss: 0.421955\tvalid_0's auc: 0.785488\n",
      "[19]\tvalid_0's binary_logloss: 0.421772\tvalid_0's auc: 0.784699\n",
      "[20]\tvalid_0's binary_logloss: 0.421045\tvalid_0's auc: 0.784927\n",
      "[21]\tvalid_0's binary_logloss: 0.421088\tvalid_0's auc: 0.783673\n",
      "Early stopping, best iteration is:\n",
      "[16]\tvalid_0's binary_logloss: 0.422952\tvalid_0's auc: 0.78742\n"
     ]
    },
    {
     "name": "stderr",
     "output_type": "stream",
     "text": [
      "/anaconda3/lib/python3.6/site-packages/sklearn/preprocessing/label.py:151: DeprecationWarning: The truth value of an empty array is ambiguous. Returning False, but in future this will result in an error. Use `array.size > 0` to check that an array is not empty.\n",
      "  if diff:\n",
      "/anaconda3/lib/python3.6/site-packages/sklearn/preprocessing/label.py:151: DeprecationWarning: The truth value of an empty array is ambiguous. Returning False, but in future this will result in an error. Use `array.size > 0` to check that an array is not empty.\n",
      "  if diff:\n"
     ]
    },
    {
     "name": "stdout",
     "output_type": "stream",
     "text": [
      "[1]\tvalid_0's binary_logloss: 0.629082\tvalid_0's auc: 0.760522\n",
      "Training until validation scores don't improve for 5 rounds.\n",
      "[2]\tvalid_0's binary_logloss: 0.581858\tvalid_0's auc: 0.768647\n",
      "[3]\tvalid_0's binary_logloss: 0.545933\tvalid_0's auc: 0.773709\n",
      "[4]\tvalid_0's binary_logloss: 0.518298\tvalid_0's auc: 0.778296\n",
      "[5]\tvalid_0's binary_logloss: 0.497007\tvalid_0's auc: 0.779769\n",
      "[6]\tvalid_0's binary_logloss: 0.480673\tvalid_0's auc: 0.780032\n",
      "[7]\tvalid_0's binary_logloss: 0.467553\tvalid_0's auc: 0.779888\n",
      "[8]\tvalid_0's binary_logloss: 0.45746\tvalid_0's auc: 0.779863\n",
      "[9]\tvalid_0's binary_logloss: 0.449612\tvalid_0's auc: 0.778896\n",
      "[10]\tvalid_0's binary_logloss: 0.443368\tvalid_0's auc: 0.780249\n",
      "[11]\tvalid_0's binary_logloss: 0.438019\tvalid_0's auc: 0.781782\n",
      "[12]\tvalid_0's binary_logloss: 0.434744\tvalid_0's auc: 0.781306\n",
      "[13]\tvalid_0's binary_logloss: 0.432013\tvalid_0's auc: 0.780758\n",
      "[14]\tvalid_0's binary_logloss: 0.430353\tvalid_0's auc: 0.778956\n",
      "[15]\tvalid_0's binary_logloss: 0.428047\tvalid_0's auc: 0.780046\n",
      "[16]\tvalid_0's binary_logloss: 0.426662\tvalid_0's auc: 0.780339\n",
      "Early stopping, best iteration is:\n",
      "[11]\tvalid_0's binary_logloss: 0.438019\tvalid_0's auc: 0.781782\n",
      "[1]\tvalid_0's binary_logloss: 0.628337\tvalid_0's auc: 0.764364"
     ]
    },
    {
     "name": "stderr",
     "output_type": "stream",
     "text": [
      "/anaconda3/lib/python3.6/site-packages/sklearn/preprocessing/label.py:151: DeprecationWarning: The truth value of an empty array is ambiguous. Returning False, but in future this will result in an error. Use `array.size > 0` to check that an array is not empty.\n",
      "  if diff:\n",
      "/anaconda3/lib/python3.6/site-packages/sklearn/preprocessing/label.py:151: DeprecationWarning: The truth value of an empty array is ambiguous. Returning False, but in future this will result in an error. Use `array.size > 0` to check that an array is not empty.\n",
      "  if diff:\n"
     ]
    },
    {
     "name": "stdout",
     "output_type": "stream",
     "text": [
      "\n",
      "Training until validation scores don't improve for 5 rounds.\n",
      "[2]\tvalid_0's binary_logloss: 0.580359\tvalid_0's auc: 0.771588\n",
      "[3]\tvalid_0's binary_logloss: 0.544475\tvalid_0's auc: 0.773468\n",
      "[4]\tvalid_0's binary_logloss: 0.517192\tvalid_0's auc: 0.773302\n",
      "[5]\tvalid_0's binary_logloss: 0.496131\tvalid_0's auc: 0.773896\n",
      "[6]\tvalid_0's binary_logloss: 0.479577\tvalid_0's auc: 0.777867\n",
      "[7]\tvalid_0's binary_logloss: 0.466894\tvalid_0's auc: 0.77794\n",
      "[8]\tvalid_0's binary_logloss: 0.457311\tvalid_0's auc: 0.77694\n",
      "[9]\tvalid_0's binary_logloss: 0.449114\tvalid_0's auc: 0.77883\n",
      "[10]\tvalid_0's binary_logloss: 0.443632\tvalid_0's auc: 0.777447\n",
      "[11]\tvalid_0's binary_logloss: 0.438839\tvalid_0's auc: 0.777773\n",
      "[12]\tvalid_0's binary_logloss: 0.435373\tvalid_0's auc: 0.778706\n",
      "[13]\tvalid_0's binary_logloss: 0.43181\tvalid_0's auc: 0.780778\n",
      "[14]\tvalid_0's binary_logloss: 0.42952\tvalid_0's auc: 0.78061\n",
      "[15]\tvalid_0's binary_logloss: 0.42737\tvalid_0's auc: 0.782448\n",
      "[16]\tvalid_0's binary_logloss: 0.425953\tvalid_0's auc: 0.782356\n",
      "[17]\tvalid_0's binary_logloss: 0.42472\tvalid_0's auc: 0.783089\n",
      "[18]\tvalid_0's binary_logloss: 0.423667\tvalid_0's auc: 0.783187\n",
      "[19]\tvalid_0's binary_logloss: 0.422855\tvalid_0's auc: 0.783848\n",
      "[20]\tvalid_0's binary_logloss: 0.422826\tvalid_0's auc: 0.78279\n",
      "[21]\tvalid_0's binary_logloss: 0.422412\tvalid_0's auc: 0.782542\n",
      "[22]\tvalid_0's binary_logloss: 0.422196\tvalid_0's auc: 0.782884\n",
      "[23]\tvalid_0's binary_logloss: 0.422102\tvalid_0's auc: 0.782088\n",
      "[24]\tvalid_0's binary_logloss: 0.422044\tvalid_0's auc: 0.782082\n",
      "Early stopping, best iteration is:\n",
      "[19]\tvalid_0's binary_logloss: 0.422855\tvalid_0's auc: 0.783848\n"
     ]
    },
    {
     "name": "stderr",
     "output_type": "stream",
     "text": [
      "/anaconda3/lib/python3.6/site-packages/sklearn/preprocessing/label.py:151: DeprecationWarning: The truth value of an empty array is ambiguous. Returning False, but in future this will result in an error. Use `array.size > 0` to check that an array is not empty.\n",
      "  if diff:\n",
      "/anaconda3/lib/python3.6/site-packages/sklearn/preprocessing/label.py:151: DeprecationWarning: The truth value of an empty array is ambiguous. Returning False, but in future this will result in an error. Use `array.size > 0` to check that an array is not empty.\n",
      "  if diff:\n"
     ]
    },
    {
     "name": "stdout",
     "output_type": "stream",
     "text": [
      "[1]\tvalid_0's binary_logloss: 0.627371\tvalid_0's auc: 0.771709\n",
      "Training until validation scores don't improve for 5 rounds.\n",
      "[2]\tvalid_0's binary_logloss: 0.578732\tvalid_0's auc: 0.777685\n",
      "[3]\tvalid_0's binary_logloss: 0.54281\tvalid_0's auc: 0.778983\n",
      "[4]\tvalid_0's binary_logloss: 0.515098\tvalid_0's auc: 0.778783\n",
      "[5]\tvalid_0's binary_logloss: 0.49354\tvalid_0's auc: 0.781774\n",
      "[6]\tvalid_0's binary_logloss: 0.477028\tvalid_0's auc: 0.782931\n",
      "[7]\tvalid_0's binary_logloss: 0.464457\tvalid_0's auc: 0.782826\n",
      "[8]\tvalid_0's binary_logloss: 0.454808\tvalid_0's auc: 0.782263\n",
      "[9]\tvalid_0's binary_logloss: 0.446424\tvalid_0's auc: 0.785066\n",
      "[10]\tvalid_0's binary_logloss: 0.440409\tvalid_0's auc: 0.785007\n",
      "[11]\tvalid_0's binary_logloss: 0.435471\tvalid_0's auc: 0.784922\n",
      "[12]\tvalid_0's binary_logloss: 0.431611\tvalid_0's auc: 0.78587\n",
      "[13]\tvalid_0's binary_logloss: 0.428454\tvalid_0's auc: 0.787371\n",
      "[14]\tvalid_0's binary_logloss: 0.426101\tvalid_0's auc: 0.787155\n",
      "[15]\tvalid_0's binary_logloss: 0.424086\tvalid_0's auc: 0.787322\n",
      "[16]\tvalid_0's binary_logloss: 0.422952\tvalid_0's auc: 0.78742\n",
      "[17]\tvalid_0's binary_logloss: 0.422157\tvalid_0's auc: 0.786793\n",
      "[18]\tvalid_0's binary_logloss: 0.421955\tvalid_0's auc: 0.785488\n",
      "[19]\tvalid_0's binary_logloss: 0.421772\tvalid_0's auc: 0.784699\n",
      "[20]\tvalid_0's binary_logloss: 0.421045\tvalid_0's auc: 0.784927\n",
      "[21]\tvalid_0's binary_logloss: 0.421088\tvalid_0's auc: 0.783673\n",
      "Early stopping, best iteration is:\n",
      "[16]\tvalid_0's binary_logloss: 0.422952\tvalid_0's auc: 0.78742\n"
     ]
    },
    {
     "name": "stderr",
     "output_type": "stream",
     "text": [
      "/anaconda3/lib/python3.6/site-packages/sklearn/preprocessing/label.py:151: DeprecationWarning: The truth value of an empty array is ambiguous. Returning False, but in future this will result in an error. Use `array.size > 0` to check that an array is not empty.\n",
      "  if diff:\n",
      "/anaconda3/lib/python3.6/site-packages/sklearn/preprocessing/label.py:151: DeprecationWarning: The truth value of an empty array is ambiguous. Returning False, but in future this will result in an error. Use `array.size > 0` to check that an array is not empty.\n",
      "  if diff:\n"
     ]
    },
    {
     "name": "stdout",
     "output_type": "stream",
     "text": [
      "[1]\tvalid_0's binary_logloss: 0.629082\tvalid_0's auc: 0.760522\n",
      "Training until validation scores don't improve for 5 rounds.\n",
      "[2]\tvalid_0's binary_logloss: 0.581858\tvalid_0's auc: 0.768647\n",
      "[3]\tvalid_0's binary_logloss: 0.545933\tvalid_0's auc: 0.773709\n",
      "[4]\tvalid_0's binary_logloss: 0.518298\tvalid_0's auc: 0.778296\n",
      "[5]\tvalid_0's binary_logloss: 0.497007\tvalid_0's auc: 0.779769\n",
      "[6]\tvalid_0's binary_logloss: 0.480673\tvalid_0's auc: 0.780032\n",
      "[7]\tvalid_0's binary_logloss: 0.467553\tvalid_0's auc: 0.779888\n",
      "[8]\tvalid_0's binary_logloss: 0.45746\tvalid_0's auc: 0.779863\n",
      "[9]\tvalid_0's binary_logloss: 0.449612\tvalid_0's auc: 0.778896\n",
      "[10]\tvalid_0's binary_logloss: 0.443368\tvalid_0's auc: 0.780249\n",
      "[11]\tvalid_0's binary_logloss: 0.438019\tvalid_0's auc: 0.781782\n",
      "[12]\tvalid_0's binary_logloss: 0.434744\tvalid_0's auc: 0.781306\n",
      "[13]\tvalid_0's binary_logloss: 0.432013\tvalid_0's auc: 0.780758\n",
      "[14]\tvalid_0's binary_logloss: 0.430353\tvalid_0's auc: 0.778956\n",
      "[15]\tvalid_0's binary_logloss: 0.428047\tvalid_0's auc: 0.780046\n",
      "[16]\tvalid_0's binary_logloss: 0.426662\tvalid_0's auc: 0.780339\n",
      "Early stopping, best iteration is:\n",
      "[11]\tvalid_0's binary_logloss: 0.438019\tvalid_0's auc: 0.781782\n"
     ]
    },
    {
     "name": "stderr",
     "output_type": "stream",
     "text": [
      "/anaconda3/lib/python3.6/site-packages/sklearn/preprocessing/label.py:151: DeprecationWarning: The truth value of an empty array is ambiguous. Returning False, but in future this will result in an error. Use `array.size > 0` to check that an array is not empty.\n",
      "  if diff:\n",
      "/anaconda3/lib/python3.6/site-packages/sklearn/preprocessing/label.py:151: DeprecationWarning: The truth value of an empty array is ambiguous. Returning False, but in future this will result in an error. Use `array.size > 0` to check that an array is not empty.\n",
      "  if diff:\n"
     ]
    },
    {
     "name": "stdout",
     "output_type": "stream",
     "text": [
      "[1]\tvalid_0's binary_logloss: 0.628337\tvalid_0's auc: 0.764364\n",
      "Training until validation scores don't improve for 5 rounds.\n",
      "[2]\tvalid_0's binary_logloss: 0.580359\tvalid_0's auc: 0.771588\n",
      "[3]\tvalid_0's binary_logloss: 0.544475\tvalid_0's auc: 0.773468\n",
      "[4]\tvalid_0's binary_logloss: 0.517192\tvalid_0's auc: 0.773302\n",
      "[5]\tvalid_0's binary_logloss: 0.496131\tvalid_0's auc: 0.773896\n",
      "[6]\tvalid_0's binary_logloss: 0.479577\tvalid_0's auc: 0.777867\n",
      "[7]\tvalid_0's binary_logloss: 0.466894\tvalid_0's auc: 0.77794\n",
      "[8]\tvalid_0's binary_logloss: 0.457311\tvalid_0's auc: 0.77694\n",
      "[9]\tvalid_0's binary_logloss: 0.449114\tvalid_0's auc: 0.77883\n",
      "[10]\tvalid_0's binary_logloss: 0.443632\tvalid_0's auc: 0.777447\n",
      "[11]\tvalid_0's binary_logloss: 0.438839\tvalid_0's auc: 0.777773\n",
      "[12]\tvalid_0's binary_logloss: 0.435373\tvalid_0's auc: 0.778706\n",
      "[13]\tvalid_0's binary_logloss: 0.43181\tvalid_0's auc: 0.780778\n",
      "[14]\tvalid_0's binary_logloss: 0.42952\tvalid_0's auc: 0.78061\n",
      "[15]\tvalid_0's binary_logloss: 0.42737\tvalid_0's auc: 0.782448\n",
      "[16]\tvalid_0's binary_logloss: 0.425953\tvalid_0's auc: 0.782356\n",
      "[17]\tvalid_0's binary_logloss: 0.42472\tvalid_0's auc: 0.783089\n",
      "[18]\tvalid_0's binary_logloss: 0.423667\tvalid_0's auc: 0.783187\n",
      "[19]\tvalid_0's binary_logloss: 0.422855\tvalid_0's auc: 0.783848\n",
      "[20]\tvalid_0's binary_logloss: 0.422826\tvalid_0's auc: 0.78279\n",
      "[21]\tvalid_0's binary_logloss: 0.422412\tvalid_0's auc: 0.782542\n",
      "[22]\tvalid_0's binary_logloss: 0.422196\tvalid_0's auc: 0.782884\n",
      "[23]\tvalid_0's binary_logloss: 0.422102\tvalid_0's auc: 0.782088\n",
      "[24]\tvalid_0's binary_logloss: 0.422044\tvalid_0's auc: 0.782082\n",
      "Early stopping, best iteration is:\n",
      "[19]\tvalid_0's binary_logloss: 0.422855\tvalid_0's auc: 0.783848\n"
     ]
    },
    {
     "name": "stderr",
     "output_type": "stream",
     "text": [
      "/anaconda3/lib/python3.6/site-packages/sklearn/preprocessing/label.py:151: DeprecationWarning: The truth value of an empty array is ambiguous. Returning False, but in future this will result in an error. Use `array.size > 0` to check that an array is not empty.\n",
      "  if diff:\n",
      "/anaconda3/lib/python3.6/site-packages/sklearn/preprocessing/label.py:151: DeprecationWarning: The truth value of an empty array is ambiguous. Returning False, but in future this will result in an error. Use `array.size > 0` to check that an array is not empty.\n",
      "  if diff:\n"
     ]
    },
    {
     "name": "stdout",
     "output_type": "stream",
     "text": [
      "[1]\tvalid_0's binary_logloss: 0.627371\tvalid_0's auc: 0.771709\n",
      "Training until validation scores don't improve for 5 rounds.\n",
      "[2]\tvalid_0's binary_logloss: 0.578732\tvalid_0's auc: 0.777685\n",
      "[3]\tvalid_0's binary_logloss: 0.54281\tvalid_0's auc: 0.778983\n",
      "[4]\tvalid_0's binary_logloss: 0.515098\tvalid_0's auc: 0.778783\n",
      "[5]\tvalid_0's binary_logloss: 0.49354\tvalid_0's auc: 0.781774\n",
      "[6]\tvalid_0's binary_logloss: 0.477028\tvalid_0's auc: 0.782931\n",
      "[7]\tvalid_0's binary_logloss: 0.464457\tvalid_0's auc: 0.782826\n",
      "[8]\tvalid_0's binary_logloss: 0.454808\tvalid_0's auc: 0.782263\n",
      "[9]\tvalid_0's binary_logloss: 0.446424\tvalid_0's auc: 0.785066\n",
      "[10]\tvalid_0's binary_logloss: 0.440409\tvalid_0's auc: 0.785007\n",
      "[11]\tvalid_0's binary_logloss: 0.435471\tvalid_0's auc: 0.784922\n",
      "[12]\tvalid_0's binary_logloss: 0.431611\tvalid_0's auc: 0.78587\n",
      "[13]\tvalid_0's binary_logloss: 0.428454\tvalid_0's auc: 0.787371\n",
      "[14]\tvalid_0's binary_logloss: 0.426101\tvalid_0's auc: 0.787155\n",
      "[15]\tvalid_0's binary_logloss: 0.424086\tvalid_0's auc: 0.787322\n",
      "[16]\tvalid_0's binary_logloss: 0.422952\tvalid_0's auc: 0.78742\n",
      "[17]\tvalid_0's binary_logloss: 0.422157\tvalid_0's auc: 0.786793\n",
      "[18]\tvalid_0's binary_logloss: 0.421955\tvalid_0's auc: 0.785488\n",
      "[19]\tvalid_0's binary_logloss: 0.421772\tvalid_0's auc: 0.784699\n",
      "[20]\tvalid_0's binary_logloss: 0.421045\tvalid_0's auc: 0.784927\n",
      "[21]\tvalid_0's binary_logloss: 0.421088\tvalid_0's auc: 0.783673\n",
      "Early stopping, best iteration is:\n",
      "[16]\tvalid_0's binary_logloss: 0.422952\tvalid_0's auc: 0.78742\n"
     ]
    },
    {
     "name": "stderr",
     "output_type": "stream",
     "text": [
      "/anaconda3/lib/python3.6/site-packages/sklearn/preprocessing/label.py:151: DeprecationWarning: The truth value of an empty array is ambiguous. Returning False, but in future this will result in an error. Use `array.size > 0` to check that an array is not empty.\n",
      "  if diff:\n",
      "/anaconda3/lib/python3.6/site-packages/sklearn/preprocessing/label.py:151: DeprecationWarning: The truth value of an empty array is ambiguous. Returning False, but in future this will result in an error. Use `array.size > 0` to check that an array is not empty.\n",
      "  if diff:\n"
     ]
    },
    {
     "name": "stdout",
     "output_type": "stream",
     "text": [
      "[1]\tvalid_0's binary_logloss: 0.629082\tvalid_0's auc: 0.760522\n",
      "Training until validation scores don't improve for 5 rounds.\n",
      "[2]\tvalid_0's binary_logloss: 0.581858\tvalid_0's auc: 0.768647\n",
      "[3]\tvalid_0's binary_logloss: 0.545933\tvalid_0's auc: 0.773709\n",
      "[4]\tvalid_0's binary_logloss: 0.518298\tvalid_0's auc: 0.778296\n",
      "[5]\tvalid_0's binary_logloss: 0.497007\tvalid_0's auc: 0.779769\n",
      "[6]\tvalid_0's binary_logloss: 0.480673\tvalid_0's auc: 0.780032\n",
      "[7]\tvalid_0's binary_logloss: 0.467553\tvalid_0's auc: 0.779888\n",
      "[8]\tvalid_0's binary_logloss: 0.45746\tvalid_0's auc: 0.779863\n",
      "[9]\tvalid_0's binary_logloss: 0.449612\tvalid_0's auc: 0.778896\n",
      "[10]\tvalid_0's binary_logloss: 0.443368\tvalid_0's auc: 0.780249\n",
      "[11]\tvalid_0's binary_logloss: 0.438019\tvalid_0's auc: 0.781782\n",
      "[12]\tvalid_0's binary_logloss: 0.434744\tvalid_0's auc: 0.781306\n",
      "[13]\tvalid_0's binary_logloss: 0.432013\tvalid_0's auc: 0.780758\n",
      "[14]\tvalid_0's binary_logloss: 0.430353\tvalid_0's auc: 0.778956\n",
      "[15]\tvalid_0's binary_logloss: 0.428047\tvalid_0's auc: 0.780046\n",
      "[16]\tvalid_0's binary_logloss: 0.426662\tvalid_0's auc: 0.780339\n",
      "Early stopping, best iteration is:\n",
      "[11]\tvalid_0's binary_logloss: 0.438019\tvalid_0's auc: 0.781782\n"
     ]
    },
    {
     "name": "stderr",
     "output_type": "stream",
     "text": [
      "/anaconda3/lib/python3.6/site-packages/sklearn/preprocessing/label.py:151: DeprecationWarning: The truth value of an empty array is ambiguous. Returning False, but in future this will result in an error. Use `array.size > 0` to check that an array is not empty.\n",
      "  if diff:\n",
      "/anaconda3/lib/python3.6/site-packages/sklearn/preprocessing/label.py:151: DeprecationWarning: The truth value of an empty array is ambiguous. Returning False, but in future this will result in an error. Use `array.size > 0` to check that an array is not empty.\n",
      "  if diff:\n"
     ]
    },
    {
     "name": "stdout",
     "output_type": "stream",
     "text": [
      "[1]\tvalid_0's binary_logloss: 0.628337\tvalid_0's auc: 0.764364\n",
      "Training until validation scores don't improve for 5 rounds.\n",
      "[2]\tvalid_0's binary_logloss: 0.580359\tvalid_0's auc: 0.771588\n",
      "[3]\tvalid_0's binary_logloss: 0.544475\tvalid_0's auc: 0.773468\n",
      "[4]\tvalid_0's binary_logloss: 0.517192\tvalid_0's auc: 0.773302\n",
      "[5]\tvalid_0's binary_logloss: 0.496131\tvalid_0's auc: 0.773896\n",
      "[6]\tvalid_0's binary_logloss: 0.479577\tvalid_0's auc: 0.777867\n",
      "[7]\tvalid_0's binary_logloss: 0.466894\tvalid_0's auc: 0.77794\n",
      "[8]\tvalid_0's binary_logloss: 0.457311\tvalid_0's auc: 0.77694\n",
      "[9]\tvalid_0's binary_logloss: 0.449114\tvalid_0's auc: 0.77883\n",
      "[10]\tvalid_0's binary_logloss: 0.443632\tvalid_0's auc: 0.777447\n",
      "[11]\tvalid_0's binary_logloss: 0.438839\tvalid_0's auc: 0.777773\n",
      "[12]\tvalid_0's binary_logloss: 0.435373\tvalid_0's auc: 0.778706\n",
      "[13]\tvalid_0's binary_logloss: 0.43181\tvalid_0's auc: 0.780778\n",
      "[14]\tvalid_0's binary_logloss: 0.42952\tvalid_0's auc: 0.78061\n",
      "[15]\tvalid_0's binary_logloss: 0.42737\tvalid_0's auc: 0.782448\n",
      "[16]\tvalid_0's binary_logloss: 0.425953\tvalid_0's auc: 0.782356\n",
      "[17]\tvalid_0's binary_logloss: 0.42472\tvalid_0's auc: 0.783089\n",
      "[18]\tvalid_0's binary_logloss: 0.423667\tvalid_0's auc: 0.783187\n",
      "[19]\tvalid_0's binary_logloss: 0.422855\tvalid_0's auc: 0.783848\n",
      "[20]\tvalid_0's binary_logloss: 0.422826\tvalid_0's auc: 0.78279\n",
      "[21]\tvalid_0's binary_logloss: 0.422412\tvalid_0's auc: 0.782542\n",
      "[22]\tvalid_0's binary_logloss: 0.422196\tvalid_0's auc: 0.782884\n",
      "[23]\tvalid_0's binary_logloss: 0.422102\tvalid_0's auc: 0.782088\n",
      "[24]\tvalid_0's binary_logloss: 0.422044\tvalid_0's auc: 0.782082\n",
      "Early stopping, best iteration is:\n",
      "[19]\tvalid_0's binary_logloss: 0.422855\tvalid_0's auc: 0.783848\n"
     ]
    },
    {
     "name": "stderr",
     "output_type": "stream",
     "text": [
      "/anaconda3/lib/python3.6/site-packages/sklearn/preprocessing/label.py:151: DeprecationWarning: The truth value of an empty array is ambiguous. Returning False, but in future this will result in an error. Use `array.size > 0` to check that an array is not empty.\n",
      "  if diff:\n",
      "/anaconda3/lib/python3.6/site-packages/sklearn/preprocessing/label.py:151: DeprecationWarning: The truth value of an empty array is ambiguous. Returning False, but in future this will result in an error. Use `array.size > 0` to check that an array is not empty.\n",
      "  if diff:\n"
     ]
    },
    {
     "name": "stdout",
     "output_type": "stream",
     "text": [
      "[1]\tvalid_0's binary_logloss: 0.627371\tvalid_0's auc: 0.771709\n",
      "Training until validation scores don't improve for 5 rounds.\n",
      "[2]\tvalid_0's binary_logloss: 0.578732\tvalid_0's auc: 0.777685\n",
      "[3]\tvalid_0's binary_logloss: 0.54281\tvalid_0's auc: 0.778983\n",
      "[4]\tvalid_0's binary_logloss: 0.515098\tvalid_0's auc: 0.778783\n",
      "[5]\tvalid_0's binary_logloss: 0.49354\tvalid_0's auc: 0.781774\n",
      "[6]\tvalid_0's binary_logloss: 0.477028\tvalid_0's auc: 0.782931\n",
      "[7]\tvalid_0's binary_logloss: 0.464457\tvalid_0's auc: 0.782826\n",
      "[8]\tvalid_0's binary_logloss: 0.454808\tvalid_0's auc: 0.782263\n",
      "[9]\tvalid_0's binary_logloss: 0.446424\tvalid_0's auc: 0.785066\n",
      "[10]\tvalid_0's binary_logloss: 0.440409\tvalid_0's auc: 0.785007\n",
      "[11]\tvalid_0's binary_logloss: 0.435471\tvalid_0's auc: 0.784922\n",
      "[12]\tvalid_0's binary_logloss: 0.431611\tvalid_0's auc: 0.78587\n",
      "[13]\tvalid_0's binary_logloss: 0.428454\tvalid_0's auc: 0.787371\n",
      "[14]\tvalid_0's binary_logloss: 0.426101\tvalid_0's auc: 0.787155\n",
      "[15]\tvalid_0's binary_logloss: 0.424086\tvalid_0's auc: 0.787322\n",
      "[16]\tvalid_0's binary_logloss: 0.422952\tvalid_0's auc: 0.78742\n",
      "[17]\tvalid_0's binary_logloss: 0.422157\tvalid_0's auc: 0.786793\n",
      "[18]\tvalid_0's binary_logloss: 0.421955\tvalid_0's auc: 0.785488\n",
      "[19]\tvalid_0's binary_logloss: 0.421772\tvalid_0's auc: 0.784699\n",
      "[20]\tvalid_0's binary_logloss: 0.421045\tvalid_0's auc: 0.784927\n",
      "[21]\tvalid_0's binary_logloss: 0.421088\tvalid_0's auc: 0.783673\n",
      "Early stopping, best iteration is:\n",
      "[16]\tvalid_0's binary_logloss: 0.422952\tvalid_0's auc: 0.78742\n"
     ]
    },
    {
     "name": "stderr",
     "output_type": "stream",
     "text": [
      "/anaconda3/lib/python3.6/site-packages/sklearn/preprocessing/label.py:151: DeprecationWarning: The truth value of an empty array is ambiguous. Returning False, but in future this will result in an error. Use `array.size > 0` to check that an array is not empty.\n",
      "  if diff:\n",
      "/anaconda3/lib/python3.6/site-packages/sklearn/preprocessing/label.py:151: DeprecationWarning: The truth value of an empty array is ambiguous. Returning False, but in future this will result in an error. Use `array.size > 0` to check that an array is not empty.\n",
      "  if diff:\n"
     ]
    },
    {
     "name": "stdout",
     "output_type": "stream",
     "text": [
      "[1]\tvalid_0's binary_logloss: 0.629082\tvalid_0's auc: 0.760522\n",
      "Training until validation scores don't improve for 5 rounds.\n",
      "[2]\tvalid_0's binary_logloss: 0.581858\tvalid_0's auc: 0.768647\n",
      "[3]\tvalid_0's binary_logloss: 0.545933\tvalid_0's auc: 0.773709\n",
      "[4]\tvalid_0's binary_logloss: 0.518298\tvalid_0's auc: 0.778296\n",
      "[5]\tvalid_0's binary_logloss: 0.497007\tvalid_0's auc: 0.779769\n",
      "[6]\tvalid_0's binary_logloss: 0.480673\tvalid_0's auc: 0.780032\n",
      "[7]\tvalid_0's binary_logloss: 0.467553\tvalid_0's auc: 0.779888\n",
      "[8]\tvalid_0's binary_logloss: 0.45746\tvalid_0's auc: 0.779863\n",
      "[9]\tvalid_0's binary_logloss: 0.449612\tvalid_0's auc: 0.778896\n",
      "[10]\tvalid_0's binary_logloss: 0.443368\tvalid_0's auc: 0.780249\n",
      "[11]\tvalid_0's binary_logloss: 0.438019\tvalid_0's auc: 0.781782\n",
      "[12]\tvalid_0's binary_logloss: 0.434744\tvalid_0's auc: 0.781306\n",
      "[13]\tvalid_0's binary_logloss: 0.432013\tvalid_0's auc: 0.780758\n",
      "[14]\tvalid_0's binary_logloss: 0.430353\tvalid_0's auc: 0.778956\n",
      "[15]\tvalid_0's binary_logloss: 0.428047\tvalid_0's auc: 0.780046\n",
      "[16]\tvalid_0's binary_logloss: 0.426662\tvalid_0's auc: 0.780339\n",
      "Early stopping, best iteration is:\n",
      "[11]\tvalid_0's binary_logloss: 0.438019\tvalid_0's auc: 0.781782\n"
     ]
    },
    {
     "name": "stderr",
     "output_type": "stream",
     "text": [
      "/anaconda3/lib/python3.6/site-packages/sklearn/preprocessing/label.py:151: DeprecationWarning: The truth value of an empty array is ambiguous. Returning False, but in future this will result in an error. Use `array.size > 0` to check that an array is not empty.\n",
      "  if diff:\n",
      "/anaconda3/lib/python3.6/site-packages/sklearn/preprocessing/label.py:151: DeprecationWarning: The truth value of an empty array is ambiguous. Returning False, but in future this will result in an error. Use `array.size > 0` to check that an array is not empty.\n",
      "  if diff:\n"
     ]
    },
    {
     "name": "stdout",
     "output_type": "stream",
     "text": [
      "[1]\tvalid_0's binary_logloss: 0.628337\tvalid_0's auc: 0.764364\n",
      "Training until validation scores don't improve for 5 rounds.\n",
      "[2]\tvalid_0's binary_logloss: 0.580359\tvalid_0's auc: 0.771588\n",
      "[3]\tvalid_0's binary_logloss: 0.544475\tvalid_0's auc: 0.773468\n",
      "[4]\tvalid_0's binary_logloss: 0.517192\tvalid_0's auc: 0.773302\n",
      "[5]\tvalid_0's binary_logloss: 0.496131\tvalid_0's auc: 0.773896\n",
      "[6]\tvalid_0's binary_logloss: 0.479577\tvalid_0's auc: 0.777867\n",
      "[7]\tvalid_0's binary_logloss: 0.466894\tvalid_0's auc: 0.77794\n",
      "[8]\tvalid_0's binary_logloss: 0.457311\tvalid_0's auc: 0.77694\n",
      "[9]\tvalid_0's binary_logloss: 0.449114\tvalid_0's auc: 0.77883\n",
      "[10]\tvalid_0's binary_logloss: 0.443632\tvalid_0's auc: 0.777447\n",
      "[11]\tvalid_0's binary_logloss: 0.438839\tvalid_0's auc: 0.777773\n",
      "[12]\tvalid_0's binary_logloss: 0.435373\tvalid_0's auc: 0.778706\n",
      "[13]\tvalid_0's binary_logloss: 0.43181\tvalid_0's auc: 0.780778\n",
      "[14]\tvalid_0's binary_logloss: 0.42952\tvalid_0's auc: 0.78061\n",
      "[15]\tvalid_0's binary_logloss: 0.42737\tvalid_0's auc: 0.782448\n",
      "[16]\tvalid_0's binary_logloss: 0.425953\tvalid_0's auc: 0.782356\n",
      "[17]\tvalid_0's binary_logloss: 0.42472\tvalid_0's auc: 0.783089\n",
      "[18]\tvalid_0's binary_logloss: 0.423667\tvalid_0's auc: 0.783187\n",
      "[19]\tvalid_0's binary_logloss: 0.422855\tvalid_0's auc: 0.783848\n",
      "[20]\tvalid_0's binary_logloss: 0.422826\tvalid_0's auc: 0.78279\n",
      "[21]\tvalid_0's binary_logloss: 0.422412\tvalid_0's auc: 0.782542\n",
      "[22]\tvalid_0's binary_logloss: 0.422196\tvalid_0's auc: 0.782884\n",
      "[23]\tvalid_0's binary_logloss: 0.422102\tvalid_0's auc: 0.782088\n",
      "[24]\tvalid_0's binary_logloss: 0.422044\tvalid_0's auc: 0.782082\n",
      "Early stopping, best iteration is:\n",
      "[19]\tvalid_0's binary_logloss: 0.422855\tvalid_0's auc: 0.783848\n"
     ]
    },
    {
     "name": "stderr",
     "output_type": "stream",
     "text": [
      "/anaconda3/lib/python3.6/site-packages/sklearn/preprocessing/label.py:151: DeprecationWarning: The truth value of an empty array is ambiguous. Returning False, but in future this will result in an error. Use `array.size > 0` to check that an array is not empty.\n",
      "  if diff:\n",
      "/anaconda3/lib/python3.6/site-packages/sklearn/preprocessing/label.py:151: DeprecationWarning: The truth value of an empty array is ambiguous. Returning False, but in future this will result in an error. Use `array.size > 0` to check that an array is not empty.\n",
      "  if diff:\n"
     ]
    },
    {
     "name": "stdout",
     "output_type": "stream",
     "text": [
      "[1]\tvalid_0's binary_logloss: 0.627371\tvalid_0's auc: 0.771709\n",
      "Training until validation scores don't improve for 5 rounds.\n",
      "[2]\tvalid_0's binary_logloss: 0.578732\tvalid_0's auc: 0.777685\n",
      "[3]\tvalid_0's binary_logloss: 0.54281\tvalid_0's auc: 0.778983\n",
      "[4]\tvalid_0's binary_logloss: 0.515098\tvalid_0's auc: 0.778783\n",
      "[5]\tvalid_0's binary_logloss: 0.49354\tvalid_0's auc: 0.781774\n",
      "[6]\tvalid_0's binary_logloss: 0.477028\tvalid_0's auc: 0.782931\n",
      "[7]\tvalid_0's binary_logloss: 0.464457\tvalid_0's auc: 0.782826\n",
      "[8]\tvalid_0's binary_logloss: 0.454808\tvalid_0's auc: 0.782263\n",
      "[9]\tvalid_0's binary_logloss: 0.446424\tvalid_0's auc: 0.785066\n",
      "[10]\tvalid_0's binary_logloss: 0.440409\tvalid_0's auc: 0.785007\n",
      "[11]\tvalid_0's binary_logloss: 0.435471\tvalid_0's auc: 0.784922\n",
      "[12]\tvalid_0's binary_logloss: 0.431611\tvalid_0's auc: 0.78587\n",
      "[13]\tvalid_0's binary_logloss: 0.428454\tvalid_0's auc: 0.787371\n",
      "[14]\tvalid_0's binary_logloss: 0.426101\tvalid_0's auc: 0.787155\n",
      "[15]\tvalid_0's binary_logloss: 0.424086\tvalid_0's auc: 0.787322\n",
      "[16]\tvalid_0's binary_logloss: 0.422952\tvalid_0's auc: 0.78742\n",
      "[17]\tvalid_0's binary_logloss: 0.422157\tvalid_0's auc: 0.786793\n",
      "[18]\tvalid_0's binary_logloss: 0.421955\tvalid_0's auc: 0.785488\n",
      "[19]\tvalid_0's binary_logloss: 0.421772\tvalid_0's auc: 0.784699\n",
      "[20]\tvalid_0's binary_logloss: 0.421045\tvalid_0's auc: 0.784927\n",
      "[21]\tvalid_0's binary_logloss: 0.421088\tvalid_0's auc: 0.783673\n",
      "Early stopping, best iteration is:\n",
      "[16]\tvalid_0's binary_logloss: 0.422952\tvalid_0's auc: 0.78742\n"
     ]
    },
    {
     "name": "stderr",
     "output_type": "stream",
     "text": [
      "/anaconda3/lib/python3.6/site-packages/sklearn/preprocessing/label.py:151: DeprecationWarning: The truth value of an empty array is ambiguous. Returning False, but in future this will result in an error. Use `array.size > 0` to check that an array is not empty.\n",
      "  if diff:\n",
      "/anaconda3/lib/python3.6/site-packages/sklearn/preprocessing/label.py:151: DeprecationWarning: The truth value of an empty array is ambiguous. Returning False, but in future this will result in an error. Use `array.size > 0` to check that an array is not empty.\n",
      "  if diff:\n",
      "/anaconda3/lib/python3.6/site-packages/sklearn/preprocessing/label.py:151: DeprecationWarning: The truth value of an empty array is ambiguous. Returning False, but in future this will result in an error. Use `array.size > 0` to check that an array is not empty.\n",
      "  if diff:\n"
     ]
    },
    {
     "name": "stdout",
     "output_type": "stream",
     "text": [
      "[1]\tvalid_0's binary_logloss: 0.629082\tvalid_0's auc: 0.760522\n",
      "Training until validation scores don't improve for 5 rounds.\n",
      "[2]\tvalid_0's binary_logloss: 0.581858\tvalid_0's auc: 0.768647\n",
      "[3]\tvalid_0's binary_logloss: 0.545933\tvalid_0's auc: 0.773709\n",
      "[4]\tvalid_0's binary_logloss: 0.518298\tvalid_0's auc: 0.778296\n",
      "[5]\tvalid_0's binary_logloss: 0.497007\tvalid_0's auc: 0.779769\n",
      "[6]\tvalid_0's binary_logloss: 0.480673\tvalid_0's auc: 0.780032\n",
      "[7]\tvalid_0's binary_logloss: 0.467553\tvalid_0's auc: 0.779888\n",
      "[8]\tvalid_0's binary_logloss: 0.45746\tvalid_0's auc: 0.779863\n",
      "[9]\tvalid_0's binary_logloss: 0.449612\tvalid_0's auc: 0.778896\n",
      "[10]\tvalid_0's binary_logloss: 0.443368\tvalid_0's auc: 0.780249\n",
      "[11]\tvalid_0's binary_logloss: 0.438019\tvalid_0's auc: 0.781782\n",
      "[12]\tvalid_0's binary_logloss: 0.434744\tvalid_0's auc: 0.781306\n",
      "[13]\tvalid_0's binary_logloss: 0.432013\tvalid_0's auc: 0.780758\n",
      "[14]\tvalid_0's binary_logloss: 0.430353\tvalid_0's auc: 0.778956\n",
      "[15]\tvalid_0's binary_logloss: 0.428047\tvalid_0's auc: 0.780046\n",
      "[16]\tvalid_0's binary_logloss: 0.426662\tvalid_0's auc: 0.780339\n",
      "Early stopping, best iteration is:\n",
      "[11]\tvalid_0's binary_logloss: 0.438019\tvalid_0's auc: 0.781782\n",
      "[1]\tvalid_0's binary_logloss: 0.628337\tvalid_0's auc: 0.764364\n",
      "Training until validation scores don't improve for 5 rounds.\n",
      "[2]\tvalid_0's binary_logloss: 0.580359\tvalid_0's auc: 0.771588\n",
      "[3]\tvalid_0's binary_logloss: 0.544475\tvalid_0's auc: 0.773468\n",
      "[4]\tvalid_0's binary_logloss: 0.517192\tvalid_0's auc: 0.773302\n"
     ]
    },
    {
     "name": "stderr",
     "output_type": "stream",
     "text": [
      "/anaconda3/lib/python3.6/site-packages/sklearn/preprocessing/label.py:151: DeprecationWarning: The truth value of an empty array is ambiguous. Returning False, but in future this will result in an error. Use `array.size > 0` to check that an array is not empty.\n",
      "  if diff:\n"
     ]
    },
    {
     "name": "stdout",
     "output_type": "stream",
     "text": [
      "[5]\tvalid_0's binary_logloss: 0.496131\tvalid_0's auc: 0.773896\n",
      "[6]\tvalid_0's binary_logloss: 0.479577\tvalid_0's auc: 0.777867\n",
      "[7]\tvalid_0's binary_logloss: 0.466894\tvalid_0's auc: 0.77794\n",
      "[8]\tvalid_0's binary_logloss: 0.457311\tvalid_0's auc: 0.77694\n",
      "[9]\tvalid_0's binary_logloss: 0.449114\tvalid_0's auc: 0.77883\n",
      "[10]\tvalid_0's binary_logloss: 0.443632\tvalid_0's auc: 0.777447\n",
      "[11]\tvalid_0's binary_logloss: 0.438839\tvalid_0's auc: 0.777773\n",
      "[12]\tvalid_0's binary_logloss: 0.435373\tvalid_0's auc: 0.778706\n",
      "[13]\tvalid_0's binary_logloss: 0.43181\tvalid_0's auc: 0.780778\n",
      "[14]\tvalid_0's binary_logloss: 0.42952\tvalid_0's auc: 0.78061\n",
      "[15]\tvalid_0's binary_logloss: 0.42737\tvalid_0's auc: 0.782448\n",
      "[16]\tvalid_0's binary_logloss: 0.425953\tvalid_0's auc: 0.782356\n",
      "[17]\tvalid_0's binary_logloss: 0.42472\tvalid_0's auc: 0.783089\n",
      "[18]\tvalid_0's binary_logloss: 0.423667\tvalid_0's auc: 0.783187\n",
      "[19]\tvalid_0's binary_logloss: 0.422855\tvalid_0's auc: 0.783848\n",
      "[20]\tvalid_0's binary_logloss: 0.422826\tvalid_0's auc: 0.78279\n",
      "[21]\tvalid_0's binary_logloss: 0.422412\tvalid_0's auc: 0.782542\n",
      "[22]\tvalid_0's binary_logloss: 0.422196\tvalid_0's auc: 0.782884\n",
      "[23]\tvalid_0's binary_logloss: 0.422102\tvalid_0's auc: 0.782088\n",
      "[24]\tvalid_0's binary_logloss: 0.422044\tvalid_0's auc: 0.782082\n",
      "Early stopping, best iteration is:\n",
      "[19]\tvalid_0's binary_logloss: 0.422855\tvalid_0's auc: 0.783848\n"
     ]
    },
    {
     "name": "stderr",
     "output_type": "stream",
     "text": [
      "/anaconda3/lib/python3.6/site-packages/sklearn/preprocessing/label.py:151: DeprecationWarning: The truth value of an empty array is ambiguous. Returning False, but in future this will result in an error. Use `array.size > 0` to check that an array is not empty.\n",
      "  if diff:\n",
      "/anaconda3/lib/python3.6/site-packages/sklearn/preprocessing/label.py:151: DeprecationWarning: The truth value of an empty array is ambiguous. Returning False, but in future this will result in an error. Use `array.size > 0` to check that an array is not empty.\n",
      "  if diff:\n"
     ]
    },
    {
     "name": "stdout",
     "output_type": "stream",
     "text": [
      "[1]\tvalid_0's binary_logloss: 0.627371\tvalid_0's auc: 0.771709\n",
      "Training until validation scores don't improve for 5 rounds.\n",
      "[2]\tvalid_0's binary_logloss: 0.578732\tvalid_0's auc: 0.777685\n",
      "[3]\tvalid_0's binary_logloss: 0.54281\tvalid_0's auc: 0.778983\n",
      "[4]\tvalid_0's binary_logloss: 0.515098\tvalid_0's auc: 0.778783\n",
      "[5]\tvalid_0's binary_logloss: 0.49354\tvalid_0's auc: 0.781774\n",
      "[6]\tvalid_0's binary_logloss: 0.477028\tvalid_0's auc: 0.782931\n",
      "[7]\tvalid_0's binary_logloss: 0.464457\tvalid_0's auc: 0.782826\n",
      "[8]\tvalid_0's binary_logloss: 0.454808\tvalid_0's auc: 0.782263\n",
      "[9]\tvalid_0's binary_logloss: 0.446424\tvalid_0's auc: 0.785066\n",
      "[10]\tvalid_0's binary_logloss: 0.440409\tvalid_0's auc: 0.785007\n",
      "[11]\tvalid_0's binary_logloss: 0.435471\tvalid_0's auc: 0.784922\n",
      "[12]\tvalid_0's binary_logloss: 0.431611\tvalid_0's auc: 0.78587\n",
      "[13]\tvalid_0's binary_logloss: 0.428454\tvalid_0's auc: 0.787371\n",
      "[14]\tvalid_0's binary_logloss: 0.426101\tvalid_0's auc: 0.787155\n",
      "[15]\tvalid_0's binary_logloss: 0.424086\tvalid_0's auc: 0.787322\n",
      "[16]\tvalid_0's binary_logloss: 0.422952\tvalid_0's auc: 0.78742\n",
      "[17]\tvalid_0's binary_logloss: 0.422157\tvalid_0's auc: 0.786793\n",
      "[18]\tvalid_0's binary_logloss: 0.421955\tvalid_0's auc: 0.785488\n",
      "[19]\tvalid_0's binary_logloss: 0.421772\tvalid_0's auc: 0.784699\n",
      "[20]\tvalid_0's binary_logloss: 0.421045\tvalid_0's auc: 0.784927\n",
      "[21]\tvalid_0's binary_logloss: 0.421088\tvalid_0's auc: 0.783673\n",
      "Early stopping, best iteration is:\n",
      "[16]\tvalid_0's binary_logloss: 0.422952\tvalid_0's auc: 0.78742\n"
     ]
    },
    {
     "name": "stderr",
     "output_type": "stream",
     "text": [
      "/anaconda3/lib/python3.6/site-packages/sklearn/preprocessing/label.py:151: DeprecationWarning: The truth value of an empty array is ambiguous. Returning False, but in future this will result in an error. Use `array.size > 0` to check that an array is not empty.\n",
      "  if diff:\n",
      "/anaconda3/lib/python3.6/site-packages/sklearn/preprocessing/label.py:151: DeprecationWarning: The truth value of an empty array is ambiguous. Returning False, but in future this will result in an error. Use `array.size > 0` to check that an array is not empty.\n",
      "  if diff:\n"
     ]
    },
    {
     "name": "stdout",
     "output_type": "stream",
     "text": [
      "[1]\tvalid_0's binary_logloss: 0.629082\tvalid_0's auc: 0.760522\n",
      "Training until validation scores don't improve for 5 rounds.\n",
      "[2]\tvalid_0's binary_logloss: 0.581858\tvalid_0's auc: 0.768647\n",
      "[3]\tvalid_0's binary_logloss: 0.545933\tvalid_0's auc: 0.773709\n",
      "[4]\tvalid_0's binary_logloss: 0.518298\tvalid_0's auc: 0.778296\n",
      "[5]\tvalid_0's binary_logloss: 0.497007\tvalid_0's auc: 0.779769\n",
      "[6]\tvalid_0's binary_logloss: 0.480673\tvalid_0's auc: 0.780032\n",
      "[7]\tvalid_0's binary_logloss: 0.467553\tvalid_0's auc: 0.779888\n",
      "[8]\tvalid_0's binary_logloss: 0.45746\tvalid_0's auc: 0.779863\n",
      "[9]\tvalid_0's binary_logloss: 0.449612\tvalid_0's auc: 0.778896\n",
      "[10]\tvalid_0's binary_logloss: 0.443368\tvalid_0's auc: 0.780249\n",
      "[11]\tvalid_0's binary_logloss: 0.438019\tvalid_0's auc: 0.781782\n",
      "[12]\tvalid_0's binary_logloss: 0.434744\tvalid_0's auc: 0.781306\n",
      "[13]\tvalid_0's binary_logloss: 0.432013\tvalid_0's auc: 0.780758\n",
      "[14]\tvalid_0's binary_logloss: 0.430353\tvalid_0's auc: 0.778956\n",
      "[15]\tvalid_0's binary_logloss: 0.428047\tvalid_0's auc: 0.780046\n",
      "[16]\tvalid_0's binary_logloss: 0.426662\tvalid_0's auc: 0.780339\n",
      "Early stopping, best iteration is:\n",
      "[11]\tvalid_0's binary_logloss: 0.438019\tvalid_0's auc: 0.781782\n",
      "[1]\tvalid_0's binary_logloss: 0.628337\tvalid_0's auc: 0.764364\n",
      "Training until validation scores don't improve for 5 rounds.\n",
      "[2]\tvalid_0's binary_logloss: 0.580359\tvalid_0's auc: 0.771588\n"
     ]
    },
    {
     "name": "stderr",
     "output_type": "stream",
     "text": [
      "/anaconda3/lib/python3.6/site-packages/sklearn/preprocessing/label.py:151: DeprecationWarning: The truth value of an empty array is ambiguous. Returning False, but in future this will result in an error. Use `array.size > 0` to check that an array is not empty.\n",
      "  if diff:\n",
      "/anaconda3/lib/python3.6/site-packages/sklearn/preprocessing/label.py:151: DeprecationWarning: The truth value of an empty array is ambiguous. Returning False, but in future this will result in an error. Use `array.size > 0` to check that an array is not empty.\n",
      "  if diff:\n"
     ]
    },
    {
     "name": "stdout",
     "output_type": "stream",
     "text": [
      "[3]\tvalid_0's binary_logloss: 0.544475\tvalid_0's auc: 0.773468\n",
      "[4]\tvalid_0's binary_logloss: 0.517192\tvalid_0's auc: 0.773302\n",
      "[5]\tvalid_0's binary_logloss: 0.496131\tvalid_0's auc: 0.773896\n",
      "[6]\tvalid_0's binary_logloss: 0.479577\tvalid_0's auc: 0.777867\n",
      "[7]\tvalid_0's binary_logloss: 0.466894\tvalid_0's auc: 0.77794\n",
      "[8]\tvalid_0's binary_logloss: 0.457311\tvalid_0's auc: 0.77694\n",
      "[9]\tvalid_0's binary_logloss: 0.449114\tvalid_0's auc: 0.77883\n",
      "[10]\tvalid_0's binary_logloss: 0.443632\tvalid_0's auc: 0.777447\n",
      "[11]\tvalid_0's binary_logloss: 0.438839\tvalid_0's auc: 0.777773\n",
      "[12]\tvalid_0's binary_logloss: 0.435373\tvalid_0's auc: 0.778706\n",
      "[13]\tvalid_0's binary_logloss: 0.43181\tvalid_0's auc: 0.780778\n",
      "[14]\tvalid_0's binary_logloss: 0.42952\tvalid_0's auc: 0.78061\n",
      "[15]\tvalid_0's binary_logloss: 0.42737\tvalid_0's auc: 0.782448\n",
      "[16]\tvalid_0's binary_logloss: 0.425953\tvalid_0's auc: 0.782356\n",
      "[17]\tvalid_0's binary_logloss: 0.42472\tvalid_0's auc: 0.783089\n",
      "[18]\tvalid_0's binary_logloss: 0.423667\tvalid_0's auc: 0.783187\n",
      "[19]\tvalid_0's binary_logloss: 0.422855\tvalid_0's auc: 0.783848\n",
      "[20]\tvalid_0's binary_logloss: 0.422826\tvalid_0's auc: 0.78279\n",
      "[21]\tvalid_0's binary_logloss: 0.422412\tvalid_0's auc: 0.782542\n",
      "[22]\tvalid_0's binary_logloss: 0.422196\tvalid_0's auc: 0.782884\n",
      "[23]\tvalid_0's binary_logloss: 0.422102\tvalid_0's auc: 0.782088\n",
      "[24]\tvalid_0's binary_logloss: 0.422044\tvalid_0's auc: 0.782082\n",
      "Early stopping, best iteration is:\n",
      "[19]\tvalid_0's binary_logloss: 0.422855\tvalid_0's auc: 0.783848\n"
     ]
    },
    {
     "name": "stderr",
     "output_type": "stream",
     "text": [
      "/anaconda3/lib/python3.6/site-packages/sklearn/preprocessing/label.py:151: DeprecationWarning: The truth value of an empty array is ambiguous. Returning False, but in future this will result in an error. Use `array.size > 0` to check that an array is not empty.\n",
      "  if diff:\n",
      "/anaconda3/lib/python3.6/site-packages/sklearn/preprocessing/label.py:151: DeprecationWarning: The truth value of an empty array is ambiguous. Returning False, but in future this will result in an error. Use `array.size > 0` to check that an array is not empty.\n",
      "  if diff:\n"
     ]
    },
    {
     "name": "stdout",
     "output_type": "stream",
     "text": [
      "[1]\tvalid_0's binary_logloss: 0.627371\tvalid_0's auc: 0.771709\n",
      "Training until validation scores don't improve for 5 rounds.\n",
      "[2]\tvalid_0's binary_logloss: 0.578732\tvalid_0's auc: 0.777685\n",
      "[3]\tvalid_0's binary_logloss: 0.54281\tvalid_0's auc: 0.778983\n",
      "[4]\tvalid_0's binary_logloss: 0.515098\tvalid_0's auc: 0.778783\n",
      "[5]\tvalid_0's binary_logloss: 0.49354\tvalid_0's auc: 0.781774\n",
      "[6]\tvalid_0's binary_logloss: 0.477028\tvalid_0's auc: 0.782931\n",
      "[7]\tvalid_0's binary_logloss: 0.464457\tvalid_0's auc: 0.782826\n",
      "[8]\tvalid_0's binary_logloss: 0.454808\tvalid_0's auc: 0.782263\n",
      "[9]\tvalid_0's binary_logloss: 0.446424\tvalid_0's auc: 0.785066\n",
      "[10]\tvalid_0's binary_logloss: 0.440409\tvalid_0's auc: 0.785007\n",
      "[11]\tvalid_0's binary_logloss: 0.435471\tvalid_0's auc: 0.784922\n",
      "[12]\tvalid_0's binary_logloss: 0.431611\tvalid_0's auc: 0.78587\n",
      "[13]\tvalid_0's binary_logloss: 0.428454\tvalid_0's auc: 0.787371\n",
      "[14]\tvalid_0's binary_logloss: 0.426101\tvalid_0's auc: 0.787155\n",
      "[15]\tvalid_0's binary_logloss: 0.424086\tvalid_0's auc: 0.787322\n",
      "[16]\tvalid_0's binary_logloss: 0.422952\tvalid_0's auc: 0.78742\n",
      "[17]\tvalid_0's binary_logloss: 0.422157\tvalid_0's auc: 0.786793\n",
      "[18]\tvalid_0's binary_logloss: 0.421955\tvalid_0's auc: 0.785488\n",
      "[19]\tvalid_0's binary_logloss: 0.421772\tvalid_0's auc: 0.784699\n",
      "[20]\tvalid_0's binary_logloss: 0.421045\tvalid_0's auc: 0.784927\n",
      "[21]\tvalid_0's binary_logloss: 0.421088\tvalid_0's auc: 0.783673\n",
      "Early stopping, best iteration is:\n",
      "[16]\tvalid_0's binary_logloss: 0.422952\tvalid_0's auc: 0.78742\n"
     ]
    },
    {
     "name": "stderr",
     "output_type": "stream",
     "text": [
      "/anaconda3/lib/python3.6/site-packages/sklearn/preprocessing/label.py:151: DeprecationWarning: The truth value of an empty array is ambiguous. Returning False, but in future this will result in an error. Use `array.size > 0` to check that an array is not empty.\n",
      "  if diff:\n",
      "/anaconda3/lib/python3.6/site-packages/sklearn/preprocessing/label.py:151: DeprecationWarning: The truth value of an empty array is ambiguous. Returning False, but in future this will result in an error. Use `array.size > 0` to check that an array is not empty.\n",
      "  if diff:\n",
      "/anaconda3/lib/python3.6/site-packages/sklearn/preprocessing/label.py:151: DeprecationWarning: The truth value of an empty array is ambiguous. Returning False, but in future this will result in an error. Use `array.size > 0` to check that an array is not empty.\n",
      "  if diff:\n"
     ]
    },
    {
     "name": "stdout",
     "output_type": "stream",
     "text": [
      "[1]\tvalid_0's binary_logloss: 0.619412\tvalid_0's auc: 0.760522\n",
      "Training until validation scores don't improve for 5 rounds.\n",
      "[2]\tvalid_0's binary_logloss: 0.567643\tvalid_0's auc: 0.769081\n",
      "[3]\tvalid_0's binary_logloss: 0.530453\tvalid_0's auc: 0.773686\n",
      "[4]\tvalid_0's binary_logloss: 0.502713\tvalid_0's auc: 0.778374\n",
      "[5]\tvalid_0's binary_logloss: 0.4823\tvalid_0's auc: 0.779363\n",
      "[6]\tvalid_0's binary_logloss: 0.467048\tvalid_0's auc: 0.779092\n",
      "[7]\tvalid_0's binary_logloss: 0.455784\tvalid_0's auc: 0.777413\n",
      "[8]\tvalid_0's binary_logloss: 0.446959\tvalid_0's auc: 0.779444\n",
      "[9]\tvalid_0's binary_logloss: 0.440178\tvalid_0's auc: 0.780668\n",
      "[10]\tvalid_0's binary_logloss: 0.435681\tvalid_0's auc: 0.780565\n",
      "[11]\tvalid_0's binary_logloss: 0.431825\tvalid_0's auc: 0.781499\n",
      "[12]\tvalid_0's binary_logloss: 0.429663\tvalid_0's auc: 0.779982\n",
      "[13]\tvalid_0's binary_logloss: 0.427773\tvalid_0's auc: 0.779275\n",
      "[14]\tvalid_0's binary_logloss: 0.426096\tvalid_0's auc: 0.779625\n",
      "[15]\tvalid_0's binary_logloss: 0.42494\tvalid_0's auc: 0.779054\n",
      "[16]\tvalid_0's binary_logloss: 0.423403\tvalid_0's auc: 0.780456\n",
      "Early stopping, best iteration is:\n",
      "[11]\tvalid_0's binary_logloss: 0.431825\tvalid_0's auc: 0.781499\n",
      "[1]\tvalid_0's binary_logloss: 0.618569\tvalid_0's auc: 0.764364\n",
      "Training until validation scores don't improve for 5 rounds.\n",
      "[2]\tvalid_0's binary_logloss: 0.566183\tvalid_0's auc: 0.772262\n",
      "[3]\tvalid_0's binary_logloss: 0.528821\tvalid_0's auc: 0.773645\n",
      "[4]\tvalid_0's binary_logloss: 0.501824\tvalid_0's auc: 0.773752\n"
     ]
    },
    {
     "name": "stderr",
     "output_type": "stream",
     "text": [
      "/anaconda3/lib/python3.6/site-packages/sklearn/preprocessing/label.py:151: DeprecationWarning: The truth value of an empty array is ambiguous. Returning False, but in future this will result in an error. Use `array.size > 0` to check that an array is not empty.\n",
      "  if diff:\n"
     ]
    },
    {
     "name": "stdout",
     "output_type": "stream",
     "text": [
      "[5]\tvalid_0's binary_logloss: 0.481114\tvalid_0's auc: 0.775404\n",
      "[6]\tvalid_0's binary_logloss: 0.466265\tvalid_0's auc: 0.776398\n",
      "[7]\tvalid_0's binary_logloss: 0.454802\tvalid_0's auc: 0.777237\n",
      "[8]\tvalid_0's binary_logloss: 0.44571\tvalid_0's auc: 0.780913\n",
      "[9]\tvalid_0's binary_logloss: 0.439122\tvalid_0's auc: 0.782185\n",
      "[10]\tvalid_0's binary_logloss: 0.434582\tvalid_0's auc: 0.782295\n",
      "[11]\tvalid_0's binary_logloss: 0.430999\tvalid_0's auc: 0.782687\n",
      "[12]\tvalid_0's binary_logloss: 0.428954\tvalid_0's auc: 0.781333\n",
      "[13]\tvalid_0's binary_logloss: 0.426922\tvalid_0's auc: 0.782063\n",
      "[14]\tvalid_0's binary_logloss: 0.425407\tvalid_0's auc: 0.782928\n",
      "[15]\tvalid_0's binary_logloss: 0.424424\tvalid_0's auc: 0.781788\n",
      "[16]\tvalid_0's binary_logloss: 0.42367\tvalid_0's auc: 0.78202\n",
      "[17]\tvalid_0's binary_logloss: 0.42308\tvalid_0's auc: 0.782607\n",
      "[18]\tvalid_0's binary_logloss: 0.422554\tvalid_0's auc: 0.782626\n",
      "[19]\tvalid_0's binary_logloss: 0.422076\tvalid_0's auc: 0.782362\n",
      "Early stopping, best iteration is:\n",
      "[14]\tvalid_0's binary_logloss: 0.425407\tvalid_0's auc: 0.782928\n"
     ]
    },
    {
     "name": "stderr",
     "output_type": "stream",
     "text": [
      "/anaconda3/lib/python3.6/site-packages/sklearn/preprocessing/label.py:151: DeprecationWarning: The truth value of an empty array is ambiguous. Returning False, but in future this will result in an error. Use `array.size > 0` to check that an array is not empty.\n",
      "  if diff:\n",
      "/anaconda3/lib/python3.6/site-packages/sklearn/preprocessing/label.py:151: DeprecationWarning: The truth value of an empty array is ambiguous. Returning False, but in future this will result in an error. Use `array.size > 0` to check that an array is not empty.\n",
      "  if diff:\n"
     ]
    },
    {
     "name": "stdout",
     "output_type": "stream",
     "text": [
      "[1]\tvalid_0's binary_logloss: 0.617458\tvalid_0's auc: 0.771709\n",
      "Training until validation scores don't improve for 5 rounds.\n",
      "[2]\tvalid_0's binary_logloss: 0.564695\tvalid_0's auc: 0.779021\n",
      "[3]\tvalid_0's binary_logloss: 0.526611\tvalid_0's auc: 0.780723\n",
      "[4]\tvalid_0's binary_logloss: 0.499409\tvalid_0's auc: 0.777782\n",
      "[5]\tvalid_0's binary_logloss: 0.47868\tvalid_0's auc: 0.781298\n",
      "[6]\tvalid_0's binary_logloss: 0.463537\tvalid_0's auc: 0.781917\n",
      "[7]\tvalid_0's binary_logloss: 0.45236\tvalid_0's auc: 0.782713\n",
      "[8]\tvalid_0's binary_logloss: 0.444609\tvalid_0's auc: 0.781809\n",
      "[9]\tvalid_0's binary_logloss: 0.438333\tvalid_0's auc: 0.78269\n",
      "[10]\tvalid_0's binary_logloss: 0.43395\tvalid_0's auc: 0.782417\n",
      "[11]\tvalid_0's binary_logloss: 0.430077\tvalid_0's auc: 0.783655\n",
      "[12]\tvalid_0's binary_logloss: 0.427378\tvalid_0's auc: 0.784271\n",
      "[13]\tvalid_0's binary_logloss: 0.425086\tvalid_0's auc: 0.784934\n",
      "[14]\tvalid_0's binary_logloss: 0.424218\tvalid_0's auc: 0.784473\n",
      "[15]\tvalid_0's binary_logloss: 0.4234\tvalid_0's auc: 0.783577\n",
      "[16]\tvalid_0's binary_logloss: 0.4228\tvalid_0's auc: 0.783081\n",
      "[17]\tvalid_0's binary_logloss: 0.422245\tvalid_0's auc: 0.782764\n",
      "[18]\tvalid_0's binary_logloss: 0.422637\tvalid_0's auc: 0.780843\n",
      "Early stopping, best iteration is:\n",
      "[13]\tvalid_0's binary_logloss: 0.425086\tvalid_0's auc: 0.784934\n"
     ]
    },
    {
     "name": "stderr",
     "output_type": "stream",
     "text": [
      "/anaconda3/lib/python3.6/site-packages/sklearn/preprocessing/label.py:151: DeprecationWarning: The truth value of an empty array is ambiguous. Returning False, but in future this will result in an error. Use `array.size > 0` to check that an array is not empty.\n",
      "  if diff:\n",
      "/anaconda3/lib/python3.6/site-packages/sklearn/preprocessing/label.py:151: DeprecationWarning: The truth value of an empty array is ambiguous. Returning False, but in future this will result in an error. Use `array.size > 0` to check that an array is not empty.\n",
      "  if diff:\n",
      "/anaconda3/lib/python3.6/site-packages/sklearn/preprocessing/label.py:151: DeprecationWarning: The truth value of an empty array is ambiguous. Returning False, but in future this will result in an error. Use `array.size > 0` to check that an array is not empty.\n",
      "  if diff:\n"
     ]
    },
    {
     "name": "stdout",
     "output_type": "stream",
     "text": [
      "[1]\tvalid_0's binary_logloss: 0.619412\tvalid_0's auc: 0.760522\n",
      "Training until validation scores don't improve for 5 rounds.\n",
      "[2]\tvalid_0's binary_logloss: 0.567643\tvalid_0's auc: 0.769081\n",
      "[3]\tvalid_0's binary_logloss: 0.530453\tvalid_0's auc: 0.773686\n",
      "[4]\tvalid_0's binary_logloss: 0.502713\tvalid_0's auc: 0.778374\n",
      "[5]\tvalid_0's binary_logloss: 0.4823\tvalid_0's auc: 0.779363\n",
      "[6]\tvalid_0's binary_logloss: 0.467048\tvalid_0's auc: 0.779092\n",
      "[7]\tvalid_0's binary_logloss: 0.455784\tvalid_0's auc: 0.777413\n",
      "[8]\tvalid_0's binary_logloss: 0.446959\tvalid_0's auc: 0.779444\n",
      "[9]\tvalid_0's binary_logloss: 0.440178\tvalid_0's auc: 0.780668\n",
      "[10]\tvalid_0's binary_logloss: 0.435681\tvalid_0's auc: 0.780565\n",
      "[11]\tvalid_0's binary_logloss: 0.431825\tvalid_0's auc: 0.781499\n",
      "[12]\tvalid_0's binary_logloss: 0.429663\tvalid_0's auc: 0.779982\n",
      "[13]\tvalid_0's binary_logloss: 0.427773\tvalid_0's auc: 0.779275\n",
      "[14]\tvalid_0's binary_logloss: 0.426096\tvalid_0's auc: 0.779625\n",
      "[15]\tvalid_0's binary_logloss: 0.42494\tvalid_0's auc: 0.779054\n",
      "[16]\tvalid_0's binary_logloss: 0.423403\tvalid_0's auc: 0.780456\n",
      "Early stopping, best iteration is:\n",
      "[11]\tvalid_0's binary_logloss: 0.431825\tvalid_0's auc: 0.781499\n",
      "[1]\tvalid_0's binary_logloss: 0.618569\tvalid_0's auc: 0.764364\n",
      "Training until validation scores don't improve for 5 rounds.\n"
     ]
    },
    {
     "name": "stderr",
     "output_type": "stream",
     "text": [
      "/anaconda3/lib/python3.6/site-packages/sklearn/preprocessing/label.py:151: DeprecationWarning: The truth value of an empty array is ambiguous. Returning False, but in future this will result in an error. Use `array.size > 0` to check that an array is not empty.\n",
      "  if diff:\n",
      "/anaconda3/lib/python3.6/site-packages/sklearn/preprocessing/label.py:151: DeprecationWarning: The truth value of an empty array is ambiguous. Returning False, but in future this will result in an error. Use `array.size > 0` to check that an array is not empty.\n",
      "  if diff:\n"
     ]
    },
    {
     "name": "stdout",
     "output_type": "stream",
     "text": [
      "[2]\tvalid_0's binary_logloss: 0.566183\tvalid_0's auc: 0.772262\n",
      "[3]\tvalid_0's binary_logloss: 0.528821\tvalid_0's auc: 0.773645\n",
      "[4]\tvalid_0's binary_logloss: 0.501824\tvalid_0's auc: 0.773752\n",
      "[5]\tvalid_0's binary_logloss: 0.481114\tvalid_0's auc: 0.775404\n",
      "[6]\tvalid_0's binary_logloss: 0.466265\tvalid_0's auc: 0.776398\n",
      "[7]\tvalid_0's binary_logloss: 0.454802\tvalid_0's auc: 0.777237\n",
      "[8]\tvalid_0's binary_logloss: 0.44571\tvalid_0's auc: 0.780913\n",
      "[9]\tvalid_0's binary_logloss: 0.439122\tvalid_0's auc: 0.782185\n",
      "[10]\tvalid_0's binary_logloss: 0.434582\tvalid_0's auc: 0.782295\n",
      "[11]\tvalid_0's binary_logloss: 0.430999\tvalid_0's auc: 0.782687\n",
      "[12]\tvalid_0's binary_logloss: 0.428954\tvalid_0's auc: 0.781333\n",
      "[13]\tvalid_0's binary_logloss: 0.426922\tvalid_0's auc: 0.782063\n",
      "[14]\tvalid_0's binary_logloss: 0.425407\tvalid_0's auc: 0.782928\n",
      "[15]\tvalid_0's binary_logloss: 0.424424\tvalid_0's auc: 0.781788\n",
      "[16]\tvalid_0's binary_logloss: 0.42367\tvalid_0's auc: 0.78202\n",
      "[17]\tvalid_0's binary_logloss: 0.42308\tvalid_0's auc: 0.782607\n",
      "[18]\tvalid_0's binary_logloss: 0.422554\tvalid_0's auc: 0.782626\n",
      "[19]\tvalid_0's binary_logloss: 0.422076\tvalid_0's auc: 0.782362\n",
      "Early stopping, best iteration is:\n",
      "[14]\tvalid_0's binary_logloss: 0.425407\tvalid_0's auc: 0.782928\n"
     ]
    },
    {
     "name": "stderr",
     "output_type": "stream",
     "text": [
      "/anaconda3/lib/python3.6/site-packages/sklearn/preprocessing/label.py:151: DeprecationWarning: The truth value of an empty array is ambiguous. Returning False, but in future this will result in an error. Use `array.size > 0` to check that an array is not empty.\n",
      "  if diff:\n"
     ]
    },
    {
     "name": "stdout",
     "output_type": "stream",
     "text": [
      "[1]\tvalid_0's binary_logloss: 0.617458\tvalid_0's auc: 0.771709\n",
      "Training until validation scores don't improve for 5 rounds.\n",
      "[2]\tvalid_0's binary_logloss: 0.564695\tvalid_0's auc: 0.779021\n",
      "[3]\tvalid_0's binary_logloss: 0.526611\tvalid_0's auc: 0.780723\n",
      "[4]\tvalid_0's binary_logloss: 0.499409\tvalid_0's auc: 0.777782\n",
      "[5]\tvalid_0's binary_logloss: 0.47868\tvalid_0's auc: 0.781298\n",
      "[6]\tvalid_0's binary_logloss: 0.463537\tvalid_0's auc: 0.781917\n",
      "[7]\tvalid_0's binary_logloss: 0.45236\tvalid_0's auc: 0.782713\n",
      "[8]\tvalid_0's binary_logloss: 0.444609\tvalid_0's auc: 0.781809\n",
      "[9]\tvalid_0's binary_logloss: 0.438333\tvalid_0's auc: 0.78269\n",
      "[10]\tvalid_0's binary_logloss: 0.43395\tvalid_0's auc: 0.782417\n",
      "[11]\tvalid_0's binary_logloss: 0.430077\tvalid_0's auc: 0.783655\n",
      "[12]\tvalid_0's binary_logloss: 0.427378\tvalid_0's auc: 0.784271\n",
      "[13]\tvalid_0's binary_logloss: 0.425086\tvalid_0's auc: 0.784934\n",
      "[14]\tvalid_0's binary_logloss: 0.424218\tvalid_0's auc: 0.784473\n",
      "[15]\tvalid_0's binary_logloss: 0.4234\tvalid_0's auc: 0.783577\n",
      "[16]\tvalid_0's binary_logloss: 0.4228\tvalid_0's auc: 0.783081\n",
      "[17]\tvalid_0's binary_logloss: 0.422245\tvalid_0's auc: 0.782764\n",
      "[18]\tvalid_0's binary_logloss: 0.422637\tvalid_0's auc: 0.780843\n",
      "Early stopping, best iteration is:\n",
      "[13]\tvalid_0's binary_logloss: 0.425086\tvalid_0's auc: 0.784934\n"
     ]
    },
    {
     "name": "stderr",
     "output_type": "stream",
     "text": [
      "/anaconda3/lib/python3.6/site-packages/sklearn/preprocessing/label.py:151: DeprecationWarning: The truth value of an empty array is ambiguous. Returning False, but in future this will result in an error. Use `array.size > 0` to check that an array is not empty.\n",
      "  if diff:\n",
      "/anaconda3/lib/python3.6/site-packages/sklearn/preprocessing/label.py:151: DeprecationWarning: The truth value of an empty array is ambiguous. Returning False, but in future this will result in an error. Use `array.size > 0` to check that an array is not empty.\n",
      "  if diff:\n"
     ]
    },
    {
     "name": "stdout",
     "output_type": "stream",
     "text": [
      "[1]\tvalid_0's binary_logloss: 0.619412\tvalid_0's auc: 0.760522\n",
      "Training until validation scores don't improve for 5 rounds.\n",
      "[2]\tvalid_0's binary_logloss: 0.567643\tvalid_0's auc: 0.769081\n",
      "[3]\tvalid_0's binary_logloss: 0.530453\tvalid_0's auc: 0.773686\n",
      "[4]\tvalid_0's binary_logloss: 0.502713\tvalid_0's auc: 0.778374\n",
      "[5]\tvalid_0's binary_logloss: 0.4823\tvalid_0's auc: 0.779363\n",
      "[6]\tvalid_0's binary_logloss: 0.467048\tvalid_0's auc: 0.779092\n",
      "[7]\tvalid_0's binary_logloss: 0.455784\tvalid_0's auc: 0.777413\n",
      "[8]\tvalid_0's binary_logloss: 0.446959\tvalid_0's auc: 0.779444\n",
      "[9]\tvalid_0's binary_logloss: 0.440178\tvalid_0's auc: 0.780668\n",
      "[10]\tvalid_0's binary_logloss: 0.435681\tvalid_0's auc: 0.780565\n",
      "[11]\tvalid_0's binary_logloss: 0.431825\tvalid_0's auc: 0.781499\n",
      "[12]\tvalid_0's binary_logloss: 0.429663\tvalid_0's auc: 0.779982\n",
      "[13]\tvalid_0's binary_logloss: 0.427773\tvalid_0's auc: 0.779275\n",
      "[14]\tvalid_0's binary_logloss: 0.426096\tvalid_0's auc: 0.779625\n",
      "[15]\tvalid_0's binary_logloss: 0.42494\tvalid_0's auc: 0.779054\n",
      "[16]\tvalid_0's binary_logloss: 0.423403\tvalid_0's auc: 0.780456\n",
      "Early stopping, best iteration is:\n",
      "[11]\tvalid_0's binary_logloss: 0.431825\tvalid_0's auc: 0.781499\n"
     ]
    },
    {
     "name": "stderr",
     "output_type": "stream",
     "text": [
      "/anaconda3/lib/python3.6/site-packages/sklearn/preprocessing/label.py:151: DeprecationWarning: The truth value of an empty array is ambiguous. Returning False, but in future this will result in an error. Use `array.size > 0` to check that an array is not empty.\n",
      "  if diff:\n",
      "/anaconda3/lib/python3.6/site-packages/sklearn/preprocessing/label.py:151: DeprecationWarning: The truth value of an empty array is ambiguous. Returning False, but in future this will result in an error. Use `array.size > 0` to check that an array is not empty.\n",
      "  if diff:\n"
     ]
    },
    {
     "name": "stdout",
     "output_type": "stream",
     "text": [
      "[1]\tvalid_0's binary_logloss: 0.618569\tvalid_0's auc: 0.764364\n",
      "Training until validation scores don't improve for 5 rounds.\n",
      "[2]\tvalid_0's binary_logloss: 0.566183\tvalid_0's auc: 0.772262\n",
      "[3]\tvalid_0's binary_logloss: 0.528821\tvalid_0's auc: 0.773645\n",
      "[4]\tvalid_0's binary_logloss: 0.501824\tvalid_0's auc: 0.773752\n",
      "[5]\tvalid_0's binary_logloss: 0.481114\tvalid_0's auc: 0.775404\n",
      "[6]\tvalid_0's binary_logloss: 0.466265\tvalid_0's auc: 0.776398\n",
      "[7]\tvalid_0's binary_logloss: 0.454802\tvalid_0's auc: 0.777237\n",
      "[8]\tvalid_0's binary_logloss: 0.44571\tvalid_0's auc: 0.780913\n",
      "[9]\tvalid_0's binary_logloss: 0.439122\tvalid_0's auc: 0.782185\n",
      "[10]\tvalid_0's binary_logloss: 0.434582\tvalid_0's auc: 0.782295\n",
      "[11]\tvalid_0's binary_logloss: 0.430999\tvalid_0's auc: 0.782687\n",
      "[12]\tvalid_0's binary_logloss: 0.428954\tvalid_0's auc: 0.781333\n",
      "[13]\tvalid_0's binary_logloss: 0.426922\tvalid_0's auc: 0.782063\n",
      "[14]\tvalid_0's binary_logloss: 0.425407\tvalid_0's auc: 0.782928\n",
      "[15]\tvalid_0's binary_logloss: 0.424424\tvalid_0's auc: 0.781788\n",
      "[16]\tvalid_0's binary_logloss: 0.42367\tvalid_0's auc: 0.78202\n",
      "[17]\tvalid_0's binary_logloss: 0.42308\tvalid_0's auc: 0.782607\n",
      "[18]\tvalid_0's binary_logloss: 0.422554\tvalid_0's auc: 0.782626\n",
      "[19]\tvalid_0's binary_logloss: 0.422076\tvalid_0's auc: 0.782362\n",
      "Early stopping, best iteration is:\n",
      "[14]\tvalid_0's binary_logloss: 0.425407\tvalid_0's auc: 0.782928\n"
     ]
    },
    {
     "name": "stderr",
     "output_type": "stream",
     "text": [
      "/anaconda3/lib/python3.6/site-packages/sklearn/preprocessing/label.py:151: DeprecationWarning: The truth value of an empty array is ambiguous. Returning False, but in future this will result in an error. Use `array.size > 0` to check that an array is not empty.\n",
      "  if diff:\n",
      "/anaconda3/lib/python3.6/site-packages/sklearn/preprocessing/label.py:151: DeprecationWarning: The truth value of an empty array is ambiguous. Returning False, but in future this will result in an error. Use `array.size > 0` to check that an array is not empty.\n",
      "  if diff:\n"
     ]
    },
    {
     "name": "stdout",
     "output_type": "stream",
     "text": [
      "[1]\tvalid_0's binary_logloss: 0.617458\tvalid_0's auc: 0.771709\n",
      "Training until validation scores don't improve for 5 rounds.\n",
      "[2]\tvalid_0's binary_logloss: 0.564695\tvalid_0's auc: 0.779021\n",
      "[3]\tvalid_0's binary_logloss: 0.526611\tvalid_0's auc: 0.780723\n",
      "[4]\tvalid_0's binary_logloss: 0.499409\tvalid_0's auc: 0.777782\n",
      "[5]\tvalid_0's binary_logloss: 0.47868\tvalid_0's auc: 0.781298\n",
      "[6]\tvalid_0's binary_logloss: 0.463537\tvalid_0's auc: 0.781917\n",
      "[7]\tvalid_0's binary_logloss: 0.45236\tvalid_0's auc: 0.782713\n",
      "[8]\tvalid_0's binary_logloss: 0.444609\tvalid_0's auc: 0.781809\n",
      "[9]\tvalid_0's binary_logloss: 0.438333\tvalid_0's auc: 0.78269\n",
      "[10]\tvalid_0's binary_logloss: 0.43395\tvalid_0's auc: 0.782417\n",
      "[11]\tvalid_0's binary_logloss: 0.430077\tvalid_0's auc: 0.783655\n",
      "[12]\tvalid_0's binary_logloss: 0.427378\tvalid_0's auc: 0.784271\n",
      "[13]\tvalid_0's binary_logloss: 0.425086\tvalid_0's auc: 0.784934\n",
      "[14]\tvalid_0's binary_logloss: 0.424218\tvalid_0's auc: 0.784473\n",
      "[15]\tvalid_0's binary_logloss: 0.4234\tvalid_0's auc: 0.783577\n",
      "[16]\tvalid_0's binary_logloss: 0.4228\tvalid_0's auc: 0.783081\n",
      "[17]\tvalid_0's binary_logloss: 0.422245\tvalid_0's auc: 0.782764\n",
      "[18]\tvalid_0's binary_logloss: 0.422637\tvalid_0's auc: 0.780843\n",
      "Early stopping, best iteration is:\n",
      "[13]\tvalid_0's binary_logloss: 0.425086\tvalid_0's auc: 0.784934\n"
     ]
    },
    {
     "name": "stderr",
     "output_type": "stream",
     "text": [
      "/anaconda3/lib/python3.6/site-packages/sklearn/preprocessing/label.py:151: DeprecationWarning: The truth value of an empty array is ambiguous. Returning False, but in future this will result in an error. Use `array.size > 0` to check that an array is not empty.\n",
      "  if diff:\n",
      "/anaconda3/lib/python3.6/site-packages/sklearn/preprocessing/label.py:151: DeprecationWarning: The truth value of an empty array is ambiguous. Returning False, but in future this will result in an error. Use `array.size > 0` to check that an array is not empty.\n",
      "  if diff:\n"
     ]
    },
    {
     "name": "stdout",
     "output_type": "stream",
     "text": [
      "[1]\tvalid_0's binary_logloss: 0.619412\tvalid_0's auc: 0.760522\n",
      "Training until validation scores don't improve for 5 rounds.\n",
      "[2]\tvalid_0's binary_logloss: 0.567643\tvalid_0's auc: 0.769081\n",
      "[3]\tvalid_0's binary_logloss: 0.530453\tvalid_0's auc: 0.773686\n",
      "[4]\tvalid_0's binary_logloss: 0.502713\tvalid_0's auc: 0.778374\n",
      "[5]\tvalid_0's binary_logloss: 0.4823\tvalid_0's auc: 0.779363\n",
      "[6]\tvalid_0's binary_logloss: 0.467048\tvalid_0's auc: 0.779092\n",
      "[7]\tvalid_0's binary_logloss: 0.455784\tvalid_0's auc: 0.777413\n",
      "[8]\tvalid_0's binary_logloss: 0.446959\tvalid_0's auc: 0.779444\n",
      "[9]\tvalid_0's binary_logloss: 0.440178\tvalid_0's auc: 0.780668\n",
      "[10]\tvalid_0's binary_logloss: 0.435681\tvalid_0's auc: 0.780565\n",
      "[11]\tvalid_0's binary_logloss: 0.431825\tvalid_0's auc: 0.781499\n",
      "[12]\tvalid_0's binary_logloss: 0.429663\tvalid_0's auc: 0.779982\n",
      "[13]\tvalid_0's binary_logloss: 0.427773\tvalid_0's auc: 0.779275\n",
      "[14]\tvalid_0's binary_logloss: 0.426096\tvalid_0's auc: 0.779625\n",
      "[15]\tvalid_0's binary_logloss: 0.42494\tvalid_0's auc: 0.779054\n",
      "[16]\tvalid_0's binary_logloss: 0.423403\tvalid_0's auc: 0.780456\n",
      "Early stopping, best iteration is:\n",
      "[11]\tvalid_0's binary_logloss: 0.431825\tvalid_0's auc: 0.781499\n"
     ]
    },
    {
     "name": "stderr",
     "output_type": "stream",
     "text": [
      "/anaconda3/lib/python3.6/site-packages/sklearn/preprocessing/label.py:151: DeprecationWarning: The truth value of an empty array is ambiguous. Returning False, but in future this will result in an error. Use `array.size > 0` to check that an array is not empty.\n",
      "  if diff:\n",
      "/anaconda3/lib/python3.6/site-packages/sklearn/preprocessing/label.py:151: DeprecationWarning: The truth value of an empty array is ambiguous. Returning False, but in future this will result in an error. Use `array.size > 0` to check that an array is not empty.\n",
      "  if diff:\n"
     ]
    },
    {
     "name": "stdout",
     "output_type": "stream",
     "text": [
      "[1]\tvalid_0's binary_logloss: 0.618569\tvalid_0's auc: 0.764364\n",
      "Training until validation scores don't improve for 5 rounds.\n",
      "[2]\tvalid_0's binary_logloss: 0.566183\tvalid_0's auc: 0.772262\n",
      "[3]\tvalid_0's binary_logloss: 0.528821\tvalid_0's auc: 0.773645\n",
      "[4]\tvalid_0's binary_logloss: 0.501824\tvalid_0's auc: 0.773752\n",
      "[5]\tvalid_0's binary_logloss: 0.481114\tvalid_0's auc: 0.775404\n",
      "[6]\tvalid_0's binary_logloss: 0.466265\tvalid_0's auc: 0.776398\n",
      "[7]\tvalid_0's binary_logloss: 0.454802\tvalid_0's auc: 0.777237\n",
      "[8]\tvalid_0's binary_logloss: 0.44571\tvalid_0's auc: 0.780913\n",
      "[9]\tvalid_0's binary_logloss: 0.439122\tvalid_0's auc: 0.782185\n",
      "[10]\tvalid_0's binary_logloss: 0.434582\tvalid_0's auc: 0.782295\n",
      "[11]\tvalid_0's binary_logloss: 0.430999\tvalid_0's auc: 0.782687\n",
      "[12]\tvalid_0's binary_logloss: 0.428954\tvalid_0's auc: 0.781333\n",
      "[13]\tvalid_0's binary_logloss: 0.426922\tvalid_0's auc: 0.782063\n",
      "[14]\tvalid_0's binary_logloss: 0.425407\tvalid_0's auc: 0.782928\n",
      "[15]\tvalid_0's binary_logloss: 0.424424\tvalid_0's auc: 0.781788\n",
      "[16]\tvalid_0's binary_logloss: 0.42367\tvalid_0's auc: 0.78202\n",
      "[17]\tvalid_0's binary_logloss: 0.42308\tvalid_0's auc: 0.782607\n",
      "[18]\tvalid_0's binary_logloss: 0.422554\tvalid_0's auc: 0.782626\n",
      "[19]\tvalid_0's binary_logloss: 0.422076\tvalid_0's auc: 0.782362\n",
      "Early stopping, best iteration is:\n",
      "[14]\tvalid_0's binary_logloss: 0.425407\tvalid_0's auc: 0.782928\n"
     ]
    },
    {
     "name": "stderr",
     "output_type": "stream",
     "text": [
      "/anaconda3/lib/python3.6/site-packages/sklearn/preprocessing/label.py:151: DeprecationWarning: The truth value of an empty array is ambiguous. Returning False, but in future this will result in an error. Use `array.size > 0` to check that an array is not empty.\n",
      "  if diff:\n",
      "/anaconda3/lib/python3.6/site-packages/sklearn/preprocessing/label.py:151: DeprecationWarning: The truth value of an empty array is ambiguous. Returning False, but in future this will result in an error. Use `array.size > 0` to check that an array is not empty.\n",
      "  if diff:\n"
     ]
    },
    {
     "name": "stdout",
     "output_type": "stream",
     "text": [
      "[1]\tvalid_0's binary_logloss: 0.617458\tvalid_0's auc: 0.771709\n",
      "Training until validation scores don't improve for 5 rounds.\n",
      "[2]\tvalid_0's binary_logloss: 0.564695\tvalid_0's auc: 0.779021\n",
      "[3]\tvalid_0's binary_logloss: 0.526611\tvalid_0's auc: 0.780723\n",
      "[4]\tvalid_0's binary_logloss: 0.499409\tvalid_0's auc: 0.777782\n",
      "[5]\tvalid_0's binary_logloss: 0.47868\tvalid_0's auc: 0.781298\n",
      "[6]\tvalid_0's binary_logloss: 0.463537\tvalid_0's auc: 0.781917\n",
      "[7]\tvalid_0's binary_logloss: 0.45236\tvalid_0's auc: 0.782713\n",
      "[8]\tvalid_0's binary_logloss: 0.444609\tvalid_0's auc: 0.781809\n",
      "[9]\tvalid_0's binary_logloss: 0.438333\tvalid_0's auc: 0.78269\n",
      "[10]\tvalid_0's binary_logloss: 0.43395\tvalid_0's auc: 0.782417\n",
      "[11]\tvalid_0's binary_logloss: 0.430077\tvalid_0's auc: 0.783655\n",
      "[12]\tvalid_0's binary_logloss: 0.427378\tvalid_0's auc: 0.784271\n",
      "[13]\tvalid_0's binary_logloss: 0.425086\tvalid_0's auc: 0.784934\n",
      "[14]\tvalid_0's binary_logloss: 0.424218\tvalid_0's auc: 0.784473\n",
      "[15]\tvalid_0's binary_logloss: 0.4234\tvalid_0's auc: 0.783577\n",
      "[16]\tvalid_0's binary_logloss: 0.4228\tvalid_0's auc: 0.783081\n",
      "[17]\tvalid_0's binary_logloss: 0.422245\tvalid_0's auc: 0.782764\n",
      "[18]\tvalid_0's binary_logloss: 0.422637\tvalid_0's auc: 0.780843\n",
      "Early stopping, best iteration is:\n",
      "[13]\tvalid_0's binary_logloss: 0.425086\tvalid_0's auc: 0.784934\n"
     ]
    },
    {
     "name": "stderr",
     "output_type": "stream",
     "text": [
      "/anaconda3/lib/python3.6/site-packages/sklearn/preprocessing/label.py:151: DeprecationWarning: The truth value of an empty array is ambiguous. Returning False, but in future this will result in an error. Use `array.size > 0` to check that an array is not empty.\n",
      "  if diff:\n",
      "/anaconda3/lib/python3.6/site-packages/sklearn/preprocessing/label.py:151: DeprecationWarning: The truth value of an empty array is ambiguous. Returning False, but in future this will result in an error. Use `array.size > 0` to check that an array is not empty.\n",
      "  if diff:\n"
     ]
    },
    {
     "name": "stdout",
     "output_type": "stream",
     "text": [
      "[1]\tvalid_0's binary_logloss: 0.619412\tvalid_0's auc: 0.760522\n",
      "Training until validation scores don't improve for 5 rounds.\n",
      "[2]\tvalid_0's binary_logloss: 0.567643\tvalid_0's auc: 0.769081\n",
      "[3]\tvalid_0's binary_logloss: 0.530453\tvalid_0's auc: 0.773686\n",
      "[4]\tvalid_0's binary_logloss: 0.502713\tvalid_0's auc: 0.778374\n",
      "[5]\tvalid_0's binary_logloss: 0.4823\tvalid_0's auc: 0.779363\n",
      "[6]\tvalid_0's binary_logloss: 0.467048\tvalid_0's auc: 0.779092\n",
      "[7]\tvalid_0's binary_logloss: 0.455784\tvalid_0's auc: 0.777413\n",
      "[8]\tvalid_0's binary_logloss: 0.446959\tvalid_0's auc: 0.779444\n",
      "[9]\tvalid_0's binary_logloss: 0.440178\tvalid_0's auc: 0.780668\n",
      "[10]\tvalid_0's binary_logloss: 0.435681\tvalid_0's auc: 0.780565\n",
      "[11]\tvalid_0's binary_logloss: 0.431825\tvalid_0's auc: 0.781499\n",
      "[12]\tvalid_0's binary_logloss: 0.429663\tvalid_0's auc: 0.779982\n",
      "[13]\tvalid_0's binary_logloss: 0.427773\tvalid_0's auc: 0.779275\n",
      "[14]\tvalid_0's binary_logloss: 0.426096\tvalid_0's auc: 0.779625\n",
      "[15]\tvalid_0's binary_logloss: 0.42494\tvalid_0's auc: 0.779054\n",
      "[16]\tvalid_0's binary_logloss: 0.423403\tvalid_0's auc: 0.780456\n",
      "Early stopping, best iteration is:\n",
      "[11]\tvalid_0's binary_logloss: 0.431825\tvalid_0's auc: 0.781499\n"
     ]
    },
    {
     "name": "stderr",
     "output_type": "stream",
     "text": [
      "/anaconda3/lib/python3.6/site-packages/sklearn/preprocessing/label.py:151: DeprecationWarning: The truth value of an empty array is ambiguous. Returning False, but in future this will result in an error. Use `array.size > 0` to check that an array is not empty.\n",
      "  if diff:\n",
      "/anaconda3/lib/python3.6/site-packages/sklearn/preprocessing/label.py:151: DeprecationWarning: The truth value of an empty array is ambiguous. Returning False, but in future this will result in an error. Use `array.size > 0` to check that an array is not empty.\n",
      "  if diff:\n"
     ]
    },
    {
     "name": "stdout",
     "output_type": "stream",
     "text": [
      "[1]\tvalid_0's binary_logloss: 0.618569\tvalid_0's auc: 0.764364\n",
      "Training until validation scores don't improve for 5 rounds.\n",
      "[2]\tvalid_0's binary_logloss: 0.566183\tvalid_0's auc: 0.772262\n",
      "[3]\tvalid_0's binary_logloss: 0.528821\tvalid_0's auc: 0.773645\n",
      "[4]\tvalid_0's binary_logloss: 0.501824\tvalid_0's auc: 0.773752\n",
      "[5]\tvalid_0's binary_logloss: 0.481114\tvalid_0's auc: 0.775404\n",
      "[6]\tvalid_0's binary_logloss: 0.466265\tvalid_0's auc: 0.776398\n",
      "[7]\tvalid_0's binary_logloss: 0.454802\tvalid_0's auc: 0.777237\n",
      "[8]\tvalid_0's binary_logloss: 0.44571\tvalid_0's auc: 0.780913\n",
      "[9]\tvalid_0's binary_logloss: 0.439122\tvalid_0's auc: 0.782185\n",
      "[10]\tvalid_0's binary_logloss: 0.434582\tvalid_0's auc: 0.782295\n",
      "[11]\tvalid_0's binary_logloss: 0.430999\tvalid_0's auc: 0.782687\n",
      "[12]\tvalid_0's binary_logloss: 0.428954\tvalid_0's auc: 0.781333\n",
      "[13]\tvalid_0's binary_logloss: 0.426922\tvalid_0's auc: 0.782063\n",
      "[14]\tvalid_0's binary_logloss: 0.425407\tvalid_0's auc: 0.782928\n",
      "[15]\tvalid_0's binary_logloss: 0.424424\tvalid_0's auc: 0.781788\n",
      "[16]\tvalid_0's binary_logloss: 0.42367\tvalid_0's auc: 0.78202\n",
      "[17]\tvalid_0's binary_logloss: 0.42308\tvalid_0's auc: 0.782607\n",
      "[18]\tvalid_0's binary_logloss: 0.422554\tvalid_0's auc: 0.782626\n",
      "[19]\tvalid_0's binary_logloss: 0.422076\tvalid_0's auc: 0.782362\n",
      "Early stopping, best iteration is:\n",
      "[14]\tvalid_0's binary_logloss: 0.425407\tvalid_0's auc: 0.782928\n"
     ]
    },
    {
     "name": "stderr",
     "output_type": "stream",
     "text": [
      "/anaconda3/lib/python3.6/site-packages/sklearn/preprocessing/label.py:151: DeprecationWarning: The truth value of an empty array is ambiguous. Returning False, but in future this will result in an error. Use `array.size > 0` to check that an array is not empty.\n",
      "  if diff:\n",
      "/anaconda3/lib/python3.6/site-packages/sklearn/preprocessing/label.py:151: DeprecationWarning: The truth value of an empty array is ambiguous. Returning False, but in future this will result in an error. Use `array.size > 0` to check that an array is not empty.\n",
      "  if diff:\n"
     ]
    },
    {
     "name": "stdout",
     "output_type": "stream",
     "text": [
      "[1]\tvalid_0's binary_logloss: 0.617458\tvalid_0's auc: 0.771709\n",
      "Training until validation scores don't improve for 5 rounds.\n",
      "[2]\tvalid_0's binary_logloss: 0.564695\tvalid_0's auc: 0.779021\n",
      "[3]\tvalid_0's binary_logloss: 0.526611\tvalid_0's auc: 0.780723\n",
      "[4]\tvalid_0's binary_logloss: 0.499409\tvalid_0's auc: 0.777782\n",
      "[5]\tvalid_0's binary_logloss: 0.47868\tvalid_0's auc: 0.781298\n",
      "[6]\tvalid_0's binary_logloss: 0.463537\tvalid_0's auc: 0.781917\n",
      "[7]\tvalid_0's binary_logloss: 0.45236\tvalid_0's auc: 0.782713\n",
      "[8]\tvalid_0's binary_logloss: 0.444609\tvalid_0's auc: 0.781809\n",
      "[9]\tvalid_0's binary_logloss: 0.438333\tvalid_0's auc: 0.78269\n",
      "[10]\tvalid_0's binary_logloss: 0.43395\tvalid_0's auc: 0.782417\n",
      "[11]\tvalid_0's binary_logloss: 0.430077\tvalid_0's auc: 0.783655\n",
      "[12]\tvalid_0's binary_logloss: 0.427378\tvalid_0's auc: 0.784271\n",
      "[13]\tvalid_0's binary_logloss: 0.425086\tvalid_0's auc: 0.784934\n",
      "[14]\tvalid_0's binary_logloss: 0.424218\tvalid_0's auc: 0.784473\n",
      "[15]\tvalid_0's binary_logloss: 0.4234\tvalid_0's auc: 0.783577\n",
      "[16]\tvalid_0's binary_logloss: 0.4228\tvalid_0's auc: 0.783081\n",
      "[17]\tvalid_0's binary_logloss: 0.422245\tvalid_0's auc: 0.782764\n",
      "[18]\tvalid_0's binary_logloss: 0.422637\tvalid_0's auc: 0.780843\n",
      "Early stopping, best iteration is:\n",
      "[13]\tvalid_0's binary_logloss: 0.425086\tvalid_0's auc: 0.784934\n"
     ]
    },
    {
     "name": "stderr",
     "output_type": "stream",
     "text": [
      "/anaconda3/lib/python3.6/site-packages/sklearn/preprocessing/label.py:151: DeprecationWarning: The truth value of an empty array is ambiguous. Returning False, but in future this will result in an error. Use `array.size > 0` to check that an array is not empty.\n",
      "  if diff:\n",
      "/anaconda3/lib/python3.6/site-packages/sklearn/preprocessing/label.py:151: DeprecationWarning: The truth value of an empty array is ambiguous. Returning False, but in future this will result in an error. Use `array.size > 0` to check that an array is not empty.\n",
      "  if diff:\n"
     ]
    },
    {
     "name": "stdout",
     "output_type": "stream",
     "text": [
      "[1]\tvalid_0's binary_logloss: 0.619412\tvalid_0's auc: 0.760522\n",
      "Training until validation scores don't improve for 5 rounds.\n",
      "[2]\tvalid_0's binary_logloss: 0.567643\tvalid_0's auc: 0.769081\n",
      "[3]\tvalid_0's binary_logloss: 0.530453\tvalid_0's auc: 0.773686\n",
      "[4]\tvalid_0's binary_logloss: 0.502713\tvalid_0's auc: 0.778374\n",
      "[5]\tvalid_0's binary_logloss: 0.4823\tvalid_0's auc: 0.779363\n",
      "[6]\tvalid_0's binary_logloss: 0.467048\tvalid_0's auc: 0.779092\n",
      "[7]\tvalid_0's binary_logloss: 0.455784\tvalid_0's auc: 0.777413\n",
      "[8]\tvalid_0's binary_logloss: 0.446959\tvalid_0's auc: 0.779444\n",
      "[9]\tvalid_0's binary_logloss: 0.440178\tvalid_0's auc: 0.780668\n",
      "[10]\tvalid_0's binary_logloss: 0.435681\tvalid_0's auc: 0.780565\n",
      "[11]\tvalid_0's binary_logloss: 0.431825\tvalid_0's auc: 0.781499\n",
      "[12]\tvalid_0's binary_logloss: 0.429663\tvalid_0's auc: 0.779982\n",
      "[13]\tvalid_0's binary_logloss: 0.427773\tvalid_0's auc: 0.779275\n",
      "[14]\tvalid_0's binary_logloss: 0.426096\tvalid_0's auc: 0.779625\n",
      "[15]\tvalid_0's binary_logloss: 0.42494\tvalid_0's auc: 0.779054\n",
      "[16]\tvalid_0's binary_logloss: 0.423403\tvalid_0's auc: 0.780456\n",
      "Early stopping, best iteration is:\n",
      "[11]\tvalid_0's binary_logloss: 0.431825\tvalid_0's auc: 0.781499\n"
     ]
    },
    {
     "name": "stderr",
     "output_type": "stream",
     "text": [
      "/anaconda3/lib/python3.6/site-packages/sklearn/preprocessing/label.py:151: DeprecationWarning: The truth value of an empty array is ambiguous. Returning False, but in future this will result in an error. Use `array.size > 0` to check that an array is not empty.\n",
      "  if diff:\n",
      "/anaconda3/lib/python3.6/site-packages/sklearn/preprocessing/label.py:151: DeprecationWarning: The truth value of an empty array is ambiguous. Returning False, but in future this will result in an error. Use `array.size > 0` to check that an array is not empty.\n",
      "  if diff:\n"
     ]
    },
    {
     "name": "stdout",
     "output_type": "stream",
     "text": [
      "[1]\tvalid_0's binary_logloss: 0.618569\tvalid_0's auc: 0.764364\n",
      "Training until validation scores don't improve for 5 rounds.\n",
      "[2]\tvalid_0's binary_logloss: 0.566183\tvalid_0's auc: 0.772262\n",
      "[3]\tvalid_0's binary_logloss: 0.528821\tvalid_0's auc: 0.773645\n",
      "[4]\tvalid_0's binary_logloss: 0.501824\tvalid_0's auc: 0.773752\n",
      "[5]\tvalid_0's binary_logloss: 0.481114\tvalid_0's auc: 0.775404\n",
      "[6]\tvalid_0's binary_logloss: 0.466265\tvalid_0's auc: 0.776398\n",
      "[7]\tvalid_0's binary_logloss: 0.454802\tvalid_0's auc: 0.777237\n",
      "[8]\tvalid_0's binary_logloss: 0.44571\tvalid_0's auc: 0.780913\n",
      "[9]\tvalid_0's binary_logloss: 0.439122\tvalid_0's auc: 0.782185\n",
      "[10]\tvalid_0's binary_logloss: 0.434582\tvalid_0's auc: 0.782295\n",
      "[11]\tvalid_0's binary_logloss: 0.430999\tvalid_0's auc: 0.782687\n",
      "[12]\tvalid_0's binary_logloss: 0.428954\tvalid_0's auc: 0.781333\n",
      "[13]\tvalid_0's binary_logloss: 0.426922\tvalid_0's auc: 0.782063\n",
      "[14]\tvalid_0's binary_logloss: 0.425407\tvalid_0's auc: 0.782928\n",
      "[15]\tvalid_0's binary_logloss: 0.424424\tvalid_0's auc: 0.781788\n",
      "[16]\tvalid_0's binary_logloss: 0.42367\tvalid_0's auc: 0.78202\n",
      "[17]\tvalid_0's binary_logloss: 0.42308\tvalid_0's auc: 0.782607\n",
      "[18]\tvalid_0's binary_logloss: 0.422554\tvalid_0's auc: 0.782626\n",
      "[19]\tvalid_0's binary_logloss: 0.422076\tvalid_0's auc: 0.782362\n",
      "Early stopping, best iteration is:\n",
      "[14]\tvalid_0's binary_logloss: 0.425407\tvalid_0's auc: 0.782928\n"
     ]
    },
    {
     "name": "stderr",
     "output_type": "stream",
     "text": [
      "/anaconda3/lib/python3.6/site-packages/sklearn/preprocessing/label.py:151: DeprecationWarning: The truth value of an empty array is ambiguous. Returning False, but in future this will result in an error. Use `array.size > 0` to check that an array is not empty.\n",
      "  if diff:\n",
      "/anaconda3/lib/python3.6/site-packages/sklearn/preprocessing/label.py:151: DeprecationWarning: The truth value of an empty array is ambiguous. Returning False, but in future this will result in an error. Use `array.size > 0` to check that an array is not empty.\n",
      "  if diff:\n"
     ]
    },
    {
     "name": "stdout",
     "output_type": "stream",
     "text": [
      "[1]\tvalid_0's binary_logloss: 0.617458\tvalid_0's auc: 0.771709\n",
      "Training until validation scores don't improve for 5 rounds.\n",
      "[2]\tvalid_0's binary_logloss: 0.564695\tvalid_0's auc: 0.779021\n",
      "[3]\tvalid_0's binary_logloss: 0.526611\tvalid_0's auc: 0.780723\n",
      "[4]\tvalid_0's binary_logloss: 0.499409\tvalid_0's auc: 0.777782\n",
      "[5]\tvalid_0's binary_logloss: 0.47868\tvalid_0's auc: 0.781298\n",
      "[6]\tvalid_0's binary_logloss: 0.463537\tvalid_0's auc: 0.781917\n",
      "[7]\tvalid_0's binary_logloss: 0.45236\tvalid_0's auc: 0.782713\n",
      "[8]\tvalid_0's binary_logloss: 0.444609\tvalid_0's auc: 0.781809\n",
      "[9]\tvalid_0's binary_logloss: 0.438333\tvalid_0's auc: 0.78269\n",
      "[10]\tvalid_0's binary_logloss: 0.43395\tvalid_0's auc: 0.782417\n",
      "[11]\tvalid_0's binary_logloss: 0.430077\tvalid_0's auc: 0.783655\n",
      "[12]\tvalid_0's binary_logloss: 0.427378\tvalid_0's auc: 0.784271\n",
      "[13]\tvalid_0's binary_logloss: 0.425086\tvalid_0's auc: 0.784934\n",
      "[14]\tvalid_0's binary_logloss: 0.424218\tvalid_0's auc: 0.784473\n",
      "[15]\tvalid_0's binary_logloss: 0.4234\tvalid_0's auc: 0.783577\n",
      "[16]\tvalid_0's binary_logloss: 0.4228\tvalid_0's auc: 0.783081\n",
      "[17]\tvalid_0's binary_logloss: 0.422245\tvalid_0's auc: 0.782764\n",
      "[18]\tvalid_0's binary_logloss: 0.422637\tvalid_0's auc: 0.780843\n",
      "Early stopping, best iteration is:\n",
      "[13]\tvalid_0's binary_logloss: 0.425086\tvalid_0's auc: 0.784934\n"
     ]
    },
    {
     "name": "stderr",
     "output_type": "stream",
     "text": [
      "/anaconda3/lib/python3.6/site-packages/sklearn/preprocessing/label.py:151: DeprecationWarning: The truth value of an empty array is ambiguous. Returning False, but in future this will result in an error. Use `array.size > 0` to check that an array is not empty.\n",
      "  if diff:\n",
      "/anaconda3/lib/python3.6/site-packages/sklearn/preprocessing/label.py:151: DeprecationWarning: The truth value of an empty array is ambiguous. Returning False, but in future this will result in an error. Use `array.size > 0` to check that an array is not empty.\n",
      "  if diff:\n"
     ]
    },
    {
     "name": "stdout",
     "output_type": "stream",
     "text": [
      "[1]\tvalid_0's binary_logloss: 0.619412\tvalid_0's auc: 0.760522\n",
      "Training until validation scores don't improve for 5 rounds.\n",
      "[2]\tvalid_0's binary_logloss: 0.567643\tvalid_0's auc: 0.769081\n",
      "[3]\tvalid_0's binary_logloss: 0.530453\tvalid_0's auc: 0.773686\n",
      "[4]\tvalid_0's binary_logloss: 0.502713\tvalid_0's auc: 0.778374\n",
      "[5]\tvalid_0's binary_logloss: 0.4823\tvalid_0's auc: 0.779363\n",
      "[6]\tvalid_0's binary_logloss: 0.467048\tvalid_0's auc: 0.779092\n",
      "[7]\tvalid_0's binary_logloss: 0.455784\tvalid_0's auc: 0.777413\n",
      "[8]\tvalid_0's binary_logloss: 0.446959\tvalid_0's auc: 0.779444\n",
      "[9]\tvalid_0's binary_logloss: 0.440178\tvalid_0's auc: 0.780668\n",
      "[10]\tvalid_0's binary_logloss: 0.435681\tvalid_0's auc: 0.780565\n",
      "[11]\tvalid_0's binary_logloss: 0.431825\tvalid_0's auc: 0.781499\n",
      "[12]\tvalid_0's binary_logloss: 0.429663\tvalid_0's auc: 0.779982\n",
      "[13]\tvalid_0's binary_logloss: 0.427773\tvalid_0's auc: 0.779275\n",
      "[14]\tvalid_0's binary_logloss: 0.426096\tvalid_0's auc: 0.779625\n",
      "[15]\tvalid_0's binary_logloss: 0.42494\tvalid_0's auc: 0.779054\n",
      "[16]\tvalid_0's binary_logloss: 0.423403\tvalid_0's auc: 0.780456\n",
      "Early stopping, best iteration is:\n",
      "[11]\tvalid_0's binary_logloss: 0.431825\tvalid_0's auc: 0.781499\n"
     ]
    },
    {
     "name": "stderr",
     "output_type": "stream",
     "text": [
      "/anaconda3/lib/python3.6/site-packages/sklearn/preprocessing/label.py:151: DeprecationWarning: The truth value of an empty array is ambiguous. Returning False, but in future this will result in an error. Use `array.size > 0` to check that an array is not empty.\n",
      "  if diff:\n",
      "/anaconda3/lib/python3.6/site-packages/sklearn/preprocessing/label.py:151: DeprecationWarning: The truth value of an empty array is ambiguous. Returning False, but in future this will result in an error. Use `array.size > 0` to check that an array is not empty.\n",
      "  if diff:\n"
     ]
    },
    {
     "name": "stdout",
     "output_type": "stream",
     "text": [
      "[1]\tvalid_0's binary_logloss: 0.618569\tvalid_0's auc: 0.764364\n",
      "Training until validation scores don't improve for 5 rounds.\n",
      "[2]\tvalid_0's binary_logloss: 0.566183\tvalid_0's auc: 0.772262\n",
      "[3]\tvalid_0's binary_logloss: 0.528821\tvalid_0's auc: 0.773645\n",
      "[4]\tvalid_0's binary_logloss: 0.501824\tvalid_0's auc: 0.773752\n",
      "[5]\tvalid_0's binary_logloss: 0.481114\tvalid_0's auc: 0.775404\n",
      "[6]\tvalid_0's binary_logloss: 0.466265\tvalid_0's auc: 0.776398\n",
      "[7]\tvalid_0's binary_logloss: 0.454802\tvalid_0's auc: 0.777237\n",
      "[8]\tvalid_0's binary_logloss: 0.44571\tvalid_0's auc: 0.780913\n",
      "[9]\tvalid_0's binary_logloss: 0.439122\tvalid_0's auc: 0.782185\n",
      "[10]\tvalid_0's binary_logloss: 0.434582\tvalid_0's auc: 0.782295\n",
      "[11]\tvalid_0's binary_logloss: 0.430999\tvalid_0's auc: 0.782687\n",
      "[12]\tvalid_0's binary_logloss: 0.428954\tvalid_0's auc: 0.781333\n",
      "[13]\tvalid_0's binary_logloss: 0.426922\tvalid_0's auc: 0.782063\n",
      "[14]\tvalid_0's binary_logloss: 0.425407\tvalid_0's auc: 0.782928\n",
      "[15]\tvalid_0's binary_logloss: 0.424424\tvalid_0's auc: 0.781788\n",
      "[16]\tvalid_0's binary_logloss: 0.42367\tvalid_0's auc: 0.78202\n",
      "[17]\tvalid_0's binary_logloss: 0.42308\tvalid_0's auc: 0.782607\n",
      "[18]\tvalid_0's binary_logloss: 0.422554\tvalid_0's auc: 0.782626\n",
      "[19]\tvalid_0's binary_logloss: 0.422076\tvalid_0's auc: 0.782362\n",
      "Early stopping, best iteration is:\n",
      "[14]\tvalid_0's binary_logloss: 0.425407\tvalid_0's auc: 0.782928\n"
     ]
    },
    {
     "name": "stderr",
     "output_type": "stream",
     "text": [
      "/anaconda3/lib/python3.6/site-packages/sklearn/preprocessing/label.py:151: DeprecationWarning: The truth value of an empty array is ambiguous. Returning False, but in future this will result in an error. Use `array.size > 0` to check that an array is not empty.\n",
      "  if diff:\n",
      "/anaconda3/lib/python3.6/site-packages/sklearn/preprocessing/label.py:151: DeprecationWarning: The truth value of an empty array is ambiguous. Returning False, but in future this will result in an error. Use `array.size > 0` to check that an array is not empty.\n",
      "  if diff:\n"
     ]
    },
    {
     "name": "stdout",
     "output_type": "stream",
     "text": [
      "[1]\tvalid_0's binary_logloss: 0.617458\tvalid_0's auc: 0.771709\n",
      "Training until validation scores don't improve for 5 rounds.\n",
      "[2]\tvalid_0's binary_logloss: 0.564695\tvalid_0's auc: 0.779021\n",
      "[3]\tvalid_0's binary_logloss: 0.526611\tvalid_0's auc: 0.780723\n",
      "[4]\tvalid_0's binary_logloss: 0.499409\tvalid_0's auc: 0.777782\n",
      "[5]\tvalid_0's binary_logloss: 0.47868\tvalid_0's auc: 0.781298\n",
      "[6]\tvalid_0's binary_logloss: 0.463537\tvalid_0's auc: 0.781917\n",
      "[7]\tvalid_0's binary_logloss: 0.45236\tvalid_0's auc: 0.782713\n",
      "[8]\tvalid_0's binary_logloss: 0.444609\tvalid_0's auc: 0.781809\n",
      "[9]\tvalid_0's binary_logloss: 0.438333\tvalid_0's auc: 0.78269\n",
      "[10]\tvalid_0's binary_logloss: 0.43395\tvalid_0's auc: 0.782417\n",
      "[11]\tvalid_0's binary_logloss: 0.430077\tvalid_0's auc: 0.783655\n",
      "[12]\tvalid_0's binary_logloss: 0.427378\tvalid_0's auc: 0.784271\n",
      "[13]\tvalid_0's binary_logloss: 0.425086\tvalid_0's auc: 0.784934\n",
      "[14]\tvalid_0's binary_logloss: 0.424218\tvalid_0's auc: 0.784473\n",
      "[15]\tvalid_0's binary_logloss: 0.4234\tvalid_0's auc: 0.783577\n",
      "[16]\tvalid_0's binary_logloss: 0.4228\tvalid_0's auc: 0.783081\n",
      "[17]\tvalid_0's binary_logloss: 0.422245\tvalid_0's auc: 0.782764\n",
      "[18]\tvalid_0's binary_logloss: 0.422637\tvalid_0's auc: 0.780843\n",
      "Early stopping, best iteration is:\n",
      "[13]\tvalid_0's binary_logloss: 0.425086\tvalid_0's auc: 0.784934\n"
     ]
    },
    {
     "name": "stderr",
     "output_type": "stream",
     "text": [
      "/anaconda3/lib/python3.6/site-packages/sklearn/preprocessing/label.py:151: DeprecationWarning: The truth value of an empty array is ambiguous. Returning False, but in future this will result in an error. Use `array.size > 0` to check that an array is not empty.\n",
      "  if diff:\n",
      "/anaconda3/lib/python3.6/site-packages/sklearn/preprocessing/label.py:151: DeprecationWarning: The truth value of an empty array is ambiguous. Returning False, but in future this will result in an error. Use `array.size > 0` to check that an array is not empty.\n",
      "  if diff:\n"
     ]
    },
    {
     "name": "stdout",
     "output_type": "stream",
     "text": [
      "[1]\tvalid_0's binary_logloss: 0.619412\tvalid_0's auc: 0.760522\n",
      "Training until validation scores don't improve for 5 rounds.\n",
      "[2]\tvalid_0's binary_logloss: 0.567643\tvalid_0's auc: 0.769081\n",
      "[3]\tvalid_0's binary_logloss: 0.530453\tvalid_0's auc: 0.773686\n",
      "[4]\tvalid_0's binary_logloss: 0.502713\tvalid_0's auc: 0.778374\n",
      "[5]\tvalid_0's binary_logloss: 0.4823\tvalid_0's auc: 0.779363\n",
      "[6]\tvalid_0's binary_logloss: 0.467048\tvalid_0's auc: 0.779092\n",
      "[7]\tvalid_0's binary_logloss: 0.455784\tvalid_0's auc: 0.777413\n",
      "[8]\tvalid_0's binary_logloss: 0.446959\tvalid_0's auc: 0.779444\n",
      "[9]\tvalid_0's binary_logloss: 0.440178\tvalid_0's auc: 0.780668\n",
      "[10]\tvalid_0's binary_logloss: 0.435681\tvalid_0's auc: 0.780565\n",
      "[11]\tvalid_0's binary_logloss: 0.431825\tvalid_0's auc: 0.781499\n",
      "[12]\tvalid_0's binary_logloss: 0.429663\tvalid_0's auc: 0.779982\n",
      "[13]\tvalid_0's binary_logloss: 0.427773\tvalid_0's auc: 0.779275\n",
      "[14]\tvalid_0's binary_logloss: 0.426096\tvalid_0's auc: 0.779625\n",
      "[15]\tvalid_0's binary_logloss: 0.42494\tvalid_0's auc: 0.779054\n",
      "[16]\tvalid_0's binary_logloss: 0.423403\tvalid_0's auc: 0.780456\n",
      "Early stopping, best iteration is:\n",
      "[11]\tvalid_0's binary_logloss: 0.431825\tvalid_0's auc: 0.781499\n"
     ]
    },
    {
     "name": "stderr",
     "output_type": "stream",
     "text": [
      "/anaconda3/lib/python3.6/site-packages/sklearn/preprocessing/label.py:151: DeprecationWarning: The truth value of an empty array is ambiguous. Returning False, but in future this will result in an error. Use `array.size > 0` to check that an array is not empty.\n",
      "  if diff:\n",
      "/anaconda3/lib/python3.6/site-packages/sklearn/preprocessing/label.py:151: DeprecationWarning: The truth value of an empty array is ambiguous. Returning False, but in future this will result in an error. Use `array.size > 0` to check that an array is not empty.\n",
      "  if diff:\n"
     ]
    },
    {
     "name": "stdout",
     "output_type": "stream",
     "text": [
      "[1]\tvalid_0's binary_logloss: 0.618569\tvalid_0's auc: 0.764364\n",
      "Training until validation scores don't improve for 5 rounds.\n",
      "[2]\tvalid_0's binary_logloss: 0.566183\tvalid_0's auc: 0.772262\n",
      "[3]\tvalid_0's binary_logloss: 0.528821\tvalid_0's auc: 0.773645\n",
      "[4]\tvalid_0's binary_logloss: 0.501824\tvalid_0's auc: 0.773752\n",
      "[5]\tvalid_0's binary_logloss: 0.481114\tvalid_0's auc: 0.775404\n",
      "[6]\tvalid_0's binary_logloss: 0.466265\tvalid_0's auc: 0.776398\n",
      "[7]\tvalid_0's binary_logloss: 0.454802\tvalid_0's auc: 0.777237\n",
      "[8]\tvalid_0's binary_logloss: 0.44571\tvalid_0's auc: 0.780913\n",
      "[9]\tvalid_0's binary_logloss: 0.439122\tvalid_0's auc: 0.782185\n",
      "[10]\tvalid_0's binary_logloss: 0.434582\tvalid_0's auc: 0.782295\n",
      "[11]\tvalid_0's binary_logloss: 0.430999\tvalid_0's auc: 0.782687\n",
      "[12]\tvalid_0's binary_logloss: 0.428954\tvalid_0's auc: 0.781333\n",
      "[13]\tvalid_0's binary_logloss: 0.426922\tvalid_0's auc: 0.782063\n",
      "[14]\tvalid_0's binary_logloss: 0.425407\tvalid_0's auc: 0.782928\n",
      "[15]\tvalid_0's binary_logloss: 0.424424\tvalid_0's auc: 0.781788\n",
      "[16]\tvalid_0's binary_logloss: 0.42367\tvalid_0's auc: 0.78202\n",
      "[17]\tvalid_0's binary_logloss: 0.42308\tvalid_0's auc: 0.782607\n",
      "[18]\tvalid_0's binary_logloss: 0.422554\tvalid_0's auc: 0.782626\n",
      "[19]\tvalid_0's binary_logloss: 0.422076\tvalid_0's auc: 0.782362\n",
      "Early stopping, best iteration is:\n",
      "[14]\tvalid_0's binary_logloss: 0.425407\tvalid_0's auc: 0.782928\n"
     ]
    },
    {
     "name": "stderr",
     "output_type": "stream",
     "text": [
      "/anaconda3/lib/python3.6/site-packages/sklearn/preprocessing/label.py:151: DeprecationWarning: The truth value of an empty array is ambiguous. Returning False, but in future this will result in an error. Use `array.size > 0` to check that an array is not empty.\n",
      "  if diff:\n",
      "/anaconda3/lib/python3.6/site-packages/sklearn/preprocessing/label.py:151: DeprecationWarning: The truth value of an empty array is ambiguous. Returning False, but in future this will result in an error. Use `array.size > 0` to check that an array is not empty.\n",
      "  if diff:\n"
     ]
    },
    {
     "name": "stdout",
     "output_type": "stream",
     "text": [
      "[1]\tvalid_0's binary_logloss: 0.617458\tvalid_0's auc: 0.771709\n",
      "Training until validation scores don't improve for 5 rounds.\n",
      "[2]\tvalid_0's binary_logloss: 0.564695\tvalid_0's auc: 0.779021\n",
      "[3]\tvalid_0's binary_logloss: 0.526611\tvalid_0's auc: 0.780723\n",
      "[4]\tvalid_0's binary_logloss: 0.499409\tvalid_0's auc: 0.777782\n",
      "[5]\tvalid_0's binary_logloss: 0.47868\tvalid_0's auc: 0.781298\n",
      "[6]\tvalid_0's binary_logloss: 0.463537\tvalid_0's auc: 0.781917\n",
      "[7]\tvalid_0's binary_logloss: 0.45236\tvalid_0's auc: 0.782713\n",
      "[8]\tvalid_0's binary_logloss: 0.444609\tvalid_0's auc: 0.781809\n",
      "[9]\tvalid_0's binary_logloss: 0.438333\tvalid_0's auc: 0.78269\n",
      "[10]\tvalid_0's binary_logloss: 0.43395\tvalid_0's auc: 0.782417\n",
      "[11]\tvalid_0's binary_logloss: 0.430077\tvalid_0's auc: 0.783655\n",
      "[12]\tvalid_0's binary_logloss: 0.427378\tvalid_0's auc: 0.784271\n",
      "[13]\tvalid_0's binary_logloss: 0.425086\tvalid_0's auc: 0.784934\n",
      "[14]\tvalid_0's binary_logloss: 0.424218\tvalid_0's auc: 0.784473\n",
      "[15]\tvalid_0's binary_logloss: 0.4234\tvalid_0's auc: 0.783577\n",
      "[16]\tvalid_0's binary_logloss: 0.4228\tvalid_0's auc: 0.783081\n",
      "[17]\tvalid_0's binary_logloss: 0.422245\tvalid_0's auc: 0.782764\n",
      "[18]\tvalid_0's binary_logloss: 0.422637\tvalid_0's auc: 0.780843\n",
      "Early stopping, best iteration is:\n",
      "[13]\tvalid_0's binary_logloss: 0.425086\tvalid_0's auc: 0.784934\n"
     ]
    },
    {
     "name": "stderr",
     "output_type": "stream",
     "text": [
      "/anaconda3/lib/python3.6/site-packages/sklearn/preprocessing/label.py:151: DeprecationWarning: The truth value of an empty array is ambiguous. Returning False, but in future this will result in an error. Use `array.size > 0` to check that an array is not empty.\n",
      "  if diff:\n",
      "/anaconda3/lib/python3.6/site-packages/sklearn/preprocessing/label.py:151: DeprecationWarning: The truth value of an empty array is ambiguous. Returning False, but in future this will result in an error. Use `array.size > 0` to check that an array is not empty.\n",
      "  if diff:\n",
      "/anaconda3/lib/python3.6/site-packages/sklearn/preprocessing/label.py:151: DeprecationWarning: The truth value of an empty array is ambiguous. Returning False, but in future this will result in an error. Use `array.size > 0` to check that an array is not empty.\n",
      "  if diff:\n"
     ]
    },
    {
     "name": "stdout",
     "output_type": "stream",
     "text": [
      "[1]\tvalid_0's binary_logloss: 0.610027\tvalid_0's auc: 0.760522\n",
      "Training until validation scores don't improve for 5 rounds.\n",
      "[2]\tvalid_0's binary_logloss: 0.55467\tvalid_0's auc: 0.771193\n",
      "[3]\tvalid_0's binary_logloss: 0.516617\tvalid_0's auc: 0.775548\n",
      "[4]\tvalid_0's binary_logloss: 0.489506\tvalid_0's auc: 0.777771\n",
      "[5]\tvalid_0's binary_logloss: 0.470347\tvalid_0's auc: 0.779584\n",
      "[6]\tvalid_0's binary_logloss: 0.456355\tvalid_0's auc: 0.779525\n",
      "[7]\tvalid_0's binary_logloss: 0.445511\tvalid_0's auc: 0.78263\n",
      "[8]\tvalid_0's binary_logloss: 0.438141\tvalid_0's auc: 0.783365\n",
      "[9]\tvalid_0's binary_logloss: 0.433367\tvalid_0's auc: 0.782543\n",
      "[10]\tvalid_0's binary_logloss: 0.430283\tvalid_0's auc: 0.78107\n",
      "[11]\tvalid_0's binary_logloss: 0.427801\tvalid_0's auc: 0.780288\n",
      "[12]\tvalid_0's binary_logloss: 0.426201\tvalid_0's auc: 0.779816\n",
      "[13]\tvalid_0's binary_logloss: 0.424854\tvalid_0's auc: 0.779909\n",
      "Early stopping, best iteration is:\n",
      "[8]\tvalid_0's binary_logloss: 0.438141\tvalid_0's auc: 0.783365\n"
     ]
    },
    {
     "name": "stderr",
     "output_type": "stream",
     "text": [
      "/anaconda3/lib/python3.6/site-packages/sklearn/preprocessing/label.py:151: DeprecationWarning: The truth value of an empty array is ambiguous. Returning False, but in future this will result in an error. Use `array.size > 0` to check that an array is not empty.\n",
      "  if diff:\n"
     ]
    },
    {
     "name": "stdout",
     "output_type": "stream",
     "text": [
      "[1]\tvalid_0's binary_logloss: 0.609094\tvalid_0's auc: 0.764364\n",
      "Training until validation scores don't improve for 5 rounds.\n",
      "[2]\tvalid_0's binary_logloss: 0.553796\tvalid_0's auc: 0.769873\n",
      "[3]\tvalid_0's binary_logloss: 0.515257\tvalid_0's auc: 0.774781\n",
      "[4]\tvalid_0's binary_logloss: 0.488753\tvalid_0's auc: 0.773848\n",
      "[5]\tvalid_0's binary_logloss: 0.470117\tvalid_0's auc: 0.776829\n",
      "[6]\tvalid_0's binary_logloss: 0.4571\tvalid_0's auc: 0.775772\n",
      "[7]\tvalid_0's binary_logloss: 0.447325\tvalid_0's auc: 0.777018\n",
      "[8]\tvalid_0's binary_logloss: 0.440418\tvalid_0's auc: 0.776698\n",
      "[9]\tvalid_0's binary_logloss: 0.435754\tvalid_0's auc: 0.775964\n",
      "[10]\tvalid_0's binary_logloss: 0.431592\tvalid_0's auc: 0.77775\n",
      "[11]\tvalid_0's binary_logloss: 0.428332\tvalid_0's auc: 0.780811\n",
      "[12]\tvalid_0's binary_logloss: 0.426852\tvalid_0's auc: 0.779375\n",
      "[13]\tvalid_0's binary_logloss: 0.425171\tvalid_0's auc: 0.780526\n",
      "[14]\tvalid_0's binary_logloss: 0.423738\tvalid_0's auc: 0.78094\n",
      "[15]\tvalid_0's binary_logloss: 0.423525\tvalid_0's auc: 0.780652\n",
      "[16]\tvalid_0's binary_logloss: 0.42302\tvalid_0's auc: 0.78134\n",
      "[17]\tvalid_0's binary_logloss: 0.423123\tvalid_0's auc: 0.780661\n",
      "[18]\tvalid_0's binary_logloss: 0.423751\tvalid_0's auc: 0.778946\n",
      "[19]\tvalid_0's binary_logloss: 0.423636\tvalid_0's auc: 0.778147\n",
      "[20]\tvalid_0's binary_logloss: 0.423676\tvalid_0's auc: 0.778038\n",
      "[1]\tvalid_0's binary_logloss: 0.607842\tvalid_0's auc: 0.771709\n",
      "Training until validation scores don't improve for 5 rounds.\n",
      "[2]\tvalid_0's binary_logloss: 0.551378\tvalid_0's auc: 0.779083\n",
      "[3]\tvalid_0's binary_logloss: 0.512876\tvalid_0's auc: 0.779158\n",
      "[4]\tvalid_0's binary_logloss: 0.485973\tvalid_0's auc: 0.779495\n",
      "[5]\tvalid_0's binary_logloss: 0.466875\tvalid_0's auc: 0.780551\n",
      "[6]\tvalid_0's binary_logloss: 0.453922\tvalid_0's auc: 0.779441\n",
      "[7]\tvalid_0's binary_logloss: 0.443921\tvalid_0's auc: 0.782188\n",
      "[8]\tvalid_0's binary_logloss: 0.436338\tvalid_0's auc: 0.783429\n",
      "[9]\tvalid_0's binary_logloss: 0.431497\tvalid_0's auc: 0.783949\n",
      "[10]\tvalid_0's binary_logloss: 0.427679\tvalid_0's auc: 0.784487\n",
      "[11]\tvalid_0's binary_logloss: 0.425355\tvalid_0's auc: 0.784467\n",
      "[12]\tvalid_0's binary_logloss: 0.422874\tvalid_0's auc: 0.786008\n",
      "[13]\tvalid_0's binary_logloss: 0.421913\tvalid_0's auc: 0.785443\n",
      "[14]\tvalid_0's binary_logloss: 0.420655\tvalid_0's auc: 0.786165\n",
      "[15]\tvalid_0's binary_logloss: 0.420381\tvalid_0's auc: 0.786132\n"
     ]
    },
    {
     "name": "stderr",
     "output_type": "stream",
     "text": [
      "/anaconda3/lib/python3.6/site-packages/sklearn/preprocessing/label.py:151: DeprecationWarning: The truth value of an empty array is ambiguous. Returning False, but in future this will result in an error. Use `array.size > 0` to check that an array is not empty.\n",
      "  if diff:\n",
      "/anaconda3/lib/python3.6/site-packages/sklearn/preprocessing/label.py:151: DeprecationWarning: The truth value of an empty array is ambiguous. Returning False, but in future this will result in an error. Use `array.size > 0` to check that an array is not empty.\n",
      "  if diff:\n"
     ]
    },
    {
     "name": "stdout",
     "output_type": "stream",
     "text": [
      "[16]\tvalid_0's binary_logloss: 0.420154\tvalid_0's auc: 0.78556\n",
      "[17]\tvalid_0's binary_logloss: 0.41964\tvalid_0's auc: 0.785817\n",
      "[18]\tvalid_0's binary_logloss: 0.419203\tvalid_0's auc: 0.786579\n",
      "[19]\tvalid_0's binary_logloss: 0.419614\tvalid_0's auc: 0.785923\n",
      "[20]\tvalid_0's binary_logloss: 0.419317\tvalid_0's auc: 0.78585\n",
      "[1]\tvalid_0's binary_logloss: 0.610027\tvalid_0's auc: 0.760522\n",
      "Training until validation scores don't improve for 5 rounds.\n",
      "[2]\tvalid_0's binary_logloss: 0.55467\tvalid_0's auc: 0.771193\n",
      "[3]\tvalid_0's binary_logloss: 0.516617\tvalid_0's auc: 0.775548\n"
     ]
    },
    {
     "name": "stderr",
     "output_type": "stream",
     "text": [
      "/anaconda3/lib/python3.6/site-packages/sklearn/preprocessing/label.py:151: DeprecationWarning: The truth value of an empty array is ambiguous. Returning False, but in future this will result in an error. Use `array.size > 0` to check that an array is not empty.\n",
      "  if diff:\n",
      "/anaconda3/lib/python3.6/site-packages/sklearn/preprocessing/label.py:151: DeprecationWarning: The truth value of an empty array is ambiguous. Returning False, but in future this will result in an error. Use `array.size > 0` to check that an array is not empty.\n",
      "  if diff:\n"
     ]
    },
    {
     "name": "stdout",
     "output_type": "stream",
     "text": [
      "[4]\tvalid_0's binary_logloss: 0.489506\tvalid_0's auc: 0.777771\n",
      "[5]\tvalid_0's binary_logloss: 0.470347\tvalid_0's auc: 0.779584\n",
      "[6]\tvalid_0's binary_logloss: 0.456355\tvalid_0's auc: 0.779525\n",
      "[7]\tvalid_0's binary_logloss: 0.445511\tvalid_0's auc: 0.78263\n",
      "[8]\tvalid_0's binary_logloss: 0.438141\tvalid_0's auc: 0.783365\n",
      "[9]\tvalid_0's binary_logloss: 0.433367\tvalid_0's auc: 0.782543\n",
      "[10]\tvalid_0's binary_logloss: 0.430283\tvalid_0's auc: 0.78107\n",
      "[11]\tvalid_0's binary_logloss: 0.427801\tvalid_0's auc: 0.780288\n",
      "[12]\tvalid_0's binary_logloss: 0.426201\tvalid_0's auc: 0.779816\n",
      "[13]\tvalid_0's binary_logloss: 0.424854\tvalid_0's auc: 0.779909\n",
      "Early stopping, best iteration is:\n",
      "[8]\tvalid_0's binary_logloss: 0.438141\tvalid_0's auc: 0.783365\n",
      "[1]\tvalid_0's binary_logloss: 0.609094\tvalid_0's auc: 0.764364\n",
      "Training until validation scores don't improve for 5 rounds.\n",
      "[2]\tvalid_0's binary_logloss: 0.553796\tvalid_0's auc: 0.769873\n",
      "[3]\tvalid_0's binary_logloss: 0.515257\tvalid_0's auc: 0.774781\n",
      "[4]\tvalid_0's binary_logloss: 0.488753\tvalid_0's auc: 0.773848\n",
      "[5]\tvalid_0's binary_logloss: 0.470117\tvalid_0's auc: 0.776829\n",
      "[6]\tvalid_0's binary_logloss: 0.4571\tvalid_0's auc: 0.775772\n",
      "[7]\tvalid_0's binary_logloss: 0.447325\tvalid_0's auc: 0.777018\n",
      "[8]\tvalid_0's binary_logloss: 0.440418\tvalid_0's auc: 0.776698\n",
      "[9]\tvalid_0's binary_logloss: 0.435754\tvalid_0's auc: 0.775964"
     ]
    },
    {
     "name": "stderr",
     "output_type": "stream",
     "text": [
      "/anaconda3/lib/python3.6/site-packages/sklearn/preprocessing/label.py:151: DeprecationWarning: The truth value of an empty array is ambiguous. Returning False, but in future this will result in an error. Use `array.size > 0` to check that an array is not empty.\n",
      "  if diff:\n",
      "/anaconda3/lib/python3.6/site-packages/sklearn/preprocessing/label.py:151: DeprecationWarning: The truth value of an empty array is ambiguous. Returning False, but in future this will result in an error. Use `array.size > 0` to check that an array is not empty.\n",
      "  if diff:\n",
      "/anaconda3/lib/python3.6/site-packages/sklearn/preprocessing/label.py:151: DeprecationWarning: The truth value of an empty array is ambiguous. Returning False, but in future this will result in an error. Use `array.size > 0` to check that an array is not empty.\n",
      "  if diff:\n"
     ]
    },
    {
     "name": "stdout",
     "output_type": "stream",
     "text": [
      "\n",
      "[10]\tvalid_0's binary_logloss: 0.431592\tvalid_0's auc: 0.77775\n",
      "[11]\tvalid_0's binary_logloss: 0.428332\tvalid_0's auc: 0.780811\n",
      "[12]\tvalid_0's binary_logloss: 0.426852\tvalid_0's auc: 0.779375\n",
      "[13]\tvalid_0's binary_logloss: 0.425171\tvalid_0's auc: 0.780526\n",
      "[14]\tvalid_0's binary_logloss: 0.423738\tvalid_0's auc: 0.78094\n",
      "[15]\tvalid_0's binary_logloss: 0.423525\tvalid_0's auc: 0.780652\n",
      "[16]\tvalid_0's binary_logloss: 0.42302\tvalid_0's auc: 0.78134\n",
      "[17]\tvalid_0's binary_logloss: 0.423123\tvalid_0's auc: 0.780661\n",
      "[18]\tvalid_0's binary_logloss: 0.423751\tvalid_0's auc: 0.778946\n",
      "[19]\tvalid_0's binary_logloss: 0.423636\tvalid_0's auc: 0.778147\n",
      "[20]\tvalid_0's binary_logloss: 0.423676\tvalid_0's auc: 0.778038\n",
      "[21]\tvalid_0's binary_logloss: 0.423287\tvalid_0's auc: 0.778477\n",
      "Early stopping, best iteration is:\n",
      "[16]\tvalid_0's binary_logloss: 0.42302\tvalid_0's auc: 0.78134\n",
      "[1]\tvalid_0's binary_logloss: 0.607842\tvalid_0's auc: 0.771709\n",
      "Training until validation scores don't improve for 5 rounds.\n",
      "[2]\tvalid_0's binary_logloss: 0.551378\tvalid_0's auc: 0.779083\n",
      "[3]\tvalid_0's binary_logloss: 0.512876\tvalid_0's auc: 0.779158\n"
     ]
    },
    {
     "name": "stderr",
     "output_type": "stream",
     "text": [
      "/anaconda3/lib/python3.6/site-packages/sklearn/preprocessing/label.py:151: DeprecationWarning: The truth value of an empty array is ambiguous. Returning False, but in future this will result in an error. Use `array.size > 0` to check that an array is not empty.\n",
      "  if diff:\n"
     ]
    },
    {
     "name": "stdout",
     "output_type": "stream",
     "text": [
      "[4]\tvalid_0's binary_logloss: 0.485973\tvalid_0's auc: 0.779495\n",
      "[5]\tvalid_0's binary_logloss: 0.466875\tvalid_0's auc: 0.780551\n",
      "[6]\tvalid_0's binary_logloss: 0.453922\tvalid_0's auc: 0.779441\n",
      "[7]\tvalid_0's binary_logloss: 0.443921\tvalid_0's auc: 0.782188\n",
      "[8]\tvalid_0's binary_logloss: 0.436338\tvalid_0's auc: 0.783429\n",
      "[9]\tvalid_0's binary_logloss: 0.431497\tvalid_0's auc: 0.783949\n",
      "[10]\tvalid_0's binary_logloss: 0.427679\tvalid_0's auc: 0.784487\n",
      "[11]\tvalid_0's binary_logloss: 0.425355\tvalid_0's auc: 0.784467\n",
      "[12]\tvalid_0's binary_logloss: 0.422874\tvalid_0's auc: 0.786008\n",
      "[13]\tvalid_0's binary_logloss: 0.421913\tvalid_0's auc: 0.785443\n",
      "[14]\tvalid_0's binary_logloss: 0.420655\tvalid_0's auc: 0.786165\n",
      "[15]\tvalid_0's binary_logloss: 0.420381\tvalid_0's auc: 0.786132\n",
      "[16]\tvalid_0's binary_logloss: 0.420154\tvalid_0's auc: 0.78556\n",
      "[17]\tvalid_0's binary_logloss: 0.41964\tvalid_0's auc: 0.785817\n",
      "[18]\tvalid_0's binary_logloss: 0.419203\tvalid_0's auc: 0.786579\n",
      "[19]\tvalid_0's binary_logloss: 0.419614\tvalid_0's auc: 0.785923\n",
      "[20]\tvalid_0's binary_logloss: 0.419317\tvalid_0's auc: 0.78585\n",
      "[21]\tvalid_0's binary_logloss: 0.419215\tvalid_0's auc: 0.786303\n",
      "[22]\tvalid_0's binary_logloss: 0.419607\tvalid_0's auc: 0.785145\n"
     ]
    },
    {
     "name": "stderr",
     "output_type": "stream",
     "text": [
      "/anaconda3/lib/python3.6/site-packages/sklearn/preprocessing/label.py:151: DeprecationWarning: The truth value of an empty array is ambiguous. Returning False, but in future this will result in an error. Use `array.size > 0` to check that an array is not empty.\n",
      "  if diff:\n",
      "/anaconda3/lib/python3.6/site-packages/sklearn/preprocessing/label.py:151: DeprecationWarning: The truth value of an empty array is ambiguous. Returning False, but in future this will result in an error. Use `array.size > 0` to check that an array is not empty.\n",
      "  if diff:\n"
     ]
    },
    {
     "name": "stdout",
     "output_type": "stream",
     "text": [
      "[1]\tvalid_0's binary_logloss: 0.610027\tvalid_0's auc: 0.760522\n",
      "Training until validation scores don't improve for 5 rounds.\n",
      "[2]\tvalid_0's binary_logloss: 0.55467\tvalid_0's auc: 0.771193\n",
      "[3]\tvalid_0's binary_logloss: 0.516617\tvalid_0's auc: 0.775548\n",
      "[4]\tvalid_0's binary_logloss: 0.489506\tvalid_0's auc: 0.777771\n",
      "[5]\tvalid_0's binary_logloss: 0.470347\tvalid_0's auc: 0.779584\n",
      "[6]\tvalid_0's binary_logloss: 0.456355\tvalid_0's auc: 0.779525\n",
      "[7]\tvalid_0's binary_logloss: 0.445511\tvalid_0's auc: 0.78263\n",
      "[8]\tvalid_0's binary_logloss: 0.438141\tvalid_0's auc: 0.783365\n",
      "[9]\tvalid_0's binary_logloss: 0.433367\tvalid_0's auc: 0.782543\n",
      "[10]\tvalid_0's binary_logloss: 0.430283\tvalid_0's auc: 0.78107\n",
      "[11]\tvalid_0's binary_logloss: 0.427801\tvalid_0's auc: 0.780288\n",
      "[12]\tvalid_0's binary_logloss: 0.426201\tvalid_0's auc: 0.779816\n",
      "[13]\tvalid_0's binary_logloss: 0.424854\tvalid_0's auc: 0.779909\n",
      "Early stopping, best iteration is:\n",
      "[8]\tvalid_0's binary_logloss: 0.438141\tvalid_0's auc: 0.783365\n",
      "[1]\tvalid_0's binary_logloss: 0.609094\tvalid_0's auc: 0.764364\n",
      "Training until validation scores don't improve for 5 rounds.\n",
      "[2]\tvalid_0's binary_logloss: 0.553796\tvalid_0's auc: 0.769873\n",
      "[3]\tvalid_0's binary_logloss: 0.515257\tvalid_0's auc: 0.774781\n"
     ]
    },
    {
     "name": "stderr",
     "output_type": "stream",
     "text": [
      "/anaconda3/lib/python3.6/site-packages/sklearn/preprocessing/label.py:151: DeprecationWarning: The truth value of an empty array is ambiguous. Returning False, but in future this will result in an error. Use `array.size > 0` to check that an array is not empty.\n",
      "  if diff:\n",
      "/anaconda3/lib/python3.6/site-packages/sklearn/preprocessing/label.py:151: DeprecationWarning: The truth value of an empty array is ambiguous. Returning False, but in future this will result in an error. Use `array.size > 0` to check that an array is not empty.\n",
      "  if diff:\n"
     ]
    },
    {
     "name": "stdout",
     "output_type": "stream",
     "text": [
      "[4]\tvalid_0's binary_logloss: 0.488753\tvalid_0's auc: 0.773848\n",
      "[5]\tvalid_0's binary_logloss: 0.470117\tvalid_0's auc: 0.776829\n",
      "[6]\tvalid_0's binary_logloss: 0.4571\tvalid_0's auc: 0.775772\n",
      "[7]\tvalid_0's binary_logloss: 0.447325\tvalid_0's auc: 0.777018\n",
      "[8]\tvalid_0's binary_logloss: 0.440418\tvalid_0's auc: 0.776698\n",
      "[9]\tvalid_0's binary_logloss: 0.435754\tvalid_0's auc: 0.775964\n",
      "[10]\tvalid_0's binary_logloss: 0.431592\tvalid_0's auc: 0.77775\n",
      "[11]\tvalid_0's binary_logloss: 0.428332\tvalid_0's auc: 0.780811\n",
      "[12]\tvalid_0's binary_logloss: 0.426852\tvalid_0's auc: 0.779375\n",
      "[13]\tvalid_0's binary_logloss: 0.425171\tvalid_0's auc: 0.780526\n",
      "[14]\tvalid_0's binary_logloss: 0.423738\tvalid_0's auc: 0.78094\n",
      "[15]\tvalid_0's binary_logloss: 0.423525\tvalid_0's auc: 0.780652\n",
      "[16]\tvalid_0's binary_logloss: 0.42302\tvalid_0's auc: 0.78134\n",
      "[17]\tvalid_0's binary_logloss: 0.423123\tvalid_0's auc: 0.780661\n",
      "[18]\tvalid_0's binary_logloss: 0.423751\tvalid_0's auc: 0.778946\n",
      "[19]\tvalid_0's binary_logloss: 0.423636\tvalid_0's auc: 0.778147\n",
      "[20]\tvalid_0's binary_logloss: 0.423676\tvalid_0's auc: 0.778038\n",
      "[21]\tvalid_0's binary_logloss: 0.423287\tvalid_0's auc: 0.778477\n",
      "Early stopping, best iteration is:\n",
      "[16]\tvalid_0's binary_logloss: 0.42302\tvalid_0's auc: 0.78134\n"
     ]
    },
    {
     "name": "stderr",
     "output_type": "stream",
     "text": [
      "/anaconda3/lib/python3.6/site-packages/sklearn/preprocessing/label.py:151: DeprecationWarning: The truth value of an empty array is ambiguous. Returning False, but in future this will result in an error. Use `array.size > 0` to check that an array is not empty.\n",
      "  if diff:\n",
      "/anaconda3/lib/python3.6/site-packages/sklearn/preprocessing/label.py:151: DeprecationWarning: The truth value of an empty array is ambiguous. Returning False, but in future this will result in an error. Use `array.size > 0` to check that an array is not empty.\n",
      "  if diff:\n"
     ]
    },
    {
     "name": "stdout",
     "output_type": "stream",
     "text": [
      "[1]\tvalid_0's binary_logloss: 0.607842\tvalid_0's auc: 0.771709\n",
      "Training until validation scores don't improve for 5 rounds.\n",
      "[2]\tvalid_0's binary_logloss: 0.551378\tvalid_0's auc: 0.779083\n",
      "[3]\tvalid_0's binary_logloss: 0.512876\tvalid_0's auc: 0.779158\n",
      "[4]\tvalid_0's binary_logloss: 0.485973\tvalid_0's auc: 0.779495\n",
      "[5]\tvalid_0's binary_logloss: 0.466875\tvalid_0's auc: 0.780551\n",
      "[6]\tvalid_0's binary_logloss: 0.453922\tvalid_0's auc: 0.779441\n",
      "[7]\tvalid_0's binary_logloss: 0.443921\tvalid_0's auc: 0.782188\n",
      "[8]\tvalid_0's binary_logloss: 0.436338\tvalid_0's auc: 0.783429\n",
      "[9]\tvalid_0's binary_logloss: 0.431497\tvalid_0's auc: 0.783949\n",
      "[10]\tvalid_0's binary_logloss: 0.427679\tvalid_0's auc: 0.784487\n",
      "[11]\tvalid_0's binary_logloss: 0.425355\tvalid_0's auc: 0.784467\n",
      "[12]\tvalid_0's binary_logloss: 0.422874\tvalid_0's auc: 0.786008\n",
      "[13]\tvalid_0's binary_logloss: 0.421913\tvalid_0's auc: 0.785443\n",
      "[14]\tvalid_0's binary_logloss: 0.420655\tvalid_0's auc: 0.786165\n",
      "[15]\tvalid_0's binary_logloss: 0.420381\tvalid_0's auc: 0.786132\n",
      "[16]\tvalid_0's binary_logloss: 0.420154\tvalid_0's auc: 0.78556\n",
      "[17]\tvalid_0's binary_logloss: 0.41964\tvalid_0's auc: 0.785817\n",
      "[18]\tvalid_0's binary_logloss: 0.419203\tvalid_0's auc: 0.786579\n",
      "[19]\tvalid_0's binary_logloss: 0.419614\tvalid_0's auc: 0.785923\n",
      "[20]\tvalid_0's binary_logloss: 0.419317\tvalid_0's auc: 0.78585\n",
      "[21]\tvalid_0's binary_logloss: 0.419215\tvalid_0's auc: 0.786303\n",
      "[22]\tvalid_0's binary_logloss: 0.419607\tvalid_0's auc: 0.785145\n",
      "[23]\tvalid_0's binary_logloss: 0.419888\tvalid_0's auc: 0.784744\n",
      "Early stopping, best iteration is:\n",
      "[18]\tvalid_0's binary_logloss: 0.419203\tvalid_0's auc: 0.786579\n"
     ]
    },
    {
     "name": "stderr",
     "output_type": "stream",
     "text": [
      "/anaconda3/lib/python3.6/site-packages/sklearn/preprocessing/label.py:151: DeprecationWarning: The truth value of an empty array is ambiguous. Returning False, but in future this will result in an error. Use `array.size > 0` to check that an array is not empty.\n",
      "  if diff:\n",
      "/anaconda3/lib/python3.6/site-packages/sklearn/preprocessing/label.py:151: DeprecationWarning: The truth value of an empty array is ambiguous. Returning False, but in future this will result in an error. Use `array.size > 0` to check that an array is not empty.\n",
      "  if diff:\n",
      "/anaconda3/lib/python3.6/site-packages/sklearn/preprocessing/label.py:151: DeprecationWarning: The truth value of an empty array is ambiguous. Returning False, but in future this will result in an error. Use `array.size > 0` to check that an array is not empty.\n",
      "  if diff:\n"
     ]
    },
    {
     "name": "stdout",
     "output_type": "stream",
     "text": [
      "[1]\tvalid_0's binary_logloss: 0.610027\tvalid_0's auc: 0.760522\n",
      "Training until validation scores don't improve for 5 rounds.\n",
      "[2]\tvalid_0's binary_logloss: 0.55467\tvalid_0's auc: 0.771193\n",
      "[3]\tvalid_0's binary_logloss: 0.516617\tvalid_0's auc: 0.775548\n",
      "[4]\tvalid_0's binary_logloss: 0.489506\tvalid_0's auc: 0.777771\n",
      "[5]\tvalid_0's binary_logloss: 0.470347\tvalid_0's auc: 0.779584\n",
      "[6]\tvalid_0's binary_logloss: 0.456355\tvalid_0's auc: 0.779525\n",
      "[7]\tvalid_0's binary_logloss: 0.445511\tvalid_0's auc: 0.78263\n",
      "[8]\tvalid_0's binary_logloss: 0.438141\tvalid_0's auc: 0.783365\n",
      "[9]\tvalid_0's binary_logloss: 0.433367\tvalid_0's auc: 0.782543\n",
      "[10]\tvalid_0's binary_logloss: 0.430283\tvalid_0's auc: 0.78107\n",
      "[11]\tvalid_0's binary_logloss: 0.427801\tvalid_0's auc: 0.780288\n",
      "[12]\tvalid_0's binary_logloss: 0.426201\tvalid_0's auc: 0.779816\n",
      "[13]\tvalid_0's binary_logloss: 0.424854\tvalid_0's auc: 0.779909\n",
      "Early stopping, best iteration is:\n",
      "[8]\tvalid_0's binary_logloss: 0.438141\tvalid_0's auc: 0.783365\n",
      "[1]\tvalid_0's binary_logloss: 0.609094\tvalid_0's auc: 0.764364\n",
      "Training until validation scores don't improve for 5 rounds.\n",
      "[2]\tvalid_0's binary_logloss: 0.553796\tvalid_0's auc: 0.769873\n",
      "[3]\tvalid_0's binary_logloss: 0.515257\tvalid_0's auc: 0.774781"
     ]
    },
    {
     "name": "stderr",
     "output_type": "stream",
     "text": [
      "/anaconda3/lib/python3.6/site-packages/sklearn/preprocessing/label.py:151: DeprecationWarning: The truth value of an empty array is ambiguous. Returning False, but in future this will result in an error. Use `array.size > 0` to check that an array is not empty.\n",
      "  if diff:\n"
     ]
    },
    {
     "name": "stdout",
     "output_type": "stream",
     "text": [
      "\n",
      "[4]\tvalid_0's binary_logloss: 0.488753\tvalid_0's auc: 0.773848\n",
      "[5]\tvalid_0's binary_logloss: 0.470117\tvalid_0's auc: 0.776829\n",
      "[6]\tvalid_0's binary_logloss: 0.4571\tvalid_0's auc: 0.775772\n",
      "[7]\tvalid_0's binary_logloss: 0.447325\tvalid_0's auc: 0.777018\n",
      "[8]\tvalid_0's binary_logloss: 0.440418\tvalid_0's auc: 0.776698\n",
      "[9]\tvalid_0's binary_logloss: 0.435754\tvalid_0's auc: 0.775964\n",
      "[10]\tvalid_0's binary_logloss: 0.431592\tvalid_0's auc: 0.77775\n",
      "[11]\tvalid_0's binary_logloss: 0.428332\tvalid_0's auc: 0.780811\n",
      "[12]\tvalid_0's binary_logloss: 0.426852\tvalid_0's auc: 0.779375\n",
      "[13]\tvalid_0's binary_logloss: 0.425171\tvalid_0's auc: 0.780526\n",
      "[14]\tvalid_0's binary_logloss: 0.423738\tvalid_0's auc: 0.78094\n",
      "[15]\tvalid_0's binary_logloss: 0.423525\tvalid_0's auc: 0.780652\n",
      "[16]\tvalid_0's binary_logloss: 0.42302\tvalid_0's auc: 0.78134\n",
      "[17]\tvalid_0's binary_logloss: 0.423123\tvalid_0's auc: 0.780661\n",
      "[18]\tvalid_0's binary_logloss: 0.423751\tvalid_0's auc: 0.778946\n",
      "[19]\tvalid_0's binary_logloss: 0.423636\tvalid_0's auc: 0.778147\n",
      "[20]\tvalid_0's binary_logloss: 0.423676\tvalid_0's auc: 0.778038\n",
      "[21]\tvalid_0's binary_logloss: 0.423287\tvalid_0's auc: 0.778477\n",
      "Early stopping, best iteration is:\n",
      "[16]\tvalid_0's binary_logloss: 0.42302\tvalid_0's auc: 0.78134\n"
     ]
    },
    {
     "name": "stderr",
     "output_type": "stream",
     "text": [
      "/anaconda3/lib/python3.6/site-packages/sklearn/preprocessing/label.py:151: DeprecationWarning: The truth value of an empty array is ambiguous. Returning False, but in future this will result in an error. Use `array.size > 0` to check that an array is not empty.\n",
      "  if diff:\n",
      "/anaconda3/lib/python3.6/site-packages/sklearn/preprocessing/label.py:151: DeprecationWarning: The truth value of an empty array is ambiguous. Returning False, but in future this will result in an error. Use `array.size > 0` to check that an array is not empty.\n",
      "  if diff:\n"
     ]
    },
    {
     "name": "stdout",
     "output_type": "stream",
     "text": [
      "[1]\tvalid_0's binary_logloss: 0.607842\tvalid_0's auc: 0.771709\n",
      "Training until validation scores don't improve for 5 rounds.\n",
      "[2]\tvalid_0's binary_logloss: 0.551378\tvalid_0's auc: 0.779083\n",
      "[3]\tvalid_0's binary_logloss: 0.512876\tvalid_0's auc: 0.779158\n",
      "[4]\tvalid_0's binary_logloss: 0.485973\tvalid_0's auc: 0.779495\n",
      "[5]\tvalid_0's binary_logloss: 0.466875\tvalid_0's auc: 0.780551\n",
      "[6]\tvalid_0's binary_logloss: 0.453922\tvalid_0's auc: 0.779441\n",
      "[7]\tvalid_0's binary_logloss: 0.443921\tvalid_0's auc: 0.782188\n",
      "[8]\tvalid_0's binary_logloss: 0.436338\tvalid_0's auc: 0.783429\n",
      "[9]\tvalid_0's binary_logloss: 0.431497\tvalid_0's auc: 0.783949\n",
      "[10]\tvalid_0's binary_logloss: 0.427679\tvalid_0's auc: 0.784487\n",
      "[11]\tvalid_0's binary_logloss: 0.425355\tvalid_0's auc: 0.784467\n",
      "[12]\tvalid_0's binary_logloss: 0.422874\tvalid_0's auc: 0.786008\n",
      "[13]\tvalid_0's binary_logloss: 0.421913\tvalid_0's auc: 0.785443\n",
      "[14]\tvalid_0's binary_logloss: 0.420655\tvalid_0's auc: 0.786165\n",
      "[15]\tvalid_0's binary_logloss: 0.420381\tvalid_0's auc: 0.786132\n",
      "[16]\tvalid_0's binary_logloss: 0.420154\tvalid_0's auc: 0.78556\n",
      "[17]\tvalid_0's binary_logloss: 0.41964\tvalid_0's auc: 0.785817\n",
      "[18]\tvalid_0's binary_logloss: 0.419203\tvalid_0's auc: 0.786579\n",
      "[19]\tvalid_0's binary_logloss: 0.419614\tvalid_0's auc: 0.785923\n",
      "[20]\tvalid_0's binary_logloss: 0.419317\tvalid_0's auc: 0.78585\n",
      "[21]\tvalid_0's binary_logloss: 0.419215\tvalid_0's auc: 0.786303\n",
      "[22]\tvalid_0's binary_logloss: 0.419607\tvalid_0's auc: 0.785145\n",
      "[23]\tvalid_0's binary_logloss: 0.419888\tvalid_0's auc: 0.784744\n",
      "Early stopping, best iteration is:\n",
      "[18]\tvalid_0's binary_logloss: 0.419203\tvalid_0's auc: 0.786579\n",
      "[1]\tvalid_0's binary_logloss: 0.610027\tvalid_0's auc: 0.760522\n",
      "Training until validation scores don't improve for 5 rounds.\n",
      "[2]\tvalid_0's binary_logloss: 0.55467\tvalid_0's auc: 0.771193\n",
      "[3]\tvalid_0's binary_logloss: 0.516617\tvalid_0's auc: 0.775548\n",
      "[4]\tvalid_0's binary_logloss: 0.489506\tvalid_0's auc: 0.777771\n",
      "[5]\tvalid_0's binary_logloss: 0.470347\tvalid_0's auc: 0.779584\n",
      "[6]\tvalid_0's binary_logloss: 0.456355\tvalid_0's auc: 0.779525\n",
      "[7]\tvalid_0's binary_logloss: 0.445511\tvalid_0's auc: 0.78263\n",
      "[8]\tvalid_0's binary_logloss: 0.438141\tvalid_0's auc: 0.783365"
     ]
    },
    {
     "name": "stderr",
     "output_type": "stream",
     "text": [
      "/anaconda3/lib/python3.6/site-packages/sklearn/preprocessing/label.py:151: DeprecationWarning: The truth value of an empty array is ambiguous. Returning False, but in future this will result in an error. Use `array.size > 0` to check that an array is not empty.\n",
      "  if diff:\n",
      "/anaconda3/lib/python3.6/site-packages/sklearn/preprocessing/label.py:151: DeprecationWarning: The truth value of an empty array is ambiguous. Returning False, but in future this will result in an error. Use `array.size > 0` to check that an array is not empty.\n",
      "  if diff:\n"
     ]
    },
    {
     "name": "stdout",
     "output_type": "stream",
     "text": [
      "\n",
      "[9]\tvalid_0's binary_logloss: 0.433367\tvalid_0's auc: 0.782543\n",
      "[10]\tvalid_0's binary_logloss: 0.430283\tvalid_0's auc: 0.78107\n",
      "[11]\tvalid_0's binary_logloss: 0.427801\tvalid_0's auc: 0.780288\n",
      "[12]\tvalid_0's binary_logloss: 0.426201\tvalid_0's auc: 0.779816\n",
      "[13]\tvalid_0's binary_logloss: 0.424854\tvalid_0's auc: 0.779909\n",
      "Early stopping, best iteration is:\n",
      "[8]\tvalid_0's binary_logloss: 0.438141\tvalid_0's auc: 0.783365\n",
      "[1]\tvalid_0's binary_logloss: 0.609094\tvalid_0's auc: 0.764364\n",
      "Training until validation scores don't improve for 5 rounds.\n",
      "[2]\tvalid_0's binary_logloss: 0.553796\tvalid_0's auc: 0.769873\n",
      "[3]\tvalid_0's binary_logloss: 0.515257\tvalid_0's auc: 0.774781\n",
      "[4]\tvalid_0's binary_logloss: 0.488753\tvalid_0's auc: 0.773848\n"
     ]
    },
    {
     "name": "stderr",
     "output_type": "stream",
     "text": [
      "/anaconda3/lib/python3.6/site-packages/sklearn/preprocessing/label.py:151: DeprecationWarning: The truth value of an empty array is ambiguous. Returning False, but in future this will result in an error. Use `array.size > 0` to check that an array is not empty.\n",
      "  if diff:\n",
      "/anaconda3/lib/python3.6/site-packages/sklearn/preprocessing/label.py:151: DeprecationWarning: The truth value of an empty array is ambiguous. Returning False, but in future this will result in an error. Use `array.size > 0` to check that an array is not empty.\n",
      "  if diff:\n"
     ]
    },
    {
     "name": "stdout",
     "output_type": "stream",
     "text": [
      "[5]\tvalid_0's binary_logloss: 0.470117\tvalid_0's auc: 0.776829\n",
      "[6]\tvalid_0's binary_logloss: 0.4571\tvalid_0's auc: 0.775772\n",
      "[7]\tvalid_0's binary_logloss: 0.447325\tvalid_0's auc: 0.777018\n",
      "[8]\tvalid_0's binary_logloss: 0.440418\tvalid_0's auc: 0.776698\n",
      "[9]\tvalid_0's binary_logloss: 0.435754\tvalid_0's auc: 0.775964\n",
      "[10]\tvalid_0's binary_logloss: 0.431592\tvalid_0's auc: 0.77775\n",
      "[11]\tvalid_0's binary_logloss: 0.428332\tvalid_0's auc: 0.780811\n",
      "[12]\tvalid_0's binary_logloss: 0.426852\tvalid_0's auc: 0.779375\n",
      "[13]\tvalid_0's binary_logloss: 0.425171\tvalid_0's auc: 0.780526\n",
      "[14]\tvalid_0's binary_logloss: 0.423738\tvalid_0's auc: 0.78094\n",
      "[15]\tvalid_0's binary_logloss: 0.423525\tvalid_0's auc: 0.780652\n",
      "[16]\tvalid_0's binary_logloss: 0.42302\tvalid_0's auc: 0.78134\n",
      "[17]\tvalid_0's binary_logloss: 0.423123\tvalid_0's auc: 0.780661\n",
      "[18]\tvalid_0's binary_logloss: 0.423751\tvalid_0's auc: 0.778946\n",
      "[19]\tvalid_0's binary_logloss: 0.423636\tvalid_0's auc: 0.778147\n",
      "[20]\tvalid_0's binary_logloss: 0.423676\tvalid_0's auc: 0.778038\n",
      "[21]\tvalid_0's binary_logloss: 0.423287\tvalid_0's auc: 0.778477\n",
      "Early stopping, best iteration is:\n",
      "[16]\tvalid_0's binary_logloss: 0.42302\tvalid_0's auc: 0.78134\n"
     ]
    },
    {
     "name": "stderr",
     "output_type": "stream",
     "text": [
      "/anaconda3/lib/python3.6/site-packages/sklearn/preprocessing/label.py:151: DeprecationWarning: The truth value of an empty array is ambiguous. Returning False, but in future this will result in an error. Use `array.size > 0` to check that an array is not empty.\n",
      "  if diff:\n",
      "/anaconda3/lib/python3.6/site-packages/sklearn/preprocessing/label.py:151: DeprecationWarning: The truth value of an empty array is ambiguous. Returning False, but in future this will result in an error. Use `array.size > 0` to check that an array is not empty.\n",
      "  if diff:\n"
     ]
    },
    {
     "name": "stdout",
     "output_type": "stream",
     "text": [
      "[1]\tvalid_0's binary_logloss: 0.607842\tvalid_0's auc: 0.771709\n",
      "Training until validation scores don't improve for 5 rounds.\n",
      "[2]\tvalid_0's binary_logloss: 0.551378\tvalid_0's auc: 0.779083\n",
      "[3]\tvalid_0's binary_logloss: 0.512876\tvalid_0's auc: 0.779158\n",
      "[4]\tvalid_0's binary_logloss: 0.485973\tvalid_0's auc: 0.779495\n",
      "[5]\tvalid_0's binary_logloss: 0.466875\tvalid_0's auc: 0.780551\n",
      "[6]\tvalid_0's binary_logloss: 0.453922\tvalid_0's auc: 0.779441\n",
      "[7]\tvalid_0's binary_logloss: 0.443921\tvalid_0's auc: 0.782188\n",
      "[8]\tvalid_0's binary_logloss: 0.436338\tvalid_0's auc: 0.783429\n",
      "[9]\tvalid_0's binary_logloss: 0.431497\tvalid_0's auc: 0.783949\n",
      "[10]\tvalid_0's binary_logloss: 0.427679\tvalid_0's auc: 0.784487\n",
      "[11]\tvalid_0's binary_logloss: 0.425355\tvalid_0's auc: 0.784467\n",
      "[12]\tvalid_0's binary_logloss: 0.422874\tvalid_0's auc: 0.786008\n",
      "[13]\tvalid_0's binary_logloss: 0.421913\tvalid_0's auc: 0.785443\n",
      "[14]\tvalid_0's binary_logloss: 0.420655\tvalid_0's auc: 0.786165\n",
      "[15]\tvalid_0's binary_logloss: 0.420381\tvalid_0's auc: 0.786132\n",
      "[16]\tvalid_0's binary_logloss: 0.420154\tvalid_0's auc: 0.78556\n",
      "[17]\tvalid_0's binary_logloss: 0.41964\tvalid_0's auc: 0.785817\n",
      "[18]\tvalid_0's binary_logloss: 0.419203\tvalid_0's auc: 0.786579\n",
      "[19]\tvalid_0's binary_logloss: 0.419614\tvalid_0's auc: 0.785923\n",
      "[20]\tvalid_0's binary_logloss: 0.419317\tvalid_0's auc: 0.78585\n",
      "[21]\tvalid_0's binary_logloss: 0.419215\tvalid_0's auc: 0.786303\n",
      "[22]\tvalid_0's binary_logloss: 0.419607\tvalid_0's auc: 0.785145\n",
      "[23]\tvalid_0's binary_logloss: 0.419888\tvalid_0's auc: 0.784744\n",
      "Early stopping, best iteration is:\n",
      "[18]\tvalid_0's binary_logloss: 0.419203\tvalid_0's auc: 0.786579\n"
     ]
    },
    {
     "name": "stderr",
     "output_type": "stream",
     "text": [
      "/anaconda3/lib/python3.6/site-packages/sklearn/preprocessing/label.py:151: DeprecationWarning: The truth value of an empty array is ambiguous. Returning False, but in future this will result in an error. Use `array.size > 0` to check that an array is not empty.\n",
      "  if diff:\n",
      "/anaconda3/lib/python3.6/site-packages/sklearn/preprocessing/label.py:151: DeprecationWarning: The truth value of an empty array is ambiguous. Returning False, but in future this will result in an error. Use `array.size > 0` to check that an array is not empty.\n",
      "  if diff:\n",
      "/anaconda3/lib/python3.6/site-packages/sklearn/preprocessing/label.py:151: DeprecationWarning: The truth value of an empty array is ambiguous. Returning False, but in future this will result in an error. Use `array.size > 0` to check that an array is not empty.\n",
      "  if diff:\n"
     ]
    },
    {
     "name": "stdout",
     "output_type": "stream",
     "text": [
      "[1]\tvalid_0's binary_logloss: 0.610027\tvalid_0's auc: 0.760522\n",
      "Training until validation scores don't improve for 5 rounds.\n",
      "[2]\tvalid_0's binary_logloss: 0.55467\tvalid_0's auc: 0.771193\n",
      "[3]\tvalid_0's binary_logloss: 0.516617\tvalid_0's auc: 0.775548\n",
      "[4]\tvalid_0's binary_logloss: 0.489506\tvalid_0's auc: 0.777771\n",
      "[5]\tvalid_0's binary_logloss: 0.470347\tvalid_0's auc: 0.779584\n",
      "[6]\tvalid_0's binary_logloss: 0.456355\tvalid_0's auc: 0.779525\n",
      "[7]\tvalid_0's binary_logloss: 0.445511\tvalid_0's auc: 0.78263\n",
      "[8]\tvalid_0's binary_logloss: 0.438141\tvalid_0's auc: 0.783365\n",
      "[9]\tvalid_0's binary_logloss: 0.433367\tvalid_0's auc: 0.782543\n",
      "[10]\tvalid_0's binary_logloss: 0.430283\tvalid_0's auc: 0.78107\n",
      "[11]\tvalid_0's binary_logloss: 0.427801\tvalid_0's auc: 0.780288\n",
      "[12]\tvalid_0's binary_logloss: 0.426201\tvalid_0's auc: 0.779816\n",
      "[13]\tvalid_0's binary_logloss: 0.424854\tvalid_0's auc: 0.779909\n",
      "Early stopping, best iteration is:\n",
      "[8]\tvalid_0's binary_logloss: 0.438141\tvalid_0's auc: 0.783365\n",
      "[1]\tvalid_0's binary_logloss: 0.609094\tvalid_0's auc: 0.764364\n",
      "Training until validation scores don't improve for 5 rounds.\n",
      "[2]\tvalid_0's binary_logloss: 0.553796\tvalid_0's auc: 0.769873\n",
      "[3]\tvalid_0's binary_logloss: 0.515257\tvalid_0's auc: 0.774781\n"
     ]
    },
    {
     "name": "stderr",
     "output_type": "stream",
     "text": [
      "/anaconda3/lib/python3.6/site-packages/sklearn/preprocessing/label.py:151: DeprecationWarning: The truth value of an empty array is ambiguous. Returning False, but in future this will result in an error. Use `array.size > 0` to check that an array is not empty.\n",
      "  if diff:\n"
     ]
    },
    {
     "name": "stdout",
     "output_type": "stream",
     "text": [
      "[4]\tvalid_0's binary_logloss: 0.488753\tvalid_0's auc: 0.773848\n",
      "[5]\tvalid_0's binary_logloss: 0.470117\tvalid_0's auc: 0.776829\n",
      "[6]\tvalid_0's binary_logloss: 0.4571\tvalid_0's auc: 0.775772\n",
      "[7]\tvalid_0's binary_logloss: 0.447325\tvalid_0's auc: 0.777018\n",
      "[8]\tvalid_0's binary_logloss: 0.440418\tvalid_0's auc: 0.776698\n",
      "[9]\tvalid_0's binary_logloss: 0.435754\tvalid_0's auc: 0.775964\n",
      "[10]\tvalid_0's binary_logloss: 0.431592\tvalid_0's auc: 0.77775\n",
      "[11]\tvalid_0's binary_logloss: 0.428332\tvalid_0's auc: 0.780811\n",
      "[12]\tvalid_0's binary_logloss: 0.426852\tvalid_0's auc: 0.779375\n",
      "[13]\tvalid_0's binary_logloss: 0.425171\tvalid_0's auc: 0.780526\n",
      "[14]\tvalid_0's binary_logloss: 0.423738\tvalid_0's auc: 0.78094\n",
      "[15]\tvalid_0's binary_logloss: 0.423525\tvalid_0's auc: 0.780652\n",
      "[16]\tvalid_0's binary_logloss: 0.42302\tvalid_0's auc: 0.78134\n",
      "[17]\tvalid_0's binary_logloss: 0.423123\tvalid_0's auc: 0.780661\n",
      "[18]\tvalid_0's binary_logloss: 0.423751\tvalid_0's auc: 0.778946\n",
      "[19]\tvalid_0's binary_logloss: 0.423636\tvalid_0's auc: 0.778147\n",
      "[20]\tvalid_0's binary_logloss: 0.423676\tvalid_0's auc: 0.778038\n",
      "[21]\tvalid_0's binary_logloss: 0.423287\tvalid_0's auc: 0.778477\n",
      "Early stopping, best iteration is:\n",
      "[16]\tvalid_0's binary_logloss: 0.42302\tvalid_0's auc: 0.78134\n"
     ]
    },
    {
     "name": "stderr",
     "output_type": "stream",
     "text": [
      "/anaconda3/lib/python3.6/site-packages/sklearn/preprocessing/label.py:151: DeprecationWarning: The truth value of an empty array is ambiguous. Returning False, but in future this will result in an error. Use `array.size > 0` to check that an array is not empty.\n",
      "  if diff:\n",
      "/anaconda3/lib/python3.6/site-packages/sklearn/preprocessing/label.py:151: DeprecationWarning: The truth value of an empty array is ambiguous. Returning False, but in future this will result in an error. Use `array.size > 0` to check that an array is not empty.\n",
      "  if diff:\n"
     ]
    },
    {
     "name": "stdout",
     "output_type": "stream",
     "text": [
      "[1]\tvalid_0's binary_logloss: 0.607842\tvalid_0's auc: 0.771709\n",
      "Training until validation scores don't improve for 5 rounds.\n",
      "[2]\tvalid_0's binary_logloss: 0.551378\tvalid_0's auc: 0.779083\n",
      "[3]\tvalid_0's binary_logloss: 0.512876\tvalid_0's auc: 0.779158\n",
      "[4]\tvalid_0's binary_logloss: 0.485973\tvalid_0's auc: 0.779495\n",
      "[5]\tvalid_0's binary_logloss: 0.466875\tvalid_0's auc: 0.780551\n",
      "[6]\tvalid_0's binary_logloss: 0.453922\tvalid_0's auc: 0.779441\n",
      "[7]\tvalid_0's binary_logloss: 0.443921\tvalid_0's auc: 0.782188\n",
      "[8]\tvalid_0's binary_logloss: 0.436338\tvalid_0's auc: 0.783429\n",
      "[9]\tvalid_0's binary_logloss: 0.431497\tvalid_0's auc: 0.783949\n",
      "[10]\tvalid_0's binary_logloss: 0.427679\tvalid_0's auc: 0.784487\n",
      "[11]\tvalid_0's binary_logloss: 0.425355\tvalid_0's auc: 0.784467\n",
      "[12]\tvalid_0's binary_logloss: 0.422874\tvalid_0's auc: 0.786008\n",
      "[13]\tvalid_0's binary_logloss: 0.421913\tvalid_0's auc: 0.785443\n",
      "[14]\tvalid_0's binary_logloss: 0.420655\tvalid_0's auc: 0.786165\n",
      "[15]\tvalid_0's binary_logloss: 0.420381\tvalid_0's auc: 0.786132\n",
      "[16]\tvalid_0's binary_logloss: 0.420154\tvalid_0's auc: 0.78556\n",
      "[17]\tvalid_0's binary_logloss: 0.41964\tvalid_0's auc: 0.785817\n",
      "[18]\tvalid_0's binary_logloss: 0.419203\tvalid_0's auc: 0.786579\n",
      "[19]\tvalid_0's binary_logloss: 0.419614\tvalid_0's auc: 0.785923\n",
      "[20]\tvalid_0's binary_logloss: 0.419317\tvalid_0's auc: 0.78585\n",
      "[21]\tvalid_0's binary_logloss: 0.419215\tvalid_0's auc: 0.786303\n",
      "[22]\tvalid_0's binary_logloss: 0.419607\tvalid_0's auc: 0.785145\n",
      "[23]\tvalid_0's binary_logloss: 0.419888\tvalid_0's auc: 0.784744\n",
      "Early stopping, best iteration is:\n",
      "[18]\tvalid_0's binary_logloss: 0.419203\tvalid_0's auc: 0.786579\n"
     ]
    },
    {
     "name": "stderr",
     "output_type": "stream",
     "text": [
      "/anaconda3/lib/python3.6/site-packages/sklearn/preprocessing/label.py:151: DeprecationWarning: The truth value of an empty array is ambiguous. Returning False, but in future this will result in an error. Use `array.size > 0` to check that an array is not empty.\n",
      "  if diff:\n",
      "/anaconda3/lib/python3.6/site-packages/sklearn/preprocessing/label.py:151: DeprecationWarning: The truth value of an empty array is ambiguous. Returning False, but in future this will result in an error. Use `array.size > 0` to check that an array is not empty.\n",
      "  if diff:\n",
      "/anaconda3/lib/python3.6/site-packages/sklearn/preprocessing/label.py:151: DeprecationWarning: The truth value of an empty array is ambiguous. Returning False, but in future this will result in an error. Use `array.size > 0` to check that an array is not empty.\n",
      "  if diff:\n"
     ]
    },
    {
     "name": "stdout",
     "output_type": "stream",
     "text": [
      "[1]\tvalid_0's binary_logloss: 0.610027\tvalid_0's auc: 0.760522\n",
      "Training until validation scores don't improve for 5 rounds.\n",
      "[2]\tvalid_0's binary_logloss: 0.55467\tvalid_0's auc: 0.771193\n",
      "[3]\tvalid_0's binary_logloss: 0.516617\tvalid_0's auc: 0.775548\n",
      "[4]\tvalid_0's binary_logloss: 0.489506\tvalid_0's auc: 0.777771\n",
      "[5]\tvalid_0's binary_logloss: 0.470347\tvalid_0's auc: 0.779584\n",
      "[6]\tvalid_0's binary_logloss: 0.456355\tvalid_0's auc: 0.779525\n",
      "[7]\tvalid_0's binary_logloss: 0.445511\tvalid_0's auc: 0.78263\n",
      "[8]\tvalid_0's binary_logloss: 0.438141\tvalid_0's auc: 0.783365\n",
      "[9]\tvalid_0's binary_logloss: 0.433367\tvalid_0's auc: 0.782543\n",
      "[10]\tvalid_0's binary_logloss: 0.430283\tvalid_0's auc: 0.78107\n",
      "[11]\tvalid_0's binary_logloss: 0.427801\tvalid_0's auc: 0.780288\n",
      "[12]\tvalid_0's binary_logloss: 0.426201\tvalid_0's auc: 0.779816\n",
      "[13]\tvalid_0's binary_logloss: 0.424854\tvalid_0's auc: 0.779909\n",
      "Early stopping, best iteration is:\n",
      "[8]\tvalid_0's binary_logloss: 0.438141\tvalid_0's auc: 0.783365\n",
      "[1]\tvalid_0's binary_logloss: 0.609094\tvalid_0's auc: 0.764364\n",
      "Training until validation scores don't improve for 5 rounds.\n",
      "[2]\tvalid_0's binary_logloss: 0.553796\tvalid_0's auc: 0.769873\n",
      "[3]\tvalid_0's binary_logloss: 0.515257\tvalid_0's auc: 0.774781\n",
      "[4]\tvalid_0's binary_logloss: 0.488753\tvalid_0's auc: 0.773848\n"
     ]
    },
    {
     "name": "stderr",
     "output_type": "stream",
     "text": [
      "/anaconda3/lib/python3.6/site-packages/sklearn/preprocessing/label.py:151: DeprecationWarning: The truth value of an empty array is ambiguous. Returning False, but in future this will result in an error. Use `array.size > 0` to check that an array is not empty.\n",
      "  if diff:\n"
     ]
    },
    {
     "name": "stdout",
     "output_type": "stream",
     "text": [
      "[5]\tvalid_0's binary_logloss: 0.470117\tvalid_0's auc: 0.776829\n",
      "[6]\tvalid_0's binary_logloss: 0.4571\tvalid_0's auc: 0.775772\n",
      "[7]\tvalid_0's binary_logloss: 0.447325\tvalid_0's auc: 0.777018\n",
      "[8]\tvalid_0's binary_logloss: 0.440418\tvalid_0's auc: 0.776698\n",
      "[9]\tvalid_0's binary_logloss: 0.435754\tvalid_0's auc: 0.775964\n",
      "[10]\tvalid_0's binary_logloss: 0.431592\tvalid_0's auc: 0.77775\n",
      "[11]\tvalid_0's binary_logloss: 0.428332\tvalid_0's auc: 0.780811\n",
      "[12]\tvalid_0's binary_logloss: 0.426852\tvalid_0's auc: 0.779375\n",
      "[13]\tvalid_0's binary_logloss: 0.425171\tvalid_0's auc: 0.780526\n",
      "[14]\tvalid_0's binary_logloss: 0.423738\tvalid_0's auc: 0.78094\n",
      "[15]\tvalid_0's binary_logloss: 0.423525\tvalid_0's auc: 0.780652\n",
      "[16]\tvalid_0's binary_logloss: 0.42302\tvalid_0's auc: 0.78134\n",
      "[17]\tvalid_0's binary_logloss: 0.423123\tvalid_0's auc: 0.780661\n",
      "[18]\tvalid_0's binary_logloss: 0.423751\tvalid_0's auc: 0.778946\n",
      "[19]\tvalid_0's binary_logloss: 0.423636\tvalid_0's auc: 0.778147\n",
      "[20]\tvalid_0's binary_logloss: 0.423676\tvalid_0's auc: 0.778038\n",
      "[21]\tvalid_0's binary_logloss: 0.423287\tvalid_0's auc: 0.778477\n",
      "Early stopping, best iteration is:\n",
      "[16]\tvalid_0's binary_logloss: 0.42302\tvalid_0's auc: 0.78134\n"
     ]
    },
    {
     "name": "stderr",
     "output_type": "stream",
     "text": [
      "/anaconda3/lib/python3.6/site-packages/sklearn/preprocessing/label.py:151: DeprecationWarning: The truth value of an empty array is ambiguous. Returning False, but in future this will result in an error. Use `array.size > 0` to check that an array is not empty.\n",
      "  if diff:\n",
      "/anaconda3/lib/python3.6/site-packages/sklearn/preprocessing/label.py:151: DeprecationWarning: The truth value of an empty array is ambiguous. Returning False, but in future this will result in an error. Use `array.size > 0` to check that an array is not empty.\n",
      "  if diff:\n"
     ]
    },
    {
     "name": "stdout",
     "output_type": "stream",
     "text": [
      "[1]\tvalid_0's binary_logloss: 0.607842\tvalid_0's auc: 0.771709\n",
      "Training until validation scores don't improve for 5 rounds.\n",
      "[2]\tvalid_0's binary_logloss: 0.551378\tvalid_0's auc: 0.779083\n",
      "[3]\tvalid_0's binary_logloss: 0.512876\tvalid_0's auc: 0.779158\n",
      "[4]\tvalid_0's binary_logloss: 0.485973\tvalid_0's auc: 0.779495\n",
      "[5]\tvalid_0's binary_logloss: 0.466875\tvalid_0's auc: 0.780551\n",
      "[6]\tvalid_0's binary_logloss: 0.453922\tvalid_0's auc: 0.779441\n",
      "[7]\tvalid_0's binary_logloss: 0.443921\tvalid_0's auc: 0.782188\n",
      "[8]\tvalid_0's binary_logloss: 0.436338\tvalid_0's auc: 0.783429\n",
      "[9]\tvalid_0's binary_logloss: 0.431497\tvalid_0's auc: 0.783949\n",
      "[10]\tvalid_0's binary_logloss: 0.427679\tvalid_0's auc: 0.784487\n",
      "[11]\tvalid_0's binary_logloss: 0.425355\tvalid_0's auc: 0.784467\n",
      "[12]\tvalid_0's binary_logloss: 0.422874\tvalid_0's auc: 0.786008\n",
      "[13]\tvalid_0's binary_logloss: 0.421913\tvalid_0's auc: 0.785443\n",
      "[14]\tvalid_0's binary_logloss: 0.420655\tvalid_0's auc: 0.786165\n",
      "[15]\tvalid_0's binary_logloss: 0.420381\tvalid_0's auc: 0.786132\n",
      "[16]\tvalid_0's binary_logloss: 0.420154\tvalid_0's auc: 0.78556\n",
      "[17]\tvalid_0's binary_logloss: 0.41964\tvalid_0's auc: 0.785817\n",
      "[18]\tvalid_0's binary_logloss: 0.419203\tvalid_0's auc: 0.786579\n",
      "[19]\tvalid_0's binary_logloss: 0.419614\tvalid_0's auc: 0.785923\n",
      "[20]\tvalid_0's binary_logloss: 0.419317\tvalid_0's auc: 0.78585\n",
      "[21]\tvalid_0's binary_logloss: 0.419215\tvalid_0's auc: 0.786303\n",
      "[22]\tvalid_0's binary_logloss: 0.419607\tvalid_0's auc: 0.785145\n",
      "[23]\tvalid_0's binary_logloss: 0.419888\tvalid_0's auc: 0.784744\n",
      "Early stopping, best iteration is:\n",
      "[18]\tvalid_0's binary_logloss: 0.419203\tvalid_0's auc: 0.786579\n"
     ]
    },
    {
     "name": "stderr",
     "output_type": "stream",
     "text": [
      "/anaconda3/lib/python3.6/site-packages/sklearn/preprocessing/label.py:151: DeprecationWarning: The truth value of an empty array is ambiguous. Returning False, but in future this will result in an error. Use `array.size > 0` to check that an array is not empty.\n",
      "  if diff:\n",
      "/anaconda3/lib/python3.6/site-packages/sklearn/preprocessing/label.py:151: DeprecationWarning: The truth value of an empty array is ambiguous. Returning False, but in future this will result in an error. Use `array.size > 0` to check that an array is not empty.\n",
      "  if diff:\n"
     ]
    },
    {
     "name": "stdout",
     "output_type": "stream",
     "text": [
      "[1]\tvalid_0's binary_logloss: 0.610027\tvalid_0's auc: 0.760522\n",
      "Training until validation scores don't improve for 5 rounds.\n",
      "[2]\tvalid_0's binary_logloss: 0.55467\tvalid_0's auc: 0.771193\n",
      "[3]\tvalid_0's binary_logloss: 0.516617\tvalid_0's auc: 0.775548\n",
      "[4]\tvalid_0's binary_logloss: 0.489506\tvalid_0's auc: 0.777771\n",
      "[5]\tvalid_0's binary_logloss: 0.470347\tvalid_0's auc: 0.779584\n",
      "[6]\tvalid_0's binary_logloss: 0.456355\tvalid_0's auc: 0.779525\n",
      "[7]\tvalid_0's binary_logloss: 0.445511\tvalid_0's auc: 0.78263\n",
      "[8]\tvalid_0's binary_logloss: 0.438141\tvalid_0's auc: 0.783365\n",
      "[9]\tvalid_0's binary_logloss: 0.433367\tvalid_0's auc: 0.782543\n",
      "[10]\tvalid_0's binary_logloss: 0.430283\tvalid_0's auc: 0.78107\n",
      "[11]\tvalid_0's binary_logloss: 0.427801\tvalid_0's auc: 0.780288\n",
      "[12]\tvalid_0's binary_logloss: 0.426201\tvalid_0's auc: 0.779816\n",
      "[13]\tvalid_0's binary_logloss: 0.424854\tvalid_0's auc: 0.779909\n",
      "Early stopping, best iteration is:\n",
      "[8]\tvalid_0's binary_logloss: 0.438141\tvalid_0's auc: 0.783365\n"
     ]
    },
    {
     "name": "stderr",
     "output_type": "stream",
     "text": [
      "/anaconda3/lib/python3.6/site-packages/sklearn/preprocessing/label.py:151: DeprecationWarning: The truth value of an empty array is ambiguous. Returning False, but in future this will result in an error. Use `array.size > 0` to check that an array is not empty.\n",
      "  if diff:\n",
      "/anaconda3/lib/python3.6/site-packages/sklearn/preprocessing/label.py:151: DeprecationWarning: The truth value of an empty array is ambiguous. Returning False, but in future this will result in an error. Use `array.size > 0` to check that an array is not empty.\n",
      "  if diff:\n"
     ]
    },
    {
     "name": "stdout",
     "output_type": "stream",
     "text": [
      "[1]\tvalid_0's binary_logloss: 0.609094\tvalid_0's auc: 0.764364\n",
      "Training until validation scores don't improve for 5 rounds.\n",
      "[2]\tvalid_0's binary_logloss: 0.553796\tvalid_0's auc: 0.769873\n",
      "[3]\tvalid_0's binary_logloss: 0.515257\tvalid_0's auc: 0.774781\n",
      "[4]\tvalid_0's binary_logloss: 0.488753\tvalid_0's auc: 0.773848\n",
      "[5]\tvalid_0's binary_logloss: 0.470117\tvalid_0's auc: 0.776829\n",
      "[6]\tvalid_0's binary_logloss: 0.4571\tvalid_0's auc: 0.775772\n",
      "[7]\tvalid_0's binary_logloss: 0.447325\tvalid_0's auc: 0.777018\n",
      "[8]\tvalid_0's binary_logloss: 0.440418\tvalid_0's auc: 0.776698\n",
      "[9]\tvalid_0's binary_logloss: 0.435754\tvalid_0's auc: 0.775964\n",
      "[10]\tvalid_0's binary_logloss: 0.431592\tvalid_0's auc: 0.77775\n",
      "[11]\tvalid_0's binary_logloss: 0.428332\tvalid_0's auc: 0.780811\n",
      "[12]\tvalid_0's binary_logloss: 0.426852\tvalid_0's auc: 0.779375\n",
      "[13]\tvalid_0's binary_logloss: 0.425171\tvalid_0's auc: 0.780526\n",
      "[14]\tvalid_0's binary_logloss: 0.423738\tvalid_0's auc: 0.78094\n",
      "[15]\tvalid_0's binary_logloss: 0.423525\tvalid_0's auc: 0.780652\n",
      "[16]\tvalid_0's binary_logloss: 0.42302\tvalid_0's auc: 0.78134\n",
      "[17]\tvalid_0's binary_logloss: 0.423123\tvalid_0's auc: 0.780661\n",
      "[18]\tvalid_0's binary_logloss: 0.423751\tvalid_0's auc: 0.778946\n",
      "[19]\tvalid_0's binary_logloss: 0.423636\tvalid_0's auc: 0.778147\n",
      "[20]\tvalid_0's binary_logloss: 0.423676\tvalid_0's auc: 0.778038\n",
      "[21]\tvalid_0's binary_logloss: 0.423287\tvalid_0's auc: 0.778477\n",
      "Early stopping, best iteration is:\n",
      "[16]\tvalid_0's binary_logloss: 0.42302\tvalid_0's auc: 0.78134\n"
     ]
    },
    {
     "name": "stderr",
     "output_type": "stream",
     "text": [
      "/anaconda3/lib/python3.6/site-packages/sklearn/preprocessing/label.py:151: DeprecationWarning: The truth value of an empty array is ambiguous. Returning False, but in future this will result in an error. Use `array.size > 0` to check that an array is not empty.\n",
      "  if diff:\n",
      "/anaconda3/lib/python3.6/site-packages/sklearn/preprocessing/label.py:151: DeprecationWarning: The truth value of an empty array is ambiguous. Returning False, but in future this will result in an error. Use `array.size > 0` to check that an array is not empty.\n",
      "  if diff:\n"
     ]
    },
    {
     "name": "stdout",
     "output_type": "stream",
     "text": [
      "[1]\tvalid_0's binary_logloss: 0.607842\tvalid_0's auc: 0.771709\n",
      "Training until validation scores don't improve for 5 rounds.\n",
      "[2]\tvalid_0's binary_logloss: 0.551378\tvalid_0's auc: 0.779083\n",
      "[3]\tvalid_0's binary_logloss: 0.512876\tvalid_0's auc: 0.779158\n",
      "[4]\tvalid_0's binary_logloss: 0.485973\tvalid_0's auc: 0.779495\n",
      "[5]\tvalid_0's binary_logloss: 0.466875\tvalid_0's auc: 0.780551\n",
      "[6]\tvalid_0's binary_logloss: 0.453922\tvalid_0's auc: 0.779441\n",
      "[7]\tvalid_0's binary_logloss: 0.443921\tvalid_0's auc: 0.782188\n",
      "[8]\tvalid_0's binary_logloss: 0.436338\tvalid_0's auc: 0.783429\n",
      "[9]\tvalid_0's binary_logloss: 0.431497\tvalid_0's auc: 0.783949\n",
      "[10]\tvalid_0's binary_logloss: 0.427679\tvalid_0's auc: 0.784487\n",
      "[11]\tvalid_0's binary_logloss: 0.425355\tvalid_0's auc: 0.784467\n",
      "[12]\tvalid_0's binary_logloss: 0.422874\tvalid_0's auc: 0.786008\n",
      "[13]\tvalid_0's binary_logloss: 0.421913\tvalid_0's auc: 0.785443\n",
      "[14]\tvalid_0's binary_logloss: 0.420655\tvalid_0's auc: 0.786165\n",
      "[15]\tvalid_0's binary_logloss: 0.420381\tvalid_0's auc: 0.786132\n",
      "[16]\tvalid_0's binary_logloss: 0.420154\tvalid_0's auc: 0.78556\n",
      "[17]\tvalid_0's binary_logloss: 0.41964\tvalid_0's auc: 0.785817\n",
      "[18]\tvalid_0's binary_logloss: 0.419203\tvalid_0's auc: 0.786579\n",
      "[19]\tvalid_0's binary_logloss: 0.419614\tvalid_0's auc: 0.785923\n",
      "[20]\tvalid_0's binary_logloss: 0.419317\tvalid_0's auc: 0.78585\n",
      "[21]\tvalid_0's binary_logloss: 0.419215\tvalid_0's auc: 0.786303\n",
      "[22]\tvalid_0's binary_logloss: 0.419607\tvalid_0's auc: 0.785145\n",
      "[23]\tvalid_0's binary_logloss: 0.419888\tvalid_0's auc: 0.784744\n",
      "Early stopping, best iteration is:\n",
      "[18]\tvalid_0's binary_logloss: 0.419203\tvalid_0's auc: 0.786579\n"
     ]
    },
    {
     "name": "stderr",
     "output_type": "stream",
     "text": [
      "/anaconda3/lib/python3.6/site-packages/sklearn/preprocessing/label.py:151: DeprecationWarning: The truth value of an empty array is ambiguous. Returning False, but in future this will result in an error. Use `array.size > 0` to check that an array is not empty.\n",
      "  if diff:\n",
      "/anaconda3/lib/python3.6/site-packages/sklearn/preprocessing/label.py:151: DeprecationWarning: The truth value of an empty array is ambiguous. Returning False, but in future this will result in an error. Use `array.size > 0` to check that an array is not empty.\n",
      "  if diff:\n"
     ]
    },
    {
     "name": "stdout",
     "output_type": "stream",
     "text": [
      "[1]\tvalid_0's binary_logloss: 0.618631\tvalid_0's auc: 0.769112\n",
      "Training until validation scores don't improve for 5 rounds.\n",
      "[2]\tvalid_0's binary_logloss: 0.566298\tvalid_0's auc: 0.774392\n",
      "[3]\tvalid_0's binary_logloss: 0.52908\tvalid_0's auc: 0.776528\n",
      "[4]\tvalid_0's binary_logloss: 0.501766\tvalid_0's auc: 0.778822\n",
      "[5]\tvalid_0's binary_logloss: 0.481165\tvalid_0's auc: 0.780793\n",
      "[6]\tvalid_0's binary_logloss: 0.465898\tvalid_0's auc: 0.782084\n",
      "[7]\tvalid_0's binary_logloss: 0.455227\tvalid_0's auc: 0.778407\n",
      "[8]\tvalid_0's binary_logloss: 0.446863\tvalid_0's auc: 0.779603\n",
      "[9]\tvalid_0's binary_logloss: 0.440315\tvalid_0's auc: 0.779731\n",
      "[10]\tvalid_0's binary_logloss: 0.435096\tvalid_0's auc: 0.781429\n",
      "[11]\tvalid_0's binary_logloss: 0.431369\tvalid_0's auc: 0.780919\n",
      "Early stopping, best iteration is:\n",
      "[6]\tvalid_0's binary_logloss: 0.465898\tvalid_0's auc: 0.782084\n",
      "Best parameters found by grid search are: {'learning_rate': 0.175, 'n_estimators': 20}\n"
     ]
    }
   ],
   "source": [
    "# Remake our test/train set with our reduced dataset\n",
    "X_train, X_test, y_train, y_test = train_test_split(X, y, test_size=0.1, random_state=21)\n",
    "\n",
    "reduc_estimator = lgb.LGBMClassifier(learning_rate = 0.125, metric = 'l1', \n",
    "                        n_estimators = 20, num_leaves = 38)\n",
    "\n",
    "# Parameter grid for hyperparameter tuning\n",
    "param_grid = {\n",
    "    'n_estimators': [x for x in range(20, 36, 2)],\n",
    "    'learning_rate': [0.10, 0.125, 0.15, 0.175, 0.2]}\n",
    "\n",
    "gridsearch = GridSearchCV(reduc_estimator, param_grid)\n",
    "\n",
    "gridsearch.fit(X_train, y_train,\n",
    "        eval_set = [(X_test, y_test)],\n",
    "        eval_metric = ['auc', 'binary_logloss'],\n",
    "        early_stopping_rounds = 5)\n",
    "print('Best parameters found by grid search are:', gridsearch.best_params_)\n",
    "\n"
   ]
  },
  {
   "cell_type": "code",
   "execution_count": 200,
   "metadata": {
    "scrolled": true
   },
   "outputs": [
    {
     "name": "stdout",
     "output_type": "stream",
     "text": [
      "[1]\tvalid_0's binary_logloss: 0.648867\tvalid_0's auc: 0.766848\n",
      "Training until validation scores don't improve for 5 rounds.\n",
      "[2]\tvalid_0's binary_logloss: 0.612565\tvalid_0's auc: 0.775806\n",
      "[3]\tvalid_0's binary_logloss: 0.58282\tvalid_0's auc: 0.778374\n",
      "[4]\tvalid_0's binary_logloss: 0.557836\tvalid_0's auc: 0.779572\n",
      "[5]\tvalid_0's binary_logloss: 0.537094\tvalid_0's auc: 0.780744\n",
      "[6]\tvalid_0's binary_logloss: 0.519622\tvalid_0's auc: 0.780324\n",
      "[7]\tvalid_0's binary_logloss: 0.504894\tvalid_0's auc: 0.780673\n",
      "[8]\tvalid_0's binary_logloss: 0.492087\tvalid_0's auc: 0.780703\n",
      "[9]\tvalid_0's binary_logloss: 0.481637\tvalid_0's auc: 0.781495\n",
      "[10]\tvalid_0's binary_logloss: 0.472506\tvalid_0's auc: 0.783368\n",
      "[11]\tvalid_0's binary_logloss: 0.464891\tvalid_0's auc: 0.783116\n",
      "[12]\tvalid_0's binary_logloss: 0.45819\tvalid_0's auc: 0.783263\n",
      "[13]\tvalid_0's binary_logloss: 0.452558\tvalid_0's auc: 0.783572\n",
      "[14]\tvalid_0's binary_logloss: 0.448038\tvalid_0's auc: 0.782096\n",
      "[15]\tvalid_0's binary_logloss: 0.443684\tvalid_0's auc: 0.783023\n",
      "[16]\tvalid_0's binary_logloss: 0.439989\tvalid_0's auc: 0.783143\n",
      "[17]\tvalid_0's binary_logloss: 0.437033\tvalid_0's auc: 0.7834\n",
      "[18]\tvalid_0's binary_logloss: 0.434391\tvalid_0's auc: 0.783437\n",
      "Early stopping, best iteration is:\n",
      "[13]\tvalid_0's binary_logloss: 0.452558\tvalid_0's auc: 0.783572\n"
     ]
    },
    {
     "data": {
      "text/plain": [
       "LGBMClassifier(boosting_type='gbdt', colsample_bytree=1.0, learning_rate=0.1,\n",
       "        max_bin=255, max_depth=-1, metric='l1', min_child_samples=10,\n",
       "        min_child_weight=5, min_split_gain=0.0, n_estimators=20, n_jobs=-1,\n",
       "        num_leaves=31, objective=None, random_state=0, reg_alpha=0.0,\n",
       "        reg_lambda=0.0, silent=True, subsample=1.0,\n",
       "        subsample_for_bin=50000, subsample_freq=1)"
      ]
     },
     "execution_count": 200,
     "metadata": {},
     "output_type": "execute_result"
    }
   ],
   "source": [
    "gbm = lgb.LGBMClassifier(learning_rate = 0.1, metric = 'l1', \n",
    "                        n_estimators = 20)\n",
    "gbm.fit(X_train, y_train,\n",
    "        eval_set=[(X_test, y_test)],\n",
    "        eval_metric=['auc', 'binary_logloss'],\n",
    "early_stopping_rounds=5)"
   ]
  },
  {
   "cell_type": "markdown",
   "metadata": {},
   "source": [
    "<li>We still need to compare the <b>classification accuracy </b> versus the <b>null accuracy</b> ( the accuracy that could be achieved by always predicting the most frequent class). We must always compare the two.  </li>"
   ]
  },
  {
   "cell_type": "code",
   "execution_count": 202,
   "metadata": {
    "scrolled": true
   },
   "outputs": [
    {
     "name": "stdout",
     "output_type": "stream",
     "text": [
      "The accuracy of prediction is: 0.8283333333333334\n",
      "The roc_auc_score of prediction is: 0.6591498940677966\n",
      "The null acccuracy is: 0.7866666666666666\n"
     ]
    },
    {
     "name": "stderr",
     "output_type": "stream",
     "text": [
      "/anaconda3/lib/python3.6/site-packages/sklearn/preprocessing/label.py:151: DeprecationWarning: The truth value of an empty array is ambiguous. Returning False, but in future this will result in an error. Use `array.size > 0` to check that an array is not empty.\n",
      "  if diff:\n"
     ]
    }
   ],
   "source": [
    "y_pred = gbm.predict(X_test, num_iteration=gbm.best_iteration_)\n",
    "print('The accuracy of prediction is:', accuracy_score(y_test, y_pred))\n",
    "print('The roc_auc_score of prediction is:', roc_auc_score(y_test, y_pred))\n",
    "print('The null acccuracy is:', max(y_test.mean(), 1 - y_test.mean()))"
   ]
  },
  {
   "cell_type": "code",
   "execution_count": 203,
   "metadata": {
    "collapsed": true
   },
   "outputs": [],
   "source": [
    "y_pred_prob = gbm.predict_proba(X_test)[:, 1]"
   ]
  },
  {
   "cell_type": "code",
   "execution_count": 204,
   "metadata": {},
   "outputs": [
    {
     "data": {
      "text/plain": [
       "array([0.44168496, 0.27917666, 0.18542871, ..., 0.64304413, 0.68433259,\n",
       "       0.32742203])"
      ]
     },
     "execution_count": 204,
     "metadata": {},
     "output_type": "execute_result"
    }
   ],
   "source": [
    "y_pred_prob"
   ]
  },
  {
   "cell_type": "code",
   "execution_count": 213,
   "metadata": {
    "scrolled": true
   },
   "outputs": [
    {
     "data": {
      "image/png": "[encoded data removed]",
      "text/plain": [
       "<matplotlib.figure.Figure at 0x1a1ced4c18>"
      ]
     },
     "metadata": {},
     "output_type": "display_data"
    }
   ],
   "source": [
    "fpr, tpr, thresholds = metrics.roc_curve(y_test, y_pred_prob)\n",
    "\n",
    "plt.plot(fpr, tpr)\n",
    "plt.xlim([0.0, 1.0])\n",
    "plt.ylim([0.0, 1.0])\n",
    "plt.rcParams['font.size'] = 12\n",
    "plt.title('ROC curve for credit card defaulting classifier')\n",
    "plt.xlabel('False Positive Rate (1 - Specificity)')\n",
    "plt.grid(True)"
   ]
  },
  {
   "cell_type": "code",
   "execution_count": 209,
   "metadata": {},
   "outputs": [
    {
     "name": "stdout",
     "output_type": "stream",
     "text": [
      "AUC with dimensionality reduction: \n",
      "0.7835722325211865\n",
      "AUC without dimensionality reduction: \n",
      "0.7887846326619228\n"
     ]
    }
   ],
   "source": [
    "auc_roc_1 = str(metrics.roc_auc_score(y_test, y_pred_prob))\n",
    "print('AUC with dimensionality reduction: \\n' + auc_roc_1)\n",
    "print('AUC without dimensionality reduction: \\n' + auc_roc_0)"
   ]
  },
  {
   "cell_type": "markdown",
   "metadata": {},
   "source": [
    "<h2>Conclusion</h2>\n",
    "We were able to reduce the size of our training/test set by 26% by removing 6 features, while only giving up 0.52% in our AUC accuracy"
   ]
  },
  {
   "cell_type": "markdown",
   "metadata": {},
   "source": [
    "\n",
    "\n",
    "- AUC is useful as a single number summary of classifier performance\n",
    "- Higher value means that it is a better classifier\n",
    "- If you randomly chose one positive and one negative observation, AUC represents the likelihood that your classifier will assign a higher predicted probability to the positive observation\n",
    "- AUC is useful even when there is high class imbalance (unlike classification accuracy)\n",
    "\n"
   ]
  },
  {
   "cell_type": "markdown",
   "metadata": {},
   "source": [
    "It is a good thing that the prediction accuracy is greater than the null accuracy because it shows us that the model is performing better than by just predicting the most frequent class. "
   ]
  },
  {
   "cell_type": "markdown",
   "metadata": {},
   "source": [
    "<h2>Confusion matrix </h2>"
   ]
  },
  {
   "cell_type": "code",
   "execution_count": 212,
   "metadata": {
    "scrolled": true
   },
   "outputs": [
    {
     "name": "stdout",
     "output_type": "stream",
     "text": [
      "[[2252  108]\n",
      " [ 407  233]]\n"
     ]
    }
   ],
   "source": [
    "from sklearn import metrics\n",
    "print(metrics.confusion_matrix(y_test, y_pred))"
   ]
  },
  {
   "cell_type": "markdown",
   "metadata": {},
   "source": [
    "\n",
    "\n",
    "<b>Basic terminology</b>\n",
    "\n",
    "- <b>True Positives (TP)</b>: we correctly predicted that they would default. \n",
    "    - 233\n",
    "     \n",
    "     \n",
    "- <b>True Negatives (TN)</b>: we correctly predicted that they won't default.\n",
    "    - 2252\n",
    "     \n",
    "    \n",
    "- <b>False Positives (FP)</b>: we incorrectly predicted that they did default.\n",
    "    - 108\n",
    "    - Falsely predict positive\n",
    "    - Type I error\n",
    "      \n",
    "       \n",
    "- <b>False Negatives (FN)</b>: we incorrectly predicted that they didn't default. \n",
    "    - 407\n",
    "    - Falsely predict negative\n",
    "    - Type II error\n",
    "\n"
   ]
  },
  {
   "cell_type": "code",
   "execution_count": null,
   "metadata": {
    "collapsed": true
   },
   "outputs": [],
   "source": []
  }
 ],
 "metadata": {
  "kernelspec": {
   "display_name": "Python 3",
   "language": "python",
   "name": "python3"
  },
  "language_info": {
   "codemirror_mode": {
    "name": "ipython",
    "version": 3
   },
   "file_extension": ".py",
   "mimetype": "text/x-python",
   "name": "python",
   "nbconvert_exporter": "python",
   "pygments_lexer": "ipython3",
   "version": "3.6.2"
  }
 },
 "nbformat": 4,
 "nbformat_minor": 2
}
