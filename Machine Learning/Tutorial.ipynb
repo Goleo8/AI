{
 "cells": [
  {
   "cell_type": "markdown",
   "metadata": {},
   "source": [
    "## Category\n",
    "- Supervised Learning\n",
    "- Unsupervised Learning\n",
    "- Semi-supervised Learning\n",
    "- Reinforcement Learning\n",
    "\n",
    "## Supervised Learning\n",
    "- classification\n",
    "- regression\n",
    "\n",
    "## Unsupervised Learning\n",
    "\n",
    "- clustering\n",
    "- density estimation\n",
    "- outlier detection\n",
    "\n",
    "## Algorithm Type\n",
    "\n",
    "- batch\n",
    "- online\n",
    "- active\n",
    "\n",
    "<img src='../pics/Machine Learning Summary.png'>"
   ]
  },
  {
   "cell_type": "markdown",
   "metadata": {
    "collapsed": true
   },
   "source": [
    "### Hoeffding's Inequality\n",
    "\n",
    "$\\mu$:the proportion of the total marbles\n",
    "$\\nu$:the proportion of the sample marbles\n",
    "$N$:the account of total samples\n",
    "\n",
    "$P[|\\nu-\\mu|]>\\epsilon]\\leq2exp(-2\\epsilon^2N)$"
   ]
  }
 ],
 "metadata": {
  "kernelspec": {
   "display_name": "Python 3",
   "language": "python",
   "name": "python3"
  },
  "language_info": {
   "codemirror_mode": {
    "name": "ipython",
    "version": 3
   },
   "file_extension": ".py",
   "mimetype": "text/x-python",
   "name": "python",
   "nbconvert_exporter": "python",
   "pygments_lexer": "ipython3",
   "version": "3.6.4"
  }
 },
 "nbformat": 4,
 "nbformat_minor": 2
}
