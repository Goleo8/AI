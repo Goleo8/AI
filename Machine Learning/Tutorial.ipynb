{
 "cells": [
  {
   "cell_type": "markdown",
   "metadata": {},
   "source": [
    "## Category\n",
    "- Supervised Learning\n",
    "- Unsupervised Learning\n",
    "- Semi-supervised Learning\n",
    "- Reinforcement Learning\n",
    "\n",
    "## Supervised Learning\n",
    "- classification\n",
    "- regression\n",
    "\n",
    "## Unsupervised Learning\n",
    "\n",
    "- Clustering\n",
    "- Density estimation\n",
    "- Outlier detection\n",
    "- Dimensionality reduction\n",
    "- Frequent pattern detection\n",
    "\n",
    "## Algorithm Type\n",
    "\n",
    "- batch\n",
    "- online\n",
    "- active\n",
    "\n",
    "## Models\n",
    "\n",
    "* Linear Regression\n",
    "* Locally Weighted Linear Regression\n",
    "* Logistic Regression\n",
    "* Perceptron Learning Algorithm\n",
    "* LDA(Gaussian Discriminant Anaysis) & QDA\n",
    "* Naive Baysien\n",
    "* Random Forest\n",
    "* Word2Vec\n",
    "\n",
    "## Solve H($\\theta$)   \n",
    "* Batch Gradient Descent\n",
    "* Stochastic Gradient Descent\n",
    "* Normal Equation\n",
    "\n",
    "## Metrics\n",
    "* Clasification\n",
    "    * Precision\n",
    "    * Sensitivity(recall)\n",
    "    * Specificity\n",
    "    * Accuracy\n",
    "    * ROC(AUC)   \n",
    "sensitivity(True Positive Rate) vs 1-specificity(False Positive Rate)\n",
    "    * F-Score   \n",
    "$F-Score=(1+\\beta^2)\\frac{Precision*Sensitivity}{\\beta^2*Precision+Sensitivity}$\n",
    "* Regression\n",
    "    * MAE(Mean Absolute Error)(l1-norm loss)\n",
    "    * MSE(Mean Square Error)(l2-norm loss)\n",
    "<img src='../pics/Machine Learning Summary.png'>"
   ]
  },
  {
   "cell_type": "markdown",
   "metadata": {
    "collapsed": true
   },
   "source": [
    "### Hoeffding's Inequality\n",
    "\n",
    "$\\mu$:the proportion of the total marbles\n",
    "$\\nu$:the proportion of the sample marbles\n",
    "$N$:the account of total samples\n",
    "\n",
    "$P[|\\nu-\\mu|]>\\epsilon]\\leq2exp(-2\\epsilon^2N)$   \n",
    "$P[|E_{in}(g)-E_{out}(g)|]>\\epsilon]\\leq2*effective(N)*exp(-2\\epsilon^2N)$"
   ]
  },
  {
   "cell_type": "markdown",
   "metadata": {
    "collapsed": true
   },
   "source": [
    "### Bounding Function\n",
    "\n",
    "* $B(N,k) = \\sum\\limits_{i=0}^{k-1}(_i^N)$ \n",
    "\n",
    "k is the breaking point\n",
    "#### vapnik-chervonenkis bound\n",
    "$\\mathbb{P}[|E_{in}(g)-E_{out}(g)|>\\epsilon] \\leq 4m_{\\mathcal{H}}(2N)exp(-\\frac{1}{8}\\epsilon^28) \\leq 4(2N)^{k-1}exp(-\\frac{1}{8}\\epsilon^28)  $ "
   ]
  },
  {
   "cell_type": "markdown",
   "metadata": {},
   "source": [
    "### VC Dimension\n",
    "$d_{VC}(\\mathcal{H})$ is largest N for which $m_\\mathcal{H}(N)=2^N$"
   ]
  },
  {
   "cell_type": "code",
   "execution_count": 12,
   "metadata": {
    "collapsed": true
   },
   "outputs": [],
   "source": [
    "from sklearn.model_selection import cross_validate, train_test_split\n",
    "from sklearn.multiclass import OneVsRestClassifier\n",
    "from sklearn.linear_model import LogisticRegression\n",
    "from sklearn.datasets import load_iris\n",
    "import numpy as np"
   ]
  },
  {
   "cell_type": "code",
   "execution_count": 9,
   "metadata": {
    "collapsed": true
   },
   "outputs": [],
   "source": [
    "data=load_iris()"
   ]
  },
  {
   "cell_type": "code",
   "execution_count": 11,
   "metadata": {
    "collapsed": false
   },
   "outputs": [],
   "source": [
    "X,y=data['data'],data['target']"
   ]
  },
  {
   "cell_type": "code",
   "execution_count": 15,
   "metadata": {
    "collapsed": false
   },
   "outputs": [],
   "source": [
    "index=np.random.permutation(X.shape[0])\n",
    "X,y=X[index],y[index]"
   ]
  },
  {
   "cell_type": "code",
   "execution_count": 16,
   "metadata": {
    "collapsed": true
   },
   "outputs": [],
   "source": [
    "X_train,X_test,y_train,y_test=train_test_split(X,y,test_size=.3,random_state=42)"
   ]
  },
  {
   "cell_type": "code",
   "execution_count": 17,
   "metadata": {
    "collapsed": true
   },
   "outputs": [],
   "source": [
    "lr_clf = LogisticRegression()\n",
    "ovr_clf = OneVsRestClassifier(lr_clf,n_jobs=-1)"
   ]
  },
  {
   "cell_type": "code",
   "execution_count": 21,
   "metadata": {
    "collapsed": false
   },
   "outputs": [],
   "source": [
    "scores=cross_validate(ovr_clf,X_train,y_train,scoring='f1_micro',cv=5)"
   ]
  }
 ],
 "metadata": {
  "kernelspec": {
   "display_name": "Python 2",
   "language": "python",
   "name": "python2"
  },
  "language_info": {
   "codemirror_mode": {
    "name": "ipython",
    "version": 2
   },
   "file_extension": ".py",
   "mimetype": "text/x-python",
   "name": "python",
   "nbconvert_exporter": "python",
   "pygments_lexer": "ipython2",
   "version": "2.7.13"
  }
 },
 "nbformat": 4,
 "nbformat_minor": 2
}
