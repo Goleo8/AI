{
 "cells": [
  {
   "cell_type": "markdown",
   "metadata": {},
   "source": [
    "## Category\n",
    "- Supervised Learning\n",
    "- Unsupervised Learning\n",
    "- Semi-supervised Learning\n",
    "- Reinforcement Learning\n",
    "\n",
    "## Supervised Learning\n",
    "- classification\n",
    "- regression\n",
    "\n",
    "## Unsupervised Learning\n",
    "\n",
    "- clustering\n",
    "- density estimation\n",
    "- outlier detection\n",
    "\n",
    "## Algorithm Type\n",
    "\n",
    "- batch\n",
    "- online\n",
    "- active\n",
    "\n",
    "<img src='../pics/Machine Learning Summary.png'>"
   ]
  },
  {
   "cell_type": "markdown",
   "metadata": {
    "collapsed": true
   },
   "source": [
    "### Hoeffding's Inequality\n",
    "\n",
    "$\\mu$:the proportion of the total marbles\n",
    "$\\nu$:the proportion of the sample marbles\n",
    "$N$:the account of total samples\n",
    "\n",
    "$P[|\\nu-\\mu|]>\\epsilon]\\leq2exp(-2\\epsilon^2N)$   \n",
    "$P[|E_{in}(g)-E_{out}(g)|]>\\epsilon]\\leq2*effective(N)*exp(-2\\epsilon^2N)$"
   ]
  },
  {
   "cell_type": "markdown",
   "metadata": {
    "collapsed": true
   },
   "source": [
    "### Bounding Function\n",
    "\n",
    "* $B(N,k) = \\sum\\limits_{i=0}^{k-1}(_i^N)$ \n",
    "\n",
    "k is the breaking point\n",
    "#### vapnik-chervonenkis bound\n",
    "$\\mathbb{P}[|E_{in}(g)-E_{out}(g)|>\\epsilon] \\leq 4m_{\\mathcal{H}}(2N)exp(-\\frac{1}{8}\\epsilon^28) \\leq 4(2N)^{k-1}exp(-\\frac{1}{8}\\epsilon^28)  $ "
   ]
  },
  {
   "cell_type": "markdown",
   "metadata": {},
   "source": [
    "### VC Dimension\n",
    "$d_{VC}(\\mathcal{H})$ is largest N for which $m_\\mathcal{H}(N)=2^N$"
   ]
  },
  {
   "cell_type": "code",
   "execution_count": null,
   "metadata": {
    "collapsed": true
   },
   "outputs": [],
   "source": []
  }
 ],
 "metadata": {
  "kernelspec": {
   "display_name": "Python 2",
   "language": "python",
   "name": "python2"
  },
  "language_info": {
   "codemirror_mode": {
    "name": "ipython",
    "version": 2
   },
   "file_extension": ".py",
   "mimetype": "text/x-python",
   "name": "python",
   "nbconvert_exporter": "python",
   "pygments_lexer": "ipython2",
   "version": "2.7.13"
  }
 },
 "nbformat": 4,
 "nbformat_minor": 2
}
