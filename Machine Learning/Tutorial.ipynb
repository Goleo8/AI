{
 "cells": [
  {
   "cell_type": "markdown",
   "metadata": {},
   "source": [
    "## Classification\n",
    "- Supervised Learning\n",
    "- Unsupervised Learning\n",
    "- Semi-supervised Learning\n",
    "- Reinforcement Learning\n",
    "\n",
    "## Supervised Learning\n",
    "- classification\n",
    "- regression\n",
    "\n",
    "## Unsupervised Learning\n",
    "\n",
    "- clustering\n",
    "- density estimation\n",
    "- outlier detection\n",
    "\n",
    "## Type\n",
    "\n",
    "- batch\n",
    "- online\n",
    "- active\n",
    "\n",
    "<img src='../pics/Machine Learning Summary.png'>"
   ]
  },
  {
   "cell_type": "code",
   "execution_count": null,
   "metadata": {
    "collapsed": true
   },
   "outputs": [],
   "source": []
  }
 ],
 "metadata": {
  "kernelspec": {
   "display_name": "Python 2",
   "language": "python",
   "name": "python2"
  },
  "language_info": {
   "codemirror_mode": {
    "name": "ipython",
    "version": 2
   },
   "file_extension": ".py",
   "mimetype": "text/x-python",
   "name": "python",
   "nbconvert_exporter": "python",
   "pygments_lexer": "ipython2",
   "version": "2.7.13"
  }
 },
 "nbformat": 4,
 "nbformat_minor": 2
}
