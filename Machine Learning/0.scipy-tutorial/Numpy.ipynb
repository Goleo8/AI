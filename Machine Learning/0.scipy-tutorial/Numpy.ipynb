{
 "cells": [
  {
   "cell_type": "code",
   "execution_count": 1,
   "metadata": {
    "collapsed": true
   },
   "outputs": [],
   "source": [
    "import numpy as np"
   ]
  },
  {
   "cell_type": "code",
   "execution_count": 6,
   "metadata": {
    "collapsed": false
   },
   "outputs": [
    {
     "name": "stdout",
     "output_type": "stream",
     "text": [
      "CPU times: user 43 µs, sys: 10 µs, total: 53 µs\n",
      "Wall time: 52.9 µs\n"
     ]
    },
    {
     "data": {
      "text/plain": [
       "278"
      ]
     },
     "execution_count": 6,
     "metadata": {},
     "output_type": "execute_result"
    }
   ],
   "source": [
    "x1 = [9, 2, 5, 0, 0, 7, 5, 0, 0, 0, 9, 2, 5, 0, 0]\n",
    "x2 = [9, 2, 2, 9, 0, 9, 2, 5, 0, 0, 9, 2, 5, 0, 0]\n",
    "\n",
    "%time np.dot(x1,x2)\n"
   ]
  },
  {
   "cell_type": "code",
   "execution_count": 7,
   "metadata": {
    "collapsed": false
   },
   "outputs": [
    {
     "name": "stdout",
     "output_type": "stream",
     "text": [
      "CPU times: user 146 µs, sys: 647 µs, total: 793 µs\n",
      "Wall time: 2.01 ms\n"
     ]
    },
    {
     "data": {
      "text/plain": [
       "array([[81, 18, 18, 81,  0, 81, 18, 45,  0,  0, 81, 18, 45,  0,  0],\n",
       "       [18,  4,  4, 18,  0, 18,  4, 10,  0,  0, 18,  4, 10,  0,  0],\n",
       "       [45, 10, 10, 45,  0, 45, 10, 25,  0,  0, 45, 10, 25,  0,  0],\n",
       "       [ 0,  0,  0,  0,  0,  0,  0,  0,  0,  0,  0,  0,  0,  0,  0],\n",
       "       [ 0,  0,  0,  0,  0,  0,  0,  0,  0,  0,  0,  0,  0,  0,  0],\n",
       "       [63, 14, 14, 63,  0, 63, 14, 35,  0,  0, 63, 14, 35,  0,  0],\n",
       "       [45, 10, 10, 45,  0, 45, 10, 25,  0,  0, 45, 10, 25,  0,  0],\n",
       "       [ 0,  0,  0,  0,  0,  0,  0,  0,  0,  0,  0,  0,  0,  0,  0],\n",
       "       [ 0,  0,  0,  0,  0,  0,  0,  0,  0,  0,  0,  0,  0,  0,  0],\n",
       "       [ 0,  0,  0,  0,  0,  0,  0,  0,  0,  0,  0,  0,  0,  0,  0],\n",
       "       [81, 18, 18, 81,  0, 81, 18, 45,  0,  0, 81, 18, 45,  0,  0],\n",
       "       [18,  4,  4, 18,  0, 18,  4, 10,  0,  0, 18,  4, 10,  0,  0],\n",
       "       [45, 10, 10, 45,  0, 45, 10, 25,  0,  0, 45, 10, 25,  0,  0],\n",
       "       [ 0,  0,  0,  0,  0,  0,  0,  0,  0,  0,  0,  0,  0,  0,  0],\n",
       "       [ 0,  0,  0,  0,  0,  0,  0,  0,  0,  0,  0,  0,  0,  0,  0]])"
      ]
     },
     "execution_count": 7,
     "metadata": {},
     "output_type": "execute_result"
    }
   ],
   "source": [
    "%time np.outer(x1,x2)"
   ]
  },
  {
   "cell_type": "code",
   "execution_count": 9,
   "metadata": {
    "collapsed": false
   },
   "outputs": [
    {
     "name": "stdout",
     "output_type": "stream",
     "text": [
      "CPU times: user 17 µs, sys: 10 µs, total: 27 µs\n",
      "Wall time: 30 µs\n"
     ]
    },
    {
     "data": {
      "text/plain": [
       "array([[81, 18, 18, 81,  0, 81, 18, 45,  0,  0, 81, 18, 45,  0,  0],\n",
       "       [18,  4,  4, 18,  0, 18,  4, 10,  0,  0, 18,  4, 10,  0,  0],\n",
       "       [45, 10, 10, 45,  0, 45, 10, 25,  0,  0, 45, 10, 25,  0,  0],\n",
       "       [ 0,  0,  0,  0,  0,  0,  0,  0,  0,  0,  0,  0,  0,  0,  0],\n",
       "       [ 0,  0,  0,  0,  0,  0,  0,  0,  0,  0,  0,  0,  0,  0,  0],\n",
       "       [63, 14, 14, 63,  0, 63, 14, 35,  0,  0, 63, 14, 35,  0,  0],\n",
       "       [45, 10, 10, 45,  0, 45, 10, 25,  0,  0, 45, 10, 25,  0,  0],\n",
       "       [ 0,  0,  0,  0,  0,  0,  0,  0,  0,  0,  0,  0,  0,  0,  0],\n",
       "       [ 0,  0,  0,  0,  0,  0,  0,  0,  0,  0,  0,  0,  0,  0,  0],\n",
       "       [ 0,  0,  0,  0,  0,  0,  0,  0,  0,  0,  0,  0,  0,  0,  0],\n",
       "       [81, 18, 18, 81,  0, 81, 18, 45,  0,  0, 81, 18, 45,  0,  0],\n",
       "       [18,  4,  4, 18,  0, 18,  4, 10,  0,  0, 18,  4, 10,  0,  0],\n",
       "       [45, 10, 10, 45,  0, 45, 10, 25,  0,  0, 45, 10, 25,  0,  0],\n",
       "       [ 0,  0,  0,  0,  0,  0,  0,  0,  0,  0,  0,  0,  0,  0,  0],\n",
       "       [ 0,  0,  0,  0,  0,  0,  0,  0,  0,  0,  0,  0,  0,  0,  0]])"
      ]
     },
     "execution_count": 9,
     "metadata": {},
     "output_type": "execute_result"
    }
   ],
   "source": [
    "x1_=np.asarray(x1).reshape(-1,1)\n",
    "x2_=np.asarray(x2).reshape(1,-1)\n",
    "%time np.dot(x1_,x2_)"
   ]
  },
  {
   "cell_type": "code",
   "execution_count": null,
   "metadata": {
    "collapsed": true
   },
   "outputs": [],
   "source": []
  }
 ],
 "metadata": {
  "kernelspec": {
   "display_name": "Python 3",
   "language": "python",
   "name": "python3"
  },
  "language_info": {
   "codemirror_mode": {
    "name": "ipython",
    "version": 3
   },
   "file_extension": ".py",
   "mimetype": "text/x-python",
   "name": "python",
   "nbconvert_exporter": "python",
   "pygments_lexer": "ipython3",
   "version": "3.7.1"
  }
 },
 "nbformat": 4,
 "nbformat_minor": 2
}
