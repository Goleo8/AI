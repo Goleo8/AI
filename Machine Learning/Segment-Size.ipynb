{
 "cells": [
  {
   "cell_type": "code",
   "execution_count": 1,
   "metadata": {
    "collapsed": true
   },
   "outputs": [],
   "source": [
    "import pandas as pd"
   ]
  },
  {
   "cell_type": "code",
   "execution_count": 2,
   "metadata": {
    "collapsed": true
   },
   "outputs": [],
   "source": [
    "df = pd.read_csv('datasets/segments/part.csv',header=None)"
   ]
  },
  {
   "cell_type": "code",
   "execution_count": 3,
   "metadata": {
    "collapsed": true
   },
   "outputs": [],
   "source": [
    "country={\n",
    "      \"36\" : \"Australia\",\n",
    "      \"784\" : \"UAE\",\n",
    "      \"682\" : \"Saudi Arabia\",\n",
    "      \"414\" : \"Kuwait\",\n",
    "      \"512\" : \"Oman\",\n",
    "      \"48\" : \"Bahrain\",\n",
    "      \"400\" : \"Jordan\",\n",
    "      \"364\" : \"Iran\",\n",
    "      \"504\" : \"Morocco\",\n",
    "      \"12\" : \"Algeria\",\n",
    "      \"788\" : \"Tunisia\",\n",
    "      \"760\" : \"Syria\",\n",
    "      \"586\" : \"Pakistan\",\n",
    "      \"887\" : \"Yemen\",\n",
    "      \"634\" : \"Qatar\",\n",
    "      \"56\" : \"Belgium\",\n",
    "      \"250\" : \"France\",\n",
    "      \"724\" : \"Spain\",\n",
    "      \"528\" : \"Netherlands\",\n",
    "      \"203\" : \"Czech\",\n",
    "      \"792\" : \"Turkey\",\n",
    "      \"642\" : \"Romania\",\n",
    "      \"458\" : \"Malaysia\",\n",
    "      \"702\" : \"Singapore\",\n",
    "      \"356\" : \"India\",\n",
    "      \"764\" : \"Thailand\",\n",
    "      \"704\" : \"Vietnam\",\n",
    "      \"608\" : \"Philippines\",\n",
    "      \"710\" : \"South Africa\",\n",
    "      \"422\" : \"Lebanon\",\n",
    "      \"368\" : \"Iraq\",\n",
    "      \"376\" : \"Israel\",\n",
    "      \"116\" : \"Cambodia\",\n",
    "      \"818\" : \"Egypt\",\n",
    "      \"434\" : \"Libya\",\n",
    "      \"478\" : \"Mauritania\",\n",
    "      \"4\" : \"Afghanistan\",\n",
    "      \"344\" : \"Hong Kong\",\n",
    "      \"804\" : \"Ukraine\",\n",
    "      \"360\" : \"Indonesia\",\n",
    "      \"156\" : \"China\",\n",
    "      \"410\" : \"South Korea\",\n",
    "      \"408\" : \"North Korea\",\n",
    "      \"392\" : \"Japan\",\n",
    "      \"496\" : \"Mongolia\",\n",
    "      \"124\" : \"Canada\",\n",
    "      \"840\" : \"USA\",\n",
    "      \"826\" : \"UK\",\n",
    "      \"144\" : \"Sri Lanka\",\n",
    "      \"566\" : \"Nigeria\",\n",
    "      \"404\" : \"Kenya\",\n",
    "      \"554\" : \"New Zealand\",\n",
    "      \"275\" : \"Palestine\",\n",
    "      \"484\" : \"Mexico\",\n",
    "      \"76\" : \"Brazil\",\n",
    "      \"170\" : \"Colombia\",\n",
    "      \"32\" : \"Argentina\",\n",
    "      \"152\" : \"Chile\",\n",
    "      \"604\" : \"Peru\",\n",
    "      \"862\" : \"Venezuela\",\n",
    "      \"218\" : \"Ecuador\",\n",
    "      \"68\" : \"Bolivia\",\n",
    "      \"600\" : \"Paraguay\",\n",
    "      \"858\" : \"Uruguay\",\n",
    "      \"158\" : \"Taiwan\",\n",
    "      \"729\" : \"Sudan\",\n",
    "      \"276\" : \"Germany\",\n",
    "      \"300\" : \"Greece\",\n",
    "      \"380\" : \"Italy\",\n",
    "      \"288\" : \"Ghana\",\n",
    "      \"834\" : \"Tanzania\",\n",
    "      \"231\" : \"Ethiopia\",\n",
    "      \"716\" : \"Zimbabwe\",\n",
    "      \"894\" : \"Zambia\",\n",
    "      \"270\" : \"Gambia\",\n",
    "      \"454\" : \"Malawi\",\n",
    "      \"208\" : \"Denmark\",\n",
    "      \"578\" : \"Norway\",\n",
    "      \"246\" : \"Finland\",\n",
    "      \"50\" : \"Bangladesh\",\n",
    "      \"372\" : \"Ireland\",\n",
    "      \"756\" : \"Switzerland\",\n",
    "      \"752\" : \"Sweden\",\n",
    "      \"192\" : \"Cuba\",\n",
    "      \"388\" : \"Jamaica\",\n",
    "      \"643\" : \"Russia\",\n",
    "      \"70\" : \"Bosnia-Herzegovina\",\n",
    "      \"40\" : \"Austria\",\n",
    "      \"620\" : \"Portugal\",\n",
    "      \"516\" : \"Namibia\",\n",
    "      \"72\" : \"Botswana\",\n",
    "      \"800\" : \"Uganda\",\n",
    "      \"728\" : \"South Sudan\",\n",
    "      \"703\" : \"Slovakia\",\n",
    "      \"348\" : \"Hungary\",\n",
    "      \"266\" : \"Gabon\",\n",
    "      \"508\" : \"Mozambique\",\n",
    "      \"24\" : \"Angola\",\n",
    "      \"120\" : \"Cameroon\",\n",
    "      \"384\" : \"CoteDIvore\",\n",
    "      \"96\" : \"Brunei\",\n",
    "      \"426\" : \"Lesotho\",\n",
    "      \"430\" : \"Liberia\",\n",
    "      \"450\" : \"Madagascar\",\n",
    "      \"466\" : \"Mali\",\n",
    "      \"480\" : \"Mauritius\",\n",
    "      \"562\" : \"Niger\",\n",
    "      \"646\" : \"Rwanda\",\n",
    "      \"686\" : \"Senegal\",\n",
    "      \"706\" : \"Somalia\",\n",
    "      \"748\" : \"Swaziland\",\n",
    "      \"180\" : \"Congo Dem Rep\",\n",
    "      \"178\" : \"Congo\",\n",
    "      \"148\" : \"Chad\",\n",
    "      \"690\" : \"Seychelles\",\n",
    "      \"232\" : \"Eritrea\",\n",
    "      \"694\" : \"Sierra Leone\",\n",
    "      \"768\" : \"Togo\"\n",
    "      }"
   ]
  },
  {
   "cell_type": "code",
   "execution_count": 7,
   "metadata": {
    "collapsed": false
   },
   "outputs": [
    {
     "data": {
      "text/plain": [
       "{4: 'Afghanistan',\n",
       " 12: 'Algeria',\n",
       " 24: 'Angola',\n",
       " 32: 'Argentina',\n",
       " 36: 'Australia',\n",
       " 40: 'Austria',\n",
       " 48: 'Bahrain',\n",
       " 50: 'Bangladesh',\n",
       " 56: 'Belgium',\n",
       " 68: 'Bolivia',\n",
       " 70: 'Bosnia-Herzegovina',\n",
       " 72: 'Botswana',\n",
       " 76: 'Brazil',\n",
       " 96: 'Brunei',\n",
       " 116: 'Cambodia',\n",
       " 120: 'Cameroon',\n",
       " 124: 'Canada',\n",
       " 144: 'Sri Lanka',\n",
       " 148: 'Chad',\n",
       " 152: 'Chile',\n",
       " 156: 'China',\n",
       " 158: 'Taiwan',\n",
       " 170: 'Colombia',\n",
       " 178: 'Congo',\n",
       " 180: 'Congo Dem Rep',\n",
       " 192: 'Cuba',\n",
       " 203: 'Czech',\n",
       " 208: 'Denmark',\n",
       " 218: 'Ecuador',\n",
       " 231: 'Ethiopia',\n",
       " 232: 'Eritrea',\n",
       " 246: 'Finland',\n",
       " 250: 'France',\n",
       " 266: 'Gabon',\n",
       " 270: 'Gambia',\n",
       " 275: 'Palestine',\n",
       " 276: 'Germany',\n",
       " 288: 'Ghana',\n",
       " 300: 'Greece',\n",
       " 344: 'Hong Kong',\n",
       " 348: 'Hungary',\n",
       " 356: 'India',\n",
       " 360: 'Indonesia',\n",
       " 364: 'Iran',\n",
       " 368: 'Iraq',\n",
       " 372: 'Ireland',\n",
       " 376: 'Israel',\n",
       " 380: 'Italy',\n",
       " 384: 'CoteDIvore',\n",
       " 388: 'Jamaica',\n",
       " 392: 'Japan',\n",
       " 400: 'Jordan',\n",
       " 404: 'Kenya',\n",
       " 408: 'North Korea',\n",
       " 410: 'South Korea',\n",
       " 414: 'Kuwait',\n",
       " 422: 'Lebanon',\n",
       " 426: 'Lesotho',\n",
       " 430: 'Liberia',\n",
       " 434: 'Libya',\n",
       " 450: 'Madagascar',\n",
       " 454: 'Malawi',\n",
       " 458: 'Malaysia',\n",
       " 466: 'Mali',\n",
       " 478: 'Mauritania',\n",
       " 480: 'Mauritius',\n",
       " 484: 'Mexico',\n",
       " 496: 'Mongolia',\n",
       " 504: 'Morocco',\n",
       " 508: 'Mozambique',\n",
       " 512: 'Oman',\n",
       " 516: 'Namibia',\n",
       " 528: 'Netherlands',\n",
       " 554: 'New Zealand',\n",
       " 562: 'Niger',\n",
       " 566: 'Nigeria',\n",
       " 578: 'Norway',\n",
       " 586: 'Pakistan',\n",
       " 600: 'Paraguay',\n",
       " 604: 'Peru',\n",
       " 608: 'Philippines',\n",
       " 620: 'Portugal',\n",
       " 634: 'Qatar',\n",
       " 642: 'Romania',\n",
       " 643: 'Russia',\n",
       " 646: 'Rwanda',\n",
       " 682: 'Saudi Arabia',\n",
       " 686: 'Senegal',\n",
       " 690: 'Seychelles',\n",
       " 694: 'Sierra Leone',\n",
       " 702: 'Singapore',\n",
       " 703: 'Slovakia',\n",
       " 704: 'Vietnam',\n",
       " 706: 'Somalia',\n",
       " 710: 'South Africa',\n",
       " 716: 'Zimbabwe',\n",
       " 724: 'Spain',\n",
       " 728: 'South Sudan',\n",
       " 729: 'Sudan',\n",
       " 748: 'Swaziland',\n",
       " 752: 'Sweden',\n",
       " 756: 'Switzerland',\n",
       " 760: 'Syria',\n",
       " 764: 'Thailand',\n",
       " 768: 'Togo',\n",
       " 784: 'UAE',\n",
       " 788: 'Tunisia',\n",
       " 792: 'Turkey',\n",
       " 800: 'Uganda',\n",
       " 804: 'Ukraine',\n",
       " 818: 'Egypt',\n",
       " 826: 'UK',\n",
       " 834: 'Tanzania',\n",
       " 840: 'USA',\n",
       " 858: 'Uruguay',\n",
       " 862: 'Venezuela',\n",
       " 887: 'Yemen',\n",
       " 894: 'Zambia'}"
      ]
     },
     "execution_count": 7,
     "metadata": {},
     "output_type": "execute_result"
    }
   ],
   "source": [
    "new_country={int(k):v for k,v in country.items()}\n",
    "new_country"
   ]
  },
  {
   "cell_type": "code",
   "execution_count": 8,
   "metadata": {
    "collapsed": true
   },
   "outputs": [],
   "source": [
    "df.columns=['interest','country','count']"
   ]
  },
  {
   "cell_type": "code",
   "execution_count": 10,
   "metadata": {
    "collapsed": false
   },
   "outputs": [
    {
     "data": {
      "text/html": [
       "<div>\n",
       "<style scoped>\n",
       "    .dataframe tbody tr th:only-of-type {\n",
       "        vertical-align: middle;\n",
       "    }\n",
       "\n",
       "    .dataframe tbody tr th {\n",
       "        vertical-align: top;\n",
       "    }\n",
       "\n",
       "    .dataframe thead th {\n",
       "        text-align: right;\n",
       "    }\n",
       "</style>\n",
       "<table border=\"1\" class=\"dataframe\">\n",
       "  <thead>\n",
       "    <tr style=\"text-align: right;\">\n",
       "      <th></th>\n",
       "      <th>interest</th>\n",
       "      <th>country</th>\n",
       "      <th>count</th>\n",
       "    </tr>\n",
       "  </thead>\n",
       "  <tbody>\n",
       "    <tr>\n",
       "      <th>0</th>\n",
       "      <td>1774</td>\n",
       "      <td>Japan</td>\n",
       "      <td>91335</td>\n",
       "    </tr>\n",
       "    <tr>\n",
       "      <th>1</th>\n",
       "      <td>1779</td>\n",
       "      <td>Japan</td>\n",
       "      <td>23670</td>\n",
       "    </tr>\n",
       "    <tr>\n",
       "      <th>2</th>\n",
       "      <td>1792</td>\n",
       "      <td>Japan</td>\n",
       "      <td>16620</td>\n",
       "    </tr>\n",
       "    <tr>\n",
       "      <th>3</th>\n",
       "      <td>1803</td>\n",
       "      <td>Israel</td>\n",
       "      <td>24135</td>\n",
       "    </tr>\n",
       "    <tr>\n",
       "      <th>4</th>\n",
       "      <td>1803</td>\n",
       "      <td>Kuwait</td>\n",
       "      <td>14655</td>\n",
       "    </tr>\n",
       "  </tbody>\n",
       "</table>\n",
       "</div>"
      ],
      "text/plain": [
       "   interest country  count\n",
       "0      1774   Japan  91335\n",
       "1      1779   Japan  23670\n",
       "2      1792   Japan  16620\n",
       "3      1803  Israel  24135\n",
       "4      1803  Kuwait  14655"
      ]
     },
     "execution_count": 10,
     "metadata": {},
     "output_type": "execute_result"
    }
   ],
   "source": [
    "df['country']=df['country'].map(new_country)\n",
    "df.head(5)"
   ]
  },
  {
   "cell_type": "code",
   "execution_count": 11,
   "metadata": {
    "collapsed": true
   },
   "outputs": [],
   "source": [
    "import json"
   ]
  },
  {
   "cell_type": "code",
   "execution_count": 12,
   "metadata": {
    "collapsed": true
   },
   "outputs": [],
   "source": [
    "with open('datasets/segments/interest_attr_groups.json','r') as input:\n",
    "    interests = json.load(input)"
   ]
  },
  {
   "cell_type": "code",
   "execution_count": 14,
   "metadata": {
    "collapsed": false
   },
   "outputs": [],
   "source": [
    "interests_dict={}\n",
    "for i in interests:\n",
    "    interests_dict[i['id']]=i['name']\n",
    "    if 'attributes' in i:\n",
    "        for j in i['attributes']:\n",
    "            interests_dict[j['id']]=j['name']"
   ]
  },
  {
   "cell_type": "code",
   "execution_count": 18,
   "metadata": {
    "collapsed": false
   },
   "outputs": [],
   "source": [
    "df['interest']=df['interest'].map(interests_dict)"
   ]
  },
  {
   "cell_type": "code",
   "execution_count": 23,
   "metadata": {
    "collapsed": false
   },
   "outputs": [],
   "source": [
    "df.sort_values('count',ascending=False,inplace=True)"
   ]
  },
  {
   "cell_type": "code",
   "execution_count": 25,
   "metadata": {
    "collapsed": false
   },
   "outputs": [],
   "source": [
    "df.to_csv('datasets/segments/result.csv')"
   ]
  },
  {
   "cell_type": "code",
   "execution_count": 30,
   "metadata": {
    "collapsed": false
   },
   "outputs": [],
   "source": [
    "res=df.pivot_table(values='count',index='interest',columns='country')"
   ]
  },
  {
   "cell_type": "code",
   "execution_count": 31,
   "metadata": {
    "collapsed": true
   },
   "outputs": [],
   "source": [
    "res.to_csv('datasets/segments/pivot_result.csv')"
   ]
  },
  {
   "cell_type": "code",
   "execution_count": null,
   "metadata": {
    "collapsed": true
   },
   "outputs": [],
   "source": []
  }
 ],
 "metadata": {
  "kernelspec": {
   "display_name": "Python 3",
   "language": "python",
   "name": "python3"
  },
  "language_info": {
   "codemirror_mode": {
    "name": "ipython",
    "version": 3
   },
   "file_extension": ".py",
   "mimetype": "text/x-python",
   "name": "python",
   "nbconvert_exporter": "python",
   "pygments_lexer": "ipython3",
   "version": "3.6.2"
  }
 },
 "nbformat": 4,
 "nbformat_minor": 2
}
