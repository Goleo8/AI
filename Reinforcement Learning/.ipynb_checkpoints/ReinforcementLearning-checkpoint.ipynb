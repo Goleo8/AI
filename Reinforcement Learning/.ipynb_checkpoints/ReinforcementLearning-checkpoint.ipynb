{
 "cells": [
  {
   "cell_type": "code",
   "execution_count": 1,
   "metadata": {
    "collapsed": true
   },
   "outputs": [],
   "source": [
    "import numpy as np\n",
    "import pandas as pd\n",
    "import matplotlib.pyplot as plt\n",
    "%matplotlib inline"
   ]
  },
  {
   "cell_type": "code",
   "execution_count": 42,
   "metadata": {
    "collapsed": false
   },
   "outputs": [
    {
     "name": "stdout",
     "output_type": "stream",
     "text": [
      "[[ 0.01935658  1.        ]\n",
      " [ 2.31678798  1.11111111]\n",
      " [ 2.4933145   1.22222222]\n",
      " [ 1.07733828  1.33333333]\n",
      " [ 0.48173491  1.44444444]\n",
      " [ 1.38545152  1.55555556]\n",
      " [ 0.79596709  1.66666667]\n",
      " [ 0.25982243  1.77777778]\n",
      " [ 1.28612939  1.88888889]\n",
      " [ 0.92509733  2.        ]]\n",
      "[   1    1    1    1    1 8479  354    1 1159    1]\n",
      "13605.0551027\n"
     ]
    }
   ],
   "source": [
    "parameters=np.vstack([np.random.randn(10)+1,np.linspace(1,2,10)]).T\n",
    "rewards=np.ones(10)*10\n",
    "total_rewards=0\n",
    "indices=[]\n",
    "\n",
    "for i in range(1,10000):\n",
    "    index = np.argmax(rewards)\n",
    "    indices.append(index)\n",
    "    cur_reward=np.random.normal(parameters[index][0],parameters[index][1])\n",
    "    total_rewards+=cur_reward\n",
    "    discount=1.0/i\n",
    "    update_rewards(index,rewards,cur_reward,discount)\n",
    "\n",
    "print parameters\n",
    "print np.bincount(np.asarray(indices))\n",
    "print total_rewards\n"
   ]
  },
  {
   "cell_type": "code",
   "execution_count": 7,
   "metadata": {
    "collapsed": false
   },
   "outputs": [],
   "source": [
    "def update_rewards(index,rewards,cur_reward,discount=0.01):\n",
    "    if rewards[index]==10:\n",
    "        rewards[index]=cur_reward\n",
    "    else:\n",
    "        reward_exp=rewards[index]\n",
    "        rewards[index]=reward_exp+discount*(cur_reward-reward_exp)"
   ]
  },
  {
   "cell_type": "code",
   "execution_count": 53,
   "metadata": {
    "collapsed": false
   },
   "outputs": [
    {
     "name": "stdout",
     "output_type": "stream",
     "text": [
      "[[ 0.01935658  1.        ]\n",
      " [ 2.31678798  1.11111111]\n",
      " [ 2.4933145   1.22222222]\n",
      " [ 1.07733828  1.33333333]\n",
      " [ 0.48173491  1.44444444]\n",
      " [ 1.38545152  1.55555556]\n",
      " [ 0.79596709  1.66666667]\n",
      " [ 0.25982243  1.77777778]\n",
      " [ 1.28612939  1.88888889]\n",
      " [ 0.92509733  2.        ]]\n",
      "[  986  7905 84189   982   971   978   962   993   987  1046]\n",
      "234030.984564\n"
     ]
    }
   ],
   "source": [
    "indices=[]\n",
    "rewards=np.ones(10)*10\n",
    "total_rewards=0.0\n",
    "for i in range(1,100000):\n",
    "    if np.random.uniform(0,1)>theta:\n",
    "        index = np.argmax(rewards)\n",
    "    else:\n",
    "        index = np.random.randint(0,10)\n",
    "    indices.append(index)\n",
    "    cur_reward=np.random.normal(parameters[index][0],parameters[index][1])\n",
    "    total_rewards+=cur_reward\n",
    "    discount=0.01\n",
    "    update_rewards(index,rewards,cur_reward,discount)\n",
    "\n",
    "print parameters\n",
    "print np.bincount(np.asarray(indices))\n",
    "print total_rewards"
   ]
  },
  {
   "cell_type": "code",
   "execution_count": 54,
   "metadata": {
    "collapsed": false
   },
   "outputs": [
    {
     "name": "stdout",
     "output_type": "stream",
     "text": [
      "[[ 0.01935658  1.        ]\n",
      " [ 2.31678798  1.11111111]\n",
      " [ 2.4933145   1.22222222]\n",
      " [ 1.07733828  1.33333333]\n",
      " [ 0.48173491  1.44444444]\n",
      " [ 1.38545152  1.55555556]\n",
      " [ 0.79596709  1.66666667]\n",
      " [ 0.25982243  1.77777778]\n",
      " [ 1.28612939  1.88888889]\n",
      " [ 0.92509733  2.        ]]\n",
      "[   10  4817 94805     4    90    77    79     4    98    15]\n",
      "481931.758276\n"
     ]
    }
   ],
   "source": [
    "indices=[]\n",
    "rewards=np.ones(10)*10\n",
    "counts=np.zeros(10)+1\n",
    "theta=0.1\n",
    "for i in range(1,100000):\n",
    "    index = np.argmax(rewards+compute_delta(i,counts))\n",
    "    counts[index]+=1\n",
    "    indices.append(index)\n",
    "    cur_reward=np.random.normal(parameters[index][0],parameters[index][1])\n",
    "    total_rewards+=cur_reward\n",
    "    discount=0.01\n",
    "    update_rewards(index,rewards,cur_reward,discount)\n",
    "\n",
    "print parameters\n",
    "print np.bincount(np.asarray(indices))\n",
    "print total_rewards"
   ]
  },
  {
   "cell_type": "code",
   "execution_count": 46,
   "metadata": {
    "collapsed": true
   },
   "outputs": [],
   "source": [
    "def compute_delta(round,counts,ratio=2):\n",
    "    return np.power(np.log(round)/counts,0.5)*ratio"
   ]
  }
 ],
 "metadata": {
  "kernelspec": {
   "display_name": "Python 2",
   "language": "python",
   "name": "python2"
  },
  "language_info": {
   "codemirror_mode": {
    "name": "ipython",
    "version": 2
   },
   "file_extension": ".py",
   "mimetype": "text/x-python",
   "name": "python",
   "nbconvert_exporter": "python",
   "pygments_lexer": "ipython2",
   "version": "2.7.12"
  }
 },
 "nbformat": 4,
 "nbformat_minor": 0
}
