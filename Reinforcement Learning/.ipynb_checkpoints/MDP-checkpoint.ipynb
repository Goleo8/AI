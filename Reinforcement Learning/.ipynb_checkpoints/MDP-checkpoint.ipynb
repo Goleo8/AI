{
 "cells": [
  {
   "cell_type": "markdown",
   "metadata": {
    "collapsed": true
   },
   "source": [
    "<img src='../pics/markov categories.png'>"
   ]
  },
  {
   "cell_type": "markdown",
   "metadata": {
    "collapsed": true
   },
   "source": [
    "1. 值迭代和策略迭代法\n",
    "- $V^\\pi(s)$   \n",
    "- $Q^\\pi(s,a)$   \n",
    "- $P_{s,a}(s') =\n",
    "\\frac{count(s'|s,a)}{count(a|s)}$\n",
    "- $P_{s,a}(s') =\n",
    "\\frac{1}{|s|}$\n",
    "\n",
    "<img src='../pics/algo1.png'>\n",
    "\n"
   ]
  }
 ],
 "metadata": {
  "kernelspec": {
   "display_name": "Python 2",
   "language": "python",
   "name": "python2"
  },
  "language_info": {
   "codemirror_mode": {
    "name": "ipython",
    "version": 2
   },
   "file_extension": ".py",
   "mimetype": "text/x-python",
   "name": "python",
   "nbconvert_exporter": "python",
   "pygments_lexer": "ipython2",
   "version": "2.7.12"
  }
 },
 "nbformat": 4,
 "nbformat_minor": 0
}
