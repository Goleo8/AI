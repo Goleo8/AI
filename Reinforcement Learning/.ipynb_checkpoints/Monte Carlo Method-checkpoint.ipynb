{
 "cells": [
  {
   "cell_type": "markdown",
   "metadata": {},
   "source": [
    "## Monte Carlo Method\n",
    "\n",
    "- do not need the entire knowledge of the problem, only need some experience\n",
    "- compared with Dynamic Programming, it does not require the entire transition possibility matrix\n",
    "- episodic-by-episodic vs step-by-step\n",
    "\n",
    "### Monte Carlo vs Bandit\n",
    "\n",
    "- Each episod in Monte Carlo problem can be taken as a bandit problem "
   ]
  }
 ],
 "metadata": {
  "kernelspec": {
   "display_name": "Python 3",
   "language": "python",
   "name": "python3"
  },
  "language_info": {
   "codemirror_mode": {
    "name": "ipython",
    "version": 3
   },
   "file_extension": ".py",
   "mimetype": "text/x-python",
   "name": "python",
   "nbconvert_exporter": "python",
   "pygments_lexer": "ipython3",
   "version": "3.6.4"
  }
 },
 "nbformat": 4,
 "nbformat_minor": 2
}
