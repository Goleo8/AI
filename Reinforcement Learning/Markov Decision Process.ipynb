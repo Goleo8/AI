{
 "cells": [
  {
   "cell_type": "markdown",
   "metadata": {},
   "source": [
    "<img src='../pics/markov categories.png'>\n",
    "- Key Concept\n",
    "    - $S,A,P,\\gamma,R$\n",
    "    - $V^\\pi(s)$\n",
    "    - $Q^\\pi(a,s)$\n",
    "- Parameter estimation\n",
    "    - $P_{s,a}(s') =\n",
    "        \\frac{count(s'|s,a)}{count(a|s)}$\n",
    "    - $P_{s,a}(s') =\n",
    "        \\frac{1}{|s|}$   \n",
    "\n",
    "\n",
    "<img src='../pics/algo1.png'>"
   ]
  },
  {
   "cell_type": "code",
   "execution_count": null,
   "metadata": {
    "collapsed": true
   },
   "outputs": [],
   "source": []
  }
 ],
 "metadata": {
  "kernelspec": {
   "display_name": "Python 3",
   "language": "python",
   "name": "python3"
  },
  "language_info": {
   "codemirror_mode": {
    "name": "ipython",
    "version": 3
   },
   "file_extension": ".py",
   "mimetype": "text/x-python",
   "name": "python",
   "nbconvert_exporter": "python",
   "pygments_lexer": "ipython3",
   "version": "3.6.4"
  }
 },
 "nbformat": 4,
 "nbformat_minor": 1
}
