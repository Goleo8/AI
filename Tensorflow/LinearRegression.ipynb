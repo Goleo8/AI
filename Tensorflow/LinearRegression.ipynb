{
 "cells": [
  {
   "cell_type": "code",
   "execution_count": 1,
   "metadata": {
    "collapsed": false
   },
   "outputs": [
    {
     "name": "stderr",
     "output_type": "stream",
     "text": [
      "/Users/Goleo8/anaconda3/lib/python3.6/site-packages/h5py/__init__.py:36: FutureWarning: Conversion of the second argument of issubdtype from `float` to `np.floating` is deprecated. In future, it will be treated as `np.float64 == np.dtype(float).type`.\n",
      "  from ._conv import register_converters as _register_converters\n"
     ]
    }
   ],
   "source": [
    "import numpy as np\n",
    "import tensorflow as tf\n",
    "import matplotlib.pyplot as plt\n",
    "%matplotlib inline"
   ]
  },
  {
   "cell_type": "code",
   "execution_count": 22,
   "metadata": {
    "collapsed": true
   },
   "outputs": [],
   "source": [
    "X=tf.placeholder('float')\n",
    "y=tf.placeholder('float')"
   ]
  },
  {
   "cell_type": "code",
   "execution_count": 24,
   "metadata": {
    "collapsed": true
   },
   "outputs": [],
   "source": [
    "w=tf.Variable(np.random.randn())\n",
    "b=tf.Variable(np.random.randn())\n",
    "\n",
    "cost=tf.reduce_sum(tf.pow(tf.add(tf.multiply(w,X),b)-y,2))#/(2*X.shape[0])"
   ]
  },
  {
   "cell_type": "code",
   "execution_count": 25,
   "metadata": {
    "collapsed": true
   },
   "outputs": [],
   "source": [
    "learning_rate=.01\n",
    "optimizer=tf.train.GradientDescentOptimizer(learning_rate).minimize(cost)\n",
    "init=tf.global_variables_initializer()"
   ]
  },
  {
   "cell_type": "code",
   "execution_count": 30,
   "metadata": {
    "collapsed": true
   },
   "outputs": [],
   "source": [
    "training_epoch=1000\n",
    "display_step=10\n",
    "X_train=np.linspace(0,20,30)\n",
    "y_train=X_train*3+np.random.randn()"
   ]
  },
  {
   "cell_type": "code",
   "execution_count": 31,
   "metadata": {
    "collapsed": false
   },
   "outputs": [
    {
     "name": "stdout",
     "output_type": "stream",
     "text": [
      "Epoch: 0010 cost= inf W= 3.827445e+17 b= 2.8273765e+16\n",
      "Epoch: 0020 cost= inf W= -5.6324994e+34 b= -4.16079e+33\n",
      "Epoch: 0030 cost= nan W= nan b= nan\n",
      "Epoch: 0040 cost= nan W= nan b= nan\n",
      "Epoch: 0050 cost= nan W= nan b= nan\n",
      "Epoch: 0060 cost= nan W= nan b= nan\n",
      "Epoch: 0070 cost= nan W= nan b= nan\n",
      "Epoch: 0080 cost= nan W= nan b= nan\n",
      "Epoch: 0090 cost= nan W= nan b= nan\n",
      "Epoch: 0100 cost= nan W= nan b= nan\n",
      "Epoch: 0110 cost= nan W= nan b= nan\n",
      "Epoch: 0120 cost= nan W= nan b= nan\n",
      "Epoch: 0130 cost= nan W= nan b= nan\n",
      "Epoch: 0140 cost= nan W= nan b= nan\n",
      "Epoch: 0150 cost= nan W= nan b= nan\n",
      "Epoch: 0160 cost= nan W= nan b= nan\n",
      "Epoch: 0170 cost= nan W= nan b= nan\n",
      "Epoch: 0180 cost= nan W= nan b= nan\n",
      "Epoch: 0190 cost= nan W= nan b= nan\n",
      "Epoch: 0200 cost= nan W= nan b= nan\n",
      "Epoch: 0210 cost= nan W= nan b= nan\n",
      "Epoch: 0220 cost= nan W= nan b= nan\n",
      "Epoch: 0230 cost= nan W= nan b= nan\n",
      "Epoch: 0240 cost= nan W= nan b= nan\n",
      "Epoch: 0250 cost= nan W= nan b= nan\n",
      "Epoch: 0260 cost= nan W= nan b= nan\n",
      "Epoch: 0270 cost= nan W= nan b= nan\n",
      "Epoch: 0280 cost= nan W= nan b= nan\n",
      "Epoch: 0290 cost= nan W= nan b= nan\n",
      "Epoch: 0300 cost= nan W= nan b= nan\n",
      "Epoch: 0310 cost= nan W= nan b= nan\n",
      "Epoch: 0320 cost= nan W= nan b= nan\n",
      "Epoch: 0330 cost= nan W= nan b= nan\n",
      "Epoch: 0340 cost= nan W= nan b= nan\n",
      "Epoch: 0350 cost= nan W= nan b= nan\n",
      "Epoch: 0360 cost= nan W= nan b= nan\n",
      "Epoch: 0370 cost= nan W= nan b= nan\n",
      "Epoch: 0380 cost= nan W= nan b= nan\n",
      "Epoch: 0390 cost= nan W= nan b= nan\n",
      "Epoch: 0400 cost= nan W= nan b= nan\n",
      "Epoch: 0410 cost= nan W= nan b= nan\n",
      "Epoch: 0420 cost= nan W= nan b= nan\n",
      "Epoch: 0430 cost= nan W= nan b= nan\n",
      "Epoch: 0440 cost= nan W= nan b= nan\n",
      "Epoch: 0450 cost= nan W= nan b= nan\n",
      "Epoch: 0460 cost= nan W= nan b= nan\n",
      "Epoch: 0470 cost= nan W= nan b= nan\n",
      "Epoch: 0480 cost= nan W= nan b= nan\n",
      "Epoch: 0490 cost= nan W= nan b= nan\n",
      "Epoch: 0500 cost= nan W= nan b= nan\n",
      "Epoch: 0510 cost= nan W= nan b= nan\n",
      "Epoch: 0520 cost= nan W= nan b= nan\n",
      "Epoch: 0530 cost= nan W= nan b= nan\n",
      "Epoch: 0540 cost= nan W= nan b= nan\n",
      "Epoch: 0550 cost= nan W= nan b= nan\n",
      "Epoch: 0560 cost= nan W= nan b= nan\n",
      "Epoch: 0570 cost= nan W= nan b= nan\n",
      "Epoch: 0580 cost= nan W= nan b= nan\n",
      "Epoch: 0590 cost= nan W= nan b= nan\n",
      "Epoch: 0600 cost= nan W= nan b= nan\n",
      "Epoch: 0610 cost= nan W= nan b= nan\n",
      "Epoch: 0620 cost= nan W= nan b= nan\n",
      "Epoch: 0630 cost= nan W= nan b= nan\n",
      "Epoch: 0640 cost= nan W= nan b= nan\n",
      "Epoch: 0650 cost= nan W= nan b= nan\n",
      "Epoch: 0660 cost= nan W= nan b= nan\n",
      "Epoch: 0670 cost= nan W= nan b= nan\n",
      "Epoch: 0680 cost= nan W= nan b= nan\n",
      "Epoch: 0690 cost= nan W= nan b= nan\n",
      "Epoch: 0700 cost= nan W= nan b= nan\n",
      "Epoch: 0710 cost= nan W= nan b= nan\n",
      "Epoch: 0720 cost= nan W= nan b= nan\n",
      "Epoch: 0730 cost= nan W= nan b= nan\n",
      "Epoch: 0740 cost= nan W= nan b= nan\n",
      "Epoch: 0750 cost= nan W= nan b= nan\n",
      "Epoch: 0760 cost= nan W= nan b= nan\n",
      "Epoch: 0770 cost= nan W= nan b= nan\n",
      "Epoch: 0780 cost= nan W= nan b= nan\n",
      "Epoch: 0790 cost= nan W= nan b= nan\n",
      "Epoch: 0800 cost= nan W= nan b= nan\n",
      "Epoch: 0810 cost= nan W= nan b= nan\n",
      "Epoch: 0820 cost= nan W= nan b= nan\n",
      "Epoch: 0830 cost= nan W= nan b= nan\n",
      "Epoch: 0840 cost= nan W= nan b= nan\n",
      "Epoch: 0850 cost= nan W= nan b= nan\n",
      "Epoch: 0860 cost= nan W= nan b= nan\n",
      "Epoch: 0870 cost= nan W= nan b= nan\n",
      "Epoch: 0880 cost= nan W= nan b= nan\n",
      "Epoch: 0890 cost= nan W= nan b= nan\n",
      "Epoch: 0900 cost= nan W= nan b= nan\n",
      "Epoch: 0910 cost= nan W= nan b= nan\n",
      "Epoch: 0920 cost= nan W= nan b= nan\n",
      "Epoch: 0930 cost= nan W= nan b= nan\n",
      "Epoch: 0940 cost= nan W= nan b= nan\n",
      "Epoch: 0950 cost= nan W= nan b= nan\n",
      "Epoch: 0960 cost= nan W= nan b= nan\n",
      "Epoch: 0970 cost= nan W= nan b= nan\n",
      "Epoch: 0980 cost= nan W= nan b= nan\n",
      "Epoch: 0990 cost= nan W= nan b= nan\n",
      "Epoch: 1000 cost= nan W= nan b= nan\n"
     ]
    }
   ],
   "source": [
    "with tf.Session() as sess:\n",
    "    sess.run(init)\n",
    "    \n",
    "    for epoch in range(training_epoch):\n",
    "        \n",
    "        if (epoch+1) % display_step == 0:\n",
    "            c = sess.run(cost, feed_dict={X: X_train, y:y_train})\n",
    "            print(\"Epoch:\", '%04d' % (epoch+1), \"cost=\", \"{:.9f}\".format(c), \\\n",
    "                \"W=\", sess.run(w), \"b=\", sess.run(b))\n",
    "        else:\n",
    "            sess.run(optimizer,feed_dict={X:X_train,y:y_train})"
   ]
  },
  {
   "cell_type": "code",
   "execution_count": null,
   "metadata": {
    "collapsed": true
   },
   "outputs": [],
   "source": [
    "https://github.com/aymericdamien/TensorFlow-Examples/blob/master/examples/2_BasicModels/linear_regression.py\n",
    "print(\"Optimization Finished!\")\n",
    "    training_cost = sess.run(cost, feed_dict={X: train_X, Y: train_Y})\n",
    "    print(\"Training cost=\", training_cost, \"W=\", sess.run(W), \"b=\", sess.run(b), '\\n')\n",
    "\n",
    "    # Graphic display\n",
    "    plt.plot(train_X, train_Y, 'ro', label='Original data')\n",
    "    plt.plot(train_X, sess.run(W) * train_X + sess.run(b), label='Fitted line')\n",
    "    plt.legend()\n",
    "    plt.show()\n",
    "\n",
    "    # Testing example, as requested (Issue #2)\n",
    "    test_X = numpy.asarray([6.83, 4.668, 8.9, 7.91, 5.7, 8.7, 3.1, 2.1])\n",
    "    test_Y = numpy.asarray([1.84, 2.273, 3.2, 2.831, 2.92, 3.24, 1.35, 1.03])\n",
    "\n",
    "    print(\"Testing... (Mean square loss Comparison)\")\n",
    "    testing_cost = sess.run(\n",
    "        tf.reduce_sum(tf.pow(pred - Y, 2)) / (2 * test_X.shape[0]),\n",
    "        feed_dict={X: test_X, Y: test_Y})  # same function as cost above\n",
    "    print(\"Testing cost=\", testing_cost)\n",
    "    print(\"Absolute mean square loss difference:\", abs(\n",
    "        training_cost - testing_cost))\n",
    "\n",
    "    plt.plot(test_X, test_Y, 'bo', label='Testing data')\n",
    "    plt.plot(train_X, sess.run(W) * train_X + sess.run(b), label='Fitted line')\n",
    "    plt.legend()\n",
    "    plt.show()"
   ]
  }
 ],
 "metadata": {
  "kernelspec": {
   "display_name": "Python 3",
   "language": "python",
   "name": "python3"
  },
  "language_info": {
   "codemirror_mode": {
    "name": "ipython",
    "version": 3
   },
   "file_extension": ".py",
   "mimetype": "text/x-python",
   "name": "python",
   "nbconvert_exporter": "python",
   "pygments_lexer": "ipython3",
   "version": "3.6.2"
  }
 },
 "nbformat": 4,
 "nbformat_minor": 2
}
