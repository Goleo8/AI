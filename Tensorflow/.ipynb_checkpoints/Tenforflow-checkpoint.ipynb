{
 "cells": [
  {
   "cell_type": "markdown",
   "metadata": {},
   "source": [
    "* [TensorFlow-Examples](https://github.com/aymericdamien/TensorFlow-Examples.git)"
   ]
  },
  {
   "cell_type": "code",
   "execution_count": 1,
   "metadata": {
    "scrolled": true
   },
   "outputs": [
    {
     "name": "stderr",
     "output_type": "stream",
     "text": [
      "/Users/Goleo8/anaconda3/lib/python3.6/site-packages/h5py/__init__.py:36: FutureWarning: Conversion of the second argument of issubdtype from `float` to `np.floating` is deprecated. In future, it will be treated as `np.float64 == np.dtype(float).type`.\n",
      "  from ._conv import register_converters as _register_converters\n",
      "/Users/Goleo8/anaconda3/lib/python3.6/site-packages/requests/__init__.py:91: RequestsDependencyWarning: urllib3 (1.24.1) or chardet (3.0.4) doesn't match a supported version!\n",
      "  RequestsDependencyWarning)\n"
     ]
    }
   ],
   "source": [
    "import tensorflow as tf"
   ]
  },
  {
   "cell_type": "code",
   "execution_count": 2,
   "metadata": {},
   "outputs": [],
   "source": [
    "x=tf.Variable(3,name='X')\n",
    "y=tf.Variable(4,name='Y')\n",
    "f=x*x*y+y+2"
   ]
  },
  {
   "cell_type": "code",
   "execution_count": 4,
   "metadata": {},
   "outputs": [
    {
     "name": "stdout",
     "output_type": "stream",
     "text": [
      "42\n"
     ]
    }
   ],
   "source": [
    "init = tf.global_variables_initializer()\n",
    "with tf.Session() as sess:\n",
    "    init.run()\n",
    "    result=f.eval()\n",
    "    print(result)"
   ]
  },
  {
   "cell_type": "code",
   "execution_count": 8,
   "metadata": {},
   "outputs": [],
   "source": [
    "import numpy as np\n",
    "import pandas as pd\n",
    "from sklearn.preprocessing import StandardScaler\n",
    "from sklearn.datasets import fetch_california_housing"
   ]
  },
  {
   "cell_type": "code",
   "execution_count": 9,
   "metadata": {},
   "outputs": [
    {
     "name": "stderr",
     "output_type": "stream",
     "text": [
      "Downloading Cal. housing from https://ndownloader.figshare.com/files/5976036 to /Users/Goleo8/scikit_learn_data\n"
     ]
    },
    {
     "data": {
      "text/plain": [
       "(20640, 8)"
      ]
     },
     "execution_count": 9,
     "metadata": {},
     "output_type": "execute_result"
    }
   ],
   "source": [
    "housing = fetch_california_housing()\n",
    "housing.data.shape"
   ]
  },
  {
   "cell_type": "code",
   "execution_count": 11,
   "metadata": {},
   "outputs": [],
   "source": [
    "X,y=housing.data,housing.target"
   ]
  },
  {
   "cell_type": "code",
   "execution_count": 12,
   "metadata": {},
   "outputs": [],
   "source": [
    "scaler = StandardScaler()"
   ]
  },
  {
   "cell_type": "code",
   "execution_count": 13,
   "metadata": {},
   "outputs": [
    {
     "data": {
      "text/plain": [
       "((20640, 8), (20640,))"
      ]
     },
     "execution_count": 13,
     "metadata": {},
     "output_type": "execute_result"
    }
   ],
   "source": [
    "X.shape,y.shape"
   ]
  },
  {
   "cell_type": "code",
   "execution_count": 30,
   "metadata": {},
   "outputs": [],
   "source": [
    "X_s=np.c_[np.ones((X.shape[0],1)),scaler.fit_transform(X)]"
   ]
  },
  {
   "cell_type": "code",
   "execution_count": 15,
   "metadata": {},
   "outputs": [],
   "source": [
    "tfX=tf.constant(X_s,dtype=tf.float64,name='X')\n",
    "tfY=tf.constant(y.reshape(-1,1),dtype=tf.float64,name='y')\n",
    "tfXT=tf.transpose(tfX)"
   ]
  },
  {
   "cell_type": "code",
   "execution_count": 27,
   "metadata": {},
   "outputs": [],
   "source": [
    "w=tf.matmul(tf.matmul(tf.matrix_inverse(tf.matmul(tfXT,tfX)),tfXT),tfY)"
   ]
  },
  {
   "cell_type": "code",
   "execution_count": 28,
   "metadata": {
    "scrolled": true
   },
   "outputs": [
    {
     "name": "stdout",
     "output_type": "stream",
     "text": [
      "[[ 2.06855817]\n",
      " [ 0.8296193 ]\n",
      " [ 0.11875165]\n",
      " [-0.26552688]\n",
      " [ 0.30569623]\n",
      " [-0.004503  ]\n",
      " [-0.03932627]\n",
      " [-0.89988565]\n",
      " [-0.870541  ]]\n"
     ]
    }
   ],
   "source": [
    "init=tf.global_variables_initializer()\n",
    "with tf.Session() as sess:\n",
    "    init.run()\n",
    "    result = w.eval()\n",
    "print(result)"
   ]
  },
  {
   "cell_type": "code",
   "execution_count": 41,
   "metadata": {},
   "outputs": [
    {
     "name": "stdout",
     "output_type": "stream",
     "text": [
      "Epoch:0,MSE:5.855115\n",
      "Epoch:10,MSE:1.290942\n",
      "Epoch:20,MSE:0.719839\n",
      "Epoch:30,MSE:0.634301\n",
      "Epoch:40,MSE:0.610942\n",
      "Epoch:50,MSE:0.597323\n",
      "Epoch:60,MSE:0.586557\n",
      "Epoch:70,MSE:0.577502\n",
      "Epoch:80,MSE:0.569802\n",
      "Epoch:90,MSE:0.563240\n",
      "[[ 2.06850195]\n",
      " [ 0.80083104]\n",
      " [ 0.1804282 ]\n",
      " [-0.08538963]\n",
      " [ 0.10130749]\n",
      " [ 0.0181515 ]\n",
      " [-0.04389049]\n",
      " [-0.47535519]\n",
      " [-0.43656156]]\n"
     ]
    }
   ],
   "source": [
    "learning_rate=0.1\n",
    "tfX=tf.constant(X_s,dtype=tf.float64,name='X')\n",
    "tfY=tf.constant(y.reshape(-1,1),dtype=tf.float64,name='y')\n",
    "w=tf.Variable(tf.random_uniform([X_s.shape[1],1],minval=-0.1,maxval=0.1,dtype=tf.float64),name='w')\n",
    "f=tf.matmul(tfX,w,name='f')\n",
    "error = f-tfY\n",
    "mse = tf.reduce_mean(tf.square(error))\n",
    "grad = tf.matmul(tfXT,error)/X_s.shape[0]*learning_rate\n",
    "training=tf.assign(w,w-grad)\n",
    "init = tf.global_variables_initializer()\n",
    "with tf.Session() as sess:\n",
    "    init.run()\n",
    "    for i in range(100):\n",
    "        if i%10==0:\n",
    "            mse_result = mse.eval()\n",
    "            print('Epoch:%d,MSE:%f'%(i,mse_result))\n",
    "        sess.run(training)\n",
    "    result=w.eval()\n",
    "print(result)\n",
    "        \n"
   ]
  },
  {
   "cell_type": "code",
   "execution_count": 46,
   "metadata": {},
   "outputs": [
    {
     "data": {
      "text/plain": [
       "(TensorShape([]), TensorShape([Dimension(9), Dimension(1)]))"
      ]
     },
     "execution_count": 46,
     "metadata": {},
     "output_type": "execute_result"
    }
   ],
   "source": [
    "mse.shape,w.shape"
   ]
  },
  {
   "cell_type": "markdown",
   "metadata": {},
   "source": [
    "## tf.grandients"
   ]
  },
  {
   "cell_type": "code",
   "execution_count": 51,
   "metadata": {},
   "outputs": [
    {
     "name": "stdout",
     "output_type": "stream",
     "text": [
      "Epoch:0,MSE:5.716550\n",
      "Epoch:10,MSE:0.679934\n",
      "Epoch:20,MSE:0.596443\n",
      "Epoch:30,MSE:0.576620\n",
      "Epoch:40,MSE:0.562718\n",
      "Epoch:50,MSE:0.552594\n",
      "Epoch:60,MSE:0.545202\n",
      "Epoch:70,MSE:0.539793\n",
      "Epoch:80,MSE:0.535826\n",
      "Epoch:90,MSE:0.532909\n",
      "[[ 2.06855817]\n",
      " [ 0.83914167]\n",
      " [ 0.14701503]\n",
      " [-0.2339941 ]\n",
      " [ 0.25784193]\n",
      " [ 0.00565514]\n",
      " [-0.04192016]\n",
      " [-0.68491155]\n",
      " [-0.65427939]]\n"
     ]
    }
   ],
   "source": [
    "learning_rate=0.1\n",
    "tfX=tf.constant(X_s,dtype=tf.float64,name='X')\n",
    "tfY=tf.constant(y.reshape(-1,1),dtype=tf.float64,name='y')\n",
    "w=tf.Variable(tf.random_uniform([X_s.shape[1],1],minval=-0.1,maxval=0.1,dtype=tf.float64),name='w')\n",
    "f=tf.matmul(tfX,w,name='f')\n",
    "error = f-tfY\n",
    "mse = tf.reduce_mean(tf.square(error))\n",
    "grad = tf.gradients(mse,[w],name='grad')[0]*learning_rate\n",
    "training=tf.assign(w,w-grad)\n",
    "init = tf.global_variables_initializer()\n",
    "with tf.Session() as sess:\n",
    "    init.run()\n",
    "    for i in range(100):\n",
    "        if i%10==0:\n",
    "            mse_result = mse.eval()\n",
    "            print('Epoch:%d,MSE:%f'%(i,mse_result))\n",
    "        sess.run(training)\n",
    "    result=w.eval()\n",
    "print(result)"
   ]
  },
  {
   "cell_type": "markdown",
   "metadata": {},
   "source": [
    "## tf.train.GradientDescentOptimizer(learning_rate=learning_rate)"
   ]
  },
  {
   "cell_type": "code",
   "execution_count": 58,
   "metadata": {},
   "outputs": [
    {
     "name": "stdout",
     "output_type": "stream",
     "text": [
      "Epoch:0,MSE:5.209789\n",
      "Epoch:10,MSE:0.686836\n",
      "Epoch:20,MSE:0.604870\n",
      "Epoch:30,MSE:0.582892\n",
      "Epoch:40,MSE:0.567412\n",
      "Epoch:50,MSE:0.556125\n",
      "Epoch:60,MSE:0.547871\n",
      "Epoch:70,MSE:0.541820\n",
      "Epoch:80,MSE:0.537373\n",
      "Epoch:90,MSE:0.534096\n",
      "[[ 2.06855817]\n",
      " [ 0.84273668]\n",
      " [ 0.14899907]\n",
      " [-0.23833605]\n",
      " [ 0.26035477]\n",
      " [ 0.00633022]\n",
      " [-0.04216464]\n",
      " [-0.66707234]\n",
      " [-0.63674006]]\n"
     ]
    }
   ],
   "source": [
    "learning_rate=0.1\n",
    "tfX=tf.constant(X_s,dtype=tf.float64,name='X')\n",
    "tfY=tf.constant(y.reshape(-1,1),dtype=tf.float64,name='y')\n",
    "w=tf.Variable(tf.random_uniform([X_s.shape[1],1],minval=-0.1,maxval=0.1,dtype=tf.float64),name='w')\n",
    "f=tf.matmul(tfX,w,name='f')\n",
    "error = f-tfY\n",
    "mse = tf.reduce_mean(tf.square(error))\n",
    "# grad = tf.gradients(mse,[w],name='grad')[0]*learning_rate\n",
    "optimizer = tf.train.GradientDescentOptimizer(learning_rate=learning_rate)\n",
    "training=optimizer.minimize(mse)\n",
    "# training=tf.assign(w,w-grad)\n",
    "init = tf.global_variables_initializer()\n",
    "with tf.Session() as sess:\n",
    "    sess.run(init)\n",
    "    for i in range(100):\n",
    "        if i%10==0:\n",
    "            mse_result = mse.eval()\n",
    "            print('Epoch:%d,MSE:%f'%(i,mse_result))\n",
    "        sess.run(training)\n",
    "    result=w.eval()\n",
    "print(result)"
   ]
  },
  {
   "cell_type": "markdown",
   "metadata": {},
   "source": [
    "##"
   ]
  },
  {
   "cell_type": "code",
   "execution_count": null,
   "metadata": {},
   "outputs": [],
   "source": [
    "learning_rate=0.1\n",
    "tfX=tf.constant(X_s,dtype=tf.float64,name='X')\n",
    "tfY=tf.constant(y.reshape(-1,1),dtype=tf.float64,name='y')\n",
    "w=tf.Variable(tf.random_uniform([X_s.shape[1],1],minval=-0.1,maxval=0.1,dtype=tf.float64),name='w')\n",
    "f=tf.matmul(tfX,w,name='f')\n",
    "error = f-tfY\n",
    "mse = tf.reduce_mean(tf.square(error))\n",
    "# grad = tf.gradients(mse,[w],name='grad')[0]*learning_rate\n",
    "optimizer = tf.train.MomentumOptimizer(learning_rate=learning_rate,momentum=1)\n",
    "training=optimizer.minimize(mse)\n",
    "# training=tf.assign(w,w-grad)\n",
    "init = tf.global_variables_initializer()\n",
    "with tf.Session() as sess:\n",
    "    sess.run(init)\n",
    "    for i in range(100):\n",
    "        if i%10==0:\n",
    "            mse_result = mse.eval()\n",
    "            print('Epoch:%d,MSE:%f'%(i,mse_result))\n",
    "        sess.run(training)\n",
    "    result=w.eval()\n",
    "print(result)"
   ]
  },
  {
   "cell_type": "code",
   "execution_count": 14,
   "metadata": {},
   "outputs": [
    {
     "name": "stdout",
     "output_type": "stream",
     "text": [
      "38164374000.0\n",
      "[[41371.25   ]\n",
      " [-1060.9597 ]\n",
      " [-3326.8206 ]\n",
      " [ 2436.9744 ]\n",
      " [ 3095.8718 ]\n",
      " [ 1168.7948 ]\n",
      " [ -568.02234]\n",
      " [ 1519.1268 ]\n",
      " [15880.5205 ]]\n"
     ]
    }
   ],
   "source": [
    "tfX=tf.constant(X1,dtype=tf.float32,name='X')\n",
    "tfY=tf.constant(y,dtype=tf.float32,name='y')\n",
    "tfTheta=tf.Variable(tf.random_uniform([X1.shape[1],1],-1.0,1.0),name='theta')\n",
    "y_pred=tf.matmul(tfX,tfTheta,name='prediction')\n",
    "error=y_pred-y\n",
    "mse=tf.reduce_mean(tf.square(error),name='mse')\n",
    "epoch=1000\n",
    "learning_rate=0.1\n",
    "op=tf.train.GradientDescentOptimizer(learning_rate=learning_rate)\n",
    "init=tf.global_variables_initializer()\n",
    "with tf.Session() as sess:\n",
    "    sess.run(init)\n",
    "    training_op=op.minimize(mse)\n",
    "    sess.run(training_op)\n",
    "    result=tfTheta.eval()\n",
    "    print(mse.eval())\n",
    "print(result)"
   ]
  },
  {
   "cell_type": "code",
   "execution_count": 39,
   "metadata": {},
   "outputs": [
    {
     "name": "stdout",
     "output_type": "stream",
     "text": [
      "[[193539.98   ]\n",
      " [-55770.066  ]\n",
      " [-66341.97   ]\n",
      " [   488.85645]\n",
      " [  5063.8545 ]\n",
      " [ 16820.951  ]\n",
      " [-35865.77   ]\n",
      " [ 26111.553  ]\n",
      " [ 60331.445  ]]\n"
     ]
    }
   ],
   "source": [
    "from datetime import datetime\n",
    "now = datetime.utcnow().strftime(\"%Y%m%d%H%M%S\")\n",
    "log_root='tf_logs'\n",
    "log_dir='{}/run-{}'.format(log_root,now)\n",
    "tf.reset_default_graph()\n",
    "def fetch_data(index,delta,X1,y):\n",
    "    start=index*delta\n",
    "    end=np.min([start+delta,X1.shape[0]-1])\n",
    "    return (X1[start:end,:],y[start:end,:])\n",
    "tfX=tf.placeholder(tf.float32,shape=(None,X1.shape[1]),name='X')\n",
    "tfY=tf.placeholder(tf.float32,shape=(None,1),name='y')\n",
    "tfTheta=tf.Variable(tf.random_uniform([X1.shape[1],1],-1.0,1.0),name='theta')\n",
    "y_pred=tf.matmul(tfX,tfTheta,name='prediction')\n",
    "with tf.name_scope(\"loss\") as scope:\n",
    "    error=y_pred-tfY\n",
    "    mse=tf.reduce_mean(tf.square(error),name='mse')\n",
    "learning_rate=0.1\n",
    "op=tf.train.GradientDescentOptimizer(learning_rate=learning_rate)\n",
    "init=tf.global_variables_initializer()\n",
    "batch=100\n",
    "loop=X1.shape[0]/batch\n",
    "saver = tf.train.Saver()\n",
    "mse_summary=tf.summary.scalar('MSE',mse)\n",
    "file_writer=tf.summary.FileWriter(log_dir,tf.get_default_graph())\n",
    "with tf.Session() as sess:\n",
    "    sess.run(init)\n",
    "    training_op=op.minimize(mse)\n",
    "    for i in range(loop):\n",
    "        X_batch,y_batch=fetch_data(i,batch,X1,y)\n",
    "        sess.run(training_op,feed_dict={tfX:X_batch,tfY:y_batch})\n",
    "        if i%200==0:\n",
    "            saver.save(sess,'models/lm.ckpt')\n",
    "            summary_str=mse_summary.eval({tfX:X_batch,tfY:y_batch})\n",
    "            file_writer.add_summary(summary_str,i)\n",
    "    result=tfTheta.eval()\n",
    "    saver.save(sess,'models/lm_final.ckpt')\n",
    "print(result)\n",
    "file_writer.close()"
   ]
  },
  {
   "cell_type": "code",
   "execution_count": 48,
   "metadata": {},
   "outputs": [
    {
     "name": "stdout",
     "output_type": "stream",
     "text": [
      "(3, 5)\n",
      "(5, 1)\n"
     ]
    }
   ],
   "source": [
    "tf.reset_default_graph()\n",
    "now = datetime.utcnow().strftime(\"%Y%m%d%H%M%S\")\n",
    "log_root='tf_logs'\n",
    "log_dir='{}/run-{}'.format(log_root,now)\n",
    "file_writer=tf.summary.FileWriter(log_dir,tf.get_default_graph())\n",
    "def relu(X,threshold=0.0):\n",
    "    with tf.name_scope(\"relu\") as relu_scope:\n",
    "        w_shape=(int(X.get_shape()[1]),1)\n",
    "        w=tf.Variable(tf.random_normal(w_shape),name='weights')\n",
    "        b=tf.Variable(0.0,name='bias')\n",
    "        z=tf.add(tf.matmul(X,w),b)\n",
    "        print(X.get_shape())\n",
    "        print(w.get_shape())\n",
    "        return tf.maximum(z,threshold,name='max')\n",
    "threshold=tf.Variable(0.0,name='threshold')\n",
    "n_features=10\n",
    "X=tf.placeholder(shape=(None,))\n",
    "relu(X)\n",
    "file_writer.close()"
   ]
  },
  {
   "cell_type": "code",
   "execution_count": null,
   "metadata": {
    "collapsed": true
   },
   "outputs": [],
   "source": []
  }
 ],
 "metadata": {
  "kernelspec": {
   "display_name": "Python 3",
   "language": "python",
   "name": "python3"
  },
  "language_info": {
   "codemirror_mode": {
    "name": "ipython",
    "version": 3
   },
   "file_extension": ".py",
   "mimetype": "text/x-python",
   "name": "python",
   "nbconvert_exporter": "python",
   "pygments_lexer": "ipython3",
   "version": "3.6.4"
  }
 },
 "nbformat": 4,
 "nbformat_minor": 2
}
